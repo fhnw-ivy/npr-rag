{
 "cells": [
  {
   "cell_type": "markdown",
   "metadata": {},
   "source": [
    "# <a id='toc1_'></a>[Data Exploration](#toc0_)\n",
    "Within this Mini Challenge the goal is to build a RAG system in the context of \"clean technology\" (Cleantech).\n",
    "\n",
    "The dataset being used to retrieve information from is the [Cleantech Media Dataset](https://www.kaggle.com/datasets/jannalipenkova/cleantech-media-dataset) on Kaggle. "
   ]
  },
  {
   "cell_type": "markdown",
   "metadata": {},
   "source": [
    "**Table of contents**<a id='toc0_'></a>    \n",
    "\n",
    "  - [Setup](#toc1_1_1_)    \n",
    "  - [Getting an Overview](#toc1_2_)    \n",
    "  - [Content Structure](#toc1_3_)    \n",
    "    - [Frequency of Publishers](#toc1_3_1_)    \n",
    "  - [Taking a closer look at titles](#toc1_4_)    \n",
    "  - [Analyzing Languages](#toc1_5_)    \n",
    "\n",
    "<!-- vscode-jupyter-toc-config\n",
    "\tnumbering=false\n",
    "\tanchor=true\n",
    "\tflat=false\n",
    "\tminLevel=1\n",
    "\tmaxLevel=6\n",
    "\t/vscode-jupyter-toc-config -->\n",
    "<!-- THIS CELL WILL BE REPLACED ON TOC UPDATE. DO NOT WRITE YOUR TEXT IN THIS CELL -->"
   ]
  },
  {
   "cell_type": "markdown",
   "metadata": {},
   "source": [
    "### <a id='toc1_1_1_'></a>[Setup](#toc0_)"
   ]
  },
  {
   "cell_type": "code",
   "execution_count": 2,
   "metadata": {},
   "outputs": [],
   "source": [
    "import ast\n",
    "import pandas as pd\n",
    "import plotly.graph_objects as go\n",
    "from langdetect import detect, LangDetectException\n",
    "import numpy as np\n",
    "import seaborn as sns\n",
    "import matplotlib.pyplot as plt\n",
    "\n",
    "DATA_FOLDER = '../data/Cleantech Media Dataset'"
   ]
  },
  {
   "cell_type": "markdown",
   "metadata": {},
   "source": [
    "## <a id='toc1_2_'></a>[Getting an Overview](#toc0_)"
   ]
  },
  {
   "cell_type": "code",
   "execution_count": 3,
   "metadata": {},
   "outputs": [
    {
     "data": {
      "text/html": [
       "<div>\n",
       "<style scoped>\n",
       "    .dataframe tbody tr th:only-of-type {\n",
       "        vertical-align: middle;\n",
       "    }\n",
       "\n",
       "    .dataframe tbody tr th {\n",
       "        vertical-align: top;\n",
       "    }\n",
       "\n",
       "    .dataframe thead th {\n",
       "        text-align: right;\n",
       "    }\n",
       "</style>\n",
       "<table border=\"1\" class=\"dataframe\">\n",
       "  <thead>\n",
       "    <tr style=\"text-align: right;\">\n",
       "      <th></th>\n",
       "      <th>Unnamed: 0</th>\n",
       "      <th>title</th>\n",
       "      <th>date</th>\n",
       "      <th>author</th>\n",
       "      <th>content</th>\n",
       "      <th>domain</th>\n",
       "      <th>url</th>\n",
       "    </tr>\n",
       "  </thead>\n",
       "  <tbody>\n",
       "    <tr>\n",
       "      <th>0</th>\n",
       "      <td>1280</td>\n",
       "      <td>Qatar to Slash Emissions as LNG Expansion Adva...</td>\n",
       "      <td>2021-01-13</td>\n",
       "      <td>NaN</td>\n",
       "      <td>[\"Qatar Petroleum ( QP) is targeting aggressiv...</td>\n",
       "      <td>energyintel</td>\n",
       "      <td>https://www.energyintel.com/0000017b-a7dc-de4c...</td>\n",
       "    </tr>\n",
       "    <tr>\n",
       "      <th>1</th>\n",
       "      <td>1281</td>\n",
       "      <td>India Launches Its First 700 MW PHWR</td>\n",
       "      <td>2021-01-15</td>\n",
       "      <td>NaN</td>\n",
       "      <td>[\"• Nuclear Power Corp. of India Ltd. ( NPCIL)...</td>\n",
       "      <td>energyintel</td>\n",
       "      <td>https://www.energyintel.com/0000017b-a7dc-de4c...</td>\n",
       "    </tr>\n",
       "    <tr>\n",
       "      <th>2</th>\n",
       "      <td>1283</td>\n",
       "      <td>New Chapter for US-China Energy Trade</td>\n",
       "      <td>2021-01-20</td>\n",
       "      <td>NaN</td>\n",
       "      <td>[\"New US President Joe Biden took office this ...</td>\n",
       "      <td>energyintel</td>\n",
       "      <td>https://www.energyintel.com/0000017b-a7dc-de4c...</td>\n",
       "    </tr>\n",
       "    <tr>\n",
       "      <th>3</th>\n",
       "      <td>1284</td>\n",
       "      <td>Japan: Slow Restarts Cast Doubt on 2030 Energy...</td>\n",
       "      <td>2021-01-22</td>\n",
       "      <td>NaN</td>\n",
       "      <td>[\"The slow pace of Japanese reactor restarts c...</td>\n",
       "      <td>energyintel</td>\n",
       "      <td>https://www.energyintel.com/0000017b-a7dc-de4c...</td>\n",
       "    </tr>\n",
       "    <tr>\n",
       "      <th>4</th>\n",
       "      <td>1285</td>\n",
       "      <td>NYC Pension Funds to Divest Fossil Fuel Shares</td>\n",
       "      <td>2021-01-25</td>\n",
       "      <td>NaN</td>\n",
       "      <td>[\"Two of New York City's largest pension funds...</td>\n",
       "      <td>energyintel</td>\n",
       "      <td>https://www.energyintel.com/0000017b-a7dc-de4c...</td>\n",
       "    </tr>\n",
       "  </tbody>\n",
       "</table>\n",
       "</div>"
      ],
      "text/plain": [
       "   Unnamed: 0                                              title        date  \\\n",
       "0        1280  Qatar to Slash Emissions as LNG Expansion Adva...  2021-01-13   \n",
       "1        1281               India Launches Its First 700 MW PHWR  2021-01-15   \n",
       "2        1283              New Chapter for US-China Energy Trade  2021-01-20   \n",
       "3        1284  Japan: Slow Restarts Cast Doubt on 2030 Energy...  2021-01-22   \n",
       "4        1285     NYC Pension Funds to Divest Fossil Fuel Shares  2021-01-25   \n",
       "\n",
       "  author                                            content       domain  \\\n",
       "0    NaN  [\"Qatar Petroleum ( QP) is targeting aggressiv...  energyintel   \n",
       "1    NaN  [\"• Nuclear Power Corp. of India Ltd. ( NPCIL)...  energyintel   \n",
       "2    NaN  [\"New US President Joe Biden took office this ...  energyintel   \n",
       "3    NaN  [\"The slow pace of Japanese reactor restarts c...  energyintel   \n",
       "4    NaN  [\"Two of New York City's largest pension funds...  energyintel   \n",
       "\n",
       "                                                 url  \n",
       "0  https://www.energyintel.com/0000017b-a7dc-de4c...  \n",
       "1  https://www.energyintel.com/0000017b-a7dc-de4c...  \n",
       "2  https://www.energyintel.com/0000017b-a7dc-de4c...  \n",
       "3  https://www.energyintel.com/0000017b-a7dc-de4c...  \n",
       "4  https://www.energyintel.com/0000017b-a7dc-de4c...  "
      ]
     },
     "execution_count": 3,
     "metadata": {},
     "output_type": "execute_result"
    }
   ],
   "source": [
    "df = pd.read_csv(f'{DATA_FOLDER}/cleantech_media_dataset_v2_2024-02-23.csv')\n",
    "df.head()"
   ]
  },
  {
   "cell_type": "markdown",
   "metadata": {},
   "source": [
    "The dataset consists of `7` columns. The column `content` contains what looks like a list of *prechunked* segments. "
   ]
  },
  {
   "cell_type": "code",
   "execution_count": 4,
   "metadata": {},
   "outputs": [
    {
     "data": {
      "text/html": [
       "<div>\n",
       "<style scoped>\n",
       "    .dataframe tbody tr th:only-of-type {\n",
       "        vertical-align: middle;\n",
       "    }\n",
       "\n",
       "    .dataframe tbody tr th {\n",
       "        vertical-align: top;\n",
       "    }\n",
       "\n",
       "    .dataframe thead th {\n",
       "        text-align: right;\n",
       "    }\n",
       "</style>\n",
       "<table border=\"1\" class=\"dataframe\">\n",
       "  <thead>\n",
       "    <tr style=\"text-align: right;\">\n",
       "      <th></th>\n",
       "      <th>Total Count</th>\n",
       "      <th>NaN Count</th>\n",
       "      <th>NaN Percentage (%)</th>\n",
       "      <th>Unique Count</th>\n",
       "      <th>Unique Percentage (%)</th>\n",
       "    </tr>\n",
       "  </thead>\n",
       "  <tbody>\n",
       "    <tr>\n",
       "      <th>Unnamed: 0</th>\n",
       "      <td>9593</td>\n",
       "      <td>0</td>\n",
       "      <td>0.000000</td>\n",
       "      <td>9593</td>\n",
       "      <td>100.000000</td>\n",
       "    </tr>\n",
       "    <tr>\n",
       "      <th>title</th>\n",
       "      <td>9593</td>\n",
       "      <td>0</td>\n",
       "      <td>0.000000</td>\n",
       "      <td>9569</td>\n",
       "      <td>99.749818</td>\n",
       "    </tr>\n",
       "    <tr>\n",
       "      <th>date</th>\n",
       "      <td>9593</td>\n",
       "      <td>0</td>\n",
       "      <td>0.000000</td>\n",
       "      <td>967</td>\n",
       "      <td>10.080267</td>\n",
       "    </tr>\n",
       "    <tr>\n",
       "      <th>author</th>\n",
       "      <td>31</td>\n",
       "      <td>9562</td>\n",
       "      <td>99.676848</td>\n",
       "      <td>7</td>\n",
       "      <td>0.072970</td>\n",
       "    </tr>\n",
       "    <tr>\n",
       "      <th>content</th>\n",
       "      <td>9593</td>\n",
       "      <td>0</td>\n",
       "      <td>0.000000</td>\n",
       "      <td>9588</td>\n",
       "      <td>99.947879</td>\n",
       "    </tr>\n",
       "    <tr>\n",
       "      <th>domain</th>\n",
       "      <td>9593</td>\n",
       "      <td>0</td>\n",
       "      <td>0.000000</td>\n",
       "      <td>19</td>\n",
       "      <td>0.198061</td>\n",
       "    </tr>\n",
       "    <tr>\n",
       "      <th>url</th>\n",
       "      <td>9593</td>\n",
       "      <td>0</td>\n",
       "      <td>0.000000</td>\n",
       "      <td>9593</td>\n",
       "      <td>100.000000</td>\n",
       "    </tr>\n",
       "  </tbody>\n",
       "</table>\n",
       "</div>"
      ],
      "text/plain": [
       "            Total Count  NaN Count  NaN Percentage (%)  Unique Count  \\\n",
       "Unnamed: 0         9593          0            0.000000          9593   \n",
       "title              9593          0            0.000000          9569   \n",
       "date               9593          0            0.000000           967   \n",
       "author               31       9562           99.676848             7   \n",
       "content            9593          0            0.000000          9588   \n",
       "domain             9593          0            0.000000            19   \n",
       "url                9593          0            0.000000          9593   \n",
       "\n",
       "            Unique Percentage (%)  \n",
       "Unnamed: 0             100.000000  \n",
       "title                   99.749818  \n",
       "date                    10.080267  \n",
       "author                   0.072970  \n",
       "content                 99.947879  \n",
       "domain                   0.198061  \n",
       "url                    100.000000  "
      ]
     },
     "execution_count": 4,
     "metadata": {},
     "output_type": "execute_result"
    }
   ],
   "source": [
    "columns = df.columns\n",
    "total_counts = df.count()\n",
    "nan_counts = df.isna().sum()\n",
    "unique_counts = df.nunique()\n",
    "\n",
    "nan_percentages = (nan_counts / len(df)) * 100\n",
    "unique_percentages = (unique_counts / len(df)) * 100\n",
    "\n",
    "data = {\n",
    "    'Total Count': total_counts,\n",
    "    'NaN Count': nan_counts,\n",
    "    'NaN Percentage (%)': nan_percentages,\n",
    "    'Unique Count': unique_counts,\n",
    "    'Unique Percentage (%)': unique_percentages\n",
    "}\n",
    "summary_df = pd.DataFrame(data, index=columns)\n",
    "\n",
    "summary_df"
   ]
  },
  {
   "cell_type": "markdown",
   "metadata": {},
   "source": [
    "Some Key Takeaways of the columns summary are:\n",
    "- Most columns are fully populated with no missing values (NaN Count is 0 for most columns). This suggests the dataset is quite clean and comprehensive, except for the author column which only has `31` non-NaN values.\n",
    "- The `Unnamed: 0` (Id) and `url` columns are completely unique across all entries (Unique Percentage of 100%). This is a good sign especially for `Unnamed: 0` which seems to serve as a unique identifier for all documents in the dataset.\n",
    "- The title column is not completely unique (99.75% unique). An assumption would've been that it is 100% unique as we wouldn't want duplicate documents in the document corpus. \n",
    "- The content column also shows a high degree of uniqueness (99.95%), but not an entire uniqueness which also seems to be an unwanted observation.\n"
   ]
  },
  {
   "cell_type": "markdown",
   "metadata": {},
   "source": [
    "## <a id='toc1_3_'></a>[Content Structure](#toc0_)"
   ]
  },
  {
   "cell_type": "code",
   "execution_count": 12,
   "metadata": {},
   "outputs": [
    {
     "data": {
      "image/png": "[encoded data removed]",
      "text/plain": [
       "<Figure size 600x800 with 2 Axes>"
      ]
     },
     "metadata": {},
     "output_type": "display_data"
    }
   ],
   "source": [
    "df['content_list'] = df['content'].apply(ast.literal_eval)\n",
    "df['content_length'] = df['content_list'].apply(len)\n",
    "\n",
    "df['word_counts_per_chunk'] = df['content_list'].apply(lambda chunks: [len(chunk.split()) for chunk in chunks])\n",
    "all_word_counts = [word for sublist in df['word_counts_per_chunk'] for word in sublist]\n",
    "\n",
    "fig, axes = plt.subplots(2, 1, figsize=(6, 8))\n",
    "\n",
    "sns.histplot(df['content_length'], bins=50, ax=axes[0], zorder=2)\n",
    "axes[0].set_title(\"Distribution of Number of Chunks per Article\")\n",
    "axes[0].set_xlabel(\"Number of Chunks\")\n",
    "axes[0].set_ylabel(\"Frequency\")\n",
    "axes[0].grid(True, zorder=0)\n",
    "\n",
    "sns.histplot(all_word_counts, bins=150, ax=axes[1], zorder=2)\n",
    "axes[1].set_title(\"Distribution of Word Counts per Chunk\")\n",
    "axes[1].set_xlabel(\"Word Count\")\n",
    "axes[1].set_ylabel(\"Frequency\")\n",
    "axes[1].set_xlim(0, 500)\n",
    "axes[1].grid(True, zorder=0)\n",
    "\n",
    "plt.tight_layout()\n",
    "plt.show()"
   ]
  },
  {
   "cell_type": "markdown",
   "metadata": {},
   "source": [
    "- The distribution illustrating the number of chunks per article shows a right-skewed distribution. The majority of articles contain fewer than 20 chunks, with a sharp decline in frequency as the number of chunks increases. So most of the documents have around `10-14` chunks in their prechunked content list.\n",
    "\n",
    "- The second histogram shows an extremely right-skewed distribution of word counts per chunk, with a vast majority of chunks containing very few words — predominantly under 200 words per chunk.\n",
    "- The sharp drop-off after the first bin and the presence of a very long tail could mean that while most chunks are concise, there are a few chunks with significantly more content. These might represent detailed explanations or comprehensive sections within articles."
   ]
  },
  {
   "cell_type": "markdown",
   "metadata": {},
   "source": [
    "### <a id='toc1_3_1_'></a>[Frequency of Publishers](#toc0_)"
   ]
  },
  {
   "cell_type": "code",
   "execution_count": 17,
   "metadata": {},
   "outputs": [
    {
     "data": {
      "image/png": "[encoded data removed]",
      "text/plain": [
       "<Figure size 1000x600 with 1 Axes>"
      ]
     },
     "metadata": {},
     "output_type": "display_data"
    }
   ],
   "source": [
    "domain_freq = df['domain'].value_counts()\n",
    "domain_freq = domain_freq.reset_index()\n",
    "domain_freq.columns = ['domain', 'count']\n",
    "\n",
    "plt.figure(figsize=(10, 6))\n",
    "sns.barplot(x='domain', y='count', data=domain_freq)\n",
    "\n",
    "plt.title('Frequency of Publishers in Cleantech')\n",
    "plt.xlabel('Domain')\n",
    "plt.ylabel('Frequency')\n",
    "plt.xticks(rotation=45)\n",
    "\n",
    "plt.tight_layout()\n",
    "plt.show()"
   ]
  },
  {
   "cell_type": "markdown",
   "metadata": {},
   "source": [
    "There's quite a wide range of different publishers in the dataset. Cleantechnica seems to be the most frequent publisher in the set."
   ]
  },
  {
   "cell_type": "markdown",
   "metadata": {},
   "source": [
    "## <a id='toc1_4_'></a>[Taking a closer look at titles](#toc0_)\n",
    "As the summary has shown, only `9569` of the `9593` scraped resources in the dataset have a unique title. This subsection explores if these \"duplicate titles\" have an underlying error or if these occurences of duplicates can be ignored."
   ]
  },
  {
   "cell_type": "code",
   "execution_count": 169,
   "metadata": {},
   "outputs": [
    {
     "data": {
      "text/html": [
       "<div>\n",
       "<style scoped>\n",
       "    .dataframe tbody tr th:only-of-type {\n",
       "        vertical-align: middle;\n",
       "    }\n",
       "\n",
       "    .dataframe tbody tr th {\n",
       "        vertical-align: top;\n",
       "    }\n",
       "\n",
       "    .dataframe thead th {\n",
       "        text-align: right;\n",
       "    }\n",
       "</style>\n",
       "<table border=\"1\" class=\"dataframe\">\n",
       "  <thead>\n",
       "    <tr style=\"text-align: right;\">\n",
       "      <th></th>\n",
       "      <th>title</th>\n",
       "      <th>count</th>\n",
       "    </tr>\n",
       "  </thead>\n",
       "  <tbody>\n",
       "    <tr>\n",
       "      <th>0</th>\n",
       "      <td>Cleantech Thought Leaders Series</td>\n",
       "      <td>5</td>\n",
       "    </tr>\n",
       "    <tr>\n",
       "      <th>1</th>\n",
       "      <td>About David J. Cross</td>\n",
       "      <td>5</td>\n",
       "    </tr>\n",
       "    <tr>\n",
       "      <th>2</th>\n",
       "      <td>Cleantech Insights from Industry Series</td>\n",
       "      <td>4</td>\n",
       "    </tr>\n",
       "    <tr>\n",
       "      <th>3</th>\n",
       "      <td>Truss, Johnson Join Rebellion Against Sunak fo...</td>\n",
       "      <td>2</td>\n",
       "    </tr>\n",
       "    <tr>\n",
       "      <th>4</th>\n",
       "      <td>Staggering potential in next-gen building bloc...</td>\n",
       "      <td>2</td>\n",
       "    </tr>\n",
       "    <tr>\n",
       "      <th>5</th>\n",
       "      <td>Royal Opera House drops BP as sponsor after 33...</td>\n",
       "      <td>2</td>\n",
       "    </tr>\n",
       "    <tr>\n",
       "      <th>6</th>\n",
       "      <td>Macquarie targets North Sea as the green energ...</td>\n",
       "      <td>2</td>\n",
       "    </tr>\n",
       "    <tr>\n",
       "      <th>7</th>\n",
       "      <td>BEIS mulls ringfenced CfD support for geotherm...</td>\n",
       "      <td>2</td>\n",
       "    </tr>\n",
       "    <tr>\n",
       "      <th>8</th>\n",
       "      <td>Five ways for the energy industry to shift the...</td>\n",
       "      <td>2</td>\n",
       "    </tr>\n",
       "    <tr>\n",
       "      <th>9</th>\n",
       "      <td>Key trends in UK renewables and what to expect...</td>\n",
       "      <td>2</td>\n",
       "    </tr>\n",
       "    <tr>\n",
       "      <th>10</th>\n",
       "      <td>Green hydrogen seen competing with LNG within ...</td>\n",
       "      <td>2</td>\n",
       "    </tr>\n",
       "    <tr>\n",
       "      <th>11</th>\n",
       "      <td>Aberdeen’ s NZTC plans national centre for geo...</td>\n",
       "      <td>2</td>\n",
       "    </tr>\n",
       "    <tr>\n",
       "      <th>12</th>\n",
       "      <td>Liz Truss opposes solar panels on farmland, Do...</td>\n",
       "      <td>2</td>\n",
       "    </tr>\n",
       "    <tr>\n",
       "      <th>13</th>\n",
       "      <td>XR goes big on fake oil in protests at SLB, In...</td>\n",
       "      <td>2</td>\n",
       "    </tr>\n",
       "    <tr>\n",
       "      <th>14</th>\n",
       "      <td>Top Climate Stories 2021</td>\n",
       "      <td>2</td>\n",
       "    </tr>\n",
       "    <tr>\n",
       "      <th>15</th>\n",
       "      <td>GE blocked from selling huge offshore turbine ...</td>\n",
       "      <td>2</td>\n",
       "    </tr>\n",
       "  </tbody>\n",
       "</table>\n",
       "</div>"
      ],
      "text/plain": [
       "                                                title  count\n",
       "0                    Cleantech Thought Leaders Series      5\n",
       "1                                About David J. Cross      5\n",
       "2             Cleantech Insights from Industry Series      4\n",
       "3   Truss, Johnson Join Rebellion Against Sunak fo...      2\n",
       "4   Staggering potential in next-gen building bloc...      2\n",
       "5   Royal Opera House drops BP as sponsor after 33...      2\n",
       "6   Macquarie targets North Sea as the green energ...      2\n",
       "7   BEIS mulls ringfenced CfD support for geotherm...      2\n",
       "8   Five ways for the energy industry to shift the...      2\n",
       "9   Key trends in UK renewables and what to expect...      2\n",
       "10  Green hydrogen seen competing with LNG within ...      2\n",
       "11  Aberdeen’ s NZTC plans national centre for geo...      2\n",
       "12  Liz Truss opposes solar panels on farmland, Do...      2\n",
       "13  XR goes big on fake oil in protests at SLB, In...      2\n",
       "14                           Top Climate Stories 2021      2\n",
       "15  GE blocked from selling huge offshore turbine ...      2"
      ]
     },
     "execution_count": 169,
     "metadata": {},
     "output_type": "execute_result"
    }
   ],
   "source": [
    "title_freq = df['title'].value_counts()\n",
    "title_freq = title_freq[title_freq > 1]\n",
    "title_freq = title_freq.reset_index()\n",
    "title_freq.columns = ['title', 'count']\n",
    "\n",
    "title_freq"
   ]
  },
  {
   "cell_type": "markdown",
   "metadata": {},
   "source": [
    "The dataframe shows that there are `16` documents which at least have one duplicate or document with the same name.\n",
    "\n",
    "Now, lets take a closer look at the contents of the suspected duplicate documents."
   ]
  },
  {
   "cell_type": "code",
   "execution_count": 170,
   "metadata": {},
   "outputs": [
    {
     "data": {
      "text/html": [
       "<div>\n",
       "<style scoped>\n",
       "    .dataframe tbody tr th:only-of-type {\n",
       "        vertical-align: middle;\n",
       "    }\n",
       "\n",
       "    .dataframe tbody tr th {\n",
       "        vertical-align: top;\n",
       "    }\n",
       "\n",
       "    .dataframe thead th {\n",
       "        text-align: right;\n",
       "    }\n",
       "</style>\n",
       "<table border=\"1\" class=\"dataframe\">\n",
       "  <thead>\n",
       "    <tr style=\"text-align: right;\">\n",
       "      <th></th>\n",
       "      <th>title</th>\n",
       "      <th>duplicated_count</th>\n",
       "    </tr>\n",
       "  </thead>\n",
       "  <tbody>\n",
       "    <tr>\n",
       "      <th>0</th>\n",
       "      <td>Cleantech Thought Leaders Series</td>\n",
       "      <td>30</td>\n",
       "    </tr>\n",
       "    <tr>\n",
       "      <th>1</th>\n",
       "      <td>About David J. Cross</td>\n",
       "      <td>48</td>\n",
       "    </tr>\n",
       "    <tr>\n",
       "      <th>2</th>\n",
       "      <td>Cleantech Insights from Industry Series</td>\n",
       "      <td>21</td>\n",
       "    </tr>\n",
       "    <tr>\n",
       "      <th>3</th>\n",
       "      <td>Truss, Johnson Join Rebellion Against Sunak fo...</td>\n",
       "      <td>9</td>\n",
       "    </tr>\n",
       "    <tr>\n",
       "      <th>4</th>\n",
       "      <td>Staggering potential in next-gen building bloc...</td>\n",
       "      <td>39</td>\n",
       "    </tr>\n",
       "    <tr>\n",
       "      <th>5</th>\n",
       "      <td>Royal Opera House drops BP as sponsor after 33...</td>\n",
       "      <td>10</td>\n",
       "    </tr>\n",
       "    <tr>\n",
       "      <th>6</th>\n",
       "      <td>Macquarie targets North Sea as the green energ...</td>\n",
       "      <td>12</td>\n",
       "    </tr>\n",
       "    <tr>\n",
       "      <th>7</th>\n",
       "      <td>BEIS mulls ringfenced CfD support for geotherm...</td>\n",
       "      <td>17</td>\n",
       "    </tr>\n",
       "    <tr>\n",
       "      <th>8</th>\n",
       "      <td>Five ways for the energy industry to shift the...</td>\n",
       "      <td>15</td>\n",
       "    </tr>\n",
       "    <tr>\n",
       "      <th>9</th>\n",
       "      <td>Key trends in UK renewables and what to expect...</td>\n",
       "      <td>10</td>\n",
       "    </tr>\n",
       "    <tr>\n",
       "      <th>10</th>\n",
       "      <td>Green hydrogen seen competing with LNG within ...</td>\n",
       "      <td>4</td>\n",
       "    </tr>\n",
       "    <tr>\n",
       "      <th>11</th>\n",
       "      <td>Aberdeen’ s NZTC plans national centre for geo...</td>\n",
       "      <td>15</td>\n",
       "    </tr>\n",
       "    <tr>\n",
       "      <th>12</th>\n",
       "      <td>Liz Truss opposes solar panels on farmland, Do...</td>\n",
       "      <td>13</td>\n",
       "    </tr>\n",
       "    <tr>\n",
       "      <th>13</th>\n",
       "      <td>XR goes big on fake oil in protests at SLB, In...</td>\n",
       "      <td>12</td>\n",
       "    </tr>\n",
       "    <tr>\n",
       "      <th>14</th>\n",
       "      <td>Top Climate Stories 2021</td>\n",
       "      <td>3</td>\n",
       "    </tr>\n",
       "    <tr>\n",
       "      <th>15</th>\n",
       "      <td>GE blocked from selling huge offshore turbine ...</td>\n",
       "      <td>6</td>\n",
       "    </tr>\n",
       "  </tbody>\n",
       "</table>\n",
       "</div>"
      ],
      "text/plain": [
       "                                                title  duplicated_count\n",
       "0                    Cleantech Thought Leaders Series                30\n",
       "1                                About David J. Cross                48\n",
       "2             Cleantech Insights from Industry Series                21\n",
       "3   Truss, Johnson Join Rebellion Against Sunak fo...                 9\n",
       "4   Staggering potential in next-gen building bloc...                39\n",
       "5   Royal Opera House drops BP as sponsor after 33...                10\n",
       "6   Macquarie targets North Sea as the green energ...                12\n",
       "7   BEIS mulls ringfenced CfD support for geotherm...                17\n",
       "8   Five ways for the energy industry to shift the...                15\n",
       "9   Key trends in UK renewables and what to expect...                10\n",
       "10  Green hydrogen seen competing with LNG within ...                 4\n",
       "11  Aberdeen’ s NZTC plans national centre for geo...                15\n",
       "12  Liz Truss opposes solar panels on farmland, Do...                13\n",
       "13  XR goes big on fake oil in protests at SLB, In...                12\n",
       "14                           Top Climate Stories 2021                 3\n",
       "15  GE blocked from selling huge offshore turbine ...                 6"
      ]
     },
     "execution_count": 170,
     "metadata": {},
     "output_type": "execute_result"
    }
   ],
   "source": [
    "def calculate_all_duplicate_document_contents(df, title_freq):\n",
    "    duplicates_counts = {}\n",
    "\n",
    "    for title in title_freq['title']:\n",
    "        duplicate_contents = df[df['title'] == title]['content']\n",
    "        duplicate_contents = duplicate_contents.apply(ast.literal_eval)\n",
    "        duplicate_contents = duplicate_contents.explode()\n",
    "        duplicates_count = duplicate_contents.duplicated().sum()\n",
    "        duplicates_counts[title] = duplicates_count\n",
    "\n",
    "    return pd.DataFrame(list(duplicates_counts.items()), columns=['title', 'duplicated_count'])\n",
    "\n",
    "\n",
    "duplicated_title_contents = calculate_all_duplicate_document_contents(df, title_freq)\n",
    "\n",
    "duplicated_title_contents"
   ]
  },
  {
   "cell_type": "markdown",
   "metadata": {},
   "source": [
    "The function yielded that the duplicate observations of title contain actual duplicate information on chunk-basis.\n",
    "\n",
    "This could mean that there are even more duplicate chunks under titles that aren't duplicated, so lets next look at that:"
   ]
  },
  {
   "cell_type": "code",
   "execution_count": 171,
   "metadata": {},
   "outputs": [
    {
     "name": "stdout",
     "output_type": "stream",
     "text": [
      "Total duplicated contents: 57929\n",
      "Total duplicated contents from duplicated titles: 264\n",
      "Total duplicated contents from non-duplicated titles: 57665\n",
      "Percentage of duplicated contents: 31.93%\n"
     ]
    }
   ],
   "source": [
    "df['content'] = df['content'].apply(ast.literal_eval)\n",
    "df_exploded_contents = df.explode('content')['content']\n",
    "\n",
    "print(f'Total duplicated contents: {df_exploded_contents.duplicated().sum()}'\n",
    "      f'\\nTotal duplicated contents from duplicated titles: {duplicated_title_contents[\"duplicated_count\"].sum()}'\n",
    "      f'\\nTotal duplicated contents from non-duplicated titles: {df_exploded_contents.duplicated().sum() - duplicated_title_contents[\"duplicated_count\"].sum()}'\n",
    "      f'\\nPercentage of duplicated contents: {df_exploded_contents.duplicated().sum() / len(df_exploded_contents) * 100:.2f}%')"
   ]
  },
  {
   "cell_type": "markdown",
   "metadata": {},
   "source": [
    "As the result shows, another `57665` chunks on top of the `264` duplicates inside the duplicate-title-occurences emerged. THis is almost a third of all prechunked contents. To see and validate what these duplicates contain, the next step would be to get a closer look at what those chunks contain."
   ]
  },
  {
   "cell_type": "code",
   "execution_count": 172,
   "metadata": {},
   "outputs": [
    {
     "data": {
      "text/html": [
       "<div>\n",
       "<style scoped>\n",
       "    .dataframe tbody tr th:only-of-type {\n",
       "        vertical-align: middle;\n",
       "    }\n",
       "\n",
       "    .dataframe tbody tr th {\n",
       "        vertical-align: top;\n",
       "    }\n",
       "\n",
       "    .dataframe thead th {\n",
       "        text-align: right;\n",
       "    }\n",
       "</style>\n",
       "<table border=\"1\" class=\"dataframe\">\n",
       "  <thead>\n",
       "    <tr style=\"text-align: right;\">\n",
       "      <th></th>\n",
       "      <th>content</th>\n",
       "      <th>count</th>\n",
       "    </tr>\n",
       "  </thead>\n",
       "  <tbody>\n",
       "    <tr>\n",
       "      <th>0</th>\n",
       "      <td>Copyright © 2023 CleanTechnica. The content pr...</td>\n",
       "      <td>1861</td>\n",
       "    </tr>\n",
       "    <tr>\n",
       "      <th>1</th>\n",
       "      <td>This International Women's Day, AZoCleantech s...</td>\n",
       "      <td>1629</td>\n",
       "    </tr>\n",
       "    <tr>\n",
       "      <th>2</th>\n",
       "      <td>AZoCleantech recently spoke to entrepreneur Si...</td>\n",
       "      <td>1628</td>\n",
       "    </tr>\n",
       "    <tr>\n",
       "      <th>3</th>\n",
       "      <td>In this interview, AZoCleantech speaks with Te...</td>\n",
       "      <td>1628</td>\n",
       "    </tr>\n",
       "    <tr>\n",
       "      <th>4</th>\n",
       "      <td>The Sensi+™ is a laser-based analyzer used for...</td>\n",
       "      <td>1627</td>\n",
       "    </tr>\n",
       "    <tr>\n",
       "      <th>5</th>\n",
       "      <td>The Cypher ES AFM from Oxford Instruments Asyl...</td>\n",
       "      <td>1627</td>\n",
       "    </tr>\n",
       "    <tr>\n",
       "      <th>6</th>\n",
       "      <td>By clicking `` Allow All '' you agree to the s...</td>\n",
       "      <td>1627</td>\n",
       "    </tr>\n",
       "    <tr>\n",
       "      <th>7</th>\n",
       "      <td>The Vocus CI-TOF from TOFWERK provides real-ti...</td>\n",
       "      <td>1627</td>\n",
       "    </tr>\n",
       "    <tr>\n",
       "      <th>8</th>\n",
       "      <td>Advertise with CleanTechnica to get your compa...</td>\n",
       "      <td>1505</td>\n",
       "    </tr>\n",
       "    <tr>\n",
       "      <th>9</th>\n",
       "      <td>The cookie settings on this website are set to...</td>\n",
       "      <td>1206</td>\n",
       "    </tr>\n",
       "  </tbody>\n",
       "</table>\n",
       "</div>"
      ],
      "text/plain": [
       "                                             content  count\n",
       "0  Copyright © 2023 CleanTechnica. The content pr...   1861\n",
       "1  This International Women's Day, AZoCleantech s...   1629\n",
       "2  AZoCleantech recently spoke to entrepreneur Si...   1628\n",
       "3  In this interview, AZoCleantech speaks with Te...   1628\n",
       "4  The Sensi+™ is a laser-based analyzer used for...   1627\n",
       "5  The Cypher ES AFM from Oxford Instruments Asyl...   1627\n",
       "6  By clicking `` Allow All '' you agree to the s...   1627\n",
       "7  The Vocus CI-TOF from TOFWERK provides real-ti...   1627\n",
       "8  Advertise with CleanTechnica to get your compa...   1505\n",
       "9  The cookie settings on this website are set to...   1206"
      ]
     },
     "execution_count": 172,
     "metadata": {},
     "output_type": "execute_result"
    }
   ],
   "source": [
    "duplicated_content_freq = df_exploded_contents.value_counts()\n",
    "duplicated_content_freq = duplicated_content_freq[duplicated_content_freq > 1]\n",
    "duplicated_content_freq = duplicated_content_freq.reset_index()\n",
    "duplicated_content_freq.columns = ['content', 'count']\n",
    "\n",
    "duplicated_content_freq.head(10)"
   ]
  },
  {
   "cell_type": "markdown",
   "metadata": {},
   "source": [
    "The excerpt from the duplicate contents shows that the duplicates mostly stem from sections of websites that got scraped, like **Cookie Banners** or the **Copyright Notice** of CleanTechnica.\n",
    "\n",
    "Additionally there are contents which contain information which could be important for retrieval. This means inside the `Preprocessor` we will have to drop duplicates but make sure to keep at least one observation since they still contain valuable and queryable information."
   ]
  },
  {
   "cell_type": "markdown",
   "metadata": {},
   "source": [
    "## <a id='toc1_5_'></a>[Analyzing Languages](#toc0_)\n",
    "Since the data seems to mostly be scraped from the web it makes sense to take a look if there are any other recorded languages of contents that might need to get removed to not build in accidental confusion for retrieval."
   ]
  },
  {
   "cell_type": "code",
   "execution_count": 173,
   "metadata": {},
   "outputs": [
    {
     "data": {
      "text/plain": [
       "language\n",
       "en    9588\n",
       "de       4\n",
       "ru       1\n",
       "Name: count, dtype: int64"
      ]
     },
     "execution_count": 173,
     "metadata": {},
     "output_type": "execute_result"
    }
   ],
   "source": [
    "def safe_detect(text):\n",
    "    text = str(text)\n",
    "    try:\n",
    "        return detect(text)\n",
    "    except LangDetectException:\n",
    "        return np.nan\n",
    "\n",
    "\n",
    "df['language'] = df['content'].apply(safe_detect)\n",
    "df['language'].value_counts()"
   ]
  },
  {
   "cell_type": "code",
   "execution_count": 174,
   "metadata": {},
   "outputs": [
    {
     "data": {
      "text/plain": [
       "1251    [EUROSOLAR veranstaltet vom 16. bis 18. März 2...\n",
       "1271    [EUROSOLAR, the European Association for Renew...\n",
       "1273    [Die nun zu Ende gegangene „ Internationale Er...\n",
       "1274    [Photos from the IRES ( Copyright EUROSOLAR e....\n",
       "2489    [© SMS group liefert Prozesstechnologie für da...\n",
       "Name: content, dtype: object"
      ]
     },
     "execution_count": 174,
     "metadata": {},
     "output_type": "execute_result"
    }
   ],
   "source": [
    "lang_anomlaies = df[(df['language'] == 'ru') | (df['language'] == 'de')]\n",
    "lang_anomlaies['content']"
   ]
  },
  {
   "cell_type": "markdown",
   "metadata": {},
   "source": [
    "As the `5` \"language anomalies\" show, there seem to also be documents that still contain english.\n",
    "\n",
    "In this following step we will therefore look if only certain chunks inside these documents contain a non-english language."
   ]
  },
  {
   "cell_type": "code",
   "execution_count": 175,
   "metadata": {},
   "outputs": [
    {
     "name": "stdout",
     "output_type": "stream",
     "text": [
      "Number of anomalies detected: 47\n",
      "Number of effective anomaly chunks: 23 (48.94%)\n"
     ]
    }
   ],
   "source": [
    "non_english_chunks = []\n",
    "\n",
    "for lang_anomaly in lang_anomlaies['Unnamed: 0'].to_list():\n",
    "    content = df[df['Unnamed: 0'] == lang_anomaly]['content']\n",
    "    for chunk in range(len(content.values[0])):\n",
    "        if detect(content.values[0][chunk]) != 'en':\n",
    "            non_english_chunks.append((lang_anomaly, chunk))\n",
    "\n",
    "print(f'Number of anomalies detected: {len(lang_anomlaies.explode(\"content\"))}')\n",
    "print(f'Number of effective anomaly chunks: {len(non_english_chunks)} ({len(non_english_chunks) / len(lang_anomlaies.explode(\"content\")) * 100:.2f}%)')"
   ]
  },
  {
   "cell_type": "markdown",
   "metadata": {},
   "source": [
    "The results show that **not every** chunk inside the non-english detected documents is of that anomaly language."
   ]
  }
 ],
 "metadata": {
  "kernelspec": {
   "display_name": ".venv",
   "language": "python",
   "name": "python3"
  },
  "language_info": {
   "codemirror_mode": {
    "name": "ipython",
    "version": 3
   },
   "file_extension": ".py",
   "mimetype": "text/x-python",
   "name": "python",
   "nbconvert_exporter": "python",
   "pygments_lexer": "ipython3",
   "version": "3.11.5"
  }
 },
 "nbformat": 4,
 "nbformat_minor": 2
}
