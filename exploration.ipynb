{
 "cells": [
  {
   "cell_type": "code",
   "execution_count": 143,
   "metadata": {},
   "outputs": [],
   "source": [
    "import pandas as pd\n",
    "import plotly.graph_objects as go\n",
    "\n",
    "DATA_FOLDER = './data/Cleantech Media Dataset'"
   ]
  },
  {
   "cell_type": "code",
   "execution_count": 144,
   "metadata": {},
   "outputs": [],
   "source": [
    "df = pd.read_csv(f'{DATA_FOLDER}/cleantech_media_dataset_v2_2024-02-23.csv')"
   ]
  },
  {
   "cell_type": "code",
   "execution_count": 145,
   "metadata": {},
   "outputs": [
    {
     "data": {
      "text/html": [
       "<div>\n",
       "<style scoped>\n",
       "    .dataframe tbody tr th:only-of-type {\n",
       "        vertical-align: middle;\n",
       "    }\n",
       "\n",
       "    .dataframe tbody tr th {\n",
       "        vertical-align: top;\n",
       "    }\n",
       "\n",
       "    .dataframe thead th {\n",
       "        text-align: right;\n",
       "    }\n",
       "</style>\n",
       "<table border=\"1\" class=\"dataframe\">\n",
       "  <thead>\n",
       "    <tr style=\"text-align: right;\">\n",
       "      <th></th>\n",
       "      <th>Unnamed: 0</th>\n",
       "      <th>title</th>\n",
       "      <th>date</th>\n",
       "      <th>author</th>\n",
       "      <th>content</th>\n",
       "      <th>domain</th>\n",
       "      <th>url</th>\n",
       "    </tr>\n",
       "  </thead>\n",
       "  <tbody>\n",
       "    <tr>\n",
       "      <th>0</th>\n",
       "      <td>1280</td>\n",
       "      <td>Qatar to Slash Emissions as LNG Expansion Advances</td>\n",
       "      <td>2021-01-13</td>\n",
       "      <td>NaN</td>\n",
       "      <td>[\"Qatar Petroleum ( QP) is targeting aggressive cuts in its greenhouse gas emissions as it prepares to launch Phase 2 of its planned 48 million ton per year LNG expansion. In its latest Sustainability Report published on Wednesday, QP said its goals include `` reducing the emissions intensity of Qatar's LNG facilities by 25% and of its upstream facilities by at least 15%. '' The company is also aiming to reduce gas flaring intensity across its upstream facilities by more than 75% and has raised its carbon capture and storage ambitions from 5 million tons/yr to 7 million tons/yr by 2027. About 2.2 million tons/yr of the carbon capture goal will come from the 32 million ton/yr Phase 1 of the LNG expansion, also known as the North Field East project. A further 1.1 million tons/yr will come from Phase 2, known as the North Field South project, which will raise Qatar's LNG capacity by a further 16 million tons/yr. Qatar currently has an LNG production capacity of around 78 million tons/yr and is eyeing a phased expansion to 126 million tons/yr. QP says it should be able to eliminate routine gas flaring by 2030, with methane emissions limited `` by setting a methane intensity target of 0.2% across all facilities by 2025. '' The company also plans to build some 1.6 gigawatts of solar energy capacity by 2025, half of which should come from the Siraj solar power project next year ( EIF Jan.22'20). Until this month, there had been little news about Phase 2 of Qatar's massive LNG expansion. But McDermott International said last week that it had been awarded the front-end engineering and design contract for five offshore wellhead platforms ( LNGI Jan.12'21). Bids for construction of all four trains for Phase 1 of the LNG expansion were submitted in September ( LNGI Sep.15'20). But QP judged them to be too expensive and none met its targeted 50-week construction schedule. Shortlisted contractors were asked to look for cost savings and submit new bids. The contract, which consultancy Rystad estimates to be worth around $ 35 billion, is expected to be awarded by Mar. 31. Shortly after the construction contract is awarded, QP is expected to select foreign investments partners to take stakes of up to 30% in the Phase 1 trains. Exxon Mobil, Royal Dutch Shell, Total, Chevron, ConocoPhillips and Eni have been shortlisted. QP has repeatedly said that it is prepared to proceed without international investment partners if it determines that the offers it receives are not sufficiently attractive. But the shortlisted companies are expected to bid aggressively for what is expected to be the world's lowest-cost and most environmentally friendly LNG ( LNGI Nov.9'20). Rafiq Latta, Nicosia\"]</td>\n",
       "      <td>energyintel</td>\n",
       "      <td>https://www.energyintel.com/0000017b-a7dc-de4c-a17b-e7de685b0000</td>\n",
       "    </tr>\n",
       "    <tr>\n",
       "      <th>1</th>\n",
       "      <td>1281</td>\n",
       "      <td>India Launches Its First 700 MW PHWR</td>\n",
       "      <td>2021-01-15</td>\n",
       "      <td>NaN</td>\n",
       "      <td>[\"• Nuclear Power Corp. of India Ltd. ( NPCIL) synchronized Kakrapar-3 in the western state of Gujarat to the grid on Jan. 10, making it the first of India's 700 megawatt indigenously developed pressurized heavy water reactors ( PHWRs) to reach this milestone ( NIW Sep.18'20). The news was tweeted by Anil Kakodkar, former chairman of the Department of Atomic Energy, who said that 15 more units of the same design will follow. Three of these are currently under construction -- another at Kakrapar, and two at NPCIL's Rajasthan plant. They will be followed by two at the greenfield Gorakhpur site in Haryana, and then a planned 10-unit fleet at Gorakhpur and three other sites. Kakrapar-3 was five years past its 2015 completion date, achieving criticality in July 2020, 10 years after construction began. Commercial operations are slated to begin in March, according to NPCIL's website, although that deadline will likely not be met. India's nuclear suppliers should be feeling some relief over Kakrapar-3's start-up, although order flows will depend on how quickly NPCIL can get other projects moving, and the course of the Covid-19 pandemic ( NIW Dec.11'20). • The inaugural US small modular reactor ( SMR) project has moved into its second phase with Fluor and its NuScale subsidiary announcing Jan. 11 that per agreements with the Utah Associated Municipal Power Systems ( Uamps) they `` are to develop higher maturity cost estimates and initial project planning work for the licensing, manufacturing and construction of the CFPP [ Carbon Free Power Project ]. '' However, Uamps confirmed to Energy Intelligence that committed offtake now stands at just 100 MW for what was planned as a 750 MW, 12-module SMR plant. With NuScale providing additional options for `` plant size configuration, Uamps could decide to build a plant ranging from 4 modules ( 308 megawatts) to 12 modules ( 924 megawatts), '' a Uamps spokesman wrote in an email. In early 2019 Uamps boasted offtake commitments of 230 MW. But that included US Department of Energy ( DOE) plans to take output from up to two 60 MW modules. Those plans ended last year with the DOE instead offering $ 1.35 billion in multiyear funding for the project. Eight Uamps subscribers dropped out of the project and another two offtakers substantially reduced their commitments. • Across the ocean NuScale has launched a play for the UK market via a memorandum of understanding with start-up clean energy firm Shearwater Energy to explore the deployment of hybrid SMR and wind energy projects across the country. The companies are hoping to score a flagship site at or near the Wylfa plant in north Wales, where last year Hitachi decided to wind down its advanced boiling water reactor ( ABWR) project development company ( NIW Sep.18'20). A Wylfa SMR-wind plant `` will provide 3 GW of reliable, zero-carbon electricity at a fraction of the cost of a conventional nuclear power station with surplus energy generation focused on the production of hydrogen to support the transport sector’ s transition to low-carbon fuels, '' Shearwater CEO Simon Forster said in a Jan. 12 statement. But Shearwater was only incorporated in 2018, and any way forward for the project is likely to depend on suitably attractive economics, a UK government nuclear subsidy regime, plus locking in a site that may be grabbed by another interested consortium first ( related).\"]</td>\n",
       "      <td>energyintel</td>\n",
       "      <td>https://www.energyintel.com/0000017b-a7dc-de4c-a17b-e7de6c710001</td>\n",
       "    </tr>\n",
       "    <tr>\n",
       "      <th>2</th>\n",
       "      <td>1283</td>\n",
       "      <td>New Chapter for US-China Energy Trade</td>\n",
       "      <td>2021-01-20</td>\n",
       "      <td>NaN</td>\n",
       "      <td>[\"New US President Joe Biden took office this week with the US-China relationship at its worst in decades. Energy has come to play a bigger role in that relationship than ever before, and rising Chinese imports of US oil and LNG could serve as the foundation for fresh discussions on trade -- one of the few areas where US-China communications have not completely broken down. But tackling climate change, a priority for Biden unlike predecessor Donald Trump, may offer the easiest and biggest opportunity for cooperation between the two powers now. Due to a bipartisan perception that China’ s economic, geopolitical and technological rise poses an existential threat to the US, a Biden administration is unlikely to soften the tone on Beijing. Trump demanded bigger purchases of US energy products by China as part of a Phase 1 trade deal before he would lift US tariffs on Chinese products. After Biden won the November US presidential election, Trump moved into high gear to crack down on the perceived Chinese military threat. In the energy sphere, this included sanctions against China National Offshore Oil Corp. ( CNOOC), which was characterized as a Chinese military-controlled company and targeted for aggressive encroachments in disputed waters of the South China Sea. After banning US investors from trading CNOOC shares in early December, the administration’ s parting shot last week was to ban the sale of US technology to CNOOC and its subsidiaries. With many exemptions in place, the measure may seem limited in scope but could hinder CNOOC’ s ability to develop its domestic offshore resources, unless Biden reverses it. Last year’ s Phase 1 trade deal entailed China spending an unrealistically high $ 18.5 billion above the 2017 baseline on US energy products, a goal made all the more impossible by China’ s demand plunge from the coronavirus and sharply lower oil prices. But Beijing has shown goodwill, withdrawing import tariffs on US liquefied petroleum gas ( LPG), crude and LNG and encouraging oil purchases through unofficial subsidies last summer ( PIW Aug.14'20). The 2021 energy import targets are even more daunting than the 2020 goals, and Beijing is no more inclined than Washington to come to the negotiating table with a gift in hand. The future trajectory of China's imports of US energy will largely depend on whether they make commercial sense while Beijing assesses how Biden approaches the relationship. China’ s imports of US crude jumped 211% in 2020 to a record 396,000 barrels per day, a trade worth $ 6.27 billion, according to the Chinese customs administration. Meanwhile, imports of US LNG reached 3.32 million tons, worth $ 1.11 billion, up from a lone shipment in 2019, and 4.2 million tons of US LPG was discharged in China, for $ 1.74 billion, up from zero in 2019. The total value of these energy imports was $ 9.12 billion -- equal to the 2017 baseline. This leaves China with the daunting task of importing an extra $ 52.4 billion of US energy products this year to meet its Phase 1 target. Shipping data suggest China’ s US crude imports at 407,000 b/d for January, down from 851,000 b/d in December, according to Kpler. “ They are going to wait and see the policy under the Biden administration, ” said Energy Aspects analyst Yuntao Liu. Shipping data suggest China’ s US crude imports at 407,000 b/d for January, down from 851,000 b/d in December, according to Kpler. US LNG sales to China have fared better with 1.1 million tons expected in Chinese ports this month, slightly more than in December, but this is more likely the result of freezing temperatures than driven by politics ( related). With the dramatic change in tone in the White House on climate change, symbolized by the US rejoining the Paris climate accord this week, opportunities may widen beyond the oil and gas trade that could help rebuild dialogue between Washington and Beijing. China stole a march on the US in September in announcing plans to be carbon-neutral by 2060. Whereas Trump, a staunch supporter for fossil fuels, shrugged off climate change entirely, Biden has an ambitious green agenda that targets carbon neutrality by 2050. But old trade gripes could surface here, too, as competition to gain first-mover advantage and develop leading green technologies intensifies ( PIW Jan.15'21).\"]</td>\n",
       "      <td>energyintel</td>\n",
       "      <td>https://www.energyintel.com/0000017b-a7dc-de4c-a17b-e7de735a0000</td>\n",
       "    </tr>\n",
       "    <tr>\n",
       "      <th>3</th>\n",
       "      <td>1284</td>\n",
       "      <td>Japan: Slow Restarts Cast Doubt on 2030 Energy Plan</td>\n",
       "      <td>2021-01-22</td>\n",
       "      <td>NaN</td>\n",
       "      <td>[\"The slow pace of Japanese reactor restarts continues to cast doubt on the goal of the government's fifth Basic Energy Plan to lift nuclear's power share to 20% -22% by fiscal 2030, a target which the Tokyo-based Institute for Energy Economics Japan says will require the operation of at least 27 reactors. Nearly a decade after the Fukushima Daiichi triple meltdown, only nine of Japan's fleet of 51 remaining reactors have been restarted. Of these, only two were providing power to the grid at the start of the year, and by the end of the quarter another two should be joining them. Somewhat paradoxically this puts Kyushu Electric Power Co. in the lead as the country's only nuclear generator given that it is the owner-operator of the four aforementioned reactors -- Genkai-3 and -4 and Sendai-1 and -2. Tokyo Electric Power Co. ( Tepco) is struggling to bring one of two advanced boiling water reactors ( ABWRs) -- Kashiwazaki Kariwa-7 -- on line but must patiently await a lengthy prefectural approval process, and Kansai Electric Power Co., which supplanted rival Tepco as the country's lead nuclear generator in the aftermath of Fukushima is having its own set of struggles -- technical, legal and political -- with its four Ohi and Takahama units, all of which were restarted after the accident but are now at least temporarily shut down ( NIW Jan.15'21). A closer look at the Nuclear Regulation Authority's latest quarterly report Jan. 6 reveals a less than encouraging outlook for more than a dozen other reactors. The NRA has yet to approve applications to change reactor installations since confirming that Tepco's Kashiwazaki Kariwa-6 and -7 ABWRs, Japan Atomic Power Co.'s Tokai-2 BWR and Tohoku Electric's Onagawa-2 BWR conformed to post-Fukushima safety requirements in December 2017, September 2018 and February 2020, respectively. Of these, the only reactor which has received customary but essential consent from local authorities to move toward restart is the 825 MW Onagawa-2 but restart isn't expected until sometime in 2023 because the NRA has yet to approve either detailed construction work plans or the plant's security program ( NIW Nov.13'20). Tohoku is investing an estimated 350 billion yen ( $ 3.3 billion) in safety measures, including seismic retrofitting and the construction of an 800-meter long and 29-meter high seawall. JAPC received NRA approval for installation changes and a detailed construction plan at Tokai-2 in 2018 as well as for a 20-year operating license extension. The utility-owned company reportedly hopes to complete the safety upgrades by December 2022, but a spokesperson told Energy Intelligence that `` at this point, we are not at the stage to discuss the target date for restarting Tokai-2. '' The JAPC spokesperson said `` we must still complete 'pre-operational inspection ' in which the NRA will confirm that all work has been implemented properly in accordance with the construction plan approved by the NRA and we must also receive NRA authorization for its operational safety review. '' The spokesperson added that JAPC also has no schedule for receiving local government consents. In addition to the usual customary requirement for consents from the host prefecture ( Ibaraki) and town, Tokai Village, an agreement signed in March 2018 expanded the consent process to include five other localities in addition to Tokai Village within the 30-kilometer `` urgent protective action planning zone '' ( NIW Jun.12'20). Additionally, JAPC faces a critical judicial test Mar. 18 when the Mito District Court is expected to render its verdict on a petition filed by local residents in July 2012 for an injunction against the restart, according to the Tokyo-based National Network of Counsels in Cases against Nuclear Power Plants. Shikoku Electric's Ikata-3 PWR, idled since late December 2019, seems unlikely to restart before late 2021 at the earliest. A utility spokesperson told Energy Intelligence that one precondition will be a favorable verdict by the Hiroshima High Court, expected in March, on the utility's objection to a preliminary injunction issued by the same court last January ( NIW Jan.24'20). In addition, the utility must complete installation of `` specific severe incident countermeasures '' to cope with counterterrorism. The deadline imposed by the NRA for the completion of these upgrades is Mar. 22, but Shikoku doesn't anticipate completion until October.\"]</td>\n",
       "      <td>energyintel</td>\n",
       "      <td>https://www.energyintel.com/0000017b-a7dc-de4c-a17b-e7de79160000</td>\n",
       "    </tr>\n",
       "    <tr>\n",
       "      <th>4</th>\n",
       "      <td>1285</td>\n",
       "      <td>NYC Pension Funds to Divest Fossil Fuel Shares</td>\n",
       "      <td>2021-01-25</td>\n",
       "      <td>NaN</td>\n",
       "      <td>[\"Two of New York City's largest pension funds say they will divest roughly $ 4 billion in shares of fossil fuel companies, a move aimed at insulating its holdings from the potential impacts of climate change. The move makes good on the fund's January 2018 decision to sell its holdings in companies with significant fossil fuel reserves within five years to protect itself from the risk of stranded assets -- reserves that can no longer be economically produced. “ Fossil fuels are not only bad for our planet and our frontline communities, they are a bad investment, ” said New York Mayor Bill de Blasio. “ Our first-in-the-nation divestment is literally putting money where our mouth is when it comes to climate change. ” The New York City Employees ' Retirement System, which has $ 91.4 billion under management, and the New York City Teachers’ Retirement System, which controls $ 77.4 billion, said in a press release that their divestments were based on `` demonstrated risk from fossil fuel reserves and business activity. ” The names of the companies involved will not be disclosed until the share sales are complete. The New York City Board of Education Retirement System, with $ 7.4 billion under management, had not yet voted on divestment as Energy Intelligence was publishing, but was expected to do so `` imminently, '' according to the press release. Two other city pension funds that manage retirements for police and firefighters with a combined $ 63 billion under management were not listed as participating in the divestment plan. In 2018, DeBlasio and NYC Comptroller Scott Stringer set a goal to double the city's pension funds ' investments in `` climate solutions '' including renewable energy, climate infrastructure and green real estate to about $ 4 billion by 2021. Social and investor pressure on oil and gas companies to address climate change has significantly grown in recent years ( OD Dec.31'20). It follows several years of poor returns for the sector after being pummeled by sharp downturns -- and by shareholders demanding E &amp; P executives abandon their growth-at-all-cost strategies to focus on improving shareholder returns. The announcement by the New York City pension funds comes in the wake of a similar decision in December by the New York State Common Retirement Fund to adopt a target to become carbon-neutral by 2040 and conduct a review of the oil and natural gas producers in its portfolio to assess their energy transition strategies ( related). Kathrine Schmidt, Houston\"]</td>\n",
       "      <td>energyintel</td>\n",
       "      <td>https://www.energyintel.com/0000017b-a7dc-de4c-a17b-e7de7d9e0000</td>\n",
       "    </tr>\n",
       "  </tbody>\n",
       "</table>\n",
       "</div>"
      ],
      "text/plain": [
       "   Unnamed: 0                                                title  \\\n",
       "0        1280   Qatar to Slash Emissions as LNG Expansion Advances   \n",
       "1        1281                 India Launches Its First 700 MW PHWR   \n",
       "2        1283                New Chapter for US-China Energy Trade   \n",
       "3        1284  Japan: Slow Restarts Cast Doubt on 2030 Energy Plan   \n",
       "4        1285       NYC Pension Funds to Divest Fossil Fuel Shares   \n",
       "\n",
       "         date author  \\\n",
       "0  2021-01-13    NaN   \n",
       "1  2021-01-15    NaN   \n",
       "2  2021-01-20    NaN   \n",
       "3  2021-01-22    NaN   \n",
       "4  2021-01-25    NaN   \n",
       "\n",
       "                                                                                                                                                                                                                                                                                                                                                                                                                                                                                                                                                                                                                                                                                                                                                                                                                                                                                                                                                                                                                                                                                                                                                                                                                                                                                                                                                                                                                                                                                                                                                                                                                                                                                                                                                                                                                                                                                                                                                                                                                                                                                                                                                                                                                                                                                                                                                                                                                                                                                                                                                                                                                                                                                                                                                                                                                                                                                                                                                                                                                                                                                                                                                                                                                                                                                                                                                                                                                                                                                                                                                                                                                                                                                                                                                                                                                                                                                                                                                                                                                                                                                                                                                                                                                                                                                                                                                                                                                                                                                                                                                                                                                         content  \\\n",
       "0                                                                                                                                                                                                                                                                                                                                                                                                                                                                                                                                                                                                                                                                                                                                                                                                                                                                                                                                                                                                                                                                                                                                                                                                                                                                                                                                                                                                                                                                                                                                                                                                                                                                                                                                                                                                         [\"Qatar Petroleum ( QP) is targeting aggressive cuts in its greenhouse gas emissions as it prepares to launch Phase 2 of its planned 48 million ton per year LNG expansion. In its latest Sustainability Report published on Wednesday, QP said its goals include `` reducing the emissions intensity of Qatar's LNG facilities by 25% and of its upstream facilities by at least 15%. '' The company is also aiming to reduce gas flaring intensity across its upstream facilities by more than 75% and has raised its carbon capture and storage ambitions from 5 million tons/yr to 7 million tons/yr by 2027. About 2.2 million tons/yr of the carbon capture goal will come from the 32 million ton/yr Phase 1 of the LNG expansion, also known as the North Field East project. A further 1.1 million tons/yr will come from Phase 2, known as the North Field South project, which will raise Qatar's LNG capacity by a further 16 million tons/yr. Qatar currently has an LNG production capacity of around 78 million tons/yr and is eyeing a phased expansion to 126 million tons/yr. QP says it should be able to eliminate routine gas flaring by 2030, with methane emissions limited `` by setting a methane intensity target of 0.2% across all facilities by 2025. '' The company also plans to build some 1.6 gigawatts of solar energy capacity by 2025, half of which should come from the Siraj solar power project next year ( EIF Jan.22'20). Until this month, there had been little news about Phase 2 of Qatar's massive LNG expansion. But McDermott International said last week that it had been awarded the front-end engineering and design contract for five offshore wellhead platforms ( LNGI Jan.12'21). Bids for construction of all four trains for Phase 1 of the LNG expansion were submitted in September ( LNGI Sep.15'20). But QP judged them to be too expensive and none met its targeted 50-week construction schedule. Shortlisted contractors were asked to look for cost savings and submit new bids. The contract, which consultancy Rystad estimates to be worth around $ 35 billion, is expected to be awarded by Mar. 31. Shortly after the construction contract is awarded, QP is expected to select foreign investments partners to take stakes of up to 30% in the Phase 1 trains. Exxon Mobil, Royal Dutch Shell, Total, Chevron, ConocoPhillips and Eni have been shortlisted. QP has repeatedly said that it is prepared to proceed without international investment partners if it determines that the offers it receives are not sufficiently attractive. But the shortlisted companies are expected to bid aggressively for what is expected to be the world's lowest-cost and most environmentally friendly LNG ( LNGI Nov.9'20). Rafiq Latta, Nicosia\"]   \n",
       "1                                                                                                                                                                                                                                                                                                                                                                                                                                                                                                                                                                                                                                                                                                                                                                                                                                                                                                                                                                                                                                                                             [\"• Nuclear Power Corp. of India Ltd. ( NPCIL) synchronized Kakrapar-3 in the western state of Gujarat to the grid on Jan. 10, making it the first of India's 700 megawatt indigenously developed pressurized heavy water reactors ( PHWRs) to reach this milestone ( NIW Sep.18'20). The news was tweeted by Anil Kakodkar, former chairman of the Department of Atomic Energy, who said that 15 more units of the same design will follow. Three of these are currently under construction -- another at Kakrapar, and two at NPCIL's Rajasthan plant. They will be followed by two at the greenfield Gorakhpur site in Haryana, and then a planned 10-unit fleet at Gorakhpur and three other sites. Kakrapar-3 was five years past its 2015 completion date, achieving criticality in July 2020, 10 years after construction began. Commercial operations are slated to begin in March, according to NPCIL's website, although that deadline will likely not be met. India's nuclear suppliers should be feeling some relief over Kakrapar-3's start-up, although order flows will depend on how quickly NPCIL can get other projects moving, and the course of the Covid-19 pandemic ( NIW Dec.11'20). • The inaugural US small modular reactor ( SMR) project has moved into its second phase with Fluor and its NuScale subsidiary announcing Jan. 11 that per agreements with the Utah Associated Municipal Power Systems ( Uamps) they `` are to develop higher maturity cost estimates and initial project planning work for the licensing, manufacturing and construction of the CFPP [ Carbon Free Power Project ]. '' However, Uamps confirmed to Energy Intelligence that committed offtake now stands at just 100 MW for what was planned as a 750 MW, 12-module SMR plant. With NuScale providing additional options for `` plant size configuration, Uamps could decide to build a plant ranging from 4 modules ( 308 megawatts) to 12 modules ( 924 megawatts), '' a Uamps spokesman wrote in an email. In early 2019 Uamps boasted offtake commitments of 230 MW. But that included US Department of Energy ( DOE) plans to take output from up to two 60 MW modules. Those plans ended last year with the DOE instead offering $ 1.35 billion in multiyear funding for the project. Eight Uamps subscribers dropped out of the project and another two offtakers substantially reduced their commitments. • Across the ocean NuScale has launched a play for the UK market via a memorandum of understanding with start-up clean energy firm Shearwater Energy to explore the deployment of hybrid SMR and wind energy projects across the country. The companies are hoping to score a flagship site at or near the Wylfa plant in north Wales, where last year Hitachi decided to wind down its advanced boiling water reactor ( ABWR) project development company ( NIW Sep.18'20). A Wylfa SMR-wind plant `` will provide 3 GW of reliable, zero-carbon electricity at a fraction of the cost of a conventional nuclear power station with surplus energy generation focused on the production of hydrogen to support the transport sector’ s transition to low-carbon fuels, '' Shearwater CEO Simon Forster said in a Jan. 12 statement. But Shearwater was only incorporated in 2018, and any way forward for the project is likely to depend on suitably attractive economics, a UK government nuclear subsidy regime, plus locking in a site that may be grabbed by another interested consortium first ( related).\"]   \n",
       "2                                                                                                                    [\"New US President Joe Biden took office this week with the US-China relationship at its worst in decades. Energy has come to play a bigger role in that relationship than ever before, and rising Chinese imports of US oil and LNG could serve as the foundation for fresh discussions on trade -- one of the few areas where US-China communications have not completely broken down. But tackling climate change, a priority for Biden unlike predecessor Donald Trump, may offer the easiest and biggest opportunity for cooperation between the two powers now. Due to a bipartisan perception that China’ s economic, geopolitical and technological rise poses an existential threat to the US, a Biden administration is unlikely to soften the tone on Beijing. Trump demanded bigger purchases of US energy products by China as part of a Phase 1 trade deal before he would lift US tariffs on Chinese products. After Biden won the November US presidential election, Trump moved into high gear to crack down on the perceived Chinese military threat. In the energy sphere, this included sanctions against China National Offshore Oil Corp. ( CNOOC), which was characterized as a Chinese military-controlled company and targeted for aggressive encroachments in disputed waters of the South China Sea. After banning US investors from trading CNOOC shares in early December, the administration’ s parting shot last week was to ban the sale of US technology to CNOOC and its subsidiaries. With many exemptions in place, the measure may seem limited in scope but could hinder CNOOC’ s ability to develop its domestic offshore resources, unless Biden reverses it. Last year’ s Phase 1 trade deal entailed China spending an unrealistically high $ 18.5 billion above the 2017 baseline on US energy products, a goal made all the more impossible by China’ s demand plunge from the coronavirus and sharply lower oil prices. But Beijing has shown goodwill, withdrawing import tariffs on US liquefied petroleum gas ( LPG), crude and LNG and encouraging oil purchases through unofficial subsidies last summer ( PIW Aug.14'20). The 2021 energy import targets are even more daunting than the 2020 goals, and Beijing is no more inclined than Washington to come to the negotiating table with a gift in hand. The future trajectory of China's imports of US energy will largely depend on whether they make commercial sense while Beijing assesses how Biden approaches the relationship. China’ s imports of US crude jumped 211% in 2020 to a record 396,000 barrels per day, a trade worth $ 6.27 billion, according to the Chinese customs administration. Meanwhile, imports of US LNG reached 3.32 million tons, worth $ 1.11 billion, up from a lone shipment in 2019, and 4.2 million tons of US LPG was discharged in China, for $ 1.74 billion, up from zero in 2019. The total value of these energy imports was $ 9.12 billion -- equal to the 2017 baseline. This leaves China with the daunting task of importing an extra $ 52.4 billion of US energy products this year to meet its Phase 1 target. Shipping data suggest China’ s US crude imports at 407,000 b/d for January, down from 851,000 b/d in December, according to Kpler. “ They are going to wait and see the policy under the Biden administration, ” said Energy Aspects analyst Yuntao Liu. Shipping data suggest China’ s US crude imports at 407,000 b/d for January, down from 851,000 b/d in December, according to Kpler. US LNG sales to China have fared better with 1.1 million tons expected in Chinese ports this month, slightly more than in December, but this is more likely the result of freezing temperatures than driven by politics ( related). With the dramatic change in tone in the White House on climate change, symbolized by the US rejoining the Paris climate accord this week, opportunities may widen beyond the oil and gas trade that could help rebuild dialogue between Washington and Beijing. China stole a march on the US in September in announcing plans to be carbon-neutral by 2060. Whereas Trump, a staunch supporter for fossil fuels, shrugged off climate change entirely, Biden has an ambitious green agenda that targets carbon neutrality by 2050. But old trade gripes could surface here, too, as competition to gain first-mover advantage and develop leading green technologies intensifies ( PIW Jan.15'21).\"]   \n",
       "3  [\"The slow pace of Japanese reactor restarts continues to cast doubt on the goal of the government's fifth Basic Energy Plan to lift nuclear's power share to 20% -22% by fiscal 2030, a target which the Tokyo-based Institute for Energy Economics Japan says will require the operation of at least 27 reactors. Nearly a decade after the Fukushima Daiichi triple meltdown, only nine of Japan's fleet of 51 remaining reactors have been restarted. Of these, only two were providing power to the grid at the start of the year, and by the end of the quarter another two should be joining them. Somewhat paradoxically this puts Kyushu Electric Power Co. in the lead as the country's only nuclear generator given that it is the owner-operator of the four aforementioned reactors -- Genkai-3 and -4 and Sendai-1 and -2. Tokyo Electric Power Co. ( Tepco) is struggling to bring one of two advanced boiling water reactors ( ABWRs) -- Kashiwazaki Kariwa-7 -- on line but must patiently await a lengthy prefectural approval process, and Kansai Electric Power Co., which supplanted rival Tepco as the country's lead nuclear generator in the aftermath of Fukushima is having its own set of struggles -- technical, legal and political -- with its four Ohi and Takahama units, all of which were restarted after the accident but are now at least temporarily shut down ( NIW Jan.15'21). A closer look at the Nuclear Regulation Authority's latest quarterly report Jan. 6 reveals a less than encouraging outlook for more than a dozen other reactors. The NRA has yet to approve applications to change reactor installations since confirming that Tepco's Kashiwazaki Kariwa-6 and -7 ABWRs, Japan Atomic Power Co.'s Tokai-2 BWR and Tohoku Electric's Onagawa-2 BWR conformed to post-Fukushima safety requirements in December 2017, September 2018 and February 2020, respectively. Of these, the only reactor which has received customary but essential consent from local authorities to move toward restart is the 825 MW Onagawa-2 but restart isn't expected until sometime in 2023 because the NRA has yet to approve either detailed construction work plans or the plant's security program ( NIW Nov.13'20). Tohoku is investing an estimated 350 billion yen ( $ 3.3 billion) in safety measures, including seismic retrofitting and the construction of an 800-meter long and 29-meter high seawall. JAPC received NRA approval for installation changes and a detailed construction plan at Tokai-2 in 2018 as well as for a 20-year operating license extension. The utility-owned company reportedly hopes to complete the safety upgrades by December 2022, but a spokesperson told Energy Intelligence that `` at this point, we are not at the stage to discuss the target date for restarting Tokai-2. '' The JAPC spokesperson said `` we must still complete 'pre-operational inspection ' in which the NRA will confirm that all work has been implemented properly in accordance with the construction plan approved by the NRA and we must also receive NRA authorization for its operational safety review. '' The spokesperson added that JAPC also has no schedule for receiving local government consents. In addition to the usual customary requirement for consents from the host prefecture ( Ibaraki) and town, Tokai Village, an agreement signed in March 2018 expanded the consent process to include five other localities in addition to Tokai Village within the 30-kilometer `` urgent protective action planning zone '' ( NIW Jun.12'20). Additionally, JAPC faces a critical judicial test Mar. 18 when the Mito District Court is expected to render its verdict on a petition filed by local residents in July 2012 for an injunction against the restart, according to the Tokyo-based National Network of Counsels in Cases against Nuclear Power Plants. Shikoku Electric's Ikata-3 PWR, idled since late December 2019, seems unlikely to restart before late 2021 at the earliest. A utility spokesperson told Energy Intelligence that one precondition will be a favorable verdict by the Hiroshima High Court, expected in March, on the utility's objection to a preliminary injunction issued by the same court last January ( NIW Jan.24'20). In addition, the utility must complete installation of `` specific severe incident countermeasures '' to cope with counterterrorism. The deadline imposed by the NRA for the completion of these upgrades is Mar. 22, but Shikoku doesn't anticipate completion until October.\"]   \n",
       "4                                                                                                                                                                                                                                                                                                                                                                                                                                                                                                                                                                                                                                                                                                                                                                                                                                                                                                                                                                                                                                                                                                                                                                                                                                                                                                                                                                                                                                                                                                                                                                                                                                                                                                                                                                                                                                                                                                                                                                                                     [\"Two of New York City's largest pension funds say they will divest roughly $ 4 billion in shares of fossil fuel companies, a move aimed at insulating its holdings from the potential impacts of climate change. The move makes good on the fund's January 2018 decision to sell its holdings in companies with significant fossil fuel reserves within five years to protect itself from the risk of stranded assets -- reserves that can no longer be economically produced. “ Fossil fuels are not only bad for our planet and our frontline communities, they are a bad investment, ” said New York Mayor Bill de Blasio. “ Our first-in-the-nation divestment is literally putting money where our mouth is when it comes to climate change. ” The New York City Employees ' Retirement System, which has $ 91.4 billion under management, and the New York City Teachers’ Retirement System, which controls $ 77.4 billion, said in a press release that their divestments were based on `` demonstrated risk from fossil fuel reserves and business activity. ” The names of the companies involved will not be disclosed until the share sales are complete. The New York City Board of Education Retirement System, with $ 7.4 billion under management, had not yet voted on divestment as Energy Intelligence was publishing, but was expected to do so `` imminently, '' according to the press release. Two other city pension funds that manage retirements for police and firefighters with a combined $ 63 billion under management were not listed as participating in the divestment plan. In 2018, DeBlasio and NYC Comptroller Scott Stringer set a goal to double the city's pension funds ' investments in `` climate solutions '' including renewable energy, climate infrastructure and green real estate to about $ 4 billion by 2021. Social and investor pressure on oil and gas companies to address climate change has significantly grown in recent years ( OD Dec.31'20). It follows several years of poor returns for the sector after being pummeled by sharp downturns -- and by shareholders demanding E & P executives abandon their growth-at-all-cost strategies to focus on improving shareholder returns. The announcement by the New York City pension funds comes in the wake of a similar decision in December by the New York State Common Retirement Fund to adopt a target to become carbon-neutral by 2040 and conduct a review of the oil and natural gas producers in its portfolio to assess their energy transition strategies ( related). Kathrine Schmidt, Houston\"]   \n",
       "\n",
       "        domain  \\\n",
       "0  energyintel   \n",
       "1  energyintel   \n",
       "2  energyintel   \n",
       "3  energyintel   \n",
       "4  energyintel   \n",
       "\n",
       "                                                                url  \n",
       "0  https://www.energyintel.com/0000017b-a7dc-de4c-a17b-e7de685b0000  \n",
       "1  https://www.energyintel.com/0000017b-a7dc-de4c-a17b-e7de6c710001  \n",
       "2  https://www.energyintel.com/0000017b-a7dc-de4c-a17b-e7de735a0000  \n",
       "3  https://www.energyintel.com/0000017b-a7dc-de4c-a17b-e7de79160000  \n",
       "4  https://www.energyintel.com/0000017b-a7dc-de4c-a17b-e7de7d9e0000  "
      ]
     },
     "execution_count": 145,
     "metadata": {},
     "output_type": "execute_result"
    }
   ],
   "source": [
    "df.head()"
   ]
  },
  {
   "cell_type": "code",
   "execution_count": 146,
   "metadata": {},
   "outputs": [
    {
     "data": {
      "text/html": [
       "<div>\n",
       "<style scoped>\n",
       "    .dataframe tbody tr th:only-of-type {\n",
       "        vertical-align: middle;\n",
       "    }\n",
       "\n",
       "    .dataframe tbody tr th {\n",
       "        vertical-align: top;\n",
       "    }\n",
       "\n",
       "    .dataframe thead th {\n",
       "        text-align: right;\n",
       "    }\n",
       "</style>\n",
       "<table border=\"1\" class=\"dataframe\">\n",
       "  <thead>\n",
       "    <tr style=\"text-align: right;\">\n",
       "      <th></th>\n",
       "      <th>Total Count</th>\n",
       "      <th>NaN Count</th>\n",
       "      <th>NaN Percentage (%)</th>\n",
       "      <th>Unique Count</th>\n",
       "      <th>Unique Percentage (%)</th>\n",
       "    </tr>\n",
       "  </thead>\n",
       "  <tbody>\n",
       "    <tr>\n",
       "      <th>Unnamed: 0</th>\n",
       "      <td>9593</td>\n",
       "      <td>0</td>\n",
       "      <td>0.000000</td>\n",
       "      <td>9593</td>\n",
       "      <td>100.000000</td>\n",
       "    </tr>\n",
       "    <tr>\n",
       "      <th>title</th>\n",
       "      <td>9593</td>\n",
       "      <td>0</td>\n",
       "      <td>0.000000</td>\n",
       "      <td>9569</td>\n",
       "      <td>99.749818</td>\n",
       "    </tr>\n",
       "    <tr>\n",
       "      <th>date</th>\n",
       "      <td>9593</td>\n",
       "      <td>0</td>\n",
       "      <td>0.000000</td>\n",
       "      <td>967</td>\n",
       "      <td>10.080267</td>\n",
       "    </tr>\n",
       "    <tr>\n",
       "      <th>author</th>\n",
       "      <td>31</td>\n",
       "      <td>9562</td>\n",
       "      <td>99.676848</td>\n",
       "      <td>7</td>\n",
       "      <td>0.072970</td>\n",
       "    </tr>\n",
       "    <tr>\n",
       "      <th>content</th>\n",
       "      <td>9593</td>\n",
       "      <td>0</td>\n",
       "      <td>0.000000</td>\n",
       "      <td>9588</td>\n",
       "      <td>99.947879</td>\n",
       "    </tr>\n",
       "    <tr>\n",
       "      <th>domain</th>\n",
       "      <td>9593</td>\n",
       "      <td>0</td>\n",
       "      <td>0.000000</td>\n",
       "      <td>19</td>\n",
       "      <td>0.198061</td>\n",
       "    </tr>\n",
       "    <tr>\n",
       "      <th>url</th>\n",
       "      <td>9593</td>\n",
       "      <td>0</td>\n",
       "      <td>0.000000</td>\n",
       "      <td>9593</td>\n",
       "      <td>100.000000</td>\n",
       "    </tr>\n",
       "  </tbody>\n",
       "</table>\n",
       "</div>"
      ],
      "text/plain": [
       "            Total Count  NaN Count  NaN Percentage (%)  Unique Count  \\\n",
       "Unnamed: 0         9593          0            0.000000          9593   \n",
       "title              9593          0            0.000000          9569   \n",
       "date               9593          0            0.000000           967   \n",
       "author               31       9562           99.676848             7   \n",
       "content            9593          0            0.000000          9588   \n",
       "domain             9593          0            0.000000            19   \n",
       "url                9593          0            0.000000          9593   \n",
       "\n",
       "            Unique Percentage (%)  \n",
       "Unnamed: 0             100.000000  \n",
       "title                   99.749818  \n",
       "date                    10.080267  \n",
       "author                   0.072970  \n",
       "content                 99.947879  \n",
       "domain                   0.198061  \n",
       "url                    100.000000  "
      ]
     },
     "execution_count": 146,
     "metadata": {},
     "output_type": "execute_result"
    }
   ],
   "source": [
    "columns = df.columns\n",
    "total_counts = df.count()\n",
    "nan_counts = df.isna().sum()\n",
    "unique_counts = df.nunique()\n",
    "\n",
    "nan_percentages = (nan_counts / len(df)) * 100\n",
    "unique_percentages = (unique_counts / len(df)) * 100\n",
    "\n",
    "data = {\n",
    "    'Total Count': total_counts,\n",
    "    'NaN Count': nan_counts,\n",
    "    'NaN Percentage (%)': nan_percentages,\n",
    "    'Unique Count': unique_counts,\n",
    "    'Unique Percentage (%)': unique_percentages\n",
    "}\n",
    "summary_df = pd.DataFrame(data, index=columns)\n",
    "\n",
    "summary_df"
   ]
  },
  {
   "cell_type": "code",
   "execution_count": 147,
   "metadata": {},
   "outputs": [
    {
     "data": {
      "application/vnd.plotly.v1+json": {
       "config": {
        "plotlyServerURL": "https://plot.ly"
       },
       "data": [
        {
         "type": "bar",
         "x": [
          "cleantechnica",
          "azocleantech",
          "pv-magazine",
          "energyvoice",
          "solarindustrymag",
          "naturalgasintel",
          "thinkgeoenergy",
          "rechargenews",
          "solarpowerworldonline",
          "energyintel",
          "pv-tech",
          "businessgreen",
          "greenprophet",
          "ecofriend",
          "solarpowerportal.co",
          "eurosolar",
          "decarbxpo",
          "solarquarter",
          "indorenergy"
         ],
         "y": [
          1861,
          1627,
          1206,
          1017,
          673,
          658,
          645,
          559,
          505,
          234,
          232,
          158,
          80,
          38,
          34,
          28,
          19,
          17,
          2
         ]
        }
       ],
       "layout": {
        "template": {
         "data": {
          "bar": [
           {
            "error_x": {
             "color": "#2a3f5f"
            },
            "error_y": {
             "color": "#2a3f5f"
            },
            "marker": {
             "line": {
              "color": "#E5ECF6",
              "width": 0.5
             },
             "pattern": {
              "fillmode": "overlay",
              "size": 10,
              "solidity": 0.2
             }
            },
            "type": "bar"
           }
          ],
          "barpolar": [
           {
            "marker": {
             "line": {
              "color": "#E5ECF6",
              "width": 0.5
             },
             "pattern": {
              "fillmode": "overlay",
              "size": 10,
              "solidity": 0.2
             }
            },
            "type": "barpolar"
           }
          ],
          "carpet": [
           {
            "aaxis": {
             "endlinecolor": "#2a3f5f",
             "gridcolor": "white",
             "linecolor": "white",
             "minorgridcolor": "white",
             "startlinecolor": "#2a3f5f"
            },
            "baxis": {
             "endlinecolor": "#2a3f5f",
             "gridcolor": "white",
             "linecolor": "white",
             "minorgridcolor": "white",
             "startlinecolor": "#2a3f5f"
            },
            "type": "carpet"
           }
          ],
          "choropleth": [
           {
            "colorbar": {
             "outlinewidth": 0,
             "ticks": ""
            },
            "type": "choropleth"
           }
          ],
          "contour": [
           {
            "colorbar": {
             "outlinewidth": 0,
             "ticks": ""
            },
            "colorscale": [
             [
              0,
              "#0d0887"
             ],
             [
              0.1111111111111111,
              "#46039f"
             ],
             [
              0.2222222222222222,
              "#7201a8"
             ],
             [
              0.3333333333333333,
              "#9c179e"
             ],
             [
              0.4444444444444444,
              "#bd3786"
             ],
             [
              0.5555555555555556,
              "#d8576b"
             ],
             [
              0.6666666666666666,
              "#ed7953"
             ],
             [
              0.7777777777777778,
              "#fb9f3a"
             ],
             [
              0.8888888888888888,
              "#fdca26"
             ],
             [
              1,
              "#f0f921"
             ]
            ],
            "type": "contour"
           }
          ],
          "contourcarpet": [
           {
            "colorbar": {
             "outlinewidth": 0,
             "ticks": ""
            },
            "type": "contourcarpet"
           }
          ],
          "heatmap": [
           {
            "colorbar": {
             "outlinewidth": 0,
             "ticks": ""
            },
            "colorscale": [
             [
              0,
              "#0d0887"
             ],
             [
              0.1111111111111111,
              "#46039f"
             ],
             [
              0.2222222222222222,
              "#7201a8"
             ],
             [
              0.3333333333333333,
              "#9c179e"
             ],
             [
              0.4444444444444444,
              "#bd3786"
             ],
             [
              0.5555555555555556,
              "#d8576b"
             ],
             [
              0.6666666666666666,
              "#ed7953"
             ],
             [
              0.7777777777777778,
              "#fb9f3a"
             ],
             [
              0.8888888888888888,
              "#fdca26"
             ],
             [
              1,
              "#f0f921"
             ]
            ],
            "type": "heatmap"
           }
          ],
          "heatmapgl": [
           {
            "colorbar": {
             "outlinewidth": 0,
             "ticks": ""
            },
            "colorscale": [
             [
              0,
              "#0d0887"
             ],
             [
              0.1111111111111111,
              "#46039f"
             ],
             [
              0.2222222222222222,
              "#7201a8"
             ],
             [
              0.3333333333333333,
              "#9c179e"
             ],
             [
              0.4444444444444444,
              "#bd3786"
             ],
             [
              0.5555555555555556,
              "#d8576b"
             ],
             [
              0.6666666666666666,
              "#ed7953"
             ],
             [
              0.7777777777777778,
              "#fb9f3a"
             ],
             [
              0.8888888888888888,
              "#fdca26"
             ],
             [
              1,
              "#f0f921"
             ]
            ],
            "type": "heatmapgl"
           }
          ],
          "histogram": [
           {
            "marker": {
             "pattern": {
              "fillmode": "overlay",
              "size": 10,
              "solidity": 0.2
             }
            },
            "type": "histogram"
           }
          ],
          "histogram2d": [
           {
            "colorbar": {
             "outlinewidth": 0,
             "ticks": ""
            },
            "colorscale": [
             [
              0,
              "#0d0887"
             ],
             [
              0.1111111111111111,
              "#46039f"
             ],
             [
              0.2222222222222222,
              "#7201a8"
             ],
             [
              0.3333333333333333,
              "#9c179e"
             ],
             [
              0.4444444444444444,
              "#bd3786"
             ],
             [
              0.5555555555555556,
              "#d8576b"
             ],
             [
              0.6666666666666666,
              "#ed7953"
             ],
             [
              0.7777777777777778,
              "#fb9f3a"
             ],
             [
              0.8888888888888888,
              "#fdca26"
             ],
             [
              1,
              "#f0f921"
             ]
            ],
            "type": "histogram2d"
           }
          ],
          "histogram2dcontour": [
           {
            "colorbar": {
             "outlinewidth": 0,
             "ticks": ""
            },
            "colorscale": [
             [
              0,
              "#0d0887"
             ],
             [
              0.1111111111111111,
              "#46039f"
             ],
             [
              0.2222222222222222,
              "#7201a8"
             ],
             [
              0.3333333333333333,
              "#9c179e"
             ],
             [
              0.4444444444444444,
              "#bd3786"
             ],
             [
              0.5555555555555556,
              "#d8576b"
             ],
             [
              0.6666666666666666,
              "#ed7953"
             ],
             [
              0.7777777777777778,
              "#fb9f3a"
             ],
             [
              0.8888888888888888,
              "#fdca26"
             ],
             [
              1,
              "#f0f921"
             ]
            ],
            "type": "histogram2dcontour"
           }
          ],
          "mesh3d": [
           {
            "colorbar": {
             "outlinewidth": 0,
             "ticks": ""
            },
            "type": "mesh3d"
           }
          ],
          "parcoords": [
           {
            "line": {
             "colorbar": {
              "outlinewidth": 0,
              "ticks": ""
             }
            },
            "type": "parcoords"
           }
          ],
          "pie": [
           {
            "automargin": true,
            "type": "pie"
           }
          ],
          "scatter": [
           {
            "fillpattern": {
             "fillmode": "overlay",
             "size": 10,
             "solidity": 0.2
            },
            "type": "scatter"
           }
          ],
          "scatter3d": [
           {
            "line": {
             "colorbar": {
              "outlinewidth": 0,
              "ticks": ""
             }
            },
            "marker": {
             "colorbar": {
              "outlinewidth": 0,
              "ticks": ""
             }
            },
            "type": "scatter3d"
           }
          ],
          "scattercarpet": [
           {
            "marker": {
             "colorbar": {
              "outlinewidth": 0,
              "ticks": ""
             }
            },
            "type": "scattercarpet"
           }
          ],
          "scattergeo": [
           {
            "marker": {
             "colorbar": {
              "outlinewidth": 0,
              "ticks": ""
             }
            },
            "type": "scattergeo"
           }
          ],
          "scattergl": [
           {
            "marker": {
             "colorbar": {
              "outlinewidth": 0,
              "ticks": ""
             }
            },
            "type": "scattergl"
           }
          ],
          "scattermapbox": [
           {
            "marker": {
             "colorbar": {
              "outlinewidth": 0,
              "ticks": ""
             }
            },
            "type": "scattermapbox"
           }
          ],
          "scatterpolar": [
           {
            "marker": {
             "colorbar": {
              "outlinewidth": 0,
              "ticks": ""
             }
            },
            "type": "scatterpolar"
           }
          ],
          "scatterpolargl": [
           {
            "marker": {
             "colorbar": {
              "outlinewidth": 0,
              "ticks": ""
             }
            },
            "type": "scatterpolargl"
           }
          ],
          "scatterternary": [
           {
            "marker": {
             "colorbar": {
              "outlinewidth": 0,
              "ticks": ""
             }
            },
            "type": "scatterternary"
           }
          ],
          "surface": [
           {
            "colorbar": {
             "outlinewidth": 0,
             "ticks": ""
            },
            "colorscale": [
             [
              0,
              "#0d0887"
             ],
             [
              0.1111111111111111,
              "#46039f"
             ],
             [
              0.2222222222222222,
              "#7201a8"
             ],
             [
              0.3333333333333333,
              "#9c179e"
             ],
             [
              0.4444444444444444,
              "#bd3786"
             ],
             [
              0.5555555555555556,
              "#d8576b"
             ],
             [
              0.6666666666666666,
              "#ed7953"
             ],
             [
              0.7777777777777778,
              "#fb9f3a"
             ],
             [
              0.8888888888888888,
              "#fdca26"
             ],
             [
              1,
              "#f0f921"
             ]
            ],
            "type": "surface"
           }
          ],
          "table": [
           {
            "cells": {
             "fill": {
              "color": "#EBF0F8"
             },
             "line": {
              "color": "white"
             }
            },
            "header": {
             "fill": {
              "color": "#C8D4E3"
             },
             "line": {
              "color": "white"
             }
            },
            "type": "table"
           }
          ]
         },
         "layout": {
          "annotationdefaults": {
           "arrowcolor": "#2a3f5f",
           "arrowhead": 0,
           "arrowwidth": 1
          },
          "autotypenumbers": "strict",
          "coloraxis": {
           "colorbar": {
            "outlinewidth": 0,
            "ticks": ""
           }
          },
          "colorscale": {
           "diverging": [
            [
             0,
             "#8e0152"
            ],
            [
             0.1,
             "#c51b7d"
            ],
            [
             0.2,
             "#de77ae"
            ],
            [
             0.3,
             "#f1b6da"
            ],
            [
             0.4,
             "#fde0ef"
            ],
            [
             0.5,
             "#f7f7f7"
            ],
            [
             0.6,
             "#e6f5d0"
            ],
            [
             0.7,
             "#b8e186"
            ],
            [
             0.8,
             "#7fbc41"
            ],
            [
             0.9,
             "#4d9221"
            ],
            [
             1,
             "#276419"
            ]
           ],
           "sequential": [
            [
             0,
             "#0d0887"
            ],
            [
             0.1111111111111111,
             "#46039f"
            ],
            [
             0.2222222222222222,
             "#7201a8"
            ],
            [
             0.3333333333333333,
             "#9c179e"
            ],
            [
             0.4444444444444444,
             "#bd3786"
            ],
            [
             0.5555555555555556,
             "#d8576b"
            ],
            [
             0.6666666666666666,
             "#ed7953"
            ],
            [
             0.7777777777777778,
             "#fb9f3a"
            ],
            [
             0.8888888888888888,
             "#fdca26"
            ],
            [
             1,
             "#f0f921"
            ]
           ],
           "sequentialminus": [
            [
             0,
             "#0d0887"
            ],
            [
             0.1111111111111111,
             "#46039f"
            ],
            [
             0.2222222222222222,
             "#7201a8"
            ],
            [
             0.3333333333333333,
             "#9c179e"
            ],
            [
             0.4444444444444444,
             "#bd3786"
            ],
            [
             0.5555555555555556,
             "#d8576b"
            ],
            [
             0.6666666666666666,
             "#ed7953"
            ],
            [
             0.7777777777777778,
             "#fb9f3a"
            ],
            [
             0.8888888888888888,
             "#fdca26"
            ],
            [
             1,
             "#f0f921"
            ]
           ]
          },
          "colorway": [
           "#636efa",
           "#EF553B",
           "#00cc96",
           "#ab63fa",
           "#FFA15A",
           "#19d3f3",
           "#FF6692",
           "#B6E880",
           "#FF97FF",
           "#FECB52"
          ],
          "font": {
           "color": "#2a3f5f"
          },
          "geo": {
           "bgcolor": "white",
           "lakecolor": "white",
           "landcolor": "#E5ECF6",
           "showlakes": true,
           "showland": true,
           "subunitcolor": "white"
          },
          "hoverlabel": {
           "align": "left"
          },
          "hovermode": "closest",
          "mapbox": {
           "style": "light"
          },
          "paper_bgcolor": "white",
          "plot_bgcolor": "#E5ECF6",
          "polar": {
           "angularaxis": {
            "gridcolor": "white",
            "linecolor": "white",
            "ticks": ""
           },
           "bgcolor": "#E5ECF6",
           "radialaxis": {
            "gridcolor": "white",
            "linecolor": "white",
            "ticks": ""
           }
          },
          "scene": {
           "xaxis": {
            "backgroundcolor": "#E5ECF6",
            "gridcolor": "white",
            "gridwidth": 2,
            "linecolor": "white",
            "showbackground": true,
            "ticks": "",
            "zerolinecolor": "white"
           },
           "yaxis": {
            "backgroundcolor": "#E5ECF6",
            "gridcolor": "white",
            "gridwidth": 2,
            "linecolor": "white",
            "showbackground": true,
            "ticks": "",
            "zerolinecolor": "white"
           },
           "zaxis": {
            "backgroundcolor": "#E5ECF6",
            "gridcolor": "white",
            "gridwidth": 2,
            "linecolor": "white",
            "showbackground": true,
            "ticks": "",
            "zerolinecolor": "white"
           }
          },
          "shapedefaults": {
           "line": {
            "color": "#2a3f5f"
           }
          },
          "ternary": {
           "aaxis": {
            "gridcolor": "white",
            "linecolor": "white",
            "ticks": ""
           },
           "baxis": {
            "gridcolor": "white",
            "linecolor": "white",
            "ticks": ""
           },
           "bgcolor": "#E5ECF6",
           "caxis": {
            "gridcolor": "white",
            "linecolor": "white",
            "ticks": ""
           }
          },
          "title": {
           "x": 0.05
          },
          "xaxis": {
           "automargin": true,
           "gridcolor": "white",
           "linecolor": "white",
           "ticks": "",
           "title": {
            "standoff": 15
           },
           "zerolinecolor": "white",
           "zerolinewidth": 2
          },
          "yaxis": {
           "automargin": true,
           "gridcolor": "white",
           "linecolor": "white",
           "ticks": "",
           "title": {
            "standoff": 15
           },
           "zerolinecolor": "white",
           "zerolinewidth": 2
          }
         }
        },
        "title": {
         "text": "Frequency of Publishers in Cleantech"
        },
        "xaxis": {
         "title": {
          "text": "Domain"
         }
        },
        "yaxis": {
         "title": {
          "text": "Frequency"
         }
        }
       }
      }
     },
     "metadata": {},
     "output_type": "display_data"
    }
   ],
   "source": [
    "domain_freq = df['domain'].value_counts()\n",
    "domain_freq = domain_freq.reset_index()\n",
    "domain_freq.columns = ['domain', 'count']\n",
    "\n",
    "fig = go.Figure()\n",
    "fig.add_trace(go.Bar(x=domain_freq['domain'], y=domain_freq['count']))\n",
    "\n",
    "fig.update_layout(\n",
    "    title='Frequency of Publishers in Cleantech',\n",
    "    xaxis_title='Domain',\n",
    "    yaxis_title='Frequency'\n",
    ")\n",
    "\n",
    "fig.show()"
   ]
  },
  {
   "cell_type": "markdown",
   "metadata": {},
   "source": [
    "### Taking a closer look at titles\n",
    "As the summary has shown, only `9569` of the `9593` scraped resources in the dataset have a unique title. This subsection explores if these \"duplicate titles\" have an underlying error or if these occurences of duplicates can be ignored."
   ]
  },
  {
   "cell_type": "code",
   "execution_count": 148,
   "metadata": {},
   "outputs": [
    {
     "data": {
      "text/html": [
       "<div>\n",
       "<style scoped>\n",
       "    .dataframe tbody tr th:only-of-type {\n",
       "        vertical-align: middle;\n",
       "    }\n",
       "\n",
       "    .dataframe tbody tr th {\n",
       "        vertical-align: top;\n",
       "    }\n",
       "\n",
       "    .dataframe thead th {\n",
       "        text-align: right;\n",
       "    }\n",
       "</style>\n",
       "<table border=\"1\" class=\"dataframe\">\n",
       "  <thead>\n",
       "    <tr style=\"text-align: right;\">\n",
       "      <th></th>\n",
       "      <th>title</th>\n",
       "      <th>count</th>\n",
       "    </tr>\n",
       "  </thead>\n",
       "  <tbody>\n",
       "    <tr>\n",
       "      <th>0</th>\n",
       "      <td>Cleantech Thought Leaders Series</td>\n",
       "      <td>5</td>\n",
       "    </tr>\n",
       "    <tr>\n",
       "      <th>1</th>\n",
       "      <td>About David J. Cross</td>\n",
       "      <td>5</td>\n",
       "    </tr>\n",
       "    <tr>\n",
       "      <th>2</th>\n",
       "      <td>Cleantech Insights from Industry Series</td>\n",
       "      <td>4</td>\n",
       "    </tr>\n",
       "    <tr>\n",
       "      <th>3</th>\n",
       "      <td>Truss, Johnson Join Rebellion Against Sunak for Onshore Wind</td>\n",
       "      <td>2</td>\n",
       "    </tr>\n",
       "    <tr>\n",
       "      <th>4</th>\n",
       "      <td>Staggering potential in next-gen building blocks for solar</td>\n",
       "      <td>2</td>\n",
       "    </tr>\n",
       "    <tr>\n",
       "      <th>5</th>\n",
       "      <td>Royal Opera House drops BP as sponsor after 33 years</td>\n",
       "      <td>2</td>\n",
       "    </tr>\n",
       "    <tr>\n",
       "      <th>6</th>\n",
       "      <td>Macquarie targets North Sea as the green energy hub of Europe</td>\n",
       "      <td>2</td>\n",
       "    </tr>\n",
       "    <tr>\n",
       "      <th>7</th>\n",
       "      <td>BEIS mulls ringfenced CfD support for geothermal power</td>\n",
       "      <td>2</td>\n",
       "    </tr>\n",
       "    <tr>\n",
       "      <th>8</th>\n",
       "      <td>Five ways for the energy industry to shift the dial on inclusion in 2023</td>\n",
       "      <td>2</td>\n",
       "    </tr>\n",
       "    <tr>\n",
       "      <th>9</th>\n",
       "      <td>Key trends in UK renewables and what to expect in 2023</td>\n",
       "      <td>2</td>\n",
       "    </tr>\n",
       "    <tr>\n",
       "      <th>10</th>\n",
       "      <td>Green hydrogen seen competing with LNG within a decade</td>\n",
       "      <td>2</td>\n",
       "    </tr>\n",
       "    <tr>\n",
       "      <th>11</th>\n",
       "      <td>Aberdeen’ s NZTC plans national centre for geothermal energy</td>\n",
       "      <td>2</td>\n",
       "    </tr>\n",
       "    <tr>\n",
       "      <th>12</th>\n",
       "      <td>Liz Truss opposes solar panels on farmland, Downing Street says</td>\n",
       "      <td>2</td>\n",
       "    </tr>\n",
       "    <tr>\n",
       "      <th>13</th>\n",
       "      <td>XR goes big on fake oil in protests at SLB, Ineos and others</td>\n",
       "      <td>2</td>\n",
       "    </tr>\n",
       "    <tr>\n",
       "      <th>14</th>\n",
       "      <td>Top Climate Stories 2021</td>\n",
       "      <td>2</td>\n",
       "    </tr>\n",
       "    <tr>\n",
       "      <th>15</th>\n",
       "      <td>GE blocked from selling huge offshore turbine in US by judge</td>\n",
       "      <td>2</td>\n",
       "    </tr>\n",
       "  </tbody>\n",
       "</table>\n",
       "</div>"
      ],
      "text/plain": [
       "                                                                       title  \\\n",
       "0                                           Cleantech Thought Leaders Series   \n",
       "1                                                       About David J. Cross   \n",
       "2                                    Cleantech Insights from Industry Series   \n",
       "3               Truss, Johnson Join Rebellion Against Sunak for Onshore Wind   \n",
       "4                 Staggering potential in next-gen building blocks for solar   \n",
       "5                       Royal Opera House drops BP as sponsor after 33 years   \n",
       "6              Macquarie targets North Sea as the green energy hub of Europe   \n",
       "7                     BEIS mulls ringfenced CfD support for geothermal power   \n",
       "8   Five ways for the energy industry to shift the dial on inclusion in 2023   \n",
       "9                     Key trends in UK renewables and what to expect in 2023   \n",
       "10                    Green hydrogen seen competing with LNG within a decade   \n",
       "11              Aberdeen’ s NZTC plans national centre for geothermal energy   \n",
       "12           Liz Truss opposes solar panels on farmland, Downing Street says   \n",
       "13              XR goes big on fake oil in protests at SLB, Ineos and others   \n",
       "14                                                  Top Climate Stories 2021   \n",
       "15              GE blocked from selling huge offshore turbine in US by judge   \n",
       "\n",
       "    count  \n",
       "0       5  \n",
       "1       5  \n",
       "2       4  \n",
       "3       2  \n",
       "4       2  \n",
       "5       2  \n",
       "6       2  \n",
       "7       2  \n",
       "8       2  \n",
       "9       2  \n",
       "10      2  \n",
       "11      2  \n",
       "12      2  \n",
       "13      2  \n",
       "14      2  \n",
       "15      2  "
      ]
     },
     "execution_count": 148,
     "metadata": {},
     "output_type": "execute_result"
    }
   ],
   "source": [
    "title_freq = df['title'].value_counts()\n",
    "title_freq = title_freq[title_freq > 1]\n",
    "title_freq = title_freq.reset_index()\n",
    "title_freq.columns = ['title', 'count']\n",
    "\n",
    "title_freq"
   ]
  },
  {
   "cell_type": "markdown",
   "metadata": {},
   "source": [
    "Now, lets take a closer look at the contents of the suspected duplicate documents."
   ]
  },
  {
   "cell_type": "code",
   "execution_count": 149,
   "metadata": {},
   "outputs": [
    {
     "data": {
      "text/html": [
       "<div>\n",
       "<style scoped>\n",
       "    .dataframe tbody tr th:only-of-type {\n",
       "        vertical-align: middle;\n",
       "    }\n",
       "\n",
       "    .dataframe tbody tr th {\n",
       "        vertical-align: top;\n",
       "    }\n",
       "\n",
       "    .dataframe thead th {\n",
       "        text-align: right;\n",
       "    }\n",
       "</style>\n",
       "<table border=\"1\" class=\"dataframe\">\n",
       "  <thead>\n",
       "    <tr style=\"text-align: right;\">\n",
       "      <th></th>\n",
       "      <th>title</th>\n",
       "      <th>duplicated_count</th>\n",
       "    </tr>\n",
       "  </thead>\n",
       "  <tbody>\n",
       "    <tr>\n",
       "      <th>0</th>\n",
       "      <td>Cleantech Thought Leaders Series</td>\n",
       "      <td>30</td>\n",
       "    </tr>\n",
       "    <tr>\n",
       "      <th>1</th>\n",
       "      <td>About David J. Cross</td>\n",
       "      <td>48</td>\n",
       "    </tr>\n",
       "    <tr>\n",
       "      <th>2</th>\n",
       "      <td>Cleantech Insights from Industry Series</td>\n",
       "      <td>21</td>\n",
       "    </tr>\n",
       "    <tr>\n",
       "      <th>3</th>\n",
       "      <td>Truss, Johnson Join Rebellion Against Sunak for Onshore Wind</td>\n",
       "      <td>9</td>\n",
       "    </tr>\n",
       "    <tr>\n",
       "      <th>4</th>\n",
       "      <td>Staggering potential in next-gen building blocks for solar</td>\n",
       "      <td>39</td>\n",
       "    </tr>\n",
       "    <tr>\n",
       "      <th>5</th>\n",
       "      <td>Royal Opera House drops BP as sponsor after 33 years</td>\n",
       "      <td>10</td>\n",
       "    </tr>\n",
       "    <tr>\n",
       "      <th>6</th>\n",
       "      <td>Macquarie targets North Sea as the green energy hub of Europe</td>\n",
       "      <td>12</td>\n",
       "    </tr>\n",
       "    <tr>\n",
       "      <th>7</th>\n",
       "      <td>BEIS mulls ringfenced CfD support for geothermal power</td>\n",
       "      <td>17</td>\n",
       "    </tr>\n",
       "    <tr>\n",
       "      <th>8</th>\n",
       "      <td>Five ways for the energy industry to shift the dial on inclusion in 2023</td>\n",
       "      <td>15</td>\n",
       "    </tr>\n",
       "    <tr>\n",
       "      <th>9</th>\n",
       "      <td>Key trends in UK renewables and what to expect in 2023</td>\n",
       "      <td>10</td>\n",
       "    </tr>\n",
       "    <tr>\n",
       "      <th>10</th>\n",
       "      <td>Green hydrogen seen competing with LNG within a decade</td>\n",
       "      <td>4</td>\n",
       "    </tr>\n",
       "    <tr>\n",
       "      <th>11</th>\n",
       "      <td>Aberdeen’ s NZTC plans national centre for geothermal energy</td>\n",
       "      <td>15</td>\n",
       "    </tr>\n",
       "    <tr>\n",
       "      <th>12</th>\n",
       "      <td>Liz Truss opposes solar panels on farmland, Downing Street says</td>\n",
       "      <td>13</td>\n",
       "    </tr>\n",
       "    <tr>\n",
       "      <th>13</th>\n",
       "      <td>XR goes big on fake oil in protests at SLB, Ineos and others</td>\n",
       "      <td>12</td>\n",
       "    </tr>\n",
       "    <tr>\n",
       "      <th>14</th>\n",
       "      <td>Top Climate Stories 2021</td>\n",
       "      <td>3</td>\n",
       "    </tr>\n",
       "    <tr>\n",
       "      <th>15</th>\n",
       "      <td>GE blocked from selling huge offshore turbine in US by judge</td>\n",
       "      <td>6</td>\n",
       "    </tr>\n",
       "  </tbody>\n",
       "</table>\n",
       "</div>"
      ],
      "text/plain": [
       "                                                                       title  \\\n",
       "0                                           Cleantech Thought Leaders Series   \n",
       "1                                                       About David J. Cross   \n",
       "2                                    Cleantech Insights from Industry Series   \n",
       "3               Truss, Johnson Join Rebellion Against Sunak for Onshore Wind   \n",
       "4                 Staggering potential in next-gen building blocks for solar   \n",
       "5                       Royal Opera House drops BP as sponsor after 33 years   \n",
       "6              Macquarie targets North Sea as the green energy hub of Europe   \n",
       "7                     BEIS mulls ringfenced CfD support for geothermal power   \n",
       "8   Five ways for the energy industry to shift the dial on inclusion in 2023   \n",
       "9                     Key trends in UK renewables and what to expect in 2023   \n",
       "10                    Green hydrogen seen competing with LNG within a decade   \n",
       "11              Aberdeen’ s NZTC plans national centre for geothermal energy   \n",
       "12           Liz Truss opposes solar panels on farmland, Downing Street says   \n",
       "13              XR goes big on fake oil in protests at SLB, Ineos and others   \n",
       "14                                                  Top Climate Stories 2021   \n",
       "15              GE blocked from selling huge offshore turbine in US by judge   \n",
       "\n",
       "    duplicated_count  \n",
       "0                 30  \n",
       "1                 48  \n",
       "2                 21  \n",
       "3                  9  \n",
       "4                 39  \n",
       "5                 10  \n",
       "6                 12  \n",
       "7                 17  \n",
       "8                 15  \n",
       "9                 10  \n",
       "10                 4  \n",
       "11                15  \n",
       "12                13  \n",
       "13                12  \n",
       "14                 3  \n",
       "15                 6  "
      ]
     },
     "execution_count": 149,
     "metadata": {},
     "output_type": "execute_result"
    }
   ],
   "source": [
    "import ast\n",
    "\n",
    "pd.set_option('display.max_colwidth', None)\n",
    "\n",
    "def calculate_all_duplicate_document_contents(df, title_freq):\n",
    "    duplicates_counts = {}\n",
    "    \n",
    "    for title in title_freq['title']:\n",
    "        duplicate_contents = df[df['title'] == title]['content']\n",
    "        duplicate_contents = duplicate_contents.apply(ast.literal_eval)\n",
    "        duplicate_contents = duplicate_contents.explode()\n",
    "        duplicates_count = duplicate_contents.duplicated().sum()\n",
    "        duplicates_counts[title] = duplicates_count\n",
    "    \n",
    "    # return a pandas dataframe with the title and the count of duplicated contents\n",
    "    return pd.DataFrame(list(duplicates_counts.items()), columns=['title', 'duplicated_count'])\n",
    "\n",
    "duplicated_title_contents = calculate_all_duplicate_document_contents(df, title_freq)\n",
    "\n",
    "duplicated_title_contents"
   ]
  },
  {
   "cell_type": "markdown",
   "metadata": {},
   "source": [
    "The function yielded that the duplicate observations of title contain actual duplicate information on chunk-basis.\n",
    "\n",
    "This could mean that there are even more duplicate chunks under titles that aren't duplicate, so lets next look at that:"
   ]
  },
  {
   "cell_type": "code",
   "execution_count": 150,
   "metadata": {},
   "outputs": [],
   "source": [
    "df['content'] = df['content'].apply(ast.literal_eval)\n",
    "df_exploded_contents = df.explode('content')"
   ]
  },
  {
   "cell_type": "code",
   "execution_count": 153,
   "metadata": {},
   "outputs": [
    {
     "name": "stdout",
     "output_type": "stream",
     "text": [
      "Total duplicated contents: 893\n",
      "Total duplicated contents from duplicated titles: 264\n",
      "Total duplicated contents from non-duplicated titles: 629\n"
     ]
    }
   ],
   "source": [
    "print(f'Total duplicated contents: {df_exploded_contents.duplicated().sum()}'\n",
    "      f'\\nTotal duplicated contents from duplicated titles: {duplicated_title_contents[\"duplicated_count\"].sum()}'\n",
    "      f'\\nTotal duplicated contents from non-duplicated titles: {df_exploded_contents.duplicated().sum()-duplicated_title_contents[\"duplicated_count\"].sum()}')"
   ]
  },
  {
   "cell_type": "markdown",
   "metadata": {},
   "source": [
    "As the result shows, another `629` chunks on top of the `264` duplicates inside the duplicate-title-occurences emerged."
   ]
  },
  {
   "cell_type": "code",
   "execution_count": null,
   "metadata": {},
   "outputs": [],
   "source": []
  }
 ],
 "metadata": {
  "kernelspec": {
   "display_name": ".venv",
   "language": "python",
   "name": "python3"
  },
  "language_info": {
   "codemirror_mode": {
    "name": "ipython",
    "version": 3
   },
   "file_extension": ".py",
   "mimetype": "text/x-python",
   "name": "python",
   "nbconvert_exporter": "python",
   "pygments_lexer": "ipython3",
   "version": "3.10.10"
  }
 },
 "nbformat": 4,
 "nbformat_minor": 2
}
