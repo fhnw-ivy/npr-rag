{
 "cells": [
  {
   "cell_type": "markdown",
   "id": "393b298e",
   "metadata": {},
   "source": [
    "# npr MC1: Cleantech Retrieval Augemented Generation\n",
    "\n",
    "**Dominik Filliger, Nils Fahrni, Noah Leuenberger**\n",
    "\n",
    "> The topic of Mini-Challenge 1 is retrieval augmented generation (RAG) incorporating a combination of unsupervised learning, pre-training and in-context learning techniques.\n",
    "\n",
    "- [Description of the task](https://spaces.technik.fhnw.ch/storage/uploads/spaces/81/exercises/NPR-Mini-Challenge-1-Cleantech-RAG-1708982891.pdf)\n",
    "- [Introduction to RAG](https://spaces.technik.fhnw.ch/storage/uploads/spaces/81/exercises/Retrieval-Augmented-Generation-Intro-1709021241.pdf)\n",
    "\n",
    "This notebook serves as the main entry point for our solution to the NPR Mini-Challenge 1. We will provide a detailed explanation of our approach and the code we used to solve the task. However, we have outsourced the code for the evaluation, Langchain LLM model creation and vectorstore interaction to script files which can be found in the `src` directory.\n",
    "\n",
    "Additionally, scripts for the development subset and subset evaluation set creation can be found in the `scripts` directory and will be referenced in their respective sections.\n"
   ]
  },
  {
   "cell_type": "markdown",
   "id": "629c7169756adcbe",
   "metadata": {
    "collapsed": false
   },
   "source": [
    "# Setup\n"
   ]
  },
  {
   "cell_type": "code",
   "execution_count": 2,
   "id": "188c966d5cd28de1",
   "metadata": {},
   "outputs": [],
   "source": [
    "import os\n",
    "from dotenv import load_dotenv\n",
    "from tqdm import tqdm\n",
    "load_dotenv()\n",
    "from src.generation import get_llm_model, LLMModel\n",
    "azure_model = get_llm_model(LLMModel.GPT_3_AZURE)"
   ]
  },
  {
   "cell_type": "markdown",
   "id": "47adf37081d73c21",
   "metadata": {
    "collapsed": false
   },
   "source": [
    "## Observability & Monitoring\n",
    "\n",
    "> Phoenix is an open-source observability library designed for experimentation, evaluation, and troubleshooting. It allows AI Engineers and Data Scientists to quickly visualize their data, evaluate performance, track down issues, and export data to improve.\n",
    "\n",
    "We will use Phoenix to visualize traces to quickly debug pipelines. The library offers way more feature which we will not use. Down below we add the Phoenix callbacks to Langchain, our main library for the solution, to visualize the traces.\n"
   ]
  },
  {
   "cell_type": "code",
   "execution_count": 3,
   "id": "7d0092013e36ca8c",
   "metadata": {
    "collapsed": false
   },
   "outputs": [
    {
     "name": "stderr",
     "output_type": "stream",
     "text": [
      "/Users/nils/Documents/Classes/npr/npr-rag/.venv/lib/python3.12/site-packages/tqdm/auto.py:21: TqdmWarning: IProgress not found. Please update jupyter and ipywidgets. See https://ipywidgets.readthedocs.io/en/stable/user_install.html\n",
      "  from .autonotebook import tqdm as notebook_tqdm\n"
     ]
    },
    {
     "name": "stdout",
     "output_type": "stream",
     "text": [
      "No active session to close\n",
      "🌍 To view the Phoenix app in your browser, visit http://localhost:6006/\n",
      "📺 To view the Phoenix app in a notebook, run `px.active_session().view()`\n",
      "📖 For more information on how to use Phoenix, check out https://docs.arize.com/phoenix\n"
     ]
    }
   ],
   "source": [
    "from phoenix.trace.langchain import LangChainInstrumentor\n",
    "import phoenix as px\n",
    "\n",
    "px.close_app()\n",
    "session = px.launch_app()\n",
    "\n",
    "LangChainInstrumentor().instrument()"
   ]
  },
  {
   "cell_type": "markdown",
   "id": "caa766a0",
   "metadata": {},
   "source": [
    "To get quick access to the Phoenix dashboard, the dashboard is rendered in the notebook. The dashboard is interactive and can be used to explore the traces.\n"
   ]
  },
  {
   "cell_type": "code",
   "execution_count": 4,
   "id": "abd676a30f7effbe",
   "metadata": {
    "collapsed": false
   },
   "outputs": [
    {
     "name": "stdout",
     "output_type": "stream",
     "text": [
      "📺 Opening a view to the Phoenix app. The app is running at http://localhost:6006/\n"
     ]
    },
    {
     "data": {
      "text/html": [
       "\n",
       "        <iframe\n",
       "            width=\"100%\"\n",
       "            height=\"1000\"\n",
       "            src=\"http://localhost:6006/\"\n",
       "            frameborder=\"0\"\n",
       "            allowfullscreen\n",
       "            \n",
       "        ></iframe>\n",
       "        "
      ],
      "text/plain": [
       "<IPython.lib.display.IFrame at 0x17c094440>"
      ]
     },
     "execution_count": 4,
     "metadata": {},
     "output_type": "execute_result"
    }
   ],
   "source": [
    "session.view()"
   ]
  },
  {
   "cell_type": "markdown",
   "id": "4f9f2033ded77748",
   "metadata": {
    "collapsed": false
   },
   "source": [
    "# Data Loading & Preprocessing\n",
    "\n",
    "In order to save time and resources, we will only load a randomly sampled subset of the data. This subset will be used for development and testing purposes. The full dataset will be used for a final evaluation of our chosen approach."
   ]
  },
  {
   "cell_type": "code",
   "execution_count": 5,
   "id": "d028a391597bb1de",
   "metadata": {
    "collapsed": false
   },
   "outputs": [
    {
     "data": {
      "text/html": [
       "<div>\n",
       "<style scoped>\n",
       "    .dataframe tbody tr th:only-of-type {\n",
       "        vertical-align: middle;\n",
       "    }\n",
       "\n",
       "    .dataframe tbody tr th {\n",
       "        vertical-align: top;\n",
       "    }\n",
       "\n",
       "    .dataframe thead th {\n",
       "        text-align: right;\n",
       "    }\n",
       "</style>\n",
       "<table border=\"1\" class=\"dataframe\">\n",
       "  <thead>\n",
       "    <tr style=\"text-align: right;\">\n",
       "      <th></th>\n",
       "      <th>Unnamed: 0</th>\n",
       "      <th>title</th>\n",
       "      <th>date</th>\n",
       "      <th>author</th>\n",
       "      <th>content</th>\n",
       "      <th>domain</th>\n",
       "      <th>url</th>\n",
       "    </tr>\n",
       "  </thead>\n",
       "  <tbody>\n",
       "    <tr>\n",
       "      <th>0</th>\n",
       "      <td>77927</td>\n",
       "      <td>'Next level ': Iberdrola plans $ 2.6bn gigawat...</td>\n",
       "      <td>2021-12-02</td>\n",
       "      <td>NaN</td>\n",
       "      <td>['Plans for a gigawatt-scale electrolyser to f...</td>\n",
       "      <td>rechargenews</td>\n",
       "      <td>https://www.rechargenews.com/news/2-1-1111100</td>\n",
       "    </tr>\n",
       "    <tr>\n",
       "      <th>1</th>\n",
       "      <td>81316</td>\n",
       "      <td>Appalachian Power Issues RFP for 1,100 MW of R...</td>\n",
       "      <td>2022-01-19</td>\n",
       "      <td>NaN</td>\n",
       "      <td>['Appalachian Power has issued a new request f...</td>\n",
       "      <td>solarindustrymag</td>\n",
       "      <td>https://solarindustrymag.com/appalachian-power...</td>\n",
       "    </tr>\n",
       "    <tr>\n",
       "      <th>2</th>\n",
       "      <td>1323</td>\n",
       "      <td>Orsted's Green Plans Lag Its Peers</td>\n",
       "      <td>2021-06-04</td>\n",
       "      <td>NaN</td>\n",
       "      <td>[\"Danish utility Orsted intends to spend over ...</td>\n",
       "      <td>energyintel</td>\n",
       "      <td>https://www.energyintel.com/0000017b-a7dd-de4c...</td>\n",
       "    </tr>\n",
       "    <tr>\n",
       "      <th>3</th>\n",
       "      <td>78039</td>\n",
       "      <td>Offshore wind ' a massive untapped potential '...</td>\n",
       "      <td>2022-08-29</td>\n",
       "      <td>NaN</td>\n",
       "      <td>['Offshore wind power is rapidly emerging as a...</td>\n",
       "      <td>rechargenews</td>\n",
       "      <td>https://www.rechargenews.com/news/2-1-1286193</td>\n",
       "    </tr>\n",
       "    <tr>\n",
       "      <th>4</th>\n",
       "      <td>16584</td>\n",
       "      <td>Germany Threatens To Derail EU Green Deal Over...</td>\n",
       "      <td>2023-03-03</td>\n",
       "      <td>NaN</td>\n",
       "      <td>['The “ Climate Chancellor ” needs to draw a l...</td>\n",
       "      <td>cleantechnica</td>\n",
       "      <td>https://cleantechnica.com/2023/03/03/germany-t...</td>\n",
       "    </tr>\n",
       "  </tbody>\n",
       "</table>\n",
       "</div>"
      ],
      "text/plain": [
       "   Unnamed: 0                                              title        date  \\\n",
       "0       77927  'Next level ': Iberdrola plans $ 2.6bn gigawat...  2021-12-02   \n",
       "1       81316  Appalachian Power Issues RFP for 1,100 MW of R...  2022-01-19   \n",
       "2        1323                 Orsted's Green Plans Lag Its Peers  2021-06-04   \n",
       "3       78039  Offshore wind ' a massive untapped potential '...  2022-08-29   \n",
       "4       16584  Germany Threatens To Derail EU Green Deal Over...  2023-03-03   \n",
       "\n",
       "   author                                            content  \\\n",
       "0     NaN  ['Plans for a gigawatt-scale electrolyser to f...   \n",
       "1     NaN  ['Appalachian Power has issued a new request f...   \n",
       "2     NaN  [\"Danish utility Orsted intends to spend over ...   \n",
       "3     NaN  ['Offshore wind power is rapidly emerging as a...   \n",
       "4     NaN  ['The “ Climate Chancellor ” needs to draw a l...   \n",
       "\n",
       "             domain                                                url  \n",
       "0      rechargenews      https://www.rechargenews.com/news/2-1-1111100  \n",
       "1  solarindustrymag  https://solarindustrymag.com/appalachian-power...  \n",
       "2       energyintel  https://www.energyintel.com/0000017b-a7dd-de4c...  \n",
       "3      rechargenews      https://www.rechargenews.com/news/2-1-1286193  \n",
       "4     cleantechnica  https://cleantechnica.com/2023/03/03/germany-t...  "
      ]
     },
     "execution_count": 5,
     "metadata": {},
     "output_type": "execute_result"
    }
   ],
   "source": [
    "import pandas as pd\n",
    "df = pd.read_csv('data/Cleantech Media Dataset/cleantech_media_dataset_v2_2024-02-23_subset.csv')\n",
    "df.head()"
   ]
  },
  {
   "cell_type": "markdown",
   "id": "5aac816316023996",
   "metadata": {
    "collapsed": false
   },
   "source": [
    "## Splitting content into paragraphs\n",
    "\n",
    "The content is currently stored as a string which represents a list of string. \n",
    "\n",
    "As a base start we will take this string and transform it into a list of strings, explode this list into multiple rows and then remove the duplicates. This will allow us to work with the data in a more structured way. \n",
    "\n",
    "On top of that we will also remove special characters and empty strings from the content, following suit of our embedding model (bge-small-en).\n",
    "\n",
    "To do all this we will use the custom `Preprocessor` class.\n",
    "\n",
    "###### todo validate if this is the correct approach"
   ]
  },
  {
   "cell_type": "code",
   "execution_count": 6,
   "id": "1d6d6b974dc56bb8",
   "metadata": {},
   "outputs": [],
   "source": [
    "from src.preprocessing.preprocessor import Preprocessor\n",
    "\n",
    "default_preprocesser = Preprocessor(df)\n",
    "default_df = default_preprocesser.preprocess()"
   ]
  },
  {
   "cell_type": "code",
   "execution_count": null,
   "id": "da3d8045b2b97c19",
   "metadata": {
    "collapsed": false
   },
   "outputs": [],
   "source": []
  },
  {
   "cell_type": "markdown",
   "id": "29f172af1ea76470",
   "metadata": {
    "collapsed": false
   },
   "source": [
    "# Indexing\n",
    "\n",
    "The indexing involves creating a vector representation of the content. "
   ]
  },
  {
   "cell_type": "code",
   "execution_count": 7,
   "id": "af0a4a16684d3b86",
   "metadata": {
    "collapsed": false
   },
   "outputs": [],
   "source": [
    "from langchain_community.embeddings import HuggingFaceBgeEmbeddings\n",
    "\n",
    "bge_embeddings = HuggingFaceBgeEmbeddings(\n",
    "    model_name=\"BAAI/bge-small-en\", \n",
    "    model_kwargs={\"device\": \"cpu\"}, \n",
    "    encode_kwargs={\"normalize_embeddings\": True}\n",
    ")"
   ]
  },
  {
   "cell_type": "code",
   "execution_count": 8,
   "id": "f066402773ac9d58",
   "metadata": {
    "collapsed": false
   },
   "outputs": [
    {
     "name": "stderr",
     "output_type": "stream",
     "text": [
      "0it [00:00, ?it/s]"
     ]
    },
    {
     "name": "stderr",
     "output_type": "stream",
     "text": [
      "1533it [00:00, 17505.00it/s]\n"
     ]
    }
   ],
   "source": [
    "from langchain_core.documents import Document\n",
    "\n",
    "def create_documents(df):\n",
    "    docs = []\n",
    "    for index, row in tqdm(df.iterrows()):\n",
    "        content = row['content']\n",
    "\n",
    "        row = row.fillna('')\n",
    "\n",
    "        metadata = {\n",
    "            \"url\": row['url'],\n",
    "            \"domain\": row['domain'],\n",
    "            \"title\": row['title'],\n",
    "            \"author\": row['author'],\n",
    "            \"date\": row['date']\n",
    "        }\n",
    "\n",
    "        docs.append(Document(page_content=content, metadata=metadata))\n",
    "\n",
    "    return docs\n",
    "\n",
    "documents = create_documents(default_df)\n",
    "\n",
    "assert len(documents) == len(default_df)"
   ]
  },
  {
   "cell_type": "markdown",
   "id": "ec5d15f4",
   "metadata": {},
   "source": [
    "## Vector Store\n",
    "\n",
    "We will use [ChromaDB](https://www.trychroma.com/) to store the embeddings. For easier interaction with the embeddings, we will use the VectorStore class which is a wrapper around the embeddings and ChromaDB. It provides a simple interface to interact with the embeddings and ChromaDB functionality we need for the task.\n",
    "\n",
    "### ChromaDB Setup\n",
    "\n",
    "If the environment variables `CHROMADB_HOST` or `CHROMADB_PORT` are not set, the VectorStore will use a local non-persistent ChromaDB client, which is not recommended. Instead we recommend setting up a ChromaDB instance. The ChromaDB instance can be set up using the following command and Docker:\n",
    "\n",
    "```bash\n",
    "docker-compose up -d chromadb\n",
    "```\n",
    "\n",
    "Set the environment variables `CHROMADB_HOST` and `CHROMADB_PORT` to the host and port of the ChromaDB instance. The default values are `localhost` and `8192`.\n",
    "\n",
    "### VectorStore Usage\n",
    "\n",
    "The vector store is directly tied to the embeddings. Therefore a vector store is embedding specific and can only be used with the embeddings it was created with."
   ]
  },
  {
   "cell_type": "code",
   "execution_count": 9,
   "id": "f738ace88dd27a69",
   "metadata": {
    "collapsed": false
   },
   "outputs": [
    {
     "name": "stdout",
     "output_type": "stream",
     "text": [
      "ChromeDB Host:  100.109.183.32\n",
      "ChromeDB Port:  8192\n"
     ]
    }
   ],
   "source": [
    "from src.vectorstore import VectorStore\n",
    "\n",
    "print(\"ChromeDB Host: \", os.getenv('CHROMADB_HOST'))\n",
    "print(\"ChromeDB Port: \", os.getenv('CHROMADB_PORT'))\n",
    "\n",
    "bge_vector_store = VectorStore(embedding_function=bge_embeddings,\n",
    "                               collection=\"cleantech-bge-small-en\")"
   ]
  },
  {
   "cell_type": "markdown",
   "id": "3f20213c70591f14",
   "metadata": {
    "collapsed": false
   },
   "source": [
    "In the next step we will add the prepared documents from the previous step to the VectorStore."
   ]
  },
  {
   "cell_type": "code",
   "execution_count": 10,
   "id": "62d558939648a829",
   "metadata": {
    "collapsed": false
   },
   "outputs": [],
   "source": [
    "%%script false --no-raise-error\n",
    "bge_vector_store.add_documents(documents, verbose=True, batch_size=128)"
   ]
  },
  {
   "cell_type": "markdown",
   "id": "b2177cd39686a8db",
   "metadata": {
    "collapsed": false
   },
   "source": [
    "After adding the documents to the vector store we can now perform similarity searches on the documents to verify that the interaction with the vector store works as expected."
   ]
  },
  {
   "cell_type": "code",
   "execution_count": 11,
   "id": "91a13de926826f7f",
   "metadata": {
    "collapsed": false
   },
   "outputs": [
    {
     "data": {
      "text/plain": [
       "[(Document(page_content='The company in 2020 announced its intention to reduce operational GHG emissions intensity by 35% to 45% by 2030, a revision from the previous goal of 5% to 15%, and to reach net zero emissions by 2050.\\n\\nThe path to net zero will involve tools such as emissions offsets and carbon capture, utilization and sequestration, Lance said.\\n\\nWithin the ESG initiatives, Lance and Sheffield also stressed the importance of curbing routine natural gas flaring, which remains a stubborn challenge in the Permian despite progress made on reducing flaring intensity.\\n\\nOther measures such as electrifying fracture fleets, and better monitoring of methane leaks, will be crucial as well, they said.', metadata={'author': '', 'date': '2021-03-05', 'domain': 'naturalgasintel', 'title': 'ConocoPhillips, Pioneer Natural CEOs Preach Discipline as Permian Activity Rebounds', 'url': 'https://www.naturalgasintel.com/conocophillips-pioneer-natural-ceos-preach-discipline-as-permian-activity-rebounds/'}),\n",
       "  0.22608880698680878),\n",
       " (Document(page_content='Kahina Abdeli-Galinier, Schlumberger emissions business director, commented: “ The urgency of methane and flare challenges means emission detection, measurement, reporting and abatement approaches need to mature rapidly. To benefit the industry, SEES aspires to become the trusted partner for operators looking to reduce their emissions footprint quickly, credibly, and in the right way. To benefit the planet, our objective is to work with our customers to eliminate 1% of all anthropogenic GHG emissions by 2030. ”', metadata={'author': '', 'date': '2022-03-09', 'domain': 'azocleantech', 'title': 'Schlumberger Launches Dedicated Business to Eliminate Oil and Gas Industry’ s Methane and Routine Flare Emissions', 'url': 'https://www.azocleantech.com/news.aspx?newsID=31294'}),\n",
       "  0.24056470394134521),\n",
       " (Document(page_content='Qatar Petroleum ( QP) has launched a new sustainability strategy, aiming to reduce the emissions intensity of its LNG facilities by 25%.\\n\\nThe company also aims to reduce emissions from its upstream facilities by at least 15% and cut flaring intensity in the upstream by more than 75%. The Qatari NOC set 2013 as the baseline. It intends to achieve the targets by 2030.\\n\\nQP is targeting an end to routine flaring by 2030 and limiting fugitive methane emissions. It will accomplish this by setting a methane intensity target of 0.2% across all facilities by 2025.\\n\\nThe company has spent $ 900 million between 2012 and 2018 on reducing flaring. Another $ 170mn has been committed for investment from 2018 to 2021.\\n\\nQP has committed to using carbon capture and storage ( CCS) facilities to capture more than 7 million tonnes per year. In December 2020, QP said it planned to sequester this amount of CO2 by 2027.', metadata={'author': '', 'date': '2021-01-13', 'domain': 'energyvoice', 'title': 'QP launches carbon cut strategy - News for the Energy Sector', 'url': 'https://www.energyvoice.com//www.energyvoice.com/oilandgas/middle-east/lng-middle-east/291211/qp-emissions-lng-sustainability/'}),\n",
       "  0.2503651976585388),\n",
       " (Document(page_content='Oil and gas sector emissions reductions get less press, but are also significant. In addition to an active flare-reduction program, Cairo last October signed a deal with local firm SMA to undertake a two-year country-wide inspection of all facilities for gas leaks, notes another source. Some 25 teams, using infrared Flir cameras, have started on downstream facilities in the Alexandria area, and should begin surveying upstream operations toward the end of the year. This project alone is targeting a 30% cut in oil and gas sector emissions.', metadata={'author': '', 'date': '2022-08-10', 'domain': 'energyintel', 'title': \"Risks and Rewards for Egypt's Role as COP Host\", 'url': 'https://www.energyintel.com/00000182-8311-d4e0-abc6-d3713e5b0004'}),\n",
       "  0.25055551528930664)]"
      ]
     },
     "execution_count": 11,
     "metadata": {},
     "output_type": "execute_result"
    }
   ],
   "source": [
    "bge_vector_store.similarity_search_w_scores(\"The company is also aiming to reduce gas flaring?\")"
   ]
  },
  {
   "cell_type": "markdown",
   "id": "7ad87a39c366b0b3",
   "metadata": {},
   "source": [
    "# Baseline Pipeline\n",
    "\n",
    "The baseline pipeline is a first simple implementation of the RAG pipeline.\n"
   ]
  },
  {
   "cell_type": "code",
   "execution_count": 12,
   "id": "fcc6ebdf4dab2924",
   "metadata": {
    "collapsed": false
   },
   "outputs": [],
   "source": [
    "rag_prompt = \"\"\"\n",
    "Answer the question to your best knowledge when looking at the following context:\n",
    "{context}\n",
    "                \n",
    "Question: {question}\n",
    "\"\"\""
   ]
  },
  {
   "cell_type": "code",
   "execution_count": 13,
   "id": "83dfe841ed24a7a7",
   "metadata": {
    "collapsed": false
   },
   "outputs": [],
   "source": [
    "from langchain_core.output_parsers import StrOutputParser\n",
    "from langchain_core.prompts import ChatPromptTemplate\n",
    "from langchain_core.runnables import RunnablePassthrough\n",
    "from langchain_core.runnables import RunnableParallel\n",
    "\n",
    "def format_docs(docs):\n",
    "    return \"\\n\\n\".join(doc.page_content for doc in docs)\n",
    "\n",
    "rag_chain_from_docs = (\n",
    "        RunnablePassthrough.assign(context=(lambda x: format_docs(x[\"context\"])))\n",
    "        | ChatPromptTemplate.from_template(rag_prompt)\n",
    "        | azure_model\n",
    "        | StrOutputParser()\n",
    ")\n",
    "\n",
    "rag_chain_with_source = RunnableParallel(\n",
    "    {\n",
    "        \"context\": bge_vector_store.get_retriever(), \n",
    "        \"question\": RunnablePassthrough()\n",
    "    }\n",
    ").assign(answer=rag_chain_from_docs)"
   ]
  },
  {
   "cell_type": "code",
   "execution_count": 14,
   "id": "f8b1225784152974",
   "metadata": {
    "collapsed": false
   },
   "outputs": [
    {
     "data": {
      "text/plain": [
       "{'context': [Document(page_content='However, the report does concede that “ there does seem to be a sounder logic of fewer high-intensity gas users connecting to a smaller network ”. These users include gas peaker plants, heavy industry requiring high-temperature heat, aviation and long-distance haulage.\\n\\nThe study does not point out that when hydrogen is combusted, it reacts with nitrogen in the air to produces nitrogen oxides that are greenhouse gases.\\n\\n* LETI is a UK-based voluntary network consisting of more than 1,000 developers, engineers, housing associations, architects, planners, academics, sustainability professionals, contractors and facilities managers.\\n\\nRecharge is part of DN Media Group. To read more about DN Media Group, click here\\n\\nRecharge is part of DN Media Group AS. From November 1st DN Media Group is responsible for controlling your data on Recharge.', metadata={'author': '', 'date': '2021-02-10', 'domain': 'rechargenews', 'title': 'Why using clean hydrogen for heating will be too difficult, expensive and inefficient: report', 'url': 'https://www.rechargenews.com/news/2-1-960777'}),\n",
       "  Document(page_content=\"ONGC has said it has cut the carbon emissions intensity of its operations by more than 12% since 2016.\\n\\nIndia’ s public-sector enterprises are under pressure from the government to scale down emissions and reduce their carbon footprints in line with global practices.\\n\\nThe government earlier unveiled a proposal that could compel oil refineries and fertiliser plants to use green hydrogen.\\n\\nWhile ONGC has been predominantly focusing on its oil and gas operations, it has registered 15 clean development mechanism ( CDM) projects with the United Nations Framework Convention on Climate Change under the Kyoto Protocol as a part of its sustainability drive.\\n\\nONGC’ s CDM portfolio is said to include several solar-power projects, along with plans for wind power and CCUS projects.\\n\\n( This article appeared originally in Recharge's sister oil and gas publication Upstream).\\n\\nRecharge is part of DN Media Group. To read more about DN Media Group, click here\", metadata={'author': '', 'date': '2023-08-31', 'domain': 'rechargenews', 'title': 'Indian oil giant has $ 24bn investment plan to meet net-zero emissions target', 'url': 'https://www.rechargenews.com/energy-transition/indian-oil-giant-has-24bn-investment-plan-to-meet-net-zero-emissions-target/2-1-1509591'}),\n",
       "  Document(page_content='Gas companies argue that blending would allow a fast ramp-up of clean hydrogen projects as networks would be guaranteed off-takers, and that it would also help reduce carbon emissions in the short term — ahead of 100% hydrogen use in grids, even though the volume of clean H2 required to do that would be almost impossible to obtain.\\n\\nCritics believe blending to be little more than greenwashing by gas distributors and producers as part of a bid to extend the use of fossil fuels and allow an ultimately unsustainable business model — in climate terms — to continue in the short to medium term.\\n\\nRecharge is part of DN Media Group. To read more about DN Media Group, click here\\n\\nRecharge is part of DN Media Group AS. From November 1st DN Media Group is responsible for controlling your data on Recharge.\\n\\nWe use your data to ensure you have a secure and enjoyable user experience when visiting our site. You can read more about how we handle your information in our privacy policy.', metadata={'author': '', 'date': '2022-05-05', 'domain': 'rechargenews', 'title': \"Hydrogen blending in gas grid would lead to 'limited CO2 benefits and a large increase in energy costs ': Irena\", 'url': 'https://www.rechargenews.com/news/2-1-1213821'}),\n",
       "  Document(page_content='“ Perhaps most importantly, hydrogen’ s higher flame temperature means a 50-50 blend with natural gas would drive 35% higher NOx emissions relative to burning 100% natural gas, ” the report explains. “ Compliance with existing or future regulations may require that project owners install larger or more efficient NOx control ( selective catalytic reduction) systems or reduce assets’ flame temperature ( which also reduces their power output and, in turn, their heat efficiency and competitiveness). While turbine manufacturers are exploring new technologies to limit NOx emissions from burning hydrogen, they have yet to find viable solutions. ”\\n\\nThe third reason is that hydrogen-fired gas turbines are not yet commercially available, and that existing turbines can only work with H2 blends of up to 30%.', metadata={'author': '', 'date': '2022-03-30', 'domain': 'rechargenews', 'title': 'Hydrogen blending will raise consumer costs and risk public health while barely reducing emissions: US think-tank', 'url': 'https://www.rechargenews.com/news/2-1-1193416'})],\n",
       " 'question': 'Is the company aiming to reduce gas flaring?',\n",
       " 'answer': \"There is no information in the given context about the company's aim to reduce gas flaring.\"}"
      ]
     },
     "execution_count": 14,
     "metadata": {},
     "output_type": "execute_result"
    }
   ],
   "source": [
    "rag_chain_with_source.invoke(\"Is the company aiming to reduce gas flaring?\")"
   ]
  },
  {
   "cell_type": "markdown",
   "id": "9a0c9f4f51cdcb2f",
   "metadata": {},
   "source": [
    "# Evaluation\n",
    "\n",
    "In order to compare the performance of different pipelines we need to evaluate them. The evaluation is done with the `ragas` library. The library provides a function to evaluate the performance of the pipeline. `ragas` provides predefined metrics for the evaluation which are described in the [documentation](https://docs.ragas.io/en/stable/concepts/metrics/index.html). We will use the following metrics to evaluate the performance of our pipelines:\n",
    "\n",
    "- **Context Relevancy**: The context relevancy metric measures how well the generated response is related to the context. The metric is calculated as the cosine similarity between the context and the generated response.\n",
    "\n",
    "## Evaluation Set\n",
    "In order to provide a fair comparison between the different pipelines we will use the same evaluation set for all pipelines. The evaluation set was created before hand with the script `scripts/generate_testset.py`. With that we can evaluate the performance of our pipelines with a subset of the data which saves time and resources."
   ]
  },
  {
   "cell_type": "code",
   "execution_count": 15,
   "id": "ad1d73f0cad6c2a5",
   "metadata": {
    "collapsed": false
   },
   "outputs": [
    {
     "data": {
      "text/html": [
       "<div>\n",
       "<style scoped>\n",
       "    .dataframe tbody tr th:only-of-type {\n",
       "        vertical-align: middle;\n",
       "    }\n",
       "\n",
       "    .dataframe tbody tr th {\n",
       "        vertical-align: top;\n",
       "    }\n",
       "\n",
       "    .dataframe thead th {\n",
       "        text-align: right;\n",
       "    }\n",
       "</style>\n",
       "<table border=\"1\" class=\"dataframe\">\n",
       "  <thead>\n",
       "    <tr style=\"text-align: right;\">\n",
       "      <th></th>\n",
       "      <th>question</th>\n",
       "      <th>relevant_chunk</th>\n",
       "      <th>answer</th>\n",
       "      <th>question_complexity</th>\n",
       "      <th>episode_done</th>\n",
       "    </tr>\n",
       "  </thead>\n",
       "  <tbody>\n",
       "    <tr>\n",
       "      <th>29</th>\n",
       "      <td>How could Germany's potential abstention from ...</td>\n",
       "      <td>[\"['The “ Climate Chancellor ” needs to draw a...</td>\n",
       "      <td>If Germany abstains from the EU vote to end th...</td>\n",
       "      <td>simple</td>\n",
       "      <td>True</td>\n",
       "    </tr>\n",
       "    <tr>\n",
       "      <th>20</th>\n",
       "      <td>What is the history and development of the Pap...</td>\n",
       "      <td>[\"['Waren ( Müritz), the first city to have MW...</td>\n",
       "      <td>The Papenberg geothermal heating plant in Ware...</td>\n",
       "      <td>simple</td>\n",
       "      <td>True</td>\n",
       "    </tr>\n",
       "    <tr>\n",
       "      <th>8</th>\n",
       "      <td>What actions is the Department of Energy takin...</td>\n",
       "      <td>[\"clean energy economy, ” said U.S. Secretary ...</td>\n",
       "      <td>The Department of Energy is working to jump-st...</td>\n",
       "      <td>reasoning</td>\n",
       "      <td>True</td>\n",
       "    </tr>\n",
       "    <tr>\n",
       "      <th>10</th>\n",
       "      <td>What is the capacity of Duke Energy's new util...</td>\n",
       "      <td>[\"['Duke Energy customers in Northern Kentucky...</td>\n",
       "      <td>The new utility-scale solar project in Norther...</td>\n",
       "      <td>simple</td>\n",
       "      <td>True</td>\n",
       "    </tr>\n",
       "    <tr>\n",
       "      <th>44</th>\n",
       "      <td>What is the DOE doing to promote diversity and...</td>\n",
       "      <td>[\"Black ( 8%), and Indigenous worker ( 1%) rep...</td>\n",
       "      <td>The DOE has designed the Advancing Equity thro...</td>\n",
       "      <td>simple</td>\n",
       "      <td>True</td>\n",
       "    </tr>\n",
       "    <tr>\n",
       "      <th>47</th>\n",
       "      <td>What are the factors affecting power generatio...</td>\n",
       "      <td>['do their jobs of making energy until they\\'r...</td>\n",
       "      <td>The factors affecting power generation in grou...</td>\n",
       "      <td>reasoning</td>\n",
       "      <td>True</td>\n",
       "    </tr>\n",
       "    <tr>\n",
       "      <th>11</th>\n",
       "      <td>What factors are necessary to unlock renewable...</td>\n",
       "      <td>['for solar-based corporate power purchase agr...</td>\n",
       "      <td>Orsted states that regulatory mandates or ince...</td>\n",
       "      <td>simple</td>\n",
       "      <td>True</td>\n",
       "    </tr>\n",
       "    <tr>\n",
       "      <th>43</th>\n",
       "      <td>What is the goal of President Biden's Investin...</td>\n",
       "      <td>[\"['WASHINGTON, D.C. — As part of President Bi...</td>\n",
       "      <td>The goal of President Biden's Investing in Ame...</td>\n",
       "      <td>simple</td>\n",
       "      <td>True</td>\n",
       "    </tr>\n",
       "    <tr>\n",
       "      <th>32</th>\n",
       "      <td>How has the recent shutdown of French nuclear ...</td>\n",
       "      <td>[\"s taken another 12 reactors offline unexpect...</td>\n",
       "      <td>The recent shutdown of French nuclear reactors...</td>\n",
       "      <td>simple</td>\n",
       "      <td>True</td>\n",
       "    </tr>\n",
       "    <tr>\n",
       "      <th>13</th>\n",
       "      <td>Is energy independence a feasible concept in a...</td>\n",
       "      <td>[\"deeply educated, and security clearance enab...</td>\n",
       "      <td>No, energy independence is not a feasible conc...</td>\n",
       "      <td>simple</td>\n",
       "      <td>True</td>\n",
       "    </tr>\n",
       "  </tbody>\n",
       "</table>\n",
       "</div>"
      ],
      "text/plain": [
       "                                             question  \\\n",
       "29  How could Germany's potential abstention from ...   \n",
       "20  What is the history and development of the Pap...   \n",
       "8   What actions is the Department of Energy takin...   \n",
       "10  What is the capacity of Duke Energy's new util...   \n",
       "44  What is the DOE doing to promote diversity and...   \n",
       "47  What are the factors affecting power generatio...   \n",
       "11  What factors are necessary to unlock renewable...   \n",
       "43  What is the goal of President Biden's Investin...   \n",
       "32  How has the recent shutdown of French nuclear ...   \n",
       "13  Is energy independence a feasible concept in a...   \n",
       "\n",
       "                                       relevant_chunk  \\\n",
       "29  [\"['The “ Climate Chancellor ” needs to draw a...   \n",
       "20  [\"['Waren ( Müritz), the first city to have MW...   \n",
       "8   [\"clean energy economy, ” said U.S. Secretary ...   \n",
       "10  [\"['Duke Energy customers in Northern Kentucky...   \n",
       "44  [\"Black ( 8%), and Indigenous worker ( 1%) rep...   \n",
       "47  ['do their jobs of making energy until they\\'r...   \n",
       "11  ['for solar-based corporate power purchase agr...   \n",
       "43  [\"['WASHINGTON, D.C. — As part of President Bi...   \n",
       "32  [\"s taken another 12 reactors offline unexpect...   \n",
       "13  [\"deeply educated, and security clearance enab...   \n",
       "\n",
       "                                               answer question_complexity  \\\n",
       "29  If Germany abstains from the EU vote to end th...              simple   \n",
       "20  The Papenberg geothermal heating plant in Ware...              simple   \n",
       "8   The Department of Energy is working to jump-st...           reasoning   \n",
       "10  The new utility-scale solar project in Norther...              simple   \n",
       "44  The DOE has designed the Advancing Equity thro...              simple   \n",
       "47  The factors affecting power generation in grou...           reasoning   \n",
       "11  Orsted states that regulatory mandates or ince...              simple   \n",
       "43  The goal of President Biden's Investing in Ame...              simple   \n",
       "32  The recent shutdown of French nuclear reactors...              simple   \n",
       "13  No, energy independence is not a feasible conc...              simple   \n",
       "\n",
       "    episode_done  \n",
       "29          True  \n",
       "20          True  \n",
       "8           True  \n",
       "10          True  \n",
       "44          True  \n",
       "47          True  \n",
       "11          True  \n",
       "43          True  \n",
       "32          True  \n",
       "13          True  "
      ]
     },
     "execution_count": 15,
     "metadata": {},
     "output_type": "execute_result"
    }
   ],
   "source": [
    "df_eval_subset = pd.read_csv('data/Cleantech Media Dataset/cleantech_media_dataset_v2_2024-02-23_subset_eval.csv')\n",
    "df_eval_subset = df_eval_subset.dropna(subset=['answer'])\n",
    "df_eval_subset = df_eval_subset.drop_duplicates().sample(10)\n",
    "df_eval_subset"
   ]
  },
  {
   "cell_type": "markdown",
   "id": "6ae15782",
   "metadata": {},
   "source": [
    "## RAGEvaluator\n",
    "The RAGEvaluator evaluation class is a wrapper around the `ragas` library. It provides a simple interface to evaluate the performance of the pipelines. The class provides a method to evaluate the performance of the pipeline and returns the results as a pandas DataFrame. The metrics are calculated for each example in the evaluation set and results can be aggregated over the whole evaluation set to get an overall performance of the pipeline."
   ]
  },
  {
   "cell_type": "code",
   "execution_count": 16,
   "id": "f5bccbe256adad5d",
   "metadata": {
    "collapsed": false
   },
   "outputs": [],
   "source": [
    "from src.evaluation import RAGEvaluator\n",
    "rag_evaluator = RAGEvaluator(chain=rag_chain_with_source,\n",
    "                             llm_model=azure_model,\n",
    "                             embeddings=bge_embeddings)"
   ]
  },
  {
   "cell_type": "code",
   "execution_count": 17,
   "id": "4f11f14347ce18bb",
   "metadata": {
    "collapsed": false
   },
   "outputs": [
    {
     "name": "stderr",
     "output_type": "stream",
     "text": [
      "Creating dataset: 100%|██████████| 10/10 [00:25<00:00,  2.52s/it]\n",
      "Evaluating:  28%|██▊       | 31/110 [00:42<02:51,  2.17s/it]Failed to parse output. Returning None.\n",
      "Evaluating:  31%|███       | 34/110 [00:46<02:23,  1.89s/it]Failed to parse output. Returning None.\n",
      "Evaluating:  34%|███▎      | 37/110 [00:59<04:08,  3.40s/it]Failed to parse output. Returning None.\n",
      "Evaluating:  87%|████████▋ | 96/110 [02:44<00:32,  2.34s/it]No statements were generated from the answer.\n",
      "Evaluating: 100%|██████████| 110/110 [03:18<00:00,  1.81s/it]\n",
      "Reasoning: 100%|██████████| 10/10 [00:21<00:00,  2.13s/it]\n"
     ]
    }
   ],
   "source": [
    "rag_evaluator.create_dataset_from_df(df_eval_subset)\n",
    "default_eval_result = rag_evaluator.evaluate(raise_exceptions=False)"
   ]
  },
  {
   "cell_type": "code",
   "execution_count": 18,
   "id": "835890b412a2afca",
   "metadata": {
    "collapsed": false
   },
   "outputs": [
    {
     "data": {
      "image/png": "[encoded data removed]",
      "text/plain": [
       "<Figure size 1000x600 with 1 Axes>"
      ]
     },
     "metadata": {},
     "output_type": "display_data"
    }
   ],
   "source": [
    "rag_evaluator.summarize_metrics()"
   ]
  },
  {
   "cell_type": "markdown",
   "id": "e8641b16",
   "metadata": {},
   "source": [
    "# Experiment 1: Looking at the impact of context and its chunking strategy\n",
    "\n",
    "Contrary to the apparent structure of the data, which seems to have already chunked the data according to the first proposed chunking strategy, this step will introduce the concatenation of these premade chunks into one single document. This will help us to see if it is beneficial for the LLM to have the entire document context instead of just a chunk of said document.\n",
    "\n",
    "First, to restructure the cleantech-dataset's content structure, we can call the `preprocess()` method on the `Preprocessor` Object which was instantiated using the `concatenate_contents=True` attribute. This will turn the list of all prechunked contents into a joined string, representing the content of every document."
   ]
  },
  {
   "cell_type": "code",
   "execution_count": 19,
   "id": "475fdb799c1cdd20",
   "metadata": {
    "collapsed": false
   },
   "outputs": [],
   "source": [
    "full_document_preprocessor = Preprocessor(df, explode=False, concatenate_contents=True)\n",
    "df_full_content = full_document_preprocessor.preprocess()"
   ]
  },
  {
   "cell_type": "markdown",
   "id": "e5d18816",
   "metadata": {},
   "source": [
    "In order to embed the processed documents we again can turn them into langchain-digestible Documents."
   ]
  },
  {
   "cell_type": "code",
   "execution_count": 20,
   "id": "18b55e88",
   "metadata": {},
   "outputs": [
    {
     "ename": "KeyboardInterrupt",
     "evalue": "",
     "output_type": "error",
     "traceback": [
      "\u001b[0;31m---------------------------------------------------------------------------\u001b[0m",
      "\u001b[0;31mKeyboardInterrupt\u001b[0m                         Traceback (most recent call last)",
      "Cell \u001b[0;32mIn[20], line 1\u001b[0m\n\u001b[0;32m----> 1\u001b[0m full_content_documents \u001b[38;5;241m=\u001b[39m \u001b[43mcreate_documents\u001b[49m\u001b[43m(\u001b[49m\u001b[43mdf_full_content\u001b[49m\u001b[43m)\u001b[49m\n\u001b[1;32m      3\u001b[0m \u001b[38;5;28;01massert\u001b[39;00m \u001b[38;5;28mlen\u001b[39m(full_content_documents) \u001b[38;5;241m==\u001b[39m \u001b[38;5;28mlen\u001b[39m(df_full_content)\n",
      "Cell \u001b[0;32mIn[7], line 5\u001b[0m, in \u001b[0;36mcreate_documents\u001b[0;34m(df)\u001b[0m\n\u001b[1;32m      3\u001b[0m \u001b[38;5;28;01mdef\u001b[39;00m \u001b[38;5;21mcreate_documents\u001b[39m(df):\n\u001b[1;32m      4\u001b[0m     docs \u001b[38;5;241m=\u001b[39m []\n\u001b[0;32m----> 5\u001b[0m     \u001b[38;5;28;01mfor\u001b[39;00m index, row \u001b[38;5;129;01min\u001b[39;00m \u001b[43mtqdm\u001b[49m\u001b[43m(\u001b[49m\u001b[43mdf\u001b[49m\u001b[38;5;241;43m.\u001b[39;49m\u001b[43miterrows\u001b[49m\u001b[43m(\u001b[49m\u001b[43m)\u001b[49m\u001b[43m)\u001b[49m:\n\u001b[1;32m      6\u001b[0m         content \u001b[38;5;241m=\u001b[39m row[\u001b[38;5;124m'\u001b[39m\u001b[38;5;124mcontent\u001b[39m\u001b[38;5;124m'\u001b[39m]\n\u001b[1;32m      8\u001b[0m         row \u001b[38;5;241m=\u001b[39m row\u001b[38;5;241m.\u001b[39mfillna(\u001b[38;5;124m'\u001b[39m\u001b[38;5;124m'\u001b[39m)\n",
      "File \u001b[0;32m~/Documents/Classes/npr/npr-rag/.venv/lib/python3.12/site-packages/tqdm/std.py:665\u001b[0m, in \u001b[0;36mtqdm.__new__\u001b[0;34m(cls, *_, **__)\u001b[0m\n\u001b[1;32m    663\u001b[0m \u001b[38;5;28;01mdef\u001b[39;00m \u001b[38;5;21m__new__\u001b[39m(\u001b[38;5;28mcls\u001b[39m, \u001b[38;5;241m*\u001b[39m_, \u001b[38;5;241m*\u001b[39m\u001b[38;5;241m*\u001b[39m__):\n\u001b[1;32m    664\u001b[0m     instance \u001b[38;5;241m=\u001b[39m \u001b[38;5;28mobject\u001b[39m\u001b[38;5;241m.\u001b[39m\u001b[38;5;21m__new__\u001b[39m(\u001b[38;5;28mcls\u001b[39m)\n\u001b[0;32m--> 665\u001b[0m \u001b[43m    \u001b[49m\u001b[38;5;28;43;01mwith\u001b[39;49;00m\u001b[43m \u001b[49m\u001b[38;5;28;43mcls\u001b[39;49m\u001b[38;5;241;43m.\u001b[39;49m\u001b[43mget_lock\u001b[49m\u001b[43m(\u001b[49m\u001b[43m)\u001b[49m\u001b[43m:\u001b[49m\u001b[43m  \u001b[49m\u001b[38;5;66;43;03m# also constructs lock if non-existent\u001b[39;49;00m\n\u001b[1;32m    666\u001b[0m \u001b[43m        \u001b[49m\u001b[38;5;28;43mcls\u001b[39;49m\u001b[38;5;241;43m.\u001b[39;49m\u001b[43m_instances\u001b[49m\u001b[38;5;241;43m.\u001b[39;49m\u001b[43madd\u001b[49m\u001b[43m(\u001b[49m\u001b[43minstance\u001b[49m\u001b[43m)\u001b[49m\n\u001b[1;32m    667\u001b[0m \u001b[43m        \u001b[49m\u001b[38;5;66;43;03m# create monitoring thread\u001b[39;49;00m\n",
      "File \u001b[0;32m~/Documents/Classes/npr/npr-rag/.venv/lib/python3.12/site-packages/tqdm/std.py:111\u001b[0m, in \u001b[0;36mTqdmDefaultWriteLock.__enter__\u001b[0;34m(self)\u001b[0m\n\u001b[1;32m    110\u001b[0m \u001b[38;5;28;01mdef\u001b[39;00m \u001b[38;5;21m__enter__\u001b[39m(\u001b[38;5;28mself\u001b[39m):\n\u001b[0;32m--> 111\u001b[0m     \u001b[38;5;28;43mself\u001b[39;49m\u001b[38;5;241;43m.\u001b[39;49m\u001b[43macquire\u001b[49m\u001b[43m(\u001b[49m\u001b[43m)\u001b[49m\n",
      "File \u001b[0;32m~/Documents/Classes/npr/npr-rag/.venv/lib/python3.12/site-packages/tqdm/std.py:104\u001b[0m, in \u001b[0;36mTqdmDefaultWriteLock.acquire\u001b[0;34m(self, *a, **k)\u001b[0m\n\u001b[1;32m    102\u001b[0m \u001b[38;5;28;01mdef\u001b[39;00m \u001b[38;5;21macquire\u001b[39m(\u001b[38;5;28mself\u001b[39m, \u001b[38;5;241m*\u001b[39ma, \u001b[38;5;241m*\u001b[39m\u001b[38;5;241m*\u001b[39mk):\n\u001b[1;32m    103\u001b[0m     \u001b[38;5;28;01mfor\u001b[39;00m lock \u001b[38;5;129;01min\u001b[39;00m \u001b[38;5;28mself\u001b[39m\u001b[38;5;241m.\u001b[39mlocks:\n\u001b[0;32m--> 104\u001b[0m         \u001b[43mlock\u001b[49m\u001b[38;5;241;43m.\u001b[39;49m\u001b[43macquire\u001b[49m\u001b[43m(\u001b[49m\u001b[38;5;241;43m*\u001b[39;49m\u001b[43ma\u001b[49m\u001b[43m,\u001b[49m\u001b[43m \u001b[49m\u001b[38;5;241;43m*\u001b[39;49m\u001b[38;5;241;43m*\u001b[39;49m\u001b[43mk\u001b[49m\u001b[43m)\u001b[49m\n",
      "\u001b[0;31mKeyboardInterrupt\u001b[0m: "
     ]
    }
   ],
   "source": [
    "full_content_documents = create_documents(df_full_content)\n",
    "\n",
    "assert len(full_content_documents) == len(df_full_content)"
   ]
  },
  {
   "cell_type": "markdown",
   "id": "4edca8df",
   "metadata": {},
   "source": [
    "And in order to look at this experiment in an encapsulated manner, a new `VectorStore` will be created."
   ]
  },
  {
   "cell_type": "code",
   "execution_count": 29,
   "id": "ad572672",
   "metadata": {},
   "outputs": [],
   "source": [
    "bge_full_content_vector_store = VectorStore(embedding_function=bge_embeddings,\n",
    "                                            collection=\"cleantech-full-content-bge-small-en\")"
   ]
  },
  {
   "cell_type": "code",
   "execution_count": 30,
   "id": "15eb78af",
   "metadata": {},
   "outputs": [],
   "source": [
    "%%script false --no-raise-error\n",
    "bge_full_content_vector_store.add_documents(full_content_documents, verbose=True, batch_size=128)"
   ]
  },
  {
   "cell_type": "code",
   "execution_count": 31,
   "id": "f8cac4a3",
   "metadata": {},
   "outputs": [
    {
     "data": {
      "text/plain": [
       "[(Document(page_content='LNG  Mexico  Natural Gas Prices  NGI All News Access  NGI The Weekly Gas Market Report Mexico Pacific Ltd LLC  MPL continues to advance its liquefied natural gas  LNG export project for the Pacific coast of the country This week the company signed a collaboration agreement with ConocoPhillips LNG Licensing LLC and Bechtel Together the companies plan to work with construction firm Techint SA de CV to pursue  innovative lower carbon LNG design solutions  for potential future phases of the project The collaboration plans to further reduce baseline emissions by exploring  energy transition and greenhouse gas emission reduction  technologies developed by ConocoPhillips LNG and designed by Bechtel This would include  carbonadvantaged gas feedstock  and  developing a commercial strategy for supplying carbon neutral LNG in the future  said ConocoPhillips Tom Mathiasmeier president of Global Gas Power and LNG  Get in the know Access to pipelines processing plants and LNG facilities is imperative to success in the Mexico natural gas market Buy NGI s 2022 Mexico map today  With natural gas prices soaring in Asia interest on the part of buyers in MPL s Puerto Libertad project has picked up considerably The LNG project would source gas piped from the Permian Basin to ship LNG from Mexico to Asian countries bypassing the Panama Canal MPL CEO Doug Shanda told NGI s Mexico GPI that  more than  22 million metric tonsyear  mmty of binding offtake capacity is under negotiation for the project Of that 14 mmty is potentially contracted through signed memorandums of understanding Shanda said MPL is aiming to close binding offtake agreements for the first two trains by year s end A final investment decision  FID is expected in early 2022  Our project will already achieve lower greenhouse gas  GHG  emissions than other projects through design and shorter shipping distance to Asia and our recently announced low carbon initiative for our future phases furthers our value proposition  Shanda said The project is progressing toward FID  with great momentum  The customer interest  oversubscribes the first phase of our project and positions us to quickly pivot to focus on FID for Trains 3 and beyond  A combined capacity of 94 mmty could come online in 2025 A third train would bring capacity to 141 mmty Longerterm MPL is eyeing six trains for a combined 282 mmty  The MPL LNG Project will be a great example of how we along with our customers and technology providers can continue to supply LNG to offset traditional high emission fuels such as coal and others while developing and applying real innovations to meet the environmental goals of the industry  said Bechtel Energy President Paul Marsden MPL is not the only company exploring low carbon options for LNG in Mexico In July the country received its first cargo of carbon offset LNG at Sempra s Energa Costa Azul  ECA terminal on Mexico s Pacific coast GHG emissions from the cargo were offset by BP Gas Marketing Ltd retiring carbon credits sourced from its portfolio on behalf of Sempra LNG The carbonneutral LNG market is on track to quadruple this year according to recent analysis by FTI Consulting However standards and methodology for defining carbon neutrality vary dramatically researchers said ISSN  25779877  ISSN  25779966  ISSN  15321266  Related topics carbon offsets Ghg Infrastructure LNG low carbon Mexico  lenton chris email chrislenton  naturalgasintelcom NGI S Mexico Price Tracker Mexico Product Suite Mexico Gas Price Index Mexico GPI Trending News It won t be death by a thousand cuts for natural gas It ll be far less than that after an increasingly bearish December weather outlook slashed another hefty chunk off natural gas prices to start the week leaving promptmonth prices down about  120 since last Monday  Nov 29 With production recovering from recent lows and sitting', metadata={'author': '', 'date': '2021-10-26', 'domain': 'naturalgasintel', 'title': 'MPL Looking to Low-Carbon LNG for Mexico’ s Puerto Libertad, Progressing to FID', 'url': 'https://www.naturalgasintel.com/mpl-looking-to-low-carbon-lng-for-mexicos-puerto-libertad-progressing-to-fid/'}),\n",
       "  0.34023576974868774),\n",
       " (Document(page_content='Global energy companies are shifting to ESG investing but what are the drivers to decarbonise and the innovative approaches being deployed In this new series Mike Scott takes the temperature of the industry s response to date as well as the challenges ahead that this shift will present The energy sector faces a turbulent transitional autumn framed by the latest report from the Intergovernmental Panel on Climate Change  IPCC and the crucial COP26 Glasgow Scotland meeting in November We re seeing a growing number of companies divesting their highcarbon assets as BHP has just done in selling its oil and gas unit to Australian compatriot Woodside However investors and campaigners are starting to point out that while this helps the seller to decarbonise it makes no difference to total carbon emissions  indeed if you sell to someone less concerned about climate change you may end up increasing carbon emissions The coal mining sector should give energy companies pause for thought New research from E3G and Global Energy Monitor shows that the pipeline of planned coal mining plants has dropped by 76 since the 2015 signing of the Paris Agreement with 84 countries either having explicitly banned new coal power or having no plans to build new coal plants And a new sustainable investing initiative may point to the future for the assets that remain  a group of investors backed by the Asian Development Bank are planning to work with governments to buy up coal plants and shut them down within 15 years much earlier than planned but enough time to allow workers to retrain and find new jobs and to allow countries to switch to renewable energy You can be sure that if it works for coal then it will start to be applied to oil and gas as well Investors are becoming increasingly vocal and insistent about what they expect from the sector A new Net Zero emissions Standard for Oil and Gas  sets minimum expectation for what must be included in net zero transition plans from oil and gas companies to create a level playing field in corporate reporting and meet investor expectations for credible and comparable company net zero transition plans  the group says The standard emerged from discussions between leading investors and major oil and gas companies and will now be piloted by companies including BP Eni Repsol Shell and Total It calls for comprehensive absolute and intensity emissions reduction targets and alignment of capital expenditure and production plans with a net zero emissions target It acknowledges that  windingdown is a legitimate strategy as well as diversifying energy offerings or working through a company s value chain to reshape demand The Standard joins the Net Zero Asset Owners Alliance the Net Zero Asset Managers Initiative and the Net Zero Insurance Alliance as part of a growing push by investors to target the highest emitting greenhouse gas industries and companies Aided by growing amounts of highquality data this increasingly focused investor pressure is leaving energy companies little choice but to react That was evident during a stunning 2021 results season where sustainable finance ESG investing and ESG investors won shareholder resolutions demanding climate action from companies such as ExxonMobil and Chevron And the results of these votes are starting to feed through although there is a tangible sense that companies are struggling to work out how to be socially responsible as well as how to satisfy both climate change campaigners and the investors who want to continue enjoying the sector s hefty dividends Chevron has just announced plans to spend  10bn in the next seven years on cutting emissions and renewable energy It is still less than a tenth of its planned capital expenditure but such a commitment would have been unthinkable even a year ago Yet its CEO added that the company would rather pay out dividends to shareholders  so they can plant trees  than build more renewable energy capacity Such defensive statements have often been followed by more ambitious plans a few months later Meanwhile the court case that forced Royal Dutch Shell to cut its emissions by 45 by 2030 has been followed by ABP one of the Netherlands biggest pension funds being sued in an attempt to make it sell its fossil fuel shares Shell initially said that it would comply with the ruling but is now appealing  We agree urgent action is needed and we will accelerate our transition to net zero  said CEO Ben van Beurden  But we will appeal because a court judgment against a single company is not effective  Nonetheless the sector can expect more climate change litigation in the months ahead As always mergers and acquisitions deal activity slowed to a trickle over the summer but according to Pricewaterhousecoopers  PwC  global decarbonisation coupled with plentiful capital and an economy emerging from the pandemic will continue to drive strong M  A activity through the rest of 2021 What is now a global transformation to net zero emissions will continue to influence M  A activity and capital project investment decisions  There certainly seems to be no shortage of capital available for green investing and clean energy projects Bloomberg New Energy Finance  BNEF reported that clean energy projects and companies attracted  174bn in investments in the first half of 2021 the highest first half total ever The second six months of the year normally produces more deals The emergence of special purpose acquisition companies  SPACs is driving up deal multiples for  technologycentric energytransition assets  PwC adds  Carbonintensive projects and companies with large ESG risks on the other hand are finding it increasingly difficult to obtain financeas well as insurance  Energy Vault a  gravitybased energy storage company combined with a SPAC in a deal that values it at  16bn for example while Britishvolt the company building the UK s first battery  gigafactory has been valued at more than  1bn after its latest funding round highlighting the growing demand for green energy and energy transition investments Meanwhile the energy majors tentative but ever more ambitious steps into the clean energy world continue  Shell New Energies has bought Inspire Energy a US renewable energy residential retailer while its Ubitricity EV charging subsidiary announced plans to install 50000 charge points in the UK by 2025 effectively doubling the country s charging capacity Many in the clean energy community welcomed BP s appointment of AnjaIsabel Dotzenrath formerly head of RWE Renewables to lead its lowcarbon business as indicating its commitment to cleaner energy Adam Vaughan chief reporter at New Scientist said that the appointment sends  a clear message on  BP s  direction of travel away from oil and gas  One sector that has seen stratospheric growth  and that the energy sector is increasingly pinning its hopes on  is hydrogen which can help lower carbon emissions hardtoabate industries such as cement glassmaking and steel In recent months the world s first glass and steel made using hydrogen have been produced at Pilkington in the UK and Sweden s SSAB respectively  Nearly everything has doubled already this year in the world of clean hydrogen and we expect the momentum to continue in the months ahead  said Martin Tengler lead hydrogen analyst at BNEF As the UK government published its hydrogen strategy including plans to blend hydrogen into the wider gas network BNEF reported that some 16GW of electrolyser capacity  crucial for making green hydrogen  could come online by 2024 In 2020 global electrolyser capacity was just 200MW However there is no consensus on what the future hydrogen economy should look like Tony Ballance of gas network Cadent called for a mandate for  hydrogenready boilers from 2025 while Jess Ralston analyst at Energy and Climate Intelligence Unit  ECIU said  Hydrogen could be very valuable for cleaning up steel production But questions remain over whether the government has truly grasped which areas will be most suitable for hydrogen use and which will not', metadata={'author': '', 'date': '2021-09-29', 'domain': 'energyvoice', 'title': 'Taking the temperature: ESG investing in the energy industry', 'url': 'https://www.energyvoice.com/markets/352513/esg-investing-energy-industry/'}),\n",
       "  0.3430655598640442),\n",
       " (Document(page_content='By clicking  Allow All  you agree to the storing of cookies on your device to enhance site navigation analyse site usage and support us in providing free open access scientific content More info A deal struck between UK climate tech company Levidian and Luxembourg construction company Stugalux brings unique innovative decarbonisation technology to mainland Europe for the first time Levidian s LOOP device uses a patented low temperature low pressure process to crack methane into its constituent atoms hydrogen and carbon without the need for catalysts of additives The carbon is locked away in the form of graphene which is the thinnest and strongest material ever discovered and is used to produce more sustainable durable and highperformance materials Stugalux will be deploying LOOP to process biomethane produced from food and agricultural waste This gas will be cracked into its constituent atoms by LOOP with the resultant hydrogenrich blend combusted in a turbine to generate electricity while reducing carbon emissions The graphene produced by LOOP will be integrated into the building products used by Stugalux to improve performance and drive further decarbonisation Stugalux will initially deploy a LOOP20 on the site Once this process is ready to be enhanced two LOOP100 systems will be deployed by 2025 to scale up the decarbonisation operation  Stugalux is a fantastic example of how a LOOP system can be used to decarbonise in three ways simultaneously  comments Levidian CEO John Hartley  By processing agricultural biomethane these LOOPs will be utilising waste gas delivering hydrogen to power and embedding graphene to decarbonise construction products This is an incredible way to demonstrate the circularity of LOOP contributing to a cleaner economy  Joel Schons owner of Stugalux explains  Together the three LOOP systems will process nearly 250000 cubic meters of waste gas per year producing more than 30 tonnes of graphene and preventing 572 tonnes of CO2e every year Moreover the application of graphene enhanced materials in our residential constructions will significantly drive the reduction of the carbon footprint  Levidian Nanosystems Limited  2023 April 06 UK Tech Decarbonising Construction in Luxembourg AZoCleantech Retrieved on May 04 2023 from https wwwazocleantechcomnewsaspx newsID33240 Levidian Nanosystems Limited  UK Tech Decarbonising Construction in Luxembourg  AZoCleantech 04 May 2023  Levidian Nanosystems Limited  UK Tech Decarbonising Construction in Luxembourg  AZoCleantech https wwwazocleantechcomnewsaspx newsID33240  accessed May 04 2023 Levidian Nanosystems Limited 2023 UK Tech Decarbonising Construction in Luxembourg AZoCleantech viewed 04 May 2023 https wwwazocleantechcomnewsaspx newsID33240 The Sensi is a laserbased analyzer used for monitoring natural gas quality The Cypher ES AFM from Oxford Instruments Asylum Research can be utilized for exceptional environmental control The Vocus CITOF from TOFWERK provides realtime chemical ionization measurements In this interview AZoCleantech speaks with Tebogo Maleka National Project Coordinator at the United Nations Industrial Development Organization  UNIDO about her role within the organization and the initiative that aims to support South Africas transition from conventional plastics to more environmentally sustainable alternatives AZoCleantech recently spoke to entrepreneur Sin Sutherland the CoFounder of A Plastic Planet for International Womens Day Her companys goal is to inspire the world to turn off the plastic tap to help reduce its burden on the planet This International Womens Day AZoCleantech spoke to inspiring women who have made a difference in the Clean Technology field For this interview we spoke to Dr Adina Rom the Executive Director of ETH for Development', metadata={'author': '', 'date': '2023-04-06', 'domain': 'azocleantech', 'title': 'UK Tech Decarbonising Construction in Luxembourg', 'url': 'https://www.azocleantech.com/news.aspx?newsID=33240'}),\n",
       "  0.3459870517253876),\n",
       " (Document(page_content='LNG Insight LNG  Daily GPI  Infrastructure  Natural Gas Prices  NGI All News Access  NGI The Weekly Gas Market Report Royal Dutch Shell plc one of the leading natural gas traders in the world said Thursday consumption held steady in 2020 despite Covid19 and is on course to expand as economies recover However a dearth in sanctioned projects is forecast to create a supply gap According to Shell s annual global liquefied natural gas  LNG trade report consumption increased to 360 million metric tons  mmt in 2020 versus 358 mmt in 2019 Gains last year were driven by Asian consumption even as the pandemic locked down economies and sucked the air out of gross domestic product  GDP  Though marginal the increase in volume reflects the resilience and flexibility of the global LNG market in 2020 a year which saw losses to global GDP of several trillion dollars as economies large and small struggled to contain the Covid19 outbreak  researchers noted Global gas prices hit a record low early last year but they ended 2020 at a sixyear high as Asian demand recovered and winter buying increased against tightened supply  LNG provided flexible energy which the world needed during the Covid19 pandemic demonstrating its resilience and ability to power people s lives in these unprecedented times  said Shell s Maarten Wetselaar director of Integrated Gas Renewables and Energy Solutions  Around the world countries and companies including Shell are adopting netzero emissions targets and seeking to create lowercarbon energy systems As the cleanestburning fossil fuel natural gas and LNG have a central role to play in delivering the energy the world needs and helping power progress towards these targets  Shell definitely has some skin in the game Earlier this month the AngloDutch supermajor announced its most ambitious makeover in its centuryold history It is throttling back oil production as it inches toward a lowcarbon future but for natural gas the global opportunities abound The percentage of total gas in Shell s portfolio  is expected to rise to around 55 or more  by the end of the decade CEO Ben van Beurden told investors at the time As global gas consumption expands Shell also may be eyeing a plethora of opportunities The latest LNG analysis is forecasting a supplydemand gap opening around 2025 with less production coming onstream than previously projected Shell estimated that only 3 mmt in new LNG production capacity was announced in 2020 down from an expected 60 mmt researchers noted This year it is looking stronger For example Shell s frequent partner and No 1 gas producer Qatar Petroleum this month said it was sanctioning its largest LNG expansion ever at the massive North Field US projects also may move forward For example Houstonbased NextDecade Corp has said it plans to reach a final investment decision this year on  a minimum of two trains  at the proposed export terminal in South Texas Wood Mackenzie also has estimated that  11 billion of Australian gas projects could be sanctioned this year CarbonNeutral Gains Last year gas demand rebounded in Asia China and India following the outbreak of the pandemic Shell data showed China increased its LNG imports in 2020 by an estimated 11 from 2019 or 7 mmt to 67 mmt  China s announcement of a target to become carbonneutral by 2060 is expected to continue driving up its LNG demand  researchers noted LNG is forecast to play a  key role  in decarbonizing China s  hardtoabate sectors namely buildings heavy industry shipping and heavyduty road transport  Meanwhile India increased LNG imports by 11 yearyear in 2020 as it took advantage of lower prices to supplement domestic gas production  Two other major Asian LNGimporting countries  Japan and South Korea  also announced netzero emissions targets in 2020  researchers noted Those targets should lead to more gas consumption For example to meet its netzero target South Korea plans to switch 24 coalfired power plants to LNG by 2034 researchers said Meanwhile European demand alongside  flexible US supply helped to balance the global LNG market in the first half of 2020  according to Shell  However supply outages in other basins structural constraints and extreme weather later in the year resulted in higher prices  By 2040 global LNG demand is estimated to hit 700 mmt driven by a 75 surge in Asian growth  For instance China s heavyduty transport sector consumed nearly 13 mmt of LNG in 2020 almost doubling from 2018 to serve the fastgrowing fleet of well over 500000 LNGfueled trucks and buses  researchers said  LNGfueled shipping is also growing with the number of vessels expected to more than double with bunkering vessels set to reach 45 by 2023  Shell is looking to find an advantage in that sector The producer already has chartered four newbuild lowemission tankers that are scheduled for delivery beginning in mid2024  According to estimates more than half of future LNG demand will come from countries with netzero emissions targets  researchers said  The LNG industry will need to innovate at every stage of the value chain to lower emissions and play a key role in powering hardtoabate sectors  ISSN  15321231  ISSN  25779877  ISSN  15321266  LNG Export Tracker LNG Product Suite Listen to NGI s  Hub and Flow Podcast LNG Insight Trending Posts Spot natural gas prices fell like dominoes during the week s fourday trading period from Nov 30Dec 3 for December gas delivery amid widespread mild weather that sapped demand At the end of the trading period daily gas was trading below  400MMBtu at several locations across the United States with NGI s Weekly Spot Gas National Avg', metadata={'author': '', 'date': '2021-02-25', 'domain': 'naturalgasintel', 'title': 'Shell Forecasts Rising LNG Demand as Global Economies Recover, with Supply Shortfall Looming', 'url': 'https://www.naturalgasintel.com/shell-forecasts-rising-lng-demand-as-global-economies-recover-with-supply-shortfall-looming/'}),\n",
       "  0.34719085693359375)]"
      ]
     },
     "execution_count": 31,
     "metadata": {},
     "output_type": "execute_result"
    }
   ],
   "source": [
    "bge_full_content_vector_store.similarity_search_w_scores(\"The company is also aiming to reduce gas flaring?\")"
   ]
  },
  {
   "cell_type": "code",
   "execution_count": 32,
   "id": "03a1d3e3",
   "metadata": {},
   "outputs": [],
   "source": [
    "rag_chain_with_full_source = RunnableParallel(\n",
    "    {\n",
    "        \"context\": bge_full_content_vector_store.get_retriever(), \n",
    "        \"question\": RunnablePassthrough()\n",
    "    }\n",
    ").assign(answer=rag_chain_from_docs)"
   ]
  },
  {
   "cell_type": "code",
   "execution_count": 33,
   "id": "1f76fca6",
   "metadata": {},
   "outputs": [
    {
     "data": {
      "text/plain": [
       "{'context': [Document(page_content='Global energy companies are shifting to ESG investing but what are the drivers to decarbonise and the innovative approaches being deployed In this new series Mike Scott takes the temperature of the industry s response to date as well as the challenges ahead that this shift will present The energy sector faces a turbulent transitional autumn framed by the latest report from the Intergovernmental Panel on Climate Change  IPCC and the crucial COP26 Glasgow Scotland meeting in November We re seeing a growing number of companies divesting their highcarbon assets as BHP has just done in selling its oil and gas unit to Australian compatriot Woodside However investors and campaigners are starting to point out that while this helps the seller to decarbonise it makes no difference to total carbon emissions  indeed if you sell to someone less concerned about climate change you may end up increasing carbon emissions The coal mining sector should give energy companies pause for thought New research from E3G and Global Energy Monitor shows that the pipeline of planned coal mining plants has dropped by 76 since the 2015 signing of the Paris Agreement with 84 countries either having explicitly banned new coal power or having no plans to build new coal plants And a new sustainable investing initiative may point to the future for the assets that remain  a group of investors backed by the Asian Development Bank are planning to work with governments to buy up coal plants and shut them down within 15 years much earlier than planned but enough time to allow workers to retrain and find new jobs and to allow countries to switch to renewable energy You can be sure that if it works for coal then it will start to be applied to oil and gas as well Investors are becoming increasingly vocal and insistent about what they expect from the sector A new Net Zero emissions Standard for Oil and Gas  sets minimum expectation for what must be included in net zero transition plans from oil and gas companies to create a level playing field in corporate reporting and meet investor expectations for credible and comparable company net zero transition plans  the group says The standard emerged from discussions between leading investors and major oil and gas companies and will now be piloted by companies including BP Eni Repsol Shell and Total It calls for comprehensive absolute and intensity emissions reduction targets and alignment of capital expenditure and production plans with a net zero emissions target It acknowledges that  windingdown is a legitimate strategy as well as diversifying energy offerings or working through a company s value chain to reshape demand The Standard joins the Net Zero Asset Owners Alliance the Net Zero Asset Managers Initiative and the Net Zero Insurance Alliance as part of a growing push by investors to target the highest emitting greenhouse gas industries and companies Aided by growing amounts of highquality data this increasingly focused investor pressure is leaving energy companies little choice but to react That was evident during a stunning 2021 results season where sustainable finance ESG investing and ESG investors won shareholder resolutions demanding climate action from companies such as ExxonMobil and Chevron And the results of these votes are starting to feed through although there is a tangible sense that companies are struggling to work out how to be socially responsible as well as how to satisfy both climate change campaigners and the investors who want to continue enjoying the sector s hefty dividends Chevron has just announced plans to spend  10bn in the next seven years on cutting emissions and renewable energy It is still less than a tenth of its planned capital expenditure but such a commitment would have been unthinkable even a year ago Yet its CEO added that the company would rather pay out dividends to shareholders  so they can plant trees  than build more renewable energy capacity Such defensive statements have often been followed by more ambitious plans a few months later Meanwhile the court case that forced Royal Dutch Shell to cut its emissions by 45 by 2030 has been followed by ABP one of the Netherlands biggest pension funds being sued in an attempt to make it sell its fossil fuel shares Shell initially said that it would comply with the ruling but is now appealing  We agree urgent action is needed and we will accelerate our transition to net zero  said CEO Ben van Beurden  But we will appeal because a court judgment against a single company is not effective  Nonetheless the sector can expect more climate change litigation in the months ahead As always mergers and acquisitions deal activity slowed to a trickle over the summer but according to Pricewaterhousecoopers  PwC  global decarbonisation coupled with plentiful capital and an economy emerging from the pandemic will continue to drive strong M  A activity through the rest of 2021 What is now a global transformation to net zero emissions will continue to influence M  A activity and capital project investment decisions  There certainly seems to be no shortage of capital available for green investing and clean energy projects Bloomberg New Energy Finance  BNEF reported that clean energy projects and companies attracted  174bn in investments in the first half of 2021 the highest first half total ever The second six months of the year normally produces more deals The emergence of special purpose acquisition companies  SPACs is driving up deal multiples for  technologycentric energytransition assets  PwC adds  Carbonintensive projects and companies with large ESG risks on the other hand are finding it increasingly difficult to obtain financeas well as insurance  Energy Vault a  gravitybased energy storage company combined with a SPAC in a deal that values it at  16bn for example while Britishvolt the company building the UK s first battery  gigafactory has been valued at more than  1bn after its latest funding round highlighting the growing demand for green energy and energy transition investments Meanwhile the energy majors tentative but ever more ambitious steps into the clean energy world continue  Shell New Energies has bought Inspire Energy a US renewable energy residential retailer while its Ubitricity EV charging subsidiary announced plans to install 50000 charge points in the UK by 2025 effectively doubling the country s charging capacity Many in the clean energy community welcomed BP s appointment of AnjaIsabel Dotzenrath formerly head of RWE Renewables to lead its lowcarbon business as indicating its commitment to cleaner energy Adam Vaughan chief reporter at New Scientist said that the appointment sends  a clear message on  BP s  direction of travel away from oil and gas  One sector that has seen stratospheric growth  and that the energy sector is increasingly pinning its hopes on  is hydrogen which can help lower carbon emissions hardtoabate industries such as cement glassmaking and steel In recent months the world s first glass and steel made using hydrogen have been produced at Pilkington in the UK and Sweden s SSAB respectively  Nearly everything has doubled already this year in the world of clean hydrogen and we expect the momentum to continue in the months ahead  said Martin Tengler lead hydrogen analyst at BNEF As the UK government published its hydrogen strategy including plans to blend hydrogen into the wider gas network BNEF reported that some 16GW of electrolyser capacity  crucial for making green hydrogen  could come online by 2024 In 2020 global electrolyser capacity was just 200MW However there is no consensus on what the future hydrogen economy should look like Tony Ballance of gas network Cadent called for a mandate for  hydrogenready boilers from 2025 while Jess Ralston analyst at Energy and Climate Intelligence Unit  ECIU said  Hydrogen could be very valuable for cleaning up steel production But questions remain over whether the government has truly grasped which areas will be most suitable for hydrogen use and which will not', metadata={'author': '', 'date': '2021-09-29', 'domain': 'energyvoice', 'title': 'Taking the temperature: ESG investing in the energy industry', 'url': 'https://www.energyvoice.com/markets/352513/esg-investing-energy-industry/'}),\n",
       "  Document(page_content='LNG  Mexico  Natural Gas Prices  NGI All News Access  NGI The Weekly Gas Market Report Mexico Pacific Ltd LLC  MPL continues to advance its liquefied natural gas  LNG export project for the Pacific coast of the country This week the company signed a collaboration agreement with ConocoPhillips LNG Licensing LLC and Bechtel Together the companies plan to work with construction firm Techint SA de CV to pursue  innovative lower carbon LNG design solutions  for potential future phases of the project The collaboration plans to further reduce baseline emissions by exploring  energy transition and greenhouse gas emission reduction  technologies developed by ConocoPhillips LNG and designed by Bechtel This would include  carbonadvantaged gas feedstock  and  developing a commercial strategy for supplying carbon neutral LNG in the future  said ConocoPhillips Tom Mathiasmeier president of Global Gas Power and LNG  Get in the know Access to pipelines processing plants and LNG facilities is imperative to success in the Mexico natural gas market Buy NGI s 2022 Mexico map today  With natural gas prices soaring in Asia interest on the part of buyers in MPL s Puerto Libertad project has picked up considerably The LNG project would source gas piped from the Permian Basin to ship LNG from Mexico to Asian countries bypassing the Panama Canal MPL CEO Doug Shanda told NGI s Mexico GPI that  more than  22 million metric tonsyear  mmty of binding offtake capacity is under negotiation for the project Of that 14 mmty is potentially contracted through signed memorandums of understanding Shanda said MPL is aiming to close binding offtake agreements for the first two trains by year s end A final investment decision  FID is expected in early 2022  Our project will already achieve lower greenhouse gas  GHG  emissions than other projects through design and shorter shipping distance to Asia and our recently announced low carbon initiative for our future phases furthers our value proposition  Shanda said The project is progressing toward FID  with great momentum  The customer interest  oversubscribes the first phase of our project and positions us to quickly pivot to focus on FID for Trains 3 and beyond  A combined capacity of 94 mmty could come online in 2025 A third train would bring capacity to 141 mmty Longerterm MPL is eyeing six trains for a combined 282 mmty  The MPL LNG Project will be a great example of how we along with our customers and technology providers can continue to supply LNG to offset traditional high emission fuels such as coal and others while developing and applying real innovations to meet the environmental goals of the industry  said Bechtel Energy President Paul Marsden MPL is not the only company exploring low carbon options for LNG in Mexico In July the country received its first cargo of carbon offset LNG at Sempra s Energa Costa Azul  ECA terminal on Mexico s Pacific coast GHG emissions from the cargo were offset by BP Gas Marketing Ltd retiring carbon credits sourced from its portfolio on behalf of Sempra LNG The carbonneutral LNG market is on track to quadruple this year according to recent analysis by FTI Consulting However standards and methodology for defining carbon neutrality vary dramatically researchers said ISSN  25779877  ISSN  25779966  ISSN  15321266  Related topics carbon offsets Ghg Infrastructure LNG low carbon Mexico  lenton chris email chrislenton  naturalgasintelcom NGI S Mexico Price Tracker Mexico Product Suite Mexico Gas Price Index Mexico GPI Trending News It won t be death by a thousand cuts for natural gas It ll be far less than that after an increasingly bearish December weather outlook slashed another hefty chunk off natural gas prices to start the week leaving promptmonth prices down about  120 since last Monday  Nov 29 With production recovering from recent lows and sitting', metadata={'author': '', 'date': '2021-10-26', 'domain': 'naturalgasintel', 'title': 'MPL Looking to Low-Carbon LNG for Mexico’ s Puerto Libertad, Progressing to FID', 'url': 'https://www.naturalgasintel.com/mpl-looking-to-low-carbon-lng-for-mexicos-puerto-libertad-progressing-to-fid/'}),\n",
       "  Document(page_content='LNG Insight LNG  Daily GPI  Infrastructure  Natural Gas Prices  NGI All News Access  NGI The Weekly Gas Market Report Royal Dutch Shell plc one of the leading natural gas traders in the world said Thursday consumption held steady in 2020 despite Covid19 and is on course to expand as economies recover However a dearth in sanctioned projects is forecast to create a supply gap According to Shell s annual global liquefied natural gas  LNG trade report consumption increased to 360 million metric tons  mmt in 2020 versus 358 mmt in 2019 Gains last year were driven by Asian consumption even as the pandemic locked down economies and sucked the air out of gross domestic product  GDP  Though marginal the increase in volume reflects the resilience and flexibility of the global LNG market in 2020 a year which saw losses to global GDP of several trillion dollars as economies large and small struggled to contain the Covid19 outbreak  researchers noted Global gas prices hit a record low early last year but they ended 2020 at a sixyear high as Asian demand recovered and winter buying increased against tightened supply  LNG provided flexible energy which the world needed during the Covid19 pandemic demonstrating its resilience and ability to power people s lives in these unprecedented times  said Shell s Maarten Wetselaar director of Integrated Gas Renewables and Energy Solutions  Around the world countries and companies including Shell are adopting netzero emissions targets and seeking to create lowercarbon energy systems As the cleanestburning fossil fuel natural gas and LNG have a central role to play in delivering the energy the world needs and helping power progress towards these targets  Shell definitely has some skin in the game Earlier this month the AngloDutch supermajor announced its most ambitious makeover in its centuryold history It is throttling back oil production as it inches toward a lowcarbon future but for natural gas the global opportunities abound The percentage of total gas in Shell s portfolio  is expected to rise to around 55 or more  by the end of the decade CEO Ben van Beurden told investors at the time As global gas consumption expands Shell also may be eyeing a plethora of opportunities The latest LNG analysis is forecasting a supplydemand gap opening around 2025 with less production coming onstream than previously projected Shell estimated that only 3 mmt in new LNG production capacity was announced in 2020 down from an expected 60 mmt researchers noted This year it is looking stronger For example Shell s frequent partner and No 1 gas producer Qatar Petroleum this month said it was sanctioning its largest LNG expansion ever at the massive North Field US projects also may move forward For example Houstonbased NextDecade Corp has said it plans to reach a final investment decision this year on  a minimum of two trains  at the proposed export terminal in South Texas Wood Mackenzie also has estimated that  11 billion of Australian gas projects could be sanctioned this year CarbonNeutral Gains Last year gas demand rebounded in Asia China and India following the outbreak of the pandemic Shell data showed China increased its LNG imports in 2020 by an estimated 11 from 2019 or 7 mmt to 67 mmt  China s announcement of a target to become carbonneutral by 2060 is expected to continue driving up its LNG demand  researchers noted LNG is forecast to play a  key role  in decarbonizing China s  hardtoabate sectors namely buildings heavy industry shipping and heavyduty road transport  Meanwhile India increased LNG imports by 11 yearyear in 2020 as it took advantage of lower prices to supplement domestic gas production  Two other major Asian LNGimporting countries  Japan and South Korea  also announced netzero emissions targets in 2020  researchers noted Those targets should lead to more gas consumption For example to meet its netzero target South Korea plans to switch 24 coalfired power plants to LNG by 2034 researchers said Meanwhile European demand alongside  flexible US supply helped to balance the global LNG market in the first half of 2020  according to Shell  However supply outages in other basins structural constraints and extreme weather later in the year resulted in higher prices  By 2040 global LNG demand is estimated to hit 700 mmt driven by a 75 surge in Asian growth  For instance China s heavyduty transport sector consumed nearly 13 mmt of LNG in 2020 almost doubling from 2018 to serve the fastgrowing fleet of well over 500000 LNGfueled trucks and buses  researchers said  LNGfueled shipping is also growing with the number of vessels expected to more than double with bunkering vessels set to reach 45 by 2023  Shell is looking to find an advantage in that sector The producer already has chartered four newbuild lowemission tankers that are scheduled for delivery beginning in mid2024  According to estimates more than half of future LNG demand will come from countries with netzero emissions targets  researchers said  The LNG industry will need to innovate at every stage of the value chain to lower emissions and play a key role in powering hardtoabate sectors  ISSN  15321231  ISSN  25779877  ISSN  15321266  LNG Export Tracker LNG Product Suite Listen to NGI s  Hub and Flow Podcast LNG Insight Trending Posts Spot natural gas prices fell like dominoes during the week s fourday trading period from Nov 30Dec 3 for December gas delivery amid widespread mild weather that sapped demand At the end of the trading period daily gas was trading below  400MMBtu at several locations across the United States with NGI s Weekly Spot Gas National Avg', metadata={'author': '', 'date': '2021-02-25', 'domain': 'naturalgasintel', 'title': 'Shell Forecasts Rising LNG Demand as Global Economies Recover, with Supply Shortfall Looming', 'url': 'https://www.naturalgasintel.com/shell-forecasts-rising-lng-demand-as-global-economies-recover-with-supply-shortfall-looming/'}),\n",
       "  Document(page_content='By clicking  Allow All  you agree to the storing of cookies on your device to enhance site navigation analyse site usage and support us in providing free open access scientific content More info A deal struck between UK climate tech company Levidian and Luxembourg construction company Stugalux brings unique innovative decarbonisation technology to mainland Europe for the first time Levidian s LOOP device uses a patented low temperature low pressure process to crack methane into its constituent atoms hydrogen and carbon without the need for catalysts of additives The carbon is locked away in the form of graphene which is the thinnest and strongest material ever discovered and is used to produce more sustainable durable and highperformance materials Stugalux will be deploying LOOP to process biomethane produced from food and agricultural waste This gas will be cracked into its constituent atoms by LOOP with the resultant hydrogenrich blend combusted in a turbine to generate electricity while reducing carbon emissions The graphene produced by LOOP will be integrated into the building products used by Stugalux to improve performance and drive further decarbonisation Stugalux will initially deploy a LOOP20 on the site Once this process is ready to be enhanced two LOOP100 systems will be deployed by 2025 to scale up the decarbonisation operation  Stugalux is a fantastic example of how a LOOP system can be used to decarbonise in three ways simultaneously  comments Levidian CEO John Hartley  By processing agricultural biomethane these LOOPs will be utilising waste gas delivering hydrogen to power and embedding graphene to decarbonise construction products This is an incredible way to demonstrate the circularity of LOOP contributing to a cleaner economy  Joel Schons owner of Stugalux explains  Together the three LOOP systems will process nearly 250000 cubic meters of waste gas per year producing more than 30 tonnes of graphene and preventing 572 tonnes of CO2e every year Moreover the application of graphene enhanced materials in our residential constructions will significantly drive the reduction of the carbon footprint  Levidian Nanosystems Limited  2023 April 06 UK Tech Decarbonising Construction in Luxembourg AZoCleantech Retrieved on May 04 2023 from https wwwazocleantechcomnewsaspx newsID33240 Levidian Nanosystems Limited  UK Tech Decarbonising Construction in Luxembourg  AZoCleantech 04 May 2023  Levidian Nanosystems Limited  UK Tech Decarbonising Construction in Luxembourg  AZoCleantech https wwwazocleantechcomnewsaspx newsID33240  accessed May 04 2023 Levidian Nanosystems Limited 2023 UK Tech Decarbonising Construction in Luxembourg AZoCleantech viewed 04 May 2023 https wwwazocleantechcomnewsaspx newsID33240 The Sensi is a laserbased analyzer used for monitoring natural gas quality The Cypher ES AFM from Oxford Instruments Asylum Research can be utilized for exceptional environmental control The Vocus CITOF from TOFWERK provides realtime chemical ionization measurements In this interview AZoCleantech speaks with Tebogo Maleka National Project Coordinator at the United Nations Industrial Development Organization  UNIDO about her role within the organization and the initiative that aims to support South Africas transition from conventional plastics to more environmentally sustainable alternatives AZoCleantech recently spoke to entrepreneur Sin Sutherland the CoFounder of A Plastic Planet for International Womens Day Her companys goal is to inspire the world to turn off the plastic tap to help reduce its burden on the planet This International Womens Day AZoCleantech spoke to inspiring women who have made a difference in the Clean Technology field For this interview we spoke to Dr Adina Rom the Executive Director of ETH for Development', metadata={'author': '', 'date': '2023-04-06', 'domain': 'azocleantech', 'title': 'UK Tech Decarbonising Construction in Luxembourg', 'url': 'https://www.azocleantech.com/news.aspx?newsID=33240'})],\n",
       " 'question': 'Is the company aiming to reduce gas flaring?',\n",
       " 'answer': \"The context does not provide clear information about the company's aim to reduce gas flaring.\"}"
      ]
     },
     "execution_count": 33,
     "metadata": {},
     "output_type": "execute_result"
    }
   ],
   "source": [
    "rag_chain_with_full_source.invoke(\"Is the company aiming to reduce gas flaring?\")"
   ]
  },
  {
   "cell_type": "code",
   "execution_count": 34,
   "id": "40e01e49",
   "metadata": {},
   "outputs": [],
   "source": [
    "rag_evaluator_full_content = RAGEvaluator(chain=rag_chain_with_full_source,\n",
    "                                            llm_model=azure_model,\n",
    "                                            embeddings=bge_embeddings)"
   ]
  },
  {
   "cell_type": "code",
   "execution_count": 35,
   "id": "fe40b165",
   "metadata": {},
   "outputs": [
    {
     "name": "stderr",
     "output_type": "stream",
     "text": [
      "Creating dataset:   0%|          | 0/10 [00:02<?, ?it/s]\n"
     ]
    },
    {
     "ename": "KeyboardInterrupt",
     "evalue": "",
     "output_type": "error",
     "traceback": [
      "\u001b[0;31m---------------------------------------------------------------------------\u001b[0m",
      "\u001b[0;31mKeyboardInterrupt\u001b[0m                         Traceback (most recent call last)",
      "Cell \u001b[0;32mIn[35], line 1\u001b[0m\n\u001b[0;32m----> 1\u001b[0m \u001b[43mrag_evaluator_full_content\u001b[49m\u001b[38;5;241;43m.\u001b[39;49m\u001b[43mcreate_dataset_from_df\u001b[49m\u001b[43m(\u001b[49m\u001b[43mdf_eval_subset\u001b[49m\u001b[43m)\u001b[49m\n\u001b[1;32m      2\u001b[0m full_content_eval_results \u001b[38;5;241m=\u001b[39m rag_evaluator_full_content\u001b[38;5;241m.\u001b[39mevaluate(raise_exceptions\u001b[38;5;241m=\u001b[39m\u001b[38;5;28;01mFalse\u001b[39;00m)\n",
      "File \u001b[0;32m~/Documents/Classes/npr/npr-rag/src/evaluation.py:104\u001b[0m, in \u001b[0;36mRAGEvaluator.create_dataset_from_df\u001b[0;34m(self, df)\u001b[0m\n\u001b[1;32m    101\u001b[0m question \u001b[38;5;241m=\u001b[39m item[\u001b[38;5;124m'\u001b[39m\u001b[38;5;124mquestion\u001b[39m\u001b[38;5;124m'\u001b[39m]\n\u001b[1;32m    102\u001b[0m dataset[\u001b[38;5;124m'\u001b[39m\u001b[38;5;124mquestion\u001b[39m\u001b[38;5;124m'\u001b[39m] \u001b[38;5;241m+\u001b[39m\u001b[38;5;241m=\u001b[39m [question]\n\u001b[0;32m--> 104\u001b[0m chain_result \u001b[38;5;241m=\u001b[39m \u001b[38;5;28;43mself\u001b[39;49m\u001b[38;5;241;43m.\u001b[39;49m\u001b[43mchain\u001b[49m\u001b[38;5;241;43m.\u001b[39;49m\u001b[43minvoke\u001b[49m\u001b[43m(\u001b[49m\u001b[43mquestion\u001b[49m\u001b[43m)\u001b[49m\n\u001b[1;32m    105\u001b[0m answer, contexts \u001b[38;5;241m=\u001b[39m chain_result[\u001b[38;5;124m'\u001b[39m\u001b[38;5;124manswer\u001b[39m\u001b[38;5;124m'\u001b[39m], chain_result[\u001b[38;5;124m'\u001b[39m\u001b[38;5;124mcontext\u001b[39m\u001b[38;5;124m'\u001b[39m]\n\u001b[1;32m    107\u001b[0m \u001b[38;5;28;01massert\u001b[39;00m \u001b[38;5;28mtype\u001b[39m(contexts) \u001b[38;5;241m==\u001b[39m \u001b[38;5;28mlist\u001b[39m, \u001b[38;5;124mf\u001b[39m\u001b[38;5;124m\"\u001b[39m\u001b[38;5;124mContexts must be a list, but got \u001b[39m\u001b[38;5;132;01m{\u001b[39;00m\u001b[38;5;28mtype\u001b[39m(contexts)\u001b[38;5;132;01m}\u001b[39;00m\u001b[38;5;124m instead.\u001b[39m\u001b[38;5;124m\"\u001b[39m\n",
      "File \u001b[0;32m~/Documents/Classes/npr/npr-rag/.venv/lib/python3.12/site-packages/langchain_core/runnables/base.py:2499\u001b[0m, in \u001b[0;36mRunnableSequence.invoke\u001b[0;34m(self, input, config)\u001b[0m\n\u001b[1;32m   2497\u001b[0m \u001b[38;5;28;01mtry\u001b[39;00m:\n\u001b[1;32m   2498\u001b[0m     \u001b[38;5;28;01mfor\u001b[39;00m i, step \u001b[38;5;129;01min\u001b[39;00m \u001b[38;5;28menumerate\u001b[39m(\u001b[38;5;28mself\u001b[39m\u001b[38;5;241m.\u001b[39msteps):\n\u001b[0;32m-> 2499\u001b[0m         \u001b[38;5;28minput\u001b[39m \u001b[38;5;241m=\u001b[39m \u001b[43mstep\u001b[49m\u001b[38;5;241;43m.\u001b[39;49m\u001b[43minvoke\u001b[49m\u001b[43m(\u001b[49m\n\u001b[1;32m   2500\u001b[0m \u001b[43m            \u001b[49m\u001b[38;5;28;43minput\u001b[39;49m\u001b[43m,\u001b[49m\n\u001b[1;32m   2501\u001b[0m \u001b[43m            \u001b[49m\u001b[38;5;66;43;03m# mark each step as a child run\u001b[39;49;00m\n\u001b[1;32m   2502\u001b[0m \u001b[43m            \u001b[49m\u001b[43mpatch_config\u001b[49m\u001b[43m(\u001b[49m\n\u001b[1;32m   2503\u001b[0m \u001b[43m                \u001b[49m\u001b[43mconfig\u001b[49m\u001b[43m,\u001b[49m\u001b[43m \u001b[49m\u001b[43mcallbacks\u001b[49m\u001b[38;5;241;43m=\u001b[39;49m\u001b[43mrun_manager\u001b[49m\u001b[38;5;241;43m.\u001b[39;49m\u001b[43mget_child\u001b[49m\u001b[43m(\u001b[49m\u001b[38;5;124;43mf\u001b[39;49m\u001b[38;5;124;43m\"\u001b[39;49m\u001b[38;5;124;43mseq:step:\u001b[39;49m\u001b[38;5;132;43;01m{\u001b[39;49;00m\u001b[43mi\u001b[49m\u001b[38;5;241;43m+\u001b[39;49m\u001b[38;5;241;43m1\u001b[39;49m\u001b[38;5;132;43;01m}\u001b[39;49;00m\u001b[38;5;124;43m\"\u001b[39;49m\u001b[43m)\u001b[49m\n\u001b[1;32m   2504\u001b[0m \u001b[43m            \u001b[49m\u001b[43m)\u001b[49m\u001b[43m,\u001b[49m\n\u001b[1;32m   2505\u001b[0m \u001b[43m        \u001b[49m\u001b[43m)\u001b[49m\n\u001b[1;32m   2506\u001b[0m \u001b[38;5;66;03m# finish the root run\u001b[39;00m\n\u001b[1;32m   2507\u001b[0m \u001b[38;5;28;01mexcept\u001b[39;00m \u001b[38;5;167;01mBaseException\u001b[39;00m \u001b[38;5;28;01mas\u001b[39;00m e:\n",
      "File \u001b[0;32m~/Documents/Classes/npr/npr-rag/.venv/lib/python3.12/site-packages/langchain_core/runnables/passthrough.py:454\u001b[0m, in \u001b[0;36mRunnableAssign.invoke\u001b[0;34m(self, input, config, **kwargs)\u001b[0m\n\u001b[1;32m    448\u001b[0m \u001b[38;5;28;01mdef\u001b[39;00m \u001b[38;5;21minvoke\u001b[39m(\n\u001b[1;32m    449\u001b[0m     \u001b[38;5;28mself\u001b[39m,\n\u001b[1;32m    450\u001b[0m     \u001b[38;5;28minput\u001b[39m: Dict[\u001b[38;5;28mstr\u001b[39m, Any],\n\u001b[1;32m    451\u001b[0m     config: Optional[RunnableConfig] \u001b[38;5;241m=\u001b[39m \u001b[38;5;28;01mNone\u001b[39;00m,\n\u001b[1;32m    452\u001b[0m     \u001b[38;5;241m*\u001b[39m\u001b[38;5;241m*\u001b[39mkwargs: Any,\n\u001b[1;32m    453\u001b[0m ) \u001b[38;5;241m-\u001b[39m\u001b[38;5;241m>\u001b[39m Dict[\u001b[38;5;28mstr\u001b[39m, Any]:\n\u001b[0;32m--> 454\u001b[0m     \u001b[38;5;28;01mreturn\u001b[39;00m \u001b[38;5;28;43mself\u001b[39;49m\u001b[38;5;241;43m.\u001b[39;49m\u001b[43m_call_with_config\u001b[49m\u001b[43m(\u001b[49m\u001b[38;5;28;43mself\u001b[39;49m\u001b[38;5;241;43m.\u001b[39;49m\u001b[43m_invoke\u001b[49m\u001b[43m,\u001b[49m\u001b[43m \u001b[49m\u001b[38;5;28;43minput\u001b[39;49m\u001b[43m,\u001b[49m\u001b[43m \u001b[49m\u001b[43mconfig\u001b[49m\u001b[43m,\u001b[49m\u001b[43m \u001b[49m\u001b[38;5;241;43m*\u001b[39;49m\u001b[38;5;241;43m*\u001b[39;49m\u001b[43mkwargs\u001b[49m\u001b[43m)\u001b[49m\n",
      "File \u001b[0;32m~/Documents/Classes/npr/npr-rag/.venv/lib/python3.12/site-packages/langchain_core/runnables/base.py:1613\u001b[0m, in \u001b[0;36mRunnable._call_with_config\u001b[0;34m(self, func, input, config, run_type, **kwargs)\u001b[0m\n\u001b[1;32m   1610\u001b[0m config \u001b[38;5;241m=\u001b[39m ensure_config(config)\n\u001b[1;32m   1611\u001b[0m callback_manager \u001b[38;5;241m=\u001b[39m get_callback_manager_for_config(config)\n\u001b[1;32m   1612\u001b[0m run_manager \u001b[38;5;241m=\u001b[39m callback_manager\u001b[38;5;241m.\u001b[39mon_chain_start(\n\u001b[0;32m-> 1613\u001b[0m     \u001b[43mdumpd\u001b[49m\u001b[43m(\u001b[49m\u001b[38;5;28;43mself\u001b[39;49m\u001b[43m)\u001b[49m,\n\u001b[1;32m   1614\u001b[0m     \u001b[38;5;28minput\u001b[39m,\n\u001b[1;32m   1615\u001b[0m     run_type\u001b[38;5;241m=\u001b[39mrun_type,\n\u001b[1;32m   1616\u001b[0m     name\u001b[38;5;241m=\u001b[39mconfig\u001b[38;5;241m.\u001b[39mget(\u001b[38;5;124m\"\u001b[39m\u001b[38;5;124mrun_name\u001b[39m\u001b[38;5;124m\"\u001b[39m) \u001b[38;5;129;01mor\u001b[39;00m \u001b[38;5;28mself\u001b[39m\u001b[38;5;241m.\u001b[39mget_name(),\n\u001b[1;32m   1617\u001b[0m     run_id\u001b[38;5;241m=\u001b[39mconfig\u001b[38;5;241m.\u001b[39mpop(\u001b[38;5;124m\"\u001b[39m\u001b[38;5;124mrun_id\u001b[39m\u001b[38;5;124m\"\u001b[39m, \u001b[38;5;28;01mNone\u001b[39;00m),\n\u001b[1;32m   1618\u001b[0m )\n\u001b[1;32m   1619\u001b[0m \u001b[38;5;28;01mtry\u001b[39;00m:\n\u001b[1;32m   1620\u001b[0m     child_config \u001b[38;5;241m=\u001b[39m patch_config(config, callbacks\u001b[38;5;241m=\u001b[39mrun_manager\u001b[38;5;241m.\u001b[39mget_child())\n",
      "File \u001b[0;32m~/Documents/Classes/npr/npr-rag/.venv/lib/python3.12/site-packages/langchain_core/load/dump.py:35\u001b[0m, in \u001b[0;36mdumpd\u001b[0;34m(obj)\u001b[0m\n\u001b[1;32m     33\u001b[0m \u001b[38;5;28;01mdef\u001b[39;00m \u001b[38;5;21mdumpd\u001b[39m(obj: Any) \u001b[38;5;241m-\u001b[39m\u001b[38;5;241m>\u001b[39m Dict[\u001b[38;5;28mstr\u001b[39m, Any]:\n\u001b[1;32m     34\u001b[0m \u001b[38;5;250m    \u001b[39m\u001b[38;5;124;03m\"\"\"Return a json dict representation of an object.\"\"\"\u001b[39;00m\n\u001b[0;32m---> 35\u001b[0m     \u001b[38;5;28;01mreturn\u001b[39;00m json\u001b[38;5;241m.\u001b[39mloads(\u001b[43mdumps\u001b[49m\u001b[43m(\u001b[49m\u001b[43mobj\u001b[49m\u001b[43m)\u001b[49m)\n",
      "File \u001b[0;32m~/Documents/Classes/npr/npr-rag/.venv/lib/python3.12/site-packages/langchain_core/load/dump.py:25\u001b[0m, in \u001b[0;36mdumps\u001b[0;34m(obj, pretty, **kwargs)\u001b[0m\n\u001b[1;32m     23\u001b[0m         \u001b[38;5;28;01mreturn\u001b[39;00m json\u001b[38;5;241m.\u001b[39mdumps(obj, default\u001b[38;5;241m=\u001b[39mdefault, indent\u001b[38;5;241m=\u001b[39mindent, \u001b[38;5;241m*\u001b[39m\u001b[38;5;241m*\u001b[39mkwargs)\n\u001b[1;32m     24\u001b[0m     \u001b[38;5;28;01melse\u001b[39;00m:\n\u001b[0;32m---> 25\u001b[0m         \u001b[38;5;28;01mreturn\u001b[39;00m \u001b[43mjson\u001b[49m\u001b[38;5;241;43m.\u001b[39;49m\u001b[43mdumps\u001b[49m\u001b[43m(\u001b[49m\u001b[43mobj\u001b[49m\u001b[43m,\u001b[49m\u001b[43m \u001b[49m\u001b[43mdefault\u001b[49m\u001b[38;5;241;43m=\u001b[39;49m\u001b[43mdefault\u001b[49m\u001b[43m,\u001b[49m\u001b[43m \u001b[49m\u001b[38;5;241;43m*\u001b[39;49m\u001b[38;5;241;43m*\u001b[39;49m\u001b[43mkwargs\u001b[49m\u001b[43m)\u001b[49m\n\u001b[1;32m     26\u001b[0m \u001b[38;5;28;01mexcept\u001b[39;00m \u001b[38;5;167;01mTypeError\u001b[39;00m:\n\u001b[1;32m     27\u001b[0m     \u001b[38;5;28;01mif\u001b[39;00m pretty:\n",
      "File \u001b[0;32m~/.pyenv/versions/3.12.0/lib/python3.12/json/__init__.py:238\u001b[0m, in \u001b[0;36mdumps\u001b[0;34m(obj, skipkeys, ensure_ascii, check_circular, allow_nan, cls, indent, separators, default, sort_keys, **kw)\u001b[0m\n\u001b[1;32m    232\u001b[0m \u001b[38;5;28;01mif\u001b[39;00m \u001b[38;5;28mcls\u001b[39m \u001b[38;5;129;01mis\u001b[39;00m \u001b[38;5;28;01mNone\u001b[39;00m:\n\u001b[1;32m    233\u001b[0m     \u001b[38;5;28mcls\u001b[39m \u001b[38;5;241m=\u001b[39m JSONEncoder\n\u001b[1;32m    234\u001b[0m \u001b[38;5;28;01mreturn\u001b[39;00m \u001b[38;5;28;43mcls\u001b[39;49m\u001b[43m(\u001b[49m\n\u001b[1;32m    235\u001b[0m \u001b[43m    \u001b[49m\u001b[43mskipkeys\u001b[49m\u001b[38;5;241;43m=\u001b[39;49m\u001b[43mskipkeys\u001b[49m\u001b[43m,\u001b[49m\u001b[43m \u001b[49m\u001b[43mensure_ascii\u001b[49m\u001b[38;5;241;43m=\u001b[39;49m\u001b[43mensure_ascii\u001b[49m\u001b[43m,\u001b[49m\n\u001b[1;32m    236\u001b[0m \u001b[43m    \u001b[49m\u001b[43mcheck_circular\u001b[49m\u001b[38;5;241;43m=\u001b[39;49m\u001b[43mcheck_circular\u001b[49m\u001b[43m,\u001b[49m\u001b[43m \u001b[49m\u001b[43mallow_nan\u001b[49m\u001b[38;5;241;43m=\u001b[39;49m\u001b[43mallow_nan\u001b[49m\u001b[43m,\u001b[49m\u001b[43m \u001b[49m\u001b[43mindent\u001b[49m\u001b[38;5;241;43m=\u001b[39;49m\u001b[43mindent\u001b[49m\u001b[43m,\u001b[49m\n\u001b[1;32m    237\u001b[0m \u001b[43m    \u001b[49m\u001b[43mseparators\u001b[49m\u001b[38;5;241;43m=\u001b[39;49m\u001b[43mseparators\u001b[49m\u001b[43m,\u001b[49m\u001b[43m \u001b[49m\u001b[43mdefault\u001b[49m\u001b[38;5;241;43m=\u001b[39;49m\u001b[43mdefault\u001b[49m\u001b[43m,\u001b[49m\u001b[43m \u001b[49m\u001b[43msort_keys\u001b[49m\u001b[38;5;241;43m=\u001b[39;49m\u001b[43msort_keys\u001b[49m\u001b[43m,\u001b[49m\n\u001b[0;32m--> 238\u001b[0m \u001b[43m    \u001b[49m\u001b[38;5;241;43m*\u001b[39;49m\u001b[38;5;241;43m*\u001b[39;49m\u001b[43mkw\u001b[49m\u001b[43m)\u001b[49m\u001b[38;5;241;43m.\u001b[39;49m\u001b[43mencode\u001b[49m\u001b[43m(\u001b[49m\u001b[43mobj\u001b[49m\u001b[43m)\u001b[49m\n",
      "File \u001b[0;32m~/.pyenv/versions/3.12.0/lib/python3.12/json/encoder.py:200\u001b[0m, in \u001b[0;36mJSONEncoder.encode\u001b[0;34m(self, o)\u001b[0m\n\u001b[1;32m    196\u001b[0m         \u001b[38;5;28;01mreturn\u001b[39;00m encode_basestring(o)\n\u001b[1;32m    197\u001b[0m \u001b[38;5;66;03m# This doesn't pass the iterator directly to ''.join() because the\u001b[39;00m\n\u001b[1;32m    198\u001b[0m \u001b[38;5;66;03m# exceptions aren't as detailed.  The list call should be roughly\u001b[39;00m\n\u001b[1;32m    199\u001b[0m \u001b[38;5;66;03m# equivalent to the PySequence_Fast that ''.join() would do.\u001b[39;00m\n\u001b[0;32m--> 200\u001b[0m chunks \u001b[38;5;241m=\u001b[39m \u001b[38;5;28;43mself\u001b[39;49m\u001b[38;5;241;43m.\u001b[39;49m\u001b[43miterencode\u001b[49m\u001b[43m(\u001b[49m\u001b[43mo\u001b[49m\u001b[43m,\u001b[49m\u001b[43m \u001b[49m\u001b[43m_one_shot\u001b[49m\u001b[38;5;241;43m=\u001b[39;49m\u001b[38;5;28;43;01mTrue\u001b[39;49;00m\u001b[43m)\u001b[49m\n\u001b[1;32m    201\u001b[0m \u001b[38;5;28;01mif\u001b[39;00m \u001b[38;5;129;01mnot\u001b[39;00m \u001b[38;5;28misinstance\u001b[39m(chunks, (\u001b[38;5;28mlist\u001b[39m, \u001b[38;5;28mtuple\u001b[39m)):\n\u001b[1;32m    202\u001b[0m     chunks \u001b[38;5;241m=\u001b[39m \u001b[38;5;28mlist\u001b[39m(chunks)\n",
      "File \u001b[0;32m~/.pyenv/versions/3.12.0/lib/python3.12/json/encoder.py:258\u001b[0m, in \u001b[0;36mJSONEncoder.iterencode\u001b[0;34m(self, o, _one_shot)\u001b[0m\n\u001b[1;32m    253\u001b[0m \u001b[38;5;28;01melse\u001b[39;00m:\n\u001b[1;32m    254\u001b[0m     _iterencode \u001b[38;5;241m=\u001b[39m _make_iterencode(\n\u001b[1;32m    255\u001b[0m         markers, \u001b[38;5;28mself\u001b[39m\u001b[38;5;241m.\u001b[39mdefault, _encoder, \u001b[38;5;28mself\u001b[39m\u001b[38;5;241m.\u001b[39mindent, floatstr,\n\u001b[1;32m    256\u001b[0m         \u001b[38;5;28mself\u001b[39m\u001b[38;5;241m.\u001b[39mkey_separator, \u001b[38;5;28mself\u001b[39m\u001b[38;5;241m.\u001b[39mitem_separator, \u001b[38;5;28mself\u001b[39m\u001b[38;5;241m.\u001b[39msort_keys,\n\u001b[1;32m    257\u001b[0m         \u001b[38;5;28mself\u001b[39m\u001b[38;5;241m.\u001b[39mskipkeys, _one_shot)\n\u001b[0;32m--> 258\u001b[0m \u001b[38;5;28;01mreturn\u001b[39;00m \u001b[43m_iterencode\u001b[49m\u001b[43m(\u001b[49m\u001b[43mo\u001b[49m\u001b[43m,\u001b[49m\u001b[43m \u001b[49m\u001b[38;5;241;43m0\u001b[39;49m\u001b[43m)\u001b[49m\n",
      "File \u001b[0;32m~/Documents/Classes/npr/npr-rag/.venv/lib/python3.12/site-packages/langchain_core/load/dump.py:11\u001b[0m, in \u001b[0;36mdefault\u001b[0;34m(obj)\u001b[0m\n\u001b[1;32m      8\u001b[0m \u001b[38;5;250m\u001b[39m\u001b[38;5;124;03m\"\"\"Return a default value for a Serializable object or\u001b[39;00m\n\u001b[1;32m      9\u001b[0m \u001b[38;5;124;03ma SerializedNotImplemented object.\"\"\"\u001b[39;00m\n\u001b[1;32m     10\u001b[0m \u001b[38;5;28;01mif\u001b[39;00m \u001b[38;5;28misinstance\u001b[39m(obj, Serializable):\n\u001b[0;32m---> 11\u001b[0m     \u001b[38;5;28;01mreturn\u001b[39;00m \u001b[43mobj\u001b[49m\u001b[38;5;241;43m.\u001b[39;49m\u001b[43mto_json\u001b[49m\u001b[43m(\u001b[49m\u001b[43m)\u001b[49m\n\u001b[1;32m     12\u001b[0m \u001b[38;5;28;01melse\u001b[39;00m:\n\u001b[1;32m     13\u001b[0m     \u001b[38;5;28;01mreturn\u001b[39;00m to_json_not_implemented(obj)\n",
      "File \u001b[0;32m~/Documents/Classes/npr/npr-rag/.venv/lib/python3.12/site-packages/langchain_core/runnables/base.py:2029\u001b[0m, in \u001b[0;36mRunnableSerializable.to_json\u001b[0;34m(self)\u001b[0m\n\u001b[1;32m   2027\u001b[0m \u001b[38;5;28;01mtry\u001b[39;00m:\n\u001b[1;32m   2028\u001b[0m     dumped[\u001b[38;5;124m\"\u001b[39m\u001b[38;5;124mname\u001b[39m\u001b[38;5;124m\"\u001b[39m] \u001b[38;5;241m=\u001b[39m \u001b[38;5;28mself\u001b[39m\u001b[38;5;241m.\u001b[39mget_name()\n\u001b[0;32m-> 2029\u001b[0m     dumped[\u001b[38;5;124m\"\u001b[39m\u001b[38;5;124mgraph\u001b[39m\u001b[38;5;124m\"\u001b[39m] \u001b[38;5;241m=\u001b[39m \u001b[38;5;28;43mself\u001b[39;49m\u001b[38;5;241;43m.\u001b[39;49m\u001b[43mget_graph\u001b[49m\u001b[43m(\u001b[49m\u001b[43m)\u001b[49m\u001b[38;5;241m.\u001b[39mto_json()\n\u001b[1;32m   2030\u001b[0m \u001b[38;5;28;01mexcept\u001b[39;00m \u001b[38;5;167;01mException\u001b[39;00m:\n\u001b[1;32m   2031\u001b[0m     \u001b[38;5;28;01mpass\u001b[39;00m\n",
      "File \u001b[0;32m~/Documents/Classes/npr/npr-rag/.venv/lib/python3.12/site-packages/langchain_core/runnables/passthrough.py:418\u001b[0m, in \u001b[0;36mRunnableAssign.get_graph\u001b[0;34m(self, config)\u001b[0m\n\u001b[1;32m    416\u001b[0m \u001b[38;5;28;01mdef\u001b[39;00m \u001b[38;5;21mget_graph\u001b[39m(\u001b[38;5;28mself\u001b[39m, config: RunnableConfig \u001b[38;5;241m|\u001b[39m \u001b[38;5;28;01mNone\u001b[39;00m \u001b[38;5;241m=\u001b[39m \u001b[38;5;28;01mNone\u001b[39;00m) \u001b[38;5;241m-\u001b[39m\u001b[38;5;241m>\u001b[39m Graph:\n\u001b[1;32m    417\u001b[0m     \u001b[38;5;66;03m# get graph from mapper\u001b[39;00m\n\u001b[0;32m--> 418\u001b[0m     graph \u001b[38;5;241m=\u001b[39m \u001b[38;5;28;43mself\u001b[39;49m\u001b[38;5;241;43m.\u001b[39;49m\u001b[43mmapper\u001b[49m\u001b[38;5;241;43m.\u001b[39;49m\u001b[43mget_graph\u001b[49m\u001b[43m(\u001b[49m\u001b[43mconfig\u001b[49m\u001b[43m)\u001b[49m\n\u001b[1;32m    419\u001b[0m     \u001b[38;5;66;03m# add passthrough node and edges\u001b[39;00m\n\u001b[1;32m    420\u001b[0m     input_node \u001b[38;5;241m=\u001b[39m graph\u001b[38;5;241m.\u001b[39mfirst_node()\n",
      "File \u001b[0;32m~/Documents/Classes/npr/npr-rag/.venv/lib/python3.12/site-packages/langchain_core/runnables/base.py:3075\u001b[0m, in \u001b[0;36mRunnableParallel.get_graph\u001b[0;34m(self, config)\u001b[0m\n\u001b[1;32m   3072\u001b[0m \u001b[38;5;28;01mfrom\u001b[39;00m \u001b[38;5;21;01mlangchain_core\u001b[39;00m\u001b[38;5;21;01m.\u001b[39;00m\u001b[38;5;21;01mrunnables\u001b[39;00m\u001b[38;5;21;01m.\u001b[39;00m\u001b[38;5;21;01mgraph\u001b[39;00m \u001b[38;5;28;01mimport\u001b[39;00m Graph\n\u001b[1;32m   3074\u001b[0m graph \u001b[38;5;241m=\u001b[39m Graph()\n\u001b[0;32m-> 3075\u001b[0m input_node \u001b[38;5;241m=\u001b[39m graph\u001b[38;5;241m.\u001b[39madd_node(\u001b[38;5;28;43mself\u001b[39;49m\u001b[38;5;241;43m.\u001b[39;49m\u001b[43mget_input_schema\u001b[49m\u001b[43m(\u001b[49m\u001b[43mconfig\u001b[49m\u001b[43m)\u001b[49m)\n\u001b[1;32m   3076\u001b[0m output_node \u001b[38;5;241m=\u001b[39m graph\u001b[38;5;241m.\u001b[39madd_node(\u001b[38;5;28mself\u001b[39m\u001b[38;5;241m.\u001b[39mget_output_schema(config))\n\u001b[1;32m   3077\u001b[0m \u001b[38;5;28;01mfor\u001b[39;00m step \u001b[38;5;129;01min\u001b[39;00m \u001b[38;5;28mself\u001b[39m\u001b[38;5;241m.\u001b[39msteps\u001b[38;5;241m.\u001b[39mvalues():\n",
      "File \u001b[0;32m~/Documents/Classes/npr/npr-rag/.venv/lib/python3.12/site-packages/langchain_core/runnables/base.py:3039\u001b[0m, in \u001b[0;36mRunnableParallel.get_input_schema\u001b[0;34m(self, config)\u001b[0m\n\u001b[1;32m   3036\u001b[0m \u001b[38;5;28;01mdef\u001b[39;00m \u001b[38;5;21mget_input_schema\u001b[39m(\n\u001b[1;32m   3037\u001b[0m     \u001b[38;5;28mself\u001b[39m, config: Optional[RunnableConfig] \u001b[38;5;241m=\u001b[39m \u001b[38;5;28;01mNone\u001b[39;00m\n\u001b[1;32m   3038\u001b[0m ) \u001b[38;5;241m-\u001b[39m\u001b[38;5;241m>\u001b[39m Type[BaseModel]:\n\u001b[0;32m-> 3039\u001b[0m     \u001b[38;5;28;01mif\u001b[39;00m \u001b[38;5;28;43mall\u001b[39;49m\u001b[43m(\u001b[49m\n\u001b[1;32m   3040\u001b[0m \u001b[43m        \u001b[49m\u001b[43ms\u001b[49m\u001b[38;5;241;43m.\u001b[39;49m\u001b[43mget_input_schema\u001b[49m\u001b[43m(\u001b[49m\u001b[43mconfig\u001b[49m\u001b[43m)\u001b[49m\u001b[38;5;241;43m.\u001b[39;49m\u001b[43mschema\u001b[49m\u001b[43m(\u001b[49m\u001b[43m)\u001b[49m\u001b[38;5;241;43m.\u001b[39;49m\u001b[43mget\u001b[49m\u001b[43m(\u001b[49m\u001b[38;5;124;43m\"\u001b[39;49m\u001b[38;5;124;43mtype\u001b[39;49m\u001b[38;5;124;43m\"\u001b[39;49m\u001b[43m,\u001b[49m\u001b[43m \u001b[49m\u001b[38;5;124;43m\"\u001b[39;49m\u001b[38;5;124;43mobject\u001b[39;49m\u001b[38;5;124;43m\"\u001b[39;49m\u001b[43m)\u001b[49m\u001b[43m \u001b[49m\u001b[38;5;241;43m==\u001b[39;49m\u001b[43m \u001b[49m\u001b[38;5;124;43m\"\u001b[39;49m\u001b[38;5;124;43mobject\u001b[39;49m\u001b[38;5;124;43m\"\u001b[39;49m\n\u001b[1;32m   3041\u001b[0m \u001b[43m        \u001b[49m\u001b[38;5;28;43;01mfor\u001b[39;49;00m\u001b[43m \u001b[49m\u001b[43ms\u001b[49m\u001b[43m \u001b[49m\u001b[38;5;129;43;01min\u001b[39;49;00m\u001b[43m \u001b[49m\u001b[38;5;28;43mself\u001b[39;49m\u001b[38;5;241;43m.\u001b[39;49m\u001b[43msteps\u001b[49m\u001b[38;5;241;43m.\u001b[39;49m\u001b[43mvalues\u001b[49m\u001b[43m(\u001b[49m\u001b[43m)\u001b[49m\n\u001b[1;32m   3042\u001b[0m \u001b[43m    \u001b[49m\u001b[43m)\u001b[49m:\n\u001b[1;32m   3043\u001b[0m         \u001b[38;5;66;03m# This is correct, but pydantic typings/mypy don't think so.\u001b[39;00m\n\u001b[1;32m   3044\u001b[0m         \u001b[38;5;28;01mreturn\u001b[39;00m create_model(  \u001b[38;5;66;03m# type: ignore[call-overload]\u001b[39;00m\n\u001b[1;32m   3045\u001b[0m             \u001b[38;5;28mself\u001b[39m\u001b[38;5;241m.\u001b[39mget_name(\u001b[38;5;124m\"\u001b[39m\u001b[38;5;124mInput\u001b[39m\u001b[38;5;124m\"\u001b[39m),\n\u001b[1;32m   3046\u001b[0m             \u001b[38;5;241m*\u001b[39m\u001b[38;5;241m*\u001b[39m{\n\u001b[0;32m   (...)\u001b[0m\n\u001b[1;32m   3051\u001b[0m             },\n\u001b[1;32m   3052\u001b[0m         )\n\u001b[1;32m   3054\u001b[0m     \u001b[38;5;28;01mreturn\u001b[39;00m \u001b[38;5;28msuper\u001b[39m()\u001b[38;5;241m.\u001b[39mget_input_schema(config)\n",
      "File \u001b[0;32m~/Documents/Classes/npr/npr-rag/.venv/lib/python3.12/site-packages/langchain_core/runnables/base.py:3040\u001b[0m, in \u001b[0;36m<genexpr>\u001b[0;34m(.0)\u001b[0m\n\u001b[1;32m   3036\u001b[0m \u001b[38;5;28;01mdef\u001b[39;00m \u001b[38;5;21mget_input_schema\u001b[39m(\n\u001b[1;32m   3037\u001b[0m     \u001b[38;5;28mself\u001b[39m, config: Optional[RunnableConfig] \u001b[38;5;241m=\u001b[39m \u001b[38;5;28;01mNone\u001b[39;00m\n\u001b[1;32m   3038\u001b[0m ) \u001b[38;5;241m-\u001b[39m\u001b[38;5;241m>\u001b[39m Type[BaseModel]:\n\u001b[1;32m   3039\u001b[0m     \u001b[38;5;28;01mif\u001b[39;00m \u001b[38;5;28mall\u001b[39m(\n\u001b[0;32m-> 3040\u001b[0m         \u001b[43ms\u001b[49m\u001b[38;5;241;43m.\u001b[39;49m\u001b[43mget_input_schema\u001b[49m\u001b[43m(\u001b[49m\u001b[43mconfig\u001b[49m\u001b[43m)\u001b[49m\u001b[38;5;241m.\u001b[39mschema()\u001b[38;5;241m.\u001b[39mget(\u001b[38;5;124m\"\u001b[39m\u001b[38;5;124mtype\u001b[39m\u001b[38;5;124m\"\u001b[39m, \u001b[38;5;124m\"\u001b[39m\u001b[38;5;124mobject\u001b[39m\u001b[38;5;124m\"\u001b[39m) \u001b[38;5;241m==\u001b[39m \u001b[38;5;124m\"\u001b[39m\u001b[38;5;124mobject\u001b[39m\u001b[38;5;124m\"\u001b[39m\n\u001b[1;32m   3041\u001b[0m         \u001b[38;5;28;01mfor\u001b[39;00m s \u001b[38;5;129;01min\u001b[39;00m \u001b[38;5;28mself\u001b[39m\u001b[38;5;241m.\u001b[39msteps\u001b[38;5;241m.\u001b[39mvalues()\n\u001b[1;32m   3042\u001b[0m     ):\n\u001b[1;32m   3043\u001b[0m         \u001b[38;5;66;03m# This is correct, but pydantic typings/mypy don't think so.\u001b[39;00m\n\u001b[1;32m   3044\u001b[0m         \u001b[38;5;28;01mreturn\u001b[39;00m create_model(  \u001b[38;5;66;03m# type: ignore[call-overload]\u001b[39;00m\n\u001b[1;32m   3045\u001b[0m             \u001b[38;5;28mself\u001b[39m\u001b[38;5;241m.\u001b[39mget_name(\u001b[38;5;124m\"\u001b[39m\u001b[38;5;124mInput\u001b[39m\u001b[38;5;124m\"\u001b[39m),\n\u001b[1;32m   3046\u001b[0m             \u001b[38;5;241m*\u001b[39m\u001b[38;5;241m*\u001b[39m{\n\u001b[0;32m   (...)\u001b[0m\n\u001b[1;32m   3051\u001b[0m             },\n\u001b[1;32m   3052\u001b[0m         )\n\u001b[1;32m   3054\u001b[0m     \u001b[38;5;28;01mreturn\u001b[39;00m \u001b[38;5;28msuper\u001b[39m()\u001b[38;5;241m.\u001b[39mget_input_schema(config)\n",
      "File \u001b[0;32m~/Documents/Classes/npr/npr-rag/.venv/lib/python3.12/site-packages/langchain_core/runnables/base.py:3718\u001b[0m, in \u001b[0;36mRunnableLambda.get_input_schema\u001b[0;34m(self, config)\u001b[0m\n\u001b[1;32m   3715\u001b[0m \u001b[38;5;28;01mif\u001b[39;00m \u001b[38;5;28mself\u001b[39m\u001b[38;5;241m.\u001b[39mInputType \u001b[38;5;241m!=\u001b[39m Any:\n\u001b[1;32m   3716\u001b[0m     \u001b[38;5;28;01mreturn\u001b[39;00m \u001b[38;5;28msuper\u001b[39m()\u001b[38;5;241m.\u001b[39mget_input_schema(config)\n\u001b[0;32m-> 3718\u001b[0m \u001b[38;5;28;01mif\u001b[39;00m dict_keys \u001b[38;5;241m:=\u001b[39m \u001b[43mget_function_first_arg_dict_keys\u001b[49m\u001b[43m(\u001b[49m\u001b[43mfunc\u001b[49m\u001b[43m)\u001b[49m:\n\u001b[1;32m   3719\u001b[0m     \u001b[38;5;28;01mreturn\u001b[39;00m create_model(\n\u001b[1;32m   3720\u001b[0m         \u001b[38;5;28mself\u001b[39m\u001b[38;5;241m.\u001b[39mget_name(\u001b[38;5;124m\"\u001b[39m\u001b[38;5;124mInput\u001b[39m\u001b[38;5;124m\"\u001b[39m),\n\u001b[1;32m   3721\u001b[0m         \u001b[38;5;241m*\u001b[39m\u001b[38;5;241m*\u001b[39m{key: (Any, \u001b[38;5;28;01mNone\u001b[39;00m) \u001b[38;5;28;01mfor\u001b[39;00m key \u001b[38;5;129;01min\u001b[39;00m dict_keys},  \u001b[38;5;66;03m# type: ignore\u001b[39;00m\n\u001b[1;32m   3722\u001b[0m     )\n\u001b[1;32m   3724\u001b[0m \u001b[38;5;28;01mreturn\u001b[39;00m \u001b[38;5;28msuper\u001b[39m()\u001b[38;5;241m.\u001b[39mget_input_schema(config)\n",
      "File \u001b[0;32m~/Documents/Classes/npr/npr-rag/.venv/lib/python3.12/site-packages/langchain_core/runnables/utils.py:216\u001b[0m, in \u001b[0;36mget_function_first_arg_dict_keys\u001b[0;34m(func)\u001b[0m\n\u001b[1;32m    214\u001b[0m \u001b[38;5;250m\u001b[39m\u001b[38;5;124;03m\"\"\"Get the keys of the first argument of a function if it is a dict.\"\"\"\u001b[39;00m\n\u001b[1;32m    215\u001b[0m \u001b[38;5;28;01mtry\u001b[39;00m:\n\u001b[0;32m--> 216\u001b[0m     code \u001b[38;5;241m=\u001b[39m \u001b[43minspect\u001b[49m\u001b[38;5;241;43m.\u001b[39;49m\u001b[43mgetsource\u001b[49m\u001b[43m(\u001b[49m\u001b[43mfunc\u001b[49m\u001b[43m)\u001b[49m\n\u001b[1;32m    217\u001b[0m     tree \u001b[38;5;241m=\u001b[39m ast\u001b[38;5;241m.\u001b[39mparse(textwrap\u001b[38;5;241m.\u001b[39mdedent(code))\n\u001b[1;32m    218\u001b[0m     visitor \u001b[38;5;241m=\u001b[39m IsFunctionArgDict()\n",
      "File \u001b[0;32m~/.pyenv/versions/3.12.0/lib/python3.12/inspect.py:1282\u001b[0m, in \u001b[0;36mgetsource\u001b[0;34m(object)\u001b[0m\n\u001b[1;32m   1276\u001b[0m \u001b[38;5;28;01mdef\u001b[39;00m \u001b[38;5;21mgetsource\u001b[39m(\u001b[38;5;28mobject\u001b[39m):\n\u001b[1;32m   1277\u001b[0m \u001b[38;5;250m    \u001b[39m\u001b[38;5;124;03m\"\"\"Return the text of the source code for an object.\u001b[39;00m\n\u001b[1;32m   1278\u001b[0m \n\u001b[1;32m   1279\u001b[0m \u001b[38;5;124;03m    The argument may be a module, class, method, function, traceback, frame,\u001b[39;00m\n\u001b[1;32m   1280\u001b[0m \u001b[38;5;124;03m    or code object.  The source code is returned as a single string.  An\u001b[39;00m\n\u001b[1;32m   1281\u001b[0m \u001b[38;5;124;03m    OSError is raised if the source code cannot be retrieved.\"\"\"\u001b[39;00m\n\u001b[0;32m-> 1282\u001b[0m     lines, lnum \u001b[38;5;241m=\u001b[39m \u001b[43mgetsourcelines\u001b[49m\u001b[43m(\u001b[49m\u001b[38;5;28;43mobject\u001b[39;49m\u001b[43m)\u001b[49m\n\u001b[1;32m   1283\u001b[0m     \u001b[38;5;28;01mreturn\u001b[39;00m \u001b[38;5;124m'\u001b[39m\u001b[38;5;124m'\u001b[39m\u001b[38;5;241m.\u001b[39mjoin(lines)\n",
      "File \u001b[0;32m~/.pyenv/versions/3.12.0/lib/python3.12/inspect.py:1274\u001b[0m, in \u001b[0;36mgetsourcelines\u001b[0;34m(object)\u001b[0m\n\u001b[1;32m   1272\u001b[0m     \u001b[38;5;28;01mreturn\u001b[39;00m lines, \u001b[38;5;241m0\u001b[39m\n\u001b[1;32m   1273\u001b[0m \u001b[38;5;28;01melse\u001b[39;00m:\n\u001b[0;32m-> 1274\u001b[0m     \u001b[38;5;28;01mreturn\u001b[39;00m \u001b[43mgetblock\u001b[49m\u001b[43m(\u001b[49m\u001b[43mlines\u001b[49m\u001b[43m[\u001b[49m\u001b[43mlnum\u001b[49m\u001b[43m:\u001b[49m\u001b[43m]\u001b[49m\u001b[43m)\u001b[49m, lnum \u001b[38;5;241m+\u001b[39m \u001b[38;5;241m1\u001b[39m\n",
      "File \u001b[0;32m~/.pyenv/versions/3.12.0/lib/python3.12/inspect.py:1241\u001b[0m, in \u001b[0;36mgetblock\u001b[0;34m(lines)\u001b[0m\n\u001b[1;32m   1239\u001b[0m \u001b[38;5;28;01mtry\u001b[39;00m:\n\u001b[1;32m   1240\u001b[0m     tokens \u001b[38;5;241m=\u001b[39m tokenize\u001b[38;5;241m.\u001b[39mgenerate_tokens(\u001b[38;5;28miter\u001b[39m(lines)\u001b[38;5;241m.\u001b[39m\u001b[38;5;21m__next__\u001b[39m)\n\u001b[0;32m-> 1241\u001b[0m \u001b[43m    \u001b[49m\u001b[38;5;28;43;01mfor\u001b[39;49;00m\u001b[43m \u001b[49m\u001b[43m_token\u001b[49m\u001b[43m \u001b[49m\u001b[38;5;129;43;01min\u001b[39;49;00m\u001b[43m \u001b[49m\u001b[43mtokens\u001b[49m\u001b[43m:\u001b[49m\n\u001b[1;32m   1242\u001b[0m \u001b[43m        \u001b[49m\u001b[43mblockfinder\u001b[49m\u001b[38;5;241;43m.\u001b[39;49m\u001b[43mtokeneater\u001b[49m\u001b[43m(\u001b[49m\u001b[38;5;241;43m*\u001b[39;49m\u001b[43m_token\u001b[49m\u001b[43m)\u001b[49m\n\u001b[1;32m   1243\u001b[0m \u001b[38;5;28;01mexcept\u001b[39;00m (EndOfBlock, \u001b[38;5;167;01mIndentationError\u001b[39;00m):\n",
      "File \u001b[0;32m~/.pyenv/versions/3.12.0/lib/python3.12/tokenize.py:538\u001b[0m, in \u001b[0;36m_generate_tokens_from_c_tokenizer\u001b[0;34m(source, encoding, extra_tokens)\u001b[0m\n\u001b[1;32m    536\u001b[0m \u001b[38;5;28;01mtry\u001b[39;00m:\n\u001b[1;32m    537\u001b[0m     \u001b[38;5;28;01mfor\u001b[39;00m info \u001b[38;5;129;01min\u001b[39;00m it:\n\u001b[0;32m--> 538\u001b[0m         \u001b[38;5;28;01myield\u001b[39;00m \u001b[43mTokenInfo\u001b[49m\u001b[38;5;241;43m.\u001b[39;49m\u001b[43m_make\u001b[49m\u001b[43m(\u001b[49m\u001b[43minfo\u001b[49m\u001b[43m)\u001b[49m\n\u001b[1;32m    539\u001b[0m \u001b[38;5;28;01mexcept\u001b[39;00m \u001b[38;5;167;01mSyntaxError\u001b[39;00m \u001b[38;5;28;01mas\u001b[39;00m e:\n\u001b[1;32m    540\u001b[0m     \u001b[38;5;28;01mif\u001b[39;00m \u001b[38;5;28mtype\u001b[39m(e) \u001b[38;5;241m!=\u001b[39m \u001b[38;5;167;01mSyntaxError\u001b[39;00m:\n",
      "File \u001b[0;32m~/.pyenv/versions/3.12.0/lib/python3.12/collections/__init__.py:447\u001b[0m, in \u001b[0;36mnamedtuple.<locals>._make\u001b[0;34m(cls, iterable)\u001b[0m\n\u001b[1;32m    444\u001b[0m \u001b[38;5;28;01mif\u001b[39;00m defaults \u001b[38;5;129;01mis\u001b[39;00m \u001b[38;5;129;01mnot\u001b[39;00m \u001b[38;5;28;01mNone\u001b[39;00m:\n\u001b[1;32m    445\u001b[0m     \u001b[38;5;21m__new__\u001b[39m\u001b[38;5;241m.\u001b[39m\u001b[38;5;18m__defaults__\u001b[39m \u001b[38;5;241m=\u001b[39m defaults\n\u001b[0;32m--> 447\u001b[0m \u001b[38;5;129m@classmethod\u001b[39m\n\u001b[1;32m    448\u001b[0m \u001b[38;5;28;01mdef\u001b[39;00m \u001b[38;5;21m_make\u001b[39m(\u001b[38;5;28mcls\u001b[39m, iterable):\n\u001b[1;32m    449\u001b[0m     result \u001b[38;5;241m=\u001b[39m tuple_new(\u001b[38;5;28mcls\u001b[39m, iterable)\n\u001b[1;32m    450\u001b[0m     \u001b[38;5;28;01mif\u001b[39;00m _len(result) \u001b[38;5;241m!=\u001b[39m num_fields:\n",
      "\u001b[0;31mKeyboardInterrupt\u001b[0m: "
     ]
    }
   ],
   "source": [
    "rag_evaluator_full_content.create_dataset_from_df(df_eval_subset)\n",
    "full_content_eval_results = rag_evaluator_full_content.evaluate(raise_exceptions=False)"
   ]
  },
  {
   "cell_type": "markdown",
   "id": "74fcf2ff",
   "metadata": {},
   "source": [
    "# Experiment 2: HyDE approach"
   ]
  },
  {
   "cell_type": "code",
   "execution_count": 67,
   "id": "165bcb1a",
   "metadata": {},
   "outputs": [],
   "source": [
    "from langchain_core.runnables import RunnablePassthrough\n",
    "\n",
    "system = \"\"\"You are an expert about the Clean Technology Sector.\n",
    "            Answer the user question as best you can. Answer as though you were writing a tutorial that addressed the user question.\"\"\"\n",
    "\n",
    "hyde_prompt = ChatPromptTemplate.from_messages(\n",
    "    [\n",
    "        (\"system\", system),\n",
    "        (\"human\", \"{question}\"),\n",
    "    ]\n",
    ")\n",
    "\n",
    "gen_hypothetical_doc = hyde_prompt | azure_model | StrOutputParser() | RunnablePassthrough()"
   ]
  },
  {
   "cell_type": "code",
   "execution_count": 68,
   "id": "275eb0dd",
   "metadata": {},
   "outputs": [],
   "source": [
    "rag_chain_from_docs = (\n",
    "        RunnablePassthrough.assign(context=(lambda x: format_docs(x[\"context\"])))\n",
    "        | ChatPromptTemplate.from_template(rag_prompt)\n",
    "        | azure_model\n",
    "        | StrOutputParser()\n",
    ")\n",
    "\n",
    "rag_chain_with_source = RunnableParallel(\n",
    "    {\n",
    "        \"context\": bge_vector_store.get_retriever(), \n",
    "        \"question\": RunnablePassthrough()\n",
    "    }\n",
    ").assign(answer=rag_chain_from_docs)"
   ]
  },
  {
   "cell_type": "code",
   "execution_count": 69,
   "id": "2a288fc8",
   "metadata": {},
   "outputs": [
    {
     "data": {
      "text/plain": [
       "{'context': [Document(page_content='Kahina Abdeli-Galinier, Schlumberger emissions business director, commented: “ The urgency of methane and flare challenges means emission detection, measurement, reporting and abatement approaches need to mature rapidly. To benefit the industry, SEES aspires to become the trusted partner for operators looking to reduce their emissions footprint quickly, credibly, and in the right way. To benefit the planet, our objective is to work with our customers to eliminate 1% of all anthropogenic GHG emissions by 2030. ”', metadata={'author': '', 'date': '2022-03-09', 'domain': 'azocleantech', 'title': 'Schlumberger Launches Dedicated Business to Eliminate Oil and Gas Industry’ s Methane and Routine Flare Emissions', 'url': 'https://www.azocleantech.com/news.aspx?newsID=31294'}),\n",
       "  Document(page_content='Oil and gas sector emissions reductions get less press, but are also significant. In addition to an active flare-reduction program, Cairo last October signed a deal with local firm SMA to undertake a two-year country-wide inspection of all facilities for gas leaks, notes another source. Some 25 teams, using infrared Flir cameras, have started on downstream facilities in the Alexandria area, and should begin surveying upstream operations toward the end of the year. This project alone is targeting a 30% cut in oil and gas sector emissions.', metadata={'author': '', 'date': '2022-08-10', 'domain': 'energyintel', 'title': \"Risks and Rewards for Egypt's Role as COP Host\", 'url': 'https://www.energyintel.com/00000182-8311-d4e0-abc6-d3713e5b0004'}),\n",
       "  Document(page_content='The company in 2020 announced its intention to reduce operational GHG emissions intensity by 35% to 45% by 2030, a revision from the previous goal of 5% to 15%, and to reach net zero emissions by 2050.\\n\\nThe path to net zero will involve tools such as emissions offsets and carbon capture, utilization and sequestration, Lance said.\\n\\nWithin the ESG initiatives, Lance and Sheffield also stressed the importance of curbing routine natural gas flaring, which remains a stubborn challenge in the Permian despite progress made on reducing flaring intensity.\\n\\nOther measures such as electrifying fracture fleets, and better monitoring of methane leaks, will be crucial as well, they said.', metadata={'author': '', 'date': '2021-03-05', 'domain': 'naturalgasintel', 'title': 'ConocoPhillips, Pioneer Natural CEOs Preach Discipline as Permian Activity Rebounds', 'url': 'https://www.naturalgasintel.com/conocophillips-pioneer-natural-ceos-preach-discipline-as-permian-activity-rebounds/'}),\n",
       "  Document(page_content='A recent EDF study, for example, found that annual oil and gas methane emissions in New Mexico stand at an estimated 1.1 million metric tons, about five times higher than what current Environmental Protection Agency ( EPA) data suggest.\\n\\nVenting and flaring, meanwhile, reached record high levels in the United States during 2019. So far, only Alaska and Colorado have banned routine flaring and venting in the upstream segment.\\n\\nVenting contributes to methane emissions, as does incomplete combustion during the flaring process, while flaring converts methane to CO2.\\n\\nMore broadly, climate change — practically an afterthought during the 2016 presidential campaign — has taken on a more prominent role in political discourse, as seen during the debates between Biden and President Trump.\\n\\nAnd while natural gas is the cleanest fossil fuel, it increasingly has been under the microscope as its share of the energy mix grows.', metadata={'author': '', 'date': '2021-01-08', 'domain': 'naturalgasintel', 'title': 'Natural Gas ‘ Bridge Fuel’ Narrative to Face Tougher Scrutiny Under Biden', 'url': 'https://www.naturalgasintel.com/natural-gas-bridge-fuel-narrative-to-face-tougher-scrutiny-under-biden/'})],\n",
       " 'question': 'Reducing gas flaring is a crucial part of the clean technology sector, and many companies in this industry are working towards this goal. The primary objective of reducing gas flaring is to minimize the negative environmental and social impacts of oil and gas exploration and production. \\n\\nGas flaring is the process of burning off natural gas that is produced during oil and gas exploration and production. This gas is typically burned because it is not economically feasible to capture and transport it. However, gas flaring releases harmful greenhouse gases and other pollutants into the atmosphere, contributing to climate change and local air pollution.\\n\\nMany clean technology companies are working towards reducing gas flaring by developing innovative technologies that capture and utilize this natural gas. These technologies include gas-to-liquids processes, which convert natural gas into liquid fuels that can be transported and used more efficiently. Additionally, companies are developing systems that capture and transport natural gas from remote locations, reducing the need for gas flaring.\\n\\nOverall, the goal of reducing gas flaring is to create a more sustainable and environmentally friendly energy sector. By working towards this goal, companies can minimize their impact on the environment and create a cleaner future for everyone.',\n",
       " 'answer': 'What is the primary objective of reducing gas flaring in the oil and gas sector?\\n\\nThe primary objective of reducing gas flaring in the oil and gas sector is to minimize the negative environmental and social impacts of oil and gas exploration and production. Gas flaring releases harmful greenhouse gases and other pollutants into the atmosphere, contributing to climate change and local air pollution. By developing innovative technologies that capture and utilize this natural gas, companies can create a more sustainable and environmentally friendly energy sector.'}"
      ]
     },
     "execution_count": 69,
     "metadata": {},
     "output_type": "execute_result"
    }
   ],
   "source": [
    "hyde_chain = ( gen_hypothetical_doc \n",
    "              | rag_chain_with_source\n",
    "             )\n",
    "\n",
    "hyde_chain.invoke(\n",
    "    {\n",
    "        \"question\": \"What is the company's goal in reducing gas flaring?\"\n",
    "    }\n",
    ")"
   ]
  },
  {
   "cell_type": "markdown",
   "id": "f4206849bf946549",
   "metadata": {
    "collapsed": false
   },
   "source": [
    "# Experiment 2: Using a Multi-Query Retrieval Strategy\n",
    "\n",
    "At the heart of the RAG is the retriever, which is responsible for finding the most relevant documents for a given question. The baseline RAG uses the vector retriever to find the most relevant document, using cosine-similarity. \n",
    "\n",
    "We will now experiment with a multi-query retrieval strategy. The idea is to use multiple queries to retrieve a multidude of documents and take a unique union of the results. This way we can increase the diversity of the documents and potentially improve the quality of the generated answer. \n",
    "\n",
    "For this we will use the MultiQueryRetriever from langchain.\n"
   ]
  },
  {
   "cell_type": "code",
   "execution_count": 19,
   "id": "83848be6543bbf39",
   "metadata": {
    "collapsed": false
   },
   "outputs": [],
   "source": [
    "from langchain.retrievers.multi_query import MultiQueryRetriever"
   ]
  },
  {
   "cell_type": "code",
   "execution_count": 20,
   "id": "cb34e7a5e5ea5fc6",
   "metadata": {
    "collapsed": false
   },
   "outputs": [],
   "source": [
    "retriever = MultiQueryRetriever.from_llm(\n",
    "    retriever=bge_vector_store.get_retriever(), llm=azure_model\n",
    ")"
   ]
  },
  {
   "cell_type": "code",
   "execution_count": 21,
   "id": "569145c02e8b6f23",
   "metadata": {
    "collapsed": false
   },
   "outputs": [],
   "source": [
    "\n",
    "## using the langchain template for the prompt\n",
    "template = \"\"\"You are an AI language model assistant. Your task is to generate five \n",
    "different versions of the given user question to retrieve relevant documents from a vector \n",
    "database. By generating multiple perspectives on the user question, your goal is to help\n",
    "the user overcome some of the limitations of the distance-based similarity search. \n",
    "Provide these alternative questions separated by newlines. Original question: {question}\"\"\"\n",
    "prompt_perspectives = ChatPromptTemplate.from_template(template)\n",
    "\n",
    "\n",
    "generate_queries = (\n",
    "        prompt_perspectives\n",
    "        | azure_model\n",
    "        | StrOutputParser()\n",
    "        | (lambda x: x.split(\"\\n\"))\n",
    ")"
   ]
  },
  {
   "cell_type": "code",
   "execution_count": 22,
   "id": "eeeaa115ecd44569",
   "metadata": {
    "collapsed": false
   },
   "outputs": [],
   "source": [
    "from langchain.load import dumps, loads\n",
    "\n",
    "def get_unique_union(documents: list[list]):\n",
    "    \"\"\" Unique union of retrieved docs \"\"\"\n",
    "    # Flatten list of lists, and convert each Document to string\n",
    "    flattened_docs = [dumps(doc) for sublist in documents for doc in sublist]\n",
    "    # Get unique documents\n",
    "    unique_docs = list(set(flattened_docs))\n",
    "    # Return\n",
    "    return [loads(doc) for doc in unique_docs]\n",
    "\n",
    "# Retrieve\n",
    "retrieval_chain = generate_queries | retriever.map() | get_unique_union"
   ]
  },
  {
   "cell_type": "code",
   "execution_count": 23,
   "id": "6515b7c5f45f3e2f",
   "metadata": {
    "collapsed": false
   },
   "outputs": [],
   "source": [
    "\n",
    "rag_chain_from_docs = (\n",
    "        RunnablePassthrough.assign(context=(lambda x: format_docs(x[\"context\"])))\n",
    "        | ChatPromptTemplate.from_template(rag_prompt)\n",
    "        | azure_model\n",
    "        | StrOutputParser()\n",
    ")\n",
    "\n",
    "rag_chain_with_source = RunnableParallel(\n",
    "    {\n",
    "        \"context\": retrieval_chain, \n",
    "        \"question\": RunnablePassthrough()\n",
    "    }\n",
    ").assign(answer=rag_chain_from_docs)"
   ]
  },
  {
   "cell_type": "code",
   "execution_count": 24,
   "id": "4ea2b6ac1c956550",
   "metadata": {
    "collapsed": false
   },
   "outputs": [
    {
     "ename": "NameError",
     "evalue": "name 'rag_chain_with_full_source' is not defined",
     "output_type": "error",
     "traceback": [
      "\u001b[0;31m---------------------------------------------------------------------------\u001b[0m",
      "\u001b[0;31mNameError\u001b[0m                                 Traceback (most recent call last)",
      "Cell \u001b[0;32mIn[24], line 1\u001b[0m\n\u001b[0;32m----> 1\u001b[0m \u001b[43mrag_chain_with_full_source\u001b[49m\u001b[38;5;241m.\u001b[39minvoke(\u001b[38;5;124m\"\u001b[39m\u001b[38;5;124mIs the company aiming to reduce gas flaring?\u001b[39m\u001b[38;5;124m\"\u001b[39m)\n",
      "\u001b[0;31mNameError\u001b[0m: name 'rag_chain_with_full_source' is not defined"
     ]
    }
   ],
   "source": [
    "rag_chain_with_full_source.invoke(\"Is the company aiming to reduce gas flaring?\")"
   ]
  },
  {
   "cell_type": "code",
   "execution_count": null,
   "id": "eaece981dfdcbbd",
   "metadata": {
    "collapsed": false
   },
   "outputs": [],
   "source": [
    "rag_evaluator_mqt = RAGEvaluator(chain=rag_chain_with_full_source,\n",
    "                                            llm_model=azure_model,\n",
    "                                            embeddings=bge_embeddings)"
   ]
  },
  {
   "cell_type": "code",
   "execution_count": null,
   "id": "a0cc9986273960c1",
   "metadata": {
    "collapsed": false
   },
   "outputs": [],
   "source": [
    "rag_evaluator_mqt.create_dataset_from_df(df_eval_subset)\n",
    "mqt_eval_result = rag_evaluator_mqt.evaluate(raise_exceptions=False)"
   ]
  },
  {
   "cell_type": "code",
   "execution_count": null,
   "id": "649b8d0c0c489ba4",
   "metadata": {
    "collapsed": false
   },
   "outputs": [],
   "source": [
    "rag_evaluator_mqt.summarize_metrics()"
   ]
  },
  {
   "cell_type": "code",
   "execution_count": null,
   "id": "7545409b079eb030",
   "metadata": {
    "collapsed": false
   },
   "outputs": [],
   "source": [
    "rag_evaluator.summarize_metrics()"
   ]
  },
  {
   "cell_type": "code",
   "execution_count": null,
   "id": "66d204453dc7871c",
   "metadata": {
    "collapsed": false
   },
   "outputs": [],
   "source": [
    "rag_evaluator_full_content.summarize_metrics()"
   ]
  }
 ],
 "metadata": {
  "kernelspec": {
   "display_name": "Python 3",
   "language": "python",
   "name": "python3"
  },
  "language_info": {
   "codemirror_mode": {
    "name": "ipython",
    "version": 3
   },
   "file_extension": ".py",
   "mimetype": "text/x-python",
   "name": "python",
   "nbconvert_exporter": "python",
   "pygments_lexer": "ipython3",
   "version": "3.12.0"
  }
 },
 "nbformat": 4,
 "nbformat_minor": 5
}
