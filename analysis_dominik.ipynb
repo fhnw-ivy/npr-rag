{
 "cells": [
  {
   "cell_type": "markdown",
   "source": [
    "# Setup"
   ],
   "metadata": {
    "collapsed": false
   },
   "id": "629c7169756adcbe"
  },
  {
   "cell_type": "code",
   "execution_count": null,
   "id": "188c966d5cd28de1",
   "metadata": {},
   "outputs": [],
   "source": [
    "import os\n",
    "\n",
    "import pandas as pd\n",
    "from dotenv import load_dotenv\n",
    "from tqdm import tqdm\n",
    "\n",
    "load_dotenv()"
   ]
  },
  {
   "cell_type": "markdown",
   "source": [
    "## Observability & Monitoring\n",
    "\n",
    "Phoenix is an open-source observability library designed for experimentation, evaluation, and troubleshooting. It allows AI Engineers and Data Scientists to quickly visualize their data, evaluate performance, track down issues, and export data to improve.\n",
    " "
   ],
   "metadata": {
    "collapsed": false
   },
   "id": "47adf37081d73c21"
  },
  {
   "cell_type": "code",
   "outputs": [],
   "source": [
    "from phoenix.trace.langchain import LangChainInstrumentor\n",
    "import phoenix as px\n",
    "\n",
    "px.close_app()\n",
    "session = px.launch_app()\n",
    "\n",
    "LangChainInstrumentor().instrument()"
   ],
   "metadata": {
    "collapsed": false
   },
   "id": "7d0092013e36ca8c",
   "execution_count": null
  },
  {
   "cell_type": "code",
   "outputs": [],
   "source": [
    "session.view()"
   ],
   "metadata": {
    "collapsed": false
   },
   "id": "abd676a30f7effbe",
   "execution_count": null
  },
  {
   "cell_type": "markdown",
   "source": [
    "# Data Loading"
   ],
   "metadata": {
    "collapsed": false
   },
   "id": "4f9f2033ded77748"
  },
  {
   "cell_type": "code",
   "outputs": [],
   "source": [
    "import pandas as pd\n",
    "        \n",
    "df = pd.read_csv('data/Cleantech Media Dataset/cleantech_media_dataset_v2_2024-02-23.csv')\n",
    "df"
   ],
   "metadata": {
    "collapsed": false
   },
   "id": "96f24e70f4d40394",
   "execution_count": null
  },
  {
   "cell_type": "code",
   "outputs": [],
   "source": [
    "import pandas as pd\n",
    "        \n",
    "df = pd.read_csv('data/Cleantech Media Dataset/cleantech_media_dataset_v2_2024-02-23_subset.csv')\n",
    "df"
   ],
   "metadata": {
    "collapsed": false
   },
   "id": "a41645ff9ed1f954",
   "execution_count": null
  },
  {
   "cell_type": "markdown",
   "id": "8e75b6e2aa712181",
   "metadata": {},
   "source": [
    "# Preprocessing & Indexing"
   ]
  },
  {
   "cell_type": "markdown",
   "source": [
    "## Splitting content into paragraphs\n",
    "\n",
    "The content is currently stored as a list of strings. We will convert this into a single string with paragraphs separated by two newlines."
   ],
   "metadata": {
    "collapsed": false
   },
   "id": "bb436cf3c7906ac5"
  },
  {
   "cell_type": "markdown",
   "source": [
    "## Cleaning"
   ],
   "metadata": {
    "collapsed": false
   },
   "id": "27844259f6d23087"
  },
  {
   "cell_type": "code",
   "outputs": [],
   "source": [
    "from src.preprocessing.preprocessor import Preprocessor\n",
    "\n",
    "preprocesser = Preprocessor(df)\n",
    "df = preprocesser.preprocess()\n",
    "\n"
   ],
   "metadata": {
    "collapsed": false
   },
   "id": "c42723d3f2a3835c",
   "execution_count": null
  },
  {
   "cell_type": "code",
   "outputs": [],
   "source": [
    "len(df)"
   ],
   "metadata": {
    "collapsed": false
   },
   "id": "9a6e43078b2837e9",
   "execution_count": null
  },
  {
   "cell_type": "code",
   "outputs": [],
   "source": [
    "df['content'].apply(len).describe()"
   ],
   "metadata": {
    "collapsed": false
   },
   "id": "97e1115e3c2ef61f",
   "execution_count": null
  },
  {
   "cell_type": "code",
   "outputs": [],
   "source": [
    "df.head()"
   ],
   "metadata": {
    "collapsed": false
   },
   "id": "5ef106f1fec67b26",
   "execution_count": null
  },
  {
   "cell_type": "markdown",
   "source": [
    "# Indexing\n",
    "\n",
    "For the indexing we use the VectorStore class which bundles the embeddings and ChromaDB."
   ],
   "metadata": {
    "collapsed": false
   },
   "id": "29f172af1ea76470"
  },
  {
   "cell_type": "code",
   "outputs": [],
   "source": [
    "from src.vectorstore import VectorStore\n",
    "from langchain_community.embeddings import HuggingFaceBgeEmbeddings\n",
    "\n",
    "bge_embeddings = HuggingFaceBgeEmbeddings(\n",
    "    model_name=\"BAAI/bge-small-en\", \n",
    "    model_kwargs={\"device\": \"cpu\"}, \n",
    "    encode_kwargs={\"normalize_embeddings\": True}\n",
    ")"
   ],
   "metadata": {
    "collapsed": false
   },
   "id": "af0a4a16684d3b86",
   "execution_count": null
  },
  {
   "cell_type": "code",
   "outputs": [],
   "source": [
    "from langchain.text_splitter import RecursiveCharacterTextSplitter\n",
    "\n",
    "recursive_text_splitter = RecursiveCharacterTextSplitter(chunk_size=1024, chunk_overlap=32, length_function=len)"
   ],
   "metadata": {
    "collapsed": false
   },
   "id": "5184c2f957d3c60d",
   "execution_count": null
  },
  {
   "cell_type": "code",
   "outputs": [],
   "source": [
    "from langchain_core.documents import Document\n",
    "\n",
    "def create_documents(df, splitter):\n",
    "    docs = []\n",
    "    for index, row in tqdm(df.iterrows()):\n",
    "        content = row['content']\n",
    "\n",
    "        row = row.fillna('')\n",
    "\n",
    "        metadata = {\n",
    "            \"url\": row['url'],\n",
    "            \"domain\": row['domain'],\n",
    "            \"title\": row['title'],\n",
    "            \"author\": row['author'],\n",
    "            \"date\": row['date']\n",
    "        }\n",
    "        \n",
    "        for chunk in splitter.split_text(content):\n",
    "            docs.append(Document(page_content=chunk, metadata=metadata))\n",
    "    \n",
    "    return docs\n",
    "\n",
    "documents = create_documents(df, recursive_text_splitter)"
   ],
   "metadata": {
    "collapsed": false
   },
   "id": "f066402773ac9d58",
   "execution_count": null
  },
  {
   "cell_type": "code",
   "outputs": [],
   "source": [
    "print(\"ChromeDB Host: \", os.getenv('CHROMADB_HOST'))\n",
    "print(\"ChromeDB Port: \", os.getenv('CHROMADB_PORT'))\n",
    "\n",
    "bge_vector_store = VectorStore(embedding_function=bge_embeddings,\n",
    "                               collection=\"cleantech-subset-analysis-1\")"
   ],
   "metadata": {
    "collapsed": false
   },
   "id": "f738ace88dd27a69",
   "execution_count": null
  },
  {
   "cell_type": "markdown",
   "source": [
    "In the next step we will add the documents to the vector store. This will take a while depending on the number of documents."
   ],
   "metadata": {
    "collapsed": false
   },
   "id": "3f20213c70591f14"
  },
  {
   "cell_type": "code",
   "outputs": [],
   "source": [
    "## %%script false --no-raise-error\n",
    "\n",
    "bge_vector_store.add_documents(documents, verbose=True, batch_size=128)"
   ],
   "metadata": {
    "collapsed": false
   },
   "id": "8f2508efb696f864",
   "execution_count": null
  },
  {
   "cell_type": "markdown",
   "source": [
    "After adding the documents to the vector store we can now perform similarity searches."
   ],
   "metadata": {
    "collapsed": false
   },
   "id": "b2177cd39686a8db"
  },
  {
   "cell_type": "code",
   "outputs": [],
   "source": [
    "bge_vector_store.similarity_search_w_scores(\"The company is also aiming to reduce gas flaring?\")"
   ],
   "metadata": {
    "collapsed": false
   },
   "id": "91a13de926826f7f",
   "execution_count": null
  },
  {
   "cell_type": "markdown",
   "id": "7ad87a39c366b0b3",
   "metadata": {},
   "source": [
    "# Retrieval & Generation"
   ]
  },
  {
   "cell_type": "markdown",
   "source": [
    "## First Retrieval Cooking \n"
   ],
   "metadata": {
    "collapsed": false
   },
   "id": "f7cab945fee79d04"
  },
  {
   "cell_type": "code",
   "execution_count": null,
   "id": "6fd9b043d8d6a8bb",
   "metadata": {},
   "outputs": [],
   "source": [
    "from src.generation import get_llm_model, LLMModel\n",
    "\n",
    "azure_model = get_llm_model(LLMModel.GPT_3_AZURE)"
   ]
  },
  {
   "cell_type": "code",
   "outputs": [],
   "source": [
    "rag_prompt = \"\"\"\n",
    "Answer the question to your best knowledge when looking at the following context:\n",
    "{context}\n",
    "                \n",
    "Question: {question}\n",
    "\"\"\""
   ],
   "metadata": {
    "collapsed": false
   },
   "id": "fcc6ebdf4dab2924",
   "execution_count": null
  },
  {
   "cell_type": "code",
   "outputs": [],
   "source": [
    "from langchain_core.output_parsers import StrOutputParser\n",
    "from langchain_core.prompts import ChatPromptTemplate\n",
    "from langchain_core.runnables import RunnablePassthrough\n",
    "from langchain_core.runnables import RunnableParallel\n",
    "\n",
    "def format_docs(docs):\n",
    "    return \"\\n\\n\".join(doc.page_content for doc in docs)\n",
    "\n",
    "rag_chain_from_docs = (\n",
    "        RunnablePassthrough.assign(context=(lambda x: format_docs(x[\"context\"])))\n",
    "        | ChatPromptTemplate.from_template(rag_prompt)\n",
    "        | azure_model\n",
    "        | StrOutputParser()\n",
    ")\n",
    "\n",
    "rag_chain_with_source = RunnableParallel(\n",
    "    {\n",
    "        \"context\": bge_vector_store.get_retriever(), \n",
    "        \"question\": RunnablePassthrough()\n",
    "    }\n",
    ").assign(answer=rag_chain_from_docs)"
   ],
   "metadata": {
    "collapsed": false
   },
   "id": "83dfe841ed24a7a7",
   "execution_count": null
  },
  {
   "cell_type": "code",
   "outputs": [],
   "source": [
    "rag_chain_with_source.invoke(\"Is the company aiming to reduce gas flaring?\")"
   ],
   "metadata": {
    "collapsed": false
   },
   "id": "f8b1225784152974",
   "execution_count": null
  },
  {
   "cell_type": "markdown",
   "source": [
    "## Alternative Retrieval Cooking"
   ],
   "metadata": {
    "collapsed": false
   },
   "id": "1380dfe56dc22522"
  },
  {
   "cell_type": "code",
   "outputs": [],
   "source": [
    "rag_prompt = \"\"\"\n",
    "Answer the question to your best knowledge when looking at the following context:\n",
    "{context}\n",
    "                \n",
    "Question: {question}\n",
    "\"\"\""
   ],
   "metadata": {
    "collapsed": false
   },
   "id": "f03ae232b3f4e6e7",
   "execution_count": null
  },
  {
   "cell_type": "code",
   "outputs": [],
   "source": [
    "rag_gpt_improved_prompt = \"\"\"\n",
    "\n",
    "Critically answer the question, using the following context and your own knowledge:\n",
    "\n",
    "Context: {context}\n",
    "Question: {question}\n",
    "\n",
    "In case that the provided context is not sufficient, explain that the knowledge is not available but that given your own knowledge you can provide an answer which you will tag as (own knowledge).\n",
    "\n",
    "Ensure that the answer is well-structured and provides a clear and concise response.\n",
    "\"\"\""
   ],
   "metadata": {
    "collapsed": false
   },
   "id": "ae2923b6c4aae3cf"
  },
  {
   "cell_type": "code",
   "outputs": [],
   "source": [
    "from langchain_core.output_parsers import StrOutputParser\n",
    "from langchain_core.prompts import ChatPromptTemplate\n",
    "from langchain_core.runnables import RunnablePassthrough\n",
    "from langchain_core.runnables import RunnableParallel\n",
    "\n",
    "def format_docs(docs):\n",
    "    return \"\\n\\n\".join(doc.page_content for doc in docs)\n",
    "\n",
    "rag_chain_from_docs = (\n",
    "        RunnablePassthrough.assign(context=(lambda x: format_docs(x[\"context\"])))\n",
    "        | ChatPromptTemplate.from_template(rag_gpt_improved_prompt)\n",
    "        | azure_model\n",
    "        | StrOutputParser()\n",
    ")\n",
    "\n",
    "rag_chain_with_source = RunnableParallel(\n",
    "    {\n",
    "        \"context\": bge_vector_store.get_retriever(), \n",
    "        \"question\": RunnablePassthrough()\n",
    "    }\n",
    ").assign(answer=rag_chain_from_docs)"
   ],
   "metadata": {
    "collapsed": false
   },
   "id": "10dd6f1991100a91",
   "execution_count": null
  },
  {
   "cell_type": "code",
   "outputs": [],
   "source": [
    "rag_chain_from_docs"
   ],
   "metadata": {
    "collapsed": false
   },
   "id": "306ed83b1b8fd426",
   "execution_count": null
  },
  {
   "cell_type": "code",
   "outputs": [],
   "source": [
    "rag_chain_with_source.invoke(\"Is the company aiming to reduce gas flaring?\")"
   ],
   "metadata": {
    "collapsed": false
   },
   "id": "e0e382b76c63b232",
   "execution_count": null
  },
  {
   "cell_type": "markdown",
   "id": "9a0c9f4f51cdcb2f",
   "metadata": {},
   "source": [
    "# Evaluation"
   ]
  },
  {
   "cell_type": "code",
   "outputs": [],
   "source": [
    "df_eval = pd.read_csv('data/Cleantech Media Dataset/cleantech_rag_evaluation_data_2024-02-23.csv')\n",
    "df_eval.head()"
   ],
   "metadata": {
    "collapsed": false
   },
   "id": "dcaaaa79b776933c",
   "execution_count": null
  },
  {
   "cell_type": "code",
   "outputs": [],
   "source": [
    "df_eval = pd.read_csv('data/Cleantech Media Dataset/cleantech_media_dataset_v2_2024-02-23_subset_eval.csv')\n",
    "df_eval.head()"
   ],
   "metadata": {
    "collapsed": false
   },
   "id": "7d1411f382d5b155",
   "execution_count": null
  },
  {
   "cell_type": "code",
   "outputs": [],
   "source": [
    "from src.generation import get_llm_model, LLMModel\n",
    "from langchain.evaluation import load_evaluator, EvaluatorType\n",
    "\n",
    "EVAL_TYPES = {\n",
    "    \"accuracy\": True,\n",
    "    \"\": True,\n",
    "    \n",
    "}\n",
    "\n",
    "evaluator = load_evaluator(EvaluatorType.LABELED_SCORE_STRING, llm=get_llm_model(LLMModel.GPT_3_AZURE))\n",
    "\n",
    "for _, item in df_eval.iterrows():\n",
    "    question, relevant_chunk = item['question'], item['relevant_chunk']\n",
    "    \n",
    "    chain_result = rag_chain_with_source.invoke(question)\n",
    "    answer, context = chain_result['answer'], chain_result['context']\n",
    "    \n",
    "    for key, _ in EVAL_TYPES.items():        \n",
    "        score = evaluator.evaluate_strings(prediction=answer, reference=context, input=question)\n",
    "        print(f\"{key}: {score}\")\n",
    "        print()"
   ],
   "metadata": {
    "collapsed": false
   },
   "id": "625dbea4df40e3e9",
   "execution_count": null
  },
  {
   "cell_type": "markdown",
   "source": [
    "Further try evaluating the model with Phoenix's evaluation tools. Read more: https://docs.arize.com/phoenix/evaluation/running-pre-tested-evals/retrieval-rag-relevance"
   ],
   "metadata": {
    "collapsed": false
   },
   "id": "dbb98ddc172dd8bb"
  }
 ],
 "metadata": {
  "kernelspec": {
   "display_name": "Python 3",
   "language": "python",
   "name": "python3"
  },
  "language_info": {
   "codemirror_mode": {
    "name": "ipython",
    "version": 3
   },
   "file_extension": ".py",
   "mimetype": "text/x-python",
   "name": "python",
   "nbconvert_exporter": "python",
   "pygments_lexer": "ipython3",
   "version": "3.10.10"
  }
 },
 "nbformat": 4,
 "nbformat_minor": 5
}
