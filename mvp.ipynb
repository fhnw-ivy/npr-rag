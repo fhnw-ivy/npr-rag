{
 "cells": [
  {
   "cell_type": "code",
   "outputs": [],
   "source": [
    "import pandas as pd\n",
    "\n",
    "df = pd.read_csv('data/Cleantech Media Dataset/cleantech_media_dataset_v2_2024-02-23.csv')\n",
    "df.head()"
   ],
   "metadata": {
    "collapsed": false
   },
   "id": "188c966d5cd28de1",
   "execution_count": null
  },
  {
   "cell_type": "code",
   "outputs": [],
   "source": [
    "import ast\n",
    "\n",
    "df['content'] = df['content'].apply(ast.literal_eval)\n",
    "df['content'] = df['content'].apply(lambda x: [str(i) for i in x])\n",
    "df['content'] = df['content'].apply(lambda x: '\\n\\n'.join(x))\n",
    "\n",
    "df['content'].head()"
   ],
   "metadata": {
    "collapsed": false
   },
   "id": "1d6d6b974dc56bb8",
   "execution_count": null
  },
  {
   "cell_type": "code",
   "outputs": [],
   "source": [
    "from src.preprocessing.base_processor import EmbeddingStrategy\n",
    "strategy = EmbeddingStrategy.get_default_strategy()\n",
    "\n",
    "documents = []\n",
    "for index, row in df.iterrows():\n",
    "    content = row['content']\n",
    "\n",
    "    metadata = {\n",
    "        \"url\": row['url'],\n",
    "        \"domain\": row['domain'],\n",
    "        \"title\": row['title'],\n",
    "        \"author\": row['author'],\n",
    "        \"date\": row['date']\n",
    "    }\n",
    "    \n",
    "    cleaned_content = strategy.clean(content)\n",
    "    row_docs = strategy.chunk(content, metadata)\n",
    "    \n",
    "    documents += row_docs\n",
    "\n",
    "qatar_docs = [doc for doc in documents if 'Qatar to Slash Emissions as LNG Expansion Advances' in doc.metadata['title']]\n",
    "qatar_docs"
   ],
   "metadata": {
    "collapsed": false
   },
   "id": "8555312ebd19605e",
   "execution_count": null
  }
 ],
 "metadata": {
  "kernelspec": {
   "display_name": "Python 3",
   "language": "python",
   "name": "python3"
  },
  "language_info": {
   "codemirror_mode": {
    "name": "ipython",
    "version": 2
   },
   "file_extension": ".py",
   "mimetype": "text/x-python",
   "name": "python",
   "nbconvert_exporter": "python",
   "pygments_lexer": "ipython2",
   "version": "2.7.6"
  }
 },
 "nbformat": 4,
 "nbformat_minor": 5
}
