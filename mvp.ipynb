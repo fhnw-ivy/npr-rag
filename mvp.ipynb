{
 "cells": [
  {
   "cell_type": "code",
   "outputs": [],
   "source": [
    "import pandas as pd\n",
    "from dotenv import load_dotenv\n",
    "from tqdm import tqdm\n",
    "\n",
    "load_dotenv()\n",
    "\n",
    "df = pd.read_csv('data/Cleantech Media Dataset/cleantech_media_dataset_v2_2024-02-23.csv')\n",
    "df.head()"
   ],
   "metadata": {
    "collapsed": false
   },
   "id": "188c966d5cd28de1",
   "execution_count": null
  },
  {
   "cell_type": "markdown",
   "source": [
    "# Preprocessing & Indexing"
   ],
   "metadata": {
    "collapsed": false
   },
   "id": "8e75b6e2aa712181"
  },
  {
   "cell_type": "code",
   "outputs": [],
   "source": [
    "import ast\n",
    "\n",
    "df['content'] = df['content'].apply(ast.literal_eval)\n",
    "df['content'] = df['content'].apply(lambda x: [str(i) for i in x])\n",
    "df['content'] = df['content'].apply(lambda x: '\\n\\n'.join(x))\n",
    "\n",
    "df['content'].head()"
   ],
   "metadata": {
    "collapsed": false
   },
   "id": "1d6d6b974dc56bb8",
   "execution_count": null
  },
  {
   "cell_type": "code",
   "outputs": [],
   "source": [
    "from src.embedding_strategy import EmbeddingStrategy\n",
    "strategy = EmbeddingStrategy.get_default_strategy()\n",
    "\n",
    "documents = []\n",
    "for index, row in tqdm(df.iterrows()):\n",
    "    content = row['content']\n",
    "    \n",
    "    row = row.fillna('')\n",
    "    \n",
    "    metadata = {\n",
    "        \"url\": row['url'],\n",
    "        \"domain\": row['domain'],\n",
    "        \"title\": row['title'],\n",
    "        \"author\": row['author'],\n",
    "        \"date\": row['date']\n",
    "    }\n",
    "    \n",
    "    cleaned_content = strategy.processor.clean(content)\n",
    "    row_docs = strategy.processor.chunk(content, metadata)\n",
    "    \n",
    "    documents += row_docs\n",
    "    \n",
    "documents = documents[:100] # Only use the first 100 documents for testing"
   ],
   "metadata": {
    "collapsed": false
   },
   "id": "8555312ebd19605e",
   "execution_count": null
  },
  {
   "cell_type": "code",
   "outputs": [],
   "source": [
    "strategy.vector_store.add_documents(documents, verbose=True, batch_size=128)\n",
    "strategy.vector_store.similarity_search(\"The company is also aiming to reduce gas flaring?\")"
   ],
   "metadata": {
    "collapsed": false
   },
   "id": "d4af6b1f3a55cc66",
   "execution_count": null
  },
  {
   "cell_type": "markdown",
   "source": [
    "# Retrieval & Generation"
   ],
   "metadata": {
    "collapsed": false
   },
   "id": "7ad87a39c366b0b3"
  },
  {
   "cell_type": "code",
   "outputs": [],
   "source": [
    "from src.generator import Generator\n",
    "import os\n",
    "\n",
    "gen = Generator(openai_api_key=os.getenv(\"OPENAI_API_KEY\"), \n",
    "                embedding_strategy=strategy)\n",
    "\n",
    "gen.ask(\"Who was in Paris?\")"
   ],
   "metadata": {
    "collapsed": false
   },
   "id": "6fd9b043d8d6a8bb",
   "execution_count": null
  },
  {
   "cell_type": "code",
   "outputs": [],
   "source": [
    "retriever = strategy.retriever\n",
    "retriever.invoke(\"Who was in Paris?\")"
   ],
   "metadata": {
    "collapsed": false
   },
   "id": "87c4b5fa58cac357",
   "execution_count": null
  },
  {
   "cell_type": "code",
   "outputs": [],
   "source": [
    "# Based on rag evaluation set \n",
    "result = retriever.get_relevant_documents(\"Who was in Paris?\")\n",
    "print(result[0].page_content)\n",
    "print(result[0].metadata)"
   ],
   "metadata": {
    "collapsed": false
   },
   "id": "b98a6c1ef3f8dcdb",
   "execution_count": null
  },
  {
   "cell_type": "markdown",
   "source": [
    "# Evaluation"
   ],
   "metadata": {
    "collapsed": false
   },
   "id": "9a0c9f4f51cdcb2f"
  },
  {
   "cell_type": "code",
   "outputs": [],
   "source": [
    "df_eval = pd.read_csv('data/Cleantech Media Dataset/cleantech_rag_evaluation_data_2024-02-23.csv')\n",
    "df_eval.head()"
   ],
   "metadata": {
    "collapsed": false
   },
   "id": "32bc9616ebdc0e26",
   "execution_count": null
  },
  {
   "cell_type": "code",
   "outputs": [],
   "source": [
    "%%script false --no-raise-error\n",
    "\n",
    "from src.assessor import Assessor\n",
    "assessor = Assessor()\n",
    "\n",
    "evaluation = pd.DataFrame()\n",
    "metrics_list = []\n",
    "\n",
    "for i, row in tqdm(df_eval.iterrows(), total=len(df_eval)):\n",
    "    question = row[\"question\"]\n",
    "    relevant_chunk = row[\"relevant_chunk\"]\n",
    "    \n",
    "    answer, relevant_documents = gen.ask(question)\n",
    "    contexts = [doc.page_content for doc in relevant_documents]\n",
    "    \n",
    "    metrics = assessor.assess_example(question, answer, contexts, relevant_chunk)\n",
    "    metrics_list.append(metrics)\n",
    "    \n",
    "    print(\"\\n\\n\\n\")\n",
    "\n",
    "evaluation = pd.concat(metrics_list, ignore_index=True)\n",
    "evaluation.head(20)"
   ],
   "metadata": {
    "collapsed": false
   },
   "id": "225382cb4d363647",
   "execution_count": null
  },
  {
   "cell_type": "code",
   "outputs": [],
   "source": [
    "%%script false --no-raise-error\n",
    "# This is hella expensive\n",
    "\n",
    "from src.assessor import Assessor, generate_testset\n",
    "assessor = Assessor()\n",
    "\n",
    "testset = generate_testset(documents)\n",
    "testset.to_pandas().head(20)\n",
    "\n",
    "evaluation = assessor.assess_dataset(testset.to_dataset())\n",
    "evaluation.head(20)"
   ],
   "metadata": {
    "collapsed": false
   },
   "id": "8210c2d32686d5f9",
   "execution_count": null
  }
 ],
 "metadata": {
  "kernelspec": {
   "display_name": "Python 3",
   "language": "python",
   "name": "python3"
  },
  "language_info": {
   "codemirror_mode": {
    "name": "ipython",
    "version": 2
   },
   "file_extension": ".py",
   "mimetype": "text/x-python",
   "name": "python",
   "nbconvert_exporter": "python",
   "pygments_lexer": "ipython2",
   "version": "2.7.6"
  }
 },
 "nbformat": 4,
 "nbformat_minor": 5
}
