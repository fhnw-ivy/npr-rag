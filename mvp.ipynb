{
 "cells": [
  {
   "cell_type": "code",
   "outputs": [
    {
     "data": {
      "text/plain": "   Unnamed: 0                                              title        date  \\\n0        1280  Qatar to Slash Emissions as LNG Expansion Adva...  2021-01-13   \n1        1281               India Launches Its First 700 MW PHWR  2021-01-15   \n2        1283              New Chapter for US-China Energy Trade  2021-01-20   \n3        1284  Japan: Slow Restarts Cast Doubt on 2030 Energy...  2021-01-22   \n4        1285     NYC Pension Funds to Divest Fossil Fuel Shares  2021-01-25   \n\n  author                                            content       domain  \\\n0    NaN  [\"Qatar Petroleum ( QP) is targeting aggressiv...  energyintel   \n1    NaN  [\"• Nuclear Power Corp. of India Ltd. ( NPCIL)...  energyintel   \n2    NaN  [\"New US President Joe Biden took office this ...  energyintel   \n3    NaN  [\"The slow pace of Japanese reactor restarts c...  energyintel   \n4    NaN  [\"Two of New York City's largest pension funds...  energyintel   \n\n                                                 url  \n0  https://www.energyintel.com/0000017b-a7dc-de4c...  \n1  https://www.energyintel.com/0000017b-a7dc-de4c...  \n2  https://www.energyintel.com/0000017b-a7dc-de4c...  \n3  https://www.energyintel.com/0000017b-a7dc-de4c...  \n4  https://www.energyintel.com/0000017b-a7dc-de4c...  ",
      "text/html": "<div>\n<style scoped>\n    .dataframe tbody tr th:only-of-type {\n        vertical-align: middle;\n    }\n\n    .dataframe tbody tr th {\n        vertical-align: top;\n    }\n\n    .dataframe thead th {\n        text-align: right;\n    }\n</style>\n<table border=\"1\" class=\"dataframe\">\n  <thead>\n    <tr style=\"text-align: right;\">\n      <th></th>\n      <th>Unnamed: 0</th>\n      <th>title</th>\n      <th>date</th>\n      <th>author</th>\n      <th>content</th>\n      <th>domain</th>\n      <th>url</th>\n    </tr>\n  </thead>\n  <tbody>\n    <tr>\n      <th>0</th>\n      <td>1280</td>\n      <td>Qatar to Slash Emissions as LNG Expansion Adva...</td>\n      <td>2021-01-13</td>\n      <td>NaN</td>\n      <td>[\"Qatar Petroleum ( QP) is targeting aggressiv...</td>\n      <td>energyintel</td>\n      <td>https://www.energyintel.com/0000017b-a7dc-de4c...</td>\n    </tr>\n    <tr>\n      <th>1</th>\n      <td>1281</td>\n      <td>India Launches Its First 700 MW PHWR</td>\n      <td>2021-01-15</td>\n      <td>NaN</td>\n      <td>[\"• Nuclear Power Corp. of India Ltd. ( NPCIL)...</td>\n      <td>energyintel</td>\n      <td>https://www.energyintel.com/0000017b-a7dc-de4c...</td>\n    </tr>\n    <tr>\n      <th>2</th>\n      <td>1283</td>\n      <td>New Chapter for US-China Energy Trade</td>\n      <td>2021-01-20</td>\n      <td>NaN</td>\n      <td>[\"New US President Joe Biden took office this ...</td>\n      <td>energyintel</td>\n      <td>https://www.energyintel.com/0000017b-a7dc-de4c...</td>\n    </tr>\n    <tr>\n      <th>3</th>\n      <td>1284</td>\n      <td>Japan: Slow Restarts Cast Doubt on 2030 Energy...</td>\n      <td>2021-01-22</td>\n      <td>NaN</td>\n      <td>[\"The slow pace of Japanese reactor restarts c...</td>\n      <td>energyintel</td>\n      <td>https://www.energyintel.com/0000017b-a7dc-de4c...</td>\n    </tr>\n    <tr>\n      <th>4</th>\n      <td>1285</td>\n      <td>NYC Pension Funds to Divest Fossil Fuel Shares</td>\n      <td>2021-01-25</td>\n      <td>NaN</td>\n      <td>[\"Two of New York City's largest pension funds...</td>\n      <td>energyintel</td>\n      <td>https://www.energyintel.com/0000017b-a7dc-de4c...</td>\n    </tr>\n  </tbody>\n</table>\n</div>"
     },
     "execution_count": 1,
     "metadata": {},
     "output_type": "execute_result"
    }
   ],
   "source": [
    "import pandas as pd\n",
    "from tqdm import tqdm\n",
    "\n",
    "from dotenv import load_dotenv\n",
    "load_dotenv()\n",
    "\n",
    "df = pd.read_csv('data/Cleantech Media Dataset/cleantech_media_dataset_v2_2024-02-23.csv')\n",
    "df.head()"
   ],
   "metadata": {
    "collapsed": false,
    "ExecuteTime": {
     "end_time": "2024-03-05T16:28:13.794207Z",
     "start_time": "2024-03-05T16:28:12.844745Z"
    }
   },
   "id": "188c966d5cd28de1",
   "execution_count": 1
  },
  {
   "cell_type": "code",
   "outputs": [
    {
     "data": {
      "text/plain": "0    Qatar Petroleum ( QP) is targeting aggressive ...\n1    • Nuclear Power Corp. of India Ltd. ( NPCIL) s...\n2    New US President Joe Biden took office this we...\n3    The slow pace of Japanese reactor restarts con...\n4    Two of New York City's largest pension funds s...\nName: content, dtype: object"
     },
     "execution_count": 2,
     "metadata": {},
     "output_type": "execute_result"
    }
   ],
   "source": [
    "import ast\n",
    "\n",
    "df['content'] = df['content'].apply(ast.literal_eval)\n",
    "df['content'] = df['content'].apply(lambda x: [str(i) for i in x])\n",
    "df['content'] = df['content'].apply(lambda x: '\\n\\n'.join(x))\n",
    "\n",
    "df['content'].head()"
   ],
   "metadata": {
    "collapsed": false,
    "ExecuteTime": {
     "end_time": "2024-03-05T16:28:15.247481Z",
     "start_time": "2024-03-05T16:28:14.671715Z"
    }
   },
   "id": "1d6d6b974dc56bb8",
   "execution_count": 2
  },
  {
   "cell_type": "code",
   "outputs": [
    {
     "name": "stderr",
     "output_type": "stream",
     "text": [
      "9593it [00:01, 8539.38it/s]\n"
     ]
    }
   ],
   "source": [
    "from src.embedding_strategy import EmbeddingStrategy\n",
    "strategy = EmbeddingStrategy.get_default_strategy()\n",
    "\n",
    "documents = []\n",
    "for index, row in tqdm(df.iterrows()):\n",
    "    content = row['content']\n",
    "\n",
    "    metadata = {\n",
    "        \"url\": row['url'],\n",
    "        \"domain\": row['domain'],\n",
    "        \"title\": row['title'],\n",
    "        \"author\": row['author'],\n",
    "        \"date\": row['date']\n",
    "    }\n",
    "    \n",
    "    cleaned_content = strategy.processor.clean(content)\n",
    "    row_docs = strategy.processor.chunk(content, metadata)\n",
    "    \n",
    "    documents += row_docs"
   ],
   "metadata": {
    "collapsed": false,
    "ExecuteTime": {
     "end_time": "2024-03-05T16:28:36.615821Z",
     "start_time": "2024-03-05T16:28:30.098864Z"
    }
   },
   "id": "8555312ebd19605e",
   "execution_count": 4
  },
  {
   "cell_type": "code",
   "outputs": [
    {
     "name": "stderr",
     "output_type": "stream",
     "text": [
      "100%|██████████| 2/2 [32:46<00:00, 983.45s/it] \n"
     ]
    },
    {
     "data": {
      "text/plain": "[Document(page_content='The company in 2020 announced its intention to reduce operational GHG emissions intensity by 35% to 45% by 2030, a revision from the previous goal of 5% to 15%, and to reach net zero emissions by 2050.\\n\\nThe path to net zero will involve tools such as emissions offsets and carbon capture, utilization and sequestration, Lance said.\\n\\nWithin the ESG initiatives, Lance and Sheffield also stressed the importance of curbing routine natural gas flaring, which remains a stubborn challenge in the Permian despite progress made on reducing flaring intensity.\\n\\nOther measures such as electrifying fracture fleets, and better monitoring of methane leaks, will be crucial as well, they said.', metadata={'date': '2021-03-05', 'domain': 'naturalgasintel', 'title': 'ConocoPhillips, Pioneer Natural CEOs Preach Discipline as Permian Activity Rebounds', 'url': 'https://www.naturalgasintel.com/conocophillips-pioneer-natural-ceos-preach-discipline-as-permian-activity-rebounds/'}),\n Document(page_content='Kahina Abdeli-Galinier, Schlumberger emissions business director, commented: “ The urgency of methane and flare challenges means emission detection, measurement, reporting and abatement approaches need to mature rapidly. To benefit the industry, SEES aspires to become the trusted partner for operators looking to reduce their emissions footprint quickly, credibly, and in the right way. To benefit the planet, our objective is to work with our customers to eliminate 1% of all anthropogenic GHG emissions by 2030. ”', metadata={'date': '2022-03-09', 'domain': 'azocleantech', 'title': 'Schlumberger Launches Dedicated Business to Eliminate Oil and Gas Industry’ s Methane and Routine Flare Emissions', 'url': 'https://www.azocleantech.com/news.aspx?newsID=31294'}),\n Document(page_content='Qatar Petroleum ( QP) has launched a new sustainability strategy, aiming to reduce the emissions intensity of its LNG facilities by 25%.\\n\\nThe company also aims to reduce emissions from its upstream facilities by at least 15% and cut flaring intensity in the upstream by more than 75%. The Qatari NOC set 2013 as the baseline. It intends to achieve the targets by 2030.\\n\\nQP is targeting an end to routine flaring by 2030 and limiting fugitive methane emissions. It will accomplish this by setting a methane intensity target of 0.2% across all facilities by 2025.\\n\\nThe company has spent $ 900 million between 2012 and 2018 on reducing flaring. Another $ 170mn has been committed for investment from 2018 to 2021.\\n\\nQP has committed to using carbon capture and storage ( CCS) facilities to capture more than 7 million tonnes per year. In December 2020, QP said it planned to sequester this amount of CO2 by 2027.', metadata={'date': '2021-01-13', 'domain': 'energyvoice', 'title': 'QP launches carbon cut strategy - News for the Energy Sector', 'url': 'https://www.energyvoice.com//www.energyvoice.com/oilandgas/middle-east/lng-middle-east/291211/qp-emissions-lng-sustainability/'}),\n Document(page_content='Oil and gas sector emissions reductions get less press, but are also significant. In addition to an active flare-reduction program, Cairo last October signed a deal with local firm SMA to undertake a two-year country-wide inspection of all facilities for gas leaks, notes another source. Some 25 teams, using infrared Flir cameras, have started on downstream facilities in the Alexandria area, and should begin surveying upstream operations toward the end of the year. This project alone is targeting a 30% cut in oil and gas sector emissions.', metadata={'date': '2022-08-10', 'domain': 'energyintel', 'title': \"Risks and Rewards for Egypt's Role as COP Host\", 'url': 'https://www.energyintel.com/00000182-8311-d4e0-abc6-d3713e5b0004'})]"
     },
     "execution_count": 4,
     "metadata": {},
     "output_type": "execute_result"
    }
   ],
   "source": [
    "\n",
    "# strategy.vector_store.add_documents(documents, verbose=True)\n",
    "# \n",
    "# strategy.vector_store.similarity_search(\"The company is also aiming to reduce gas flaring?\")"
   ],
   "metadata": {
    "collapsed": false,
    "ExecuteTime": {
     "end_time": "2024-03-05T15:55:31.002439Z",
     "start_time": "2024-03-05T15:22:43.479971Z"
    }
   },
   "id": "d4af6b1f3a55cc66",
   "execution_count": 4
  },
  {
   "cell_type": "code",
   "outputs": [
    {
     "name": "stderr",
     "output_type": "stream",
     "text": [
      "huggingface/tokenizers: The current process just got forked, after parallelism has already been used. Disabling parallelism to avoid deadlocks...\n",
      "To disable this warning, you can either:\n",
      "\t- Avoid using `tokenizers` before the fork if possible\n",
      "\t- Explicitly set the environment variable TOKENIZERS_PARALLELISM=(true | false)\n"
     ]
    },
    {
     "name": "stdout",
     "output_type": "stream",
     "text": [
      "Answer: World leaders, ministers, negotiators, representatives from civil society, businesses, international organizations, and the media were in Paris for the COP21 where the Paris Agreement was signed.\n"
     ]
    },
    {
     "data": {
      "text/plain": "'World leaders, ministers, negotiators, representatives from civil society, businesses, international organizations, and the media were in Paris for the COP21 where the Paris Agreement was signed.'"
     },
     "execution_count": 5,
     "metadata": {},
     "output_type": "execute_result"
    }
   ],
   "source": [
    "from src.generator import Generator\n",
    "import os\n",
    "\n",
    "gen = Generator(openai_api_key=os.getenv(\"OPENAI_API_KEY\"), vectorstore=strategy.vector_store, retriever=strategy.retriever)\n",
    "gen.ask(\"Who was in Paris?\")"
   ],
   "metadata": {
    "collapsed": false,
    "ExecuteTime": {
     "end_time": "2024-03-05T16:28:56.320794Z",
     "start_time": "2024-03-05T16:28:53.974437Z"
    }
   },
   "id": "6fd9b043d8d6a8bb",
   "execution_count": 5
  },
  {
   "cell_type": "code",
   "outputs": [],
   "source": [
    "from langchain_openai import OpenAI\n",
    "from langchain.retrievers.self_query.base import SelfQueryRetriever\n",
    "from langchain.chains.query_constructor.base import AttributeInfo\n",
    "\n",
    "# Metadata schema based on the values on the CSV\n",
    "metadata_field_info = [\n",
    "    AttributeInfo(\n",
    "        name=\"url\",\n",
    "        description=\"Url of the document\",\n",
    "        type=\"string\",\n",
    "    ),\n",
    "    AttributeInfo(\n",
    "        name=\"title\",\n",
    "        description=\"Title of the document\",\n",
    "        type=\"string\",\n",
    "    ),\n",
    "    AttributeInfo(\n",
    "        name=\"date\",\n",
    "        description=\"Date of the document\",\n",
    "        type=\"string\",\n",
    "    ),\n",
    "    AttributeInfo(\n",
    "        name=\"author\",\n",
    "        description=\"Author of the document\",\n",
    "        type=\"string\",\n",
    "    ),\n",
    "    AttributeInfo(\n",
    "        name=\"domain\",\n",
    "        description=\"Domain of the document, closely related to the source of the document\",\n",
    "        type=\"string\",\n",
    "    ),\n",
    "]\n",
    "document_content_description = \"Article content\"\n",
    "\n",
    "# Configure retriver\n",
    "llm = OpenAI(temperature=0)\n",
    "retriever = SelfQueryRetriever.from_llm(\n",
    "    llm, strategy.vector_store.vector_store, document_content_description, metadata_field_info, verbose=True\n",
    ")\n"
   ],
   "metadata": {
    "collapsed": false,
    "ExecuteTime": {
     "end_time": "2024-03-05T15:56:39.655649Z",
     "start_time": "2024-03-05T15:56:38.921831Z"
    }
   },
   "id": "f06ffe7b21418519",
   "execution_count": 6
  },
  {
   "cell_type": "code",
   "outputs": [
    {
     "data": {
      "text/plain": "[Document(page_content=\"By clicking `` Allow All '' you agree to the storing of cookies on your device to enhance site navigation, analyse site usage and support us in providing free open access scientific content. More info.\\n\\nParis takes the crown as Europe’ s ‘ greenest’ capital, with the highest number of green spaces per 100,000 people. Luxembourg City and Dublin take second and third respectively.\\n\\nNew research has revealed the greenest European capitals, with Paris coming out on top.\\n\\nThe study by drinking straws specialist Drinking Straw analysed the number of parks, gardens, wildlife areas, forests, playgrounds and bodies of water compared to the size of the population to see which areas have the most green spaces per 100,000 people.\\n\\nIt found that France’ s capital of Paris is the greenest of any capital, with 325 total green spaces made up of 171 parks, 127 gardens, one wildlife area, 16 playgrounds and ten bodies of water. When accounting for population, it has 7.62 parks and 5.66 gardens per 100,000 people.\", metadata={'date': '2022-09-13', 'domain': 'azocleantech', 'title': 'Study Reveals the Greenest European Cities', 'url': 'https://www.azocleantech.com/news.aspx?newsID=32239'}),\n Document(page_content='Commenting on the findings, a spokesperson from Drinking Straw said: “ While it might be the case that Europe’ s most populated capitals have the most infrastructure, this data shows that those at the top of the list also manage to combine that with a strong balance of people to green spaces as well. In the case of cities like Luxembourg and Paris, there are many green spaces compared to the number of people, meaning you won’ t be far from a park or garden in most areas. ”\\n\\nThe study was conducted by Drinking Straw, a distributor, wholesaler, and supplier of drinking straws in all of Europe, offering flexible, eco-friendly and plastic-free wholesale stock.\\n\\nThe Sensi+™ is a laser-based analyzer used for monitoring natural gas quality.\\n\\nThe Cypher ES AFM from Oxford Instruments Asylum Research can be utilized for exceptional environmental control.\\n\\nThe Vocus CI-TOF from TOFWERK provides real-time chemical ionization measurements.', metadata={'date': '2022-09-13', 'domain': 'azocleantech', 'title': 'Study Reveals the Greenest European Cities', 'url': 'https://www.azocleantech.com/news.aspx?newsID=32239'}),\n Document(page_content=\"`` Considering the trend of increasing quantity and magnitude of extreme weather events and the vulnerability of urban areas, green spaces are known to provide great potential to increase urban climate resilience. Our work highlights the widespread positive effects of additional green structures in residential open spaces, a type of urban green space that is frequently understudied, '' points out Dr. Schmidt.\\n\\nAs a conclusion, the researchers point out that if land owners and leaseholders receive incentives to commit to climate adaptation, and neighbourhoods come up with deliberate management strategies, these benefits could be further enhanced, contributing to a more sustainable urban development.\\n\\nThe Sensi+™ is a laser-based analyzer used for monitoring natural gas quality.\\n\\nThe Cypher ES AFM from Oxford Instruments Asylum Research can be utilized for exceptional environmental control.\\n\\nThe Vocus CI-TOF from TOFWERK provides real-time chemical ionization measurements.\", metadata={'date': '2022-01-25', 'domain': 'azocleantech', 'title': 'Study Highlights the Positive Effects of Additional Green Structures in Cities', 'url': 'https://www.azocleantech.com/news.aspx?newsID=31010'}),\n Document(page_content=\"By clicking `` Allow All '' you agree to the storing of cookies on your device to enhance site navigation, analyse site usage and support us in providing free open access scientific content. More info.\\n\\nWhen the historic cities of Europe were built hundreds of years ago, there were open green spaces all around them. But today's city centers can be a 30-minute drive or more to the vast open greenery that earlier Europeans took for granted.\\n\\nThat's what the startup Roofscapes is trying to change. The company, founded by three students from MIT's master of architecture program, is using timber structures to turn the ubiquitous pitched roofs of Paris into accessible green spaces.\\n\\nThe spaces would provide a way to grow local food, anchor biodiversity, reduce the temperatures of buildings, improve air quality, increase water retention, and give residents a new way to escape the dense urban clusters of modern times.\", metadata={'date': '2023-04-05', 'domain': 'azocleantech', 'title': 'Turning Pitched Roofs of Paris into Accessible Green Spaces', 'url': 'https://www.azocleantech.com/news.aspx?newsID=33235'})]"
     },
     "execution_count": 7,
     "metadata": {},
     "output_type": "execute_result"
    }
   ],
   "source": [
    "retriever.invoke(\"Who was in Paris?\")"
   ],
   "metadata": {
    "collapsed": false,
    "ExecuteTime": {
     "end_time": "2024-03-05T15:56:41.371348Z",
     "start_time": "2024-03-05T15:56:40.518194Z"
    }
   },
   "id": "87c4b5fa58cac357",
   "execution_count": 7
  },
  {
   "cell_type": "code",
   "outputs": [],
   "source": [
    "# Based on rag evaluation set \n",
    "result = retriever.get_relevant_documents(\"Who was in Paris?\")\n",
    "print(result[0].page_content)\n",
    "print(result[0].metadata)\n"
   ],
   "metadata": {
    "collapsed": false
   },
   "id": "b98a6c1ef3f8dcdb"
  }
 ],
 "metadata": {
  "kernelspec": {
   "display_name": "Python 3",
   "language": "python",
   "name": "python3"
  },
  "language_info": {
   "codemirror_mode": {
    "name": "ipython",
    "version": 2
   },
   "file_extension": ".py",
   "mimetype": "text/x-python",
   "name": "python",
   "nbconvert_exporter": "python",
   "pygments_lexer": "ipython2",
   "version": "2.7.6"
  }
 },
 "nbformat": 4,
 "nbformat_minor": 5
}
