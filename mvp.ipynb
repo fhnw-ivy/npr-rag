{
 "cells": [
  {
   "cell_type": "code",
   "execution_count": null,
   "id": "188c966d5cd28de1",
   "metadata": {},
   "outputs": [],
   "source": [
    "import pandas as pd\n",
    "from dotenv import load_dotenv\n",
    "from tqdm import tqdm\n",
    "\n",
    "load_dotenv()\n",
    "\n",
    "df = pd.read_csv('data/Cleantech Media Dataset/cleantech_media_dataset_v2_2024-02-23.csv')\n",
    "df.head()"
   ]
  },
  {
   "cell_type": "markdown",
   "id": "8e75b6e2aa712181",
   "metadata": {},
   "source": [
    "# Preprocessing & Indexing"
   ]
  },
  {
   "cell_type": "code",
   "execution_count": null,
   "id": "1d6d6b974dc56bb8",
   "metadata": {},
   "outputs": [],
   "source": [
    "import ast\n",
    "\n",
    "df['content'] = df['content'].apply(ast.literal_eval)\n",
    "df['content'] = df['content'].apply(lambda x: [str(i) for i in x])\n",
    "df['content'] = df['content'].apply(lambda x: '\\n\\n'.join(x))\n",
    "\n",
    "df['content'].head()"
   ]
  },
  {
   "cell_type": "code",
   "execution_count": null,
   "id": "8555312ebd19605e",
   "metadata": {},
   "outputs": [],
   "source": [
    "from src.embedding_strategy import EmbeddingStrategy\n",
    "strategy = EmbeddingStrategy.get_default_strategy()\n",
    "\n",
    "documents = []\n",
    "for index, row in tqdm(df.iterrows()):\n",
    "    content = row['content']\n",
    "    \n",
    "    row = row.fillna('')\n",
    "    \n",
    "    metadata = {\n",
    "        \"url\": row['url'],\n",
    "        \"domain\": row['domain'],\n",
    "        \"title\": row['title'],\n",
    "        \"author\": row['author'],\n",
    "        \"date\": row['date']\n",
    "    }\n",
    "    \n",
    "    cleaned_content = strategy.processor.clean(content)\n",
    "    row_docs = strategy.processor.chunk(content, metadata)\n",
    "    \n",
    "    documents += row_docs\n",
    "    \n",
    "documents = documents[:100] # Only use the first 100 documents for testing"
   ]
  },
  {
   "cell_type": "code",
   "execution_count": null,
   "id": "d4af6b1f3a55cc66",
   "metadata": {},
   "outputs": [],
   "source": [
    "strategy.vector_store.add_documents(documents, verbose=True, batch_size=128)\n",
    "strategy.vector_store.similarity_search(\"The company is also aiming to reduce gas flaring?\")"
   ]
  },
  {
   "cell_type": "markdown",
   "id": "7ad87a39c366b0b3",
   "metadata": {},
   "source": [
    "# Retrieval & Generation"
   ]
  },
  {
   "cell_type": "code",
   "execution_count": null,
   "id": "6fd9b043d8d6a8bb",
   "metadata": {},
   "outputs": [],
   "source": [
    "from src.generator import Generator\n",
    "import os\n",
    "\n",
    "gen = Generator(openai_api_key=os.getenv(\"OPENAI_API_KEY\"), \n",
    "                embedding_strategy=strategy)\n",
    "\n",
    "gen.ask(\"What's fifty grand to a motherfucker like me?\")"
   ]
  },
  {
   "cell_type": "code",
   "execution_count": null,
   "id": "87c4b5fa58cac357",
   "metadata": {},
   "outputs": [],
   "source": [
    "retriever = strategy.retriever\n",
    "retriever.invoke(\"Who was in Paris?\")"
   ]
  },
  {
   "cell_type": "code",
   "execution_count": null,
   "id": "b98a6c1ef3f8dcdb",
   "metadata": {},
   "outputs": [],
   "source": [
    "# Based on rag evaluation set \n",
    "result = retriever.get_relevant_documents(\"What's fifty grand to a motherfucker like me?\")\n",
    "print(result[0].page_content)\n",
    "print(result[0].metadata)"
   ]
  },
  {
   "cell_type": "code",
   "execution_count": null,
   "id": "0c49558f",
   "metadata": {},
   "outputs": [],
   "source": []
  }
 ],
 "metadata": {
  "kernelspec": {
   "display_name": "Python 3",
   "language": "python",
   "name": "python3"
  },
  "language_info": {
   "codemirror_mode": {
    "name": "ipython",
    "version": 3
   },
   "file_extension": ".py",
   "mimetype": "text/x-python",
   "name": "python",
   "nbconvert_exporter": "python",
   "pygments_lexer": "ipython3",
   "version": "3.10.10"
  }
 },
 "nbformat": 4,
 "nbformat_minor": 5
}
