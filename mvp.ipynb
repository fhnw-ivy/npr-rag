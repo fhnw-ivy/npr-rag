{
 "cells": [
  {
   "cell_type": "markdown",
   "id": "629c7169756adcbe",
   "metadata": {
    "collapsed": false
   },
   "source": [
    "# Setup"
   ]
  },
  {
   "cell_type": "code",
   "execution_count": 20,
   "id": "188c966d5cd28de1",
   "metadata": {},
   "outputs": [
    {
     "data": {
      "text/plain": [
       "True"
      ]
     },
     "execution_count": 20,
     "metadata": {},
     "output_type": "execute_result"
    }
   ],
   "source": [
    "import os\n",
    "\n",
    "import pandas as pd\n",
    "from dotenv import load_dotenv\n",
    "from tqdm import tqdm\n",
    "\n",
    "load_dotenv()"
   ]
  },
  {
   "cell_type": "markdown",
   "id": "47adf37081d73c21",
   "metadata": {
    "collapsed": false
   },
   "source": [
    "## Observability & Monitoring\n",
    "\n",
    "Phoenix is an open-source observability library designed for experimentation, evaluation, and troubleshooting. It allows AI Engineers and Data Scientists to quickly visualize their data, evaluate performance, track down issues, and export data to improve.\n",
    " "
   ]
  },
  {
   "cell_type": "code",
   "execution_count": 21,
   "id": "7d0092013e36ca8c",
   "metadata": {
    "collapsed": false
   },
   "outputs": [
    {
     "name": "stderr",
     "output_type": "stream",
     "text": [
      "Attempting to instrument while already instrumented\n"
     ]
    },
    {
     "name": "stdout",
     "output_type": "stream",
     "text": [
      "🌍 To view the Phoenix app in your browser, visit http://localhost:6006/\n",
      "📺 To view the Phoenix app in a notebook, run `px.active_session().view()`\n",
      "📖 For more information on how to use Phoenix, check out https://docs.arize.com/phoenix\n"
     ]
    }
   ],
   "source": [
    "from phoenix.trace.langchain import LangChainInstrumentor\n",
    "import phoenix as px\n",
    "\n",
    "px.close_app()\n",
    "session = px.launch_app()\n",
    "\n",
    "LangChainInstrumentor().instrument()"
   ]
  },
  {
   "cell_type": "code",
   "execution_count": 22,
   "id": "abd676a30f7effbe",
   "metadata": {
    "collapsed": false
   },
   "outputs": [
    {
     "name": "stdout",
     "output_type": "stream",
     "text": [
      "📺 Opening a view to the Phoenix app. The app is running at http://localhost:6006/\n"
     ]
    },
    {
     "data": {
      "text/html": [
       "\n",
       "        <iframe\n",
       "            width=\"100%\"\n",
       "            height=\"1000\"\n",
       "            src=\"http://localhost:6006/\"\n",
       "            frameborder=\"0\"\n",
       "            allowfullscreen\n",
       "            \n",
       "        ></iframe>\n",
       "        "
      ],
      "text/plain": [
       "<IPython.lib.display.IFrame at 0x2dbcafbe0>"
      ]
     },
     "execution_count": 22,
     "metadata": {},
     "output_type": "execute_result"
    }
   ],
   "source": [
    "session.view()"
   ]
  },
  {
   "cell_type": "markdown",
   "id": "4f9f2033ded77748",
   "metadata": {
    "collapsed": false
   },
   "source": [
    "# Data Loading"
   ]
  },
  {
   "cell_type": "code",
   "execution_count": 23,
   "id": "d028a391597bb1de",
   "metadata": {
    "collapsed": false
   },
   "outputs": [
    {
     "data": {
      "text/html": [
       "<div>\n",
       "<style scoped>\n",
       "    .dataframe tbody tr th:only-of-type {\n",
       "        vertical-align: middle;\n",
       "    }\n",
       "\n",
       "    .dataframe tbody tr th {\n",
       "        vertical-align: top;\n",
       "    }\n",
       "\n",
       "    .dataframe thead th {\n",
       "        text-align: right;\n",
       "    }\n",
       "</style>\n",
       "<table border=\"1\" class=\"dataframe\">\n",
       "  <thead>\n",
       "    <tr style=\"text-align: right;\">\n",
       "      <th></th>\n",
       "      <th>Unnamed: 0</th>\n",
       "      <th>title</th>\n",
       "      <th>date</th>\n",
       "      <th>author</th>\n",
       "      <th>content</th>\n",
       "      <th>domain</th>\n",
       "      <th>url</th>\n",
       "    </tr>\n",
       "  </thead>\n",
       "  <tbody>\n",
       "    <tr>\n",
       "      <th>0</th>\n",
       "      <td>1280</td>\n",
       "      <td>Qatar to Slash Emissions as LNG Expansion Adva...</td>\n",
       "      <td>2021-01-13</td>\n",
       "      <td>NaN</td>\n",
       "      <td>[\"Qatar Petroleum ( QP) is targeting aggressiv...</td>\n",
       "      <td>energyintel</td>\n",
       "      <td>https://www.energyintel.com/0000017b-a7dc-de4c...</td>\n",
       "    </tr>\n",
       "    <tr>\n",
       "      <th>1</th>\n",
       "      <td>1281</td>\n",
       "      <td>India Launches Its First 700 MW PHWR</td>\n",
       "      <td>2021-01-15</td>\n",
       "      <td>NaN</td>\n",
       "      <td>[\"• Nuclear Power Corp. of India Ltd. ( NPCIL)...</td>\n",
       "      <td>energyintel</td>\n",
       "      <td>https://www.energyintel.com/0000017b-a7dc-de4c...</td>\n",
       "    </tr>\n",
       "    <tr>\n",
       "      <th>2</th>\n",
       "      <td>1283</td>\n",
       "      <td>New Chapter for US-China Energy Trade</td>\n",
       "      <td>2021-01-20</td>\n",
       "      <td>NaN</td>\n",
       "      <td>[\"New US President Joe Biden took office this ...</td>\n",
       "      <td>energyintel</td>\n",
       "      <td>https://www.energyintel.com/0000017b-a7dc-de4c...</td>\n",
       "    </tr>\n",
       "    <tr>\n",
       "      <th>3</th>\n",
       "      <td>1284</td>\n",
       "      <td>Japan: Slow Restarts Cast Doubt on 2030 Energy...</td>\n",
       "      <td>2021-01-22</td>\n",
       "      <td>NaN</td>\n",
       "      <td>[\"The slow pace of Japanese reactor restarts c...</td>\n",
       "      <td>energyintel</td>\n",
       "      <td>https://www.energyintel.com/0000017b-a7dc-de4c...</td>\n",
       "    </tr>\n",
       "    <tr>\n",
       "      <th>4</th>\n",
       "      <td>1285</td>\n",
       "      <td>NYC Pension Funds to Divest Fossil Fuel Shares</td>\n",
       "      <td>2021-01-25</td>\n",
       "      <td>NaN</td>\n",
       "      <td>[\"Two of New York City's largest pension funds...</td>\n",
       "      <td>energyintel</td>\n",
       "      <td>https://www.energyintel.com/0000017b-a7dc-de4c...</td>\n",
       "    </tr>\n",
       "  </tbody>\n",
       "</table>\n",
       "</div>"
      ],
      "text/plain": [
       "   Unnamed: 0                                              title        date  \\\n",
       "0        1280  Qatar to Slash Emissions as LNG Expansion Adva...  2021-01-13   \n",
       "1        1281               India Launches Its First 700 MW PHWR  2021-01-15   \n",
       "2        1283              New Chapter for US-China Energy Trade  2021-01-20   \n",
       "3        1284  Japan: Slow Restarts Cast Doubt on 2030 Energy...  2021-01-22   \n",
       "4        1285     NYC Pension Funds to Divest Fossil Fuel Shares  2021-01-25   \n",
       "\n",
       "  author                                            content       domain  \\\n",
       "0    NaN  [\"Qatar Petroleum ( QP) is targeting aggressiv...  energyintel   \n",
       "1    NaN  [\"• Nuclear Power Corp. of India Ltd. ( NPCIL)...  energyintel   \n",
       "2    NaN  [\"New US President Joe Biden took office this ...  energyintel   \n",
       "3    NaN  [\"The slow pace of Japanese reactor restarts c...  energyintel   \n",
       "4    NaN  [\"Two of New York City's largest pension funds...  energyintel   \n",
       "\n",
       "                                                 url  \n",
       "0  https://www.energyintel.com/0000017b-a7dc-de4c...  \n",
       "1  https://www.energyintel.com/0000017b-a7dc-de4c...  \n",
       "2  https://www.energyintel.com/0000017b-a7dc-de4c...  \n",
       "3  https://www.energyintel.com/0000017b-a7dc-de4c...  \n",
       "4  https://www.energyintel.com/0000017b-a7dc-de4c...  "
      ]
     },
     "execution_count": 23,
     "metadata": {},
     "output_type": "execute_result"
    }
   ],
   "source": [
    "df = pd.read_csv('data/Cleantech Media Dataset/cleantech_media_dataset_v2_2024-02-23.csv')\n",
    "df.head()"
   ]
  },
  {
   "cell_type": "markdown",
   "id": "8e75b6e2aa712181",
   "metadata": {},
   "source": [
    "# Preprocessing & Indexing"
   ]
  },
  {
   "cell_type": "markdown",
   "id": "bb436cf3c7906ac5",
   "metadata": {
    "collapsed": false
   },
   "source": [
    "## Splitting content into paragraphs\n",
    "\n",
    "The content is currently stored as a list of strings. We will convert this into a single string with paragraphs separated by two newlines."
   ]
  },
  {
   "cell_type": "code",
   "execution_count": 24,
   "id": "1d6d6b974dc56bb8",
   "metadata": {},
   "outputs": [
    {
     "data": {
      "text/plain": [
       "0    Qatar Petroleum ( QP) is targeting aggressive ...\n",
       "1    • Nuclear Power Corp. of India Ltd. ( NPCIL) s...\n",
       "2    New US President Joe Biden took office this we...\n",
       "3    The slow pace of Japanese reactor restarts con...\n",
       "4    Two of New York City's largest pension funds s...\n",
       "Name: content, dtype: object"
      ]
     },
     "execution_count": 24,
     "metadata": {},
     "output_type": "execute_result"
    }
   ],
   "source": [
    "import ast\n",
    "\n",
    "df['content'] = df['content'].apply(ast.literal_eval)\n",
    "df['content'] = df['content'].apply(lambda x: [str(i) for i in x])\n",
    "df['content'] = df['content'].apply(lambda x: '\\n\\n'.join(x))\n",
    "df['content'].head()"
   ]
  },
  {
   "cell_type": "markdown",
   "id": "29f172af1ea76470",
   "metadata": {
    "collapsed": false
   },
   "source": [
    "# Indexing\n",
    "\n",
    "For the indexing we use the VectorStore class which bundles the embeddings and ChromaDB."
   ]
  },
  {
   "cell_type": "code",
   "execution_count": 25,
   "id": "af0a4a16684d3b86",
   "metadata": {
    "collapsed": false
   },
   "outputs": [],
   "source": [
    "from src.vectorstore import VectorStore\n",
    "from langchain_community.embeddings import HuggingFaceBgeEmbeddings\n",
    "\n",
    "bge_embeddings = HuggingFaceBgeEmbeddings(\n",
    "    model_name=\"BAAI/bge-small-en\", \n",
    "    model_kwargs={\"device\": \"cpu\"}, \n",
    "    encode_kwargs={\"normalize_embeddings\": True}\n",
    ")"
   ]
  },
  {
   "cell_type": "code",
   "execution_count": 26,
   "id": "5184c2f957d3c60d",
   "metadata": {
    "collapsed": false
   },
   "outputs": [],
   "source": [
    "from langchain.text_splitter import RecursiveCharacterTextSplitter\n",
    "\n",
    "recursive_text_splitter = RecursiveCharacterTextSplitter(chunk_size=1024, chunk_overlap=32, length_function=len)"
   ]
  },
  {
   "cell_type": "code",
   "execution_count": 27,
   "id": "f066402773ac9d58",
   "metadata": {
    "collapsed": false
   },
   "outputs": [
    {
     "name": "stderr",
     "output_type": "stream",
     "text": [
      "0it [00:00, ?it/s]"
     ]
    },
    {
     "name": "stderr",
     "output_type": "stream",
     "text": [
      "9593it [00:01, 6393.11it/s]\n"
     ]
    }
   ],
   "source": [
    "from langchain_core.documents import Document\n",
    "\n",
    "def create_documents(df, splitter):\n",
    "    docs = []\n",
    "    for index, row in tqdm(df.iterrows()):\n",
    "        content = row['content']\n",
    "\n",
    "        row = row.fillna('')\n",
    "\n",
    "        metadata = {\n",
    "            \"url\": row['url'],\n",
    "            \"domain\": row['domain'],\n",
    "            \"title\": row['title'],\n",
    "            \"author\": row['author'],\n",
    "            \"date\": row['date']\n",
    "        }\n",
    "        \n",
    "        for chunk in splitter.split_text(content):\n",
    "            docs.append(Document(page_content=chunk, metadata=metadata))\n",
    "    \n",
    "    return docs\n",
    "\n",
    "documents = create_documents(df, recursive_text_splitter)"
   ]
  },
  {
   "cell_type": "code",
   "execution_count": 28,
   "id": "f738ace88dd27a69",
   "metadata": {
    "collapsed": false
   },
   "outputs": [
    {
     "name": "stdout",
     "output_type": "stream",
     "text": [
      "ChromeDB Host:  100.109.183.32\n",
      "ChromeDB Port:  8192\n"
     ]
    }
   ],
   "source": [
    "print(\"ChromeDB Host: \", os.getenv('CHROMADB_HOST'))\n",
    "print(\"ChromeDB Port: \", os.getenv('CHROMADB_PORT'))\n",
    "\n",
    "bge_vector_store = VectorStore(embedding_function=bge_embeddings,\n",
    "                               collection=\"cleantech-bge-small-en\")"
   ]
  },
  {
   "cell_type": "markdown",
   "id": "3f20213c70591f14",
   "metadata": {
    "collapsed": false
   },
   "source": [
    "In the next step we will add the documents to the vector store. This will take a while depending on the number of documents."
   ]
  },
  {
   "cell_type": "code",
   "execution_count": 29,
   "id": "62d558939648a829",
   "metadata": {
    "collapsed": false
   },
   "outputs": [],
   "source": [
    "%%script false --no-raise-error\n",
    "\n",
    "bge_vector_store.add_documents(documents, verbose=True, batch_size=128)"
   ]
  },
  {
   "cell_type": "markdown",
   "id": "b2177cd39686a8db",
   "metadata": {
    "collapsed": false
   },
   "source": [
    "After adding the documents to the vector store we can now perform similarity searches."
   ]
  },
  {
   "cell_type": "code",
   "execution_count": 30,
   "id": "91a13de926826f7f",
   "metadata": {
    "collapsed": false
   },
   "outputs": [
    {
     "data": {
      "text/plain": [
       "[(Document(page_content='The company in 2020 announced its intention to reduce operational GHG emissions intensity by 35% to 45% by 2030, a revision from the previous goal of 5% to 15%, and to reach net zero emissions by 2050.\\n\\nThe path to net zero will involve tools such as emissions offsets and carbon capture, utilization and sequestration, Lance said.\\n\\nWithin the ESG initiatives, Lance and Sheffield also stressed the importance of curbing routine natural gas flaring, which remains a stubborn challenge in the Permian despite progress made on reducing flaring intensity.\\n\\nOther measures such as electrifying fracture fleets, and better monitoring of methane leaks, will be crucial as well, they said.', metadata={'author': '', 'date': '2021-03-05', 'domain': 'naturalgasintel', 'title': 'ConocoPhillips, Pioneer Natural CEOs Preach Discipline as Permian Activity Rebounds', 'url': 'https://www.naturalgasintel.com/conocophillips-pioneer-natural-ceos-preach-discipline-as-permian-activity-rebounds/'}),\n",
       "  0.22608880698680878),\n",
       " (Document(page_content='Kahina Abdeli-Galinier, Schlumberger emissions business director, commented: “ The urgency of methane and flare challenges means emission detection, measurement, reporting and abatement approaches need to mature rapidly. To benefit the industry, SEES aspires to become the trusted partner for operators looking to reduce their emissions footprint quickly, credibly, and in the right way. To benefit the planet, our objective is to work with our customers to eliminate 1% of all anthropogenic GHG emissions by 2030. ”', metadata={'author': '', 'date': '2022-03-09', 'domain': 'azocleantech', 'title': 'Schlumberger Launches Dedicated Business to Eliminate Oil and Gas Industry’ s Methane and Routine Flare Emissions', 'url': 'https://www.azocleantech.com/news.aspx?newsID=31294'}),\n",
       "  0.24056470394134521),\n",
       " (Document(page_content='Qatar Petroleum ( QP) has launched a new sustainability strategy, aiming to reduce the emissions intensity of its LNG facilities by 25%.\\n\\nThe company also aims to reduce emissions from its upstream facilities by at least 15% and cut flaring intensity in the upstream by more than 75%. The Qatari NOC set 2013 as the baseline. It intends to achieve the targets by 2030.\\n\\nQP is targeting an end to routine flaring by 2030 and limiting fugitive methane emissions. It will accomplish this by setting a methane intensity target of 0.2% across all facilities by 2025.\\n\\nThe company has spent $ 900 million between 2012 and 2018 on reducing flaring. Another $ 170mn has been committed for investment from 2018 to 2021.\\n\\nQP has committed to using carbon capture and storage ( CCS) facilities to capture more than 7 million tonnes per year. In December 2020, QP said it planned to sequester this amount of CO2 by 2027.', metadata={'author': '', 'date': '2021-01-13', 'domain': 'energyvoice', 'title': 'QP launches carbon cut strategy - News for the Energy Sector', 'url': 'https://www.energyvoice.com//www.energyvoice.com/oilandgas/middle-east/lng-middle-east/291211/qp-emissions-lng-sustainability/'}),\n",
       "  0.2503651976585388),\n",
       " (Document(page_content='Oil and gas sector emissions reductions get less press, but are also significant. In addition to an active flare-reduction program, Cairo last October signed a deal with local firm SMA to undertake a two-year country-wide inspection of all facilities for gas leaks, notes another source. Some 25 teams, using infrared Flir cameras, have started on downstream facilities in the Alexandria area, and should begin surveying upstream operations toward the end of the year. This project alone is targeting a 30% cut in oil and gas sector emissions.', metadata={'author': '', 'date': '2022-08-10', 'domain': 'energyintel', 'title': \"Risks and Rewards for Egypt's Role as COP Host\", 'url': 'https://www.energyintel.com/00000182-8311-d4e0-abc6-d3713e5b0004'}),\n",
       "  0.25055551528930664)]"
      ]
     },
     "execution_count": 30,
     "metadata": {},
     "output_type": "execute_result"
    }
   ],
   "source": [
    "bge_vector_store.similarity_search_w_scores(\"The company is also aiming to reduce gas flaring?\")"
   ]
  },
  {
   "cell_type": "markdown",
   "id": "7ad87a39c366b0b3",
   "metadata": {},
   "source": [
    "# Retrieval & Generation"
   ]
  },
  {
   "cell_type": "code",
   "execution_count": 31,
   "id": "6fd9b043d8d6a8bb",
   "metadata": {},
   "outputs": [],
   "source": [
    "from src.generation import get_llm_model, LLMModel\n",
    "\n",
    "azure_model = get_llm_model(LLMModel.GPT_3_AZURE)"
   ]
  },
  {
   "cell_type": "code",
   "execution_count": 32,
   "id": "fcc6ebdf4dab2924",
   "metadata": {
    "collapsed": false
   },
   "outputs": [],
   "source": [
    "rag_prompt = \"\"\"\n",
    "Answer the question to your best knowledge when looking at the following context:\n",
    "{context}\n",
    "                \n",
    "Question: {question}\n",
    "\"\"\""
   ]
  },
  {
   "cell_type": "code",
   "execution_count": 33,
   "id": "83dfe841ed24a7a7",
   "metadata": {
    "collapsed": false
   },
   "outputs": [],
   "source": [
    "from langchain_core.output_parsers import StrOutputParser\n",
    "from langchain_core.prompts import ChatPromptTemplate\n",
    "from langchain_core.runnables import RunnablePassthrough\n",
    "from langchain_core.runnables import RunnableParallel\n",
    "\n",
    "def format_docs(docs):\n",
    "    return \"\\n\\n\".join(doc.page_content for doc in docs)\n",
    "\n",
    "rag_chain_from_docs = (\n",
    "        RunnablePassthrough.assign(context=(lambda x: format_docs(x[\"context\"])))\n",
    "        | ChatPromptTemplate.from_template(rag_prompt)\n",
    "        | azure_model\n",
    "        | StrOutputParser()\n",
    ")\n",
    "\n",
    "rag_chain_with_source = RunnableParallel(\n",
    "    {\n",
    "        \"context\": bge_vector_store.get_retriever(), \n",
    "        \"question\": RunnablePassthrough()\n",
    "    }\n",
    ").assign(answer=rag_chain_from_docs)"
   ]
  },
  {
   "cell_type": "code",
   "execution_count": 34,
   "id": "f8b1225784152974",
   "metadata": {
    "collapsed": false
   },
   "outputs": [
    {
     "data": {
      "text/plain": [
       "{'context': [Document(page_content='However, the report does concede that “ there does seem to be a sounder logic of fewer high-intensity gas users connecting to a smaller network ”. These users include gas peaker plants, heavy industry requiring high-temperature heat, aviation and long-distance haulage.\\n\\nThe study does not point out that when hydrogen is combusted, it reacts with nitrogen in the air to produces nitrogen oxides that are greenhouse gases.\\n\\n* LETI is a UK-based voluntary network consisting of more than 1,000 developers, engineers, housing associations, architects, planners, academics, sustainability professionals, contractors and facilities managers.\\n\\nRecharge is part of DN Media Group. To read more about DN Media Group, click here\\n\\nRecharge is part of DN Media Group AS. From November 1st DN Media Group is responsible for controlling your data on Recharge.', metadata={'author': '', 'date': '2021-02-10', 'domain': 'rechargenews', 'title': 'Why using clean hydrogen for heating will be too difficult, expensive and inefficient: report', 'url': 'https://www.rechargenews.com/news/2-1-960777'}),\n",
       "  Document(page_content=\"ONGC has said it has cut the carbon emissions intensity of its operations by more than 12% since 2016.\\n\\nIndia’ s public-sector enterprises are under pressure from the government to scale down emissions and reduce their carbon footprints in line with global practices.\\n\\nThe government earlier unveiled a proposal that could compel oil refineries and fertiliser plants to use green hydrogen.\\n\\nWhile ONGC has been predominantly focusing on its oil and gas operations, it has registered 15 clean development mechanism ( CDM) projects with the United Nations Framework Convention on Climate Change under the Kyoto Protocol as a part of its sustainability drive.\\n\\nONGC’ s CDM portfolio is said to include several solar-power projects, along with plans for wind power and CCUS projects.\\n\\n( This article appeared originally in Recharge's sister oil and gas publication Upstream).\\n\\nRecharge is part of DN Media Group. To read more about DN Media Group, click here\", metadata={'author': '', 'date': '2023-08-31', 'domain': 'rechargenews', 'title': 'Indian oil giant has $ 24bn investment plan to meet net-zero emissions target', 'url': 'https://www.rechargenews.com/energy-transition/indian-oil-giant-has-24bn-investment-plan-to-meet-net-zero-emissions-target/2-1-1509591'}),\n",
       "  Document(page_content='Gas companies argue that blending would allow a fast ramp-up of clean hydrogen projects as networks would be guaranteed off-takers, and that it would also help reduce carbon emissions in the short term — ahead of 100% hydrogen use in grids, even though the volume of clean H2 required to do that would be almost impossible to obtain.\\n\\nCritics believe blending to be little more than greenwashing by gas distributors and producers as part of a bid to extend the use of fossil fuels and allow an ultimately unsustainable business model — in climate terms — to continue in the short to medium term.\\n\\nRecharge is part of DN Media Group. To read more about DN Media Group, click here\\n\\nRecharge is part of DN Media Group AS. From November 1st DN Media Group is responsible for controlling your data on Recharge.\\n\\nWe use your data to ensure you have a secure and enjoyable user experience when visiting our site. You can read more about how we handle your information in our privacy policy.', metadata={'author': '', 'date': '2022-05-05', 'domain': 'rechargenews', 'title': \"Hydrogen blending in gas grid would lead to 'limited CO2 benefits and a large increase in energy costs ': Irena\", 'url': 'https://www.rechargenews.com/news/2-1-1213821'}),\n",
       "  Document(page_content='“ Perhaps most importantly, hydrogen’ s higher flame temperature means a 50-50 blend with natural gas would drive 35% higher NOx emissions relative to burning 100% natural gas, ” the report explains. “ Compliance with existing or future regulations may require that project owners install larger or more efficient NOx control ( selective catalytic reduction) systems or reduce assets’ flame temperature ( which also reduces their power output and, in turn, their heat efficiency and competitiveness). While turbine manufacturers are exploring new technologies to limit NOx emissions from burning hydrogen, they have yet to find viable solutions. ”\\n\\nThe third reason is that hydrogen-fired gas turbines are not yet commercially available, and that existing turbines can only work with H2 blends of up to 30%.', metadata={'author': '', 'date': '2022-03-30', 'domain': 'rechargenews', 'title': 'Hydrogen blending will raise consumer costs and risk public health while barely reducing emissions: US think-tank', 'url': 'https://www.rechargenews.com/news/2-1-1193416'})],\n",
       " 'question': 'Is the company aiming to reduce gas flaring?',\n",
       " 'answer': 'The context does not mention anything about the company aiming to reduce gas flaring.'}"
      ]
     },
     "execution_count": 34,
     "metadata": {},
     "output_type": "execute_result"
    }
   ],
   "source": [
    "rag_chain_with_source.invoke(\"Is the company aiming to reduce gas flaring?\")"
   ]
  },
  {
   "cell_type": "markdown",
   "id": "9a0c9f4f51cdcb2f",
   "metadata": {},
   "source": [
    "# Evaluation"
   ]
  },
  {
   "cell_type": "code",
   "execution_count": 35,
   "id": "32bc9616ebdc0e26",
   "metadata": {},
   "outputs": [
    {
     "data": {
      "text/html": [
       "<div>\n",
       "<style scoped>\n",
       "    .dataframe tbody tr th:only-of-type {\n",
       "        vertical-align: middle;\n",
       "    }\n",
       "\n",
       "    .dataframe tbody tr th {\n",
       "        vertical-align: top;\n",
       "    }\n",
       "\n",
       "    .dataframe thead th {\n",
       "        text-align: right;\n",
       "    }\n",
       "</style>\n",
       "<table border=\"1\" class=\"dataframe\">\n",
       "  <thead>\n",
       "    <tr style=\"text-align: right;\">\n",
       "      <th></th>\n",
       "      <th>example_id</th>\n",
       "      <th>question_id</th>\n",
       "      <th>question</th>\n",
       "      <th>relevant_chunk</th>\n",
       "      <th>article_url</th>\n",
       "    </tr>\n",
       "  </thead>\n",
       "  <tbody>\n",
       "    <tr>\n",
       "      <th>0</th>\n",
       "      <td>1</td>\n",
       "      <td>1</td>\n",
       "      <td>What is the innovation behind Leclanché's new ...</td>\n",
       "      <td>Leclanché said it has developed an environment...</td>\n",
       "      <td>https://www.sgvoice.net/strategy/technology/23...</td>\n",
       "    </tr>\n",
       "    <tr>\n",
       "      <th>1</th>\n",
       "      <td>2</td>\n",
       "      <td>2</td>\n",
       "      <td>What is the EU’s Green Deal Industrial Plan?</td>\n",
       "      <td>The Green Deal Industrial Plan is a bid by the...</td>\n",
       "      <td>https://www.sgvoice.net/policy/25396/eu-seeks-...</td>\n",
       "    </tr>\n",
       "    <tr>\n",
       "      <th>2</th>\n",
       "      <td>3</td>\n",
       "      <td>2</td>\n",
       "      <td>What is the EU’s Green Deal Industrial Plan?</td>\n",
       "      <td>The European counterpart to the US Inflation R...</td>\n",
       "      <td>https://www.pv-magazine.com/2023/02/02/europea...</td>\n",
       "    </tr>\n",
       "    <tr>\n",
       "      <th>3</th>\n",
       "      <td>4</td>\n",
       "      <td>3</td>\n",
       "      <td>What are the four focus areas of the EU's Gree...</td>\n",
       "      <td>The new plan is fundamentally focused on four ...</td>\n",
       "      <td>https://www.sgvoice.net/policy/25396/eu-seeks-...</td>\n",
       "    </tr>\n",
       "    <tr>\n",
       "      <th>4</th>\n",
       "      <td>5</td>\n",
       "      <td>4</td>\n",
       "      <td>When did the cooperation between GM and Honda ...</td>\n",
       "      <td>What caught our eye was a new hookup between G...</td>\n",
       "      <td>https://cleantechnica.com/2023/05/08/general-m...</td>\n",
       "    </tr>\n",
       "  </tbody>\n",
       "</table>\n",
       "</div>"
      ],
      "text/plain": [
       "   example_id  question_id                                           question  \\\n",
       "0           1            1  What is the innovation behind Leclanché's new ...   \n",
       "1           2            2       What is the EU’s Green Deal Industrial Plan?   \n",
       "2           3            2       What is the EU’s Green Deal Industrial Plan?   \n",
       "3           4            3  What are the four focus areas of the EU's Gree...   \n",
       "4           5            4  When did the cooperation between GM and Honda ...   \n",
       "\n",
       "                                      relevant_chunk  \\\n",
       "0  Leclanché said it has developed an environment...   \n",
       "1  The Green Deal Industrial Plan is a bid by the...   \n",
       "2  The European counterpart to the US Inflation R...   \n",
       "3  The new plan is fundamentally focused on four ...   \n",
       "4  What caught our eye was a new hookup between G...   \n",
       "\n",
       "                                         article_url  \n",
       "0  https://www.sgvoice.net/strategy/technology/23...  \n",
       "1  https://www.sgvoice.net/policy/25396/eu-seeks-...  \n",
       "2  https://www.pv-magazine.com/2023/02/02/europea...  \n",
       "3  https://www.sgvoice.net/policy/25396/eu-seeks-...  \n",
       "4  https://cleantechnica.com/2023/05/08/general-m...  "
      ]
     },
     "execution_count": 35,
     "metadata": {},
     "output_type": "execute_result"
    }
   ],
   "source": [
    "df_eval = pd.read_csv('data/Cleantech Media Dataset/cleantech_rag_evaluation_data_2024-02-23.csv')\n",
    "df_eval.head()"
   ]
  },
  {
   "cell_type": "code",
   "execution_count": 36,
   "id": "625dbea4df40e3e9",
   "metadata": {
    "collapsed": false
   },
   "outputs": [
    {
     "name": "stdout",
     "output_type": "stream",
     "text": [
      "accuracy: {'reasoning': \"The submission is helpful and correct in stating that the article does not mention Leclanché's new method to produce lithium-ion batteries. However, it lacks depth in providing additional information or insights. \\n\\nRating: [[7]]\", 'score': 7}\n",
      "\n",
      "accuracy: {'reasoning': 'The assistant\\'s response is helpful and relevant to the question. It accurately describes the EU\\'s Green Deal Industrial Plan, including its objectives, financing, and focus on four pillars. The response also mentions the plan\\'s aim to create a regulatory framework to speed up the deployment of clean energy solutions, ensure Europe remains competitive, and measures to facilitate \"open and fair trade\" in the clean tech space. Overall, the response demonstrates a good depth of thought and provides a comprehensive overview of the plan. \\n\\nRating: [[9]]', 'score': 9}\n",
      "\n",
      "accuracy: {'reasoning': \"The assistant provides a clear and concise answer to the user's question and covers the main aspects of the EU's Green Deal Industrial Plan, including its objectives, focus areas, and financing. It also mentions how the plan complements an earlier EU initiative. The response is relevant and correct, and it demonstrates a good level of depth by including additional details. Rating: [[9]]\", 'score': 9}\n",
      "\n",
      "accuracy: {'reasoning': \"The response is helpful, relevant, correct, and factual. It provides a clear and concise answer to the user's question, demonstrating depth of thought. \\n\\nRating: [[9]]\", 'score': 9}\n",
      "\n",
      "accuracy: {'reasoning': \"The response is helpful, relevant, correct, and factual. It provides a direct and accurate answer to the user's question about the start of the cooperation between GM and Honda on fuel cell vehicles. Therefore, I rate it as follows:\\n\\nRating: [[10]]\", 'score': 10}\n",
      "\n",
      "accuracy: {'reasoning': \"Explanation: The AI assistant provided a clear and concise answer to the user's question, stating that there is no information related to Colgate-Palmolive entering into PPA agreements with solar developers in the given context. The response is relevant to the question, correct, and factual. However, the depth of the response is limited. \\n\\nRating: [[8]]\", 'score': 8}\n",
      "\n",
      "accuracy: {'reasoning': \"The AI assistant provides a concise and accurate response to the user's question, covering the current status of ZeroAvia's hydrogen fuel cell electric aircraft, including its permission to fly from the UK Civil Aviation Authority, plans for green hydrogen hubs, and partnerships with Shell and Octopus Hydrogen. The response also highlights ZeroAvia's initial goal of a 600kW, 19-seat maximum in 2024, with an eye on the 40-80 seat market by 2026. The answer is helpful, relevant, correct, and demonstrates a good depth of thought. \\n\\nRating: [[9]]\", 'score': 9}\n",
      "\n",
      "accuracy: {'reasoning': 'The response is helpful, relevant, correct, and provides a concise definition of the \"Danger Season\" in the Northern Hemisphere, particularly in the western United States. The answer also mentions the connection of the \"Danger Season\" to wildfires, heat waves, and hurricanes, which are all amplified by climate change. The response demonstrates a good level of depth and understanding of the topic. \\n\\nRating: [[9]]', 'score': 9}\n",
      "\n",
      "accuracy: {'reasoning': \"The response is helpful, relevant, correct, and factual. The answer provides a direct and accurate response to the user's question, referencing the specific officials mentioned in the text. Therefore, I rate it as follows:\\n\\nRating: [[9]]\", 'score': 9}\n",
      "\n",
      "accuracy: {'reasoning': \"The response is helpful and relevant to the user's question. The answer provides information about the possibility of hanging solar panels on garden fences using a plug & play solar panel system. The response also correctly highlights the need to ensure that the fence can withstand the wind load of the panels and to consider other factors such as fence height, footing depth, and post strength. The depth of the answer could be improved by providing more information on the topic. \\n\\nRating: [[8]]\", 'score': 8}\n",
      "\n",
      "accuracy: {'reasoning': \"The response is helpful, relevant, and correct. It provides a clear and concise answer to the user's question, and it accurately identifies the developers of the quality control systems for ocean temperature in-situ profiles. However, it lacks depth and additional context. \\n\\nRating: [[8]]\", 'score': 8}\n",
      "\n",
      "accuracy: {'reasoning': 'The assistant provides a clear and accurate explanation of why milder winters can be detrimental for grapes and apples, citing the weakening of their cold hardiness and the increased risk of frost damage due to early budbreak. The assistant also mentions how grapes and apples have adapted to consistent climate patterns and fine-tuned their winter responses, which can be disrupted by erratic and mild winters. The response is helpful and relevant to the question. However, it does not demonstrate significant depth of thought. \\n\\nRating: [[8]]', 'score': 8}\n",
      "\n",
      "accuracy: {'reasoning': 'The response is helpful and relevant, referring to the recycling steps for solar panels and citing a source to support the information. The response is also correct and accurate. However, the depth of thought is limited. \\n\\nRating: [[8]]', 'score': 8}\n",
      "\n",
      "accuracy: {'reasoning': \"The assistant's answer provides some relevant information about the consequences of melting ice, but it does not directly answer the question of why melting ice contributes to global warming. The answer also lacks depth and does not provide any scientific explanation. \\n\\nRating: [[4]]\", 'score': 4}\n",
      "\n",
      "accuracy: {'reasoning': \"The response is helpful, relevant, and correct as it correctly states that there is no information in the given context regarding the Swedish government's plan to ban new petrol and diesel cars. However, it lacks depth as it only provides a straightforward answer without any additional insights or explanations. \\n\\nRating: [[7]]\", 'score': 7}\n",
      "\n",
      "accuracy: {'reasoning': 'Explanation: \\n\\nThe AI assistant response is relevant to the question, as it addresses the fact that the context does not provide information about where the turbines used in Icelandic geothermal power plants come from. The response is correct and factual, as there is no mention of the origin of the turbines in the provided context. However, the response does not demonstrate depth of thought or provide any additional information or insights. \\n\\nRating: [[7]]', 'score': 7}\n",
      "\n",
      "accuracy: {'reasoning': \"Explanation: \\nThe AI assistant provided a direct and accurate response to the user's question, stating that there is no information about Leapfrog Energy in the given article, and instead, the article focuses on Lunar Energy. \\nRating: [[9]]\", 'score': 9}\n",
      "\n",
      "accuracy: {'reasoning': \"The AI assistant's response is helpful, relevant, correct, and demonstrates a good depth of thought. It provides a clear and concise explanation of what agrivoltaics is, including its definition, purpose, benefits, and relation to regenerative agriculture. The response also includes additional information about how agrivoltaics works, such as how it creates more sunlight and how it establishes a symbiotic relationship between solar panels and agricultural activity. Overall, the response is well-written and informative.\\n\\nRating: [[9]]\", 'score': 9}\n",
      "\n",
      "accuracy: {'reasoning': 'The response is very helpful, relevant, correct, and insightful. It defines agrivoltaics as a practice that combines solar electricity generation with agricultural production in the same location. It explains how the approach works and its benefits towards achieving sustainable energy and food goals. It also touches on some of the experiments and developments in the agrivoltaics field. Overall, the response demonstrates depth of thought and provides valuable information to the user.\\n\\nRating: [[9]]', 'score': 9}\n",
      "\n",
      "accuracy: {'reasoning': 'The response is helpful, relevant, correct, and provides some depth of thought. It accurately explains why cannabis cultivation is moving indoors, including the benefits and drawbacks of indoor cultivation, and touches on the potential future of the industry. The response also adds some insight into the incentives for commercial cannabis companies to produce premium products only cultivable in a climate-controlled environment. Overall, the response is well-rounded and informative.\\n\\nRating: [[9]]', 'score': 9}\n",
      "\n",
      "accuracy: {'reasoning': 'The response is helpful and relevant as it directly addresses the question and provides a specific obstacle for cannabis producers in using solar energy. The information is also factually accurate and supported by the article. However, the response lacks depth and could benefit from further elaboration on why financing is harder to attain for solar energy in the cannabis industry. Overall, I would rate the response as: \"Rating: [[7]]\".', 'score': 7}\n",
      "\n",
      "accuracy: {'reasoning': 'The response is helpful in providing information about the top 3 states in the US in terms of total small-scale solar photovoltaic capacity as of December 2020. However, it fails to answer the actual question about the top 3 states in the US in terms of total solar power generating capacity in 2021. The response is relevant to the topic and factually correct, but lacks depth in addressing the specific question asked. \\n\\nRating: [[4]]', 'score': 4}\n",
      "\n",
      "accuracy: {'reasoning': \"The response is helpful, relevant, and correct. It directly answers the user's question and cites the source of the information. There is no need for further depth of thought on this particular question. \\n\\nRating: [[10]]\", 'score': 10}\n",
      "\n"
     ]
    }
   ],
   "source": [
    "from src.generation import get_llm_model, LLMModel\n",
    "from langchain.evaluation import load_evaluator, EvaluatorType\n",
    "\n",
    "EVAL_TYPES = {\n",
    "    \"accuracy\": True\n",
    "}\n",
    "\n",
    "evaluator = load_evaluator(EvaluatorType.LABELED_SCORE_STRING, llm=get_llm_model(LLMModel.GPT_3_AZURE))\n",
    "\n",
    "for _, item in df_eval.iterrows():\n",
    "    question, relevant_chunk = item['question'], item['relevant_chunk']\n",
    "    \n",
    "    chain_result = rag_chain_with_source.invoke(question)\n",
    "    answer, context = chain_result['answer'], chain_result['context']\n",
    "    \n",
    "    for key, _ in EVAL_TYPES.items():        \n",
    "        score = evaluator.evaluate_strings(prediction=answer, reference=context, input=question)\n",
    "        print(f\"{key}: {score}\")\n",
    "        print()"
   ]
  },
  {
   "cell_type": "markdown",
   "id": "dbb98ddc172dd8bb",
   "metadata": {
    "collapsed": false
   },
   "source": [
    "Further try evaluating the model with Phoenix's evaluation tools. Read more: https://docs.arize.com/phoenix/evaluation/running-pre-tested-evals/retrieval-rag-relevance"
   ]
  }
 ],
 "metadata": {
  "kernelspec": {
   "display_name": "Python 3",
   "language": "python",
   "name": "python3"
  },
  "language_info": {
   "codemirror_mode": {
    "name": "ipython",
    "version": 3
   },
   "file_extension": ".py",
   "mimetype": "text/x-python",
   "name": "python",
   "nbconvert_exporter": "python",
   "pygments_lexer": "ipython3",
   "version": "3.10.10"
  }
 },
 "nbformat": 4,
 "nbformat_minor": 5
}
