{
 "cells": [
  {
   "cell_type": "markdown",
   "id": "629c7169756adcbe",
   "metadata": {
    "collapsed": false
   },
   "source": [
    "# Setup"
   ]
  },
  {
   "cell_type": "code",
   "execution_count": 1,
   "id": "188c966d5cd28de1",
   "metadata": {},
   "outputs": [
    {
     "data": {
      "text/plain": [
       "True"
      ]
     },
     "execution_count": 1,
     "metadata": {},
     "output_type": "execute_result"
    }
   ],
   "source": [
    "import os\n",
    "\n",
    "import pandas as pd\n",
    "from dotenv import load_dotenv\n",
    "from tqdm import tqdm\n",
    "\n",
    "load_dotenv()"
   ]
  },
  {
   "cell_type": "markdown",
   "id": "47adf37081d73c21",
   "metadata": {
    "collapsed": false
   },
   "source": [
    "## Observability & Monitoring\n",
    "\n",
    "Phoenix is an open-source observability library designed for experimentation, evaluation, and troubleshooting. It allows AI Engineers and Data Scientists to quickly visualize their data, evaluate performance, track down issues, and export data to improve.\n",
    " "
   ]
  },
  {
   "cell_type": "code",
   "execution_count": 2,
   "id": "7d0092013e36ca8c",
   "metadata": {
    "collapsed": false
   },
   "outputs": [
    {
     "name": "stderr",
     "output_type": "stream",
     "text": [
      "/Users/nils/Documents/Classes/npr/npr-rag/.venv/lib/python3.12/site-packages/tqdm/auto.py:21: TqdmWarning: IProgress not found. Please update jupyter and ipywidgets. See https://ipywidgets.readthedocs.io/en/stable/user_install.html\n",
      "  from .autonotebook import tqdm as notebook_tqdm\n"
     ]
    },
    {
     "name": "stdout",
     "output_type": "stream",
     "text": [
      "No active session to close\n",
      "🌍 To view the Phoenix app in your browser, visit http://localhost:6006/\n",
      "📺 To view the Phoenix app in a notebook, run `px.active_session().view()`\n",
      "📖 For more information on how to use Phoenix, check out https://docs.arize.com/phoenix\n"
     ]
    }
   ],
   "source": [
    "from phoenix.trace.langchain import LangChainInstrumentor\n",
    "import phoenix as px\n",
    "\n",
    "px.close_app()\n",
    "session = px.launch_app()\n",
    "\n",
    "LangChainInstrumentor().instrument()"
   ]
  },
  {
   "cell_type": "code",
   "execution_count": 3,
   "id": "abd676a30f7effbe",
   "metadata": {
    "collapsed": false
   },
   "outputs": [
    {
     "name": "stdout",
     "output_type": "stream",
     "text": [
      "📺 Opening a view to the Phoenix app. The app is running at http://localhost:6006/\n"
     ]
    },
    {
     "data": {
      "text/html": [
       "\n",
       "        <iframe\n",
       "            width=\"100%\"\n",
       "            height=\"1000\"\n",
       "            src=\"http://localhost:6006/\"\n",
       "            frameborder=\"0\"\n",
       "            allowfullscreen\n",
       "            \n",
       "        ></iframe>\n",
       "        "
      ],
      "text/plain": [
       "<IPython.lib.display.IFrame at 0x17db62c30>"
      ]
     },
     "execution_count": 3,
     "metadata": {},
     "output_type": "execute_result"
    }
   ],
   "source": [
    "session.view()"
   ]
  },
  {
   "cell_type": "markdown",
   "id": "4f9f2033ded77748",
   "metadata": {
    "collapsed": false
   },
   "source": [
    "# Data Loading"
   ]
  },
  {
   "cell_type": "code",
   "execution_count": 4,
   "id": "a41645ff9ed1f954",
   "metadata": {
    "collapsed": false
   },
   "outputs": [
    {
     "data": {
      "text/html": [
       "<div>\n",
       "<style scoped>\n",
       "    .dataframe tbody tr th:only-of-type {\n",
       "        vertical-align: middle;\n",
       "    }\n",
       "\n",
       "    .dataframe tbody tr th {\n",
       "        vertical-align: top;\n",
       "    }\n",
       "\n",
       "    .dataframe thead th {\n",
       "        text-align: right;\n",
       "    }\n",
       "</style>\n",
       "<table border=\"1\" class=\"dataframe\">\n",
       "  <thead>\n",
       "    <tr style=\"text-align: right;\">\n",
       "      <th></th>\n",
       "      <th>Unnamed: 0</th>\n",
       "      <th>title</th>\n",
       "      <th>date</th>\n",
       "      <th>author</th>\n",
       "      <th>content</th>\n",
       "      <th>domain</th>\n",
       "      <th>url</th>\n",
       "    </tr>\n",
       "  </thead>\n",
       "  <tbody>\n",
       "    <tr>\n",
       "      <th>0</th>\n",
       "      <td>77927</td>\n",
       "      <td>'Next level ': Iberdrola plans $ 2.6bn gigawat...</td>\n",
       "      <td>2021-12-02</td>\n",
       "      <td>NaN</td>\n",
       "      <td>['Plans for a gigawatt-scale electrolyser to f...</td>\n",
       "      <td>rechargenews</td>\n",
       "      <td>https://www.rechargenews.com/news/2-1-1111100</td>\n",
       "    </tr>\n",
       "    <tr>\n",
       "      <th>1</th>\n",
       "      <td>81316</td>\n",
       "      <td>Appalachian Power Issues RFP for 1,100 MW of R...</td>\n",
       "      <td>2022-01-19</td>\n",
       "      <td>NaN</td>\n",
       "      <td>['Appalachian Power has issued a new request f...</td>\n",
       "      <td>solarindustrymag</td>\n",
       "      <td>https://solarindustrymag.com/appalachian-power...</td>\n",
       "    </tr>\n",
       "    <tr>\n",
       "      <th>2</th>\n",
       "      <td>1323</td>\n",
       "      <td>Orsted's Green Plans Lag Its Peers</td>\n",
       "      <td>2021-06-04</td>\n",
       "      <td>NaN</td>\n",
       "      <td>[\"Danish utility Orsted intends to spend over ...</td>\n",
       "      <td>energyintel</td>\n",
       "      <td>https://www.energyintel.com/0000017b-a7dd-de4c...</td>\n",
       "    </tr>\n",
       "    <tr>\n",
       "      <th>3</th>\n",
       "      <td>78039</td>\n",
       "      <td>Offshore wind ' a massive untapped potential '...</td>\n",
       "      <td>2022-08-29</td>\n",
       "      <td>NaN</td>\n",
       "      <td>['Offshore wind power is rapidly emerging as a...</td>\n",
       "      <td>rechargenews</td>\n",
       "      <td>https://www.rechargenews.com/news/2-1-1286193</td>\n",
       "    </tr>\n",
       "    <tr>\n",
       "      <th>4</th>\n",
       "      <td>16584</td>\n",
       "      <td>Germany Threatens To Derail EU Green Deal Over...</td>\n",
       "      <td>2023-03-03</td>\n",
       "      <td>NaN</td>\n",
       "      <td>['The “ Climate Chancellor ” needs to draw a l...</td>\n",
       "      <td>cleantechnica</td>\n",
       "      <td>https://cleantechnica.com/2023/03/03/germany-t...</td>\n",
       "    </tr>\n",
       "    <tr>\n",
       "      <th>...</th>\n",
       "      <td>...</td>\n",
       "      <td>...</td>\n",
       "      <td>...</td>\n",
       "      <td>...</td>\n",
       "      <td>...</td>\n",
       "      <td>...</td>\n",
       "      <td>...</td>\n",
       "    </tr>\n",
       "    <tr>\n",
       "      <th>97</th>\n",
       "      <td>80490</td>\n",
       "      <td>How the Inflation Reduction Act will help more...</td>\n",
       "      <td>2022-12-21</td>\n",
       "      <td>NaN</td>\n",
       "      <td>['The Inflation Reduction Act ( IRA) signed in...</td>\n",
       "      <td>solarpowerworldonline</td>\n",
       "      <td>https://www.solarpowerworldonline.com/2022/12/...</td>\n",
       "    </tr>\n",
       "    <tr>\n",
       "      <th>98</th>\n",
       "      <td>37851</td>\n",
       "      <td>Valmet Launches a Zero Effluent System for Enz...</td>\n",
       "      <td>2023-02-27</td>\n",
       "      <td>NaN</td>\n",
       "      <td>[\"By clicking `` Allow All '' you agree to the...</td>\n",
       "      <td>azocleantech</td>\n",
       "      <td>https://www.azocleantech.com/news.aspx?newsID=...</td>\n",
       "    </tr>\n",
       "    <tr>\n",
       "      <th>99</th>\n",
       "      <td>6752</td>\n",
       "      <td>Scottish Government mulls upping offshore wind...</td>\n",
       "      <td>2023-01-11</td>\n",
       "      <td>NaN</td>\n",
       "      <td>['Scottish ministers are considering whether t...</td>\n",
       "      <td>energyvoice</td>\n",
       "      <td>https://www.energyvoice.com/renewables-energy-...</td>\n",
       "    </tr>\n",
       "    <tr>\n",
       "      <th>100</th>\n",
       "      <td>78408</td>\n",
       "      <td>Strasbourg wants to have its say on geothermal...</td>\n",
       "      <td>2021-11-22</td>\n",
       "      <td>NaN</td>\n",
       "      <td>['Committee investigating earthquakes connecte...</td>\n",
       "      <td>thinkgeoenergy</td>\n",
       "      <td>https://www.thinkgeoenergy.com/strasbourg-want...</td>\n",
       "    </tr>\n",
       "    <tr>\n",
       "      <th>101</th>\n",
       "      <td>81691</td>\n",
       "      <td>Second Westbridge Alberta Project Wins Approval</td>\n",
       "      <td>2023-06-07</td>\n",
       "      <td>NaN</td>\n",
       "      <td>['The Alberta Utilities Commission ( AUC) rece...</td>\n",
       "      <td>solarindustrymag</td>\n",
       "      <td>https://solarindustrymag.com/second-westbridge...</td>\n",
       "    </tr>\n",
       "  </tbody>\n",
       "</table>\n",
       "<p>102 rows × 7 columns</p>\n",
       "</div>"
      ],
      "text/plain": [
       "     Unnamed: 0                                              title  \\\n",
       "0         77927  'Next level ': Iberdrola plans $ 2.6bn gigawat...   \n",
       "1         81316  Appalachian Power Issues RFP for 1,100 MW of R...   \n",
       "2          1323                 Orsted's Green Plans Lag Its Peers   \n",
       "3         78039  Offshore wind ' a massive untapped potential '...   \n",
       "4         16584  Germany Threatens To Derail EU Green Deal Over...   \n",
       "..          ...                                                ...   \n",
       "97        80490  How the Inflation Reduction Act will help more...   \n",
       "98        37851  Valmet Launches a Zero Effluent System for Enz...   \n",
       "99         6752  Scottish Government mulls upping offshore wind...   \n",
       "100       78408  Strasbourg wants to have its say on geothermal...   \n",
       "101       81691    Second Westbridge Alberta Project Wins Approval   \n",
       "\n",
       "           date  author                                            content  \\\n",
       "0    2021-12-02     NaN  ['Plans for a gigawatt-scale electrolyser to f...   \n",
       "1    2022-01-19     NaN  ['Appalachian Power has issued a new request f...   \n",
       "2    2021-06-04     NaN  [\"Danish utility Orsted intends to spend over ...   \n",
       "3    2022-08-29     NaN  ['Offshore wind power is rapidly emerging as a...   \n",
       "4    2023-03-03     NaN  ['The “ Climate Chancellor ” needs to draw a l...   \n",
       "..          ...     ...                                                ...   \n",
       "97   2022-12-21     NaN  ['The Inflation Reduction Act ( IRA) signed in...   \n",
       "98   2023-02-27     NaN  [\"By clicking `` Allow All '' you agree to the...   \n",
       "99   2023-01-11     NaN  ['Scottish ministers are considering whether t...   \n",
       "100  2021-11-22     NaN  ['Committee investigating earthquakes connecte...   \n",
       "101  2023-06-07     NaN  ['The Alberta Utilities Commission ( AUC) rece...   \n",
       "\n",
       "                    domain                                                url  \n",
       "0             rechargenews      https://www.rechargenews.com/news/2-1-1111100  \n",
       "1         solarindustrymag  https://solarindustrymag.com/appalachian-power...  \n",
       "2              energyintel  https://www.energyintel.com/0000017b-a7dd-de4c...  \n",
       "3             rechargenews      https://www.rechargenews.com/news/2-1-1286193  \n",
       "4            cleantechnica  https://cleantechnica.com/2023/03/03/germany-t...  \n",
       "..                     ...                                                ...  \n",
       "97   solarpowerworldonline  https://www.solarpowerworldonline.com/2022/12/...  \n",
       "98            azocleantech  https://www.azocleantech.com/news.aspx?newsID=...  \n",
       "99             energyvoice  https://www.energyvoice.com/renewables-energy-...  \n",
       "100         thinkgeoenergy  https://www.thinkgeoenergy.com/strasbourg-want...  \n",
       "101       solarindustrymag  https://solarindustrymag.com/second-westbridge...  \n",
       "\n",
       "[102 rows x 7 columns]"
      ]
     },
     "execution_count": 4,
     "metadata": {},
     "output_type": "execute_result"
    }
   ],
   "source": [
    "import pandas as pd\n",
    "        \n",
    "df = pd.read_csv('data/Cleantech Media Dataset/cleantech_media_dataset_v2_2024-02-23_subset.csv')\n",
    "df"
   ]
  },
  {
   "cell_type": "markdown",
   "id": "8e75b6e2aa712181",
   "metadata": {},
   "source": [
    "# Preprocessing & Indexing"
   ]
  },
  {
   "cell_type": "markdown",
   "id": "bb436cf3c7906ac5",
   "metadata": {
    "collapsed": false
   },
   "source": [
    "## Splitting content into paragraphs\n",
    "\n",
    "The content is currently stored as a list of strings. We will convert this into a single string with paragraphs separated by two newlines."
   ]
  },
  {
   "cell_type": "markdown",
   "id": "27844259f6d23087",
   "metadata": {
    "collapsed": false
   },
   "source": [
    "## Cleaning"
   ]
  },
  {
   "cell_type": "code",
   "execution_count": 5,
   "id": "c42723d3f2a3835c",
   "metadata": {
    "collapsed": false
   },
   "outputs": [],
   "source": [
    "from src.preprocessing.preprocessor import Preprocessor\n",
    "\n",
    "preprocessor = Preprocessor(df, explode=False, concatenate_contents=True)\n",
    "df = preprocessor.preprocess()"
   ]
  },
  {
   "cell_type": "code",
   "execution_count": 6,
   "id": "9a6e43078b2837e9",
   "metadata": {
    "collapsed": false
   },
   "outputs": [
    {
     "data": {
      "text/plain": [
       "102"
      ]
     },
     "execution_count": 6,
     "metadata": {},
     "output_type": "execute_result"
    }
   ],
   "source": [
    "len(df)"
   ]
  },
  {
   "cell_type": "code",
   "execution_count": 7,
   "id": "5ef106f1fec67b26",
   "metadata": {
    "collapsed": false
   },
   "outputs": [
    {
     "data": {
      "text/html": [
       "<div>\n",
       "<style scoped>\n",
       "    .dataframe tbody tr th:only-of-type {\n",
       "        vertical-align: middle;\n",
       "    }\n",
       "\n",
       "    .dataframe tbody tr th {\n",
       "        vertical-align: top;\n",
       "    }\n",
       "\n",
       "    .dataframe thead th {\n",
       "        text-align: right;\n",
       "    }\n",
       "</style>\n",
       "<table border=\"1\" class=\"dataframe\">\n",
       "  <thead>\n",
       "    <tr style=\"text-align: right;\">\n",
       "      <th></th>\n",
       "      <th>Unnamed: 0</th>\n",
       "      <th>content</th>\n",
       "      <th>language</th>\n",
       "      <th>title</th>\n",
       "      <th>date</th>\n",
       "      <th>author</th>\n",
       "      <th>domain</th>\n",
       "      <th>url</th>\n",
       "    </tr>\n",
       "  </thead>\n",
       "  <tbody>\n",
       "    <tr>\n",
       "      <th>0</th>\n",
       "      <td>1284</td>\n",
       "      <td>The slow pace of Japanese reactor restarts con...</td>\n",
       "      <td>en</td>\n",
       "      <td>Japan: Slow Restarts Cast Doubt on 2030 Energy...</td>\n",
       "      <td>2021-01-22</td>\n",
       "      <td>NaN</td>\n",
       "      <td>energyintel</td>\n",
       "      <td>https://www.energyintel.com/0000017b-a7dc-de4c...</td>\n",
       "    </tr>\n",
       "    <tr>\n",
       "      <th>1</th>\n",
       "      <td>1323</td>\n",
       "      <td>Danish utility Orsted intends to spend over  5...</td>\n",
       "      <td>en</td>\n",
       "      <td>Orsted's Green Plans Lag Its Peers</td>\n",
       "      <td>2021-06-04</td>\n",
       "      <td>NaN</td>\n",
       "      <td>energyintel</td>\n",
       "      <td>https://www.energyintel.com/0000017b-a7dd-de4c...</td>\n",
       "    </tr>\n",
       "    <tr>\n",
       "      <th>2</th>\n",
       "      <td>6093</td>\n",
       "      <td>A new report has set out the distinct lack of ...</td>\n",
       "      <td>en</td>\n",
       "      <td>Report - Scottish content in wind projects in ...</td>\n",
       "      <td>2021-09-10</td>\n",
       "      <td>NaN</td>\n",
       "      <td>energyvoice</td>\n",
       "      <td>https://www.energyvoice.com/renewables-energy-...</td>\n",
       "    </tr>\n",
       "    <tr>\n",
       "      <th>3</th>\n",
       "      <td>6121</td>\n",
       "      <td>Global energy companies are shifting to ESG in...</td>\n",
       "      <td>en</td>\n",
       "      <td>Taking the temperature: ESG investing in the e...</td>\n",
       "      <td>2021-09-29</td>\n",
       "      <td>NaN</td>\n",
       "      <td>energyvoice</td>\n",
       "      <td>https://www.energyvoice.com/markets/352513/esg...</td>\n",
       "    </tr>\n",
       "    <tr>\n",
       "      <th>4</th>\n",
       "      <td>6272</td>\n",
       "      <td>Oil and gas giant BP  LSE BP has handed out a ...</td>\n",
       "      <td>en</td>\n",
       "      <td>BP hands out southern North Sea CCS contract</td>\n",
       "      <td>2022-01-19</td>\n",
       "      <td>NaN</td>\n",
       "      <td>energyvoice</td>\n",
       "      <td>https://www.energyvoice.com/renewables-energy-...</td>\n",
       "    </tr>\n",
       "  </tbody>\n",
       "</table>\n",
       "</div>"
      ],
      "text/plain": [
       "   Unnamed: 0                                            content language  \\\n",
       "0        1284  The slow pace of Japanese reactor restarts con...       en   \n",
       "1        1323  Danish utility Orsted intends to spend over  5...       en   \n",
       "2        6093  A new report has set out the distinct lack of ...       en   \n",
       "3        6121  Global energy companies are shifting to ESG in...       en   \n",
       "4        6272  Oil and gas giant BP  LSE BP has handed out a ...       en   \n",
       "\n",
       "                                               title        date  author  \\\n",
       "0  Japan: Slow Restarts Cast Doubt on 2030 Energy...  2021-01-22     NaN   \n",
       "1                 Orsted's Green Plans Lag Its Peers  2021-06-04     NaN   \n",
       "2  Report - Scottish content in wind projects in ...  2021-09-10     NaN   \n",
       "3  Taking the temperature: ESG investing in the e...  2021-09-29     NaN   \n",
       "4       BP hands out southern North Sea CCS contract  2022-01-19     NaN   \n",
       "\n",
       "        domain                                                url  \n",
       "0  energyintel  https://www.energyintel.com/0000017b-a7dc-de4c...  \n",
       "1  energyintel  https://www.energyintel.com/0000017b-a7dd-de4c...  \n",
       "2  energyvoice  https://www.energyvoice.com/renewables-energy-...  \n",
       "3  energyvoice  https://www.energyvoice.com/markets/352513/esg...  \n",
       "4  energyvoice  https://www.energyvoice.com/renewables-energy-...  "
      ]
     },
     "execution_count": 7,
     "metadata": {},
     "output_type": "execute_result"
    }
   ],
   "source": [
    "df.head()"
   ]
  },
  {
   "cell_type": "markdown",
   "id": "29f172af1ea76470",
   "metadata": {
    "collapsed": false
   },
   "source": [
    "# Indexing\n",
    "\n",
    "For the indexing we use the VectorStore class which bundles the embeddings and ChromaDB."
   ]
  },
  {
   "cell_type": "code",
   "execution_count": 11,
   "id": "af0a4a16684d3b86",
   "metadata": {
    "collapsed": false
   },
   "outputs": [],
   "source": [
    "from src.vectorstore import VectorStore\n",
    "from langchain_community.embeddings import HuggingFaceBgeEmbeddings\n",
    "\n",
    "bge_embeddings = HuggingFaceBgeEmbeddings(\n",
    "    model_name=\"BAAI/bge-small-en\", \n",
    "    model_kwargs={\"device\": \"cpu\"}, \n",
    "    encode_kwargs={\"normalize_embeddings\": True}\n",
    ")"
   ]
  },
  {
   "cell_type": "code",
   "execution_count": 12,
   "id": "5184c2f957d3c60d",
   "metadata": {
    "collapsed": false
   },
   "outputs": [],
   "source": [
    "from langchain.text_splitter import RecursiveCharacterTextSplitter\n",
    "\n",
    "recursive_text_splitter = RecursiveCharacterTextSplitter(chunk_size=1024, chunk_overlap=32, length_function=len)"
   ]
  },
  {
   "cell_type": "code",
   "execution_count": 17,
   "id": "f066402773ac9d58",
   "metadata": {
    "collapsed": false
   },
   "outputs": [
    {
     "name": "stderr",
     "output_type": "stream",
     "text": [
      "102it [00:00, 8038.54it/s]\n"
     ]
    }
   ],
   "source": [
    "from langchain_core.documents import Document\n",
    "import ast\n",
    "\n",
    "def concat_chunks(chunks):\n",
    "    chunks = ast.literal_eval(chunks)\n",
    "\n",
    "def create_documents(df, splitter):\n",
    "    docs = []\n",
    "    for index, row in tqdm(df.iterrows()):\n",
    "        content = row['content']\n",
    "\n",
    "        row = row.fillna('')\n",
    "\n",
    "        metadata = {\n",
    "            \"url\": row['url'],\n",
    "            \"domain\": row['domain'],\n",
    "            \"title\": row['title'],\n",
    "            \"author\": row['author'],\n",
    "            \"date\": row['date']\n",
    "        }\n",
    "        \n",
    "        docs.append(Document(page_content=content, metadata=metadata))\n",
    "        \n",
    "    return docs\n",
    "\n",
    "documents = create_documents(df, recursive_text_splitter)"
   ]
  },
  {
   "cell_type": "code",
   "execution_count": 18,
   "id": "f738ace88dd27a69",
   "metadata": {
    "collapsed": false
   },
   "outputs": [
    {
     "name": "stdout",
     "output_type": "stream",
     "text": [
      "ChromeDB Host:  100.109.183.32\n",
      "ChromeDB Port:  8192\n"
     ]
    }
   ],
   "source": [
    "print(\"ChromeDB Host: \", os.getenv('CHROMADB_HOST'))\n",
    "print(\"ChromeDB Port: \", os.getenv('CHROMADB_PORT'))\n",
    "\n",
    "bge_vector_store = VectorStore(embedding_function=bge_embeddings,\n",
    "                               collection=\"cleantech-subset-analysis-nils\")"
   ]
  },
  {
   "cell_type": "markdown",
   "id": "3f20213c70591f14",
   "metadata": {
    "collapsed": false
   },
   "source": [
    "In the next step we will add the documents to the vector store. This will take a while depending on the number of documents."
   ]
  },
  {
   "cell_type": "code",
   "execution_count": 19,
   "id": "8f2508efb696f864",
   "metadata": {
    "collapsed": false
   },
   "outputs": [
    {
     "name": "stderr",
     "output_type": "stream",
     "text": [
      "100%|██████████| 1/1 [00:18<00:00, 18.65s/it]\n"
     ]
    }
   ],
   "source": [
    "#%%script false --no-raise-error\n",
    "\n",
    "bge_vector_store.add_documents(documents, verbose=True, batch_size=128)"
   ]
  },
  {
   "cell_type": "markdown",
   "id": "b2177cd39686a8db",
   "metadata": {
    "collapsed": false
   },
   "source": [
    "After adding the documents to the vector store we can now perform similarity searches."
   ]
  },
  {
   "cell_type": "code",
   "execution_count": 20,
   "id": "91a13de926826f7f",
   "metadata": {
    "collapsed": false
   },
   "outputs": [
    {
     "data": {
      "text/plain": [
       "[(Document(page_content='LNG  Mexico  Natural Gas Prices  NGI All News Access  NGI The Weekly Gas Market Report Mexico Pacific Ltd LLC  MPL continues to advance its liquefied natural gas  LNG export project for the Pacific coast of the country This week the company signed a collaboration agreement with ConocoPhillips LNG Licensing LLC and Bechtel Together the companies plan to work with construction firm Techint SA de CV to pursue  innovative lower carbon LNG design solutions  for potential future phases of the project The collaboration plans to further reduce baseline emissions by exploring  energy transition and greenhouse gas emission reduction  technologies developed by ConocoPhillips LNG and designed by Bechtel This would include  carbonadvantaged gas feedstock  and  developing a commercial strategy for supplying carbon neutral LNG in the future  said ConocoPhillips Tom Mathiasmeier president of Global Gas Power and LNG  Get in the know Access to pipelines processing plants and LNG facilities is imperative to success in the Mexico natural gas market Buy NGI s 2022 Mexico map today  With natural gas prices soaring in Asia interest on the part of buyers in MPL s Puerto Libertad project has picked up considerably The LNG project would source gas piped from the Permian Basin to ship LNG from Mexico to Asian countries bypassing the Panama Canal MPL CEO Doug Shanda told NGI s Mexico GPI that  more than  22 million metric tonsyear  mmty of binding offtake capacity is under negotiation for the project Of that 14 mmty is potentially contracted through signed memorandums of understanding Shanda said MPL is aiming to close binding offtake agreements for the first two trains by year s end A final investment decision  FID is expected in early 2022  Our project will already achieve lower greenhouse gas  GHG  emissions than other projects through design and shorter shipping distance to Asia and our recently announced low carbon initiative for our future phases furthers our value proposition  Shanda said The project is progressing toward FID  with great momentum  The customer interest  oversubscribes the first phase of our project and positions us to quickly pivot to focus on FID for Trains 3 and beyond  A combined capacity of 94 mmty could come online in 2025 A third train would bring capacity to 141 mmty Longerterm MPL is eyeing six trains for a combined 282 mmty  The MPL LNG Project will be a great example of how we along with our customers and technology providers can continue to supply LNG to offset traditional high emission fuels such as coal and others while developing and applying real innovations to meet the environmental goals of the industry  said Bechtel Energy President Paul Marsden MPL is not the only company exploring low carbon options for LNG in Mexico In July the country received its first cargo of carbon offset LNG at Sempra s Energa Costa Azul  ECA terminal on Mexico s Pacific coast GHG emissions from the cargo were offset by BP Gas Marketing Ltd retiring carbon credits sourced from its portfolio on behalf of Sempra LNG The carbonneutral LNG market is on track to quadruple this year according to recent analysis by FTI Consulting However standards and methodology for defining carbon neutrality vary dramatically researchers said ISSN  25779877  ISSN  25779966  ISSN  15321266  Related topics carbon offsets Ghg Infrastructure LNG low carbon Mexico  lenton chris email chrislenton  naturalgasintelcom NGI S Mexico Price Tracker Mexico Product Suite Mexico Gas Price Index Mexico GPI Trending News It won t be death by a thousand cuts for natural gas It ll be far less than that after an increasingly bearish December weather outlook slashed another hefty chunk off natural gas prices to start the week leaving promptmonth prices down about  120 since last Monday  Nov 29 With production recovering from recent lows and sitting', metadata={'author': '', 'date': '2021-10-26', 'domain': 'naturalgasintel', 'title': 'MPL Looking to Low-Carbon LNG for Mexico’ s Puerto Libertad, Progressing to FID', 'url': 'https://www.naturalgasintel.com/mpl-looking-to-low-carbon-lng-for-mexicos-puerto-libertad-progressing-to-fid/'}),\n",
       "  0.34023579955101013),\n",
       " (Document(page_content='Global energy companies are shifting to ESG investing but what are the drivers to decarbonise and the innovative approaches being deployed In this new series Mike Scott takes the temperature of the industry s response to date as well as the challenges ahead that this shift will present The energy sector faces a turbulent transitional autumn framed by the latest report from the Intergovernmental Panel on Climate Change  IPCC and the crucial COP26 Glasgow Scotland meeting in November We re seeing a growing number of companies divesting their highcarbon assets as BHP has just done in selling its oil and gas unit to Australian compatriot Woodside However investors and campaigners are starting to point out that while this helps the seller to decarbonise it makes no difference to total carbon emissions  indeed if you sell to someone less concerned about climate change you may end up increasing carbon emissions The coal mining sector should give energy companies pause for thought New research from E3G and Global Energy Monitor shows that the pipeline of planned coal mining plants has dropped by 76 since the 2015 signing of the Paris Agreement with 84 countries either having explicitly banned new coal power or having no plans to build new coal plants And a new sustainable investing initiative may point to the future for the assets that remain  a group of investors backed by the Asian Development Bank are planning to work with governments to buy up coal plants and shut them down within 15 years much earlier than planned but enough time to allow workers to retrain and find new jobs and to allow countries to switch to renewable energy You can be sure that if it works for coal then it will start to be applied to oil and gas as well Investors are becoming increasingly vocal and insistent about what they expect from the sector A new Net Zero emissions Standard for Oil and Gas  sets minimum expectation for what must be included in net zero transition plans from oil and gas companies to create a level playing field in corporate reporting and meet investor expectations for credible and comparable company net zero transition plans  the group says The standard emerged from discussions between leading investors and major oil and gas companies and will now be piloted by companies including BP Eni Repsol Shell and Total It calls for comprehensive absolute and intensity emissions reduction targets and alignment of capital expenditure and production plans with a net zero emissions target It acknowledges that  windingdown is a legitimate strategy as well as diversifying energy offerings or working through a company s value chain to reshape demand The Standard joins the Net Zero Asset Owners Alliance the Net Zero Asset Managers Initiative and the Net Zero Insurance Alliance as part of a growing push by investors to target the highest emitting greenhouse gas industries and companies Aided by growing amounts of highquality data this increasingly focused investor pressure is leaving energy companies little choice but to react That was evident during a stunning 2021 results season where sustainable finance ESG investing and ESG investors won shareholder resolutions demanding climate action from companies such as ExxonMobil and Chevron And the results of these votes are starting to feed through although there is a tangible sense that companies are struggling to work out how to be socially responsible as well as how to satisfy both climate change campaigners and the investors who want to continue enjoying the sector s hefty dividends Chevron has just announced plans to spend  10bn in the next seven years on cutting emissions and renewable energy It is still less than a tenth of its planned capital expenditure but such a commitment would have been unthinkable even a year ago Yet its CEO added that the company would rather pay out dividends to shareholders  so they can plant trees  than build more renewable energy capacity Such defensive statements have often been followed by more ambitious plans a few months later Meanwhile the court case that forced Royal Dutch Shell to cut its emissions by 45 by 2030 has been followed by ABP one of the Netherlands biggest pension funds being sued in an attempt to make it sell its fossil fuel shares Shell initially said that it would comply with the ruling but is now appealing  We agree urgent action is needed and we will accelerate our transition to net zero  said CEO Ben van Beurden  But we will appeal because a court judgment against a single company is not effective  Nonetheless the sector can expect more climate change litigation in the months ahead As always mergers and acquisitions deal activity slowed to a trickle over the summer but according to Pricewaterhousecoopers  PwC  global decarbonisation coupled with plentiful capital and an economy emerging from the pandemic will continue to drive strong M  A activity through the rest of 2021 What is now a global transformation to net zero emissions will continue to influence M  A activity and capital project investment decisions  There certainly seems to be no shortage of capital available for green investing and clean energy projects Bloomberg New Energy Finance  BNEF reported that clean energy projects and companies attracted  174bn in investments in the first half of 2021 the highest first half total ever The second six months of the year normally produces more deals The emergence of special purpose acquisition companies  SPACs is driving up deal multiples for  technologycentric energytransition assets  PwC adds  Carbonintensive projects and companies with large ESG risks on the other hand are finding it increasingly difficult to obtain financeas well as insurance  Energy Vault a  gravitybased energy storage company combined with a SPAC in a deal that values it at  16bn for example while Britishvolt the company building the UK s first battery  gigafactory has been valued at more than  1bn after its latest funding round highlighting the growing demand for green energy and energy transition investments Meanwhile the energy majors tentative but ever more ambitious steps into the clean energy world continue  Shell New Energies has bought Inspire Energy a US renewable energy residential retailer while its Ubitricity EV charging subsidiary announced plans to install 50000 charge points in the UK by 2025 effectively doubling the country s charging capacity Many in the clean energy community welcomed BP s appointment of AnjaIsabel Dotzenrath formerly head of RWE Renewables to lead its lowcarbon business as indicating its commitment to cleaner energy Adam Vaughan chief reporter at New Scientist said that the appointment sends  a clear message on  BP s  direction of travel away from oil and gas  One sector that has seen stratospheric growth  and that the energy sector is increasingly pinning its hopes on  is hydrogen which can help lower carbon emissions hardtoabate industries such as cement glassmaking and steel In recent months the world s first glass and steel made using hydrogen have been produced at Pilkington in the UK and Sweden s SSAB respectively  Nearly everything has doubled already this year in the world of clean hydrogen and we expect the momentum to continue in the months ahead  said Martin Tengler lead hydrogen analyst at BNEF As the UK government published its hydrogen strategy including plans to blend hydrogen into the wider gas network BNEF reported that some 16GW of electrolyser capacity  crucial for making green hydrogen  could come online by 2024 In 2020 global electrolyser capacity was just 200MW However there is no consensus on what the future hydrogen economy should look like Tony Ballance of gas network Cadent called for a mandate for  hydrogenready boilers from 2025 while Jess Ralston analyst at Energy and Climate Intelligence Unit  ECIU said  Hydrogen could be very valuable for cleaning up steel production But questions remain over whether the government has truly grasped which areas will be most suitable for hydrogen use and which will not', metadata={'author': '', 'date': '2021-09-29', 'domain': 'energyvoice', 'title': 'Taking the temperature: ESG investing in the energy industry', 'url': 'https://www.energyvoice.com/markets/352513/esg-investing-energy-industry/'}),\n",
       "  0.3430655598640442),\n",
       " (Document(page_content='By clicking  Allow All  you agree to the storing of cookies on your device to enhance site navigation analyse site usage and support us in providing free open access scientific content More info A deal struck between UK climate tech company Levidian and Luxembourg construction company Stugalux brings unique innovative decarbonisation technology to mainland Europe for the first time Levidian s LOOP device uses a patented low temperature low pressure process to crack methane into its constituent atoms hydrogen and carbon without the need for catalysts of additives The carbon is locked away in the form of graphene which is the thinnest and strongest material ever discovered and is used to produce more sustainable durable and highperformance materials Stugalux will be deploying LOOP to process biomethane produced from food and agricultural waste This gas will be cracked into its constituent atoms by LOOP with the resultant hydrogenrich blend combusted in a turbine to generate electricity while reducing carbon emissions The graphene produced by LOOP will be integrated into the building products used by Stugalux to improve performance and drive further decarbonisation Stugalux will initially deploy a LOOP20 on the site Once this process is ready to be enhanced two LOOP100 systems will be deployed by 2025 to scale up the decarbonisation operation  Stugalux is a fantastic example of how a LOOP system can be used to decarbonise in three ways simultaneously  comments Levidian CEO John Hartley  By processing agricultural biomethane these LOOPs will be utilising waste gas delivering hydrogen to power and embedding graphene to decarbonise construction products This is an incredible way to demonstrate the circularity of LOOP contributing to a cleaner economy  Joel Schons owner of Stugalux explains  Together the three LOOP systems will process nearly 250000 cubic meters of waste gas per year producing more than 30 tonnes of graphene and preventing 572 tonnes of CO2e every year Moreover the application of graphene enhanced materials in our residential constructions will significantly drive the reduction of the carbon footprint  Levidian Nanosystems Limited  2023 April 06 UK Tech Decarbonising Construction in Luxembourg AZoCleantech Retrieved on May 04 2023 from https wwwazocleantechcomnewsaspx newsID33240 Levidian Nanosystems Limited  UK Tech Decarbonising Construction in Luxembourg  AZoCleantech 04 May 2023  Levidian Nanosystems Limited  UK Tech Decarbonising Construction in Luxembourg  AZoCleantech https wwwazocleantechcomnewsaspx newsID33240  accessed May 04 2023 Levidian Nanosystems Limited 2023 UK Tech Decarbonising Construction in Luxembourg AZoCleantech viewed 04 May 2023 https wwwazocleantechcomnewsaspx newsID33240 The Sensi is a laserbased analyzer used for monitoring natural gas quality The Cypher ES AFM from Oxford Instruments Asylum Research can be utilized for exceptional environmental control The Vocus CITOF from TOFWERK provides realtime chemical ionization measurements In this interview AZoCleantech speaks with Tebogo Maleka National Project Coordinator at the United Nations Industrial Development Organization  UNIDO about her role within the organization and the initiative that aims to support South Africas transition from conventional plastics to more environmentally sustainable alternatives AZoCleantech recently spoke to entrepreneur Sin Sutherland the CoFounder of A Plastic Planet for International Womens Day Her companys goal is to inspire the world to turn off the plastic tap to help reduce its burden on the planet This International Womens Day AZoCleantech spoke to inspiring women who have made a difference in the Clean Technology field For this interview we spoke to Dr Adina Rom the Executive Director of ETH for Development', metadata={'author': '', 'date': '2023-04-06', 'domain': 'azocleantech', 'title': 'UK Tech Decarbonising Construction in Luxembourg', 'url': 'https://www.azocleantech.com/news.aspx?newsID=33240'}),\n",
       "  0.3459870219230652),\n",
       " (Document(page_content='LNG Insight LNG  Daily GPI  Infrastructure  Natural Gas Prices  NGI All News Access  NGI The Weekly Gas Market Report Royal Dutch Shell plc one of the leading natural gas traders in the world said Thursday consumption held steady in 2020 despite Covid19 and is on course to expand as economies recover However a dearth in sanctioned projects is forecast to create a supply gap According to Shell s annual global liquefied natural gas  LNG trade report consumption increased to 360 million metric tons  mmt in 2020 versus 358 mmt in 2019 Gains last year were driven by Asian consumption even as the pandemic locked down economies and sucked the air out of gross domestic product  GDP  Though marginal the increase in volume reflects the resilience and flexibility of the global LNG market in 2020 a year which saw losses to global GDP of several trillion dollars as economies large and small struggled to contain the Covid19 outbreak  researchers noted Global gas prices hit a record low early last year but they ended 2020 at a sixyear high as Asian demand recovered and winter buying increased against tightened supply  LNG provided flexible energy which the world needed during the Covid19 pandemic demonstrating its resilience and ability to power people s lives in these unprecedented times  said Shell s Maarten Wetselaar director of Integrated Gas Renewables and Energy Solutions  Around the world countries and companies including Shell are adopting netzero emissions targets and seeking to create lowercarbon energy systems As the cleanestburning fossil fuel natural gas and LNG have a central role to play in delivering the energy the world needs and helping power progress towards these targets  Shell definitely has some skin in the game Earlier this month the AngloDutch supermajor announced its most ambitious makeover in its centuryold history It is throttling back oil production as it inches toward a lowcarbon future but for natural gas the global opportunities abound The percentage of total gas in Shell s portfolio  is expected to rise to around 55 or more  by the end of the decade CEO Ben van Beurden told investors at the time As global gas consumption expands Shell also may be eyeing a plethora of opportunities The latest LNG analysis is forecasting a supplydemand gap opening around 2025 with less production coming onstream than previously projected Shell estimated that only 3 mmt in new LNG production capacity was announced in 2020 down from an expected 60 mmt researchers noted This year it is looking stronger For example Shell s frequent partner and No 1 gas producer Qatar Petroleum this month said it was sanctioning its largest LNG expansion ever at the massive North Field US projects also may move forward For example Houstonbased NextDecade Corp has said it plans to reach a final investment decision this year on  a minimum of two trains  at the proposed export terminal in South Texas Wood Mackenzie also has estimated that  11 billion of Australian gas projects could be sanctioned this year CarbonNeutral Gains Last year gas demand rebounded in Asia China and India following the outbreak of the pandemic Shell data showed China increased its LNG imports in 2020 by an estimated 11 from 2019 or 7 mmt to 67 mmt  China s announcement of a target to become carbonneutral by 2060 is expected to continue driving up its LNG demand  researchers noted LNG is forecast to play a  key role  in decarbonizing China s  hardtoabate sectors namely buildings heavy industry shipping and heavyduty road transport  Meanwhile India increased LNG imports by 11 yearyear in 2020 as it took advantage of lower prices to supplement domestic gas production  Two other major Asian LNGimporting countries  Japan and South Korea  also announced netzero emissions targets in 2020  researchers noted Those targets should lead to more gas consumption For example to meet its netzero target South Korea plans to switch 24 coalfired power plants to LNG by 2034 researchers said Meanwhile European demand alongside  flexible US supply helped to balance the global LNG market in the first half of 2020  according to Shell  However supply outages in other basins structural constraints and extreme weather later in the year resulted in higher prices  By 2040 global LNG demand is estimated to hit 700 mmt driven by a 75 surge in Asian growth  For instance China s heavyduty transport sector consumed nearly 13 mmt of LNG in 2020 almost doubling from 2018 to serve the fastgrowing fleet of well over 500000 LNGfueled trucks and buses  researchers said  LNGfueled shipping is also growing with the number of vessels expected to more than double with bunkering vessels set to reach 45 by 2023  Shell is looking to find an advantage in that sector The producer already has chartered four newbuild lowemission tankers that are scheduled for delivery beginning in mid2024  According to estimates more than half of future LNG demand will come from countries with netzero emissions targets  researchers said  The LNG industry will need to innovate at every stage of the value chain to lower emissions and play a key role in powering hardtoabate sectors  ISSN  15321231  ISSN  25779877  ISSN  15321266  LNG Export Tracker LNG Product Suite Listen to NGI s  Hub and Flow Podcast LNG Insight Trending Posts Spot natural gas prices fell like dominoes during the week s fourday trading period from Nov 30Dec 3 for December gas delivery amid widespread mild weather that sapped demand At the end of the trading period daily gas was trading below  400MMBtu at several locations across the United States with NGI s Weekly Spot Gas National Avg', metadata={'author': '', 'date': '2021-02-25', 'domain': 'naturalgasintel', 'title': 'Shell Forecasts Rising LNG Demand as Global Economies Recover, with Supply Shortfall Looming', 'url': 'https://www.naturalgasintel.com/shell-forecasts-rising-lng-demand-as-global-economies-recover-with-supply-shortfall-looming/'}),\n",
       "  0.3471909463405609)]"
      ]
     },
     "execution_count": 20,
     "metadata": {},
     "output_type": "execute_result"
    }
   ],
   "source": [
    "bge_vector_store.similarity_search_w_scores(\"The company is also aiming to reduce gas flaring?\")"
   ]
  },
  {
   "cell_type": "markdown",
   "id": "7ad87a39c366b0b3",
   "metadata": {},
   "source": [
    "# Retrieval & Generation"
   ]
  },
  {
   "cell_type": "markdown",
   "id": "f7cab945fee79d04",
   "metadata": {
    "collapsed": false
   },
   "source": [
    "## First Retrieval Cooking \n"
   ]
  },
  {
   "cell_type": "code",
   "execution_count": 21,
   "id": "6fd9b043d8d6a8bb",
   "metadata": {},
   "outputs": [],
   "source": [
    "from src.generation import get_llm_model, LLMModel\n",
    "\n",
    "azure_model = get_llm_model(LLMModel.GPT_3_AZURE)"
   ]
  },
  {
   "cell_type": "code",
   "execution_count": 22,
   "id": "fcc6ebdf4dab2924",
   "metadata": {
    "collapsed": false
   },
   "outputs": [],
   "source": [
    "rag_prompt = \"\"\"\n",
    "Answer the question to your best knowledge when looking at the following context:\n",
    "{context}\n",
    "                \n",
    "Question: {question}\n",
    "\"\"\""
   ]
  },
  {
   "cell_type": "code",
   "execution_count": 23,
   "id": "83dfe841ed24a7a7",
   "metadata": {
    "collapsed": false
   },
   "outputs": [],
   "source": [
    "from langchain_core.output_parsers import StrOutputParser\n",
    "from langchain_core.prompts import ChatPromptTemplate\n",
    "from langchain_core.runnables import RunnablePassthrough\n",
    "from langchain_core.runnables import RunnableParallel\n",
    "\n",
    "def format_docs(docs):\n",
    "    return \"\\n\\n\".join(doc.page_content for doc in docs)\n",
    "\n",
    "rag_chain_from_docs = (\n",
    "        RunnablePassthrough.assign(context=(lambda x: format_docs(x[\"context\"])))\n",
    "        | ChatPromptTemplate.from_template(rag_prompt)\n",
    "        | azure_model\n",
    "        | StrOutputParser()\n",
    ")\n",
    "\n",
    "rag_chain_with_source = RunnableParallel(\n",
    "    {\n",
    "        \"context\": bge_vector_store.get_retriever(), \n",
    "        \"question\": RunnablePassthrough()\n",
    "    }\n",
    ").assign(answer=rag_chain_from_docs)"
   ]
  },
  {
   "cell_type": "code",
   "execution_count": 24,
   "id": "f8b1225784152974",
   "metadata": {
    "collapsed": false
   },
   "outputs": [
    {
     "data": {
      "text/plain": [
       "{'context': [Document(page_content='Global energy companies are shifting to ESG investing but what are the drivers to decarbonise and the innovative approaches being deployed In this new series Mike Scott takes the temperature of the industry s response to date as well as the challenges ahead that this shift will present The energy sector faces a turbulent transitional autumn framed by the latest report from the Intergovernmental Panel on Climate Change  IPCC and the crucial COP26 Glasgow Scotland meeting in November We re seeing a growing number of companies divesting their highcarbon assets as BHP has just done in selling its oil and gas unit to Australian compatriot Woodside However investors and campaigners are starting to point out that while this helps the seller to decarbonise it makes no difference to total carbon emissions  indeed if you sell to someone less concerned about climate change you may end up increasing carbon emissions The coal mining sector should give energy companies pause for thought New research from E3G and Global Energy Monitor shows that the pipeline of planned coal mining plants has dropped by 76 since the 2015 signing of the Paris Agreement with 84 countries either having explicitly banned new coal power or having no plans to build new coal plants And a new sustainable investing initiative may point to the future for the assets that remain  a group of investors backed by the Asian Development Bank are planning to work with governments to buy up coal plants and shut them down within 15 years much earlier than planned but enough time to allow workers to retrain and find new jobs and to allow countries to switch to renewable energy You can be sure that if it works for coal then it will start to be applied to oil and gas as well Investors are becoming increasingly vocal and insistent about what they expect from the sector A new Net Zero emissions Standard for Oil and Gas  sets minimum expectation for what must be included in net zero transition plans from oil and gas companies to create a level playing field in corporate reporting and meet investor expectations for credible and comparable company net zero transition plans  the group says The standard emerged from discussions between leading investors and major oil and gas companies and will now be piloted by companies including BP Eni Repsol Shell and Total It calls for comprehensive absolute and intensity emissions reduction targets and alignment of capital expenditure and production plans with a net zero emissions target It acknowledges that  windingdown is a legitimate strategy as well as diversifying energy offerings or working through a company s value chain to reshape demand The Standard joins the Net Zero Asset Owners Alliance the Net Zero Asset Managers Initiative and the Net Zero Insurance Alliance as part of a growing push by investors to target the highest emitting greenhouse gas industries and companies Aided by growing amounts of highquality data this increasingly focused investor pressure is leaving energy companies little choice but to react That was evident during a stunning 2021 results season where sustainable finance ESG investing and ESG investors won shareholder resolutions demanding climate action from companies such as ExxonMobil and Chevron And the results of these votes are starting to feed through although there is a tangible sense that companies are struggling to work out how to be socially responsible as well as how to satisfy both climate change campaigners and the investors who want to continue enjoying the sector s hefty dividends Chevron has just announced plans to spend  10bn in the next seven years on cutting emissions and renewable energy It is still less than a tenth of its planned capital expenditure but such a commitment would have been unthinkable even a year ago Yet its CEO added that the company would rather pay out dividends to shareholders  so they can plant trees  than build more renewable energy capacity Such defensive statements have often been followed by more ambitious plans a few months later Meanwhile the court case that forced Royal Dutch Shell to cut its emissions by 45 by 2030 has been followed by ABP one of the Netherlands biggest pension funds being sued in an attempt to make it sell its fossil fuel shares Shell initially said that it would comply with the ruling but is now appealing  We agree urgent action is needed and we will accelerate our transition to net zero  said CEO Ben van Beurden  But we will appeal because a court judgment against a single company is not effective  Nonetheless the sector can expect more climate change litigation in the months ahead As always mergers and acquisitions deal activity slowed to a trickle over the summer but according to Pricewaterhousecoopers  PwC  global decarbonisation coupled with plentiful capital and an economy emerging from the pandemic will continue to drive strong M  A activity through the rest of 2021 What is now a global transformation to net zero emissions will continue to influence M  A activity and capital project investment decisions  There certainly seems to be no shortage of capital available for green investing and clean energy projects Bloomberg New Energy Finance  BNEF reported that clean energy projects and companies attracted  174bn in investments in the first half of 2021 the highest first half total ever The second six months of the year normally produces more deals The emergence of special purpose acquisition companies  SPACs is driving up deal multiples for  technologycentric energytransition assets  PwC adds  Carbonintensive projects and companies with large ESG risks on the other hand are finding it increasingly difficult to obtain financeas well as insurance  Energy Vault a  gravitybased energy storage company combined with a SPAC in a deal that values it at  16bn for example while Britishvolt the company building the UK s first battery  gigafactory has been valued at more than  1bn after its latest funding round highlighting the growing demand for green energy and energy transition investments Meanwhile the energy majors tentative but ever more ambitious steps into the clean energy world continue  Shell New Energies has bought Inspire Energy a US renewable energy residential retailer while its Ubitricity EV charging subsidiary announced plans to install 50000 charge points in the UK by 2025 effectively doubling the country s charging capacity Many in the clean energy community welcomed BP s appointment of AnjaIsabel Dotzenrath formerly head of RWE Renewables to lead its lowcarbon business as indicating its commitment to cleaner energy Adam Vaughan chief reporter at New Scientist said that the appointment sends  a clear message on  BP s  direction of travel away from oil and gas  One sector that has seen stratospheric growth  and that the energy sector is increasingly pinning its hopes on  is hydrogen which can help lower carbon emissions hardtoabate industries such as cement glassmaking and steel In recent months the world s first glass and steel made using hydrogen have been produced at Pilkington in the UK and Sweden s SSAB respectively  Nearly everything has doubled already this year in the world of clean hydrogen and we expect the momentum to continue in the months ahead  said Martin Tengler lead hydrogen analyst at BNEF As the UK government published its hydrogen strategy including plans to blend hydrogen into the wider gas network BNEF reported that some 16GW of electrolyser capacity  crucial for making green hydrogen  could come online by 2024 In 2020 global electrolyser capacity was just 200MW However there is no consensus on what the future hydrogen economy should look like Tony Ballance of gas network Cadent called for a mandate for  hydrogenready boilers from 2025 while Jess Ralston analyst at Energy and Climate Intelligence Unit  ECIU said  Hydrogen could be very valuable for cleaning up steel production But questions remain over whether the government has truly grasped which areas will be most suitable for hydrogen use and which will not', metadata={'author': '', 'date': '2021-09-29', 'domain': 'energyvoice', 'title': 'Taking the temperature: ESG investing in the energy industry', 'url': 'https://www.energyvoice.com/markets/352513/esg-investing-energy-industry/'}),\n",
       "  Document(page_content='LNG  Mexico  Natural Gas Prices  NGI All News Access  NGI The Weekly Gas Market Report Mexico Pacific Ltd LLC  MPL continues to advance its liquefied natural gas  LNG export project for the Pacific coast of the country This week the company signed a collaboration agreement with ConocoPhillips LNG Licensing LLC and Bechtel Together the companies plan to work with construction firm Techint SA de CV to pursue  innovative lower carbon LNG design solutions  for potential future phases of the project The collaboration plans to further reduce baseline emissions by exploring  energy transition and greenhouse gas emission reduction  technologies developed by ConocoPhillips LNG and designed by Bechtel This would include  carbonadvantaged gas feedstock  and  developing a commercial strategy for supplying carbon neutral LNG in the future  said ConocoPhillips Tom Mathiasmeier president of Global Gas Power and LNG  Get in the know Access to pipelines processing plants and LNG facilities is imperative to success in the Mexico natural gas market Buy NGI s 2022 Mexico map today  With natural gas prices soaring in Asia interest on the part of buyers in MPL s Puerto Libertad project has picked up considerably The LNG project would source gas piped from the Permian Basin to ship LNG from Mexico to Asian countries bypassing the Panama Canal MPL CEO Doug Shanda told NGI s Mexico GPI that  more than  22 million metric tonsyear  mmty of binding offtake capacity is under negotiation for the project Of that 14 mmty is potentially contracted through signed memorandums of understanding Shanda said MPL is aiming to close binding offtake agreements for the first two trains by year s end A final investment decision  FID is expected in early 2022  Our project will already achieve lower greenhouse gas  GHG  emissions than other projects through design and shorter shipping distance to Asia and our recently announced low carbon initiative for our future phases furthers our value proposition  Shanda said The project is progressing toward FID  with great momentum  The customer interest  oversubscribes the first phase of our project and positions us to quickly pivot to focus on FID for Trains 3 and beyond  A combined capacity of 94 mmty could come online in 2025 A third train would bring capacity to 141 mmty Longerterm MPL is eyeing six trains for a combined 282 mmty  The MPL LNG Project will be a great example of how we along with our customers and technology providers can continue to supply LNG to offset traditional high emission fuels such as coal and others while developing and applying real innovations to meet the environmental goals of the industry  said Bechtel Energy President Paul Marsden MPL is not the only company exploring low carbon options for LNG in Mexico In July the country received its first cargo of carbon offset LNG at Sempra s Energa Costa Azul  ECA terminal on Mexico s Pacific coast GHG emissions from the cargo were offset by BP Gas Marketing Ltd retiring carbon credits sourced from its portfolio on behalf of Sempra LNG The carbonneutral LNG market is on track to quadruple this year according to recent analysis by FTI Consulting However standards and methodology for defining carbon neutrality vary dramatically researchers said ISSN  25779877  ISSN  25779966  ISSN  15321266  Related topics carbon offsets Ghg Infrastructure LNG low carbon Mexico  lenton chris email chrislenton  naturalgasintelcom NGI S Mexico Price Tracker Mexico Product Suite Mexico Gas Price Index Mexico GPI Trending News It won t be death by a thousand cuts for natural gas It ll be far less than that after an increasingly bearish December weather outlook slashed another hefty chunk off natural gas prices to start the week leaving promptmonth prices down about  120 since last Monday  Nov 29 With production recovering from recent lows and sitting', metadata={'author': '', 'date': '2021-10-26', 'domain': 'naturalgasintel', 'title': 'MPL Looking to Low-Carbon LNG for Mexico’ s Puerto Libertad, Progressing to FID', 'url': 'https://www.naturalgasintel.com/mpl-looking-to-low-carbon-lng-for-mexicos-puerto-libertad-progressing-to-fid/'}),\n",
       "  Document(page_content='LNG Insight LNG  Daily GPI  Infrastructure  Natural Gas Prices  NGI All News Access  NGI The Weekly Gas Market Report Royal Dutch Shell plc one of the leading natural gas traders in the world said Thursday consumption held steady in 2020 despite Covid19 and is on course to expand as economies recover However a dearth in sanctioned projects is forecast to create a supply gap According to Shell s annual global liquefied natural gas  LNG trade report consumption increased to 360 million metric tons  mmt in 2020 versus 358 mmt in 2019 Gains last year were driven by Asian consumption even as the pandemic locked down economies and sucked the air out of gross domestic product  GDP  Though marginal the increase in volume reflects the resilience and flexibility of the global LNG market in 2020 a year which saw losses to global GDP of several trillion dollars as economies large and small struggled to contain the Covid19 outbreak  researchers noted Global gas prices hit a record low early last year but they ended 2020 at a sixyear high as Asian demand recovered and winter buying increased against tightened supply  LNG provided flexible energy which the world needed during the Covid19 pandemic demonstrating its resilience and ability to power people s lives in these unprecedented times  said Shell s Maarten Wetselaar director of Integrated Gas Renewables and Energy Solutions  Around the world countries and companies including Shell are adopting netzero emissions targets and seeking to create lowercarbon energy systems As the cleanestburning fossil fuel natural gas and LNG have a central role to play in delivering the energy the world needs and helping power progress towards these targets  Shell definitely has some skin in the game Earlier this month the AngloDutch supermajor announced its most ambitious makeover in its centuryold history It is throttling back oil production as it inches toward a lowcarbon future but for natural gas the global opportunities abound The percentage of total gas in Shell s portfolio  is expected to rise to around 55 or more  by the end of the decade CEO Ben van Beurden told investors at the time As global gas consumption expands Shell also may be eyeing a plethora of opportunities The latest LNG analysis is forecasting a supplydemand gap opening around 2025 with less production coming onstream than previously projected Shell estimated that only 3 mmt in new LNG production capacity was announced in 2020 down from an expected 60 mmt researchers noted This year it is looking stronger For example Shell s frequent partner and No 1 gas producer Qatar Petroleum this month said it was sanctioning its largest LNG expansion ever at the massive North Field US projects also may move forward For example Houstonbased NextDecade Corp has said it plans to reach a final investment decision this year on  a minimum of two trains  at the proposed export terminal in South Texas Wood Mackenzie also has estimated that  11 billion of Australian gas projects could be sanctioned this year CarbonNeutral Gains Last year gas demand rebounded in Asia China and India following the outbreak of the pandemic Shell data showed China increased its LNG imports in 2020 by an estimated 11 from 2019 or 7 mmt to 67 mmt  China s announcement of a target to become carbonneutral by 2060 is expected to continue driving up its LNG demand  researchers noted LNG is forecast to play a  key role  in decarbonizing China s  hardtoabate sectors namely buildings heavy industry shipping and heavyduty road transport  Meanwhile India increased LNG imports by 11 yearyear in 2020 as it took advantage of lower prices to supplement domestic gas production  Two other major Asian LNGimporting countries  Japan and South Korea  also announced netzero emissions targets in 2020  researchers noted Those targets should lead to more gas consumption For example to meet its netzero target South Korea plans to switch 24 coalfired power plants to LNG by 2034 researchers said Meanwhile European demand alongside  flexible US supply helped to balance the global LNG market in the first half of 2020  according to Shell  However supply outages in other basins structural constraints and extreme weather later in the year resulted in higher prices  By 2040 global LNG demand is estimated to hit 700 mmt driven by a 75 surge in Asian growth  For instance China s heavyduty transport sector consumed nearly 13 mmt of LNG in 2020 almost doubling from 2018 to serve the fastgrowing fleet of well over 500000 LNGfueled trucks and buses  researchers said  LNGfueled shipping is also growing with the number of vessels expected to more than double with bunkering vessels set to reach 45 by 2023  Shell is looking to find an advantage in that sector The producer already has chartered four newbuild lowemission tankers that are scheduled for delivery beginning in mid2024  According to estimates more than half of future LNG demand will come from countries with netzero emissions targets  researchers said  The LNG industry will need to innovate at every stage of the value chain to lower emissions and play a key role in powering hardtoabate sectors  ISSN  15321231  ISSN  25779877  ISSN  15321266  LNG Export Tracker LNG Product Suite Listen to NGI s  Hub and Flow Podcast LNG Insight Trending Posts Spot natural gas prices fell like dominoes during the week s fourday trading period from Nov 30Dec 3 for December gas delivery amid widespread mild weather that sapped demand At the end of the trading period daily gas was trading below  400MMBtu at several locations across the United States with NGI s Weekly Spot Gas National Avg', metadata={'author': '', 'date': '2021-02-25', 'domain': 'naturalgasintel', 'title': 'Shell Forecasts Rising LNG Demand as Global Economies Recover, with Supply Shortfall Looming', 'url': 'https://www.naturalgasintel.com/shell-forecasts-rising-lng-demand-as-global-economies-recover-with-supply-shortfall-looming/'}),\n",
       "  Document(page_content='By clicking  Allow All  you agree to the storing of cookies on your device to enhance site navigation analyse site usage and support us in providing free open access scientific content More info A deal struck between UK climate tech company Levidian and Luxembourg construction company Stugalux brings unique innovative decarbonisation technology to mainland Europe for the first time Levidian s LOOP device uses a patented low temperature low pressure process to crack methane into its constituent atoms hydrogen and carbon without the need for catalysts of additives The carbon is locked away in the form of graphene which is the thinnest and strongest material ever discovered and is used to produce more sustainable durable and highperformance materials Stugalux will be deploying LOOP to process biomethane produced from food and agricultural waste This gas will be cracked into its constituent atoms by LOOP with the resultant hydrogenrich blend combusted in a turbine to generate electricity while reducing carbon emissions The graphene produced by LOOP will be integrated into the building products used by Stugalux to improve performance and drive further decarbonisation Stugalux will initially deploy a LOOP20 on the site Once this process is ready to be enhanced two LOOP100 systems will be deployed by 2025 to scale up the decarbonisation operation  Stugalux is a fantastic example of how a LOOP system can be used to decarbonise in three ways simultaneously  comments Levidian CEO John Hartley  By processing agricultural biomethane these LOOPs will be utilising waste gas delivering hydrogen to power and embedding graphene to decarbonise construction products This is an incredible way to demonstrate the circularity of LOOP contributing to a cleaner economy  Joel Schons owner of Stugalux explains  Together the three LOOP systems will process nearly 250000 cubic meters of waste gas per year producing more than 30 tonnes of graphene and preventing 572 tonnes of CO2e every year Moreover the application of graphene enhanced materials in our residential constructions will significantly drive the reduction of the carbon footprint  Levidian Nanosystems Limited  2023 April 06 UK Tech Decarbonising Construction in Luxembourg AZoCleantech Retrieved on May 04 2023 from https wwwazocleantechcomnewsaspx newsID33240 Levidian Nanosystems Limited  UK Tech Decarbonising Construction in Luxembourg  AZoCleantech 04 May 2023  Levidian Nanosystems Limited  UK Tech Decarbonising Construction in Luxembourg  AZoCleantech https wwwazocleantechcomnewsaspx newsID33240  accessed May 04 2023 Levidian Nanosystems Limited 2023 UK Tech Decarbonising Construction in Luxembourg AZoCleantech viewed 04 May 2023 https wwwazocleantechcomnewsaspx newsID33240 The Sensi is a laserbased analyzer used for monitoring natural gas quality The Cypher ES AFM from Oxford Instruments Asylum Research can be utilized for exceptional environmental control The Vocus CITOF from TOFWERK provides realtime chemical ionization measurements In this interview AZoCleantech speaks with Tebogo Maleka National Project Coordinator at the United Nations Industrial Development Organization  UNIDO about her role within the organization and the initiative that aims to support South Africas transition from conventional plastics to more environmentally sustainable alternatives AZoCleantech recently spoke to entrepreneur Sin Sutherland the CoFounder of A Plastic Planet for International Womens Day Her companys goal is to inspire the world to turn off the plastic tap to help reduce its burden on the planet This International Womens Day AZoCleantech spoke to inspiring women who have made a difference in the Clean Technology field For this interview we spoke to Dr Adina Rom the Executive Director of ETH for Development', metadata={'author': '', 'date': '2023-04-06', 'domain': 'azocleantech', 'title': 'UK Tech Decarbonising Construction in Luxembourg', 'url': 'https://www.azocleantech.com/news.aspx?newsID=33240'})],\n",
       " 'question': 'Is the company aiming to reduce gas flaring?',\n",
       " 'answer': 'There is no clear indication in the given context that the company is aiming to reduce gas flaring. The focus is primarily on decarbonisation and transitioning to more sustainable energy sources.'}"
      ]
     },
     "execution_count": 24,
     "metadata": {},
     "output_type": "execute_result"
    }
   ],
   "source": [
    "rag_chain_with_source.invoke(\"Is the company aiming to reduce gas flaring?\")"
   ]
  },
  {
   "cell_type": "markdown",
   "id": "1380dfe56dc22522",
   "metadata": {
    "collapsed": false
   },
   "source": [
    "## Alternative Retrieval Cooking"
   ]
  },
  {
   "cell_type": "code",
   "execution_count": 25,
   "id": "f03ae232b3f4e6e7",
   "metadata": {
    "collapsed": false
   },
   "outputs": [],
   "source": [
    "rag_prompt = \"\"\"\n",
    "Answer the question to your best knowledge when looking at the following context:\n",
    "{context}\n",
    "                \n",
    "Question: {question}\n",
    "\"\"\""
   ]
  },
  {
   "cell_type": "code",
   "execution_count": 26,
   "id": "ae2923b6c4aae3cf",
   "metadata": {
    "collapsed": false
   },
   "outputs": [],
   "source": [
    "rag_gpt_improved_prompt = \"\"\"\n",
    "\n",
    "Critically answer the question, using the following context and your own knowledge:\n",
    "\n",
    "Context: {context}\n",
    "Question: {question}\n",
    "\n",
    "In case that the provided context is not sufficient, explain that the knowledge is not available but that given your own knowledge you can provide an answer which you will tag as (own knowledge).\n",
    "\n",
    "Ensure that the answer is well-structured and provides a clear and concise response.\n",
    "\"\"\""
   ]
  },
  {
   "cell_type": "code",
   "execution_count": 27,
   "id": "10dd6f1991100a91",
   "metadata": {
    "collapsed": false
   },
   "outputs": [],
   "source": [
    "from langchain_core.output_parsers import StrOutputParser\n",
    "from langchain_core.prompts import ChatPromptTemplate\n",
    "from langchain_core.runnables import RunnablePassthrough\n",
    "from langchain_core.runnables import RunnableParallel\n",
    "\n",
    "def format_docs(docs):\n",
    "    return \"\\n\\n\".join(doc.page_content for doc in docs)\n",
    "\n",
    "rag_chain_from_docs = (\n",
    "        RunnablePassthrough.assign(context=(lambda x: format_docs(x[\"context\"])))\n",
    "        | ChatPromptTemplate.from_template(rag_gpt_improved_prompt)\n",
    "        | azure_model\n",
    "        | StrOutputParser()\n",
    ")\n",
    "\n",
    "rag_chain_with_source = RunnableParallel(\n",
    "    {\n",
    "        \"context\": bge_vector_store.get_retriever(), \n",
    "        \"question\": RunnablePassthrough()\n",
    "    }\n",
    ").assign(answer=rag_chain_from_docs)"
   ]
  },
  {
   "cell_type": "code",
   "execution_count": 28,
   "id": "306ed83b1b8fd426",
   "metadata": {
    "collapsed": false
   },
   "outputs": [
    {
     "data": {
      "text/plain": [
       "RunnableAssign(mapper={\n",
       "  context: RunnableLambda(lambda x: format_docs(x['context']))\n",
       "})\n",
       "| ChatPromptTemplate(input_variables=['context', 'question'], messages=[HumanMessagePromptTemplate(prompt=PromptTemplate(input_variables=['context', 'question'], template='\\n\\nCritically answer the question, using the following context and your own knowledge:\\n\\nContext: {context}\\nQuestion: {question}\\n\\nIn case that the provided context is not sufficient, explain that the knowledge is not available but that given your own knowledge you can provide an answer which you will tag as (own knowledge).\\n\\nEnsure that the answer is well-structured and provides a clear and concise response.\\n'))])\n",
       "| AzureChatOpenAI(client=<openai.resources.chat.completions.Completions object at 0x2d879dc70>, async_client=<openai.resources.chat.completions.AsyncCompletions object at 0x2d879ede0>, openai_api_key=SecretStr('**********'), openai_proxy='', azure_endpoint='https://p-oai-htdsnlp-01.openai.azure.com/', deployment_name='p-dai-htdsnlp-01', openai_api_version='2023-05-15', openai_api_type='azure')\n",
       "| StrOutputParser()"
      ]
     },
     "execution_count": 28,
     "metadata": {},
     "output_type": "execute_result"
    }
   ],
   "source": [
    "rag_chain_from_docs"
   ]
  },
  {
   "cell_type": "code",
   "execution_count": 29,
   "id": "e0e382b76c63b232",
   "metadata": {
    "collapsed": false
   },
   "outputs": [
    {
     "data": {
      "text/plain": [
       "{'context': [Document(page_content='Global energy companies are shifting to ESG investing but what are the drivers to decarbonise and the innovative approaches being deployed In this new series Mike Scott takes the temperature of the industry s response to date as well as the challenges ahead that this shift will present The energy sector faces a turbulent transitional autumn framed by the latest report from the Intergovernmental Panel on Climate Change  IPCC and the crucial COP26 Glasgow Scotland meeting in November We re seeing a growing number of companies divesting their highcarbon assets as BHP has just done in selling its oil and gas unit to Australian compatriot Woodside However investors and campaigners are starting to point out that while this helps the seller to decarbonise it makes no difference to total carbon emissions  indeed if you sell to someone less concerned about climate change you may end up increasing carbon emissions The coal mining sector should give energy companies pause for thought New research from E3G and Global Energy Monitor shows that the pipeline of planned coal mining plants has dropped by 76 since the 2015 signing of the Paris Agreement with 84 countries either having explicitly banned new coal power or having no plans to build new coal plants And a new sustainable investing initiative may point to the future for the assets that remain  a group of investors backed by the Asian Development Bank are planning to work with governments to buy up coal plants and shut them down within 15 years much earlier than planned but enough time to allow workers to retrain and find new jobs and to allow countries to switch to renewable energy You can be sure that if it works for coal then it will start to be applied to oil and gas as well Investors are becoming increasingly vocal and insistent about what they expect from the sector A new Net Zero emissions Standard for Oil and Gas  sets minimum expectation for what must be included in net zero transition plans from oil and gas companies to create a level playing field in corporate reporting and meet investor expectations for credible and comparable company net zero transition plans  the group says The standard emerged from discussions between leading investors and major oil and gas companies and will now be piloted by companies including BP Eni Repsol Shell and Total It calls for comprehensive absolute and intensity emissions reduction targets and alignment of capital expenditure and production plans with a net zero emissions target It acknowledges that  windingdown is a legitimate strategy as well as diversifying energy offerings or working through a company s value chain to reshape demand The Standard joins the Net Zero Asset Owners Alliance the Net Zero Asset Managers Initiative and the Net Zero Insurance Alliance as part of a growing push by investors to target the highest emitting greenhouse gas industries and companies Aided by growing amounts of highquality data this increasingly focused investor pressure is leaving energy companies little choice but to react That was evident during a stunning 2021 results season where sustainable finance ESG investing and ESG investors won shareholder resolutions demanding climate action from companies such as ExxonMobil and Chevron And the results of these votes are starting to feed through although there is a tangible sense that companies are struggling to work out how to be socially responsible as well as how to satisfy both climate change campaigners and the investors who want to continue enjoying the sector s hefty dividends Chevron has just announced plans to spend  10bn in the next seven years on cutting emissions and renewable energy It is still less than a tenth of its planned capital expenditure but such a commitment would have been unthinkable even a year ago Yet its CEO added that the company would rather pay out dividends to shareholders  so they can plant trees  than build more renewable energy capacity Such defensive statements have often been followed by more ambitious plans a few months later Meanwhile the court case that forced Royal Dutch Shell to cut its emissions by 45 by 2030 has been followed by ABP one of the Netherlands biggest pension funds being sued in an attempt to make it sell its fossil fuel shares Shell initially said that it would comply with the ruling but is now appealing  We agree urgent action is needed and we will accelerate our transition to net zero  said CEO Ben van Beurden  But we will appeal because a court judgment against a single company is not effective  Nonetheless the sector can expect more climate change litigation in the months ahead As always mergers and acquisitions deal activity slowed to a trickle over the summer but according to Pricewaterhousecoopers  PwC  global decarbonisation coupled with plentiful capital and an economy emerging from the pandemic will continue to drive strong M  A activity through the rest of 2021 What is now a global transformation to net zero emissions will continue to influence M  A activity and capital project investment decisions  There certainly seems to be no shortage of capital available for green investing and clean energy projects Bloomberg New Energy Finance  BNEF reported that clean energy projects and companies attracted  174bn in investments in the first half of 2021 the highest first half total ever The second six months of the year normally produces more deals The emergence of special purpose acquisition companies  SPACs is driving up deal multiples for  technologycentric energytransition assets  PwC adds  Carbonintensive projects and companies with large ESG risks on the other hand are finding it increasingly difficult to obtain financeas well as insurance  Energy Vault a  gravitybased energy storage company combined with a SPAC in a deal that values it at  16bn for example while Britishvolt the company building the UK s first battery  gigafactory has been valued at more than  1bn after its latest funding round highlighting the growing demand for green energy and energy transition investments Meanwhile the energy majors tentative but ever more ambitious steps into the clean energy world continue  Shell New Energies has bought Inspire Energy a US renewable energy residential retailer while its Ubitricity EV charging subsidiary announced plans to install 50000 charge points in the UK by 2025 effectively doubling the country s charging capacity Many in the clean energy community welcomed BP s appointment of AnjaIsabel Dotzenrath formerly head of RWE Renewables to lead its lowcarbon business as indicating its commitment to cleaner energy Adam Vaughan chief reporter at New Scientist said that the appointment sends  a clear message on  BP s  direction of travel away from oil and gas  One sector that has seen stratospheric growth  and that the energy sector is increasingly pinning its hopes on  is hydrogen which can help lower carbon emissions hardtoabate industries such as cement glassmaking and steel In recent months the world s first glass and steel made using hydrogen have been produced at Pilkington in the UK and Sweden s SSAB respectively  Nearly everything has doubled already this year in the world of clean hydrogen and we expect the momentum to continue in the months ahead  said Martin Tengler lead hydrogen analyst at BNEF As the UK government published its hydrogen strategy including plans to blend hydrogen into the wider gas network BNEF reported that some 16GW of electrolyser capacity  crucial for making green hydrogen  could come online by 2024 In 2020 global electrolyser capacity was just 200MW However there is no consensus on what the future hydrogen economy should look like Tony Ballance of gas network Cadent called for a mandate for  hydrogenready boilers from 2025 while Jess Ralston analyst at Energy and Climate Intelligence Unit  ECIU said  Hydrogen could be very valuable for cleaning up steel production But questions remain over whether the government has truly grasped which areas will be most suitable for hydrogen use and which will not', metadata={'author': '', 'date': '2021-09-29', 'domain': 'energyvoice', 'title': 'Taking the temperature: ESG investing in the energy industry', 'url': 'https://www.energyvoice.com/markets/352513/esg-investing-energy-industry/'}),\n",
       "  Document(page_content='LNG  Mexico  Natural Gas Prices  NGI All News Access  NGI The Weekly Gas Market Report Mexico Pacific Ltd LLC  MPL continues to advance its liquefied natural gas  LNG export project for the Pacific coast of the country This week the company signed a collaboration agreement with ConocoPhillips LNG Licensing LLC and Bechtel Together the companies plan to work with construction firm Techint SA de CV to pursue  innovative lower carbon LNG design solutions  for potential future phases of the project The collaboration plans to further reduce baseline emissions by exploring  energy transition and greenhouse gas emission reduction  technologies developed by ConocoPhillips LNG and designed by Bechtel This would include  carbonadvantaged gas feedstock  and  developing a commercial strategy for supplying carbon neutral LNG in the future  said ConocoPhillips Tom Mathiasmeier president of Global Gas Power and LNG  Get in the know Access to pipelines processing plants and LNG facilities is imperative to success in the Mexico natural gas market Buy NGI s 2022 Mexico map today  With natural gas prices soaring in Asia interest on the part of buyers in MPL s Puerto Libertad project has picked up considerably The LNG project would source gas piped from the Permian Basin to ship LNG from Mexico to Asian countries bypassing the Panama Canal MPL CEO Doug Shanda told NGI s Mexico GPI that  more than  22 million metric tonsyear  mmty of binding offtake capacity is under negotiation for the project Of that 14 mmty is potentially contracted through signed memorandums of understanding Shanda said MPL is aiming to close binding offtake agreements for the first two trains by year s end A final investment decision  FID is expected in early 2022  Our project will already achieve lower greenhouse gas  GHG  emissions than other projects through design and shorter shipping distance to Asia and our recently announced low carbon initiative for our future phases furthers our value proposition  Shanda said The project is progressing toward FID  with great momentum  The customer interest  oversubscribes the first phase of our project and positions us to quickly pivot to focus on FID for Trains 3 and beyond  A combined capacity of 94 mmty could come online in 2025 A third train would bring capacity to 141 mmty Longerterm MPL is eyeing six trains for a combined 282 mmty  The MPL LNG Project will be a great example of how we along with our customers and technology providers can continue to supply LNG to offset traditional high emission fuels such as coal and others while developing and applying real innovations to meet the environmental goals of the industry  said Bechtel Energy President Paul Marsden MPL is not the only company exploring low carbon options for LNG in Mexico In July the country received its first cargo of carbon offset LNG at Sempra s Energa Costa Azul  ECA terminal on Mexico s Pacific coast GHG emissions from the cargo were offset by BP Gas Marketing Ltd retiring carbon credits sourced from its portfolio on behalf of Sempra LNG The carbonneutral LNG market is on track to quadruple this year according to recent analysis by FTI Consulting However standards and methodology for defining carbon neutrality vary dramatically researchers said ISSN  25779877  ISSN  25779966  ISSN  15321266  Related topics carbon offsets Ghg Infrastructure LNG low carbon Mexico  lenton chris email chrislenton  naturalgasintelcom NGI S Mexico Price Tracker Mexico Product Suite Mexico Gas Price Index Mexico GPI Trending News It won t be death by a thousand cuts for natural gas It ll be far less than that after an increasingly bearish December weather outlook slashed another hefty chunk off natural gas prices to start the week leaving promptmonth prices down about  120 since last Monday  Nov 29 With production recovering from recent lows and sitting', metadata={'author': '', 'date': '2021-10-26', 'domain': 'naturalgasintel', 'title': 'MPL Looking to Low-Carbon LNG for Mexico’ s Puerto Libertad, Progressing to FID', 'url': 'https://www.naturalgasintel.com/mpl-looking-to-low-carbon-lng-for-mexicos-puerto-libertad-progressing-to-fid/'}),\n",
       "  Document(page_content='LNG Insight LNG  Daily GPI  Infrastructure  Natural Gas Prices  NGI All News Access  NGI The Weekly Gas Market Report Royal Dutch Shell plc one of the leading natural gas traders in the world said Thursday consumption held steady in 2020 despite Covid19 and is on course to expand as economies recover However a dearth in sanctioned projects is forecast to create a supply gap According to Shell s annual global liquefied natural gas  LNG trade report consumption increased to 360 million metric tons  mmt in 2020 versus 358 mmt in 2019 Gains last year were driven by Asian consumption even as the pandemic locked down economies and sucked the air out of gross domestic product  GDP  Though marginal the increase in volume reflects the resilience and flexibility of the global LNG market in 2020 a year which saw losses to global GDP of several trillion dollars as economies large and small struggled to contain the Covid19 outbreak  researchers noted Global gas prices hit a record low early last year but they ended 2020 at a sixyear high as Asian demand recovered and winter buying increased against tightened supply  LNG provided flexible energy which the world needed during the Covid19 pandemic demonstrating its resilience and ability to power people s lives in these unprecedented times  said Shell s Maarten Wetselaar director of Integrated Gas Renewables and Energy Solutions  Around the world countries and companies including Shell are adopting netzero emissions targets and seeking to create lowercarbon energy systems As the cleanestburning fossil fuel natural gas and LNG have a central role to play in delivering the energy the world needs and helping power progress towards these targets  Shell definitely has some skin in the game Earlier this month the AngloDutch supermajor announced its most ambitious makeover in its centuryold history It is throttling back oil production as it inches toward a lowcarbon future but for natural gas the global opportunities abound The percentage of total gas in Shell s portfolio  is expected to rise to around 55 or more  by the end of the decade CEO Ben van Beurden told investors at the time As global gas consumption expands Shell also may be eyeing a plethora of opportunities The latest LNG analysis is forecasting a supplydemand gap opening around 2025 with less production coming onstream than previously projected Shell estimated that only 3 mmt in new LNG production capacity was announced in 2020 down from an expected 60 mmt researchers noted This year it is looking stronger For example Shell s frequent partner and No 1 gas producer Qatar Petroleum this month said it was sanctioning its largest LNG expansion ever at the massive North Field US projects also may move forward For example Houstonbased NextDecade Corp has said it plans to reach a final investment decision this year on  a minimum of two trains  at the proposed export terminal in South Texas Wood Mackenzie also has estimated that  11 billion of Australian gas projects could be sanctioned this year CarbonNeutral Gains Last year gas demand rebounded in Asia China and India following the outbreak of the pandemic Shell data showed China increased its LNG imports in 2020 by an estimated 11 from 2019 or 7 mmt to 67 mmt  China s announcement of a target to become carbonneutral by 2060 is expected to continue driving up its LNG demand  researchers noted LNG is forecast to play a  key role  in decarbonizing China s  hardtoabate sectors namely buildings heavy industry shipping and heavyduty road transport  Meanwhile India increased LNG imports by 11 yearyear in 2020 as it took advantage of lower prices to supplement domestic gas production  Two other major Asian LNGimporting countries  Japan and South Korea  also announced netzero emissions targets in 2020  researchers noted Those targets should lead to more gas consumption For example to meet its netzero target South Korea plans to switch 24 coalfired power plants to LNG by 2034 researchers said Meanwhile European demand alongside  flexible US supply helped to balance the global LNG market in the first half of 2020  according to Shell  However supply outages in other basins structural constraints and extreme weather later in the year resulted in higher prices  By 2040 global LNG demand is estimated to hit 700 mmt driven by a 75 surge in Asian growth  For instance China s heavyduty transport sector consumed nearly 13 mmt of LNG in 2020 almost doubling from 2018 to serve the fastgrowing fleet of well over 500000 LNGfueled trucks and buses  researchers said  LNGfueled shipping is also growing with the number of vessels expected to more than double with bunkering vessels set to reach 45 by 2023  Shell is looking to find an advantage in that sector The producer already has chartered four newbuild lowemission tankers that are scheduled for delivery beginning in mid2024  According to estimates more than half of future LNG demand will come from countries with netzero emissions targets  researchers said  The LNG industry will need to innovate at every stage of the value chain to lower emissions and play a key role in powering hardtoabate sectors  ISSN  15321231  ISSN  25779877  ISSN  15321266  LNG Export Tracker LNG Product Suite Listen to NGI s  Hub and Flow Podcast LNG Insight Trending Posts Spot natural gas prices fell like dominoes during the week s fourday trading period from Nov 30Dec 3 for December gas delivery amid widespread mild weather that sapped demand At the end of the trading period daily gas was trading below  400MMBtu at several locations across the United States with NGI s Weekly Spot Gas National Avg', metadata={'author': '', 'date': '2021-02-25', 'domain': 'naturalgasintel', 'title': 'Shell Forecasts Rising LNG Demand as Global Economies Recover, with Supply Shortfall Looming', 'url': 'https://www.naturalgasintel.com/shell-forecasts-rising-lng-demand-as-global-economies-recover-with-supply-shortfall-looming/'}),\n",
       "  Document(page_content='By clicking  Allow All  you agree to the storing of cookies on your device to enhance site navigation analyse site usage and support us in providing free open access scientific content More info A deal struck between UK climate tech company Levidian and Luxembourg construction company Stugalux brings unique innovative decarbonisation technology to mainland Europe for the first time Levidian s LOOP device uses a patented low temperature low pressure process to crack methane into its constituent atoms hydrogen and carbon without the need for catalysts of additives The carbon is locked away in the form of graphene which is the thinnest and strongest material ever discovered and is used to produce more sustainable durable and highperformance materials Stugalux will be deploying LOOP to process biomethane produced from food and agricultural waste This gas will be cracked into its constituent atoms by LOOP with the resultant hydrogenrich blend combusted in a turbine to generate electricity while reducing carbon emissions The graphene produced by LOOP will be integrated into the building products used by Stugalux to improve performance and drive further decarbonisation Stugalux will initially deploy a LOOP20 on the site Once this process is ready to be enhanced two LOOP100 systems will be deployed by 2025 to scale up the decarbonisation operation  Stugalux is a fantastic example of how a LOOP system can be used to decarbonise in three ways simultaneously  comments Levidian CEO John Hartley  By processing agricultural biomethane these LOOPs will be utilising waste gas delivering hydrogen to power and embedding graphene to decarbonise construction products This is an incredible way to demonstrate the circularity of LOOP contributing to a cleaner economy  Joel Schons owner of Stugalux explains  Together the three LOOP systems will process nearly 250000 cubic meters of waste gas per year producing more than 30 tonnes of graphene and preventing 572 tonnes of CO2e every year Moreover the application of graphene enhanced materials in our residential constructions will significantly drive the reduction of the carbon footprint  Levidian Nanosystems Limited  2023 April 06 UK Tech Decarbonising Construction in Luxembourg AZoCleantech Retrieved on May 04 2023 from https wwwazocleantechcomnewsaspx newsID33240 Levidian Nanosystems Limited  UK Tech Decarbonising Construction in Luxembourg  AZoCleantech 04 May 2023  Levidian Nanosystems Limited  UK Tech Decarbonising Construction in Luxembourg  AZoCleantech https wwwazocleantechcomnewsaspx newsID33240  accessed May 04 2023 Levidian Nanosystems Limited 2023 UK Tech Decarbonising Construction in Luxembourg AZoCleantech viewed 04 May 2023 https wwwazocleantechcomnewsaspx newsID33240 The Sensi is a laserbased analyzer used for monitoring natural gas quality The Cypher ES AFM from Oxford Instruments Asylum Research can be utilized for exceptional environmental control The Vocus CITOF from TOFWERK provides realtime chemical ionization measurements In this interview AZoCleantech speaks with Tebogo Maleka National Project Coordinator at the United Nations Industrial Development Organization  UNIDO about her role within the organization and the initiative that aims to support South Africas transition from conventional plastics to more environmentally sustainable alternatives AZoCleantech recently spoke to entrepreneur Sin Sutherland the CoFounder of A Plastic Planet for International Womens Day Her companys goal is to inspire the world to turn off the plastic tap to help reduce its burden on the planet This International Womens Day AZoCleantech spoke to inspiring women who have made a difference in the Clean Technology field For this interview we spoke to Dr Adina Rom the Executive Director of ETH for Development', metadata={'author': '', 'date': '2023-04-06', 'domain': 'azocleantech', 'title': 'UK Tech Decarbonising Construction in Luxembourg', 'url': 'https://www.azocleantech.com/news.aspx?newsID=33240'})],\n",
       " 'question': 'Is the company aiming to reduce gas flaring?',\n",
       " 'answer': 'The context provided does not mention a specific company aiming to reduce gas flaring. Therefore, the knowledge is not available.'}"
      ]
     },
     "execution_count": 29,
     "metadata": {},
     "output_type": "execute_result"
    }
   ],
   "source": [
    "rag_chain_with_source.invoke(\"Is the company aiming to reduce gas flaring?\")"
   ]
  },
  {
   "cell_type": "markdown",
   "id": "9a0c9f4f51cdcb2f",
   "metadata": {},
   "source": [
    "# Evaluation"
   ]
  },
  {
   "cell_type": "code",
   "execution_count": 30,
   "id": "7a644472a8b5afd",
   "metadata": {
    "collapsed": false
   },
   "outputs": [
    {
     "data": {
      "text/html": [
       "<div>\n",
       "<style scoped>\n",
       "    .dataframe tbody tr th:only-of-type {\n",
       "        vertical-align: middle;\n",
       "    }\n",
       "\n",
       "    .dataframe tbody tr th {\n",
       "        vertical-align: top;\n",
       "    }\n",
       "\n",
       "    .dataframe thead th {\n",
       "        text-align: right;\n",
       "    }\n",
       "</style>\n",
       "<table border=\"1\" class=\"dataframe\">\n",
       "  <thead>\n",
       "    <tr style=\"text-align: right;\">\n",
       "      <th></th>\n",
       "      <th>example_id</th>\n",
       "      <th>question_id</th>\n",
       "      <th>question</th>\n",
       "      <th>relevant_chunk</th>\n",
       "      <th>article_url</th>\n",
       "    </tr>\n",
       "  </thead>\n",
       "  <tbody>\n",
       "    <tr>\n",
       "      <th>0</th>\n",
       "      <td>1</td>\n",
       "      <td>1</td>\n",
       "      <td>What is the innovation behind Leclanché's new ...</td>\n",
       "      <td>Leclanché said it has developed an environment...</td>\n",
       "      <td>https://www.sgvoice.net/strategy/technology/23...</td>\n",
       "    </tr>\n",
       "    <tr>\n",
       "      <th>1</th>\n",
       "      <td>2</td>\n",
       "      <td>2</td>\n",
       "      <td>What is the EU’s Green Deal Industrial Plan?</td>\n",
       "      <td>The Green Deal Industrial Plan is a bid by the...</td>\n",
       "      <td>https://www.sgvoice.net/policy/25396/eu-seeks-...</td>\n",
       "    </tr>\n",
       "    <tr>\n",
       "      <th>2</th>\n",
       "      <td>3</td>\n",
       "      <td>2</td>\n",
       "      <td>What is the EU’s Green Deal Industrial Plan?</td>\n",
       "      <td>The European counterpart to the US Inflation R...</td>\n",
       "      <td>https://www.pv-magazine.com/2023/02/02/europea...</td>\n",
       "    </tr>\n",
       "    <tr>\n",
       "      <th>3</th>\n",
       "      <td>4</td>\n",
       "      <td>3</td>\n",
       "      <td>What are the four focus areas of the EU's Gree...</td>\n",
       "      <td>The new plan is fundamentally focused on four ...</td>\n",
       "      <td>https://www.sgvoice.net/policy/25396/eu-seeks-...</td>\n",
       "    </tr>\n",
       "    <tr>\n",
       "      <th>4</th>\n",
       "      <td>5</td>\n",
       "      <td>4</td>\n",
       "      <td>When did the cooperation between GM and Honda ...</td>\n",
       "      <td>What caught our eye was a new hookup between G...</td>\n",
       "      <td>https://cleantechnica.com/2023/05/08/general-m...</td>\n",
       "    </tr>\n",
       "  </tbody>\n",
       "</table>\n",
       "</div>"
      ],
      "text/plain": [
       "   example_id  question_id                                           question  \\\n",
       "0           1            1  What is the innovation behind Leclanché's new ...   \n",
       "1           2            2       What is the EU’s Green Deal Industrial Plan?   \n",
       "2           3            2       What is the EU’s Green Deal Industrial Plan?   \n",
       "3           4            3  What are the four focus areas of the EU's Gree...   \n",
       "4           5            4  When did the cooperation between GM and Honda ...   \n",
       "\n",
       "                                      relevant_chunk  \\\n",
       "0  Leclanché said it has developed an environment...   \n",
       "1  The Green Deal Industrial Plan is a bid by the...   \n",
       "2  The European counterpart to the US Inflation R...   \n",
       "3  The new plan is fundamentally focused on four ...   \n",
       "4  What caught our eye was a new hookup between G...   \n",
       "\n",
       "                                         article_url  \n",
       "0  https://www.sgvoice.net/strategy/technology/23...  \n",
       "1  https://www.sgvoice.net/policy/25396/eu-seeks-...  \n",
       "2  https://www.pv-magazine.com/2023/02/02/europea...  \n",
       "3  https://www.sgvoice.net/policy/25396/eu-seeks-...  \n",
       "4  https://cleantechnica.com/2023/05/08/general-m...  "
      ]
     },
     "execution_count": 30,
     "metadata": {},
     "output_type": "execute_result"
    }
   ],
   "source": [
    "df_eval = pd.read_csv('data/Cleantech Media Dataset/cleantech_rag_evaluation_data_2024-02-23.csv')\n",
    "df_eval.head()"
   ]
  },
  {
   "cell_type": "code",
   "execution_count": 31,
   "id": "3d51e57fb07ef5ad",
   "metadata": {
    "collapsed": false
   },
   "outputs": [
    {
     "data": {
      "text/html": [
       "<div>\n",
       "<style scoped>\n",
       "    .dataframe tbody tr th:only-of-type {\n",
       "        vertical-align: middle;\n",
       "    }\n",
       "\n",
       "    .dataframe tbody tr th {\n",
       "        vertical-align: top;\n",
       "    }\n",
       "\n",
       "    .dataframe thead th {\n",
       "        text-align: right;\n",
       "    }\n",
       "</style>\n",
       "<table border=\"1\" class=\"dataframe\">\n",
       "  <thead>\n",
       "    <tr style=\"text-align: right;\">\n",
       "      <th></th>\n",
       "      <th>question</th>\n",
       "      <th>relevant_chunk</th>\n",
       "      <th>answer</th>\n",
       "      <th>question_complexity</th>\n",
       "      <th>episode_done</th>\n",
       "    </tr>\n",
       "  </thead>\n",
       "  <tbody>\n",
       "    <tr>\n",
       "      <th>0</th>\n",
       "      <td>How does the IRS guidance on the domestic cont...</td>\n",
       "      <td>[\"['The IRS’ guidance on the domestic content ...</td>\n",
       "      <td>The IRS guidance on the domestic content tax b...</td>\n",
       "      <td>simple</td>\n",
       "      <td>True</td>\n",
       "    </tr>\n",
       "    <tr>\n",
       "      <th>1</th>\n",
       "      <td>What is the fallacy of energy independence and...</td>\n",
       "      <td>[\"['Anytime anyone uses the term ‘ energy inde...</td>\n",
       "      <td>The fallacy of energy independence is that it ...</td>\n",
       "      <td>simple</td>\n",
       "      <td>True</td>\n",
       "    </tr>\n",
       "    <tr>\n",
       "      <th>2</th>\n",
       "      <td>What is the DOE doing to jump-start solar ener...</td>\n",
       "      <td>[\"clean energy economy, ” said U.S. Secretary ...</td>\n",
       "      <td>The DOE is working to jump-start solar energy ...</td>\n",
       "      <td>simple</td>\n",
       "      <td>True</td>\n",
       "    </tr>\n",
       "    <tr>\n",
       "      <th>3</th>\n",
       "      <td>How could the participation of prominent playe...</td>\n",
       "      <td>['US supply chain, advance flexibility in tran...</td>\n",
       "      <td>The participation of prominent players in the ...</td>\n",
       "      <td>simple</td>\n",
       "      <td>True</td>\n",
       "    </tr>\n",
       "    <tr>\n",
       "      <th>4</th>\n",
       "      <td>What are the projected growth rates and instal...</td>\n",
       "      <td>[\"as markets/projects mature '' ( WGI Feb.24'2...</td>\n",
       "      <td>Orsted expects offshore wind to have an annual...</td>\n",
       "      <td>simple</td>\n",
       "      <td>True</td>\n",
       "    </tr>\n",
       "    <tr>\n",
       "      <th>5</th>\n",
       "      <td>Why is sustained effort and consistency import...</td>\n",
       "      <td>[\"pupils in your area or does it begin with gr...</td>\n",
       "      <td>Sustained effort and consistency are important...</td>\n",
       "      <td>simple</td>\n",
       "      <td>True</td>\n",
       "    </tr>\n",
       "    <tr>\n",
       "      <th>6</th>\n",
       "      <td>What is Appalachian Power's request for renewa...</td>\n",
       "      <td>[\"['Appalachian Power has issued a new request...</td>\n",
       "      <td>Appalachian Power has issued a request for pro...</td>\n",
       "      <td>reasoning</td>\n",
       "      <td>True</td>\n",
       "    </tr>\n",
       "    <tr>\n",
       "      <th>7</th>\n",
       "      <td>Can you provide examples of companies and ener...</td>\n",
       "      <td>[\"company’, combined with a SPAC in a deal tha...</td>\n",
       "      <td>Examples of companies investing in green energ...</td>\n",
       "      <td>reasoning</td>\n",
       "      <td>True</td>\n",
       "    </tr>\n",
       "    <tr>\n",
       "      <th>8</th>\n",
       "      <td>What actions is the Department of Energy takin...</td>\n",
       "      <td>[\"clean energy economy, ” said U.S. Secretary ...</td>\n",
       "      <td>The Department of Energy is working to jump-st...</td>\n",
       "      <td>reasoning</td>\n",
       "      <td>True</td>\n",
       "    </tr>\n",
       "    <tr>\n",
       "      <th>9</th>\n",
       "      <td>What are the potential benefits of the Califor...</td>\n",
       "      <td>['US supply chain, advance flexibility in tran...</td>\n",
       "      <td>The California lease auction for offshore wind...</td>\n",
       "      <td>multi_context</td>\n",
       "      <td>True</td>\n",
       "    </tr>\n",
       "    <tr>\n",
       "      <th>10</th>\n",
       "      <td>What is the capacity of Duke Energy's new util...</td>\n",
       "      <td>[\"['Duke Energy customers in Northern Kentucky...</td>\n",
       "      <td>The new utility-scale solar project in Norther...</td>\n",
       "      <td>simple</td>\n",
       "      <td>True</td>\n",
       "    </tr>\n",
       "    <tr>\n",
       "      <th>11</th>\n",
       "      <td>What factors are necessary to unlock renewable...</td>\n",
       "      <td>['for solar-based corporate power purchase agr...</td>\n",
       "      <td>Orsted states that regulatory mandates or ince...</td>\n",
       "      <td>simple</td>\n",
       "      <td>True</td>\n",
       "    </tr>\n",
       "    <tr>\n",
       "      <th>12</th>\n",
       "      <td>How will the global transformation to net zero...</td>\n",
       "      <td>[\"capital and an economy emerging from the pan...</td>\n",
       "      <td>The global transformation to net zero emission...</td>\n",
       "      <td>simple</td>\n",
       "      <td>True</td>\n",
       "    </tr>\n",
       "    <tr>\n",
       "      <th>13</th>\n",
       "      <td>Is energy independence a feasible concept in a...</td>\n",
       "      <td>[\"deeply educated, and security clearance enab...</td>\n",
       "      <td>No, energy independence is not a feasible conc...</td>\n",
       "      <td>simple</td>\n",
       "      <td>True</td>\n",
       "    </tr>\n",
       "    <tr>\n",
       "      <th>14</th>\n",
       "      <td>How does the California lease auction for offs...</td>\n",
       "      <td>['US supply chain, advance flexibility in tran...</td>\n",
       "      <td>The California lease auction for offshore wind...</td>\n",
       "      <td>simple</td>\n",
       "      <td>True</td>\n",
       "    </tr>\n",
       "    <tr>\n",
       "      <th>15</th>\n",
       "      <td>What are the concerns raised by Jess Ralston r...</td>\n",
       "      <td>[\"economy should look like. Tony Ballance, of ...</td>\n",
       "      <td>Jess Ralston raised concerns over whether the ...</td>\n",
       "      <td>simple</td>\n",
       "      <td>True</td>\n",
       "    </tr>\n",
       "    <tr>\n",
       "      <th>16</th>\n",
       "      <td>What is the DOE's plan for solar energy career...</td>\n",
       "      <td>[\"clean energy economy, ” said U.S. Secretary ...</td>\n",
       "      <td>DOE is working to jump-start solar energy care...</td>\n",
       "      <td>reasoning</td>\n",
       "      <td>True</td>\n",
       "    </tr>\n",
       "    <tr>\n",
       "      <th>17</th>\n",
       "      <td>What is the DOE's plan for solar energy career...</td>\n",
       "      <td>[\"clean energy economy, ” said U.S. Secretary ...</td>\n",
       "      <td>The DOE is working to jump-start solar energy ...</td>\n",
       "      <td>reasoning</td>\n",
       "      <td>True</td>\n",
       "    </tr>\n",
       "    <tr>\n",
       "      <th>18</th>\n",
       "      <td>What solar projects has Emory University imple...</td>\n",
       "      <td>[\"['The administration at Emory University, a ...</td>\n",
       "      <td>Emory University has installed solar arrays ac...</td>\n",
       "      <td>multi_context</td>\n",
       "      <td>True</td>\n",
       "    </tr>\n",
       "    <tr>\n",
       "      <th>19</th>\n",
       "      <td>Why is conducting rigorous scientific monitori...</td>\n",
       "      <td>[\"['A new scientific publication provides reco...</td>\n",
       "      <td>Conducting rigorous scientific monitoring stud...</td>\n",
       "      <td>simple</td>\n",
       "      <td>True</td>\n",
       "    </tr>\n",
       "    <tr>\n",
       "      <th>20</th>\n",
       "      <td>What is the history and development of the Pap...</td>\n",
       "      <td>[\"['Waren ( Müritz), the first city to have MW...</td>\n",
       "      <td>The Papenberg geothermal heating plant in Ware...</td>\n",
       "      <td>simple</td>\n",
       "      <td>True</td>\n",
       "    </tr>\n",
       "    <tr>\n",
       "      <th>21</th>\n",
       "      <td>What factors will determine the success of the...</td>\n",
       "      <td>[\"reliance on fossil fuels to achieve the ultr...</td>\n",
       "      <td>The success of the steel industry's transition...</td>\n",
       "      <td>simple</td>\n",
       "      <td>True</td>\n",
       "    </tr>\n",
       "    <tr>\n",
       "      <th>22</th>\n",
       "      <td>What challenges do renewable energy projects f...</td>\n",
       "      <td>[\"['The IRS’ guidance on the domestic content ...</td>\n",
       "      <td>Renewable energy projects, including solar PV,...</td>\n",
       "      <td>simple</td>\n",
       "      <td>True</td>\n",
       "    </tr>\n",
       "    <tr>\n",
       "      <th>23</th>\n",
       "      <td>What features does the HT1500V Series solar in...</td>\n",
       "      <td>[\"grid become pressing matters through the ind...</td>\n",
       "      <td>The HT1500V Series solar inverter offers an ex...</td>\n",
       "      <td>simple</td>\n",
       "      <td>True</td>\n",
       "    </tr>\n",
       "    <tr>\n",
       "      <th>24</th>\n",
       "      <td>What factors are necessary to unlock renewable...</td>\n",
       "      <td>['for solar-based corporate power purchase agr...</td>\n",
       "      <td>Orsted states that regulatory mandates or ince...</td>\n",
       "      <td>simple</td>\n",
       "      <td>True</td>\n",
       "    </tr>\n",
       "    <tr>\n",
       "      <th>25</th>\n",
       "      <td>Why is it important to conduct scientific moni...</td>\n",
       "      <td>[\"['A new scientific publication provides reco...</td>\n",
       "      <td>It is important to conduct scientific monitori...</td>\n",
       "      <td>reasoning</td>\n",
       "      <td>True</td>\n",
       "    </tr>\n",
       "    <tr>\n",
       "      <th>26</th>\n",
       "      <td>What was the impact of fracking firms' decline...</td>\n",
       "      <td>[\"oil extraction in the US and elsewhere had a...</td>\n",
       "      <td>NaN</td>\n",
       "      <td>reasoning</td>\n",
       "      <td>True</td>\n",
       "    </tr>\n",
       "    <tr>\n",
       "      <th>27</th>\n",
       "      <td>What is the impact of upstream methane emissio...</td>\n",
       "      <td>[\"coal in terms of greenhouse gas emissions.',...</td>\n",
       "      <td>Upstream methane emissions significantly impac...</td>\n",
       "      <td>reasoning</td>\n",
       "      <td>True</td>\n",
       "    </tr>\n",
       "    <tr>\n",
       "      <th>28</th>\n",
       "      <td>What was discussed about Enel's solar module m...</td>\n",
       "      <td>[\"['The solar module manufacturing subsidiary ...</td>\n",
       "      <td>NaN</td>\n",
       "      <td>multi_context</td>\n",
       "      <td>True</td>\n",
       "    </tr>\n",
       "    <tr>\n",
       "      <th>29</th>\n",
       "      <td>How could Germany's potential abstention from ...</td>\n",
       "      <td>[\"['The “ Climate Chancellor ” needs to draw a...</td>\n",
       "      <td>If Germany abstains from the EU vote to end th...</td>\n",
       "      <td>simple</td>\n",
       "      <td>True</td>\n",
       "    </tr>\n",
       "    <tr>\n",
       "      <th>30</th>\n",
       "      <td>What did the researchers at Loughborough Unive...</td>\n",
       "      <td>[\"['Scientists in the United Kingdom have inve...</td>\n",
       "      <td>The researchers at Loughborough University con...</td>\n",
       "      <td>simple</td>\n",
       "      <td>True</td>\n",
       "    </tr>\n",
       "    <tr>\n",
       "      <th>31</th>\n",
       "      <td>What challenges is France facing in nuclear en...</td>\n",
       "      <td>[\"a net exporter to several other countries as...</td>\n",
       "      <td>France is facing challenges in nuclear energy ...</td>\n",
       "      <td>simple</td>\n",
       "      <td>True</td>\n",
       "    </tr>\n",
       "    <tr>\n",
       "      <th>32</th>\n",
       "      <td>How has the recent shutdown of French nuclear ...</td>\n",
       "      <td>[\"s taken another 12 reactors offline unexpect...</td>\n",
       "      <td>The recent shutdown of French nuclear reactors...</td>\n",
       "      <td>simple</td>\n",
       "      <td>True</td>\n",
       "    </tr>\n",
       "    <tr>\n",
       "      <th>33</th>\n",
       "      <td>What steps does the study suggest the UK gover...</td>\n",
       "      <td>['could reach as low as GBP 17/MWh.\", \"The gro...</td>\n",
       "      <td>The study suggests that the UK government shou...</td>\n",
       "      <td>simple</td>\n",
       "      <td>True</td>\n",
       "    </tr>\n",
       "    <tr>\n",
       "      <th>34</th>\n",
       "      <td>What is the potential impact of the expansion ...</td>\n",
       "      <td>['[\"Eagerly-awaited leasing contest for 4.5GW ...</td>\n",
       "      <td>The expansion of large-scale floating wind ene...</td>\n",
       "      <td>simple</td>\n",
       "      <td>True</td>\n",
       "    </tr>\n",
       "    <tr>\n",
       "      <th>35</th>\n",
       "      <td>What is the potential of hydrogen in reducing ...</td>\n",
       "      <td>[\"economy should look like. Tony Ballance, of ...</td>\n",
       "      <td>According to Jess Ralston, hydrogen could be v...</td>\n",
       "      <td>reasoning</td>\n",
       "      <td>True</td>\n",
       "    </tr>\n",
       "    <tr>\n",
       "      <th>36</th>\n",
       "      <td>What is the role of H2 Green Steel and Iberdro...</td>\n",
       "      <td>[\"reliance on fossil fuels to achieve the ultr...</td>\n",
       "      <td>H2 Green Steel and Iberdrola are working toget...</td>\n",
       "      <td>reasoning</td>\n",
       "      <td>True</td>\n",
       "    </tr>\n",
       "    <tr>\n",
       "      <th>37</th>\n",
       "      <td>What was the impact of fracking firms' decline...</td>\n",
       "      <td>[\"oil extraction in the US and elsewhere had a...</td>\n",
       "      <td>NaN</td>\n",
       "      <td>reasoning</td>\n",
       "      <td>True</td>\n",
       "    </tr>\n",
       "    <tr>\n",
       "      <th>38</th>\n",
       "      <td>What are the DOE's goals for job growth and ac...</td>\n",
       "      <td>[\"Black ( 8%), and Indigenous worker ( 1%) rep...</td>\n",
       "      <td>The DOE expects the solar energy industry to g...</td>\n",
       "      <td>multi_context</td>\n",
       "      <td>True</td>\n",
       "    </tr>\n",
       "    <tr>\n",
       "      <th>39</th>\n",
       "      <td>How did the Russian invasion of Ukraine impact...</td>\n",
       "      <td>[\"oil extraction in the US and elsewhere had a...</td>\n",
       "      <td>NaN</td>\n",
       "      <td>simple</td>\n",
       "      <td>True</td>\n",
       "    </tr>\n",
       "    <tr>\n",
       "      <th>40</th>\n",
       "      <td>How has the UNFC standard been used to develop...</td>\n",
       "      <td>[\"Classification for Resources ( UNFC) standar...</td>\n",
       "      <td>The UNFC standard has been used to develop geo...</td>\n",
       "      <td>simple</td>\n",
       "      <td>True</td>\n",
       "    </tr>\n",
       "    <tr>\n",
       "      <th>41</th>\n",
       "      <td>How could Germany's potential abstention from ...</td>\n",
       "      <td>[\"['The “ Climate Chancellor ” needs to draw a...</td>\n",
       "      <td>If Germany abstains from the EU vote to end th...</td>\n",
       "      <td>simple</td>\n",
       "      <td>True</td>\n",
       "    </tr>\n",
       "    <tr>\n",
       "      <th>42</th>\n",
       "      <td>What is the DOE doing to jump-start solar ener...</td>\n",
       "      <td>[\"clean energy economy, ” said U.S. Secretary ...</td>\n",
       "      <td>The DOE is working to jump-start solar energy ...</td>\n",
       "      <td>simple</td>\n",
       "      <td>True</td>\n",
       "    </tr>\n",
       "    <tr>\n",
       "      <th>43</th>\n",
       "      <td>What is the goal of President Biden's Investin...</td>\n",
       "      <td>[\"['WASHINGTON, D.C. — As part of President Bi...</td>\n",
       "      <td>The goal of President Biden's Investing in Ame...</td>\n",
       "      <td>simple</td>\n",
       "      <td>True</td>\n",
       "    </tr>\n",
       "    <tr>\n",
       "      <th>44</th>\n",
       "      <td>What is the DOE doing to promote diversity and...</td>\n",
       "      <td>[\"Black ( 8%), and Indigenous worker ( 1%) rep...</td>\n",
       "      <td>The DOE has designed the Advancing Equity thro...</td>\n",
       "      <td>simple</td>\n",
       "      <td>True</td>\n",
       "    </tr>\n",
       "    <tr>\n",
       "      <th>45</th>\n",
       "      <td>What is Appalachian Power's request for renewa...</td>\n",
       "      <td>[\"['Appalachian Power has issued a new request...</td>\n",
       "      <td>Appalachian Power has issued a request for pro...</td>\n",
       "      <td>reasoning</td>\n",
       "      <td>True</td>\n",
       "    </tr>\n",
       "    <tr>\n",
       "      <th>46</th>\n",
       "      <td>Can you provide examples of companies and ener...</td>\n",
       "      <td>[\"company’, combined with a SPAC in a deal tha...</td>\n",
       "      <td>Examples of companies investing in green energ...</td>\n",
       "      <td>reasoning</td>\n",
       "      <td>True</td>\n",
       "    </tr>\n",
       "    <tr>\n",
       "      <th>47</th>\n",
       "      <td>What are the factors affecting power generatio...</td>\n",
       "      <td>['do their jobs of making energy until they\\'r...</td>\n",
       "      <td>The factors affecting power generation in grou...</td>\n",
       "      <td>reasoning</td>\n",
       "      <td>True</td>\n",
       "    </tr>\n",
       "    <tr>\n",
       "      <th>48</th>\n",
       "      <td>What are the requirements for wind and solar p...</td>\n",
       "      <td>[\"['Appalachian Power has issued a new request...</td>\n",
       "      <td>Appalachian Power has issued a request for pro...</td>\n",
       "      <td>multi_context</td>\n",
       "      <td>True</td>\n",
       "    </tr>\n",
       "  </tbody>\n",
       "</table>\n",
       "</div>"
      ],
      "text/plain": [
       "                                             question  \\\n",
       "0   How does the IRS guidance on the domestic cont...   \n",
       "1   What is the fallacy of energy independence and...   \n",
       "2   What is the DOE doing to jump-start solar ener...   \n",
       "3   How could the participation of prominent playe...   \n",
       "4   What are the projected growth rates and instal...   \n",
       "5   Why is sustained effort and consistency import...   \n",
       "6   What is Appalachian Power's request for renewa...   \n",
       "7   Can you provide examples of companies and ener...   \n",
       "8   What actions is the Department of Energy takin...   \n",
       "9   What are the potential benefits of the Califor...   \n",
       "10  What is the capacity of Duke Energy's new util...   \n",
       "11  What factors are necessary to unlock renewable...   \n",
       "12  How will the global transformation to net zero...   \n",
       "13  Is energy independence a feasible concept in a...   \n",
       "14  How does the California lease auction for offs...   \n",
       "15  What are the concerns raised by Jess Ralston r...   \n",
       "16  What is the DOE's plan for solar energy career...   \n",
       "17  What is the DOE's plan for solar energy career...   \n",
       "18  What solar projects has Emory University imple...   \n",
       "19  Why is conducting rigorous scientific monitori...   \n",
       "20  What is the history and development of the Pap...   \n",
       "21  What factors will determine the success of the...   \n",
       "22  What challenges do renewable energy projects f...   \n",
       "23  What features does the HT1500V Series solar in...   \n",
       "24  What factors are necessary to unlock renewable...   \n",
       "25  Why is it important to conduct scientific moni...   \n",
       "26  What was the impact of fracking firms' decline...   \n",
       "27  What is the impact of upstream methane emissio...   \n",
       "28  What was discussed about Enel's solar module m...   \n",
       "29  How could Germany's potential abstention from ...   \n",
       "30  What did the researchers at Loughborough Unive...   \n",
       "31  What challenges is France facing in nuclear en...   \n",
       "32  How has the recent shutdown of French nuclear ...   \n",
       "33  What steps does the study suggest the UK gover...   \n",
       "34  What is the potential impact of the expansion ...   \n",
       "35  What is the potential of hydrogen in reducing ...   \n",
       "36  What is the role of H2 Green Steel and Iberdro...   \n",
       "37  What was the impact of fracking firms' decline...   \n",
       "38  What are the DOE's goals for job growth and ac...   \n",
       "39  How did the Russian invasion of Ukraine impact...   \n",
       "40  How has the UNFC standard been used to develop...   \n",
       "41  How could Germany's potential abstention from ...   \n",
       "42  What is the DOE doing to jump-start solar ener...   \n",
       "43  What is the goal of President Biden's Investin...   \n",
       "44  What is the DOE doing to promote diversity and...   \n",
       "45  What is Appalachian Power's request for renewa...   \n",
       "46  Can you provide examples of companies and ener...   \n",
       "47  What are the factors affecting power generatio...   \n",
       "48  What are the requirements for wind and solar p...   \n",
       "\n",
       "                                       relevant_chunk  \\\n",
       "0   [\"['The IRS’ guidance on the domestic content ...   \n",
       "1   [\"['Anytime anyone uses the term ‘ energy inde...   \n",
       "2   [\"clean energy economy, ” said U.S. Secretary ...   \n",
       "3   ['US supply chain, advance flexibility in tran...   \n",
       "4   [\"as markets/projects mature '' ( WGI Feb.24'2...   \n",
       "5   [\"pupils in your area or does it begin with gr...   \n",
       "6   [\"['Appalachian Power has issued a new request...   \n",
       "7   [\"company’, combined with a SPAC in a deal tha...   \n",
       "8   [\"clean energy economy, ” said U.S. Secretary ...   \n",
       "9   ['US supply chain, advance flexibility in tran...   \n",
       "10  [\"['Duke Energy customers in Northern Kentucky...   \n",
       "11  ['for solar-based corporate power purchase agr...   \n",
       "12  [\"capital and an economy emerging from the pan...   \n",
       "13  [\"deeply educated, and security clearance enab...   \n",
       "14  ['US supply chain, advance flexibility in tran...   \n",
       "15  [\"economy should look like. Tony Ballance, of ...   \n",
       "16  [\"clean energy economy, ” said U.S. Secretary ...   \n",
       "17  [\"clean energy economy, ” said U.S. Secretary ...   \n",
       "18  [\"['The administration at Emory University, a ...   \n",
       "19  [\"['A new scientific publication provides reco...   \n",
       "20  [\"['Waren ( Müritz), the first city to have MW...   \n",
       "21  [\"reliance on fossil fuels to achieve the ultr...   \n",
       "22  [\"['The IRS’ guidance on the domestic content ...   \n",
       "23  [\"grid become pressing matters through the ind...   \n",
       "24  ['for solar-based corporate power purchase agr...   \n",
       "25  [\"['A new scientific publication provides reco...   \n",
       "26  [\"oil extraction in the US and elsewhere had a...   \n",
       "27  [\"coal in terms of greenhouse gas emissions.',...   \n",
       "28  [\"['The solar module manufacturing subsidiary ...   \n",
       "29  [\"['The “ Climate Chancellor ” needs to draw a...   \n",
       "30  [\"['Scientists in the United Kingdom have inve...   \n",
       "31  [\"a net exporter to several other countries as...   \n",
       "32  [\"s taken another 12 reactors offline unexpect...   \n",
       "33  ['could reach as low as GBP 17/MWh.\", \"The gro...   \n",
       "34  ['[\"Eagerly-awaited leasing contest for 4.5GW ...   \n",
       "35  [\"economy should look like. Tony Ballance, of ...   \n",
       "36  [\"reliance on fossil fuels to achieve the ultr...   \n",
       "37  [\"oil extraction in the US and elsewhere had a...   \n",
       "38  [\"Black ( 8%), and Indigenous worker ( 1%) rep...   \n",
       "39  [\"oil extraction in the US and elsewhere had a...   \n",
       "40  [\"Classification for Resources ( UNFC) standar...   \n",
       "41  [\"['The “ Climate Chancellor ” needs to draw a...   \n",
       "42  [\"clean energy economy, ” said U.S. Secretary ...   \n",
       "43  [\"['WASHINGTON, D.C. — As part of President Bi...   \n",
       "44  [\"Black ( 8%), and Indigenous worker ( 1%) rep...   \n",
       "45  [\"['Appalachian Power has issued a new request...   \n",
       "46  [\"company’, combined with a SPAC in a deal tha...   \n",
       "47  ['do their jobs of making energy until they\\'r...   \n",
       "48  [\"['Appalachian Power has issued a new request...   \n",
       "\n",
       "                                               answer question_complexity  \\\n",
       "0   The IRS guidance on the domestic content tax b...              simple   \n",
       "1   The fallacy of energy independence is that it ...              simple   \n",
       "2   The DOE is working to jump-start solar energy ...              simple   \n",
       "3   The participation of prominent players in the ...              simple   \n",
       "4   Orsted expects offshore wind to have an annual...              simple   \n",
       "5   Sustained effort and consistency are important...              simple   \n",
       "6   Appalachian Power has issued a request for pro...           reasoning   \n",
       "7   Examples of companies investing in green energ...           reasoning   \n",
       "8   The Department of Energy is working to jump-st...           reasoning   \n",
       "9   The California lease auction for offshore wind...       multi_context   \n",
       "10  The new utility-scale solar project in Norther...              simple   \n",
       "11  Orsted states that regulatory mandates or ince...              simple   \n",
       "12  The global transformation to net zero emission...              simple   \n",
       "13  No, energy independence is not a feasible conc...              simple   \n",
       "14  The California lease auction for offshore wind...              simple   \n",
       "15  Jess Ralston raised concerns over whether the ...              simple   \n",
       "16  DOE is working to jump-start solar energy care...           reasoning   \n",
       "17  The DOE is working to jump-start solar energy ...           reasoning   \n",
       "18  Emory University has installed solar arrays ac...       multi_context   \n",
       "19  Conducting rigorous scientific monitoring stud...              simple   \n",
       "20  The Papenberg geothermal heating plant in Ware...              simple   \n",
       "21  The success of the steel industry's transition...              simple   \n",
       "22  Renewable energy projects, including solar PV,...              simple   \n",
       "23  The HT1500V Series solar inverter offers an ex...              simple   \n",
       "24  Orsted states that regulatory mandates or ince...              simple   \n",
       "25  It is important to conduct scientific monitori...           reasoning   \n",
       "26                                                NaN           reasoning   \n",
       "27  Upstream methane emissions significantly impac...           reasoning   \n",
       "28                                                NaN       multi_context   \n",
       "29  If Germany abstains from the EU vote to end th...              simple   \n",
       "30  The researchers at Loughborough University con...              simple   \n",
       "31  France is facing challenges in nuclear energy ...              simple   \n",
       "32  The recent shutdown of French nuclear reactors...              simple   \n",
       "33  The study suggests that the UK government shou...              simple   \n",
       "34  The expansion of large-scale floating wind ene...              simple   \n",
       "35  According to Jess Ralston, hydrogen could be v...           reasoning   \n",
       "36  H2 Green Steel and Iberdrola are working toget...           reasoning   \n",
       "37                                                NaN           reasoning   \n",
       "38  The DOE expects the solar energy industry to g...       multi_context   \n",
       "39                                                NaN              simple   \n",
       "40  The UNFC standard has been used to develop geo...              simple   \n",
       "41  If Germany abstains from the EU vote to end th...              simple   \n",
       "42  The DOE is working to jump-start solar energy ...              simple   \n",
       "43  The goal of President Biden's Investing in Ame...              simple   \n",
       "44  The DOE has designed the Advancing Equity thro...              simple   \n",
       "45  Appalachian Power has issued a request for pro...           reasoning   \n",
       "46  Examples of companies investing in green energ...           reasoning   \n",
       "47  The factors affecting power generation in grou...           reasoning   \n",
       "48  Appalachian Power has issued a request for pro...       multi_context   \n",
       "\n",
       "    episode_done  \n",
       "0           True  \n",
       "1           True  \n",
       "2           True  \n",
       "3           True  \n",
       "4           True  \n",
       "5           True  \n",
       "6           True  \n",
       "7           True  \n",
       "8           True  \n",
       "9           True  \n",
       "10          True  \n",
       "11          True  \n",
       "12          True  \n",
       "13          True  \n",
       "14          True  \n",
       "15          True  \n",
       "16          True  \n",
       "17          True  \n",
       "18          True  \n",
       "19          True  \n",
       "20          True  \n",
       "21          True  \n",
       "22          True  \n",
       "23          True  \n",
       "24          True  \n",
       "25          True  \n",
       "26          True  \n",
       "27          True  \n",
       "28          True  \n",
       "29          True  \n",
       "30          True  \n",
       "31          True  \n",
       "32          True  \n",
       "33          True  \n",
       "34          True  \n",
       "35          True  \n",
       "36          True  \n",
       "37          True  \n",
       "38          True  \n",
       "39          True  \n",
       "40          True  \n",
       "41          True  \n",
       "42          True  \n",
       "43          True  \n",
       "44          True  \n",
       "45          True  \n",
       "46          True  \n",
       "47          True  \n",
       "48          True  "
      ]
     },
     "execution_count": 31,
     "metadata": {},
     "output_type": "execute_result"
    }
   ],
   "source": [
    "df_eval_subset = pd.read_csv('data/Cleantech Media Dataset/cleantech_media_dataset_v2_2024-02-23_subset_eval.csv')\n",
    "df_eval_subset"
   ]
  },
  {
   "cell_type": "code",
   "execution_count": 32,
   "id": "c1459bc409abf01c",
   "metadata": {
    "collapsed": false
   },
   "outputs": [
    {
     "name": "stderr",
     "output_type": "stream",
     "text": [
      "100%|██████████| 49/49 [05:02<00:00,  6.18s/it]\n"
     ]
    },
    {
     "ename": "ArrowTypeError",
     "evalue": "Expected bytes, got a 'float' object",
     "output_type": "error",
     "traceback": [
      "\u001b[0;31m---------------------------------------------------------------------------\u001b[0m",
      "\u001b[0;31mArrowTypeError\u001b[0m                            Traceback (most recent call last)",
      "Cell \u001b[0;32mIn[32], line 7\u001b[0m\n\u001b[1;32m      1\u001b[0m \u001b[38;5;28;01mfrom\u001b[39;00m \u001b[38;5;21;01msrc\u001b[39;00m\u001b[38;5;21;01m.\u001b[39;00m\u001b[38;5;21;01mevaluation\u001b[39;00m \u001b[38;5;28;01mimport\u001b[39;00m RAGEvaluator\n\u001b[1;32m      3\u001b[0m rag_evaluator \u001b[38;5;241m=\u001b[39m RAGEvaluator(chain\u001b[38;5;241m=\u001b[39mrag_chain_with_source,\n\u001b[1;32m      4\u001b[0m                              llm_model\u001b[38;5;241m=\u001b[39mazure_model,\n\u001b[1;32m      5\u001b[0m                              embeddings\u001b[38;5;241m=\u001b[39mbge_vector_store)\n\u001b[0;32m----> 7\u001b[0m \u001b[43mrag_evaluator\u001b[49m\u001b[38;5;241;43m.\u001b[39;49m\u001b[43mcreate_dataset_from_df\u001b[49m\u001b[43m(\u001b[49m\u001b[43mdf_eval_subset\u001b[49m\u001b[43m)\u001b[49m\n\u001b[1;32m      8\u001b[0m \u001b[38;5;66;03m#rag_evaluator.create_dataset_from_df_async(df_eval_subset, max_concurrency=2)\u001b[39;00m\n\u001b[1;32m      9\u001b[0m rag_evaluator\u001b[38;5;241m.\u001b[39mevaluate()\n",
      "File \u001b[0;32m~/Documents/Classes/npr/npr-rag/src/evaluation.py:103\u001b[0m, in \u001b[0;36mRAGEvaluator.create_dataset_from_df\u001b[0;34m(self, df)\u001b[0m\n\u001b[1;32m    100\u001b[0m         dataset[\u001b[38;5;124m'\u001b[39m\u001b[38;5;124mactual_answer\u001b[39m\u001b[38;5;124m'\u001b[39m] \u001b[38;5;241m+\u001b[39m\u001b[38;5;241m=\u001b[39m [item[\u001b[38;5;124m'\u001b[39m\u001b[38;5;124manswer\u001b[39m\u001b[38;5;124m'\u001b[39m]]\n\u001b[1;32m    101\u001b[0m         dataset[\u001b[38;5;124m\"\u001b[39m\u001b[38;5;124mquestion_complexity\u001b[39m\u001b[38;5;124m\"\u001b[39m] \u001b[38;5;241m+\u001b[39m\u001b[38;5;241m=\u001b[39m [item[\u001b[38;5;124m\"\u001b[39m\u001b[38;5;124mquestion_complexity\u001b[39m\u001b[38;5;124m\"\u001b[39m]]\n\u001b[0;32m--> 103\u001b[0m \u001b[38;5;28mself\u001b[39m\u001b[38;5;241m.\u001b[39mdataset \u001b[38;5;241m=\u001b[39m \u001b[43mDataset\u001b[49m\u001b[38;5;241;43m.\u001b[39;49m\u001b[43mfrom_dict\u001b[49m\u001b[43m(\u001b[49m\u001b[43mdataset\u001b[49m\u001b[43m)\u001b[49m\n\u001b[1;32m    104\u001b[0m \u001b[38;5;28;01mreturn\u001b[39;00m \u001b[38;5;28mself\u001b[39m\u001b[38;5;241m.\u001b[39mdataset\n",
      "File \u001b[0;32m~/Documents/Classes/npr/npr-rag/.venv/lib/python3.12/site-packages/datasets/arrow_dataset.py:912\u001b[0m, in \u001b[0;36mDataset.from_dict\u001b[0;34m(cls, mapping, features, info, split)\u001b[0m\n\u001b[1;32m    910\u001b[0m     arrow_typed_mapping[col] \u001b[38;5;241m=\u001b[39m data\n\u001b[1;32m    911\u001b[0m mapping \u001b[38;5;241m=\u001b[39m arrow_typed_mapping\n\u001b[0;32m--> 912\u001b[0m pa_table \u001b[38;5;241m=\u001b[39m \u001b[43mInMemoryTable\u001b[49m\u001b[38;5;241;43m.\u001b[39;49m\u001b[43mfrom_pydict\u001b[49m\u001b[43m(\u001b[49m\u001b[43mmapping\u001b[49m\u001b[38;5;241;43m=\u001b[39;49m\u001b[43mmapping\u001b[49m\u001b[43m)\u001b[49m\n\u001b[1;32m    913\u001b[0m \u001b[38;5;28;01mif\u001b[39;00m info \u001b[38;5;129;01mis\u001b[39;00m \u001b[38;5;28;01mNone\u001b[39;00m:\n\u001b[1;32m    914\u001b[0m     info \u001b[38;5;241m=\u001b[39m DatasetInfo()\n",
      "File \u001b[0;32m~/Documents/Classes/npr/npr-rag/.venv/lib/python3.12/site-packages/datasets/table.py:758\u001b[0m, in \u001b[0;36mInMemoryTable.from_pydict\u001b[0;34m(cls, *args, **kwargs)\u001b[0m\n\u001b[1;32m    742\u001b[0m \u001b[38;5;129m@classmethod\u001b[39m\n\u001b[1;32m    743\u001b[0m \u001b[38;5;28;01mdef\u001b[39;00m \u001b[38;5;21mfrom_pydict\u001b[39m(\u001b[38;5;28mcls\u001b[39m, \u001b[38;5;241m*\u001b[39margs, \u001b[38;5;241m*\u001b[39m\u001b[38;5;241m*\u001b[39mkwargs):\n\u001b[1;32m    744\u001b[0m \u001b[38;5;250m    \u001b[39m\u001b[38;5;124;03m\"\"\"\u001b[39;00m\n\u001b[1;32m    745\u001b[0m \u001b[38;5;124;03m    Construct a Table from Arrow arrays or columns.\u001b[39;00m\n\u001b[1;32m    746\u001b[0m \n\u001b[0;32m   (...)\u001b[0m\n\u001b[1;32m    756\u001b[0m \u001b[38;5;124;03m        `datasets.table.Table`\u001b[39;00m\n\u001b[1;32m    757\u001b[0m \u001b[38;5;124;03m    \"\"\"\u001b[39;00m\n\u001b[0;32m--> 758\u001b[0m     \u001b[38;5;28;01mreturn\u001b[39;00m \u001b[38;5;28mcls\u001b[39m(\u001b[43mpa\u001b[49m\u001b[38;5;241;43m.\u001b[39;49m\u001b[43mTable\u001b[49m\u001b[38;5;241;43m.\u001b[39;49m\u001b[43mfrom_pydict\u001b[49m\u001b[43m(\u001b[49m\u001b[38;5;241;43m*\u001b[39;49m\u001b[43margs\u001b[49m\u001b[43m,\u001b[49m\u001b[43m \u001b[49m\u001b[38;5;241;43m*\u001b[39;49m\u001b[38;5;241;43m*\u001b[39;49m\u001b[43mkwargs\u001b[49m\u001b[43m)\u001b[49m)\n",
      "File \u001b[0;32m~/Documents/Classes/npr/npr-rag/.venv/lib/python3.12/site-packages/pyarrow/table.pxi:1813\u001b[0m, in \u001b[0;36mpyarrow.lib._Tabular.from_pydict\u001b[0;34m()\u001b[0m\n",
      "File \u001b[0;32m~/Documents/Classes/npr/npr-rag/.venv/lib/python3.12/site-packages/pyarrow/table.pxi:5347\u001b[0m, in \u001b[0;36mpyarrow.lib._from_pydict\u001b[0;34m()\u001b[0m\n",
      "File \u001b[0;32m~/Documents/Classes/npr/npr-rag/.venv/lib/python3.12/site-packages/pyarrow/array.pxi:373\u001b[0m, in \u001b[0;36mpyarrow.lib.asarray\u001b[0;34m()\u001b[0m\n",
      "File \u001b[0;32m~/Documents/Classes/npr/npr-rag/.venv/lib/python3.12/site-packages/pyarrow/array.pxi:247\u001b[0m, in \u001b[0;36mpyarrow.lib.array\u001b[0;34m()\u001b[0m\n",
      "File \u001b[0;32m~/Documents/Classes/npr/npr-rag/.venv/lib/python3.12/site-packages/pyarrow/array.pxi:112\u001b[0m, in \u001b[0;36mpyarrow.lib._handle_arrow_array_protocol\u001b[0;34m()\u001b[0m\n",
      "File \u001b[0;32m~/Documents/Classes/npr/npr-rag/.venv/lib/python3.12/site-packages/datasets/arrow_writer.py:192\u001b[0m, in \u001b[0;36mTypedSequence.__arrow_array__\u001b[0;34m(self, type)\u001b[0m\n\u001b[1;32m    190\u001b[0m \u001b[38;5;28;01melse\u001b[39;00m:\n\u001b[1;32m    191\u001b[0m     trying_cast_to_python_objects \u001b[38;5;241m=\u001b[39m \u001b[38;5;28;01mTrue\u001b[39;00m\n\u001b[0;32m--> 192\u001b[0m     out \u001b[38;5;241m=\u001b[39m \u001b[43mpa\u001b[49m\u001b[38;5;241;43m.\u001b[39;49m\u001b[43marray\u001b[49m\u001b[43m(\u001b[49m\u001b[43mcast_to_python_objects\u001b[49m\u001b[43m(\u001b[49m\u001b[43mdata\u001b[49m\u001b[43m,\u001b[49m\u001b[43m \u001b[49m\u001b[43monly_1d_for_numpy\u001b[49m\u001b[38;5;241;43m=\u001b[39;49m\u001b[38;5;28;43;01mTrue\u001b[39;49;00m\u001b[43m)\u001b[49m\u001b[43m)\u001b[49m\n\u001b[1;32m    193\u001b[0m \u001b[38;5;66;03m# use smaller integer precisions if possible\u001b[39;00m\n\u001b[1;32m    194\u001b[0m \u001b[38;5;28;01mif\u001b[39;00m \u001b[38;5;28mself\u001b[39m\u001b[38;5;241m.\u001b[39mtrying_int_optimization:\n",
      "File \u001b[0;32m~/Documents/Classes/npr/npr-rag/.venv/lib/python3.12/site-packages/pyarrow/array.pxi:343\u001b[0m, in \u001b[0;36mpyarrow.lib.array\u001b[0;34m()\u001b[0m\n",
      "File \u001b[0;32m~/Documents/Classes/npr/npr-rag/.venv/lib/python3.12/site-packages/pyarrow/array.pxi:42\u001b[0m, in \u001b[0;36mpyarrow.lib._sequence_to_array\u001b[0;34m()\u001b[0m\n",
      "File \u001b[0;32m~/Documents/Classes/npr/npr-rag/.venv/lib/python3.12/site-packages/pyarrow/error.pxi:154\u001b[0m, in \u001b[0;36mpyarrow.lib.pyarrow_internal_check_status\u001b[0;34m()\u001b[0m\n",
      "File \u001b[0;32m~/Documents/Classes/npr/npr-rag/.venv/lib/python3.12/site-packages/pyarrow/error.pxi:91\u001b[0m, in \u001b[0;36mpyarrow.lib.check_status\u001b[0;34m()\u001b[0m\n",
      "\u001b[0;31mArrowTypeError\u001b[0m: Expected bytes, got a 'float' object"
     ]
    }
   ],
   "source": [
    "from src.evaluation import RAGEvaluator\n",
    "\n",
    "rag_evaluator = RAGEvaluator(chain=rag_chain_with_source,\n",
    "                             llm_model=azure_model,\n",
    "                             embeddings=bge_vector_store)\n",
    "\n",
    "rag_evaluator.create_dataset_from_df(df_eval_subset)\n",
    "#rag_evaluator.create_dataset_from_df_async(df_eval_subset, max_concurrency=2)\n",
    "rag_evaluator.evaluate()"
   ]
  },
  {
   "cell_type": "markdown",
   "id": "dbb98ddc172dd8bb",
   "metadata": {
    "collapsed": false
   },
   "source": [
    "Further try evaluating the model with Phoenix's evaluation tools. Read more: https://docs.arize.com/phoenix/evaluation/running-pre-tested-evals/retrieval-rag-relevance"
   ]
  }
 ],
 "metadata": {
  "kernelspec": {
   "display_name": "Python 3",
   "language": "python",
   "name": "python3"
  },
  "language_info": {
   "codemirror_mode": {
    "name": "ipython",
    "version": 3
   },
   "file_extension": ".py",
   "mimetype": "text/x-python",
   "name": "python",
   "nbconvert_exporter": "python",
   "pygments_lexer": "ipython3",
   "version": "3.12.0"
  }
 },
 "nbformat": 4,
 "nbformat_minor": 5
}
