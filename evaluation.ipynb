{
 "cells": [
  {
   "cell_type": "code",
   "execution_count": null,
   "id": "initial_id",
   "metadata": {
    "collapsed": true
   },
   "outputs": [],
   "source": [
    "from src.langfuse import langfuse\n",
    "\n",
    "dataset = langfuse.get_dataset(\"evaluation\")\n"
   ]
  },
  {
   "cell_type": "code",
   "outputs": [],
   "source": [
    "from src.embedding_strategy import EmbeddingStrategy\n",
    "strategy = EmbeddingStrategy.get_default_strategy()\n",
    "from langchain.evaluation import load_evaluator, EvaluatorType\n",
    "from src.generator import Generator, get_openai_model\n",
    "\n",
    "\n",
    "gen = Generator(embedding_strategy=strategy)\n",
    "\n",
    "EVAL_TYPES={\n",
    "\t\"accuracy\": True\n",
    "}\n",
    "\n",
    "custom_criteria = {\n",
    "\t\"Match\": \"\"\n",
    "}\n",
    "\n",
    "# for eval type in EVAL_TYPES:"
   ],
   "metadata": {
    "collapsed": false
   },
   "id": "ead5e876832d388b",
   "execution_count": null
  },
  {
   "cell_type": "code",
   "outputs": [],
   "source": [
    "for item in dataset.items:\n",
    "\thandler = item.get_langchain_handler(run_name=\"evaluation\")\n",
    "\tanswer, retrieved_context = gen.ask(item.input)\n",
    "\tfor key, _ in EVAL_TYPES.items():\n",
    "\t\tevaluator = load_evaluator(EvaluatorType.SCORE_STRING, llm=get_openai_model())\n",
    "\t\t\n",
    "\t\tscore = evaluator.evaluate_strings(prediction=item.expected_output, reference=retrieved_context, input=item.input)\n",
    "\t\tprint(f\"Score for {key} is {score}\")\n",
    "\t\thandler.root_span.score(\n",
    "\t\t \tname=key,\n",
    "\t\t \tvalue= score[\"score\"],\n",
    "\t\t\tcomment= score[\"reasoning\"]\n",
    "\t\t)"
   ],
   "metadata": {
    "collapsed": false
   },
   "id": "ff1e5b3d6c551343",
   "execution_count": null
  },
  {
   "cell_type": "code",
   "outputs": [],
   "source": [],
   "metadata": {
    "collapsed": false
   },
   "id": "9c7938ded0bd3afe"
  }
 ],
 "metadata": {
  "kernelspec": {
   "display_name": "Python 3",
   "language": "python",
   "name": "python3"
  },
  "language_info": {
   "codemirror_mode": {
    "name": "ipython",
    "version": 2
   },
   "file_extension": ".py",
   "mimetype": "text/x-python",
   "name": "python",
   "nbconvert_exporter": "python",
   "pygments_lexer": "ipython2",
   "version": "2.7.6"
  }
 },
 "nbformat": 4,
 "nbformat_minor": 5
}
