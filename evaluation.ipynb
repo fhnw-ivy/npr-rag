{
 "cells": [
  {
   "cell_type": "code",
   "execution_count": null,
   "id": "initial_id",
   "metadata": {
    "collapsed": true
   },
   "outputs": [],
   "source": [
    "from src.langfuse import langfuse\n",
    "\n",
    "dataset = langfuse.get_dataset(\"evaluation\")\n"
   ]
  },
  {
   "cell_type": "code",
   "execution_count": null,
   "id": "ead5e876832d388b",
   "metadata": {
    "collapsed": false
   },
   "outputs": [],
   "source": [
    "from src.generation import Generator\n",
    "from src.embedding_strategy import EmbeddingStrategy\n",
    "strategy = EmbeddingStrategy.get_default_strategy()\n",
    "from langchain.evaluation import load_evaluator, EvaluatorType\n",
    "\n",
    "gen = Generator(embedding_strategy=strategy)\n",
    "\n",
    "EVAL_TYPES={\n",
    "\t\"accuracy\": True\n",
    "}\n",
    "\n",
    "# todo add custom criteria with description \n",
    "custom_criteria = {\n",
    "\t\"Match\": \"\"\n",
    "}\n"
   ]
  },
  {
   "cell_type": "code",
   "execution_count": null,
   "id": "ff1e5b3d6c551343",
   "metadata": {
    "collapsed": false
   },
   "outputs": [],
   "source": [
    "\n",
    "from src.generation import get_llm_model, LLMModel\n",
    "\n",
    "for item in dataset.items:\n",
    "\tanswer, retrieved_context = gen.ask(item.input)\n",
    "\tfor key, _ in EVAL_TYPES.items():\n",
    "\t\tevaluator = load_evaluator(EvaluatorType.SCORE_STRING, llm=get_llm_model(LLMModel.GPT_3_AZURE))\n",
    "\t\t# print(item.expected_output, retrieved_context, item.input)\n",
    "\t\tscore = evaluator.evaluate_strings(prediction=item.expected_output, reference=retrieved_context, input=item.input)\n",
    "\t\tgen.manager.add_score(name=key, comment=score['reasoning'], value=score['score'])"
   ]
  }
 ],
 "metadata": {
  "kernelspec": {
   "display_name": "Python 3",
   "language": "python",
   "name": "python3"
  },
  "language_info": {
   "codemirror_mode": {
    "name": "ipython",
    "version": 3
   },
   "file_extension": ".py",
   "mimetype": "text/x-python",
   "name": "python",
   "nbconvert_exporter": "python",
   "pygments_lexer": "ipython3",
   "version": "3.10.10"
  }
 },
 "nbformat": 4,
 "nbformat_minor": 5
}
