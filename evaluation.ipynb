{
 "cells": [
  {
   "cell_type": "code",
   "execution_count": null,
   "id": "initial_id",
   "metadata": {
    "collapsed": true
   },
   "outputs": [],
   "source": [
    "from src.langfuse import langfuse\n",
    "\n",
    "dataset = langfuse.get_dataset(\"evaluation\")\n"
   ]
  },
  {
   "cell_type": "code",
   "execution_count": null,
   "id": "ead5e876832d388b",
   "metadata": {
    "collapsed": false
   },
   "outputs": [],
   "source": [
    "from src.embedding_strategy import EmbeddingStrategy\n",
    "strategy = EmbeddingStrategy.get_default_strategy()\n",
    "from langchain.evaluation import load_evaluator, EvaluatorType\n",
    "from src.generator import Generator, get_openai_model\n",
    "\n",
    "\n",
    "gen = Generator(embedding_strategy=strategy)\n",
    "\n",
    "EVAL_TYPES={\n",
    "\t\"accuracy\": True\n",
    "}\n",
    "\n",
    "# todo add custom criteria with description \n",
    "custom_criteria = {\n",
    "\t\"Match\": \"\"\n",
    "}\n"
   ]
  },
  {
   "cell_type": "code",
   "execution_count": null,
   "id": "ff1e5b3d6c551343",
   "metadata": {
    "collapsed": false
   },
   "outputs": [],
   "source": [
    "\n",
    "for item in dataset.items:\n",
    "\tanswer, retrieved_context = gen.ask(item.input)\n",
    "\tfor key, _ in EVAL_TYPES.items():\n",
    "\t\tevaluator = load_evaluator(EvaluatorType.SCORE_STRING, llm=get_openai_model())\n",
    "\t\t# print(item.expected_output, retrieved_context, item.input)\n",
    "\t\tscore = evaluator.evaluate_strings(prediction=item.expected_output, reference=retrieved_context, input=item.input)\n",
    "\t\tgen.manager.add_score(name=key, comment=score['reasoning'], value=score['score'])"
   ]
  },
  {
   "cell_type": "markdown",
   "id": "ef3da4f2",
   "metadata": {},
   "source": [
    "## Test Ragas Eval"
   ]
  },
  {
   "cell_type": "code",
   "execution_count": 1,
   "id": "aa9b38a3",
   "metadata": {},
   "outputs": [
    {
     "name": "stderr",
     "output_type": "stream",
     "text": [
      "/Users/nils/Documents/Classes/npr/npr-rag/.venv/lib/python3.10/site-packages/tqdm/auto.py:21: TqdmWarning: IProgress not found. Please update jupyter and ipywidgets. See https://ipywidgets.readthedocs.io/en/stable/user_install.html\n",
      "  from .autonotebook import tqdm as notebook_tqdm\n",
      "Fetching 9 files: 100%|██████████| 9/9 [00:00<00:00, 161319.38it/s]\n",
      "/Users/nils/Documents/Classes/npr/npr-rag/.venv/lib/python3.10/site-packages/langchain_core/_api/beta_decorator.py:86: LangChainBetaWarning: The function `loads` is in beta. It is actively being worked on, so the API may change.\n",
      "  warn_beta(\n",
      "Evaluating: 100%|██████████| 2/2 [00:04<00:00,  2.05s/it]\n"
     ]
    },
    {
     "data": {
      "text/plain": [
       "('The capital of France is Paris.',\n",
       " [Document(page_content='France has 56 nuclear reactors, and many of them were offline for scheduled refueling. Some were offline for refueling and maintenance. One was offline for 10-year refurbishment. 18 of 56, a third of the fleet, are offline on pre-existing and COVID deferred schedules.\\n\\nHowever, that problem with aging reactors I mentioned is kicking the French fleet’ s butt. A group of France’ s reactors, the N4 series, has experienced unexpected corrosion on critical pipes. That’ s taken another 12 reactors offline unexpectedly this year. 30 of France’ s 56 reactors are currently offline, some of them due to deferred work from 2020 and 2021, and over a third is unplanned due to corrosion.\\n\\nThat’ s adding substantially to Europe’ s energy crisis. It’ s not just that natural gas was very expensive and that was hitting energy prices, but the relatively stably priced ( and low carbon) French nuclear was down for the count.', metadata={'author': '', 'date': '2022-09-09', 'domain': 'cleantechnica', 'title': \"Europe's Energy Crisis Will Be Short-Lived & Reap Benefits\", 'url': 'https://cleantechnica.com/2022/09/09/europes-energy-crisis-will-be-short-lived-reap-benefits/'}),\n",
       "  Document(page_content='France has 56 nuclear reactors, and many of them were offline for scheduled refueling. Some were offline for refueling and maintenance. One was offline for 10-year refurbishment. 18 of 56, a third of the fleet, are offline on pre-existing and COVID deferred schedules.\\n\\nHowever, that problem with aging reactors I mentioned is kicking the French fleet’ s butt. A group of France’ s reactors, the N4 series, has experienced unexpected corrosion on critical pipes. That’ s taken another 12 reactors offline unexpectedly this year. 30 of France’ s 56 reactors are currently offline, some of them due to deferred work from 2020 and 2021, and over a third is unplanned due to corrosion.\\n\\nThat’ s adding substantially to Europe’ s energy crisis. It’ s not just that natural gas was very expensive and that was hitting energy prices, but the relatively stably priced ( and low carbon) French nuclear was down for the count.', metadata={'author': '', 'date': '2022-09-09', 'domain': 'cleantechnica', 'title': \"Europe's Energy Crisis Will Be Short-Lived & Reap Benefits\", 'url': 'https://cleantechnica.com/2022/09/09/europes-energy-crisis-will-be-short-lived-reap-benefits/'}),\n",
       "  Document(page_content='First, if France is considered in isolation, it has too much nuclear power in its mix, 75% of demand. As soon as it’ s considered as a strategically interdependent entity well-linked to the rest of Europe with transmission and electricity markets, its nuclear generation, relatively inflexible due to economics and technology, is not a concern. In 2020, France generated about 340 TWh of electricity from its nuclear fleet, while Europe as a whole generated 2,664 TWh. France was a solid provider of about 13% of Europe’ s low-carbon energy, an amount easily balanced on the interdependent grid.', metadata={'author': '', 'date': '2022-09-09', 'domain': 'cleantechnica', 'title': \"Europe's Energy Crisis Will Be Short-Lived & Reap Benefits\", 'url': 'https://cleantechnica.com/2022/09/09/europes-energy-crisis-will-be-short-lived-reap-benefits/'}),\n",
       "  Document(page_content='First, if France is considered in isolation, it has too much nuclear power in its mix, 75% of demand. As soon as it’ s considered as a strategically interdependent entity well-linked to the rest of Europe with transmission and electricity markets, its nuclear generation, relatively inflexible due to economics and technology, is not a concern. In 2020, France generated about 340 TWh of electricity from its nuclear fleet, while Europe as a whole generated 2,664 TWh. France was a solid provider of about 13% of Europe’ s low-carbon energy, an amount easily balanced on the interdependent grid.', metadata={'author': '', 'date': '2022-09-09', 'domain': 'cleantechnica', 'title': \"Europe's Energy Crisis Will Be Short-Lived & Reap Benefits\", 'url': 'https://cleantechnica.com/2022/09/09/europes-energy-crisis-will-be-short-lived-reap-benefits/'})])"
      ]
     },
     "execution_count": 1,
     "metadata": {},
     "output_type": "execute_result"
    }
   ],
   "source": [
    "from src.embedding_strategy import EmbeddingStrategy\n",
    "strategy = EmbeddingStrategy.get_default_strategy()\n",
    "from langchain.evaluation import load_evaluator, EvaluatorType\n",
    "from src.generator import Generator, get_openai_model\n",
    "\n",
    "gen = Generator(embedding_strategy=strategy)\n",
    "\n",
    "gen.ask(\"What is the capital of France?\")"
   ]
  },
  {
   "cell_type": "code",
   "execution_count": null,
   "id": "b8821f3e",
   "metadata": {},
   "outputs": [],
   "source": []
  }
 ],
 "metadata": {
  "kernelspec": {
   "display_name": "Python 3",
   "language": "python",
   "name": "python3"
  },
  "language_info": {
   "codemirror_mode": {
    "name": "ipython",
    "version": 3
   },
   "file_extension": ".py",
   "mimetype": "text/x-python",
   "name": "python",
   "nbconvert_exporter": "python",
   "pygments_lexer": "ipython3",
   "version": "3.10.10"
  }
 },
 "nbformat": 4,
 "nbformat_minor": 5
}
