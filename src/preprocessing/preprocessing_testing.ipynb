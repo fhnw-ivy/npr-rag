{
 "cells": [
  {
   "cell_type": "code",
   "execution_count": 1,
   "metadata": {},
   "outputs": [],
   "source": [
    "import pandas as pd\n",
    "import ast\n",
    "from preprocessor import Preprocessor\n",
    "\n",
    "DATA_FOLDER = './../../data/Cleantech Media Dataset'\n",
    "\n",
    "df = pd.read_csv(f'{DATA_FOLDER}/cleantech_media_dataset_v2_2024-02-23.csv')"
   ]
  },
  {
   "cell_type": "code",
   "execution_count": 2,
   "metadata": {},
   "outputs": [
    {
     "name": "stdout",
     "output_type": "stream",
     "text": [
      "Dropped 22 non-english chunks\n",
      "Dropped 57926 duplicate chunks\n"
     ]
    }
   ],
   "source": [
    "pp = Preprocessor(df, verbose=True)\n",
    "pp.preprocess()"
   ]
  },
  {
   "cell_type": "code",
   "execution_count": 5,
   "metadata": {},
   "outputs": [],
   "source": [
    "df['content'] = df['content'].apply(ast.literal_eval)\n",
    "df_exploded = df.explode('content')"
   ]
  },
  {
   "cell_type": "code",
   "execution_count": 13,
   "metadata": {},
   "outputs": [],
   "source": [
    "# print pairs of duplicates\n",
    "duplicates = df_exploded[df_exploded.duplicated('content', keep=False)]\n",
    "duplicates = duplicates[duplicates['content'].notna()]\n",
    "duplicates = duplicates.sort_values(by='content')\n"
   ]
  }
 ],
 "metadata": {
  "kernelspec": {
   "display_name": ".venv",
   "language": "python",
   "name": "python3"
  },
  "language_info": {
   "codemirror_mode": {
    "name": "ipython",
    "version": 3
   },
   "file_extension": ".py",
   "mimetype": "text/x-python",
   "name": "python",
   "nbconvert_exporter": "python",
   "pygments_lexer": "ipython3",
   "version": "3.10.10"
  }
 },
 "nbformat": 4,
 "nbformat_minor": 2
}
