{
 "cells": [
  {
   "cell_type": "markdown",
   "id": "393b298e",
   "metadata": {},
   "source": [
    "# npr MC1: Cleantech Retrieval Augemented Generation\n",
    "\n",
    "**Dominik Filliger, Nils Fahrni, Noah Leuenberger**\n",
    "\n",
    "> The topic of Mini-Challenge 1 is retrieval augmented generation (RAG) incorporating a combination of unsupervised learning, pre-training and in-context learning techniques.\n",
    "\n",
    "- [Description of the task](https://spaces.technik.fhnw.ch/storage/uploads/spaces/81/exercises/NPR-Mini-Challenge-1-Cleantech-RAG-1708982891.pdf)\n",
    "- [Introduction to RAG](https://spaces.technik.fhnw.ch/storage/uploads/spaces/81/exercises/Retrieval-Augmented-Generation-Intro-1709021241.pdf)\n",
    "\n",
    "This notebook serves as the main entry point for our solution to the NPR Mini-Challenge 1. We will provide a detailed explanation of our approach and the code we used to solve the task. However, we have outsourced the code for the evaluation, Langchain LLM model creation and vectorstore interaction to script files which can be found in the `src` directory.\n",
    "\n",
    "Additionally, scripts for the development subset and subset evaluation set creation can be found in the `scripts` directory and will be referenced in their respective sections.\n"
   ]
  },
  {
   "cell_type": "markdown",
   "id": "629c7169756adcbe",
   "metadata": {
    "collapsed": false
   },
   "source": [
    "# Setup\n"
   ]
  },
  {
   "cell_type": "code",
   "execution_count": null,
   "id": "188c966d5cd28de1",
   "metadata": {},
   "outputs": [],
   "source": [
    "import os\n",
    "from dotenv import load_dotenv\n",
    "from tqdm import tqdm\n",
    "load_dotenv()\n",
    "from src.generation import get_llm_model, LLMModel\n",
    "azure_model = get_llm_model(LLMModel.GPT_3_AZURE)"
   ]
  },
  {
   "cell_type": "markdown",
   "id": "47adf37081d73c21",
   "metadata": {
    "collapsed": false
   },
   "source": [
    "## Observability & Monitoring\n",
    "\n",
    "> Phoenix is an open-source observability library designed for experimentation, evaluation, and troubleshooting. It allows AI Engineers and Data Scientists to quickly visualize their data, evaluate performance, track down issues, and export data to improve.\n",
    "\n",
    "We will use Phoenix to visualize traces to quickly debug pipelines. The library offers way more feature which we will not use. Down below we add the Phoenix callbacks to Langchain, our main library for the solution, to visualize the traces.\n"
   ]
  },
  {
   "cell_type": "code",
   "execution_count": null,
   "id": "7d0092013e36ca8c",
   "metadata": {
    "collapsed": false
   },
   "outputs": [],
   "source": [
    "from phoenix.trace.langchain import LangChainInstrumentor\n",
    "import phoenix as px\n",
    "\n",
    "px.close_app()\n",
    "session = px.launch_app()\n",
    "\n",
    "LangChainInstrumentor().instrument()"
   ]
  },
  {
   "cell_type": "markdown",
   "id": "caa766a0",
   "metadata": {},
   "source": [
    "To get quick access to the Phoenix dashboard, the dashboard is rendered in the notebook. The dashboard is interactive and can be used to explore the traces.\n"
   ]
  },
  {
   "cell_type": "code",
   "execution_count": null,
   "id": "abd676a30f7effbe",
   "metadata": {
    "collapsed": false
   },
   "outputs": [],
   "source": [
    "session.view()"
   ]
  },
  {
   "cell_type": "markdown",
   "id": "4f9f2033ded77748",
   "metadata": {
    "collapsed": false
   },
   "source": [
    "# Data Loading & Preprocessing\n",
    "\n",
    "In order to save time and resources, we will only load a randomly sampled subset of the data. This subset will be used for development and testing purposes. The full dataset will be used for a final evaluation of our chosen approach."
   ]
  },
  {
   "cell_type": "code",
   "execution_count": null,
   "id": "d028a391597bb1de",
   "metadata": {
    "collapsed": false
   },
   "outputs": [],
   "source": [
    "import pandas as pd\n",
    "df = pd.read_csv('data/Cleantech Media Dataset/cleantech_media_dataset_v2_2024-02-23_subset.csv')\n",
    "df.head()"
   ]
  },
  {
   "cell_type": "markdown",
   "source": [
    "## Splitting content into paragraphs\n",
    "\n",
    "The content is currently stored as a string which represents a list of string. \n",
    "\n",
    "As a base start we will take this string and transform it into a list of strings, explode this list into multiple rows and then remove the duplicates. This will allow us to work with the data in a more structured way. \n",
    "\n",
    "On top of that we will also remove special characters and empty strings from the content, following suit of our embedding model (bge-small-en).\n",
    "\n",
    "To do all this we will use the custom `Preprocessor` class.\n",
    "\n",
    "###### todo validate if this is the correct approach"
   ],
   "metadata": {
    "collapsed": false
   },
   "id": "5aac816316023996"
  },
  {
   "cell_type": "code",
   "execution_count": null,
   "id": "1d6d6b974dc56bb8",
   "metadata": {},
   "outputs": [],
   "source": [
    "from src.preprocessing.preprocessor import Preprocessor\n",
    "\n",
    "preprocesser = Preprocessor(df)\n",
    "df = preprocesser.preprocess()"
   ]
  },
  {
   "cell_type": "markdown",
   "id": "29f172af1ea76470",
   "metadata": {
    "collapsed": false
   },
   "source": [
    "# Indexing\n",
    "\n",
    "The indexing involves creating a vector representation of the content. "
   ]
  },
  {
   "cell_type": "code",
   "execution_count": null,
   "id": "af0a4a16684d3b86",
   "metadata": {
    "collapsed": false
   },
   "outputs": [],
   "source": [
    "from langchain_community.embeddings import HuggingFaceBgeEmbeddings\n",
    "\n",
    "bge_embeddings = HuggingFaceBgeEmbeddings(\n",
    "    model_name=\"BAAI/bge-small-en\", \n",
    "    model_kwargs={\"device\": \"cpu\"}, \n",
    "    encode_kwargs={\"normalize_embeddings\": True}\n",
    ")"
   ]
  },
  {
   "cell_type": "code",
   "execution_count": null,
   "id": "f066402773ac9d58",
   "metadata": {
    "collapsed": false
   },
   "outputs": [],
   "source": [
    "from langchain_core.documents import Document\n",
    "\n",
    "def create_documents(df):\n",
    "    docs = []\n",
    "    for index, row in tqdm(df.iterrows()):\n",
    "        content = row['content']\n",
    "\n",
    "        row = row.fillna('')\n",
    "\n",
    "        metadata = {\n",
    "            \"url\": row['url'],\n",
    "            \"domain\": row['domain'],\n",
    "            \"title\": row['title'],\n",
    "            \"author\": row['author'],\n",
    "            \"date\": row['date']\n",
    "        }\n",
    "\n",
    "        docs.append(Document(page_content=content, metadata=metadata))\n",
    "\n",
    "    return docs\n",
    "\n",
    "documents = create_documents(df)\n",
    "\n",
    "assert len(documents) == len(df)"
   ]
  },
  {
   "cell_type": "markdown",
   "id": "ec5d15f4",
   "metadata": {},
   "source": [
    "## Vector Store\n",
    "\n",
    "We will use [ChromaDB](https://www.trychroma.com/) to store the embeddings. For easier interaction with the embeddings, we will use the VectorStore class which is a wrapper around the embeddings and ChromaDB. It provides a simple interface to interact with the embeddings and ChromaDB functionality we need for the task.\n",
    "\n",
    "### ChromaDB Setup\n",
    "\n",
    "If the environment variables `CHROMADB_HOST` or `CHROMADB_PORT` are not set, the VectorStore will use a local non-persistent ChromaDB client, which is not recommended. Instead we recommend setting up a ChromaDB instance. The ChromaDB instance can be set up using the following command and Docker:\n",
    "\n",
    "```bash\n",
    "docker-compose up -d chromadb\n",
    "```\n",
    "\n",
    "Set the environment variables `CHROMADB_HOST` and `CHROMADB_PORT` to the host and port of the ChromaDB instance. The default values are `localhost` and `8192`.\n",
    "\n",
    "### VectorStore Usage\n",
    "\n",
    "The vector store is directly tied to the embeddings. Therefore a vector store is embedding specific and can only be used with the embeddings it was created with."
   ]
  },
  {
   "cell_type": "code",
   "execution_count": null,
   "id": "f738ace88dd27a69",
   "metadata": {
    "collapsed": false
   },
   "outputs": [],
   "source": [
    "from src.vectorstore import VectorStore\n",
    "\n",
    "print(\"ChromeDB Host: \", os.getenv('CHROMADB_HOST'))\n",
    "print(\"ChromeDB Port: \", os.getenv('CHROMADB_PORT'))\n",
    "\n",
    "bge_vector_store = VectorStore(embedding_function=bge_embeddings,\n",
    "                               collection=\"cleantech-bge-small-en\")"
   ]
  },
  {
   "cell_type": "markdown",
   "id": "3f20213c70591f14",
   "metadata": {
    "collapsed": false
   },
   "source": [
    "In the next step we will add the prepared documents from the previous step to the VectorStore."
   ]
  },
  {
   "cell_type": "code",
   "execution_count": null,
   "id": "62d558939648a829",
   "metadata": {
    "collapsed": false
   },
   "outputs": [],
   "source": [
    "%%script false --no-raise-error\n",
    "bge_vector_store.add_documents(documents, verbose=True, batch_size=128)"
   ]
  },
  {
   "cell_type": "markdown",
   "id": "b2177cd39686a8db",
   "metadata": {
    "collapsed": false
   },
   "source": [
    "After adding the documents to the vector store we can now perform similarity searches on the documents to verify that the interaction with the vector store works as expected."
   ]
  },
  {
   "cell_type": "code",
   "execution_count": null,
   "id": "91a13de926826f7f",
   "metadata": {
    "collapsed": false
   },
   "outputs": [],
   "source": [
    "bge_vector_store.similarity_search_w_scores(\"The company is also aiming to reduce gas flaring?\")"
   ]
  },
  {
   "cell_type": "markdown",
   "id": "7ad87a39c366b0b3",
   "metadata": {},
   "source": [
    "# Baseline Pipeline\n",
    "\n",
    "The baseline pipeline is a first simple implementation of the RAG pipeline.\n"
   ]
  },
  {
   "cell_type": "code",
   "execution_count": null,
   "id": "fcc6ebdf4dab2924",
   "metadata": {
    "collapsed": false
   },
   "outputs": [],
   "source": [
    "rag_prompt = \"\"\"\n",
    "Answer the question to your best knowledge when looking at the following context:\n",
    "{context}\n",
    "                \n",
    "Question: {question}\n",
    "\"\"\""
   ]
  },
  {
   "cell_type": "code",
   "execution_count": null,
   "id": "83dfe841ed24a7a7",
   "metadata": {
    "collapsed": false
   },
   "outputs": [],
   "source": [
    "from langchain_core.output_parsers import StrOutputParser\n",
    "from langchain_core.prompts import ChatPromptTemplate\n",
    "from langchain_core.runnables import RunnablePassthrough\n",
    "from langchain_core.runnables import RunnableParallel\n",
    "\n",
    "def format_docs(docs):\n",
    "    return \"\\n\\n\".join(doc.page_content for doc in docs)\n",
    "\n",
    "rag_chain_from_docs = (\n",
    "        RunnablePassthrough.assign(context=(lambda x: format_docs(x[\"context\"])))\n",
    "        | ChatPromptTemplate.from_template(rag_prompt)\n",
    "        | azure_model\n",
    "        | StrOutputParser()\n",
    ")\n",
    "\n",
    "rag_chain_with_source = RunnableParallel(\n",
    "    {\n",
    "        \"context\": bge_vector_store.get_retriever(), \n",
    "        \"question\": RunnablePassthrough()\n",
    "    }\n",
    ").assign(answer=rag_chain_from_docs)"
   ]
  },
  {
   "cell_type": "code",
   "execution_count": null,
   "id": "f8b1225784152974",
   "metadata": {
    "collapsed": false
   },
   "outputs": [],
   "source": [
    "rag_chain_with_source.invoke(\"Is the company aiming to reduce gas flaring?\")"
   ]
  },
  {
   "cell_type": "markdown",
   "id": "9a0c9f4f51cdcb2f",
   "metadata": {},
   "source": [
    "# Evaluation\n",
    "\n",
    "In order to compare the performance of different pipelines we need to evaluate them. The evaluation is done with the `ragas` library. The library provides a function to evaluate the performance of the pipeline. `ragas` provides predefined metrics for the evaluation which are described in the [documentation](https://docs.ragas.io/en/stable/concepts/metrics/index.html). We will use the following metrics to evaluate the performance of our pipelines:\n",
    "\n",
    "- **Context Relevancy**: The context relevancy metric measures how well the generated response is related to the context. The metric is calculated as the cosine similarity between the context and the generated response.\n",
    "\n",
    "## Evaluation Set\n",
    "In order to provide a fair comparison between the different pipelines we will use the same evaluation set for all pipelines. The evaluation set was created before hand with the script `scripts/generate_testset.py`. With that we can evaluate the performance of our pipelines with a subset of the data which saves time and resources."
   ]
  },
  {
   "cell_type": "code",
   "execution_count": null,
   "id": "ad1d73f0cad6c2a5",
   "metadata": {
    "collapsed": false
   },
   "outputs": [],
   "source": [
    "df_eval_subset = pd.read_csv('data/Cleantech Media Dataset/cleantech_media_dataset_v2_2024-02-23_subset_eval.csv')\n",
    "df_eval_subset = df_eval_subset.dropna(subset=['answer'])\n",
    "df_eval_subset = df_eval_subset.drop_duplicates().sample(2)\n",
    "df_eval_subset"
   ]
  },
  {
   "cell_type": "markdown",
   "id": "6ae15782",
   "metadata": {},
   "source": [
    "## RAGEvaluator\n",
    "The RAGEvaluator evaluation class is a wrapper around the `ragas` library. It provides a simple interface to evaluate the performance of the pipelines. The class provides a method to evaluate the performance of the pipeline and returns the results as a pandas DataFrame. The metrics are calculated for each example in the evaluation set and results can be aggregated over the whole evaluation set to get an overall performance of the pipeline."
   ]
  },
  {
   "cell_type": "code",
   "execution_count": null,
   "id": "f5bccbe256adad5d",
   "metadata": {
    "collapsed": false
   },
   "outputs": [],
   "source": [
    "from src.evaluation import RAGEvaluator\n",
    "rag_evaluator = RAGEvaluator(chain=rag_chain_with_source,\n",
    "                             llm_model=azure_model,\n",
    "                             embeddings=bge_embeddings)"
   ]
  },
  {
   "cell_type": "code",
   "execution_count": null,
   "id": "4f11f14347ce18bb",
   "metadata": {
    "collapsed": false
   },
   "outputs": [],
   "source": [
    "rag_evaluator.create_dataset_from_df(df_eval_subset)\n",
    "rag_evaluator.evaluate(raise_exceptions=False)"
   ]
  },
  {
   "cell_type": "code",
   "outputs": [],
   "source": [],
   "metadata": {
    "collapsed": false
   },
   "id": "475fdb799c1cdd20",
   "execution_count": null
  }
 ],
 "metadata": {
  "kernelspec": {
   "display_name": "Python 3",
   "language": "python",
   "name": "python3"
  },
  "language_info": {
   "codemirror_mode": {
    "name": "ipython",
    "version": 3
   },
   "file_extension": ".py",
   "mimetype": "text/x-python",
   "name": "python",
   "nbconvert_exporter": "python",
   "pygments_lexer": "ipython3",
   "version": "3.11.8"
  }
 },
 "nbformat": 4,
 "nbformat_minor": 5
}
