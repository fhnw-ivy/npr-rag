{
 "cells": [
  {
   "cell_type": "markdown",
   "id": "393b298e",
   "metadata": {},
   "source": [
    "# npr MC1: Cleantech Retrieval Augemented Generation\n",
    "\n",
    "**Dominik Filliger, Nils Fahrni, Noah Leuenberger**\n",
    "\n",
    "> The topic of Mini-Challenge 1 is retrieval augmented generation (RAG) incorporating a combination of unsupervised learning, pre-training and in-context learning techniques.\n",
    "\n",
    "- [Description of the task](https://spaces.technik.fhnw.ch/storage/uploads/spaces/81/exercises/NPR-Mini-Challenge-1-Cleantech-RAG-1708982891.pdf)\n",
    "- [Introduction to RAG](https://spaces.technik.fhnw.ch/storage/uploads/spaces/81/exercises/Retrieval-Augmented-Generation-Intro-1709021241.pdf)\n",
    "\n",
    "\n",
    "# Structure of our Solution\n",
    "\n",
    "This notebook serves as the main entry point for our solution to the NPR Mini-Challenge 1. We will provide a detailed explanation of our approach and the code we used to solve the task. However, we have outsourced the code for the evaluation, Langchain LLM model creation and vectorstore interaction to script files which can be found in the `src` directory. We will reference these scripts in the respective sections and explain the code in place.\n",
    "\n",
    "Additionally, scripts for the development subset and subset evaluation set creation can be found in the `scripts` directory and will be referenced in their respective sections. These were primarily used to speed up the development process and are not necessary for the final solution as we will use the full dataset for the latest evaluation.\n",
    "\n",
    "The notebook starts by setting up a baseline pipeline. After that, we will conduct a series of experiments to explore the impact of different strategies on the performance of the pipeline. The experiments are designed to test the effectiveness of different retrieval and generation strategies in the RAG pipeline.\n",
    "\n"
   ]
  },
  {
   "cell_type": "markdown",
   "id": "629c7169756adcbe",
   "metadata": {
    "jupyter": {
     "outputs_hidden": false
    }
   },
   "source": [
    "# Setup\n",
    "\n",
    "The setup section is used to import the necessary libraries and set the configuration for the notebook. We will also load the environment variables from the `.env` file to set the configuration for the notebook. The configuration includes the paths to the data files and the configuration for the Phoenix library.\n",
    "\n",
    "There is an option of three boolean variables which can be set to `True` or `False` to configure the notebook:\n",
    "- `DEV_MODE`: If set to `True`, the notebook will use the development subset of the data. If set to `False`, the notebook will use the full dataset.\n",
    "- `USE_GPU`: If set to `True`, the notebook will use the GPU for the computations. If set to `False`, the notebook will use the CPU.\n",
    "- `USE_CACHE`: If set to `True`, the notebook will use the cache for the computations. If set to `False`, the notebook will not use the cache.\n",
    "\n",
    "The caching is especially useful when running the notebook multiple times to avoid recomputing the same results. Especially the evaluation of the pipelines can be time-consuming and require a lot of tokens from the Azure API. Therefore, it is recommended to set `USE_CACHE` to `True` when running the notebook multiple times."
   ]
  },
  {
   "cell_type": "code",
   "execution_count": null,
   "id": "848fa0cdf9b39b57",
   "metadata": {},
   "outputs": [],
   "source": [
    "import os\n",
    "\n",
    "from dotenv import load_dotenv\n",
    "\n",
    "load_dotenv()\n",
    "\n",
    "DEV_MODE = True\n",
    "USE_GPU = False\n",
    "USE_CACHE = False"
   ]
  },
  {
   "cell_type": "markdown",
   "id": "9a252147624c24dc",
   "metadata": {},
   "source": [
    "## Pathing\n",
    "\n",
    "The pathing section is used to set the paths to the data files. The paths are set based on the `DEV_MODE` variable. If `DEV_MODE` is set to `True`, the paths to the development subset of the data are used. If `DEV_MODE` is set to `False`, the paths to the full dataset are used. The paths are then used to load the data files into pandas DataFrames. This is sole for convenience and to have a clear separation of the paths in one place."
   ]
  },
  {
   "cell_type": "code",
   "execution_count": null,
   "id": "311e37f25647c953",
   "metadata": {},
   "outputs": [],
   "source": [
    "def get_path(dev_mode=DEV_MODE):\n",
    "    if dev_mode:\n",
    "        # Paths used in development mode\n",
    "        return {\n",
    "            'df_path': 'data/subset/cleantech_media_dataset_v2_2024-02-23_subset.csv',\n",
    "            'df_eval_path': 'data/subset/cleantech_media_dataset_v2_2024-02-23_subset_eval.csv',\n",
    "            'df_preprocessed_path': get_preprocessed_path(\n",
    "                'data/subset/cleantech_media_dataset_v2_2024-02-23_subset.csv'),\n",
    "            'df_eval_preprocessed_path': get_preprocessed_path(\n",
    "                'data/subset/cleantech_media_dataset_v2_2024-02-23_subset_eval.csv')\n",
    "        }\n",
    "    else:\n",
    "        # Paths used in production mode\n",
    "        return {\n",
    "            'df_path': 'data/Cleantech Media Dataset/cleantech_media_dataset_v2_2024-02-23.csv',\n",
    "            'df_eval_path': 'data/Cleantech Media Dataset/cleantech_rag_evaluation_data_2024-02-23.csv',\n",
    "            'df_preprocessed_path': get_preprocessed_path(\n",
    "                'data/Cleantech Media Dataset/cleantech_media_dataset_v2_2024-02-23.csv'),\n",
    "            'df_eval_preprocessed_path': get_preprocessed_path(\n",
    "                'data/Cleantech Media Dataset/cleantech_rag_evaluation_data_2024-02-23.csv')\n",
    "        }\n",
    "\n",
    "\n",
    "def get_preprocessed_path(path: str) -> str:\n",
    "    return path.replace(\".csv\", \"_preprocessed.csv\")\n",
    "\n",
    "\n",
    "paths = get_path()\n",
    "print(paths)"
   ]
  },
  {
   "cell_type": "markdown",
   "id": "47adf37081d73c21",
   "metadata": {
    "jupyter": {
     "outputs_hidden": false
    }
   },
   "source": [
    "## Observability & Monitoring\n",
    "\n",
    "> Phoenix is an open-source observability library designed for experimentation, evaluation, and troubleshooting. It allows AI Engineers and Data Scientists to quickly visualize their data, evaluate performance, track down issues, and export data to improve.\n",
    "\n",
    "We will use Phoenix to visualize traces to quickly debug pipelines. The library offers way more feature which we will not use. Down below we add the Phoenix callbacks to Langchain, our main library for the solution, to visualize the traces.\n",
    "\n",
    "To get quick access to the Phoenix dashboard, open the following link in your browser: [http://localhost:6006](http://localhost:6006)\n"
   ]
  },
  {
   "cell_type": "code",
   "execution_count": null,
   "id": "7d0092013e36ca8c",
   "metadata": {
    "jupyter": {
     "outputs_hidden": false
    }
   },
   "outputs": [],
   "source": [
    "from phoenix.trace.langchain import LangChainInstrumentor\n",
    "import phoenix as px\n",
    "\n",
    "try:\n",
    "    px.close_app()\n",
    "    session = px.launch_app()\n",
    "except:\n",
    "    print(\n",
    "        \"Could not launch Phoenix app. Please make sure any existing Phoenix app process is closed. Restart the kernel if necessary.\")\n",
    "\n",
    "LangChainInstrumentor().instrument()"
   ]
  },
  {
   "cell_type": "markdown",
   "id": "4f9f2033ded77748",
   "metadata": {
    "jupyter": {
     "outputs_hidden": false
    }
   },
   "source": [
    "# Data Loading & Preprocessing\n",
    "\n",
    "Next we will load the data and preprocess it. The data is loaded into a pandas DataFrame and then preprocessed. This step is based on the findings and explorations made in the EDA notebook (`notebooks/exploration.ipynb`). \n",
    "\n",
    "The dataset used in this Mini-Challenge is the Cleantech Media Dataset, which contains articles about clean technology and sustainability topics. The dataset consists of various columns, including the URL, domain, title, author, date, and content of the articles. The content column is of main interest as it contains the text data which the RAG piepline will be built upon. The dataset can be found [on Kaggle](https://www.kaggle.com/datasets/jannalipenkova/cleantech-media-dataset) together with an evaluation set which will be discussed later in the notebook.\n",
    "\n",
    "The preprocessing code itself can be found in the `src/preprocessing.py` file. The code is encapsulated in a class called `Preprocessor` which is used to preprocess the data which will be indexed and used for the retrieval augmented generation pipeline. There is also a separate class called `EvaluationPreprocessor` which is used to preprocess the evaluation set which will be discussed later in the notebook.\n",
    "\n",
    "The preprocessing includes the following steps:\n",
    "\n",
    "1. **Language Detection and Filtering:** Detect the language of each text chunk and filter out non-English chunks to maintain language consistency in the dataset.\n",
    "2. **HTML Cleaning:** Remove any HTML tags from the text content to ensure that only relevant textual data is processed.\n",
    "3. **Removing Special Characters:** Clean up the text by removing non-alphanumeric characters, keeping only letters, numbers, and necessary punctuation.\n",
    "4. **Duplicate Removal:** Identify and remove duplicate text chunks based on content to ensure uniqueness in the dataset.\n",
    "5. **Content Concatenation:** If the text content is split across multiple entries or rows, concatenate these into a single text chunk per dataset entry.\n",
    "6. **Adding Unique Identifiers:** Generate and append a unique identifier to each row based on the content's hash value, which helps in tracking and indexing the data for the evaluation process of the retrieval."
   ]
  },
  {
   "cell_type": "code",
   "execution_count": null,
   "id": "d028a391597bb1de",
   "metadata": {
    "jupyter": {
     "outputs_hidden": false
    }
   },
   "outputs": [],
   "source": [
    "import pandas as pd\n",
    "\n",
    "df = pd.read_csv(get_path()['df_path'])\n",
    "df.head()"
   ]
  },
  {
   "cell_type": "markdown",
   "id": "f83eeba096da3787",
   "metadata": {},
   "source": [
    "The preprocessed data is then saved to a new CSV file to avoid recomputing the preprocessing steps when running the notebook multiple times."
   ]
  },
  {
   "cell_type": "code",
   "execution_count": null,
   "id": "1d6d6b974dc56bb8",
   "metadata": {},
   "outputs": [],
   "source": [
    "from src.preprocessing import Preprocessor\n",
    "\n",
    "if os.path.exists(paths['df_preprocessed_path']) and USE_CACHE:\n",
    "    df = pd.read_csv(paths['df_preprocessed_path'])\n",
    "else:\n",
    "    df = Preprocessor(df).preprocess()\n",
    "    df.to_csv(paths['df_preprocessed_path'], index=False)"
   ]
  },
  {
   "cell_type": "markdown",
   "id": "b314899e360b2d15",
   "metadata": {},
   "source": [
    "# Indexing\n",
    "\n",
    "The indexing step is used to embed the documents and store them in a vector store. The vector store is used to store the embeddings and provide an interface to interact with the embeddings.\n",
    "\n",
    "## Chunking\n",
    "\n",
    "Another important step in the indexing process is to split the documents into smaller chunks. This division is crucial for managing large documents, improving the granularity of search results, and enhancing the efficiency of the embedding process.\n",
    "\n",
    "**Purpose and Benefits**:\n",
    "\n",
    "- **Manageability**: Smaller chunks are easier to process and store, reducing the computational burden on the system.\n",
    "- **Precision**: By embedding smaller sections of text, the system can achieve more precise document retrieval, particularly for queries that target specific information within a large document.\n",
    "- **Performance**: Smaller text chunks lead to faster processing times during both embedding and retrieval phases.\n",
    "\n",
    "For the baseline pipeline, we will use the Recursive Character Text Splitter from the Langchain library. This splitter divides the text into smaller chunks based on the character count, ensuring that each chunk is of a manageable size for processing and embedding. The following parameters are used for the splitter:\n",
    "\n",
    "- **Chunk Size**: The maximum number of characters in each chunk.\n",
    "    - We use a chunk size of 1000 characters to ensure that the chunks are small enough for efficient processing but large enough to capture meaningful information. \n",
    "- **Chunk Overlap**: The number of characters that overlap between adjacent chunks.\n",
    "    - We set the overlap to 0 to avoid redundancy and ensure that each chunk contains unique information.   \n",
    "- **Length Function**: The function used to calculate the length of the text.\n",
    "- **Is Separator Regex**: A flag indicating whether the separator is a regular expression.\n",
    "\n",
    "The recursive character text splitter is a simple and effective method for dividing text into manageable chunks, making it suitable for our initial experiments with the RAG pipeline. "
   ]
  },
  {
   "cell_type": "code",
   "execution_count": null,
   "id": "e1a4d62c3aaa7895",
   "metadata": {},
   "outputs": [],
   "source": [
    "from langchain_text_splitters import RecursiveCharacterTextSplitter\n",
    "\n",
    "recursive_text_splitter = RecursiveCharacterTextSplitter(\n",
    "    chunk_size=1000,\n",
    "    chunk_overlap=0,\n",
    "    length_function=len,\n",
    "    is_separator_regex=False,\n",
    ")"
   ]
  },
  {
   "cell_type": "markdown",
   "id": "12bd888d346ed1a9",
   "metadata": {},
   "source": [
    "The helper function `create_documents` is used to create the documents from the DataFrame. The function takes the DataFrame and the text splitter as input and returns the documents. The function also prints the number of documents created and the percentage of documents created compared to the number of rows in the source DataFrame."
   ]
  },
  {
   "cell_type": "code",
   "execution_count": null,
   "id": "f066402773ac9d58",
   "metadata": {
    "jupyter": {
     "outputs_hidden": false
    }
   },
   "outputs": [],
   "source": [
    "def create_documents(df: pd.DataFrame, text_splitter, verbose=True):\n",
    "    metadata_cols = ['url', 'domain', 'title', 'author', 'date', 'id']\n",
    "    if not all(col in df.columns for col in metadata_cols + ['content']):\n",
    "        raise ValueError(\n",
    "            f\"DataFrame must contain all metadata columns and a 'content' column: {metadata_cols + ['content']}\")\n",
    "\n",
    "    metadata = df[metadata_cols].rename(columns={'id': 'origin_doc_id'}).to_dict('records')\n",
    "    for i, m in enumerate(metadata):\n",
    "        metadata[i] = {k: 'None' if v is None else v for k, v in m.items()}\n",
    "\n",
    "    docs = text_splitter.create_documents(df['content'], metadata)\n",
    "\n",
    "    if verbose:\n",
    "        print(\n",
    "            f\"{text_splitter.__class__.__name__}: \"\n",
    "            f\"Number of documents created: {len(docs)}, \"\n",
    "            f\"Number of rows in source df: {len(df)}, \"\n",
    "            f\"Percentage of documents created: {len(docs) / len(df) * 100:.2f}%\")\n",
    "\n",
    "    return docs\n",
    "\n",
    "\n",
    "documents = create_documents(df, recursive_text_splitter)"
   ]
  },
  {
   "cell_type": "code",
   "execution_count": null,
   "id": "492aea9c0285cf23",
   "metadata": {},
   "outputs": [],
   "source": [
    "documents[0]"
   ]
  },
  {
   "cell_type": "markdown",
   "id": "3aad96d865bc777",
   "metadata": {},
   "source": [
    "Once split, each text chunk is processed through the BGE embeddings model to generate individual vectors. These vectors are then stored in the vector store. Handling multiple embeddings per document involves indexing each chunk separately while maintaining a reference to the original document."
   ]
  },
  {
   "cell_type": "markdown",
   "id": "d12308369545be81",
   "metadata": {},
   "source": [
    "## Embeddings\n",
    "\n",
    "We will use the [BGE embeddings from Hugging Face](https://huggingface.co/BAAI/bge-small-en) to embed the documents. BGE embeddings are transformer-based models trained on a vast corpus of text data, making them highly effective for a variety of NLP tasks. The embeddings convert text data into dense vectors of fixed dimensionality, typically via processes including tokenization and normalization. The resulting vectors capture the semantic properties of the input texts.\n",
    "\n",
    "**Why specifically BGE embeddings?**\n",
    "\n",
    "- **High Semantic Fidelity**: BGE embeddings are designed to capture deep semantic meanings, enabling more effective document similarity checks and retrieval.\n",
    "- **Performance**: They are optimized for both accuracy and speed in large-scale applications.\n",
    "- **Versatility**: Suitable for diverse NLP tasks such as classification, clustering, and information retrieval.\n",
    "- **Accessibility through Langchain**: The Langchain library provides a simple interface to interact with the BGE embeddings, making it easier to integrate them into the RAG pipeline."
   ]
  },
  {
   "cell_type": "code",
   "execution_count": null,
   "id": "67de4c77c29483a7",
   "metadata": {},
   "outputs": [],
   "source": [
    "from langchain_community.embeddings.huggingface import HuggingFaceBgeEmbeddings\n",
    "\n",
    "bge_embeddings = HuggingFaceBgeEmbeddings(\n",
    "    model_name=\"BAAI/bge-small-en\",\n",
    "    model_kwargs={\"device\": \"cpu\" if not USE_GPU else \"cuda:0\"},\n",
    "    encode_kwargs={\"normalize_embeddings\": True}\n",
    ")"
   ]
  },
  {
   "cell_type": "markdown",
   "id": "ec5d15f4",
   "metadata": {},
   "source": [
    "## Vector Store\n",
    "\n",
    "We will use [ChromaDB](https://www.trychroma.com/) to store the embeddings. For easier interaction with the embeddings, we will use the `VectorStore` class which can be found in the `src/vector_store.py` file. The `VectorStore` class provides an interface that combines a specific collection of embeddings with the Langchain VectorStore API. The class allows for easy interaction with the embeddings, including adding documents and performing similarity searches.\n",
    "\n",
    "The embedding of the chunks takes time and resources, so we will use a persistent store to save the embeddings and avoid recomputing them when running the notebook multiple times. A database file with the precomputed embeddings can be downloaded and integrated according to the instructions in the README file.\n",
    "\n",
    "The collection name for the vector store is generated based on the embeddings model and the text splitter used. The collection name is used to identify the specific collection of embeddings in the vector store."
   ]
  },
  {
   "cell_type": "code",
   "execution_count": null,
   "id": "f738ace88dd27a69",
   "metadata": {
    "jupyter": {
     "outputs_hidden": false
    }
   },
   "outputs": [],
   "source": [
    "from src.vector_store import VectorStore\n",
    "\n",
    "\n",
    "def get_vector_store_collection_name(embeddings, text_splitter):\n",
    "    return f\"cleantech-{embeddings.model_name}-{text_splitter.__class__.__name__}_{'dev' if DEV_MODE else 'prod'}\".lower().replace(\n",
    "        \" \", \"_\").replace(\"/\", \"_\").replace(\":\", \"_\").replace(\"-\", \"_\")\n",
    "\n",
    "\n",
    "bge_vector_store = VectorStore(embedding_function=bge_embeddings,\n",
    "                               collection=get_vector_store_collection_name(bge_embeddings, recursive_text_splitter))\n",
    "\n",
    "get_vector_store_collection_name(bge_embeddings, recursive_text_splitter)"
   ]
  },
  {
   "cell_type": "markdown",
   "id": "3f20213c70591f14",
   "metadata": {
    "jupyter": {
     "outputs_hidden": false
    }
   },
   "source": [
    "In the next step we will add the prepared documents from the previous step to the VectorStore. If the collection already exists in the VectorStore, this step is skipped."
   ]
  },
  {
   "cell_type": "code",
   "execution_count": null,
   "id": "62d558939648a829",
   "metadata": {
    "jupyter": {
     "outputs_hidden": false
    }
   },
   "outputs": [],
   "source": [
    "bge_vector_store.add_documents(documents, verbose=True)"
   ]
  },
  {
   "cell_type": "markdown",
   "id": "b2177cd39686a8db",
   "metadata": {
    "jupyter": {
     "outputs_hidden": false
    }
   },
   "source": [
    "After adding the documents to the vector store we can now perform similarity searches on the documents to verify that the interaction with the vector store works as expected."
   ]
  },
  {
   "cell_type": "code",
   "execution_count": null,
   "id": "91a13de926826f7f",
   "metadata": {
    "jupyter": {
     "outputs_hidden": false
    }
   },
   "outputs": [],
   "source": [
    "bge_vector_store.similarity_search_w_scores(\"The company is also aiming to reduce gas flaring?\")"
   ]
  },
  {
   "cell_type": "markdown",
   "id": "6e0856fdcbb28167",
   "metadata": {},
   "source": [
    "The vector store returns a list of documents with their respective similarity scores. The documents are sorted by their similarity scores in descending order. The similarity scores indicate how similar the documents are to the query text. The higher the similarity score, the more similar the document is to the query text."
   ]
  },
  {
   "cell_type": "markdown",
   "id": "7ad87a39c366b0b3",
   "metadata": {},
   "source": [
    "# Baseline Pipeline\n",
    "\n",
    "The baseline pipeline is a first simple implementation of the RAG pipeline. As the name suggests, it serves as the starting point for our experiments and provides a reference for comparison with the subsequent pipelines. The baseline pipeline consists of the following components:\n",
    "\n",
    "- **Embeddings**: We use the BGE embeddings from Hugging Face to embed the documents.\n",
    "- **Retriever**: In the baseline pipeline, we use the default vector retriever from ChromaDB. It returns the top-4 most similar documents based on the cosine similarity.\n",
    "- **LLM Model**: We use the GPT-3.5 model provided on Azure as our LLM model. The model is responsible for generating the answer to the question based on the retrieved documents. The temperature parameter is set to the default of 0.7. "
   ]
  },
  {
   "cell_type": "code",
   "execution_count": null,
   "id": "7bdd2bf51dc298ce",
   "metadata": {},
   "outputs": [],
   "source": [
    "from src.generation import get_llm_model, LLMModel\n",
    "from langchain_core.output_parsers import StrOutputParser\n",
    "from langchain_core.prompts import ChatPromptTemplate\n",
    "from langchain_core.runnables import RunnablePassthrough\n",
    "from langchain_core.runnables import RunnableParallel\n",
    "\n",
    "base_retriever = bge_vector_store.get_retriever()\n",
    "azure_model = get_llm_model(LLMModel.GPT_3_AZURE)"
   ]
  },
  {
   "cell_type": "markdown",
   "id": "cf0e8b5037b1ee44",
   "metadata": {},
   "source": [
    "We will use the following prompt template to generate the chat prompt for the LLM model. The template includes the context and the question to provide the necessary information for the model to generate the answer and is fairly simple."
   ]
  },
  {
   "cell_type": "code",
   "execution_count": null,
   "id": "fcc6ebdf4dab2924",
   "metadata": {
    "jupyter": {
     "outputs_hidden": false
    }
   },
   "outputs": [],
   "source": [
    "base_rag_prompt = \"\"\"\n",
    "Answer the question to your best knowledge when looking at the following context:\n",
    "{context}\n",
    "                \n",
    "Question: {question}\n",
    "\"\"\""
   ]
  },
  {
   "cell_type": "markdown",
   "id": "48a8ef3f2684b442",
   "metadata": {},
   "source": [
    "The `base_rag_chain` is the core of the baseline pipeline. It consists of the following steps:\n",
    "\n",
    "1. **Context Formatting**: The context documents are formatted into a single string to provide the necessary information to the LLM model.\n",
    "2. **Chat Prompt Generation**: The chat prompt is generated using the template defined above.\n",
    "3. **LLM Model Invocation**: The LLM model is invoked to generate the answer based on the context and the question.\n",
    "4. **Output Parsing**: The output from the LLM model is parsed to extract the answer from the response.\n",
    "5. **Answer Assignment**: The answer is assigned to the runnable parallel chain where it is combined with the context and the question. Context and question are also returned for further reference in the evaluation."
   ]
  },
  {
   "cell_type": "code",
   "execution_count": null,
   "id": "83dfe841ed24a7a7",
   "metadata": {
    "jupyter": {
     "outputs_hidden": false
    }
   },
   "outputs": [],
   "source": [
    "def format_docs(docs):\n",
    "    return \"\\n\\n\".join(doc.page_content for doc in docs)\n",
    "\n",
    "\n",
    "base_rag_chain = (\n",
    "        RunnablePassthrough.assign(context=(lambda x: format_docs(x[\"context\"])))\n",
    "        | ChatPromptTemplate.from_template(base_rag_prompt)\n",
    "        | azure_model\n",
    "        | StrOutputParser()\n",
    ")\n",
    "\n",
    "base_rag = RunnableParallel(\n",
    "    {\n",
    "        \"context\": base_retriever,\n",
    "        \"question\": RunnablePassthrough()\n",
    "    }\n",
    ").assign(answer=base_rag_chain)"
   ]
  },
  {
   "cell_type": "markdown",
   "id": "841556a9156fa9a3",
   "metadata": {},
   "source": [
    "The `base_rag` pipeline/chain can now be used to generate answers for questions. We will test the pipeline with a sample question to verify that it works as expected."
   ]
  },
  {
   "cell_type": "code",
   "execution_count": null,
   "id": "f8b1225784152974",
   "metadata": {
    "jupyter": {
     "outputs_hidden": false
    }
   },
   "outputs": [],
   "source": [
    "base_rag.invoke(\"Is the company aiming to reduce gas flaring?\")"
   ]
  },
  {
   "cell_type": "markdown",
   "id": "9a0c9f4f51cdcb2f",
   "metadata": {},
   "source": [
    "# Evaluation Setup\n",
    "\n",
    "In order to compare the performance of different pipelines we need to evaluate them. The evaluation is done with the `ragas` library and classical non-LLM based metrics. \n",
    "\n",
    "`ragas` provides predefined metrics for the evaluation which are described in the [documentation](https://docs.ragas.io/en/stable/concepts/metrics/index.html). \n",
    "\n",
    "Further an overview of the metrics used in the evaluation is provided below:\n",
    "\n",
    "## RAGAS Metrics\n",
    "\n",
    "The `ragas` metrics are LLM-based evaluated metrics where the LLM is used to rate the generated answers and retrieved contexts against labeled ground truths. As LLM are known for their non-deterministic behavior, the metrics should be taken with a grain of salt. Nevertheless, they provide a relatively simple and straightforward way to evaluate the performance.\n",
    "\n",
    "1. [**Answer Correctness**](https://docs.ragas.io/en/stable/concepts/metrics/answer_correctness.html): This metric assesses the accuracy of the generated answer compared to the ground truth. It combines semantic and factual similarities between the answer and ground truth, providing a score ranging from 0 to 1. A higher score indicates that the generated answer closely aligns with the ground truth, reflecting a more correct response.\n",
    "\n",
    "2. [**Context Precision**](https://docs.ragas.io/en/stable/concepts/metrics/context_precision.html): This metric evaluates the relevance of the contexts retrieved by the RAG system in relation to the ground truth. It checks if the relevant items from the ground truth are ranked higher in the retrieved contexts. Scores range from 0 to 1, where higher values suggest better precision and relevance of the retrieved information.\n",
    "\n",
    "3. [**Answer Relevancy**](https://docs.ragas.io/en/stable/concepts/metrics/answer_relevance.html): Focused on the pertinence of the generated answer to the question, this metric scores based on how complete and free from redundant information the answer is. Higher scores indicate more relevant answers. It uses the mean cosine similarity between the original question and artificial questions generated based on the answer.\n",
    "\n",
    "4. [**Answer Semantic Similarity**](https://docs.ragas.io/en/stable/concepts/metrics/semantic_similarity.html): This metric evaluates the semantic resemblance between the generated answer and the ground truth. It uses a cross-encoder model to calculate semantic similarity, with scores between 0 and 1. Higher scores signify a better semantic alignment between the generated answer and the ground truth.\n",
    "\n",
    "5. [**Context Entity Recall**](https://docs.ragas.io/en/stable/concepts/metrics/context_entities_recall.html): This metric measures the recall of entities in the retrieved contexts against those in the ground truths. It is particularly useful in scenarios where factual accuracy and entity coverage are crucial, such as in historical QA or tourism help desks. The score is calculated by comparing the number of entities that overlap between the ground truths and contexts with the total number of entities in the ground truths.\n",
    "\n",
    "## Non-LLM Based Metrics\n",
    "\n",
    "In addition to the RAGAS metrics, we will also use the following metrics to evaluate the performance of the pipelines. They provide further specific insights into the retrieval performance.\n",
    "\n",
    "1. **Reciprocal Rank**: The reciprocal rank is a metric that evaluates the ranking of the correct answer in the list of retrieved answers. It is calculated as the reciprocal of the rank of the correct answer. A higher reciprocal rank indicates that the correct answer is ranked higher in the list of retrieved answers.\n",
    "2. **Hit@K**: The Hit@K metric evaluates whether the correct answer is present in the top K retrieved answers. It is calculated as a binary value, where 1 indicates that the correct answer is present in the top K retrieved answers, and 0 indicates otherwise. A higher Hit@K value indicates that the correct answer is more likely to be found in the top K retrieved answers."
   ]
  },
  {
   "cell_type": "markdown",
   "id": "76154c2e40cbc1cb",
   "metadata": {},
   "source": [
    "## Evaluation Data\n",
    "\n",
    "The evaluation data is part of the datasets provided by the Mini-Challenge task [from Kaggle](https://www.kaggle.com/datasets/jannalipenkova/cleantech-media-dataset). The data consists of questions and a relevant chunk for each question.\n",
    "\n",
    "To evaluate the RAG system (and the following experiments) it is necessary to preprocess the evaluation dataset. For that purpose an `EvaluationPreprocessor` was built which ensures that the chunks of text extracted from a dataset during an evaluation are indeed the most relevant or closest matches to a known dataset. This is critical as we need to see if the RAG's outputs and evaluation's expected outputs (ground truth) match using the listed metrics. To calculate \"similarity\" or find matches the `EvaluationPreprocessor` calculates a similarity based on **fuzzy string matching**."
   ]
  },
  {
   "cell_type": "code",
   "execution_count": null,
   "id": "ad1d73f0cad6c2a5",
   "metadata": {
    "jupyter": {
     "outputs_hidden": false
    }
   },
   "outputs": [],
   "source": [
    "df_eval = pd.read_csv(paths['df_eval_path'])\n",
    "df_eval.head()"
   ]
  },
  {
   "cell_type": "code",
   "execution_count": null,
   "id": "ea1247f182f35d3a",
   "metadata": {},
   "outputs": [],
   "source": [
    "from src.preprocessing import EvaluationPreprocessor\n",
    "\n",
    "if os.path.exists(paths['df_eval_preprocessed_path']) and USE_CACHE:\n",
    "    df_eval = pd.read_csv(paths['df_eval_preprocessed_path'])\n",
    "else:\n",
    "    df_eval = EvaluationPreprocessor(df, df_eval).preprocess()\n",
    "    df_eval.to_csv(paths['df_eval_preprocessed_path'], index=False)\n",
    "\n",
    "df_eval.head()"
   ]
  },
  {
   "cell_type": "markdown",
   "id": "a0d2aa74",
   "metadata": {},
   "source": [
    "After then `EvaluationPreprocessor` calculates the matches it adds the best score to each evaluation sample. The `best_match_id` represents the Id of the chunk which yielded the `best_match_score`, so this chunk seems to be the best matching chunk, according to the fuzzy matching, and should therefore be the chunk containing the information to answer the question. "
   ]
  },
  {
   "cell_type": "markdown",
   "id": "34b24b71",
   "metadata": {},
   "source": [
    "### Plausibility Checks\n",
    "To see if the Baseline RAG Pipeline delivers *plausible* answers based on **handpicked questions** from the evaluation set the following lines will invoke the `base_rag` chain and ask these questions."
   ]
  },
  {
   "cell_type": "code",
   "execution_count": null,
   "id": "ca3d58ef4f64b764",
   "metadata": {},
   "outputs": [],
   "source": [
    "HANDPICKED_QUESTIONS = [\n",
    "    \"Why does melting ice contribute to global warming?\",\n",
    "    \"In 2021, what were the top 3 states in the US in terms of total solar power generating capacity?\",\n",
    "    \"What is the EU’s Green Deal Industrial Plan?\"\n",
    "]\n",
    "\n",
    "\n",
    "def ask_handpicked_questions(rag_chain, questions=HANDPICKED_QUESTIONS):\n",
    "    answers = {question: rag_chain.invoke(question) for question in questions}\n",
    "\n",
    "    for question, answer in answers.items():\n",
    "        print(f\"Question: {question}\")\n",
    "        print(f\"Answer: {answer['answer']}\")\n",
    "        print(\"\\n\")\n",
    "\n",
    "\n",
    "ask_handpicked_questions(base_rag)"
   ]
  },
  {
   "cell_type": "markdown",
   "id": "de98c20e",
   "metadata": {},
   "source": [
    "The Plausibility Check shows that the base RAG system indeed yields answers that are not out of the ordinary.\n",
    "**Note**: Through the LLM's non-deterministic nature it is possible that each run shows slightly different answers."
   ]
  },
  {
   "cell_type": "code",
   "execution_count": null,
   "id": "f5bccbe256adad5d",
   "metadata": {
    "jupyter": {
     "outputs_hidden": false
    }
   },
   "outputs": [],
   "source": [
    "from src.evaluation import Evaluator\n",
    "\n",
    "base_evaluator = Evaluator(name=\"Baseline\",\n",
    "                           cache_results=USE_CACHE,\n",
    "                           rag_chain=base_rag,\n",
    "                           llm_model=azure_model,\n",
    "                           embeddings=bge_embeddings)\n",
    "\n",
    "base_evaluator.evaluate(df_eval)\n",
    "base_evaluator.plot_summary()"
   ]
  },
  {
   "cell_type": "markdown",
   "id": "9b747ab9",
   "metadata": {},
   "source": [
    "The results of the RAGAS metrics show quite large differences for the Baseline RAG pipeline. The largest spread can be observed for the metrics `answer_correctness` and `answer_relevancy`. The Baseline pipeline seems to score quite low in **Context Entity Recall** with over half of the evaluation results being below 30%. The more stable metrics of **Answer Similarity** and **Context Precision** show quite large scores, ranging from just under 80% up to 99% with one outlier.\n",
    "\n",
    "The Baseline model seems to generally find the relevant chunks and seems to answer the questions semantically similar to the ground truths in the evaluation set. However, the low context entity recall indicates that the given answers don't exactly align well with the ground truths. We expect this to be a result of the LLM trying to come up with the correct answer without having the correct chunks of information at hand.\n",
    "\n",
    "Additionally the Reciprocal Rank (`rr`) and Hit@2 don't exactly show satisfyingly high scores. They both settle at around 50% (mean) so the retrieved chunks seem to not be consistently retrieved correctly."
   ]
  },
  {
   "cell_type": "code",
   "execution_count": null,
   "id": "2b9efc31f76bc6b8",
   "metadata": {},
   "outputs": [],
   "source": [
    "base_evaluator.get_summary()"
   ]
  },
  {
   "cell_type": "markdown",
   "id": "c7df844c",
   "metadata": {},
   "source": [
    "When looking at the magnitude of the standard deviation of both the reciprocal rank and the hit@2 we can get a sense of their wide distributions. This observation indicates that the documents are in fact not consistent and vary greatly in evaluation."
   ]
  },
  {
   "cell_type": "markdown",
   "id": "e8641b16",
   "metadata": {},
   "source": [
    "# Experiment 1: Looking at the impact of context and its chunking strategy\n",
    "\n",
    "The impact of chunking on the retrieval and generation performance is a crucial aspect of the RAG pipeline. The chunking strategy determines how the text is divided into smaller sections for processing and embedding. The choice of chunking strategy can significantly influence the granularity, relevance, and efficiency of the RAG system. Too big chunks might lead to irrelevant information being included in the retrieval and generation process, while too small chunks might result in fragmented information and loss of context.\n",
    "\n",
    "Given the baseline pipeline, which uses the recursive character chunking strategy with a chunk size of 1000 characters, we will now change this strategy to use smaller chunks of 200 characters each. The goal is to evaluate the impact of the chunking strategy on the retrieval and generation performance.\n",
    "\n",
    "When using smaller chunks we expect the following benefits:\n",
    "\n",
    "- **Increased granularity**: Smaller chunks allow for more precise retrieval and better matching of the query.\n",
    "- **Improved Relevance of Retrieved Content**: With smaller chunks, the system can more accurately match the query with specific parts of the documents that are most relevant. This could enhance the relevance of the content fed into the generation module of the RAG system, leading to more accurate and contextually appropriate responses.\n",
    "- **Reduced Noise**: Smaller chunks can help filter out irrelevant information and focus on the most critical parts of the text. This could improve the quality of the retrieved content and the generated answers.\n",
    "\n",
    "However, using smaller chunks might also introduce some challenges:\n",
    "- **Increased Processing Overhead**: Smaller chunks require more processing and embedding, which could lead to higher computational costs and longer processing times.\n",
    "- **Loss of Context**: Very small chunks might lose the context of the text, making it harder to understand the meaning and relevance of the content.\n",
    "- **Fragmentation**: Overly small chunks might fragment the text, making it difficult to piece together the information and generate coherent answers."
   ]
  },
  {
   "cell_type": "code",
   "execution_count": null,
   "id": "a5ecdc9c7acb1455",
   "metadata": {},
   "outputs": [],
   "source": [
    "recursive_text_splitter_200 = RecursiveCharacterTextSplitter(\n",
    "    chunk_size=200,\n",
    "    chunk_overlap=0,\n",
    "    length_function=len,\n",
    "    is_separator_regex=False,\n",
    ")\n",
    "recursive_200_documents = create_documents(df, recursive_text_splitter_200)"
   ]
  },
  {
   "cell_type": "code",
   "execution_count": null,
   "id": "f3f1bb7e0e94a1ab",
   "metadata": {},
   "outputs": [],
   "source": [
    "bge_200_vector_store = VectorStore(embedding_function=bge_embeddings,\n",
    "                                   collection=get_vector_store_collection_name(bge_embeddings,\n",
    "                                                                               recursive_text_splitter_200).replace(\n",
    "                                       \"recursivecharactertextsplitter\", \"recursive200\"))\n",
    "base_200_retriever = bge_200_vector_store.get_retriever()"
   ]
  },
  {
   "cell_type": "code",
   "execution_count": null,
   "id": "f8cac4a3",
   "metadata": {},
   "outputs": [],
   "source": [
    "bge_200_vector_store.add_documents(recursive_200_documents, verbose=True, batch_size=128)"
   ]
  },
  {
   "cell_type": "code",
   "execution_count": null,
   "id": "03a1d3e3",
   "metadata": {},
   "outputs": [],
   "source": [
    "base_200_rag = RunnableParallel(\n",
    "    {\n",
    "        \"context\": base_200_retriever,\n",
    "        \"question\": RunnablePassthrough()\n",
    "    }\n",
    ").assign(answer=base_rag_chain)\n",
    "\n",
    "base_200_rag.invoke(\"Is the company aiming to reduce gas flaring?\")"
   ]
  },
  {
   "cell_type": "markdown",
   "id": "6e2d0f9c3c8bb331",
   "metadata": {},
   "source": [
    "### Results"
   ]
  },
  {
   "cell_type": "code",
   "execution_count": null,
   "id": "40e01e49",
   "metadata": {},
   "outputs": [],
   "source": [
    "base_200_evaluator = Evaluator(name=\"Baseline 200\",\n",
    "                               cache_results=USE_CACHE,\n",
    "                               rag_chain=base_200_rag,\n",
    "                               llm_model=azure_model,\n",
    "                               embeddings=bge_embeddings)\n",
    "\n",
    "base_200_evaluator.evaluate(df_eval)\n",
    "base_200_evaluator.plot_summary()"
   ]
  },
  {
   "cell_type": "markdown",
   "id": "3c0ace3d",
   "metadata": {},
   "source": [
    "With the changes in chunking we can see a major improvement for the **Answer Relevancy** metric. The new chunking strategy of chunking shorter sequences clearly improved the way the Baseline RAG can process important information. A struggle in the inconsistency of the relevancy seemingly was that there was too much noise around the chunks in the Baseline approach.\n",
    "\n",
    "An expected tradeoff therefore is that we get a little more spread in regards to the **Context Precision**. The increased spread might be an effect of the retriever falsely gathering chunks that contain similar wording but not the correct semantic meaning. And with that observation we can also expect the Reciprocal Rank and Hit@2 **not to improve** greatly since we add more options for the retriever to gather wrong while reducing noise within the chunks."
   ]
  },
  {
   "cell_type": "code",
   "execution_count": null,
   "id": "bfb50939752da50f",
   "metadata": {},
   "outputs": [],
   "source": [
    "base_200_evaluator.get_summary()"
   ]
  },
  {
   "cell_type": "code",
   "execution_count": null,
   "id": "9131a9dccdbd3ebf",
   "metadata": {},
   "outputs": [],
   "source": [
    "ask_handpicked_questions(base_200_rag)"
   ]
  },
  {
   "cell_type": "markdown",
   "id": "c5bc2f07",
   "metadata": {},
   "source": [
    "The plausibility check shows the measured improvement: The first question of \"Why does melting ice contribute to global warming?\" now hits a relevant context and the LLM answers based on its information. The previous plausiblity check for the baseline system showed that the LLM did not have relevant context with which it could answer this question.\n",
    "\n",
    "The second and third question shows no difference; the LLM still answers the questions and has relevant context."
   ]
  },
  {
   "cell_type": "markdown",
   "id": "ef146050e907e796",
   "metadata": {},
   "source": [
    "### Conclusion\n",
    "Overall the hypotheses stated at the beginning of this experiment seem to align with the results we could gather during evaluation. The slightly \"worse\" Context Precision is a tradeoff that didn't show a drastically negative impact on the system, therefore we can say that the shorter chunks do have a positive impact."
   ]
  },
  {
   "cell_type": "markdown",
   "id": "f4206849bf946549",
   "metadata": {
    "jupyter": {
     "outputs_hidden": false
    }
   },
   "source": [
    "# Experiment 2: Using a Multi-Query Retrieval Strategy\n",
    "\n",
    "At the heart of the RAG is the retriever, which is responsible for finding the most relevant documents for a given question. The baseline RAG uses the vector retriever to find the most relevant document, using **cosine-similarity**. \n",
    "\n",
    "We will now experiment with a **multi-query retrieval strategy**. The idea is to use multiple queries to retrieve a multitude of documents and take a unique union of the results. This way we can increase the diversity of the documents and potentially improve the quality of the generated answer. \n",
    "\n",
    "![image.png](./notebooks/images/multiqueryretrieval.png)\n",
    "\n",
    "For this we will use the `MultiQueryRetriever` from langchain."
   ]
  },
  {
   "cell_type": "code",
   "execution_count": null,
   "id": "569145c02e8b6f23",
   "metadata": {
    "jupyter": {
     "outputs_hidden": false
    }
   },
   "outputs": [],
   "source": [
    "from langchain.retrievers import MultiQueryRetriever\n",
    "\n",
    "mqr_retriever = MultiQueryRetriever.from_llm(\n",
    "    retriever=base_retriever, llm=azure_model\n",
    ")"
   ]
  },
  {
   "cell_type": "code",
   "execution_count": null,
   "id": "eeeaa115ecd44569",
   "metadata": {
    "jupyter": {
     "outputs_hidden": false
    }
   },
   "outputs": [],
   "source": [
    "## using the langchain template for the prompt\n",
    "template = \"\"\"You are an AI language model assistant. Your task is to generate five \n",
    "different versions of the given user question to retrieve relevant documents from a vector \n",
    "database. By generating multiple perspectives on the user question, your goal is to help\n",
    "the user overcome some of the limitations of the distance-based similarity search. \n",
    "Provide these alternative questions separated by newlines. Original question: {question}\"\"\"\n",
    "prompt_perspectives = ChatPromptTemplate.from_template(template)\n",
    "\n",
    "generate_queries = (\n",
    "        prompt_perspectives\n",
    "        | azure_model\n",
    "        | StrOutputParser()\n",
    "        | (lambda x: x.split(\"\\n\"))\n",
    ")"
   ]
  },
  {
   "cell_type": "code",
   "execution_count": null,
   "id": "6515b7c5f45f3e2f",
   "metadata": {
    "jupyter": {
     "outputs_hidden": false
    }
   },
   "outputs": [],
   "source": [
    "from langchain.load import dumps, loads\n",
    "\n",
    "\n",
    "def get_unique_union(union_docs: list[list]):\n",
    "    \"\"\" Unique union of retrieved docs \"\"\"\n",
    "    flattened_docs = [dumps(doc) for sublist in union_docs for doc in sublist]\n",
    "    unique_docs = list(set(flattened_docs))\n",
    "    return [loads(doc) for doc in unique_docs]\n",
    "\n",
    "\n",
    "mqr_retrieval_chain = (\n",
    "        generate_queries\n",
    "        | mqr_retriever.map()\n",
    "        | get_unique_union\n",
    ")"
   ]
  },
  {
   "cell_type": "code",
   "execution_count": null,
   "id": "4ea2b6ac1c956550",
   "metadata": {
    "jupyter": {
     "outputs_hidden": false
    }
   },
   "outputs": [],
   "source": [
    "mqr_rag = RunnableParallel(\n",
    "    {\n",
    "        \"context\": mqr_retrieval_chain,\n",
    "        \"question\": RunnablePassthrough()\n",
    "    }\n",
    ").assign(answer=base_rag_chain)"
   ]
  },
  {
   "cell_type": "code",
   "execution_count": null,
   "id": "eaece981dfdcbbd",
   "metadata": {
    "jupyter": {
     "outputs_hidden": false
    }
   },
   "outputs": [],
   "source": [
    "mqr_rag.invoke(\"Is the company aiming to reduce gas flaring?\")"
   ]
  },
  {
   "cell_type": "markdown",
   "id": "9715fb74cf4f017b",
   "metadata": {},
   "source": [
    "### Results"
   ]
  },
  {
   "cell_type": "code",
   "execution_count": null,
   "id": "a0cc9986273960c1",
   "metadata": {
    "jupyter": {
     "outputs_hidden": false
    }
   },
   "outputs": [],
   "source": [
    "mqr_evaluator = Evaluator(name=\"Multi-Query Retrieval\",\n",
    "                          cache_results=USE_CACHE,\n",
    "                          rag_chain=mqr_rag,\n",
    "                          llm_model=azure_model,\n",
    "                          embeddings=bge_embeddings)\n",
    "\n",
    "mqr_evaluator.evaluate(df_eval)\n",
    "mqr_evaluator.plot_summary()"
   ]
  },
  {
   "cell_type": "code",
   "execution_count": null,
   "id": "aba9b0bf23e95934",
   "metadata": {},
   "outputs": [],
   "source": [
    "mqr_evaluator.get_summary()"
   ]
  },
  {
   "cell_type": "code",
   "execution_count": null,
   "id": "ab61d31fb9ba7195",
   "metadata": {},
   "outputs": [],
   "source": [
    "ask_handpicked_questions(mqr_rag)"
   ]
  },
  {
   "cell_type": "markdown",
   "id": "2937e82eda96376a",
   "metadata": {},
   "source": [
    "### Conclusion"
   ]
  },
  {
   "cell_type": "markdown",
   "id": "fc174993270d2626",
   "metadata": {},
   "source": [
    "# Experiment 3: Using a Step Back Strategy\n",
    "\n",
    "![image.png](./notebooks/images/stepback.png)"
   ]
  },
  {
   "cell_type": "code",
   "execution_count": null,
   "id": "9ec7b0badfb52e9c",
   "metadata": {},
   "outputs": [],
   "source": [
    "# Few Shot Examples\n",
    "from langchain_core.prompts import ChatPromptTemplate, FewShotChatMessagePromptTemplate\n",
    "\n",
    "examples = [\n",
    "    {\n",
    "        \"input\": \"Could the members of The Police perform lawful arrests?\",\n",
    "        \"output\": \"what can the members of The Police do?\",\n",
    "    },\n",
    "    {\n",
    "        \"input\": \"Jan Sindel’s was born in what country?\",\n",
    "        \"output\": \"what is Jan Sindel’s personal history?\",\n",
    "    },\n",
    "]\n",
    "\n",
    "example_prompt = ChatPromptTemplate.from_messages(\n",
    "    [\n",
    "        (\"human\", \"{input}\"),\n",
    "        (\"ai\", \"{output}\"),\n",
    "    ]\n",
    ")\n",
    "\n",
    "few_shot_prompt = FewShotChatMessagePromptTemplate(\n",
    "    example_prompt=example_prompt,\n",
    "    examples=examples,\n",
    ")\n",
    "\n",
    "prompt = ChatPromptTemplate.from_messages(\n",
    "    [\n",
    "        (\n",
    "            \"system\",\n",
    "            \"\"\"You are an expert at world knowledge. Your task is to step back and paraphrase a question to a more generic step-back question, which is easier to answer. Here are a few examples:\"\"\",\n",
    "        ),\n",
    "        few_shot_prompt,\n",
    "        (\"user\", \"{question}\"),\n",
    "    ]\n",
    ")\n",
    "generate_queries_step_back = (prompt | azure_model | StrOutputParser())"
   ]
  },
  {
   "cell_type": "code",
   "execution_count": null,
   "id": "30ad54af51151f7c",
   "metadata": {},
   "outputs": [],
   "source": [
    "from langchain_core.runnables import RunnableLambda\n",
    "\n",
    "response_prompt_template = \"\"\"\n",
    "You are an expert of world knowledge. I am going to ask you a question. Your response should be comprehensive and not contradicted with the following context if they are relevant. Otherwise, ignore them if they are not relevant.\n",
    "\n",
    "# {context}\n",
    "\n",
    "# Original Question: {question}\n",
    "# Answer:\n",
    "\"\"\"\n",
    "response_prompt = ChatPromptTemplate.from_template(response_prompt_template)\n",
    "\n",
    "\n",
    "def get_unique_documents(documents):\n",
    "    \"\"\"\n",
    "    Combines and filters documents from 'normal_context' and 'step_back_context' to ensure uniqueness.\n",
    "\n",
    "    This function merges a list of documents, eliminating any duplicates based on the 'page_content' attribute.\n",
    "    It assumes that each document in the lists is an object with a 'page_content' attribute that contains the unique content of the document.\n",
    "\n",
    "    Parameters:\n",
    "    - documents (list): A list of Langchain document objects.\n",
    "      Each key corresponds to a list of document objects with a 'page_content' attribute.\n",
    "\n",
    "    Returns:\n",
    "    - list: A list of unique document objects based on their 'page_content'.\n",
    "    \"\"\"\n",
    "    seen_content = set()\n",
    "    combined_docs = []\n",
    "    for doc in documents:\n",
    "        if doc.page_content not in seen_content:\n",
    "            combined_docs.append(doc)\n",
    "            seen_content.add(doc.page_content)\n",
    "    return combined_docs\n",
    "\n",
    "\n",
    "step_back_retrieval_chain = (\n",
    "    {\n",
    "        \"normal_context\": RunnableLambda(lambda x: x) | base_retriever,\n",
    "        \"step_back_context\": generate_queries_step_back | base_retriever,\n",
    "    }\n",
    ")\n",
    "\n",
    "step_back_answer_chain = (\n",
    "        response_prompt\n",
    "        | azure_model\n",
    "        | StrOutputParser()\n",
    ")\n",
    "step_back_rag = RunnableParallel(\n",
    "    {\n",
    "        \"context\": step_back_retrieval_chain | RunnableLambda(\n",
    "            lambda x: get_unique_documents(x[\"normal_context\"] + x[\"step_back_context\"])),\n",
    "        \"question\": RunnablePassthrough()\n",
    "    }\n",
    ").assign(answer=step_back_answer_chain)"
   ]
  },
  {
   "cell_type": "code",
   "execution_count": null,
   "id": "32170d6f70b9df78",
   "metadata": {},
   "outputs": [],
   "source": [
    "step_back_rag.invoke(\"What is the company's goal in reducing gas flaring?\")"
   ]
  },
  {
   "cell_type": "markdown",
   "id": "b8b051b373ef9e2a",
   "metadata": {},
   "source": [
    "### Results"
   ]
  },
  {
   "cell_type": "code",
   "execution_count": null,
   "id": "ea96e9bf79fe6cbb",
   "metadata": {},
   "outputs": [],
   "source": [
    "step_back_evaluator = Evaluator(name=\"Step Back\",\n",
    "                                cache_results=USE_CACHE,\n",
    "                                rag_chain=step_back_rag,\n",
    "                                llm_model=azure_model,\n",
    "                                embeddings=bge_embeddings)\n",
    "\n",
    "step_back_evaluator.evaluate(df_eval)\n",
    "step_back_evaluator.plot_summary()"
   ]
  },
  {
   "cell_type": "code",
   "execution_count": null,
   "id": "66c7c50be57ff56e",
   "metadata": {},
   "outputs": [],
   "source": [
    "step_back_evaluator.get_summary()"
   ]
  },
  {
   "cell_type": "code",
   "execution_count": null,
   "id": "b3a7a917f6fb3642",
   "metadata": {},
   "outputs": [],
   "source": [
    "ask_handpicked_questions(step_back_rag)"
   ]
  },
  {
   "cell_type": "markdown",
   "id": "68246f1ec379f675",
   "metadata": {},
   "source": [
    "### Conclusion"
   ]
  },
  {
   "cell_type": "markdown",
   "id": "6ea2d12a16f7542c",
   "metadata": {},
   "source": [
    "# Experiment 4: HyDE approach\n",
    "\n",
    "The HyDE approach is a novel method that combines human and AI expertise to generate high-quality answers. Originally proposed by Gao et al. (2022) in the paper [\"Precise Zero-Shot Dense Retrieval without Relevance Label\"](https://arxiv.org/abs/2212.10496), the HyDE pipeline leverages the innovative concept of Hypothetical Document Embeddings (HyDE).\n",
    "\n",
    "In the HyDE approach, an instruction-following language model, such as our Azure Model using the right prompting, is used to generate a hypothetical document in response to a query. This document is designed to capture the essential relevance patterns from the input question potentially containing inaccuracies or hypothetical details. Following this, the document is used to retrieve relevant documents from the vector store, which are then passed to the LLM model for answer generation.\n",
    "\n",
    "This two-step process allows the HyDE model to ground the generated hypothetical content in actual data, effectively filtering out incorrect or irrelevant details through the embedding's bottleneck.\n",
    "\n",
    "![image.png](./notebooks/images/hyde.png)\n",
    "\n",
    "The graphic might falsely suggest that the hypothetical document will be embedded but it is merely used to query during the retrieval in inference-time. But the illustration shows the hypothesis that an LLM-generated hypothetical document may already be closer to the relevant chunks in the embedding space as it is much richer with relevant information that the original input question might not capture."
   ]
  },
  {
   "cell_type": "code",
   "execution_count": null,
   "id": "80663bc00c155ead",
   "metadata": {},
   "outputs": [],
   "source": [
    "from langchain_core.runnables import RunnablePassthrough\n",
    "from langchain_core.prompts import ChatPromptTemplate\n",
    "from langchain_core.output_parsers import StrOutputParser\n",
    "\n",
    "system = \"\"\"You are an expert about the Clean Technology Sector.\n",
    "            Answer the user question as best you can. Answer as though you were writing a tutorial that addressed the user question.\"\"\"\n",
    "\n",
    "hyde_prompt = ChatPromptTemplate.from_messages(\n",
    "    [\n",
    "        (\"system\", system),\n",
    "        (\"human\", \"{question}\"),\n",
    "    ]\n",
    ")\n",
    "\n",
    "gen_hypothetical_doc = (\n",
    "        hyde_prompt\n",
    "        | azure_model\n",
    "        | StrOutputParser()\n",
    ")"
   ]
  },
  {
   "cell_type": "code",
   "execution_count": null,
   "id": "bb68b566d139621",
   "metadata": {},
   "outputs": [],
   "source": [
    "hyde_retrieval_chain = (gen_hypothetical_doc\n",
    "                        | base_retriever\n",
    "                        )\n",
    "\n",
    "hyde_rag = RunnableParallel(\n",
    "    {\n",
    "        \"question\": RunnablePassthrough(),\n",
    "        \"context\": hyde_retrieval_chain\n",
    "    }\n",
    ").assign(answer=base_rag_chain)\n",
    "\n",
    "hyde_rag.invoke(\"What is the company's goal in reducing gas flaring?\")"
   ]
  },
  {
   "cell_type": "markdown",
   "id": "694c6d8b9dc0d928",
   "metadata": {},
   "source": [
    "### Results"
   ]
  },
  {
   "cell_type": "code",
   "execution_count": null,
   "id": "4597fc4f935fc225",
   "metadata": {},
   "outputs": [],
   "source": [
    "hyde_evaluator = Evaluator(name=\"HyDE\",\n",
    "                           cache_results=USE_CACHE,\n",
    "                           rag_chain=hyde_rag,\n",
    "                           llm_model=azure_model,\n",
    "                           embeddings=bge_embeddings)\n",
    "\n",
    "hyde_evaluator.evaluate(df_eval)\n",
    "hyde_evaluator.plot_summary()"
   ]
  },
  {
   "cell_type": "code",
   "execution_count": null,
   "id": "541ebb5a4a352936",
   "metadata": {},
   "outputs": [],
   "source": [
    "hyde_evaluator.get_summary()"
   ]
  },
  {
   "cell_type": "code",
   "execution_count": null,
   "id": "4cf672dc18f246cf",
   "metadata": {},
   "outputs": [],
   "source": [
    "ask_handpicked_questions(hyde_rag)"
   ]
  },
  {
   "cell_type": "markdown",
   "id": "e5ec46a6c36498df",
   "metadata": {},
   "source": [
    "### Conclusion"
   ]
  },
  {
   "cell_type": "markdown",
   "id": "5766c47eedf64f8a",
   "metadata": {},
   "source": [
    "# Experiment 5: Contextual Compression\n",
    "Contextual Compression addresses the challenge in information retrieval of optimizing how relevant information is extracted from large datasets or documents. The relevant information for some specific query may well be buried in a larger chunk with surrounding text that isn't really relevant to the input question. We hypothesize that this fact will lead to a poorer performance of of the RAG system as the LLM will have much more information on its hand but will have a hard time attending the relevant part of the retrieved document because it contains a lot of noise. \n",
    "\n",
    "Contextual Compression however attempts to solve this issue by first compressing the retrieved documents to their \"crucial parts\" that actually contain the context-relevant information before using them to generate an answer. The `ContextualCompressionRetriever` will not only compress the contents of each document but also remove or \"compress\" entire documents that may show to not be valuable in their context."
   ]
  },
  {
   "cell_type": "code",
   "execution_count": null,
   "id": "3211256fbf1d5965",
   "metadata": {},
   "outputs": [],
   "source": [
    "from langchain.retrievers import ContextualCompressionRetriever\n",
    "from langchain.retrievers.document_compressors import LLMChainExtractor\n",
    "\n",
    "chain_extractor_compressor = LLMChainExtractor.from_llm(azure_model)\n",
    "compression_retriever = ContextualCompressionRetriever(\n",
    "    base_compressor=chain_extractor_compressor, base_retriever=base_retriever\n",
    ")\n",
    "\n",
    "base_rag_chain_compression = (\n",
    "        RunnablePassthrough.assign(context=(lambda x: format_docs(x[\"context\"])))\n",
    "        | ChatPromptTemplate.from_template(base_rag_prompt)\n",
    "        | azure_model\n",
    "        | StrOutputParser()\n",
    ")\n",
    "\n",
    "base_rag_compression = RunnableParallel(\n",
    "    {\n",
    "        \"context\": compression_retriever,\n",
    "        \"question\": RunnablePassthrough()\n",
    "    }\n",
    ").assign(answer=base_rag_chain_compression)\n",
    "\n",
    "base_rag_compression.invoke(\"Is the company aiming to reduce gas flaring?\")"
   ]
  },
  {
   "cell_type": "markdown",
   "id": "cb59b2663246abd5",
   "metadata": {},
   "source": [
    "### Results"
   ]
  },
  {
   "cell_type": "code",
   "execution_count": null,
   "id": "c20331fff630242f",
   "metadata": {},
   "outputs": [],
   "source": [
    "base_compression_evaluator = Evaluator(name=\"Contextual Compression\",\n",
    "                                       cache_results=USE_CACHE,\n",
    "                                       rag_chain=base_rag_compression,\n",
    "                                       llm_model=azure_model,\n",
    "                                       embeddings=bge_embeddings)\n",
    "\n",
    "base_compression_evaluator.evaluate(df_eval)\n",
    "base_compression_evaluator.plot_summary()"
   ]
  },
  {
   "cell_type": "code",
   "execution_count": null,
   "id": "fcb3cc1b6da48ad1",
   "metadata": {},
   "outputs": [],
   "source": [
    "base_compression_evaluator.get_summary()"
   ]
  },
  {
   "cell_type": "code",
   "execution_count": null,
   "id": "ecfc1e898ab40aee",
   "metadata": {},
   "outputs": [],
   "source": [
    "base_evaluator.get_summary()"
   ]
  },
  {
   "cell_type": "code",
   "execution_count": null,
   "id": "9d7f40be0c639cad",
   "metadata": {},
   "outputs": [],
   "source": [
    "ask_handpicked_questions(base_rag_compression)"
   ]
  },
  {
   "cell_type": "markdown",
   "id": "199dd848880f487b",
   "metadata": {},
   "source": [
    "### Conclusion"
   ]
  },
  {
   "cell_type": "markdown",
   "id": "4839a0ea3c8ac46e",
   "metadata": {},
   "source": [
    "# Overall Comparison\n",
    "\n",
    "In this section, we will compare the performance of the different pipelines based on the evaluation metrics. The comparison will provide insights into the effectiveness of each pipeline in generating accurate and relevant answers to the questions. The evaluation metrics include both LLM-based metrics and non-LLM-based metrics to provide a comprehensive assessment of the pipelines' performance."
   ]
  },
  {
   "cell_type": "code",
   "execution_count": null,
   "id": "2192d1a0bf35571d",
   "metadata": {},
   "outputs": [],
   "source": [
    "def combine_evaluator_results(evaluators):\n",
    "    \"\"\"\n",
    "    Combine evaluation results from multiple evaluators into a single DataFrame.\n",
    "\n",
    "    Args:\n",
    "    evaluators (list of Evaluator): A list containing Evaluators.\n",
    "\n",
    "    Returns:\n",
    "    pd.DataFrame: A combined DataFrame containing all evaluation results with evaluator names.\n",
    "\n",
    "    Raises:\n",
    "    ValueError: If any evaluator's DataFrame is missing required columns or is None.\n",
    "    \"\"\"\n",
    "    combined_data = []\n",
    "\n",
    "    for evaluator in evaluators:\n",
    "        if evaluator.eval_results is None:\n",
    "            raise ValueError(f\"No evaluation results available for {evaluator.name}.\")\n",
    "\n",
    "        evaluator.eval_results['Evaluator'] = evaluator.name  # Add a column for the evaluator's name\n",
    "        combined_data.append(evaluator.eval_results)\n",
    "\n",
    "    final_df = pd.concat(combined_data, ignore_index=True)\n",
    "\n",
    "    new_columns = {\n",
    "        'answer_correctness': 'Answer Correctness',\n",
    "        'answer_relevancy': 'Answer Relevancy',\n",
    "        'answer_similarity': 'Answer Similarity',\n",
    "        'context_precision': 'Context Precision',\n",
    "        'context_entity_recall': 'Context Entity Recall',\n",
    "        'rr': 'Reciprocal Rank',\n",
    "        'hit@2': 'Hit@2'\n",
    "    }\n",
    "    final_df = final_df.rename(columns=new_columns)\n",
    "    return final_df\n",
    "\n",
    "\n",
    "evaluators = [base_evaluator,\n",
    "              base_200_evaluator,\n",
    "              mqr_evaluator,\n",
    "              step_back_evaluator,\n",
    "              hyde_evaluator,\n",
    "              base_compression_evaluator]\n",
    "\n",
    "combined_results = combine_evaluator_results(evaluators)"
   ]
  },
  {
   "cell_type": "markdown",
   "id": "537ae93d00b280b4",
   "metadata": {},
   "source": [
    "## Comparative Evaluation Results"
   ]
  },
  {
   "cell_type": "code",
   "execution_count": null,
   "id": "8a9b0574aa5aff8c",
   "metadata": {},
   "outputs": [],
   "source": [
    "import seaborn as sns\n",
    "import matplotlib.pyplot as plt\n",
    "\n",
    "\n",
    "def plot_evaluation_comparative_results(data, use_median=False, err_bars=True):\n",
    "    sns.set(style=\"whitegrid\")\n",
    "\n",
    "    columns_to_plot_bar = ['Answer Correctness', 'Answer Relevancy', 'Answer Similarity',\n",
    "                           'Context Precision', 'Context Entity Recall', 'Reciprocal Rank', 'Hit@2']\n",
    "\n",
    "    if use_median:\n",
    "        agg_method = 'median'\n",
    "        stats_df = (data[columns_to_plot_bar + ['Evaluator']]\n",
    "                    .groupby('Evaluator')\n",
    "                    .agg(['median', 'std'])\n",
    "                    .stack(level=0, future_stack=True)\n",
    "                    .reset_index())\n",
    "        value_col = 'median'\n",
    "    else:\n",
    "        agg_method = 'mean'\n",
    "        stats_df = (data[columns_to_plot_bar + ['Evaluator']]\n",
    "                    .groupby('Evaluator')\n",
    "                    .agg(['mean', 'std'])\n",
    "                    .stack(level=0, future_stack=True)\n",
    "                    .reset_index())\n",
    "        value_col = 'mean'\n",
    "\n",
    "    stats_df.columns = ['Evaluator', 'Metric', value_col, 'STD']\n",
    "\n",
    "    plt.figure(figsize=(14, 8))\n",
    "    bars = sns.barplot(x='Metric', y=value_col, hue='Evaluator', data=stats_df, palette='Set2', capsize=.2)\n",
    "\n",
    "    if err_bars:\n",
    "        for bar, val, std in zip(bars.patches, stats_df[value_col], stats_df['STD']):\n",
    "            lower_bound = max(0, val - std)\n",
    "            upper_bound = min(1, val + std)\n",
    "            plt.errorbar(bar.get_x() + bar.get_width() / 2, val,\n",
    "                         yerr=[[val - lower_bound], [upper_bound - val]],\n",
    "                         fmt='none', color='black', capsize=5)\n",
    "\n",
    "    plt.title(f'{agg_method.capitalize()} Scores of Evaluation Metrics (N/metric={len(data)})')\n",
    "    plt.ylabel(f'{agg_method.capitalize()} Score')\n",
    "    plt.xlabel('Metrics')\n",
    "    plt.xticks(rotation=45)\n",
    "    plt.legend(title='Evaluator Name', loc='upper left', bbox_to_anchor=(1, 1))\n",
    "    plt.tight_layout()\n",
    "    plt.show()\n",
    "\n",
    "\n",
    "plot_evaluation_comparative_results(combined_results, use_median=False, err_bars=False)"
   ]
  },
  {
   "cell_type": "code",
   "execution_count": null,
   "id": "af9ed656ac41d227",
   "metadata": {},
   "outputs": [],
   "source": [
    "plot_evaluation_comparative_results(combined_results, use_median=True, err_bars=False)"
   ]
  },
  {
   "cell_type": "code",
   "execution_count": null,
   "id": "89a13e0ff00c5762",
   "metadata": {},
   "outputs": [],
   "source": [
    "def plot_metric_boxplots(data):\n",
    "    sns.set(style=\"whitegrid\")\n",
    "\n",
    "    metrics = [\n",
    "        'Answer Correctness', 'Answer Relevancy', 'Answer Similarity',\n",
    "        'Context Precision', 'Context Entity Recall'\n",
    "    ]\n",
    "\n",
    "    data_filtered = data[metrics + ['Evaluator']]\n",
    "    data_long = pd.melt(data_filtered, id_vars=['Evaluator'], value_vars=metrics,\n",
    "                        var_name='Metric', value_name='Value')\n",
    "\n",
    "    plt.figure(figsize=(12, 8))\n",
    "    sns.boxplot(\n",
    "        x='Metric',\n",
    "        y='Value',\n",
    "        hue='Evaluator',\n",
    "        data=data_long,\n",
    "        palette='Set2'\n",
    "    )\n",
    "\n",
    "    plt.title('Distribution of Evaluation Metrics Across Evaluators')\n",
    "    plt.xlabel('Metric')\n",
    "    plt.ylabel('Values')\n",
    "    plt.xticks(rotation=45)\n",
    "    plt.legend(title='Evaluator', bbox_to_anchor=(1.05, 1), loc='upper left')\n",
    "\n",
    "    plt.tight_layout()\n",
    "    plt.show()\n",
    "\n",
    "\n",
    "plot_metric_boxplots(combined_results)"
   ]
  },
  {
   "cell_type": "markdown",
   "id": "84fc91aced980d4c",
   "metadata": {},
   "source": [
    "## Aggregated Correctness vs. Precision\n",
    "\n",
    "By plotting these metrics against each other, stakeholders can quickly discern whether there is a correlation between the precision of the context provided to the generator and the accuracy of the answers generated. For example, a positive correlation would suggest that improving context precision could lead to more accurate answers.\n",
    "\n",
    "Each point on the scatter plot represents an evaluator, with the x-axis showing the average correctness of the answers generated and the y-axis showing the average precision of the context provided to the generator. The color of the points corresponds to the evaluator, allowing for easy identification of each evaluator's performance. The point values is the mean of the respective metric across all questions in the evaluation set."
   ]
  },
  {
   "cell_type": "code",
   "execution_count": null,
   "id": "a9a29012863b2b3c",
   "metadata": {},
   "outputs": [],
   "source": [
    "def plot_aggregated_correctness_vs_precision(data):\n",
    "    sns.set(style=\"whitegrid\")\n",
    "    aggregated_data = data.groupby('Evaluator').agg({\n",
    "        'Answer Correctness': 'mean',\n",
    "        'Context Precision': 'mean'\n",
    "    }).reset_index()\n",
    "\n",
    "    plt.figure(figsize=(10, 6))\n",
    "    sns.scatterplot(\n",
    "        x='Answer Correctness',\n",
    "        y='Context Precision',\n",
    "        hue='Evaluator',\n",
    "        data=aggregated_data,\n",
    "        palette='Set2',\n",
    "        s=100\n",
    "    )\n",
    "\n",
    "    plt.title('Mean Correctness vs. Precision across Evaluators')\n",
    "    plt.xlabel('Average Answer Correctness (Accuracy)')\n",
    "    plt.ylabel('Average Context Precision (Relevance)')\n",
    "    plt.legend(title='Evaluator', bbox_to_anchor=(1.05, 1), loc=2)\n",
    "    plt.tight_layout()\n",
    "    plt.ylim(0, 1)\n",
    "    plt.xlim(0, 1)\n",
    "    plt.show()\n",
    "\n",
    "\n",
    "plot_aggregated_correctness_vs_precision(combined_results)"
   ]
  },
  {
   "cell_type": "markdown",
   "id": "286bc72a8a3a20b6",
   "metadata": {},
   "source": [
    "## Aggregated Correctness vs. Reciprocal Rank"
   ]
  },
  {
   "cell_type": "code",
   "execution_count": null,
   "id": "ed95df0af270a431",
   "metadata": {},
   "outputs": [],
   "source": [
    "def plot_aggregated_correctness_vs_rr(data):\n",
    "    sns.set(style=\"whitegrid\")\n",
    "    aggregated_data = data.groupby('Evaluator').agg({\n",
    "        'Answer Correctness': 'mean',\n",
    "        'Reciprocal Rank': 'mean'\n",
    "    }).reset_index()\n",
    "\n",
    "    plt.figure(figsize=(10, 6))\n",
    "    sns.scatterplot(\n",
    "        x='Answer Correctness',\n",
    "        y='Reciprocal Rank',\n",
    "        hue='Evaluator',\n",
    "        data=aggregated_data,\n",
    "        palette='Set2',\n",
    "        s=100\n",
    "    )\n",
    "\n",
    "    plt.title('Mean Correctness vs. Reciprocal Rank across Evaluators')\n",
    "    plt.xlabel('Mean Answer Correctness')\n",
    "    plt.ylabel('Mean Reciprocal Rank')\n",
    "    plt.legend(title='Evaluator', bbox_to_anchor=(1.05, 1), loc=2)\n",
    "    plt.tight_layout()\n",
    "    plt.ylim(0, 1)\n",
    "    plt.xlim(0, 1)\n",
    "    plt.show()\n",
    "\n",
    "\n",
    "plot_aggregated_correctness_vs_rr(combined_results)"
   ]
  },
  {
   "cell_type": "markdown",
   "id": "28cbbcae1799d44e",
   "metadata": {},
   "source": [
    "## Confidence vs. Answer Correctness"
   ]
  },
  {
   "cell_type": "code",
   "execution_count": null,
   "id": "c7c01b8a4e7f76cc",
   "metadata": {},
   "outputs": [],
   "source": [
    "def plot_confidence_vs_correctness(data):\n",
    "    sns.set(style=\"whitegrid\")\n",
    "\n",
    "    metrics = [\n",
    "        'Answer Correctness', 'Answer Relevancy', 'Answer Similarity',\n",
    "        'Context Precision', 'Context Entity Recall', 'Reciprocal Rank', 'Hit@2'\n",
    "    ]\n",
    "\n",
    "    stats = data.groupby('Evaluator')[metrics].agg(['mean', 'std'])\n",
    "\n",
    "    stats['Avg STD'] = stats[[(m, 'std') for m in metrics]].mean(axis=1)\n",
    "    max_std = stats['Avg STD'].max()\n",
    "    stats['System Confidence'] = max_std + 1 - stats['Avg STD']\n",
    "\n",
    "    stats.columns = [' '.join(col).strip() for col in stats.columns.values]\n",
    "    stats.reset_index(inplace=True)\n",
    "\n",
    "    plt.figure(figsize=(10, 6))\n",
    "    sns.scatterplot(\n",
    "        x='System Confidence',\n",
    "        y='Answer Correctness mean',\n",
    "        hue='Evaluator',\n",
    "        data=stats,\n",
    "        s=100,\n",
    "        palette='Set2',\n",
    "        legend='full'\n",
    "    )\n",
    "\n",
    "    plt.title('System Confidence vs. Answer Correctness')\n",
    "    plt.xlabel('System Confidence (Inferred from Avg. STD of Metrics)')\n",
    "    plt.ylabel('Answer Correctness (Mean)')\n",
    "    plt.ylim(0, 1)\n",
    "    plt.legend(title='Evaluator', bbox_to_anchor=(1.05, 1), loc='upper left')\n",
    "    plt.tight_layout()\n",
    "    plt.show()\n",
    "\n",
    "\n",
    "plot_confidence_vs_correctness(combined_results)"
   ]
  }
 ],
 "metadata": {
  "kernelspec": {
   "display_name": "Python 3 (ipykernel)",
   "language": "python",
   "name": "python3"
  },
  "language_info": {
   "codemirror_mode": {
    "name": "ipython",
    "version": 3
   },
   "file_extension": ".py",
   "mimetype": "text/x-python",
   "name": "python",
   "nbconvert_exporter": "python",
   "pygments_lexer": "ipython3",
   "version": "3.12.0"
  }
 },
 "nbformat": 4,
 "nbformat_minor": 5
}
