{
 "cells": [
  {
   "cell_type": "code",
   "execution_count": 4,
   "id": "initial_id",
   "metadata": {
    "collapsed": true,
    "ExecuteTime": {
     "end_time": "2024-02-27T17:08:22.203213Z",
     "start_time": "2024-02-27T17:08:22.126893Z"
    }
   },
   "outputs": [
    {
     "data": {
      "text/plain": "True"
     },
     "execution_count": 4,
     "metadata": {},
     "output_type": "execute_result"
    }
   ],
   "source": [
    "from langchain_community.vectorstores import Chroma\n",
    "import chromadb\n",
    "import pandas as pd\n",
    "\n",
    "from dotenv import load_dotenv\n",
    "load_dotenv()"
   ]
  },
  {
   "cell_type": "code",
   "outputs": [],
   "source": [
    "# read in evaluation\n",
    "evaluation_set = pd.read_csv('./data/Cleantech Media Dataset/cleantech_rag_evaluation_data_2024-02-23.csv')\n"
   ],
   "metadata": {
    "collapsed": false,
    "ExecuteTime": {
     "end_time": "2024-02-27T17:08:22.239978Z",
     "start_time": "2024-02-27T17:08:22.209489Z"
    }
   },
   "id": "a7c643c25e8fc9b5",
   "execution_count": 5
  },
  {
   "cell_type": "markdown",
   "source": [
    "## CSV - Embedding - Chroma"
   ],
   "metadata": {
    "collapsed": false
   },
   "id": "27db7c8bb4c7128f"
  },
  {
   "cell_type": "code",
   "outputs": [],
   "source": [
    "from langchain_community.document_loaders.csv_loader import CSVLoader\n",
    "# this is useless\n",
    "from langchain.text_splitter import CharacterTextSplitter\n",
    "\n",
    "\n",
    "loader = CSVLoader(file_path='./data/Cleantech Media Dataset/cleantech_media_dataset_v2_2024-02-23.csv',\n",
    "                   metadata_columns=['title', 'url', 'date', 'author', 'domain'],)\n",
    "\n",
    "documents = loader.load()"
   ],
   "metadata": {
    "collapsed": false,
    "ExecuteTime": {
     "end_time": "2024-02-27T17:08:22.727470Z",
     "start_time": "2024-02-27T17:08:22.241289Z"
    }
   },
   "id": "e265f3a9a34011f9",
   "execution_count": 6
  },
  {
   "cell_type": "code",
   "outputs": [
    {
     "data": {
      "text/plain": "['d987b5fe-d592-11ee-852e-1aa6e3a10dcb',\n 'd987b7f2-d592-11ee-852e-1aa6e3a10dcb',\n 'd987b81a-d592-11ee-852e-1aa6e3a10dcb',\n 'd987b82e-d592-11ee-852e-1aa6e3a10dcb',\n 'd987b84c-d592-11ee-852e-1aa6e3a10dcb',\n 'd987b860-d592-11ee-852e-1aa6e3a10dcb',\n 'd987b874-d592-11ee-852e-1aa6e3a10dcb',\n 'd987b89c-d592-11ee-852e-1aa6e3a10dcb',\n 'd987b8b0-d592-11ee-852e-1aa6e3a10dcb',\n 'd987b8c4-d592-11ee-852e-1aa6e3a10dcb',\n 'd987b8d8-d592-11ee-852e-1aa6e3a10dcb',\n 'd987b8ec-d592-11ee-852e-1aa6e3a10dcb',\n 'd987b8f6-d592-11ee-852e-1aa6e3a10dcb',\n 'd987b90a-d592-11ee-852e-1aa6e3a10dcb',\n 'd987b91e-d592-11ee-852e-1aa6e3a10dcb',\n 'd987b932-d592-11ee-852e-1aa6e3a10dcb',\n 'd987b93c-d592-11ee-852e-1aa6e3a10dcb',\n 'd987b950-d592-11ee-852e-1aa6e3a10dcb',\n 'd987b964-d592-11ee-852e-1aa6e3a10dcb',\n 'd987b978-d592-11ee-852e-1aa6e3a10dcb',\n 'd987b98c-d592-11ee-852e-1aa6e3a10dcb',\n 'd987b996-d592-11ee-852e-1aa6e3a10dcb',\n 'd987b9aa-d592-11ee-852e-1aa6e3a10dcb',\n 'd987b9be-d592-11ee-852e-1aa6e3a10dcb',\n 'd987b9d2-d592-11ee-852e-1aa6e3a10dcb',\n 'd987b9dc-d592-11ee-852e-1aa6e3a10dcb',\n 'd987b9f0-d592-11ee-852e-1aa6e3a10dcb',\n 'd987ba04-d592-11ee-852e-1aa6e3a10dcb',\n 'd987ba18-d592-11ee-852e-1aa6e3a10dcb',\n 'd987ba2c-d592-11ee-852e-1aa6e3a10dcb',\n 'd987ba40-d592-11ee-852e-1aa6e3a10dcb',\n 'd987ba54-d592-11ee-852e-1aa6e3a10dcb',\n 'd987ba68-d592-11ee-852e-1aa6e3a10dcb',\n 'd987ba72-d592-11ee-852e-1aa6e3a10dcb',\n 'd987ba86-d592-11ee-852e-1aa6e3a10dcb',\n 'd987ba9a-d592-11ee-852e-1aa6e3a10dcb',\n 'd987baae-d592-11ee-852e-1aa6e3a10dcb',\n 'd987bab8-d592-11ee-852e-1aa6e3a10dcb',\n 'd987bacc-d592-11ee-852e-1aa6e3a10dcb',\n 'd987bae0-d592-11ee-852e-1aa6e3a10dcb',\n 'd987baea-d592-11ee-852e-1aa6e3a10dcb',\n 'd987bafe-d592-11ee-852e-1aa6e3a10dcb',\n 'd987bb12-d592-11ee-852e-1aa6e3a10dcb',\n 'd987bb26-d592-11ee-852e-1aa6e3a10dcb',\n 'd987bb6c-d592-11ee-852e-1aa6e3a10dcb',\n 'd987bb80-d592-11ee-852e-1aa6e3a10dcb',\n 'd987bb94-d592-11ee-852e-1aa6e3a10dcb',\n 'd987bb9e-d592-11ee-852e-1aa6e3a10dcb',\n 'd987bbb2-d592-11ee-852e-1aa6e3a10dcb',\n 'd987bbc6-d592-11ee-852e-1aa6e3a10dcb',\n 'd987bbd0-d592-11ee-852e-1aa6e3a10dcb',\n 'd987bbe4-d592-11ee-852e-1aa6e3a10dcb',\n 'd987bbf8-d592-11ee-852e-1aa6e3a10dcb',\n 'd987bc02-d592-11ee-852e-1aa6e3a10dcb',\n 'd987bc16-d592-11ee-852e-1aa6e3a10dcb',\n 'd987bc2a-d592-11ee-852e-1aa6e3a10dcb',\n 'd987bc3e-d592-11ee-852e-1aa6e3a10dcb',\n 'd987bc52-d592-11ee-852e-1aa6e3a10dcb',\n 'd987bc5c-d592-11ee-852e-1aa6e3a10dcb',\n 'd987bc70-d592-11ee-852e-1aa6e3a10dcb',\n 'd987bc84-d592-11ee-852e-1aa6e3a10dcb',\n 'd987bc98-d592-11ee-852e-1aa6e3a10dcb',\n 'd987bcac-d592-11ee-852e-1aa6e3a10dcb',\n 'd987bcb6-d592-11ee-852e-1aa6e3a10dcb',\n 'd987bcca-d592-11ee-852e-1aa6e3a10dcb',\n 'd987bcde-d592-11ee-852e-1aa6e3a10dcb',\n 'd987bcf2-d592-11ee-852e-1aa6e3a10dcb',\n 'd987bcfc-d592-11ee-852e-1aa6e3a10dcb',\n 'd987bd10-d592-11ee-852e-1aa6e3a10dcb',\n 'd987bd24-d592-11ee-852e-1aa6e3a10dcb',\n 'd987bd2e-d592-11ee-852e-1aa6e3a10dcb',\n 'd987bd42-d592-11ee-852e-1aa6e3a10dcb',\n 'd987bd56-d592-11ee-852e-1aa6e3a10dcb',\n 'd987bd60-d592-11ee-852e-1aa6e3a10dcb',\n 'd987bd74-d592-11ee-852e-1aa6e3a10dcb',\n 'd987bd88-d592-11ee-852e-1aa6e3a10dcb',\n 'd987bd92-d592-11ee-852e-1aa6e3a10dcb',\n 'd987bda6-d592-11ee-852e-1aa6e3a10dcb',\n 'd987bdba-d592-11ee-852e-1aa6e3a10dcb',\n 'd987bdce-d592-11ee-852e-1aa6e3a10dcb',\n 'd987be1e-d592-11ee-852e-1aa6e3a10dcb',\n 'd987be32-d592-11ee-852e-1aa6e3a10dcb',\n 'd987be46-d592-11ee-852e-1aa6e3a10dcb',\n 'd987be50-d592-11ee-852e-1aa6e3a10dcb',\n 'd987be64-d592-11ee-852e-1aa6e3a10dcb',\n 'd987be78-d592-11ee-852e-1aa6e3a10dcb',\n 'd987be8c-d592-11ee-852e-1aa6e3a10dcb',\n 'd987be96-d592-11ee-852e-1aa6e3a10dcb',\n 'd987beaa-d592-11ee-852e-1aa6e3a10dcb',\n 'd987bebe-d592-11ee-852e-1aa6e3a10dcb',\n 'd987bec8-d592-11ee-852e-1aa6e3a10dcb',\n 'd987bedc-d592-11ee-852e-1aa6e3a10dcb',\n 'd987bef0-d592-11ee-852e-1aa6e3a10dcb',\n 'd987befa-d592-11ee-852e-1aa6e3a10dcb',\n 'd987bf0e-d592-11ee-852e-1aa6e3a10dcb',\n 'd987bf22-d592-11ee-852e-1aa6e3a10dcb',\n 'd987bf2c-d592-11ee-852e-1aa6e3a10dcb',\n 'd987bf40-d592-11ee-852e-1aa6e3a10dcb',\n 'd987bf54-d592-11ee-852e-1aa6e3a10dcb',\n 'd987bf5e-d592-11ee-852e-1aa6e3a10dcb',\n 'd987bf72-d592-11ee-852e-1aa6e3a10dcb',\n 'd987bf7c-d592-11ee-852e-1aa6e3a10dcb',\n 'd987bf90-d592-11ee-852e-1aa6e3a10dcb',\n 'd987bfa4-d592-11ee-852e-1aa6e3a10dcb',\n 'd987bfb8-d592-11ee-852e-1aa6e3a10dcb',\n 'd987bfc2-d592-11ee-852e-1aa6e3a10dcb',\n 'd987bfd6-d592-11ee-852e-1aa6e3a10dcb',\n 'd987bfe0-d592-11ee-852e-1aa6e3a10dcb',\n 'd987bff4-d592-11ee-852e-1aa6e3a10dcb',\n 'd987c008-d592-11ee-852e-1aa6e3a10dcb',\n 'd987c01c-d592-11ee-852e-1aa6e3a10dcb',\n 'd987c026-d592-11ee-852e-1aa6e3a10dcb',\n 'd987c03a-d592-11ee-852e-1aa6e3a10dcb',\n 'd987c04e-d592-11ee-852e-1aa6e3a10dcb',\n 'd987c062-d592-11ee-852e-1aa6e3a10dcb',\n 'd987c06c-d592-11ee-852e-1aa6e3a10dcb',\n 'd987c080-d592-11ee-852e-1aa6e3a10dcb',\n 'd987c094-d592-11ee-852e-1aa6e3a10dcb',\n 'd987c09e-d592-11ee-852e-1aa6e3a10dcb',\n 'd987c0b2-d592-11ee-852e-1aa6e3a10dcb',\n 'd987c0c6-d592-11ee-852e-1aa6e3a10dcb',\n 'd987c0d0-d592-11ee-852e-1aa6e3a10dcb',\n 'd987c0e4-d592-11ee-852e-1aa6e3a10dcb',\n 'd987c0f8-d592-11ee-852e-1aa6e3a10dcb',\n 'd987c102-d592-11ee-852e-1aa6e3a10dcb',\n 'd987c116-d592-11ee-852e-1aa6e3a10dcb',\n 'd987c120-d592-11ee-852e-1aa6e3a10dcb',\n 'd987c134-d592-11ee-852e-1aa6e3a10dcb',\n 'd987c148-d592-11ee-852e-1aa6e3a10dcb',\n 'd987c15c-d592-11ee-852e-1aa6e3a10dcb',\n 'd987c166-d592-11ee-852e-1aa6e3a10dcb',\n 'd987c17a-d592-11ee-852e-1aa6e3a10dcb',\n 'd987c18e-d592-11ee-852e-1aa6e3a10dcb',\n 'd987c198-d592-11ee-852e-1aa6e3a10dcb',\n 'd987c1ac-d592-11ee-852e-1aa6e3a10dcb',\n 'd987c1c0-d592-11ee-852e-1aa6e3a10dcb',\n 'd987c1ca-d592-11ee-852e-1aa6e3a10dcb',\n 'd987c1de-d592-11ee-852e-1aa6e3a10dcb',\n 'd987c1e8-d592-11ee-852e-1aa6e3a10dcb',\n 'd987c1fc-d592-11ee-852e-1aa6e3a10dcb',\n 'd987c210-d592-11ee-852e-1aa6e3a10dcb',\n 'd987c21a-d592-11ee-852e-1aa6e3a10dcb',\n 'd987c22e-d592-11ee-852e-1aa6e3a10dcb',\n 'd987c242-d592-11ee-852e-1aa6e3a10dcb',\n 'd987c24c-d592-11ee-852e-1aa6e3a10dcb',\n 'd987c260-d592-11ee-852e-1aa6e3a10dcb',\n 'd987c274-d592-11ee-852e-1aa6e3a10dcb',\n 'd987c27e-d592-11ee-852e-1aa6e3a10dcb',\n 'd987c292-d592-11ee-852e-1aa6e3a10dcb',\n 'd987c2a6-d592-11ee-852e-1aa6e3a10dcb',\n 'd987c2b0-d592-11ee-852e-1aa6e3a10dcb',\n 'd987c2c4-d592-11ee-852e-1aa6e3a10dcb',\n 'd987c2d8-d592-11ee-852e-1aa6e3a10dcb',\n 'd987c2e2-d592-11ee-852e-1aa6e3a10dcb',\n 'd987c2f6-d592-11ee-852e-1aa6e3a10dcb',\n 'd987c30a-d592-11ee-852e-1aa6e3a10dcb',\n 'd987c314-d592-11ee-852e-1aa6e3a10dcb',\n 'd987c328-d592-11ee-852e-1aa6e3a10dcb',\n 'd987c33c-d592-11ee-852e-1aa6e3a10dcb',\n 'd987c346-d592-11ee-852e-1aa6e3a10dcb',\n 'd987c35a-d592-11ee-852e-1aa6e3a10dcb',\n 'd987c36e-d592-11ee-852e-1aa6e3a10dcb',\n 'd987c378-d592-11ee-852e-1aa6e3a10dcb',\n 'd987c38c-d592-11ee-852e-1aa6e3a10dcb',\n 'd987c3a0-d592-11ee-852e-1aa6e3a10dcb',\n 'd987c3aa-d592-11ee-852e-1aa6e3a10dcb',\n 'd987c3be-d592-11ee-852e-1aa6e3a10dcb',\n 'd987c3d2-d592-11ee-852e-1aa6e3a10dcb',\n 'd987c3dc-d592-11ee-852e-1aa6e3a10dcb',\n 'd987c3f0-d592-11ee-852e-1aa6e3a10dcb',\n 'd987c404-d592-11ee-852e-1aa6e3a10dcb',\n 'd987c40e-d592-11ee-852e-1aa6e3a10dcb',\n 'd987c422-d592-11ee-852e-1aa6e3a10dcb',\n 'd987c436-d592-11ee-852e-1aa6e3a10dcb',\n 'd987c44a-d592-11ee-852e-1aa6e3a10dcb',\n 'd987c454-d592-11ee-852e-1aa6e3a10dcb',\n 'd987c468-d592-11ee-852e-1aa6e3a10dcb',\n 'd987c472-d592-11ee-852e-1aa6e3a10dcb',\n 'd987c486-d592-11ee-852e-1aa6e3a10dcb',\n 'd987c49a-d592-11ee-852e-1aa6e3a10dcb',\n 'd987c4a4-d592-11ee-852e-1aa6e3a10dcb',\n 'd987c4b8-d592-11ee-852e-1aa6e3a10dcb',\n 'd987c4cc-d592-11ee-852e-1aa6e3a10dcb',\n 'd987c4d6-d592-11ee-852e-1aa6e3a10dcb',\n 'd987c4ea-d592-11ee-852e-1aa6e3a10dcb',\n 'd987c4fe-d592-11ee-852e-1aa6e3a10dcb',\n 'd987c508-d592-11ee-852e-1aa6e3a10dcb',\n 'd987c51c-d592-11ee-852e-1aa6e3a10dcb',\n 'd987c530-d592-11ee-852e-1aa6e3a10dcb',\n 'd987c53a-d592-11ee-852e-1aa6e3a10dcb',\n 'd987c54e-d592-11ee-852e-1aa6e3a10dcb',\n 'd987c562-d592-11ee-852e-1aa6e3a10dcb',\n 'd987c56c-d592-11ee-852e-1aa6e3a10dcb',\n 'd987c594-d592-11ee-852e-1aa6e3a10dcb',\n 'd987c5a8-d592-11ee-852e-1aa6e3a10dcb',\n 'd987c5b2-d592-11ee-852e-1aa6e3a10dcb',\n 'd987c5c6-d592-11ee-852e-1aa6e3a10dcb',\n 'd987c5da-d592-11ee-852e-1aa6e3a10dcb',\n 'd987c5e4-d592-11ee-852e-1aa6e3a10dcb',\n 'd987c5f8-d592-11ee-852e-1aa6e3a10dcb',\n 'd987c60c-d592-11ee-852e-1aa6e3a10dcb',\n 'd987c616-d592-11ee-852e-1aa6e3a10dcb',\n 'd987c62a-d592-11ee-852e-1aa6e3a10dcb',\n 'd987c63e-d592-11ee-852e-1aa6e3a10dcb',\n 'd987c648-d592-11ee-852e-1aa6e3a10dcb',\n 'd987c65c-d592-11ee-852e-1aa6e3a10dcb',\n 'd987c666-d592-11ee-852e-1aa6e3a10dcb',\n 'd987c67a-d592-11ee-852e-1aa6e3a10dcb',\n 'd987c68e-d592-11ee-852e-1aa6e3a10dcb',\n 'd987c698-d592-11ee-852e-1aa6e3a10dcb',\n 'd987c6ac-d592-11ee-852e-1aa6e3a10dcb',\n 'd987c6b6-d592-11ee-852e-1aa6e3a10dcb',\n 'd987c6ca-d592-11ee-852e-1aa6e3a10dcb',\n 'd987c6de-d592-11ee-852e-1aa6e3a10dcb',\n 'd987c6e8-d592-11ee-852e-1aa6e3a10dcb',\n 'd987c6fc-d592-11ee-852e-1aa6e3a10dcb',\n 'd987c710-d592-11ee-852e-1aa6e3a10dcb',\n 'd987c71a-d592-11ee-852e-1aa6e3a10dcb',\n 'd987c72e-d592-11ee-852e-1aa6e3a10dcb',\n 'd987c738-d592-11ee-852e-1aa6e3a10dcb',\n 'd987c74c-d592-11ee-852e-1aa6e3a10dcb',\n 'd987c760-d592-11ee-852e-1aa6e3a10dcb',\n 'd987c76a-d592-11ee-852e-1aa6e3a10dcb',\n 'd987c77e-d592-11ee-852e-1aa6e3a10dcb',\n 'd987c792-d592-11ee-852e-1aa6e3a10dcb',\n 'd987c7ce-d592-11ee-852e-1aa6e3a10dcb',\n 'd987c7e2-d592-11ee-852e-1aa6e3a10dcb',\n 'd987c7f6-d592-11ee-852e-1aa6e3a10dcb',\n 'd987c800-d592-11ee-852e-1aa6e3a10dcb',\n 'd987c814-d592-11ee-852e-1aa6e3a10dcb',\n 'd987c828-d592-11ee-852e-1aa6e3a10dcb',\n 'd987c832-d592-11ee-852e-1aa6e3a10dcb',\n 'd987c846-d592-11ee-852e-1aa6e3a10dcb',\n 'd987c85a-d592-11ee-852e-1aa6e3a10dcb',\n 'd987c864-d592-11ee-852e-1aa6e3a10dcb',\n 'd987c878-d592-11ee-852e-1aa6e3a10dcb',\n 'd987c88c-d592-11ee-852e-1aa6e3a10dcb',\n 'd987c896-d592-11ee-852e-1aa6e3a10dcb',\n 'd987c8aa-d592-11ee-852e-1aa6e3a10dcb',\n 'd987c8be-d592-11ee-852e-1aa6e3a10dcb',\n 'd987c8c8-d592-11ee-852e-1aa6e3a10dcb',\n 'd987c8dc-d592-11ee-852e-1aa6e3a10dcb',\n 'd987c8f0-d592-11ee-852e-1aa6e3a10dcb',\n 'd987c8fa-d592-11ee-852e-1aa6e3a10dcb',\n 'd987c90e-d592-11ee-852e-1aa6e3a10dcb',\n 'd987c918-d592-11ee-852e-1aa6e3a10dcb',\n 'd987c92c-d592-11ee-852e-1aa6e3a10dcb',\n 'd987c940-d592-11ee-852e-1aa6e3a10dcb',\n 'd987c94a-d592-11ee-852e-1aa6e3a10dcb',\n 'd987c95e-d592-11ee-852e-1aa6e3a10dcb',\n 'd987c972-d592-11ee-852e-1aa6e3a10dcb',\n 'd987c9ae-d592-11ee-852e-1aa6e3a10dcb',\n 'd987c9b8-d592-11ee-852e-1aa6e3a10dcb',\n 'd987c9cc-d592-11ee-852e-1aa6e3a10dcb',\n 'd987c9e0-d592-11ee-852e-1aa6e3a10dcb',\n 'd987c9ea-d592-11ee-852e-1aa6e3a10dcb',\n 'd987c9fe-d592-11ee-852e-1aa6e3a10dcb',\n 'd987ca12-d592-11ee-852e-1aa6e3a10dcb',\n 'd987ca26-d592-11ee-852e-1aa6e3a10dcb',\n 'd987ca30-d592-11ee-852e-1aa6e3a10dcb',\n 'd987ca44-d592-11ee-852e-1aa6e3a10dcb',\n 'd987ca58-d592-11ee-852e-1aa6e3a10dcb',\n 'd987ca62-d592-11ee-852e-1aa6e3a10dcb',\n 'd987ca76-d592-11ee-852e-1aa6e3a10dcb',\n 'd987ca80-d592-11ee-852e-1aa6e3a10dcb',\n 'd987ca94-d592-11ee-852e-1aa6e3a10dcb',\n 'd987caa8-d592-11ee-852e-1aa6e3a10dcb',\n 'd987cab2-d592-11ee-852e-1aa6e3a10dcb',\n 'd987cac6-d592-11ee-852e-1aa6e3a10dcb',\n 'd987cada-d592-11ee-852e-1aa6e3a10dcb',\n 'd987cae4-d592-11ee-852e-1aa6e3a10dcb',\n 'd987caf8-d592-11ee-852e-1aa6e3a10dcb',\n 'd987cb0c-d592-11ee-852e-1aa6e3a10dcb',\n 'd987cb16-d592-11ee-852e-1aa6e3a10dcb',\n 'd987cb2a-d592-11ee-852e-1aa6e3a10dcb',\n 'd987cb3e-d592-11ee-852e-1aa6e3a10dcb',\n 'd987cb48-d592-11ee-852e-1aa6e3a10dcb',\n 'd987cb5c-d592-11ee-852e-1aa6e3a10dcb',\n 'd987cb66-d592-11ee-852e-1aa6e3a10dcb',\n 'd987cb7a-d592-11ee-852e-1aa6e3a10dcb',\n 'd987cb8e-d592-11ee-852e-1aa6e3a10dcb',\n 'd987cb98-d592-11ee-852e-1aa6e3a10dcb',\n 'd987cbac-d592-11ee-852e-1aa6e3a10dcb',\n 'd987cbc0-d592-11ee-852e-1aa6e3a10dcb',\n 'd987cbca-d592-11ee-852e-1aa6e3a10dcb',\n 'd987cbde-d592-11ee-852e-1aa6e3a10dcb',\n 'd987cbf2-d592-11ee-852e-1aa6e3a10dcb',\n 'd987cbfc-d592-11ee-852e-1aa6e3a10dcb',\n 'd987cc10-d592-11ee-852e-1aa6e3a10dcb',\n 'd987cc1a-d592-11ee-852e-1aa6e3a10dcb',\n 'd987cc2e-d592-11ee-852e-1aa6e3a10dcb',\n 'd987cc42-d592-11ee-852e-1aa6e3a10dcb',\n 'd987cc4c-d592-11ee-852e-1aa6e3a10dcb',\n 'd987cc60-d592-11ee-852e-1aa6e3a10dcb',\n 'd987cc74-d592-11ee-852e-1aa6e3a10dcb',\n 'd987cc7e-d592-11ee-852e-1aa6e3a10dcb',\n 'd987cc92-d592-11ee-852e-1aa6e3a10dcb',\n 'd987cc9c-d592-11ee-852e-1aa6e3a10dcb',\n 'd987ccb0-d592-11ee-852e-1aa6e3a10dcb',\n 'd987ccc4-d592-11ee-852e-1aa6e3a10dcb',\n 'd987ccd8-d592-11ee-852e-1aa6e3a10dcb',\n 'd987cce2-d592-11ee-852e-1aa6e3a10dcb',\n 'd987ccf6-d592-11ee-852e-1aa6e3a10dcb',\n 'd987cd00-d592-11ee-852e-1aa6e3a10dcb',\n 'd987cd14-d592-11ee-852e-1aa6e3a10dcb',\n 'd987cd28-d592-11ee-852e-1aa6e3a10dcb',\n 'd987cd32-d592-11ee-852e-1aa6e3a10dcb',\n 'd987cd46-d592-11ee-852e-1aa6e3a10dcb',\n 'd987cd50-d592-11ee-852e-1aa6e3a10dcb',\n 'd987cd64-d592-11ee-852e-1aa6e3a10dcb',\n 'd987cd78-d592-11ee-852e-1aa6e3a10dcb',\n 'd987cd82-d592-11ee-852e-1aa6e3a10dcb',\n 'd987cd96-d592-11ee-852e-1aa6e3a10dcb',\n 'd987cdaa-d592-11ee-852e-1aa6e3a10dcb',\n 'd987cdb4-d592-11ee-852e-1aa6e3a10dcb',\n 'd987cdc8-d592-11ee-852e-1aa6e3a10dcb',\n 'd987cdd2-d592-11ee-852e-1aa6e3a10dcb',\n 'd987cde6-d592-11ee-852e-1aa6e3a10dcb',\n 'd987cdfa-d592-11ee-852e-1aa6e3a10dcb',\n 'd987ce04-d592-11ee-852e-1aa6e3a10dcb',\n 'd987ce18-d592-11ee-852e-1aa6e3a10dcb',\n 'd987ce2c-d592-11ee-852e-1aa6e3a10dcb',\n 'd987ce36-d592-11ee-852e-1aa6e3a10dcb',\n 'd987ce4a-d592-11ee-852e-1aa6e3a10dcb',\n 'd987ce5e-d592-11ee-852e-1aa6e3a10dcb',\n 'd987ce68-d592-11ee-852e-1aa6e3a10dcb',\n 'd987ce7c-d592-11ee-852e-1aa6e3a10dcb',\n 'd987ce86-d592-11ee-852e-1aa6e3a10dcb',\n 'd987ce9a-d592-11ee-852e-1aa6e3a10dcb',\n 'd987ceae-d592-11ee-852e-1aa6e3a10dcb',\n 'd987ceb8-d592-11ee-852e-1aa6e3a10dcb',\n 'd987cecc-d592-11ee-852e-1aa6e3a10dcb',\n 'd987cee0-d592-11ee-852e-1aa6e3a10dcb',\n 'd987ceea-d592-11ee-852e-1aa6e3a10dcb',\n 'd987cefe-d592-11ee-852e-1aa6e3a10dcb',\n 'd987cf08-d592-11ee-852e-1aa6e3a10dcb',\n 'd987cf1c-d592-11ee-852e-1aa6e3a10dcb',\n 'd987cf30-d592-11ee-852e-1aa6e3a10dcb',\n 'd987cf3a-d592-11ee-852e-1aa6e3a10dcb',\n 'd987cf4e-d592-11ee-852e-1aa6e3a10dcb',\n 'd987cf62-d592-11ee-852e-1aa6e3a10dcb',\n 'd987cf6c-d592-11ee-852e-1aa6e3a10dcb',\n 'd987cf80-d592-11ee-852e-1aa6e3a10dcb',\n 'd987cf94-d592-11ee-852e-1aa6e3a10dcb',\n 'd987cf9e-d592-11ee-852e-1aa6e3a10dcb',\n 'd987cfb2-d592-11ee-852e-1aa6e3a10dcb',\n 'd987cfbc-d592-11ee-852e-1aa6e3a10dcb',\n 'd987cfd0-d592-11ee-852e-1aa6e3a10dcb',\n 'd987cfe4-d592-11ee-852e-1aa6e3a10dcb',\n 'd987cfee-d592-11ee-852e-1aa6e3a10dcb',\n 'd987d002-d592-11ee-852e-1aa6e3a10dcb',\n 'd987d00c-d592-11ee-852e-1aa6e3a10dcb',\n 'd987d020-d592-11ee-852e-1aa6e3a10dcb',\n 'd987d034-d592-11ee-852e-1aa6e3a10dcb',\n 'd987d03e-d592-11ee-852e-1aa6e3a10dcb',\n 'd987d05c-d592-11ee-852e-1aa6e3a10dcb',\n 'd987d066-d592-11ee-852e-1aa6e3a10dcb',\n 'd987d07a-d592-11ee-852e-1aa6e3a10dcb',\n 'd987d08e-d592-11ee-852e-1aa6e3a10dcb',\n 'd987d098-d592-11ee-852e-1aa6e3a10dcb',\n 'd987d0ac-d592-11ee-852e-1aa6e3a10dcb',\n 'd987d0b6-d592-11ee-852e-1aa6e3a10dcb',\n 'd987d0ca-d592-11ee-852e-1aa6e3a10dcb',\n 'd987d0de-d592-11ee-852e-1aa6e3a10dcb',\n 'd987d0e8-d592-11ee-852e-1aa6e3a10dcb',\n 'd987d0fc-d592-11ee-852e-1aa6e3a10dcb',\n 'd987d110-d592-11ee-852e-1aa6e3a10dcb',\n 'd987d11a-d592-11ee-852e-1aa6e3a10dcb',\n 'd987d12e-d592-11ee-852e-1aa6e3a10dcb',\n 'd987d142-d592-11ee-852e-1aa6e3a10dcb',\n 'd987d14c-d592-11ee-852e-1aa6e3a10dcb',\n 'd987d160-d592-11ee-852e-1aa6e3a10dcb',\n 'd987d16a-d592-11ee-852e-1aa6e3a10dcb',\n 'd987d17e-d592-11ee-852e-1aa6e3a10dcb',\n 'd987d192-d592-11ee-852e-1aa6e3a10dcb',\n 'd987d19c-d592-11ee-852e-1aa6e3a10dcb',\n 'd987d1b0-d592-11ee-852e-1aa6e3a10dcb',\n 'd987d1c4-d592-11ee-852e-1aa6e3a10dcb',\n 'd987d1ce-d592-11ee-852e-1aa6e3a10dcb',\n 'd987d1e2-d592-11ee-852e-1aa6e3a10dcb',\n 'd987d1ec-d592-11ee-852e-1aa6e3a10dcb',\n 'd987d200-d592-11ee-852e-1aa6e3a10dcb',\n 'd987d214-d592-11ee-852e-1aa6e3a10dcb',\n 'd987d21e-d592-11ee-852e-1aa6e3a10dcb',\n 'd987d232-d592-11ee-852e-1aa6e3a10dcb',\n 'd987d246-d592-11ee-852e-1aa6e3a10dcb',\n 'd987d250-d592-11ee-852e-1aa6e3a10dcb',\n 'd987d264-d592-11ee-852e-1aa6e3a10dcb',\n 'd987d278-d592-11ee-852e-1aa6e3a10dcb',\n 'd987d282-d592-11ee-852e-1aa6e3a10dcb',\n 'd987d296-d592-11ee-852e-1aa6e3a10dcb',\n 'd987d2a0-d592-11ee-852e-1aa6e3a10dcb',\n 'd987d2b4-d592-11ee-852e-1aa6e3a10dcb',\n 'd987d2c8-d592-11ee-852e-1aa6e3a10dcb',\n 'd987d2d2-d592-11ee-852e-1aa6e3a10dcb',\n 'd987d2e6-d592-11ee-852e-1aa6e3a10dcb',\n 'd987d2fa-d592-11ee-852e-1aa6e3a10dcb',\n 'd987d304-d592-11ee-852e-1aa6e3a10dcb',\n 'd987d318-d592-11ee-852e-1aa6e3a10dcb',\n 'd987d32c-d592-11ee-852e-1aa6e3a10dcb',\n 'd987d336-d592-11ee-852e-1aa6e3a10dcb',\n 'd987d34a-d592-11ee-852e-1aa6e3a10dcb',\n 'd987d35e-d592-11ee-852e-1aa6e3a10dcb',\n 'd987d368-d592-11ee-852e-1aa6e3a10dcb',\n 'd987d37c-d592-11ee-852e-1aa6e3a10dcb',\n 'd987d390-d592-11ee-852e-1aa6e3a10dcb',\n 'd987d39a-d592-11ee-852e-1aa6e3a10dcb',\n 'd987d3ae-d592-11ee-852e-1aa6e3a10dcb',\n 'd987d3c2-d592-11ee-852e-1aa6e3a10dcb',\n 'd987d3cc-d592-11ee-852e-1aa6e3a10dcb',\n 'd987d3e0-d592-11ee-852e-1aa6e3a10dcb',\n 'd987d3f4-d592-11ee-852e-1aa6e3a10dcb',\n 'd987d3fe-d592-11ee-852e-1aa6e3a10dcb',\n 'd987d412-d592-11ee-852e-1aa6e3a10dcb',\n 'd987d41c-d592-11ee-852e-1aa6e3a10dcb',\n 'd987d430-d592-11ee-852e-1aa6e3a10dcb',\n 'd987d444-d592-11ee-852e-1aa6e3a10dcb',\n 'd987d44e-d592-11ee-852e-1aa6e3a10dcb',\n 'd987d462-d592-11ee-852e-1aa6e3a10dcb',\n 'd987d476-d592-11ee-852e-1aa6e3a10dcb',\n 'd987d480-d592-11ee-852e-1aa6e3a10dcb',\n 'd987d494-d592-11ee-852e-1aa6e3a10dcb',\n 'd987d4a8-d592-11ee-852e-1aa6e3a10dcb',\n 'd987d4b2-d592-11ee-852e-1aa6e3a10dcb',\n 'd987d4c6-d592-11ee-852e-1aa6e3a10dcb',\n 'd987d4d0-d592-11ee-852e-1aa6e3a10dcb',\n 'd987d4e4-d592-11ee-852e-1aa6e3a10dcb',\n 'd987d4f8-d592-11ee-852e-1aa6e3a10dcb',\n 'd987d502-d592-11ee-852e-1aa6e3a10dcb',\n 'd987d516-d592-11ee-852e-1aa6e3a10dcb',\n 'd987d520-d592-11ee-852e-1aa6e3a10dcb',\n 'd987d534-d592-11ee-852e-1aa6e3a10dcb',\n 'd987d548-d592-11ee-852e-1aa6e3a10dcb',\n 'd987d552-d592-11ee-852e-1aa6e3a10dcb',\n 'd987d566-d592-11ee-852e-1aa6e3a10dcb',\n 'd987d57a-d592-11ee-852e-1aa6e3a10dcb',\n 'd987d584-d592-11ee-852e-1aa6e3a10dcb',\n 'd987d598-d592-11ee-852e-1aa6e3a10dcb',\n 'd987d5ac-d592-11ee-852e-1aa6e3a10dcb',\n 'd987d5b6-d592-11ee-852e-1aa6e3a10dcb',\n 'd987d5ca-d592-11ee-852e-1aa6e3a10dcb',\n 'd987d5de-d592-11ee-852e-1aa6e3a10dcb',\n 'd987d5e8-d592-11ee-852e-1aa6e3a10dcb',\n 'd987d5fc-d592-11ee-852e-1aa6e3a10dcb',\n 'd987d610-d592-11ee-852e-1aa6e3a10dcb',\n 'd987d61a-d592-11ee-852e-1aa6e3a10dcb',\n 'd987d62e-d592-11ee-852e-1aa6e3a10dcb',\n 'd987d638-d592-11ee-852e-1aa6e3a10dcb',\n 'd987d64c-d592-11ee-852e-1aa6e3a10dcb',\n 'd987d660-d592-11ee-852e-1aa6e3a10dcb',\n 'd987d66a-d592-11ee-852e-1aa6e3a10dcb',\n 'd987d67e-d592-11ee-852e-1aa6e3a10dcb',\n 'd987d692-d592-11ee-852e-1aa6e3a10dcb',\n 'd987d69c-d592-11ee-852e-1aa6e3a10dcb',\n 'd987d6b0-d592-11ee-852e-1aa6e3a10dcb',\n 'd987d6c4-d592-11ee-852e-1aa6e3a10dcb',\n 'd987d6ce-d592-11ee-852e-1aa6e3a10dcb',\n 'd987d6e2-d592-11ee-852e-1aa6e3a10dcb',\n 'd987d6f6-d592-11ee-852e-1aa6e3a10dcb',\n 'd987d700-d592-11ee-852e-1aa6e3a10dcb',\n 'd987d714-d592-11ee-852e-1aa6e3a10dcb',\n 'd987d728-d592-11ee-852e-1aa6e3a10dcb',\n 'd987d732-d592-11ee-852e-1aa6e3a10dcb',\n 'd987d746-d592-11ee-852e-1aa6e3a10dcb',\n 'd987d750-d592-11ee-852e-1aa6e3a10dcb',\n 'd987d764-d592-11ee-852e-1aa6e3a10dcb',\n 'd987d778-d592-11ee-852e-1aa6e3a10dcb',\n 'd987d782-d592-11ee-852e-1aa6e3a10dcb',\n 'd987d796-d592-11ee-852e-1aa6e3a10dcb',\n 'd987d7aa-d592-11ee-852e-1aa6e3a10dcb',\n 'd987d7b4-d592-11ee-852e-1aa6e3a10dcb',\n 'd987d7c8-d592-11ee-852e-1aa6e3a10dcb',\n 'd987d7dc-d592-11ee-852e-1aa6e3a10dcb',\n 'd987d7e6-d592-11ee-852e-1aa6e3a10dcb',\n 'd987d7fa-d592-11ee-852e-1aa6e3a10dcb',\n 'd987d80e-d592-11ee-852e-1aa6e3a10dcb',\n 'd987d818-d592-11ee-852e-1aa6e3a10dcb',\n 'd987d82c-d592-11ee-852e-1aa6e3a10dcb',\n 'd987d836-d592-11ee-852e-1aa6e3a10dcb',\n 'd987d84a-d592-11ee-852e-1aa6e3a10dcb',\n 'd987d85e-d592-11ee-852e-1aa6e3a10dcb',\n 'd987d868-d592-11ee-852e-1aa6e3a10dcb',\n 'd987d87c-d592-11ee-852e-1aa6e3a10dcb',\n 'd987d890-d592-11ee-852e-1aa6e3a10dcb',\n 'd987d89a-d592-11ee-852e-1aa6e3a10dcb',\n 'd987d8ae-d592-11ee-852e-1aa6e3a10dcb',\n 'd987d8c2-d592-11ee-852e-1aa6e3a10dcb',\n 'd987d8cc-d592-11ee-852e-1aa6e3a10dcb',\n 'd987d8e0-d592-11ee-852e-1aa6e3a10dcb',\n 'd987d8f4-d592-11ee-852e-1aa6e3a10dcb',\n 'd987d8fe-d592-11ee-852e-1aa6e3a10dcb',\n 'd987d912-d592-11ee-852e-1aa6e3a10dcb',\n 'd987d926-d592-11ee-852e-1aa6e3a10dcb',\n 'd987d930-d592-11ee-852e-1aa6e3a10dcb',\n 'd987d944-d592-11ee-852e-1aa6e3a10dcb',\n 'd987d94e-d592-11ee-852e-1aa6e3a10dcb',\n 'd987d962-d592-11ee-852e-1aa6e3a10dcb',\n 'd987d976-d592-11ee-852e-1aa6e3a10dcb',\n 'd987d980-d592-11ee-852e-1aa6e3a10dcb',\n 'd987d994-d592-11ee-852e-1aa6e3a10dcb',\n 'd987d99e-d592-11ee-852e-1aa6e3a10dcb',\n 'd987d9b2-d592-11ee-852e-1aa6e3a10dcb',\n 'd987d9c6-d592-11ee-852e-1aa6e3a10dcb',\n 'd987d9d0-d592-11ee-852e-1aa6e3a10dcb',\n 'd987d9e4-d592-11ee-852e-1aa6e3a10dcb',\n 'd987d9f8-d592-11ee-852e-1aa6e3a10dcb',\n 'd987da02-d592-11ee-852e-1aa6e3a10dcb',\n 'd987da16-d592-11ee-852e-1aa6e3a10dcb',\n 'd987da2a-d592-11ee-852e-1aa6e3a10dcb',\n 'd987da34-d592-11ee-852e-1aa6e3a10dcb',\n 'd987da48-d592-11ee-852e-1aa6e3a10dcb',\n 'd987da5c-d592-11ee-852e-1aa6e3a10dcb',\n 'd987da66-d592-11ee-852e-1aa6e3a10dcb',\n 'd987da7a-d592-11ee-852e-1aa6e3a10dcb',\n 'd987da8e-d592-11ee-852e-1aa6e3a10dcb',\n 'd987da98-d592-11ee-852e-1aa6e3a10dcb',\n 'd987daac-d592-11ee-852e-1aa6e3a10dcb',\n 'd987dac0-d592-11ee-852e-1aa6e3a10dcb',\n 'd987daca-d592-11ee-852e-1aa6e3a10dcb',\n 'd987dade-d592-11ee-852e-1aa6e3a10dcb',\n 'd987daf2-d592-11ee-852e-1aa6e3a10dcb',\n 'd987dafc-d592-11ee-852e-1aa6e3a10dcb',\n 'd987db10-d592-11ee-852e-1aa6e3a10dcb',\n 'd987db24-d592-11ee-852e-1aa6e3a10dcb',\n 'd987db2e-d592-11ee-852e-1aa6e3a10dcb',\n 'd987db6a-d592-11ee-852e-1aa6e3a10dcb',\n 'd987db7e-d592-11ee-852e-1aa6e3a10dcb',\n 'd987db92-d592-11ee-852e-1aa6e3a10dcb',\n 'd987db9c-d592-11ee-852e-1aa6e3a10dcb',\n 'd987dbb0-d592-11ee-852e-1aa6e3a10dcb',\n 'd987dbc4-d592-11ee-852e-1aa6e3a10dcb',\n 'd987dbce-d592-11ee-852e-1aa6e3a10dcb',\n 'd987dbe2-d592-11ee-852e-1aa6e3a10dcb',\n 'd987dbec-d592-11ee-852e-1aa6e3a10dcb',\n 'd987dc00-d592-11ee-852e-1aa6e3a10dcb',\n 'd987dc14-d592-11ee-852e-1aa6e3a10dcb',\n 'd987dc1e-d592-11ee-852e-1aa6e3a10dcb',\n 'd987dc32-d592-11ee-852e-1aa6e3a10dcb',\n 'd987dc46-d592-11ee-852e-1aa6e3a10dcb',\n 'd987dc50-d592-11ee-852e-1aa6e3a10dcb',\n 'd987dc64-d592-11ee-852e-1aa6e3a10dcb',\n 'd987dc78-d592-11ee-852e-1aa6e3a10dcb',\n 'd987dc82-d592-11ee-852e-1aa6e3a10dcb',\n 'd987dc96-d592-11ee-852e-1aa6e3a10dcb',\n 'd987dcaa-d592-11ee-852e-1aa6e3a10dcb',\n 'd987dcb4-d592-11ee-852e-1aa6e3a10dcb',\n 'd987dcc8-d592-11ee-852e-1aa6e3a10dcb',\n 'd987dcd2-d592-11ee-852e-1aa6e3a10dcb',\n 'd987dce6-d592-11ee-852e-1aa6e3a10dcb',\n 'd987dcfa-d592-11ee-852e-1aa6e3a10dcb',\n 'd987dd04-d592-11ee-852e-1aa6e3a10dcb',\n 'd987dd18-d592-11ee-852e-1aa6e3a10dcb',\n 'd987dd22-d592-11ee-852e-1aa6e3a10dcb',\n 'd987dd36-d592-11ee-852e-1aa6e3a10dcb',\n 'd987dd4a-d592-11ee-852e-1aa6e3a10dcb',\n 'd987dd54-d592-11ee-852e-1aa6e3a10dcb',\n 'd987dd68-d592-11ee-852e-1aa6e3a10dcb',\n 'd987dd72-d592-11ee-852e-1aa6e3a10dcb',\n 'd987dd86-d592-11ee-852e-1aa6e3a10dcb',\n 'd987dd9a-d592-11ee-852e-1aa6e3a10dcb',\n 'd987dda4-d592-11ee-852e-1aa6e3a10dcb',\n 'd987ddb8-d592-11ee-852e-1aa6e3a10dcb',\n 'd987ddcc-d592-11ee-852e-1aa6e3a10dcb',\n 'd987ddd6-d592-11ee-852e-1aa6e3a10dcb',\n 'd987ddea-d592-11ee-852e-1aa6e3a10dcb',\n 'd987ddfe-d592-11ee-852e-1aa6e3a10dcb',\n 'd987de08-d592-11ee-852e-1aa6e3a10dcb',\n 'd987de1c-d592-11ee-852e-1aa6e3a10dcb',\n 'd987de26-d592-11ee-852e-1aa6e3a10dcb',\n 'd987de3a-d592-11ee-852e-1aa6e3a10dcb',\n 'd987de4e-d592-11ee-852e-1aa6e3a10dcb',\n 'd987de58-d592-11ee-852e-1aa6e3a10dcb',\n 'd987de6c-d592-11ee-852e-1aa6e3a10dcb',\n 'd987de76-d592-11ee-852e-1aa6e3a10dcb',\n 'd987de8a-d592-11ee-852e-1aa6e3a10dcb',\n 'd987de9e-d592-11ee-852e-1aa6e3a10dcb',\n 'd987dea8-d592-11ee-852e-1aa6e3a10dcb',\n 'd987debc-d592-11ee-852e-1aa6e3a10dcb',\n 'd987ded0-d592-11ee-852e-1aa6e3a10dcb',\n 'd987deda-d592-11ee-852e-1aa6e3a10dcb',\n 'd987deee-d592-11ee-852e-1aa6e3a10dcb',\n 'd987df02-d592-11ee-852e-1aa6e3a10dcb',\n 'd987df0c-d592-11ee-852e-1aa6e3a10dcb',\n 'd987df20-d592-11ee-852e-1aa6e3a10dcb',\n 'd987df2a-d592-11ee-852e-1aa6e3a10dcb',\n 'd987df3e-d592-11ee-852e-1aa6e3a10dcb',\n 'd987df52-d592-11ee-852e-1aa6e3a10dcb',\n 'd987df5c-d592-11ee-852e-1aa6e3a10dcb',\n 'd987df70-d592-11ee-852e-1aa6e3a10dcb',\n 'd987df84-d592-11ee-852e-1aa6e3a10dcb',\n 'd987df8e-d592-11ee-852e-1aa6e3a10dcb',\n 'd987dfa2-d592-11ee-852e-1aa6e3a10dcb',\n 'd987dfb6-d592-11ee-852e-1aa6e3a10dcb',\n 'd987dfc0-d592-11ee-852e-1aa6e3a10dcb',\n 'd987dfd4-d592-11ee-852e-1aa6e3a10dcb',\n 'd987dfe8-d592-11ee-852e-1aa6e3a10dcb',\n 'd987dff2-d592-11ee-852e-1aa6e3a10dcb',\n 'd987e006-d592-11ee-852e-1aa6e3a10dcb',\n 'd987e010-d592-11ee-852e-1aa6e3a10dcb',\n 'd987e024-d592-11ee-852e-1aa6e3a10dcb',\n 'd987e038-d592-11ee-852e-1aa6e3a10dcb',\n 'd987e042-d592-11ee-852e-1aa6e3a10dcb',\n 'd987e056-d592-11ee-852e-1aa6e3a10dcb',\n 'd987e060-d592-11ee-852e-1aa6e3a10dcb',\n 'd987e074-d592-11ee-852e-1aa6e3a10dcb',\n 'd987e088-d592-11ee-852e-1aa6e3a10dcb',\n 'd987e092-d592-11ee-852e-1aa6e3a10dcb',\n 'd987e0a6-d592-11ee-852e-1aa6e3a10dcb',\n 'd987e0ba-d592-11ee-852e-1aa6e3a10dcb',\n 'd987e0c4-d592-11ee-852e-1aa6e3a10dcb',\n 'd987e0d8-d592-11ee-852e-1aa6e3a10dcb',\n 'd987e0e2-d592-11ee-852e-1aa6e3a10dcb',\n 'd987e0f6-d592-11ee-852e-1aa6e3a10dcb',\n 'd987e10a-d592-11ee-852e-1aa6e3a10dcb',\n 'd987e114-d592-11ee-852e-1aa6e3a10dcb',\n 'd987e128-d592-11ee-852e-1aa6e3a10dcb',\n 'd987e132-d592-11ee-852e-1aa6e3a10dcb',\n 'd987e146-d592-11ee-852e-1aa6e3a10dcb',\n 'd987e15a-d592-11ee-852e-1aa6e3a10dcb',\n 'd987e164-d592-11ee-852e-1aa6e3a10dcb',\n 'd987e178-d592-11ee-852e-1aa6e3a10dcb',\n 'd987e18c-d592-11ee-852e-1aa6e3a10dcb',\n 'd987e196-d592-11ee-852e-1aa6e3a10dcb',\n 'd987e1aa-d592-11ee-852e-1aa6e3a10dcb',\n 'd987e1b4-d592-11ee-852e-1aa6e3a10dcb',\n 'd987e1c8-d592-11ee-852e-1aa6e3a10dcb',\n 'd987e1dc-d592-11ee-852e-1aa6e3a10dcb',\n 'd987e1e6-d592-11ee-852e-1aa6e3a10dcb',\n 'd987e1fa-d592-11ee-852e-1aa6e3a10dcb',\n 'd987e20e-d592-11ee-852e-1aa6e3a10dcb',\n 'd987e218-d592-11ee-852e-1aa6e3a10dcb',\n 'd987e22c-d592-11ee-852e-1aa6e3a10dcb',\n 'd987e236-d592-11ee-852e-1aa6e3a10dcb',\n 'd987e24a-d592-11ee-852e-1aa6e3a10dcb',\n 'd987e25e-d592-11ee-852e-1aa6e3a10dcb',\n 'd987e268-d592-11ee-852e-1aa6e3a10dcb',\n 'd987e27c-d592-11ee-852e-1aa6e3a10dcb',\n 'd987e290-d592-11ee-852e-1aa6e3a10dcb',\n 'd987e29a-d592-11ee-852e-1aa6e3a10dcb',\n 'd987e2ae-d592-11ee-852e-1aa6e3a10dcb',\n 'd987e2c2-d592-11ee-852e-1aa6e3a10dcb',\n 'd987e2cc-d592-11ee-852e-1aa6e3a10dcb',\n 'd987e2e0-d592-11ee-852e-1aa6e3a10dcb',\n 'd987e2ea-d592-11ee-852e-1aa6e3a10dcb',\n 'd987e2fe-d592-11ee-852e-1aa6e3a10dcb',\n 'd987e312-d592-11ee-852e-1aa6e3a10dcb',\n 'd987e326-d592-11ee-852e-1aa6e3a10dcb',\n 'd987e330-d592-11ee-852e-1aa6e3a10dcb',\n 'd987e344-d592-11ee-852e-1aa6e3a10dcb',\n 'd987e34e-d592-11ee-852e-1aa6e3a10dcb',\n 'd987e362-d592-11ee-852e-1aa6e3a10dcb',\n 'd987e376-d592-11ee-852e-1aa6e3a10dcb',\n 'd987e380-d592-11ee-852e-1aa6e3a10dcb',\n 'd987e394-d592-11ee-852e-1aa6e3a10dcb',\n 'd987e3a8-d592-11ee-852e-1aa6e3a10dcb',\n 'd987e3b2-d592-11ee-852e-1aa6e3a10dcb',\n 'd987e3c6-d592-11ee-852e-1aa6e3a10dcb',\n 'd987e3da-d592-11ee-852e-1aa6e3a10dcb',\n 'd987e3e4-d592-11ee-852e-1aa6e3a10dcb',\n 'd987e3f8-d592-11ee-852e-1aa6e3a10dcb',\n 'd987e402-d592-11ee-852e-1aa6e3a10dcb',\n 'd987e416-d592-11ee-852e-1aa6e3a10dcb',\n 'd987e42a-d592-11ee-852e-1aa6e3a10dcb',\n 'd987e434-d592-11ee-852e-1aa6e3a10dcb',\n 'd987e448-d592-11ee-852e-1aa6e3a10dcb',\n 'd987e45c-d592-11ee-852e-1aa6e3a10dcb',\n 'd987e466-d592-11ee-852e-1aa6e3a10dcb',\n 'd987e47a-d592-11ee-852e-1aa6e3a10dcb',\n 'd987e484-d592-11ee-852e-1aa6e3a10dcb',\n 'd987e498-d592-11ee-852e-1aa6e3a10dcb',\n 'd987e4ac-d592-11ee-852e-1aa6e3a10dcb',\n 'd987e4b6-d592-11ee-852e-1aa6e3a10dcb',\n 'd987e4ca-d592-11ee-852e-1aa6e3a10dcb',\n 'd987e4de-d592-11ee-852e-1aa6e3a10dcb',\n 'd987e4f2-d592-11ee-852e-1aa6e3a10dcb',\n 'd987e4fc-d592-11ee-852e-1aa6e3a10dcb',\n 'd987e510-d592-11ee-852e-1aa6e3a10dcb',\n 'd987e524-d592-11ee-852e-1aa6e3a10dcb',\n 'd987e52e-d592-11ee-852e-1aa6e3a10dcb',\n 'd987e542-d592-11ee-852e-1aa6e3a10dcb',\n 'd987e556-d592-11ee-852e-1aa6e3a10dcb',\n 'd987e560-d592-11ee-852e-1aa6e3a10dcb',\n 'd987e574-d592-11ee-852e-1aa6e3a10dcb',\n 'd987e57e-d592-11ee-852e-1aa6e3a10dcb',\n 'd987e592-d592-11ee-852e-1aa6e3a10dcb',\n 'd987e59c-d592-11ee-852e-1aa6e3a10dcb',\n 'd987e5b0-d592-11ee-852e-1aa6e3a10dcb',\n 'd987e5c4-d592-11ee-852e-1aa6e3a10dcb',\n 'd987e5ce-d592-11ee-852e-1aa6e3a10dcb',\n 'd987e5e2-d592-11ee-852e-1aa6e3a10dcb',\n 'd987e5f6-d592-11ee-852e-1aa6e3a10dcb',\n 'd987e600-d592-11ee-852e-1aa6e3a10dcb',\n 'd987e614-d592-11ee-852e-1aa6e3a10dcb',\n 'd987e61e-d592-11ee-852e-1aa6e3a10dcb',\n 'd987e632-d592-11ee-852e-1aa6e3a10dcb',\n 'd987e678-d592-11ee-852e-1aa6e3a10dcb',\n 'd987e68c-d592-11ee-852e-1aa6e3a10dcb',\n 'd987e6a0-d592-11ee-852e-1aa6e3a10dcb',\n 'd987e6aa-d592-11ee-852e-1aa6e3a10dcb',\n 'd987e6be-d592-11ee-852e-1aa6e3a10dcb',\n 'd987e6d2-d592-11ee-852e-1aa6e3a10dcb',\n 'd987e6dc-d592-11ee-852e-1aa6e3a10dcb',\n 'd987e6f0-d592-11ee-852e-1aa6e3a10dcb',\n 'd987e704-d592-11ee-852e-1aa6e3a10dcb',\n 'd987e70e-d592-11ee-852e-1aa6e3a10dcb',\n 'd987e722-d592-11ee-852e-1aa6e3a10dcb',\n 'd987e736-d592-11ee-852e-1aa6e3a10dcb',\n 'd987e740-d592-11ee-852e-1aa6e3a10dcb',\n 'd987e754-d592-11ee-852e-1aa6e3a10dcb',\n 'd987e75e-d592-11ee-852e-1aa6e3a10dcb',\n 'd987e772-d592-11ee-852e-1aa6e3a10dcb',\n 'd987e786-d592-11ee-852e-1aa6e3a10dcb',\n 'd987e790-d592-11ee-852e-1aa6e3a10dcb',\n 'd987e7a4-d592-11ee-852e-1aa6e3a10dcb',\n 'd987e7b8-d592-11ee-852e-1aa6e3a10dcb',\n 'd987e7c2-d592-11ee-852e-1aa6e3a10dcb',\n 'd987e7d6-d592-11ee-852e-1aa6e3a10dcb',\n 'd987e7e0-d592-11ee-852e-1aa6e3a10dcb',\n 'd987e7f4-d592-11ee-852e-1aa6e3a10dcb',\n 'd987e808-d592-11ee-852e-1aa6e3a10dcb',\n 'd987e81c-d592-11ee-852e-1aa6e3a10dcb',\n 'd987e826-d592-11ee-852e-1aa6e3a10dcb',\n 'd987e83a-d592-11ee-852e-1aa6e3a10dcb',\n 'd987e844-d592-11ee-852e-1aa6e3a10dcb',\n 'd987e858-d592-11ee-852e-1aa6e3a10dcb',\n 'd987e86c-d592-11ee-852e-1aa6e3a10dcb',\n 'd987e880-d592-11ee-852e-1aa6e3a10dcb',\n 'd987e89e-d592-11ee-852e-1aa6e3a10dcb',\n 'd987e8b2-d592-11ee-852e-1aa6e3a10dcb',\n 'd987e8c6-d592-11ee-852e-1aa6e3a10dcb',\n 'd987e8e4-d592-11ee-852e-1aa6e3a10dcb',\n 'd987e8f8-d592-11ee-852e-1aa6e3a10dcb',\n 'd987e90c-d592-11ee-852e-1aa6e3a10dcb',\n 'd987e920-d592-11ee-852e-1aa6e3a10dcb',\n 'd987e93e-d592-11ee-852e-1aa6e3a10dcb',\n 'd987e952-d592-11ee-852e-1aa6e3a10dcb',\n 'd987e966-d592-11ee-852e-1aa6e3a10dcb',\n 'd987e984-d592-11ee-852e-1aa6e3a10dcb',\n 'd987e998-d592-11ee-852e-1aa6e3a10dcb',\n 'd987e9ac-d592-11ee-852e-1aa6e3a10dcb',\n 'd987e9ca-d592-11ee-852e-1aa6e3a10dcb',\n 'd987e9de-d592-11ee-852e-1aa6e3a10dcb',\n 'd987e9f2-d592-11ee-852e-1aa6e3a10dcb',\n 'd987ea10-d592-11ee-852e-1aa6e3a10dcb',\n 'd987ea24-d592-11ee-852e-1aa6e3a10dcb',\n 'd987ea38-d592-11ee-852e-1aa6e3a10dcb',\n 'd987ea4c-d592-11ee-852e-1aa6e3a10dcb',\n 'd987ea6a-d592-11ee-852e-1aa6e3a10dcb',\n 'd987ea7e-d592-11ee-852e-1aa6e3a10dcb',\n 'd987ea92-d592-11ee-852e-1aa6e3a10dcb',\n 'd987eac4-d592-11ee-852e-1aa6e3a10dcb',\n 'd987eae2-d592-11ee-852e-1aa6e3a10dcb',\n 'd987eaf6-d592-11ee-852e-1aa6e3a10dcb',\n 'd987eb0a-d592-11ee-852e-1aa6e3a10dcb',\n 'd987eb28-d592-11ee-852e-1aa6e3a10dcb',\n 'd987eb3c-d592-11ee-852e-1aa6e3a10dcb',\n 'd987eb50-d592-11ee-852e-1aa6e3a10dcb',\n 'd987eb64-d592-11ee-852e-1aa6e3a10dcb',\n 'd987eb82-d592-11ee-852e-1aa6e3a10dcb',\n 'd987eb96-d592-11ee-852e-1aa6e3a10dcb',\n 'd987ebb4-d592-11ee-852e-1aa6e3a10dcb',\n 'd987ebc8-d592-11ee-852e-1aa6e3a10dcb',\n 'd987ebe6-d592-11ee-852e-1aa6e3a10dcb',\n 'd987ebfa-d592-11ee-852e-1aa6e3a10dcb',\n 'd987ec0e-d592-11ee-852e-1aa6e3a10dcb',\n 'd987ec22-d592-11ee-852e-1aa6e3a10dcb',\n 'd987ec36-d592-11ee-852e-1aa6e3a10dcb',\n 'd987ec40-d592-11ee-852e-1aa6e3a10dcb',\n 'd987ec54-d592-11ee-852e-1aa6e3a10dcb',\n 'd987ec68-d592-11ee-852e-1aa6e3a10dcb',\n 'd987ec72-d592-11ee-852e-1aa6e3a10dcb',\n 'd987ec86-d592-11ee-852e-1aa6e3a10dcb',\n 'd987ec9a-d592-11ee-852e-1aa6e3a10dcb',\n 'd987eca4-d592-11ee-852e-1aa6e3a10dcb',\n 'd987ecb8-d592-11ee-852e-1aa6e3a10dcb',\n 'd987ecc2-d592-11ee-852e-1aa6e3a10dcb',\n 'd987ecd6-d592-11ee-852e-1aa6e3a10dcb',\n 'd987ecea-d592-11ee-852e-1aa6e3a10dcb',\n 'd987ecf4-d592-11ee-852e-1aa6e3a10dcb',\n 'd987ed08-d592-11ee-852e-1aa6e3a10dcb',\n 'd987ed12-d592-11ee-852e-1aa6e3a10dcb',\n 'd987ed26-d592-11ee-852e-1aa6e3a10dcb',\n 'd987ed3a-d592-11ee-852e-1aa6e3a10dcb',\n 'd987ed44-d592-11ee-852e-1aa6e3a10dcb',\n 'd987ed58-d592-11ee-852e-1aa6e3a10dcb',\n 'd987ed6c-d592-11ee-852e-1aa6e3a10dcb',\n 'd987ed80-d592-11ee-852e-1aa6e3a10dcb',\n 'd987ed8a-d592-11ee-852e-1aa6e3a10dcb',\n 'd987ed9e-d592-11ee-852e-1aa6e3a10dcb',\n 'd987eda8-d592-11ee-852e-1aa6e3a10dcb',\n 'd987edbc-d592-11ee-852e-1aa6e3a10dcb',\n 'd987edd0-d592-11ee-852e-1aa6e3a10dcb',\n 'd987edda-d592-11ee-852e-1aa6e3a10dcb',\n 'd987edee-d592-11ee-852e-1aa6e3a10dcb',\n 'd987edf8-d592-11ee-852e-1aa6e3a10dcb',\n 'd987ee0c-d592-11ee-852e-1aa6e3a10dcb',\n 'd987ee20-d592-11ee-852e-1aa6e3a10dcb',\n 'd987ee2a-d592-11ee-852e-1aa6e3a10dcb',\n 'd987ee3e-d592-11ee-852e-1aa6e3a10dcb',\n 'd987ee48-d592-11ee-852e-1aa6e3a10dcb',\n 'd987ee5c-d592-11ee-852e-1aa6e3a10dcb',\n 'd987ee66-d592-11ee-852e-1aa6e3a10dcb',\n 'd987ee7a-d592-11ee-852e-1aa6e3a10dcb',\n 'd987ee8e-d592-11ee-852e-1aa6e3a10dcb',\n 'd987eea2-d592-11ee-852e-1aa6e3a10dcb',\n 'd987eeac-d592-11ee-852e-1aa6e3a10dcb',\n 'd987eec0-d592-11ee-852e-1aa6e3a10dcb',\n 'd987eeca-d592-11ee-852e-1aa6e3a10dcb',\n 'd987eede-d592-11ee-852e-1aa6e3a10dcb',\n 'd987eef2-d592-11ee-852e-1aa6e3a10dcb',\n 'd987eefc-d592-11ee-852e-1aa6e3a10dcb',\n 'd987ef10-d592-11ee-852e-1aa6e3a10dcb',\n 'd987ef24-d592-11ee-852e-1aa6e3a10dcb',\n 'd987ef2e-d592-11ee-852e-1aa6e3a10dcb',\n 'd987ef42-d592-11ee-852e-1aa6e3a10dcb',\n 'd987ef56-d592-11ee-852e-1aa6e3a10dcb',\n 'd987ef60-d592-11ee-852e-1aa6e3a10dcb',\n 'd987ef74-d592-11ee-852e-1aa6e3a10dcb',\n 'd987ef7e-d592-11ee-852e-1aa6e3a10dcb',\n 'd987ef92-d592-11ee-852e-1aa6e3a10dcb',\n 'd987efa6-d592-11ee-852e-1aa6e3a10dcb',\n 'd987efb0-d592-11ee-852e-1aa6e3a10dcb',\n 'd987efc4-d592-11ee-852e-1aa6e3a10dcb',\n 'd987efd8-d592-11ee-852e-1aa6e3a10dcb',\n 'd987efe2-d592-11ee-852e-1aa6e3a10dcb',\n 'd987eff6-d592-11ee-852e-1aa6e3a10dcb',\n 'd987f00a-d592-11ee-852e-1aa6e3a10dcb',\n 'd987f014-d592-11ee-852e-1aa6e3a10dcb',\n 'd987f028-d592-11ee-852e-1aa6e3a10dcb',\n 'd987f03c-d592-11ee-852e-1aa6e3a10dcb',\n 'd987f046-d592-11ee-852e-1aa6e3a10dcb',\n 'd987f05a-d592-11ee-852e-1aa6e3a10dcb',\n 'd987f06e-d592-11ee-852e-1aa6e3a10dcb',\n 'd987f078-d592-11ee-852e-1aa6e3a10dcb',\n 'd987f08c-d592-11ee-852e-1aa6e3a10dcb',\n 'd987f0a0-d592-11ee-852e-1aa6e3a10dcb',\n 'd987f0aa-d592-11ee-852e-1aa6e3a10dcb',\n 'd987f0be-d592-11ee-852e-1aa6e3a10dcb',\n 'd987f0c8-d592-11ee-852e-1aa6e3a10dcb',\n 'd987f0dc-d592-11ee-852e-1aa6e3a10dcb',\n 'd987f0f0-d592-11ee-852e-1aa6e3a10dcb',\n 'd987f0fa-d592-11ee-852e-1aa6e3a10dcb',\n 'd987f10e-d592-11ee-852e-1aa6e3a10dcb',\n 'd987f122-d592-11ee-852e-1aa6e3a10dcb',\n 'd987f12c-d592-11ee-852e-1aa6e3a10dcb',\n 'd987f140-d592-11ee-852e-1aa6e3a10dcb',\n 'd987f154-d592-11ee-852e-1aa6e3a10dcb',\n 'd987f15e-d592-11ee-852e-1aa6e3a10dcb',\n 'd987f172-d592-11ee-852e-1aa6e3a10dcb',\n 'd987f186-d592-11ee-852e-1aa6e3a10dcb',\n 'd987f190-d592-11ee-852e-1aa6e3a10dcb',\n 'd987f1a4-d592-11ee-852e-1aa6e3a10dcb',\n 'd987f1b8-d592-11ee-852e-1aa6e3a10dcb',\n 'd987f1c2-d592-11ee-852e-1aa6e3a10dcb',\n 'd987f1d6-d592-11ee-852e-1aa6e3a10dcb',\n 'd987f1e0-d592-11ee-852e-1aa6e3a10dcb',\n 'd987f1f4-d592-11ee-852e-1aa6e3a10dcb',\n 'd987f208-d592-11ee-852e-1aa6e3a10dcb',\n 'd987f21c-d592-11ee-852e-1aa6e3a10dcb',\n 'd987f226-d592-11ee-852e-1aa6e3a10dcb',\n 'd987f23a-d592-11ee-852e-1aa6e3a10dcb',\n 'd987f24e-d592-11ee-852e-1aa6e3a10dcb',\n 'd987f262-d592-11ee-852e-1aa6e3a10dcb',\n 'd987f26c-d592-11ee-852e-1aa6e3a10dcb',\n 'd987f280-d592-11ee-852e-1aa6e3a10dcb',\n 'd987f2d0-d592-11ee-852e-1aa6e3a10dcb',\n 'd987f2e4-d592-11ee-852e-1aa6e3a10dcb',\n 'd987f2ee-d592-11ee-852e-1aa6e3a10dcb',\n 'd987f302-d592-11ee-852e-1aa6e3a10dcb',\n 'd987f30c-d592-11ee-852e-1aa6e3a10dcb',\n 'd987f320-d592-11ee-852e-1aa6e3a10dcb',\n 'd987f334-d592-11ee-852e-1aa6e3a10dcb',\n 'd987f348-d592-11ee-852e-1aa6e3a10dcb',\n 'd987f352-d592-11ee-852e-1aa6e3a10dcb',\n 'd987f366-d592-11ee-852e-1aa6e3a10dcb',\n 'd987f370-d592-11ee-852e-1aa6e3a10dcb',\n 'd987f384-d592-11ee-852e-1aa6e3a10dcb',\n 'd987f398-d592-11ee-852e-1aa6e3a10dcb',\n 'd987f3a2-d592-11ee-852e-1aa6e3a10dcb',\n 'd987f3b6-d592-11ee-852e-1aa6e3a10dcb',\n 'd987f3ca-d592-11ee-852e-1aa6e3a10dcb',\n 'd987f3d4-d592-11ee-852e-1aa6e3a10dcb',\n 'd987f3e8-d592-11ee-852e-1aa6e3a10dcb',\n 'd987f3fc-d592-11ee-852e-1aa6e3a10dcb',\n 'd987f406-d592-11ee-852e-1aa6e3a10dcb',\n 'd987f41a-d592-11ee-852e-1aa6e3a10dcb',\n 'd987f42e-d592-11ee-852e-1aa6e3a10dcb',\n 'd987f438-d592-11ee-852e-1aa6e3a10dcb',\n 'd987f44c-d592-11ee-852e-1aa6e3a10dcb',\n 'd987f460-d592-11ee-852e-1aa6e3a10dcb',\n 'd987f46a-d592-11ee-852e-1aa6e3a10dcb',\n 'd987f47e-d592-11ee-852e-1aa6e3a10dcb',\n 'd987f488-d592-11ee-852e-1aa6e3a10dcb',\n 'd987f49c-d592-11ee-852e-1aa6e3a10dcb',\n 'd987f4b0-d592-11ee-852e-1aa6e3a10dcb',\n 'd987f4ba-d592-11ee-852e-1aa6e3a10dcb',\n 'd987f4ce-d592-11ee-852e-1aa6e3a10dcb',\n 'd987f4e2-d592-11ee-852e-1aa6e3a10dcb',\n 'd987f4ec-d592-11ee-852e-1aa6e3a10dcb',\n 'd987f500-d592-11ee-852e-1aa6e3a10dcb',\n 'd987f514-d592-11ee-852e-1aa6e3a10dcb',\n 'd987f51e-d592-11ee-852e-1aa6e3a10dcb',\n 'd987f532-d592-11ee-852e-1aa6e3a10dcb',\n 'd987f546-d592-11ee-852e-1aa6e3a10dcb',\n 'd987f550-d592-11ee-852e-1aa6e3a10dcb',\n 'd987f564-d592-11ee-852e-1aa6e3a10dcb',\n 'd987f56e-d592-11ee-852e-1aa6e3a10dcb',\n 'd987f582-d592-11ee-852e-1aa6e3a10dcb',\n 'd987f596-d592-11ee-852e-1aa6e3a10dcb',\n 'd987f5a0-d592-11ee-852e-1aa6e3a10dcb',\n 'd987f5b4-d592-11ee-852e-1aa6e3a10dcb',\n 'd987f5c8-d592-11ee-852e-1aa6e3a10dcb',\n 'd987f5d2-d592-11ee-852e-1aa6e3a10dcb',\n 'd987f5e6-d592-11ee-852e-1aa6e3a10dcb',\n 'd987f5fa-d592-11ee-852e-1aa6e3a10dcb',\n 'd987f604-d592-11ee-852e-1aa6e3a10dcb',\n 'd987f618-d592-11ee-852e-1aa6e3a10dcb',\n 'd987f62c-d592-11ee-852e-1aa6e3a10dcb',\n 'd987f636-d592-11ee-852e-1aa6e3a10dcb',\n 'd987f64a-d592-11ee-852e-1aa6e3a10dcb',\n 'd987f65e-d592-11ee-852e-1aa6e3a10dcb',\n 'd987f668-d592-11ee-852e-1aa6e3a10dcb',\n 'd987f67c-d592-11ee-852e-1aa6e3a10dcb',\n 'd987f686-d592-11ee-852e-1aa6e3a10dcb',\n 'd987f69a-d592-11ee-852e-1aa6e3a10dcb',\n 'd987f6ae-d592-11ee-852e-1aa6e3a10dcb',\n 'd987f6b8-d592-11ee-852e-1aa6e3a10dcb',\n 'd987f6cc-d592-11ee-852e-1aa6e3a10dcb',\n 'd987f6e0-d592-11ee-852e-1aa6e3a10dcb',\n 'd987f6f4-d592-11ee-852e-1aa6e3a10dcb',\n 'd987f6fe-d592-11ee-852e-1aa6e3a10dcb',\n 'd987f712-d592-11ee-852e-1aa6e3a10dcb',\n 'd987f71c-d592-11ee-852e-1aa6e3a10dcb',\n 'd987f730-d592-11ee-852e-1aa6e3a10dcb',\n 'd987f744-d592-11ee-852e-1aa6e3a10dcb',\n 'd987f74e-d592-11ee-852e-1aa6e3a10dcb',\n 'd987f762-d592-11ee-852e-1aa6e3a10dcb',\n 'd987f76c-d592-11ee-852e-1aa6e3a10dcb',\n 'd987f780-d592-11ee-852e-1aa6e3a10dcb',\n 'd987f78a-d592-11ee-852e-1aa6e3a10dcb',\n 'd987f79e-d592-11ee-852e-1aa6e3a10dcb',\n 'd987f7b2-d592-11ee-852e-1aa6e3a10dcb',\n 'd987f7bc-d592-11ee-852e-1aa6e3a10dcb',\n 'd987f7d0-d592-11ee-852e-1aa6e3a10dcb',\n 'd987f7e4-d592-11ee-852e-1aa6e3a10dcb',\n 'd987f7ee-d592-11ee-852e-1aa6e3a10dcb',\n 'd987f802-d592-11ee-852e-1aa6e3a10dcb',\n 'd987f80c-d592-11ee-852e-1aa6e3a10dcb',\n 'd987f820-d592-11ee-852e-1aa6e3a10dcb',\n 'd987f834-d592-11ee-852e-1aa6e3a10dcb',\n 'd987f83e-d592-11ee-852e-1aa6e3a10dcb',\n 'd987f852-d592-11ee-852e-1aa6e3a10dcb',\n 'd987f866-d592-11ee-852e-1aa6e3a10dcb',\n 'd987f870-d592-11ee-852e-1aa6e3a10dcb',\n 'd987f884-d592-11ee-852e-1aa6e3a10dcb',\n 'd987f898-d592-11ee-852e-1aa6e3a10dcb',\n 'd987f8a2-d592-11ee-852e-1aa6e3a10dcb',\n 'd987f8b6-d592-11ee-852e-1aa6e3a10dcb',\n 'd987f8c0-d592-11ee-852e-1aa6e3a10dcb',\n 'd987f8d4-d592-11ee-852e-1aa6e3a10dcb',\n 'd987f8e8-d592-11ee-852e-1aa6e3a10dcb',\n 'd987f8fc-d592-11ee-852e-1aa6e3a10dcb',\n 'd987f906-d592-11ee-852e-1aa6e3a10dcb',\n 'd987f91a-d592-11ee-852e-1aa6e3a10dcb',\n 'd987f92e-d592-11ee-852e-1aa6e3a10dcb',\n 'd987f938-d592-11ee-852e-1aa6e3a10dcb',\n 'd987f94c-d592-11ee-852e-1aa6e3a10dcb',\n 'd987f956-d592-11ee-852e-1aa6e3a10dcb',\n 'd987f96a-d592-11ee-852e-1aa6e3a10dcb',\n 'd987f97e-d592-11ee-852e-1aa6e3a10dcb',\n 'd987f992-d592-11ee-852e-1aa6e3a10dcb',\n 'd987f99c-d592-11ee-852e-1aa6e3a10dcb',\n 'd987f9b0-d592-11ee-852e-1aa6e3a10dcb',\n 'd987f9c4-d592-11ee-852e-1aa6e3a10dcb',\n 'd987f9ce-d592-11ee-852e-1aa6e3a10dcb',\n 'd987f9e2-d592-11ee-852e-1aa6e3a10dcb',\n 'd987f9f6-d592-11ee-852e-1aa6e3a10dcb',\n 'd987fa00-d592-11ee-852e-1aa6e3a10dcb',\n 'd987fa14-d592-11ee-852e-1aa6e3a10dcb',\n 'd987fa28-d592-11ee-852e-1aa6e3a10dcb',\n 'd987fa32-d592-11ee-852e-1aa6e3a10dcb',\n 'd987fa46-d592-11ee-852e-1aa6e3a10dcb',\n 'd987fa50-d592-11ee-852e-1aa6e3a10dcb',\n 'd987fa64-d592-11ee-852e-1aa6e3a10dcb',\n 'd987fa78-d592-11ee-852e-1aa6e3a10dcb',\n 'd987fa8c-d592-11ee-852e-1aa6e3a10dcb',\n 'd987fa96-d592-11ee-852e-1aa6e3a10dcb',\n 'd987faaa-d592-11ee-852e-1aa6e3a10dcb',\n 'd987fab4-d592-11ee-852e-1aa6e3a10dcb',\n 'd987fac8-d592-11ee-852e-1aa6e3a10dcb',\n 'd987fadc-d592-11ee-852e-1aa6e3a10dcb',\n 'd987fae6-d592-11ee-852e-1aa6e3a10dcb',\n 'd987fafa-d592-11ee-852e-1aa6e3a10dcb',\n 'd987fb0e-d592-11ee-852e-1aa6e3a10dcb',\n 'd987fb18-d592-11ee-852e-1aa6e3a10dcb',\n 'd987fb2c-d592-11ee-852e-1aa6e3a10dcb',\n 'd987fb36-d592-11ee-852e-1aa6e3a10dcb',\n 'd987fb4a-d592-11ee-852e-1aa6e3a10dcb',\n 'd987fb5e-d592-11ee-852e-1aa6e3a10dcb',\n 'd987fb68-d592-11ee-852e-1aa6e3a10dcb',\n ...]"
     },
     "execution_count": 7,
     "metadata": {},
     "output_type": "execute_result"
    }
   ],
   "source": [
    "from langchain_community.embeddings import FakeEmbeddings\n",
    "from langchain_openai import OpenAIEmbeddings\n",
    "from langchain_community.embeddings import HuggingFaceEmbeddings\n",
    "\n",
    "embeddings = HuggingFaceEmbeddings()\n",
    "\n",
    "chroma_client = chromadb.HttpClient(host='localhost', port=8000)\n",
    "chroma_client.reset()\n",
    "\n",
    "langchain_chroma = Chroma(\n",
    "    client=chroma_client,\n",
    "    collection_name=\"my_langchain_collection\",\n",
    "    embedding_function=embeddings,\n",
    ")\n",
    "\n",
    "langchain_chroma.add_documents(documents=documents)"
   ],
   "metadata": {
    "collapsed": false,
    "ExecuteTime": {
     "end_time": "2024-02-27T17:13:40.576658Z",
     "start_time": "2024-02-27T17:08:22.728077Z"
    }
   },
   "id": "c97846c14d184275",
   "execution_count": 7
  },
  {
   "cell_type": "markdown",
   "source": [
    "## Similarity Search\n",
    "Query against the collection"
   ],
   "metadata": {
    "collapsed": false
   },
   "id": "77921a2093b82f8c"
  },
  {
   "cell_type": "code",
   "outputs": [
    {
     "name": "stdout",
     "output_type": "stream",
     "text": [
      "What is the innovation behind Leclanché's new method to produce lithium-ion batteries?\n",
      ": 6780\n",
      "content: ['Energy storage company Leclanché ( SW.LECN) has designed a new battery cell that uses less cobalt and boosts energy density by 20%. The company says it is also produced in an environmentally friendly way, making it more recyclable or easy to dispose of at end-of-life.', 'Leclanché said it has developed an environmentally friendly way to produce lithium-ion ( Li-ion) batteries. It has replaced highly toxic organic solvents, commonly used in the production process, with a water-based process to make nickel-manganese-cobalt-aluminium cathodes ( NMCA).', 'Organic solvents, such as N-methyl pyrrolidone ( NMP), are highly toxic and harmful to the environment. The use of NMP has been restricted by the European Commission, having been added to the list of Substances of Very High Concern, which can have serious irreversible effects on human health and the environment.', 'Besides being technically simpler, eliminating the use of organic solvents also eliminates the risk of explosion, making the production process safer for employees. Leclanché claims to be a global pioneer in the field, having used aqueous binders in its for over a decade.', 'A further benefit of the water-based process is a lower carbon footprint, as it uses 30% less energy, which would otherwise be needed to dry, or evaporate, and recycle the solvents.', '“ With the water-based production of the high-capacity NMCA cathodes, we have reached a decisive milestone in lithium-ion technology, ” said Dr Hilmi Buqa, vice president R & D at Leclanché. “ Until now, producing them using environmentally friendly processes was considered impossible. But, now we have mastered the process. ”', 'In developing its new G/NMCA battery, Leclanché has increased the nickel content of the cathode to around 90%, which has the effect of increasing the energy density. The ‘ G’ refers to the graphite anode. Increasing the nickel content allows for the cobalt content to be reduced from 20% to 5%.', 'Compared to conventional G/NMC cells, these high-capacity NMCA cathodes also enable a 20% increase in the energy density of a typical Li-ion battery. It also enables a longer service life, high cycle stability and good chargeability.', 'The new cells are best suited for electric vehicles and heavy-duty transport applications, such as ships, buses and trucks, due to their high-volume energy density and high cycle stability.', 'In December 2022, US-based startup Group14 attracted $ 614 million in one of the largest climate tech fundraises in 2022. Its promise to address supply chain risks and battery performance issues is becoming particularly compelling in the sector.', 'Group14 has replaced graphite with silicon in a Li-ion battery, which it claims can improve battery performance. A graphite anode in a typical Li-ion battery takes up 60% of the space in a battery cell, while the company’ s silicon-based design only takes up 25% of the space. This leaves 75% of battery cell space for the lithium cathode, which is where the charge density resides.']\n",
      "{'author': '', 'date': '2023-01-20', 'domain': 'energyvoice', 'row': 1106, 'source': './data/Cleantech Media Dataset/cleantech_media_dataset_v2_2024-02-23.csv', 'title': 'Leclanché’ s new disruptive battery boosts energy density', 'url': 'https://sgvoice.energyvoice.com/strategy/technology/23971/leclanches-new-disruptive-battery-boosts-energy-density/'}\n"
     ]
    }
   ],
   "source": [
    "# based on the rag evaluation set\n",
    "print(evaluation_set.iloc[0].question)\n",
    "docs = langchain_chroma.similarity_search(evaluation_set.iloc[0].question)\n",
    "print(docs[0].page_content)\n",
    "print(docs[0].metadata)"
   ],
   "metadata": {
    "collapsed": false,
    "ExecuteTime": {
     "end_time": "2024-02-27T17:13:41.537155Z",
     "start_time": "2024-02-27T17:13:40.590465Z"
    }
   },
   "id": "33982f5f51eacc7d",
   "execution_count": 8
  },
  {
   "cell_type": "code",
   "outputs": [
    {
     "data": {
      "text/plain": "'Leclanché said it has developed an environmentally friendly way to produce lithium-ion (Li-ion) batteries. It has replaced highly toxic organic solvents, commonly used in the production process, with a water-based process to make nickel-manganese-cobalt-aluminium cathodes (NMCA).'"
     },
     "execution_count": 9,
     "metadata": {},
     "output_type": "execute_result"
    }
   ],
   "source": [
    "# comparison with the intended RAG context \n",
    "\n",
    "evaluation_set.iloc[0].relevant_chunk"
   ],
   "metadata": {
    "collapsed": false,
    "ExecuteTime": {
     "end_time": "2024-02-27T17:13:41.541212Z",
     "start_time": "2024-02-27T17:13:41.538110Z"
    }
   },
   "id": "76fdba57757d9ec6",
   "execution_count": 9
  },
  {
   "cell_type": "markdown",
   "source": [
    "## similarity_search_with_score"
   ],
   "metadata": {
    "collapsed": false
   },
   "id": "b008e32acdc26cae"
  },
  {
   "cell_type": "code",
   "outputs": [
    {
     "name": "stdout",
     "output_type": "stream",
     "text": [
      ": 6780\n",
      "content: ['Energy storage company Leclanché ( SW.LECN) has designed a new battery cell that uses less cobalt and boosts energy density by 20%. The company says it is also produced in an environmentally friendly way, making it more recyclable or easy to dispose of at end-of-life.', 'Leclanché said it has developed an environmentally friendly way to produce lithium-ion ( Li-ion) batteries. It has replaced highly toxic organic solvents, commonly used in the production process, with a water-based process to make nickel-manganese-cobalt-aluminium cathodes ( NMCA).', 'Organic solvents, such as N-methyl pyrrolidone ( NMP), are highly toxic and harmful to the environment. The use of NMP has been restricted by the European Commission, having been added to the list of Substances of Very High Concern, which can have serious irreversible effects on human health and the environment.', 'Besides being technically simpler, eliminating the use of organic solvents also eliminates the risk of explosion, making the production process safer for employees. Leclanché claims to be a global pioneer in the field, having used aqueous binders in its for over a decade.', 'A further benefit of the water-based process is a lower carbon footprint, as it uses 30% less energy, which would otherwise be needed to dry, or evaporate, and recycle the solvents.', '“ With the water-based production of the high-capacity NMCA cathodes, we have reached a decisive milestone in lithium-ion technology, ” said Dr Hilmi Buqa, vice president R & D at Leclanché. “ Until now, producing them using environmentally friendly processes was considered impossible. But, now we have mastered the process. ”', 'In developing its new G/NMCA battery, Leclanché has increased the nickel content of the cathode to around 90%, which has the effect of increasing the energy density. The ‘ G’ refers to the graphite anode. Increasing the nickel content allows for the cobalt content to be reduced from 20% to 5%.', 'Compared to conventional G/NMC cells, these high-capacity NMCA cathodes also enable a 20% increase in the energy density of a typical Li-ion battery. It also enables a longer service life, high cycle stability and good chargeability.', 'The new cells are best suited for electric vehicles and heavy-duty transport applications, such as ships, buses and trucks, due to their high-volume energy density and high cycle stability.', 'In December 2022, US-based startup Group14 attracted $ 614 million in one of the largest climate tech fundraises in 2022. Its promise to address supply chain risks and battery performance issues is becoming particularly compelling in the sector.', 'Group14 has replaced graphite with silicon in a Li-ion battery, which it claims can improve battery performance. A graphite anode in a typical Li-ion battery takes up 60% of the space in a battery cell, while the company’ s silicon-based design only takes up 25% of the space. This leaves 75% of battery cell space for the lithium cathode, which is where the charge density resides.']\n",
      "{'author': '', 'date': '2023-01-20', 'domain': 'energyvoice', 'row': 1106, 'source': './data/Cleantech Media Dataset/cleantech_media_dataset_v2_2024-02-23.csv', 'title': 'Leclanché’ s new disruptive battery boosts energy density', 'url': 'https://sgvoice.energyvoice.com/strategy/technology/23971/leclanches-new-disruptive-battery-boosts-energy-density/'}\n",
      "Score:  0.6057859063148499\n"
     ]
    }
   ],
   "source": [
    "docs_score = langchain_chroma.similarity_search_with_score(evaluation_set.iloc[0].question)\n",
    "print(docs_score[0][0].page_content)\n",
    "print(docs_score[0][0].metadata)\n",
    "print(\"Score: \", docs_score[0][1])\n"
   ],
   "metadata": {
    "collapsed": false,
    "ExecuteTime": {
     "end_time": "2024-02-27T17:13:41.578681Z",
     "start_time": "2024-02-27T17:13:41.542269Z"
    }
   },
   "id": "346b89451466a482",
   "execution_count": 10
  },
  {
   "cell_type": "code",
   "outputs": [
    {
     "data": {
      "text/plain": "'Leclanché said it has developed an environmentally friendly way to produce lithium-ion (Li-ion) batteries. It has replaced highly toxic organic solvents, commonly used in the production process, with a water-based process to make nickel-manganese-cobalt-aluminium cathodes (NMCA).'"
     },
     "execution_count": 11,
     "metadata": {},
     "output_type": "execute_result"
    }
   ],
   "source": [
    "evaluation_set.iloc[0].relevant_chunk"
   ],
   "metadata": {
    "collapsed": false,
    "ExecuteTime": {
     "end_time": "2024-02-27T17:13:41.584028Z",
     "start_time": "2024-02-27T17:13:41.579646Z"
    }
   },
   "id": "6d963ff8f07d821",
   "execution_count": 11
  },
  {
   "cell_type": "markdown",
   "source": [
    "## Collection Query"
   ],
   "metadata": {
    "collapsed": false
   },
   "id": "4abe75af9f92b037"
  },
  {
   "cell_type": "code",
   "outputs": [
    {
     "data": {
      "text/plain": "{'ids': [['d98a67ae-d592-11ee-852e-1aa6e3a10dcb']],\n 'distances': [[150699479.91140756]],\n 'embeddings': None,\n 'metadatas': [[{'author': '',\n    'date': '2023-07-25',\n    'domain': 'solarindustrymag',\n    'row': 9512,\n    'source': './data/Cleantech Media Dataset/cleantech_media_dataset_v2_2024-02-23.csv',\n    'title': 'Corre Energy Agrees to West Texas Energy Storage Purchase',\n    'url': 'https://solarindustrymag.com/corre-energy-agrees-to-west-texas-energy-storage-purchase'}]],\n 'documents': [[\": 81733\\ncontent: ['Corre Energy US Development Company LLC, a North American subsidiary of Netherlands-based Corre Energy B.V., has entered into an exclusive agreement to acquire a 280 MW / 4.2 GWh energy storage project from Contour Energy, a Texas-based energy storage infrastructure developer.', 'Located in the West Texas region of ERCOT, the utility-scale storage project will be capable of continuously discharging 280 MW of electrical power for up to 15 hours, equating to 4.2 GWh of fully dispatchable electric energy storage capacity. The venture is targeted to achieve the financial investment decision stage in 2025 ahead of full commercial operation.', 'Technology for the project is based on compressed air energy storage ( CAES), a fully commercial technology that can use renewable energy to compress air into underground salt caverns when the demand for electricity is low and wholesale electricity prices are cheap. When wholesale electricity demand and prices escalate, electricity is then released to the grid.', '“ We’ ve reached a pivotal moment in the earth’ s climate crisis. Now is the time to deliver impact and invest in long-duration energy storage, ” says Keith McGrane, CEO of Corre Energy, B.V. “ CAES is a proven storage technology that can time shift electricity on a bulk basis for very long periods at a fraction of the cost of other commercial energy storage technologies. ”', 'Corre Energy US Development Company LLC was established at the beginning of 2023 to acquire early-stage projects and build others on a greenfield basis. Highly favorable government policies – notably the U.S. Inflation Reduction Act and similar financial stimulus in Canada – have created unique opportunities to expand Corre Energy B.V.’ s project portfolio.', 'Solar Industry offers industry participants probing, comprehensive assessments of the technology, tools and trends that are driving this dynamic energy sector. From raw materials straight through to end-user applications, we capture and analyze the critical details that help professionals stay current and navigate the solar market.', '© Copyright Zackin Publications Inc. All Rights Reserved.']\"]],\n 'uris': None,\n 'data': None}"
     },
     "execution_count": 12,
     "metadata": {},
     "output_type": "execute_result"
    }
   ],
   "source": [
    "langchain_collection = chroma_client.get_collection(\"my_langchain_collection\")\n",
    "\n",
    "langchain_collection.query(\n",
    "    query_embeddings=[i for i in range(768)],\n",
    "    n_results=1,\n",
    ")"
   ],
   "metadata": {
    "collapsed": false,
    "ExecuteTime": {
     "end_time": "2024-02-27T17:13:41.608789Z",
     "start_time": "2024-02-27T17:13:41.584687Z"
    }
   },
   "id": "ca76953cb521268c",
   "execution_count": 12
  },
  {
   "cell_type": "markdown",
   "source": [
    "## SelfQueryRetriever"
   ],
   "metadata": {
    "collapsed": false
   },
   "id": "d88e713739862062"
  },
  {
   "cell_type": "code",
   "outputs": [
    {
     "name": "stdout",
     "output_type": "stream",
     "text": [
      ": 6780\n",
      "content: ['Energy storage company Leclanché ( SW.LECN) has designed a new battery cell that uses less cobalt and boosts energy density by 20%. The company says it is also produced in an environmentally friendly way, making it more recyclable or easy to dispose of at end-of-life.', 'Leclanché said it has developed an environmentally friendly way to produce lithium-ion ( Li-ion) batteries. It has replaced highly toxic organic solvents, commonly used in the production process, with a water-based process to make nickel-manganese-cobalt-aluminium cathodes ( NMCA).', 'Organic solvents, such as N-methyl pyrrolidone ( NMP), are highly toxic and harmful to the environment. The use of NMP has been restricted by the European Commission, having been added to the list of Substances of Very High Concern, which can have serious irreversible effects on human health and the environment.', 'Besides being technically simpler, eliminating the use of organic solvents also eliminates the risk of explosion, making the production process safer for employees. Leclanché claims to be a global pioneer in the field, having used aqueous binders in its for over a decade.', 'A further benefit of the water-based process is a lower carbon footprint, as it uses 30% less energy, which would otherwise be needed to dry, or evaporate, and recycle the solvents.', '“ With the water-based production of the high-capacity NMCA cathodes, we have reached a decisive milestone in lithium-ion technology, ” said Dr Hilmi Buqa, vice president R & D at Leclanché. “ Until now, producing them using environmentally friendly processes was considered impossible. But, now we have mastered the process. ”', 'In developing its new G/NMCA battery, Leclanché has increased the nickel content of the cathode to around 90%, which has the effect of increasing the energy density. The ‘ G’ refers to the graphite anode. Increasing the nickel content allows for the cobalt content to be reduced from 20% to 5%.', 'Compared to conventional G/NMC cells, these high-capacity NMCA cathodes also enable a 20% increase in the energy density of a typical Li-ion battery. It also enables a longer service life, high cycle stability and good chargeability.', 'The new cells are best suited for electric vehicles and heavy-duty transport applications, such as ships, buses and trucks, due to their high-volume energy density and high cycle stability.', 'In December 2022, US-based startup Group14 attracted $ 614 million in one of the largest climate tech fundraises in 2022. Its promise to address supply chain risks and battery performance issues is becoming particularly compelling in the sector.', 'Group14 has replaced graphite with silicon in a Li-ion battery, which it claims can improve battery performance. A graphite anode in a typical Li-ion battery takes up 60% of the space in a battery cell, while the company’ s silicon-based design only takes up 25% of the space. This leaves 75% of battery cell space for the lithium cathode, which is where the charge density resides.']\n",
      "{'author': '', 'date': '2023-01-20', 'domain': 'energyvoice', 'row': 1106, 'source': './data/Cleantech Media Dataset/cleantech_media_dataset_v2_2024-02-23.csv', 'title': 'Leclanché’ s new disruptive battery boosts energy density', 'url': 'https://sgvoice.energyvoice.com/strategy/technology/23971/leclanches-new-disruptive-battery-boosts-energy-density/'}\n"
     ]
    }
   ],
   "source": [
    "from langchain_openai import OpenAI\n",
    "from langchain.retrievers.self_query.base import SelfQueryRetriever\n",
    "from langchain.chains.query_constructor.base import AttributeInfo\n",
    "\n",
    "# Metadata schema based on the values on the CSV\n",
    "metadata_field_info = [\n",
    "    AttributeInfo(\n",
    "        name=\"url\",\n",
    "        description=\"Url of the document\",\n",
    "        type=\"string\",\n",
    "    ),\n",
    "    AttributeInfo(\n",
    "        name=\"title\",\n",
    "        description=\"Title of the document\",\n",
    "        type=\"string\",\n",
    "    ),\n",
    "    AttributeInfo(\n",
    "        name=\"date\",\n",
    "        description=\"Date of the document\",\n",
    "        type=\"string\",\n",
    "    ),\n",
    "    AttributeInfo(\n",
    "        name=\"author\",\n",
    "        description=\"Author of the document\",\n",
    "        type=\"string\",\n",
    "    ),\n",
    "    AttributeInfo(\n",
    "        name=\"domain\",\n",
    "        description=\"Domain of the document, closely related to the source of the document\",\n",
    "        type=\"string\",\n",
    "    ),\n",
    "]\n",
    "document_content_description = \"Article listing\"\n",
    "\n",
    "# Configure retriver\n",
    "llm = OpenAI(temperature=0)\n",
    "retriever = SelfQueryRetriever.from_llm(\n",
    "    llm, langchain_chroma, document_content_description, metadata_field_info, verbose=True\n",
    ")\n",
    "\n",
    "# Based on rag evaluation set \n",
    "result = retriever.get_relevant_documents(evaluation_set.iloc[0].question)\n",
    "print(result[0].page_content)\n",
    "print(result[0].metadata)"
   ],
   "metadata": {
    "collapsed": false,
    "ExecuteTime": {
     "end_time": "2024-02-27T17:15:22.113024Z",
     "start_time": "2024-02-27T17:15:20.487276Z"
    }
   },
   "id": "71b3608d24e92081",
   "execution_count": 14
  },
  {
   "cell_type": "code",
   "outputs": [],
   "source": [],
   "metadata": {
    "collapsed": false,
    "ExecuteTime": {
     "end_time": "2024-02-27T17:13:43.655093Z",
     "start_time": "2024-02-27T17:13:43.653520Z"
    }
   },
   "id": "b3fd901cc404608b",
   "execution_count": 13
  }
 ],
 "metadata": {
  "kernelspec": {
   "display_name": "Python 3",
   "language": "python",
   "name": "python3"
  },
  "language_info": {
   "codemirror_mode": {
    "name": "ipython",
    "version": 2
   },
   "file_extension": ".py",
   "mimetype": "text/x-python",
   "name": "python",
   "nbconvert_exporter": "python",
   "pygments_lexer": "ipython2",
   "version": "2.7.6"
  }
 },
 "nbformat": 4,
 "nbformat_minor": 5
}
