{
 "cells": [
  {
   "cell_type": "code",
   "execution_count": 26,
   "id": "initial_id",
   "metadata": {
    "ExecuteTime": {
     "end_time": "2024-02-29T12:07:15.319777Z",
     "start_time": "2024-02-29T12:07:15.313857Z"
    }
   },
   "outputs": [],
   "source": [
    "from langchain_community.vectorstores import Chroma\n",
    "import chromadb\n",
    "import pandas as pd\n",
    "\n",
    "from dotenv import load_dotenv\n",
    "load_dotenv()\n",
    "\n",
    "import nltk\n",
    "from nltk.corpus import stopwords\n",
    "\n",
    "from html import unescape\n",
    "import re\n",
    "\n",
    "RANDOM_SEED = 1337"
   ]
  },
  {
   "cell_type": "markdown",
   "id": "b91f75c0",
   "metadata": {},
   "source": [
    "## Preprocessing"
   ]
  },
  {
   "cell_type": "code",
   "execution_count": 27,
   "id": "6d5647b5",
   "metadata": {
    "ExecuteTime": {
     "end_time": "2024-02-29T12:07:17.369816Z",
     "start_time": "2024-02-29T12:07:16.673974Z"
    }
   },
   "outputs": [
    {
     "name": "stderr",
     "output_type": "stream",
     "text": [
      "[nltk_data] Downloading package stopwords to /Users/dmnk/nltk_data...\n",
      "[nltk_data]   Package stopwords is already up-to-date!\n"
     ]
    },
    {
     "data": {
      "text/plain": "      Unnamed: 0                                              title  \\\n5840       77870  World's first clean-hydrogen investment fund '...   \n526         6169  COP26: Scotland's peatlands are a carbon sink ...   \n3589       37939  How Do Climate Change Mitigation Policies Impa...   \n8311       80434  Senate passes Inflation Reduction Act with lon...   \n3537       37887  Researchers Use Drones to Monitor the Fragile ...   \n\n            date author                                            content  \\\n5840  2021-07-28    NaN  ['The world’ s first clean-hydrogen investment...   \n526   2021-11-09    NaN  ['West of the COP26 climate conference, among ...   \n3589  2023-03-16    NaN  [\"By clicking `` Allow All '' you agree to the...   \n8311  2022-08-08    NaN  ['Update 08/16: President Biden signed the IRA...   \n3537  2023-03-07    NaN  [\"By clicking `` Allow All '' you agree to the...   \n\n                     domain                                                url  \n5840           rechargenews  https://www.rechargenews.com/energy-transition...  \n526             energyvoice  https://www.energyvoice.com/renewables-energy-...  \n3589           azocleantech  https://www.azocleantech.com/news.aspx?newsID=...  \n8311  solarpowerworldonline  https://www.solarpowerworldonline.com/2022/08/...  \n3537           azocleantech  https://www.azocleantech.com/news.aspx?newsID=...  ",
      "text/html": "<div>\n<style scoped>\n    .dataframe tbody tr th:only-of-type {\n        vertical-align: middle;\n    }\n\n    .dataframe tbody tr th {\n        vertical-align: top;\n    }\n\n    .dataframe thead th {\n        text-align: right;\n    }\n</style>\n<table border=\"1\" class=\"dataframe\">\n  <thead>\n    <tr style=\"text-align: right;\">\n      <th></th>\n      <th>Unnamed: 0</th>\n      <th>title</th>\n      <th>date</th>\n      <th>author</th>\n      <th>content</th>\n      <th>domain</th>\n      <th>url</th>\n    </tr>\n  </thead>\n  <tbody>\n    <tr>\n      <th>5840</th>\n      <td>77870</td>\n      <td>World's first clean-hydrogen investment fund '...</td>\n      <td>2021-07-28</td>\n      <td>NaN</td>\n      <td>['The world’ s first clean-hydrogen investment...</td>\n      <td>rechargenews</td>\n      <td>https://www.rechargenews.com/energy-transition...</td>\n    </tr>\n    <tr>\n      <th>526</th>\n      <td>6169</td>\n      <td>COP26: Scotland's peatlands are a carbon sink ...</td>\n      <td>2021-11-09</td>\n      <td>NaN</td>\n      <td>['West of the COP26 climate conference, among ...</td>\n      <td>energyvoice</td>\n      <td>https://www.energyvoice.com/renewables-energy-...</td>\n    </tr>\n    <tr>\n      <th>3589</th>\n      <td>37939</td>\n      <td>How Do Climate Change Mitigation Policies Impa...</td>\n      <td>2023-03-16</td>\n      <td>NaN</td>\n      <td>[\"By clicking `` Allow All '' you agree to the...</td>\n      <td>azocleantech</td>\n      <td>https://www.azocleantech.com/news.aspx?newsID=...</td>\n    </tr>\n    <tr>\n      <th>8311</th>\n      <td>80434</td>\n      <td>Senate passes Inflation Reduction Act with lon...</td>\n      <td>2022-08-08</td>\n      <td>NaN</td>\n      <td>['Update 08/16: President Biden signed the IRA...</td>\n      <td>solarpowerworldonline</td>\n      <td>https://www.solarpowerworldonline.com/2022/08/...</td>\n    </tr>\n    <tr>\n      <th>3537</th>\n      <td>37887</td>\n      <td>Researchers Use Drones to Monitor the Fragile ...</td>\n      <td>2023-03-07</td>\n      <td>NaN</td>\n      <td>[\"By clicking `` Allow All '' you agree to the...</td>\n      <td>azocleantech</td>\n      <td>https://www.azocleantech.com/news.aspx?newsID=...</td>\n    </tr>\n  </tbody>\n</table>\n</div>"
     },
     "execution_count": 27,
     "metadata": {},
     "output_type": "execute_result"
    }
   ],
   "source": [
    "nltk.download('stopwords')\n",
    "\n",
    "documents = pd.read_csv('data/Cleantech Media Dataset/cleantech_media_dataset_v2_2024-02-23.csv')\n",
    "\n",
    "documents.sample(5, random_state=RANDOM_SEED)"
   ]
  },
  {
   "cell_type": "code",
   "execution_count": 28,
   "id": "c9eb2009",
   "metadata": {
    "ExecuteTime": {
     "end_time": "2024-02-29T12:07:19.934509Z",
     "start_time": "2024-02-29T12:07:19.125533Z"
    }
   },
   "outputs": [],
   "source": [
    "import ast\n",
    "\n",
    "documents['content'] = documents['content'].apply(ast.literal_eval)\n",
    "\n",
    "documents = documents.explode('content')"
   ]
  },
  {
   "cell_type": "markdown",
   "id": "6d9a2a40",
   "metadata": {},
   "source": [
    "### Text Normalization"
   ]
  },
  {
   "cell_type": "code",
   "execution_count": 29,
   "id": "8d0779b3",
   "metadata": {
    "ExecuteTime": {
     "end_time": "2024-02-29T12:08:09.992405Z",
     "start_time": "2024-02-29T12:08:07.251178Z"
    }
   },
   "outputs": [
    {
     "data": {
      "text/plain": "      Unnamed: 0                                              title  \\\n7102       79155  A closer look at liquid air energy storage – p...   \n6683       78724  Pertamina Geothermal to issue USD 400 million ...   \n7058       79111                Albania – pv magazine International   \n7108       79162  PV-powered geothermal heat pump system for gre...   \n6919       78963  Finnish firm Voltan secures funding to strengt...   \n\n            date author                                            content  \\\n7102  2021-08-02    NaN  content protected copyright may reused want co...   \n6683  2023-04-24    NaN  earlier year pge announced initial public offe...   \n7058  2021-06-03    NaN  albanian utility kesh built  mw groundmounted ...   \n7108  2021-08-16    NaN  cookie settings website set  allow cookies  gi...   \n6919  2023-10-25    NaN  company founders miika richard considerable ex...   \n\n              domain                                                url  \n7102     pv-magazine  https://www.pv-magazine.com/2021/08/02/a-close...  \n6683  thinkgeoenergy  https://www.thinkgeoenergy.com/pertamina-geoth...  \n7058     pv-magazine        https://www.pv-magazine.com/region/albania/  \n7108     pv-magazine  https://www.pv-magazine.com/2021/08/16/pv-powe...  \n6919  thinkgeoenergy  https://www.thinkgeoenergy.com/finnish-firm-vo...  ",
      "text/html": "<div>\n<style scoped>\n    .dataframe tbody tr th:only-of-type {\n        vertical-align: middle;\n    }\n\n    .dataframe tbody tr th {\n        vertical-align: top;\n    }\n\n    .dataframe thead th {\n        text-align: right;\n    }\n</style>\n<table border=\"1\" class=\"dataframe\">\n  <thead>\n    <tr style=\"text-align: right;\">\n      <th></th>\n      <th>Unnamed: 0</th>\n      <th>title</th>\n      <th>date</th>\n      <th>author</th>\n      <th>content</th>\n      <th>domain</th>\n      <th>url</th>\n    </tr>\n  </thead>\n  <tbody>\n    <tr>\n      <th>7102</th>\n      <td>79155</td>\n      <td>A closer look at liquid air energy storage – p...</td>\n      <td>2021-08-02</td>\n      <td>NaN</td>\n      <td>content protected copyright may reused want co...</td>\n      <td>pv-magazine</td>\n      <td>https://www.pv-magazine.com/2021/08/02/a-close...</td>\n    </tr>\n    <tr>\n      <th>6683</th>\n      <td>78724</td>\n      <td>Pertamina Geothermal to issue USD 400 million ...</td>\n      <td>2023-04-24</td>\n      <td>NaN</td>\n      <td>earlier year pge announced initial public offe...</td>\n      <td>thinkgeoenergy</td>\n      <td>https://www.thinkgeoenergy.com/pertamina-geoth...</td>\n    </tr>\n    <tr>\n      <th>7058</th>\n      <td>79111</td>\n      <td>Albania – pv magazine International</td>\n      <td>2021-06-03</td>\n      <td>NaN</td>\n      <td>albanian utility kesh built  mw groundmounted ...</td>\n      <td>pv-magazine</td>\n      <td>https://www.pv-magazine.com/region/albania/</td>\n    </tr>\n    <tr>\n      <th>7108</th>\n      <td>79162</td>\n      <td>PV-powered geothermal heat pump system for gre...</td>\n      <td>2021-08-16</td>\n      <td>NaN</td>\n      <td>cookie settings website set  allow cookies  gi...</td>\n      <td>pv-magazine</td>\n      <td>https://www.pv-magazine.com/2021/08/16/pv-powe...</td>\n    </tr>\n    <tr>\n      <th>6919</th>\n      <td>78963</td>\n      <td>Finnish firm Voltan secures funding to strengt...</td>\n      <td>2023-10-25</td>\n      <td>NaN</td>\n      <td>company founders miika richard considerable ex...</td>\n      <td>thinkgeoenergy</td>\n      <td>https://www.thinkgeoenergy.com/finnish-firm-vo...</td>\n    </tr>\n  </tbody>\n</table>\n</div>"
     },
     "execution_count": 29,
     "metadata": {},
     "output_type": "execute_result"
    }
   ],
   "source": [
    "# set everything to lowercase\n",
    "documents['content'] = documents['content'].str.lower()\n",
    "\n",
    "# remove stopwords from content\n",
    "stop_words = set(stopwords.words('english'))\n",
    "documents['content'] = documents['content'].apply(lambda x: ' '.join([word for word in x.split() if word not in (stop_words)]))\n",
    "\n",
    "# remove quotes\n",
    "documents['content'] = documents['content'].str.replace(\"'\", '')\n",
    "\n",
    "# unescape HTML entities\n",
    "documents['content'] = unescape(documents['content'])\n",
    "\n",
    "# remove HTML tags if any\n",
    "documents['content'] = documents['content'].str.replace(r'<[^>]+>', '')\n",
    "\n",
    "# Removes specific unwanted characters\n",
    "documents['content'] = documents['content'].str.replace(r\"[\\'\\/`:“`’]+\", '', regex=True)\n",
    "\n",
    "# Removes non-ASCII (Unicode) characters\n",
    "documents['content'] = documents['content'].str.replace(r'[^\\x00-\\x7F]+', '', regex=True)\n",
    "\n",
    "# Keeps only letters and whitespace\n",
    "documents['content'] = documents['content'].str.replace(r'[^a-zA-Z\\s]', '', regex=True)\n",
    "\n",
    "# trim extra spaces\n",
    "documents['content'] = documents['content'].str.strip()\n",
    "\n",
    "documents.sample(5, random_state=RANDOM_SEED)"
   ]
  },
  {
   "cell_type": "markdown",
   "id": "27db7c8bb4c7128f",
   "metadata": {},
   "source": [
    "## CSV - Embedding - Chroma"
   ]
  },
  {
   "cell_type": "code",
   "execution_count": 5,
   "id": "a7c643c25e8fc9b5",
   "metadata": {
    "ExecuteTime": {
     "end_time": "2024-02-29T10:16:31.020692Z",
     "start_time": "2024-02-29T10:16:31.016745Z"
    }
   },
   "outputs": [],
   "source": [
    "# read in evaluation\n",
    "evaluation_set = pd.read_csv('./data/Cleantech Media Dataset/cleantech_rag_evaluation_data_2024-02-23.csv')\n"
   ]
  },
  {
   "cell_type": "code",
   "outputs": [],
   "source": [
    "from langchain_experimental.text_splitter import SemanticChunker\n",
    "from langchain_community.embeddings import HuggingFaceEmbeddings\n",
    "\n",
    "\n",
    "embeddings = HuggingFaceEmbeddings()\n",
    "\n",
    "\n",
    "text_splitter = SemanticChunker(embeddings)\n",
    "\n",
    "\n",
    "# create batches\n",
    "BatchSize = 41666\n",
    "batches = [documents[i:i + BatchSize] for i in range(0, len(documents), BatchSize)]\n",
    "\n",
    "for batch in batches:\n",
    "    docs = text_splitter.create_documents(batch.content)\n",
    "\n"
   ],
   "metadata": {
    "collapsed": false,
    "is_executing": true,
    "ExecuteTime": {
     "start_time": "2024-02-29T12:09:44.631648Z"
    }
   },
   "id": "fd198e03ffec5e2e",
   "execution_count": null
  },
  {
   "cell_type": "code",
   "outputs": [
    {
     "data": {
      "text/plain": "[Document(page_content='Unnamed: 0'),\n Document(page_content='title'),\n Document(page_content='date'),\n Document(page_content='author'),\n Document(page_content='content'),\n Document(page_content='domain'),\n Document(page_content='url')]"
     },
     "execution_count": 34,
     "metadata": {},
     "output_type": "execute_result"
    }
   ],
   "source": [
    "docs"
   ],
   "metadata": {
    "collapsed": false,
    "ExecuteTime": {
     "end_time": "2024-02-29T12:09:22.609836Z",
     "start_time": "2024-02-29T12:09:22.601513Z"
    }
   },
   "id": "d05769f33e5a3fd6",
   "execution_count": 34
  },
  {
   "cell_type": "code",
   "execution_count": 6,
   "id": "e265f3a9a34011f9",
   "metadata": {
    "ExecuteTime": {
     "end_time": "2024-02-29T10:16:36.131929Z",
     "start_time": "2024-02-29T10:16:31.021387Z"
    }
   },
   "outputs": [],
   "source": [
    "from langchain_community.document_loaders import DataFrameLoader\n",
    "\n",
    "# this is useless\n",
    "from langchain.text_splitter import CharacterTextSplitter\n",
    "\n",
    "loader = DataFrameLoader(documents, page_content_column='content')\n",
    "\n",
    "documents = loader.load()\n",
    "\n",
    "\n"
   ]
  },
  {
   "cell_type": "code",
   "execution_count": 10,
   "id": "c97846c14d184275",
   "metadata": {
    "ExecuteTime": {
     "end_time": "2024-02-29T10:56:03.806501Z",
     "start_time": "2024-02-29T10:38:50.257810Z"
    }
   },
   "outputs": [],
   "source": [
    "from langchain_community.embeddings import FakeEmbeddings\n",
    "from langchain_openai import OpenAIEmbeddings\n",
    "\n",
    "\n",
    "chroma_client = chromadb.HttpClient(host='localhost', port=8000)\n",
    "chroma_client.reset()\n",
    "\n",
    "langchain_chroma = Chroma(\n",
    "    client=chroma_client,\n",
    "    collection_name=\"my_langchain_collection\",\n",
    "    embedding_function=embeddings,\n",
    ")\n",
    "\n",
    "# create batches\n",
    "BatchSize = 41666\n",
    "batches = [documents[i:i + BatchSize] for i in range(0, len(documents), BatchSize)]\n",
    "\n",
    "for batch in batches:\n",
    "    langchain_chroma.add_documents(documents=batch)"
   ]
  },
  {
   "cell_type": "markdown",
   "id": "77921a2093b82f8c",
   "metadata": {},
   "source": [
    "## Similarity Search\n",
    "Query against the collection"
   ]
  },
  {
   "cell_type": "code",
   "execution_count": 11,
   "id": "33982f5f51eacc7d",
   "metadata": {
    "ExecuteTime": {
     "end_time": "2024-02-29T10:59:01.235145Z",
     "start_time": "2024-02-29T10:58:47.085249Z"
    }
   },
   "outputs": [
    {
     "name": "stdout",
     "output_type": "stream",
     "text": [
      "What is the innovation behind Leclanché's new method to produce lithium-ion batteries?\n",
      "leclanch said developed environmentally friendly way produce lithiumion  liion batteries replaced highly toxic organic solvents commonly used production process waterbased process make nickelmanganesecobaltaluminium cathodes  nmca\n",
      "{'Unnamed: 0': 6780, 'date': '2023-01-20', 'domain': 'energyvoice', 'title': 'Leclanché’ s new disruptive battery boosts energy density', 'url': 'https://sgvoice.energyvoice.com/strategy/technology/23971/leclanches-new-disruptive-battery-boosts-energy-density/'}\n"
     ]
    }
   ],
   "source": [
    "# based on the rag evaluation set\n",
    "print(evaluation_set.iloc[0].question)\n",
    "docs = langchain_chroma.similarity_search(evaluation_set.iloc[0].question)\n",
    "print(docs[0].page_content)\n",
    "print(docs[0].metadata)"
   ]
  },
  {
   "cell_type": "code",
   "execution_count": 12,
   "id": "76fdba57757d9ec6",
   "metadata": {
    "ExecuteTime": {
     "end_time": "2024-02-29T10:59:08.224260Z",
     "start_time": "2024-02-29T10:59:08.211316Z"
    }
   },
   "outputs": [
    {
     "data": {
      "text/plain": "'Leclanché said it has developed an environmentally friendly way to produce lithium-ion (Li-ion) batteries. It has replaced highly toxic organic solvents, commonly used in the production process, with a water-based process to make nickel-manganese-cobalt-aluminium cathodes (NMCA).'"
     },
     "execution_count": 12,
     "metadata": {},
     "output_type": "execute_result"
    }
   ],
   "source": [
    "# comparison with the intended RAG context \n",
    "\n",
    "evaluation_set.iloc[0].relevant_chunk"
   ]
  },
  {
   "cell_type": "markdown",
   "id": "b008e32acdc26cae",
   "metadata": {},
   "source": [
    "## similarity_search_with_score"
   ]
  },
  {
   "cell_type": "code",
   "execution_count": 13,
   "id": "346b89451466a482",
   "metadata": {
    "ExecuteTime": {
     "end_time": "2024-02-29T11:20:19.433669Z",
     "start_time": "2024-02-29T11:20:10.044807Z"
    }
   },
   "outputs": [
    {
     "name": "stdout",
     "output_type": "stream",
     "text": [
      "leclanch said developed environmentally friendly way produce lithiumion  liion batteries replaced highly toxic organic solvents commonly used production process waterbased process make nickelmanganesecobaltaluminium cathodes  nmca\n",
      "{'Unnamed: 0': 6780, 'date': '2023-01-20', 'domain': 'energyvoice', 'title': 'Leclanché’ s new disruptive battery boosts energy density', 'url': 'https://sgvoice.energyvoice.com/strategy/technology/23971/leclanches-new-disruptive-battery-boosts-energy-density/'}\n",
      "Score:  0.63947594165802\n"
     ]
    }
   ],
   "source": [
    "docs_score = langchain_chroma.similarity_search_with_score(evaluation_set.iloc[0].question)\n",
    "print(docs_score[0][0].page_content)\n",
    "print(docs_score[0][0].metadata)\n",
    "print(\"Score: \", docs_score[0][1])\n"
   ]
  },
  {
   "cell_type": "code",
   "execution_count": 14,
   "id": "6d963ff8f07d821",
   "metadata": {
    "ExecuteTime": {
     "end_time": "2024-02-29T11:20:19.448510Z",
     "start_time": "2024-02-29T11:20:19.437174Z"
    }
   },
   "outputs": [
    {
     "data": {
      "text/plain": "'Leclanché said it has developed an environmentally friendly way to produce lithium-ion (Li-ion) batteries. It has replaced highly toxic organic solvents, commonly used in the production process, with a water-based process to make nickel-manganese-cobalt-aluminium cathodes (NMCA).'"
     },
     "execution_count": 14,
     "metadata": {},
     "output_type": "execute_result"
    }
   ],
   "source": [
    "evaluation_set.iloc[0].relevant_chunk"
   ]
  },
  {
   "cell_type": "code",
   "outputs": [
    {
     "name": "stdout",
     "output_type": "stream",
     "text": [
      "Question:  What is the innovation behind Leclanché's new method to produce lithium-ion batteries?\n",
      "Relevant Chunk:  Leclanché said it has developed an environmentally friendly way to produce lithium-ion (Li-ion) batteries. It has replaced highly toxic organic solvents, commonly used in the production process, with a water-based process to make nickel-manganese-cobalt-aluminium cathodes (NMCA).\n",
      "Result  0 :  leclanch said developed environmentally friendly way produce lithiumion  liion batteries replaced highly toxic organic solvents commonly used production process waterbased process make nickelmanganesecobaltaluminium cathodes  nmca\n",
      "Score  0 :  0.63947594165802\n",
      "Result  1 :  way saying took well  years lithiumion replaced leadacid energy storage technology electric vehicles  process still  complete  along comes whole new battery chemistry innolith name  istate  new battery available commercially following testing pilot production\n",
      "Score  1 :  0.7710361480712891\n",
      "Result  2 :  rings bell should lfp chemistry dates back  invention credited denis geoffroy made course helping canadian company called phostech lithium scale operations electric vehicle trend offered market potential early s interest lfp ev batteries soon eclipsed higherperforming battery materials namely nickel cobalt\n",
      "Score  2 :  0.7827039361000061\n",
      "Fuzzy Match:  85\n",
      "Article Url:  https://www.sgvoice.net/strategy/technology/23971/leclanches-new-disruptive-battery-boosts-energy-density/\n",
      "Content Url:  https://sgvoice.energyvoice.com/strategy/technology/23971/leclanches-new-disruptive-battery-boosts-energy-density/\n",
      "Fuzzy Match Url:  96\n",
      "----\n",
      "Question:  What is the EU’s Green Deal Industrial Plan?\n",
      "Relevant Chunk:  The Green Deal Industrial Plan is a bid by the EU to make its net zero industry more competitive and to accelerate its transition to net zero. It intends to support the expansion of European manufacturing of technologies, goods and services needed to achieve its climate targets.\n",
      "Result  0 :  european commission today  wednesday unveiled  green deal industrial plan aimed speeding expansion renewable energy green technologies  including easing state aid rules enable higher subsidies  bid  level playing field  us\n",
      "Score  0 :  0.4029759466648102\n",
      "Result  1 :  eu presented  green deal industrial plan seeks boost investment economic resilience bloc tackle challenges green transition similar plans proposed major economies world little mention helping lowincome countries challenges arising transition\n",
      "Score  1 :  0.46131864190101624\n",
      "Result  2 :  eu member states february  meeting discuss proposals green deal industrial plan commission use input shape formal proposal presented european council late march\n",
      "Score  2 :  0.5163441300392151\n",
      "Fuzzy Match:  46\n",
      "Article Url:  https://www.sgvoice.net/policy/25396/eu-seeks-competitive-boost-with-green-deal-industrial-plan/\n",
      "Content Url:  https://www.rechargenews.com/news/2-1-1397036\n",
      "Fuzzy Match Url:  35\n",
      "----\n",
      "Question:  What is the EU’s Green Deal Industrial Plan?\n",
      "Relevant Chunk:  The European counterpart to the US Inflation Reduction Act (IRA) aims to create an environment that is conducive to increasing the European Union's manufacturing capacity of “net-zero” technologies, to improve the competitiveness of European industry.\n",
      "Result  0 :  european commission today  wednesday unveiled  green deal industrial plan aimed speeding expansion renewable energy green technologies  including easing state aid rules enable higher subsidies  bid  level playing field  us\n",
      "Score  0 :  0.4029759466648102\n",
      "Result  1 :  eu presented  green deal industrial plan seeks boost investment economic resilience bloc tackle challenges green transition similar plans proposed major economies world little mention helping lowincome countries challenges arising transition\n",
      "Score  1 :  0.46131864190101624\n",
      "Result  2 :  eu member states february  meeting discuss proposals green deal industrial plan commission use input shape formal proposal presented european council late march\n",
      "Score  2 :  0.5163441300392151\n",
      "Fuzzy Match:  21\n",
      "Article Url:  https://www.pv-magazine.com/2023/02/02/european-commission-introduces-green-deal-industrial-plan/\n",
      "Content Url:  https://www.rechargenews.com/news/2-1-1397036\n",
      "Fuzzy Match Url:  46\n",
      "----\n",
      "Question:  What are the four focus areas of the EU's Green Deal Industrial Plan?\n",
      "Relevant Chunk:  The new plan is fundamentally focused on four areas, or pillars: the regulatory environment, access to finance, enhancing skills, and improving supply chain resilience. It also builds on other initiatives, such as REPowerEU, as well as the strength of the single market.\n",
      "Result  0 :  eu presented  green deal industrial plan seeks boost investment economic resilience bloc tackle challenges green transition similar plans proposed major economies world little mention helping lowincome countries challenges arising transition\n",
      "Score  0 :  0.54853755235672\n",
      "Result  1 :  european commission today  wednesday unveiled  green deal industrial plan aimed speeding expansion renewable energy green technologies  including easing state aid rules enable higher subsidies  bid  level playing field  us\n",
      "Score  1 :  0.5751136541366577\n",
      "Result  2 :  european commission president ursula von der leyen introduced green deal industrial plan world economic forum davos january  coincided deadline set december  council asked commission industrial policy europe would address gaps innovation growth bloc competitors also called enhancement structural investment frameworks facilitate industrial policy national eu level\n",
      "Score  2 :  0.5927330255508423\n",
      "Fuzzy Match:  13\n",
      "Article Url:  https://www.sgvoice.net/policy/25396/eu-seeks-competitive-boost-with-green-deal-industrial-plan/\n",
      "Content Url:  https://sgvoice.energyvoice.com/policy/25396/eu-seeks-competitive-boost-with-green-deal-industrial-plan/\n",
      "Fuzzy Match Url:  96\n",
      "----\n",
      "Question:  When did the cooperation between GM and Honda on fuel cell vehicles start?\n",
      "Relevant Chunk:  What caught our eye was a new hookup between GM and Honda. Honda was also hammering away at the challenge of introducing fuel cell vehicles to the US market. The collaboration launched in July of 2013, providing for the two companies to share the combined total of 1,200 fuel cell patents they compiled in the years leading up to 2012.\n",
      "Result  0 :  tesla dominated among became formidable field competition lead next generation automobiles road get there however\n",
      "Score  0 :  1.1324598789215088\n",
      "Result  1 :  tesla dominated among became formidable field competition lead next generation automobiles road get there however\n",
      "Score  1 :  1.1324598789215088\n",
      "Result  2 :  tesla dominated among became formidable field competition lead next generation automobiles road get there however\n",
      "Score  2 :  1.1324598789215088\n",
      "Fuzzy Match:  25\n",
      "Article Url:  https://cleantechnica.com/2023/05/08/general-motors-seizes-the-fuel-cell-moment-with-green-hydrogen/\n",
      "Content Url:  https://cleantechnica.com/2023/01/05/frances-evs-take-record-quarter-share-of-market/\n",
      "Fuzzy Match Url:  55\n",
      "----\n",
      "Question:  Did Colgate-Palmolive enter into PPA agreements with solar developers?\n",
      "Relevant Chunk:  Scout Clean Energy, a Colorado-based renewable energy developer, owner and operator, has signed a power purchase agreement with Colgate-Palmolive for power from Scout’s 209 MW DC Markum Solar Farm near Waco, Texas.\n",
      "Result  0 :  home depot nrg energy inc executed individual  mw solar power purchase agreements hershey company contracted  mw solar ppa\n",
      "Score  0 :  0.721893310546875\n",
      "Result  1 :  deal last  years expected match electricity requirements colgatepalmolive entire us operations site commissioned late  markum solar scout clean energy first greenfield solar project said construction  manage  due start autumn\n",
      "Score  1 :  0.730530321598053\n",
      "Result  2 :  tech giant also active corporate power purchase agreements  ppas texas utah past months mw mw solar pv ppas signed respectively\n",
      "Score  2 :  0.8011335730552673\n",
      "Fuzzy Match:  43\n",
      "Article Url:  https://solarindustrymag.com/scout-and-colgate-palmolive-sign-ppa-for-texas-solar-farm\n",
      "Content Url:  https://solarindustrymag.com/operations-begin-on-national-grid-renewables-275-mw-noble-solar-project\n",
      "Fuzzy Match Url:  55\n",
      "----\n",
      "Question:  What is the status of ZeroAvia's hydrogen fuel cell electric aircraft?\n",
      "Relevant Chunk:  In December, the US startup ZeroAvia announced that its retrofitted 19-seat Dornier 228 hydrogen fuel cell electric aircraft has received permission to fly from the UK Civil Aviation Authority.\n",
      "Result  0 :  hydrogen fuel cell aircraft emerging similar pace december us startup zeroavia announced retrofitted seat dornier  hydrogen fuel cell electric aircraft received permission fly uk civil aviation authority\n",
      "Score  0 :  0.41364189982414246\n",
      "Result  1 :  us firm zeroavia one step closer bringing zero emission electric aircraft market powered hydrogen fuel cells\n",
      "Score  1 :  0.43851909041404724\n",
      "Result  2 :  us firm zeroavia one step closer bringing zero emission electric aircraft market powered hydrogen fuel cells\n",
      "Score  2 :  0.43851909041404724\n",
      "Fuzzy Match:  93\n",
      "Article Url:  https://cleantechnica.com/2023/01/02/the-wait-for-hydrogen-fuel-cell-electric-aircraft-just-got-shorter/#zox-comments-button\n",
      "Content Url:  https://cleantechnica.com/2023/01/02/the-wait-for-hydrogen-fuel-cell-electric-aircraft-just-got-shorter/#zox-comments-button\n",
      "Fuzzy Match Url:  100\n",
      "----\n",
      "Question:  What is the \"Danger Season\"?\n",
      "Relevant Chunk:  As spring turns to summer and the days warm up, the Northern Hemisphere enters the period known as Danger Season, when wildfires, heat waves, and hurricanes, all amplified by climate change, begin to ramp up. In the western United States, the start of Danger Season is marked by the shift from the wintertime wet season to the summertime dry season. While wildfires can and do occur all year round, this shift from cool and wet to warm and dry marks the start of wildfire season in the region.\n",
      "Result  0 :  cypher es afm oxford instruments asylum research utilized exceptional environmental control\n",
      "Score  0 :  1.4327012300491333\n",
      "Result  1 :  cypher es afm oxford instruments asylum research utilized exceptional environmental control\n",
      "Score  1 :  1.4327012300491333\n",
      "Result  2 :  cypher es afm oxford instruments asylum research utilized exceptional environmental control\n",
      "Score  2 :  1.4327012300491333\n",
      "Fuzzy Match:  22\n",
      "Article Url:  https://cleantechnica.com/2023/05/15/what-does-a-normal-year-of-wildfires-look-like-in-a-changing-climate/\n",
      "Content Url:  https://www.azocleantech.com/news.aspx?newsID=30985\n",
      "Fuzzy Match Url:  43\n",
      "----\n",
      "Question:  Is Mississipi an anti-ESG state?\n",
      "Relevant Chunk:  Mississippi is among two dozen or so states in which Republican governors, legislators, treasurers, and attorneys general have been railing against ESG (environmental, social governance) corporate risk management principles.\n",
      "Result  0 :  ngi mexico gpi\n",
      "Score  0 :  1.4347121715545654\n",
      "Result  1 :  ngi mexico gpi\n",
      "Score  1 :  1.4347121715545654\n",
      "Result  2 :  ngi mexico gpi\n",
      "Score  2 :  1.4347121715545654\n",
      "Fuzzy Match:  8\n",
      "Article Url:  https://cleantechnica.com/2023/05/15/mississippi-takes-green-hydrogen-to-next-level/#zox-comments-button\n",
      "Content Url:  https://www.naturalgasintel.com/bulls-at-it-again-as-north-american-natural-gas-futures-steam-ahead-mexico-spotlight/\n",
      "Fuzzy Match Url:  31\n",
      "----\n",
      "Question:  Can you hang solar panels on garden fences?\n",
      "Relevant Chunk:  Scaling down from the farm to the garden level, another company is now offering plug & play solar panels that you can hang on garden fences. German startup Green Akku has created this clever little solar PV option. (There are a lot of home gardens in Germany, and a lot of interest in solar.)\n",
      "Result  0 :  american researchers proposing use steel zip ties attach solar modules fences animal farms lowcost racking solution agrivoltaic applications found proposed approach technically economically viable provided careful wind load tests conducted fences\n",
      "Score  0 :  0.6893997192382812\n",
      "Result  1 :  see picture above basically hang clip solar panels fence enjoy electricity create cost solar power systems  include solar modules inverters special brackets      seems ridiculously low me is\n",
      "Score  1 :  0.7675341367721558\n",
      "Result  2 :  uscanadian group scientists suggested using existing fences animal farms lowcost racking solution solar modules\n",
      "Score  2 :  0.7807573080062866\n",
      "Fuzzy Match:  10\n",
      "Article Url:  https://cleantechnica.com/2023/05/18/solar-panels-for-garden-fences-plug-play-solar-gone-wild/\n",
      "Content Url:  https://www.pv-magazine.com/2023/07/07/using-existing-fences-as-near-zero-cost-racking-solution-for-pv-deployment/#respond\n",
      "Fuzzy Match Url:  56\n",
      "----\n",
      "Question:  Who develops quality control systems for ocean temperature in-situ profiles?\n",
      "Relevant Chunk:  Scientists from the Chinese Academy of Sciences’ (CAS) Institute of Atmospheric Physics (IAP) and their associates offer a novel climatological range-based automatic quality control system for ocean temperature in-situ profiles. This system is known as CAS Ocean Data Center–Quality Control system, or CODC–QC for short, and comprises 14 distinct quality checks to pinpoint outliers.\n",
      "Result  0 :  tan z et al   new automatic quality control system ocean profile observations impact ocean warming estimate deep sea research part i doiorgjdsr\n",
      "Score  0 :  0.5478305816650391\n",
      "Result  1 :  scientists chinese academy sciences  cas institute atmospheric physics  iap associates offer novel climatological rangebased automatic quality control system ocean temperature insitu profiles system known cas ocean data centerquality control system codcqc short comprises  distinct quality checks pinpoint outliers\n",
      "Score  1 :  0.6488342881202698\n",
      "Result  2 :  codcqc also applied global world ocean database  wod included  temperature profiles spanning years   according temperature outlier statistics  measurements rejected xbt data highest rejection rate   argo profiling float lowest rejection rate\n",
      "Score  2 :  0.6787506341934204\n",
      "Fuzzy Match:  44\n",
      "Article Url:  https://www.azocleantech.com/news.aspx?newsID=32873\n",
      "Content Url:  https://www.azocleantech.com/news.aspx?newsID=32873\n",
      "Fuzzy Match Url:  100\n",
      "----\n",
      "Question:  Why are milder winters detrimental for grapes and apples?\n",
      "Relevant Chunk:  Since grapes and apples are perennial species, they have adapted to consistent climate patterns and have fine-tuned their winter responses to help them enter dormancy in the fall at the right time, and break bud in the spring at the right time. As our winter's get more mild, they are also getting more erratic. It is very difficult for growers to mitigate these sorts of large-scale swings in temperature.\n",
      "Result  0 :  mild winters erratic changes temperature one were experiencing could damaging effects grape apple crops across new york state\n",
      "Score  0 :  0.4326433837413788\n",
      "Result  1 :  since grapes apples perennial species adapted consistent climate patterns finetuned winter responses help enter dormancy fall right time break bud spring right time winters get mild also getting erratic difficult growers mitigate sorts largescale swings temperature\n",
      "Score  1 :  0.48512324690818787\n",
      "Result  2 :  winter much mild overall normal effect apples grapes across new york state program track winter hardiness ability grapes apples avoid freeze damage crops cold hardiness weaker past years mostly due mild november december expect much damage year far get closer spring concerns see early budbreak region means higher risk frost damage m hoping keep temperatures low bouncing around freeze point order keep apple grape buds dormant\n",
      "Score  2 :  0.6172938346862793\n",
      "Fuzzy Match:  34\n",
      "Article Url:  https://www.azocleantech.com/news.aspx?newsID=33040\n",
      "Content Url:  https://www.azocleantech.com/news.aspx?newsID=33040\n",
      "Fuzzy Match Url:  100\n",
      "----\n",
      "Question:  What are the basic recycling steps for solar panels?\n",
      "Relevant Chunk:  There are some simple recycling steps that can be taken to reduce the waste volume, including removing the panels’ frames, glass covers, and solar connectors before they are disposed of.\n",
      "Result  0 :  simple recycling steps taken reduce waste volume including removing panels frames glass covers solar connectors disposed of\n",
      "Score  0 :  0.3779556453227997\n",
      "Result  1 :  simple recycling steps taken reduce waste volume including removing panels  frames glass covers solar connectors disposed of\n",
      "Score  1 :  0.377955824136734\n",
      "Result  2 :  national laboratory us department energy nrel research published  suggested needs done reduce recycling costs environmental impact used solar panels\n",
      "Score  2 :  0.5093658566474915\n",
      "Fuzzy Match:  100\n",
      "Article Url:  https://www.azocleantech.com/news.aspx?newsID=33143\n",
      "Content Url:  https://www.azocleantech.com/news.aspx?newsID=33134\n",
      "Fuzzy Match Url:  98\n",
      "----\n",
      "Question:  Why does melting ice contribute to global warming?\n",
      "Relevant Chunk:  Whereas white ice reflects the sun's rays, a dark sea absorbs over ten times as much solar energy, contributing to global warming.\n",
      "Result  0 :  ice needs melt major consequences\n",
      "Score  0 :  0.563961923122406\n",
      "Result  1 :  ice darkens becomes difficult reflect sunlight instead heat suns rays absorbed ice starts melt ice melts warmer temperature earth algae therefore play important role global warming  says alexandre anesio\n",
      "Score  1 :  0.5744755864143372\n",
      "Result  2 :  results provide better understanding ice sheet reacts warmer temperatures meltwater help us develop future climate models  details dina rapp phd student coauthor study\n",
      "Score  2 :  0.610784113407135\n",
      "Fuzzy Match:  25\n",
      "Article Url:  https://www.azocleantech.com/news.aspx?newsID=33149\n",
      "Content Url:  https://www.azocleantech.com/news.aspx?newsID=33238\n",
      "Fuzzy Match Url:  94\n",
      "----\n",
      "Question:  Does the Swedish government plan bans on new petrol and diesel cars?\n",
      "Relevant Chunk:  The Swedish government has proposed a ban on new petrol and diesel cars from 2030 to reduce carbon dioxide emissions.\n",
      "Result  0 :  swedish government proposed ban new petrol diesel cars  reduce carbon dioxide emissions trends seen across europe demonstrated rapid increasing sales electric vehicles development progresses challenges also increasing including uneven load power grid charge electric vehicles\n",
      "Score  0 :  0.6233187913894653\n",
      "Result  1 :  sweden midst various incentive changes around vehicle emissions  via tweaks bonusmalus system changes activated july include new companycar rules tighter co gramskm limits also eligibility pricecap changes vehicle buying variously brought forward pulled back changes take another months landscape settle down\n",
      "Score  1 :  0.6624183058738708\n",
      "Result  2 :  new government australia ban sale cars light trucks internal combustion engines canberra\n",
      "Score  2 :  0.6885351538658142\n",
      "Fuzzy Match:  85\n",
      "Article Url:  https://www.azocleantech.com/news.aspx?newsID=33174\n",
      "Content Url:  https://www.azocleantech.com/news.aspx?newsID=33174\n",
      "Fuzzy Match Url:  100\n",
      "----\n",
      "Question:  Where do the turbines used in Icelandic geothermal power plants come from?\n",
      "Relevant Chunk:  Minister Nishimura mentioned that most geothermal power plants in Iceland use turbines made by Japanese companies.\n",
      "Result  0 :  minister nishimura mentioned geothermal power plants iceland use turbines made japanese companies part minister thrdarson mentioned geothermal energy used iceland various ways including district heating power generation\n",
      "Score  0 :  0.38446471095085144\n",
      "Result  1 :  geothermal energy nordic  gtml represents renewable energy company main focus building owning operating energy plants provide renewable heat deep wells competitive prices minimal uptake land surface presentation thor point possibilities understanding advantages complete energetic systems deep energy wells direct use heat pumps thereby plenty ongoing projects presented\n",
      "Score  1 :  0.6869224309921265\n",
      "Result  2 :  today meet bjarni plsson executive director geothermal development icelandic power company landsvirkjun landsvirkjun stateowned power utility large portfolio hydropower plants geothermal operating plants northeast iceland among  mw theistareykir geothermal plant latest largescale plant added iceland learn company three geothermal plants here bjarni plsson former member board directors international geothermal association tireless chair wgc organizing committee\n",
      "Score  2 :  0.6936675310134888\n",
      "Fuzzy Match:  92\n",
      "Article Url:  https://www.thinkgeoenergy.com/japan-and-iceland-agree-on-geothermal-energy-cooperation/\n",
      "Content Url:  https://www.thinkgeoenergy.com/japan-and-iceland-agree-on-geothermal-energy-cooperation/\n",
      "Fuzzy Match Url:  100\n",
      "----\n",
      "Question:  Who is the target user for Leapfrog Energy?\n",
      "Relevant Chunk:  O’Brien added, “Subsurface specialists need flexible and fast tools like Leapfrog Energy to understand subsurface conditions and share their knowledge in a way that resonates with technical and non-technical stakeholders.”\n",
      "Result  0 :  priority power satori perfect partners age customers allowing increased rate negotiating strength access even greater energy solution expertise guide customers new sustainable energy world  notes jeff haarmann managing partner age\n",
      "Score  0 :  0.897465169429779\n",
      "Result  1 :  another program proposed  clean energy impact  ideal customers want claim certain percentage renewable energy environmental attribute purchases support corporate sustainability goals residential customers would like support local renewable energy industry\n",
      "Score  1 :  0.9370724558830261\n",
      "Result  2 :  wouldn say average consumer coming us saying want part virtual power plant  rauscher said  that gap we trying bridge  gap consumer education utility market operator needs customer come us interested resilient solar batteries value proposition we able sweeten deal enrolling customer system vpp sharing revenue bringing cost\n",
      "Score  2 :  0.9386501908302307\n",
      "Fuzzy Match:  6\n",
      "Article Url:  https://www.thinkgeoenergy.com/seequent-expands-subsurface-capabilities-with-leapfrog-energy/\n",
      "Content Url:  https://solarindustrymag.com/age-sells-energy-procurement-solar-development-units-to-priority-power\n",
      "Fuzzy Match Url:  44\n",
      "----\n",
      "Question:  What is Agrivoltaics?\n",
      "Relevant Chunk:  Agrivoltaics, the integration of food production and solar energy, is an emerging technology that makes better use of limited land and soil resources.\n",
      "Result  0 :  agrivoltaics refers conduct agricultural activity within solar array relatively new field agrivoltaics departure common practice really attempting grow anything groundmounted solar panel except perhaps grass needs mowed regular intervals\n",
      "Score  0 :  0.3820164203643799\n",
      "Result  1 :  precise definition agrivoltaism proposed based notion synergy agricultural production pv production plot area  ademe said  pv installation must provide service response agricultural problem example agrivoltaic system consist pv modules plant production protect excessive sunlight limit water stress shading effect reduce risks associated climatic conditions hail frost thus producing energy type device can certain configurations provide beneficial service agricultural production place\n",
      "Score  1 :  0.5705533027648926\n",
      "Result  2 :  agrivoltaics defined crop production livestock grazing andor pollinator habitat solar panels rows solar panels united states less  solar energy projects colocated crops pollinator habitats recent report researchers doe national renewable energy laboratory highlighted ecological agricultural benefits could result improving agrivoltaic practices foundational agrivoltaic research megawatt scale  farms funding program seeks develop replicable models agrivoltaics provide new economic opportunities potentially reducing landuse conflicts doe focused making agrivoltaic practices across country easier adopt lowering cost maximizing benefits farmers rural communities solar industry\n",
      "Score  2 :  0.5706686973571777\n",
      "Fuzzy Match:  23\n",
      "Article Url:  https://www.pv-magazine.com/2023/03/31/new-software-modeling-tool-for-agrivoltaics/#comments\n",
      "Content Url:  https://cleantechnica.com/2022/12/18/agrivoltaics-goes-nuclear-on-california-prairie/\n",
      "Fuzzy Match Url:  51\n",
      "----\n",
      "Question:  What is Agrivoltaics?\n",
      "Relevant Chunk:  Agrivoltaics refers to the conduct of agricultural activity within a solar array. A relatively new field, agrivoltaics is a departure from the common practice of not really attempting to grow anything at all under a ground-mounted solar panel, except perhaps for some grass that needs to be mowed down at regular intervals.\n",
      "Result  0 :  agrivoltaics refers conduct agricultural activity within solar array relatively new field agrivoltaics departure common practice really attempting grow anything groundmounted solar panel except perhaps grass needs mowed regular intervals\n",
      "Score  0 :  0.3820164203643799\n",
      "Result  1 :  precise definition agrivoltaism proposed based notion synergy agricultural production pv production plot area  ademe said  pv installation must provide service response agricultural problem example agrivoltaic system consist pv modules plant production protect excessive sunlight limit water stress shading effect reduce risks associated climatic conditions hail frost thus producing energy type device can certain configurations provide beneficial service agricultural production place\n",
      "Score  1 :  0.5705533027648926\n",
      "Result  2 :  agrivoltaics defined crop production livestock grazing andor pollinator habitat solar panels rows solar panels united states less  solar energy projects colocated crops pollinator habitats recent report researchers doe national renewable energy laboratory highlighted ecological agricultural benefits could result improving agrivoltaic practices foundational agrivoltaic research megawatt scale  farms funding program seeks develop replicable models agrivoltaics provide new economic opportunities potentially reducing landuse conflicts doe focused making agrivoltaic practices across country easier adopt lowering cost maximizing benefits farmers rural communities solar industry\n",
      "Score  2 :  0.5706686973571777\n",
      "Fuzzy Match:  97\n",
      "Article Url:  https://cleantechnica.com/2022/12/18/agrivoltaics-goes-nuclear-on-california-prairie/\n",
      "Content Url:  https://cleantechnica.com/2022/12/18/agrivoltaics-goes-nuclear-on-california-prairie/\n",
      "Fuzzy Match Url:  100\n",
      "----\n",
      "Question:  Why is cannabis cultivation moving indoors?\n",
      "Relevant Chunk:  Cannabis cultivation can take place outdoors, indoors, or in greenhouses. While outdoor cultivation worked for millennia, the growth of the industry and increased demand for higher-quality product – plus tight profit margins – have prompted producers to go indoors, where ideal environments can be replicated. Indoor growth gives control over environmental factors and flowering periods. More importantly, it means consistent, year-round harvests.\n",
      "Result  0 :  cannabis cultivation take place outdoors indoors greenhouses outdoor cultivation worked millennia growth industry increased demand higherquality product  plus tight profit margins  prompted producers go indoors ideal environments replicated indoor growth gives control environmental factors flowering periods importantly means consistent yearround harvests\n",
      "Score  0 :  0.54079270362854\n",
      "Result  1 :  entirely valid mills research suggests erroneous equivalency indoor outdoorgrown cannabis all anyone brew big batch moonshine bathtub it easy produce fine singlemalt scotch scale indoor cannabis premium product state like california people still easily access black market least double size regulated  taxable industry commercial cannabis companies incentivized produce premium products cultivable climatecontrolled environment\n",
      "Score  1 :  0.7827286124229431\n",
      "Result  2 :  largescale outdoor farming also fraught risk october  croptober  known california outdoorgrown cannabis harvested single harvest spoiled environmental impacts wildfires attractive consumers several months crop fails people decide use cannabis nine months year well they turn indoor site greenhouse\n",
      "Score  2 :  0.7851003408432007\n",
      "Fuzzy Match:  96\n",
      "Article Url:  https://www.pv-magazine.com/2023/04/08/high-time-for-solar/#comments\n",
      "Content Url:  https://www.pv-magazine.com/2023/04/08/high-time-for-solar/#comments\n",
      "Fuzzy Match Url:  100\n",
      "----\n",
      "Question:  What are the obstacles for cannabis producers when it comes to using solar energy?\n",
      "Relevant Chunk:  “There are a lot of prevailing headwinds for cannabis to adopt more solar,” says Mochulsky. “Access to a lot of financial instruments is just not available. We cannot get a standard loan from the standard banks. We can’t, for example, mortgage a company. Cannabis companies don’t have availability to things like bankruptcy. Federal illegality also means we don’t have access to state and federal tax-credit programs [such as the Inflation Reduction Act]. Investors are much more attuned to that degree of risk. After all, if a company can’t restructure, it has to fail.”\n",
      "Result  0 :  legal cannabis cultivation could big opportunity solar\n",
      "Score  0 :  0.47242239117622375\n",
      "Result  1 :  says cannabis companies made inquiries solar but us  seems clients held back due financing becoming harder attain lenders it bad cost borrowing dwarfed savings many times making loan install solar cash flow positive year one\n",
      "Score  1 :  0.5358396768569946\n",
      "Result  2 :  solar energy cannabis cultivation old bedfellows pv pioneer john schaeffer even credited solar facilitating northern california cannabis industry turn supported nascent pv sector now legalization medical recreational cannabis gathers pace solar continues perform key role\n",
      "Score  2 :  0.5538581013679504\n",
      "Fuzzy Match:  41\n",
      "Article Url:  https://www.pv-magazine.com/2023/04/08/high-time-for-solar/#comments\n",
      "Content Url:  https://www.pv-magazine.com/2023/04/08/high-time-for-solar/#comments\n",
      "Fuzzy Match Url:  100\n",
      "----\n",
      "Question:  In 2021, what were the top 3 states in the US in terms of total solar power generating capacity?\n",
      "Relevant Chunk:  In 2021, Florida surpassed North Carolina to become third in the nation in total solar power generating capacity, after California and Texas.\n",
      "Result  0 :  california texas florida top three states new solar capacity additions third consecutive year california taking back top spot texas led nation\n",
      "Score  0 :  0.2983148694038391\n",
      "Result  1 :  california texas florida top  states new solar capacity additions third consecutive year california taking back top spot texas led nation\n",
      "Score  1 :  0.314287930727005\n",
      "Result  2 :  california texas florida top three states annual solar capacity additions second straight year   states installed  mw new solar capacity record\n",
      "Score  2 :  0.3410884141921997\n",
      "Fuzzy Match:  60\n",
      "Article Url:  https://cleantechnica.com/2023/04/10/solar-power-in-florida/\n",
      "Content Url:  https://cleantechnica.com/2023/03/10/policy-driven-supply-constraints-cause-steep-drop-in-solar-installations-in-2022/\n",
      "Fuzzy Match Url:  82\n",
      "----\n",
      "Question:  Which has the higher absorption coefficient for wavelengths above 500m - amorphous germanium or amorphous silicon?\n",
      "Relevant Chunk:  We chose amorphous germanium instead of amorphous silicon as absorber material because of its higher absorption coefficient for wavelengths above 500 nm.\n",
      "Result  0 :  due strong optical confinement high absorption coefficient age h absorber thickness reduced  nm still achieving efficiency  opaque solar cell  academics said  chose amorphous germanium instead amorphous silicon absorber material higher absorption coefficient wavelengths  nm\n",
      "Score  0 :  0.5040810108184814\n",
      "Result  1 :  presented findings  spectral engineering ultrathin germanium solar cells combined photovoltaic photosynthesis  recently published optics express device enhanced amorphous germanium  age h solar cell confine light ultrathin absorber\n",
      "Score  1 :  0.8645153045654297\n",
      "Result  2 :  rob w andrews joshua m pearce  effect spectral albedo amorphous silicon crystalline silicon solar photovoltaic device performance  solar energy vol  pp\n",
      "Score  2 :  0.90301513671875\n",
      "Fuzzy Match:  86\n",
      "Article Url:  https://www.pv-magazine.com/2021/01/15/germanium-based-solar-cell-tech-for-agrivoltaics/#respond\n",
      "Content Url:  https://www.pv-magazine.com/2021/01/15/germanium-based-solar-cell-tech-for-agrivoltaics/#respond\n",
      "Fuzzy Match Url:  100\n",
      "----\n",
      "Average Score:  0.6185242442981057\n",
      "Average Fuzzy Score:  0.5021739130434782\n"
     ]
    }
   ],
   "source": [
    "from fuzzywuzzy import fuzz\n",
    "\n",
    "\n",
    "score = 0\n",
    "fuzzy_score = 0\n",
    "\n",
    "# iterate through evaluation set\n",
    "for index, row in evaluation_set.iterrows():\n",
    "    similarity_search = langchain_chroma.similarity_search_with_score(row.question)[:3]\n",
    "    print(\"Question: \", row.question)\n",
    "    print(\"Relevant Chunk: \", row.relevant_chunk)\n",
    "    for i in range(3):\n",
    "        print(\"Result \", i, \": \", similarity_search[i][0].page_content)\n",
    "        print(\"Score \", i, \": \", similarity_search[i][1])\n",
    "    # define own similarity based on fuzzy matching\n",
    "    fuzzy_match = fuzz.token_set_ratio(row.relevant_chunk, similarity_search[0][0].page_content)\n",
    "    print(\"Fuzzy Match: \", fuzzy_match)\n",
    "    print(\"Article Url: \", row.article_url)\n",
    "    print(\"Content Url: \", similarity_search[0][0].metadata['url'])\n",
    "    fuzzy_match_url = fuzz.token_set_ratio(row.article_url, similarity_search[0][0].metadata['url'])\n",
    "    print(\"Fuzzy Match Url: \", fuzzy_match_url)\n",
    "    print(\"----\")\n",
    "    \n",
    "    score += similarity_search[0][1]\n",
    "    fuzzy_score += fuzzy_match\n",
    "    \n",
    "print(\"Average Score: \", score/len(evaluation_set))\n",
    "print(\"Average Fuzzy Score: \", fuzzy_score/(100*len(evaluation_set)))\n",
    "    "
   ],
   "metadata": {
    "collapsed": false,
    "ExecuteTime": {
     "end_time": "2024-02-29T11:55:20.377001Z",
     "start_time": "2024-02-29T11:55:17.358634Z"
    }
   },
   "id": "3a881028b3cafe9e",
   "execution_count": 24
  },
  {
   "cell_type": "markdown",
   "id": "4abe75af9f92b037",
   "metadata": {},
   "source": [
    "## Collection Query"
   ]
  },
  {
   "cell_type": "code",
   "execution_count": null,
   "id": "ca76953cb521268c",
   "metadata": {},
   "outputs": [],
   "source": [
    "langchain_collection = chroma_client.get_collection(\"my_langchain_collection\")\n",
    "\n",
    "langchain_collection.query(\n",
    "    query_embeddings=[i for i in range(768)],\n",
    "    n_results=1,\n",
    ")"
   ]
  },
  {
   "cell_type": "markdown",
   "id": "d88e713739862062",
   "metadata": {},
   "source": [
    "## SelfQueryRetriever"
   ]
  },
  {
   "cell_type": "code",
   "execution_count": 16,
   "id": "71b3608d24e92081",
   "metadata": {
    "ExecuteTime": {
     "end_time": "2024-02-29T11:21:37.171489Z",
     "start_time": "2024-02-29T11:21:34.765273Z"
    }
   },
   "outputs": [
    {
     "name": "stdout",
     "output_type": "stream",
     "text": [
      "lithium batteries great powering rechargeable electronics store lot energy long lifespans\n",
      "{'Unnamed: 0': 6573, 'date': '2022-10-07', 'domain': 'energyvoice', 'title': 'Batteries: Contenders emerge for super-solutions - News for the Energy Sector', 'url': 'https://www.energyvoice.com/technology/446761/batteries-technology/'}\n"
     ]
    }
   ],
   "source": [
    "from langchain_openai import OpenAI\n",
    "from langchain.retrievers.self_query.base import SelfQueryRetriever\n",
    "from langchain.chains.query_constructor.base import AttributeInfo\n",
    "\n",
    "# Metadata schema based on the values on the CSV\n",
    "metadata_field_info = [\n",
    "    AttributeInfo(\n",
    "        name=\"url\",\n",
    "        description=\"Url of the document\",\n",
    "        type=\"string\",\n",
    "    ),\n",
    "    AttributeInfo(\n",
    "        name=\"title\",\n",
    "        description=\"Title of the document\",\n",
    "        type=\"string\",\n",
    "    ),\n",
    "    AttributeInfo(\n",
    "        name=\"date\",\n",
    "        description=\"Date of the document\",\n",
    "        type=\"string\",\n",
    "    ),\n",
    "    AttributeInfo(\n",
    "        name=\"author\",\n",
    "        description=\"Author of the document\",\n",
    "        type=\"string\",\n",
    "    ),\n",
    "    AttributeInfo(\n",
    "        name=\"domain\",\n",
    "        description=\"Domain of the document, closely related to the source of the document\",\n",
    "        type=\"string\",\n",
    "    ),\n",
    "]\n",
    "document_content_description = \"Article listing\"\n",
    "\n",
    "# Configure retriver\n",
    "llm = OpenAI(temperature=0)\n",
    "retriever = SelfQueryRetriever.from_llm(\n",
    "    llm, langchain_chroma, document_content_description, metadata_field_info, verbose=True\n",
    ")\n",
    "\n",
    "# Based on rag evaluation set \n",
    "result = retriever.get_relevant_documents(evaluation_set.iloc[0].question)\n",
    "print(result[0].page_content)\n",
    "print(result[0].metadata)"
   ]
  },
  {
   "cell_type": "code",
   "execution_count": null,
   "id": "b3fd901cc404608b",
   "metadata": {},
   "outputs": [],
   "source": []
  }
 ],
 "metadata": {
  "kernelspec": {
   "display_name": "Python 3",
   "language": "python",
   "name": "python3"
  },
  "language_info": {
   "codemirror_mode": {
    "name": "ipython",
    "version": 3
   },
   "file_extension": ".py",
   "mimetype": "text/x-python",
   "name": "python",
   "nbconvert_exporter": "python",
   "pygments_lexer": "ipython3",
   "version": "3.10.10"
  }
 },
 "nbformat": 4,
 "nbformat_minor": 5
}
