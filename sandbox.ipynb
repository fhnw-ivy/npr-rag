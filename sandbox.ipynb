{
 "cells": [
  {
   "cell_type": "code",
   "execution_count": null,
   "id": "initial_id",
   "metadata": {
    "collapsed": true
   },
   "outputs": [],
   "source": [
    "from langchain_community.vectorstores import Chroma\n",
    "import chromadb\n",
    "import pandas as pd\n",
    "\n",
    "from dotenv import load_dotenv\n",
    "load_dotenv()"
   ]
  },
  {
   "cell_type": "code",
   "outputs": [],
   "source": [
    "# read in evaluation\n",
    "evaluation_set = pd.read_csv('./data/Cleantech Media Dataset/cleantech_rag_evaluation_data_2024-02-23.csv')\n"
   ],
   "metadata": {
    "collapsed": false
   },
   "id": "a7c643c25e8fc9b5",
   "execution_count": null
  },
  {
   "cell_type": "markdown",
   "source": [
    "## CSV - Embedding - Chroma"
   ],
   "metadata": {
    "collapsed": false
   },
   "id": "27db7c8bb4c7128f"
  },
  {
   "cell_type": "code",
   "outputs": [],
   "source": [
    "from langchain_community.document_loaders.csv_loader import CSVLoader\n",
    "# this is useless\n",
    "from langchain.text_splitter import CharacterTextSplitter\n",
    "\n",
    "\n",
    "loader = CSVLoader(file_path='./data/Cleantech Media Dataset/cleantech_media_dataset_v2_2024-02-23.csv',\n",
    "                   metadata_columns=['title', 'url', 'date', 'author', 'domain'],)\n",
    "\n",
    "documents = loader.load()"
   ],
   "metadata": {
    "collapsed": false
   },
   "id": "e265f3a9a34011f9",
   "execution_count": null
  },
  {
   "cell_type": "code",
   "outputs": [],
   "source": [
    "from langchain_community.embeddings import FakeEmbeddings\n",
    "from langchain_openai import OpenAIEmbeddings\n",
    "from langchain_community.embeddings import HuggingFaceEmbeddings\n",
    "\n",
    "embeddings = HuggingFaceEmbeddings()\n",
    "\n",
    "chroma_client = chromadb.HttpClient(host='localhost', port=8000)\n",
    "# chroma_client.reset()\n",
    "\n",
    "langchain_chroma = Chroma(\n",
    "    client=chroma_client,\n",
    "    collection_name=\"my_langchain_collection\",\n",
    "    embedding_function=embeddings,\n",
    ")\n",
    "\n",
    "langchain_chroma.add_documents(documents=documents)"
   ],
   "metadata": {
    "collapsed": false
   },
   "id": "c97846c14d184275",
   "execution_count": null
  },
  {
   "cell_type": "markdown",
   "source": [
    "## Similarity Search\n",
    "Query against the collection"
   ],
   "metadata": {
    "collapsed": false
   },
   "id": "77921a2093b82f8c"
  },
  {
   "cell_type": "code",
   "outputs": [],
   "source": [
    "# based on the rag evaluation set\n",
    "docs = langchain_chroma.similarity_search(evaluation_set.iloc[0].question)\n",
    "print(docs[0].page_content)\n",
    "print(docs[0].metadata)"
   ],
   "metadata": {
    "collapsed": false
   },
   "id": "33982f5f51eacc7d",
   "execution_count": null
  },
  {
   "cell_type": "code",
   "outputs": [],
   "source": [
    "# comparison with the intended RAG context \n",
    "\n",
    "evaluation_set.iloc[0].relevant_chunk"
   ],
   "metadata": {
    "collapsed": false
   },
   "id": "76fdba57757d9ec6",
   "execution_count": null
  },
  {
   "cell_type": "markdown",
   "source": [
    "## Collection Query"
   ],
   "metadata": {
    "collapsed": false
   },
   "id": "4abe75af9f92b037"
  },
  {
   "cell_type": "code",
   "outputs": [],
   "source": [
    "langchain_collection = chroma_client.get_collection(\"my_langchain_collection\")\n",
    "\n",
    "langchain_collection.query(\n",
    "    query_embeddings=[i for i in range(768)],\n",
    "    n_results=1,\n",
    ")"
   ],
   "metadata": {
    "collapsed": false
   },
   "id": "ca76953cb521268c",
   "execution_count": null
  },
  {
   "cell_type": "markdown",
   "source": [
    "## SelfQueryRetriever\n",
    "\n",
    "DOESN'T WORK WITH CHROMA"
   ],
   "metadata": {
    "collapsed": false
   },
   "id": "d88e713739862062"
  },
  {
   "cell_type": "code",
   "outputs": [],
   "source": [
    "from langchain.llms import OpenAI\n",
    "from langchain.retrievers.self_query.base import SelfQueryRetriever\n",
    "from langchain.chains.query_constructor.base import AttributeInfo\n",
    "\n",
    "# Metadata schema based on the values on the CSV\n",
    "metadata_field_info = [\n",
    "    AttributeInfo(\n",
    "        name=\"url\",\n",
    "        description=\"Url of the document\",\n",
    "        type=\"string\",\n",
    "    ),\n",
    "    AttributeInfo(\n",
    "        name=\"title\",\n",
    "        description=\"Title of the document\",\n",
    "        type=\"string\",\n",
    "    ),\n",
    "    AttributeInfo(\n",
    "        name=\"date\",\n",
    "        description=\"Date of the document\",\n",
    "        type=\"string\",\n",
    "    ),\n",
    "    AttributeInfo(\n",
    "        name=\"author\",\n",
    "        description=\"Author of the document\",\n",
    "        type=\"string\",\n",
    "    ),\n",
    "    AttributeInfo(\n",
    "        name=\"domain\",\n",
    "        description=\"Domain of the document, closely related to the source of the document\",\n",
    "        type=\"string\",\n",
    "    ),\n",
    "]\n",
    "document_content_description = \"Product listing\"\n",
    "\n",
    "# Configure retriver\n",
    "llm = OpenAI(temperature=0)\n",
    "retriever = SelfQueryRetriever.from_llm(\n",
    "    llm, chroma_client, document_content_description, metadata_field_info, verbose=True\n",
    ")\n",
    "\n",
    "# Based on rag evaluation set \n",
    "retriever.get_relevant_documents(evaluation_set.iloc[0].question)"
   ],
   "metadata": {
    "collapsed": false
   },
   "id": "71b3608d24e92081",
   "execution_count": null
  },
  {
   "cell_type": "code",
   "outputs": [],
   "source": [],
   "metadata": {
    "collapsed": false
   },
   "id": "82fe224103d8b10b"
  }
 ],
 "metadata": {
  "kernelspec": {
   "display_name": "Python 3",
   "language": "python",
   "name": "python3"
  },
  "language_info": {
   "codemirror_mode": {
    "name": "ipython",
    "version": 2
   },
   "file_extension": ".py",
   "mimetype": "text/x-python",
   "name": "python",
   "nbconvert_exporter": "python",
   "pygments_lexer": "ipython2",
   "version": "2.7.6"
  }
 },
 "nbformat": 4,
 "nbformat_minor": 5
}
