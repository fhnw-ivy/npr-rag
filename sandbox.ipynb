{
 "cells": [
  {
   "cell_type": "code",
   "execution_count": 105,
   "id": "initial_id",
   "metadata": {},
   "outputs": [],
   "source": [
    "from langchain_community.vectorstores import Chroma\n",
    "import chromadb\n",
    "import pandas as pd\n",
    "\n",
    "from dotenv import load_dotenv\n",
    "load_dotenv()\n",
    "\n",
    "import nltk\n",
    "from nltk.corpus import stopwords\n",
    "\n",
    "from html import unescape\n",
    "import re\n",
    "\n",
    "RANDOM_SEED = 1337"
   ]
  },
  {
   "cell_type": "markdown",
   "id": "b91f75c0",
   "metadata": {},
   "source": [
    "## Preprocessing"
   ]
  },
  {
   "cell_type": "code",
   "execution_count": 106,
   "id": "6d5647b5",
   "metadata": {},
   "outputs": [
    {
     "name": "stderr",
     "output_type": "stream",
     "text": [
      "[nltk_data] Downloading package stopwords to /Users/nils/nltk_data...\n",
      "[nltk_data]   Package stopwords is already up-to-date!\n"
     ]
    },
    {
     "data": {
      "text/html": [
       "<div>\n",
       "<style scoped>\n",
       "    .dataframe tbody tr th:only-of-type {\n",
       "        vertical-align: middle;\n",
       "    }\n",
       "\n",
       "    .dataframe tbody tr th {\n",
       "        vertical-align: top;\n",
       "    }\n",
       "\n",
       "    .dataframe thead th {\n",
       "        text-align: right;\n",
       "    }\n",
       "</style>\n",
       "<table border=\"1\" class=\"dataframe\">\n",
       "  <thead>\n",
       "    <tr style=\"text-align: right;\">\n",
       "      <th></th>\n",
       "      <th>Unnamed: 0</th>\n",
       "      <th>title</th>\n",
       "      <th>date</th>\n",
       "      <th>author</th>\n",
       "      <th>content</th>\n",
       "      <th>domain</th>\n",
       "      <th>url</th>\n",
       "    </tr>\n",
       "  </thead>\n",
       "  <tbody>\n",
       "    <tr>\n",
       "      <th>5840</th>\n",
       "      <td>77870</td>\n",
       "      <td>World's first clean-hydrogen investment fund '...</td>\n",
       "      <td>2021-07-28</td>\n",
       "      <td>NaN</td>\n",
       "      <td>['The world’ s first clean-hydrogen investment...</td>\n",
       "      <td>rechargenews</td>\n",
       "      <td>https://www.rechargenews.com/energy-transition...</td>\n",
       "    </tr>\n",
       "    <tr>\n",
       "      <th>526</th>\n",
       "      <td>6169</td>\n",
       "      <td>COP26: Scotland's peatlands are a carbon sink ...</td>\n",
       "      <td>2021-11-09</td>\n",
       "      <td>NaN</td>\n",
       "      <td>['West of the COP26 climate conference, among ...</td>\n",
       "      <td>energyvoice</td>\n",
       "      <td>https://www.energyvoice.com/renewables-energy-...</td>\n",
       "    </tr>\n",
       "    <tr>\n",
       "      <th>3589</th>\n",
       "      <td>37939</td>\n",
       "      <td>How Do Climate Change Mitigation Policies Impa...</td>\n",
       "      <td>2023-03-16</td>\n",
       "      <td>NaN</td>\n",
       "      <td>[\"By clicking `` Allow All '' you agree to the...</td>\n",
       "      <td>azocleantech</td>\n",
       "      <td>https://www.azocleantech.com/news.aspx?newsID=...</td>\n",
       "    </tr>\n",
       "    <tr>\n",
       "      <th>8311</th>\n",
       "      <td>80434</td>\n",
       "      <td>Senate passes Inflation Reduction Act with lon...</td>\n",
       "      <td>2022-08-08</td>\n",
       "      <td>NaN</td>\n",
       "      <td>['Update 08/16: President Biden signed the IRA...</td>\n",
       "      <td>solarpowerworldonline</td>\n",
       "      <td>https://www.solarpowerworldonline.com/2022/08/...</td>\n",
       "    </tr>\n",
       "    <tr>\n",
       "      <th>3537</th>\n",
       "      <td>37887</td>\n",
       "      <td>Researchers Use Drones to Monitor the Fragile ...</td>\n",
       "      <td>2023-03-07</td>\n",
       "      <td>NaN</td>\n",
       "      <td>[\"By clicking `` Allow All '' you agree to the...</td>\n",
       "      <td>azocleantech</td>\n",
       "      <td>https://www.azocleantech.com/news.aspx?newsID=...</td>\n",
       "    </tr>\n",
       "  </tbody>\n",
       "</table>\n",
       "</div>"
      ],
      "text/plain": [
       "      Unnamed: 0                                              title  \\\n",
       "5840       77870  World's first clean-hydrogen investment fund '...   \n",
       "526         6169  COP26: Scotland's peatlands are a carbon sink ...   \n",
       "3589       37939  How Do Climate Change Mitigation Policies Impa...   \n",
       "8311       80434  Senate passes Inflation Reduction Act with lon...   \n",
       "3537       37887  Researchers Use Drones to Monitor the Fragile ...   \n",
       "\n",
       "            date author                                            content  \\\n",
       "5840  2021-07-28    NaN  ['The world’ s first clean-hydrogen investment...   \n",
       "526   2021-11-09    NaN  ['West of the COP26 climate conference, among ...   \n",
       "3589  2023-03-16    NaN  [\"By clicking `` Allow All '' you agree to the...   \n",
       "8311  2022-08-08    NaN  ['Update 08/16: President Biden signed the IRA...   \n",
       "3537  2023-03-07    NaN  [\"By clicking `` Allow All '' you agree to the...   \n",
       "\n",
       "                     domain                                                url  \n",
       "5840           rechargenews  https://www.rechargenews.com/energy-transition...  \n",
       "526             energyvoice  https://www.energyvoice.com/renewables-energy-...  \n",
       "3589           azocleantech  https://www.azocleantech.com/news.aspx?newsID=...  \n",
       "8311  solarpowerworldonline  https://www.solarpowerworldonline.com/2022/08/...  \n",
       "3537           azocleantech  https://www.azocleantech.com/news.aspx?newsID=...  "
      ]
     },
     "execution_count": 106,
     "metadata": {},
     "output_type": "execute_result"
    }
   ],
   "source": [
    "nltk.download('stopwords')\n",
    "\n",
    "documents = pd.read_csv('data/Cleantech Media Dataset/cleantech_media_dataset_v2_2024-02-23.csv')\n",
    "\n",
    "documents.sample(5, random_state=RANDOM_SEED)"
   ]
  },
  {
   "cell_type": "markdown",
   "id": "6d9a2a40",
   "metadata": {},
   "source": [
    "### Text Normalization"
   ]
  },
  {
   "cell_type": "code",
   "execution_count": 107,
   "id": "8d0779b3",
   "metadata": {},
   "outputs": [
    {
     "data": {
      "text/html": [
       "<div>\n",
       "<style scoped>\n",
       "    .dataframe tbody tr th:only-of-type {\n",
       "        vertical-align: middle;\n",
       "    }\n",
       "\n",
       "    .dataframe tbody tr th {\n",
       "        vertical-align: top;\n",
       "    }\n",
       "\n",
       "    .dataframe thead th {\n",
       "        text-align: right;\n",
       "    }\n",
       "</style>\n",
       "<table border=\"1\" class=\"dataframe\">\n",
       "  <thead>\n",
       "    <tr style=\"text-align: right;\">\n",
       "      <th></th>\n",
       "      <th>Unnamed: 0</th>\n",
       "      <th>title</th>\n",
       "      <th>date</th>\n",
       "      <th>author</th>\n",
       "      <th>content</th>\n",
       "      <th>domain</th>\n",
       "      <th>url</th>\n",
       "    </tr>\n",
       "  </thead>\n",
       "  <tbody>\n",
       "    <tr>\n",
       "      <th>5840</th>\n",
       "      <td>77870</td>\n",
       "      <td>World's first clean-hydrogen investment fund '...</td>\n",
       "      <td>2021-07-28</td>\n",
       "      <td>NaN</td>\n",
       "      <td>world first cleanhydrogen investment fund  cou...</td>\n",
       "      <td>rechargenews</td>\n",
       "      <td>https://www.rechargenews.com/energy-transition...</td>\n",
       "    </tr>\n",
       "    <tr>\n",
       "      <th>526</th>\n",
       "      <td>6169</td>\n",
       "      <td>COP26: Scotland's peatlands are a carbon sink ...</td>\n",
       "      <td>2021-11-09</td>\n",
       "      <td>NaN</td>\n",
       "      <td>west cop climate conference among lochs glens ...</td>\n",
       "      <td>energyvoice</td>\n",
       "      <td>https://www.energyvoice.com/renewables-energy-...</td>\n",
       "    </tr>\n",
       "    <tr>\n",
       "      <th>3589</th>\n",
       "      <td>37939</td>\n",
       "      <td>How Do Climate Change Mitigation Policies Impa...</td>\n",
       "      <td>2023-03-16</td>\n",
       "      <td>NaN</td>\n",
       "      <td>clicking  allow  agree storing cookies device ...</td>\n",
       "      <td>azocleantech</td>\n",
       "      <td>https://www.azocleantech.com/news.aspx?newsID=...</td>\n",
       "    </tr>\n",
       "    <tr>\n",
       "      <th>8311</th>\n",
       "      <td>80434</td>\n",
       "      <td>Senate passes Inflation Reduction Act with lon...</td>\n",
       "      <td>2022-08-08</td>\n",
       "      <td>NaN</td>\n",
       "      <td>update  president biden signed ira law here de...</td>\n",
       "      <td>solarpowerworldonline</td>\n",
       "      <td>https://www.solarpowerworldonline.com/2022/08/...</td>\n",
       "    </tr>\n",
       "    <tr>\n",
       "      <th>3537</th>\n",
       "      <td>37887</td>\n",
       "      <td>Researchers Use Drones to Monitor the Fragile ...</td>\n",
       "      <td>2023-03-07</td>\n",
       "      <td>NaN</td>\n",
       "      <td>clicking  allow  agree storing cookies device ...</td>\n",
       "      <td>azocleantech</td>\n",
       "      <td>https://www.azocleantech.com/news.aspx?newsID=...</td>\n",
       "    </tr>\n",
       "  </tbody>\n",
       "</table>\n",
       "</div>"
      ],
      "text/plain": [
       "      Unnamed: 0                                              title  \\\n",
       "5840       77870  World's first clean-hydrogen investment fund '...   \n",
       "526         6169  COP26: Scotland's peatlands are a carbon sink ...   \n",
       "3589       37939  How Do Climate Change Mitigation Policies Impa...   \n",
       "8311       80434  Senate passes Inflation Reduction Act with lon...   \n",
       "3537       37887  Researchers Use Drones to Monitor the Fragile ...   \n",
       "\n",
       "            date author                                            content  \\\n",
       "5840  2021-07-28    NaN  world first cleanhydrogen investment fund  cou...   \n",
       "526   2021-11-09    NaN  west cop climate conference among lochs glens ...   \n",
       "3589  2023-03-16    NaN  clicking  allow  agree storing cookies device ...   \n",
       "8311  2022-08-08    NaN  update  president biden signed ira law here de...   \n",
       "3537  2023-03-07    NaN  clicking  allow  agree storing cookies device ...   \n",
       "\n",
       "                     domain                                                url  \n",
       "5840           rechargenews  https://www.rechargenews.com/energy-transition...  \n",
       "526             energyvoice  https://www.energyvoice.com/renewables-energy-...  \n",
       "3589           azocleantech  https://www.azocleantech.com/news.aspx?newsID=...  \n",
       "8311  solarpowerworldonline  https://www.solarpowerworldonline.com/2022/08/...  \n",
       "3537           azocleantech  https://www.azocleantech.com/news.aspx?newsID=...  "
      ]
     },
     "execution_count": 107,
     "metadata": {},
     "output_type": "execute_result"
    }
   ],
   "source": [
    "# set everything to lowercase\n",
    "documents['content'] = documents['content'].str.lower()\n",
    "\n",
    "# remove non-alphanumeric characters\n",
    "documents['content'] = documents['content'].apply(lambda x: ' '.join(eval(x)))\n",
    "\n",
    "# remove stopwords from content\n",
    "stop_words = set(stopwords.words('english'))\n",
    "documents['content'] = documents['content'].apply(lambda x: ' '.join([word for word in x.split() if word not in (stop_words)]))\n",
    "\n",
    "# remove quotes\n",
    "documents['content'] = documents['content'].str.replace(\"'\", '')\n",
    "\n",
    "# unescape HTML entities\n",
    "documents['content'] = unescape(documents['content'])\n",
    "\n",
    "# remove HTML tags if any\n",
    "documents['content'] = documents['content'].str.replace(r'<[^>]+>', '')\n",
    "\n",
    "# Removes specific unwanted characters\n",
    "documents['content'] = documents['content'].str.replace(r\"[\\'\\/`:“`’]+\", '', regex=True)\n",
    "\n",
    "# Removes non-ASCII (Unicode) characters\n",
    "documents['content'] = documents['content'].str.replace(r'[^\\x00-\\x7F]+', '', regex=True)\n",
    "\n",
    "# Keeps only letters and whitespace\n",
    "documents['content'] = documents['content'].str.replace(r'[^a-zA-Z\\s]', '', regex=True)\n",
    "\n",
    "# trim extra spaces\n",
    "documents['content'] = documents['content'].str.strip()\n",
    "\n",
    "documents.sample(5, random_state=RANDOM_SEED)"
   ]
  },
  {
   "cell_type": "markdown",
   "id": "27db7c8bb4c7128f",
   "metadata": {},
   "source": [
    "## CSV - Embedding - Chroma"
   ]
  },
  {
   "cell_type": "code",
   "execution_count": 108,
   "id": "a7c643c25e8fc9b5",
   "metadata": {},
   "outputs": [],
   "source": [
    "# read in evaluation\n",
    "evaluation_set = pd.read_csv('./data/Cleantech Media Dataset/cleantech_rag_evaluation_data_2024-02-23.csv')\n"
   ]
  },
  {
   "cell_type": "code",
   "execution_count": 109,
   "id": "e265f3a9a34011f9",
   "metadata": {},
   "outputs": [],
   "source": [
    "from langchain_community.document_loaders import DataFrameLoader\n",
    "# this is useless\n",
    "from langchain.text_splitter import CharacterTextSplitter\n",
    "\n",
    "loader = DataFrameLoader(documents, page_content_column='content')\n",
    "\n",
    "documents = loader.load()"
   ]
  },
  {
   "cell_type": "code",
   "execution_count": 110,
   "id": "c97846c14d184275",
   "metadata": {},
   "outputs": [
    {
     "ename": "KeyboardInterrupt",
     "evalue": "",
     "output_type": "error",
     "traceback": [
      "\u001b[0;31m---------------------------------------------------------------------------\u001b[0m",
      "\u001b[0;31mKeyboardInterrupt\u001b[0m                         Traceback (most recent call last)",
      "Cell \u001b[0;32mIn[110], line 16\u001b[0m\n\u001b[1;32m      8\u001b[0m chroma_client\u001b[38;5;241m.\u001b[39mreset()\n\u001b[1;32m     10\u001b[0m langchain_chroma \u001b[38;5;241m=\u001b[39m Chroma(\n\u001b[1;32m     11\u001b[0m     client\u001b[38;5;241m=\u001b[39mchroma_client,\n\u001b[1;32m     12\u001b[0m     collection_name\u001b[38;5;241m=\u001b[39m\u001b[38;5;124m\"\u001b[39m\u001b[38;5;124mmy_langchain_collection\u001b[39m\u001b[38;5;124m\"\u001b[39m,\n\u001b[1;32m     13\u001b[0m     embedding_function\u001b[38;5;241m=\u001b[39membeddings,\n\u001b[1;32m     14\u001b[0m )\n\u001b[0;32m---> 16\u001b[0m \u001b[43mlangchain_chroma\u001b[49m\u001b[38;5;241;43m.\u001b[39;49m\u001b[43madd_documents\u001b[49m\u001b[43m(\u001b[49m\u001b[43mdocuments\u001b[49m\u001b[38;5;241;43m=\u001b[39;49m\u001b[43mdocuments\u001b[49m\u001b[43m)\u001b[49m\n",
      "File \u001b[0;32m~/Documents/Classes/npr/npr-rag/.venv/lib/python3.10/site-packages/langchain_core/vectorstores.py:139\u001b[0m, in \u001b[0;36mVectorStore.add_documents\u001b[0;34m(self, documents, **kwargs)\u001b[0m\n\u001b[1;32m    137\u001b[0m texts \u001b[38;5;241m=\u001b[39m [doc\u001b[38;5;241m.\u001b[39mpage_content \u001b[38;5;28;01mfor\u001b[39;00m doc \u001b[38;5;129;01min\u001b[39;00m documents]\n\u001b[1;32m    138\u001b[0m metadatas \u001b[38;5;241m=\u001b[39m [doc\u001b[38;5;241m.\u001b[39mmetadata \u001b[38;5;28;01mfor\u001b[39;00m doc \u001b[38;5;129;01min\u001b[39;00m documents]\n\u001b[0;32m--> 139\u001b[0m \u001b[38;5;28;01mreturn\u001b[39;00m \u001b[38;5;28;43mself\u001b[39;49m\u001b[38;5;241;43m.\u001b[39;49m\u001b[43madd_texts\u001b[49m\u001b[43m(\u001b[49m\u001b[43mtexts\u001b[49m\u001b[43m,\u001b[49m\u001b[43m \u001b[49m\u001b[43mmetadatas\u001b[49m\u001b[43m,\u001b[49m\u001b[43m \u001b[49m\u001b[38;5;241;43m*\u001b[39;49m\u001b[38;5;241;43m*\u001b[39;49m\u001b[43mkwargs\u001b[49m\u001b[43m)\u001b[49m\n",
      "File \u001b[0;32m~/Documents/Classes/npr/npr-rag/.venv/lib/python3.10/site-packages/langchain_community/vectorstores/chroma.py:275\u001b[0m, in \u001b[0;36mChroma.add_texts\u001b[0;34m(self, texts, metadatas, ids, **kwargs)\u001b[0m\n\u001b[1;32m    273\u001b[0m texts \u001b[38;5;241m=\u001b[39m \u001b[38;5;28mlist\u001b[39m(texts)\n\u001b[1;32m    274\u001b[0m \u001b[38;5;28;01mif\u001b[39;00m \u001b[38;5;28mself\u001b[39m\u001b[38;5;241m.\u001b[39m_embedding_function \u001b[38;5;129;01mis\u001b[39;00m \u001b[38;5;129;01mnot\u001b[39;00m \u001b[38;5;28;01mNone\u001b[39;00m:\n\u001b[0;32m--> 275\u001b[0m     embeddings \u001b[38;5;241m=\u001b[39m \u001b[38;5;28;43mself\u001b[39;49m\u001b[38;5;241;43m.\u001b[39;49m\u001b[43m_embedding_function\u001b[49m\u001b[38;5;241;43m.\u001b[39;49m\u001b[43membed_documents\u001b[49m\u001b[43m(\u001b[49m\u001b[43mtexts\u001b[49m\u001b[43m)\u001b[49m\n\u001b[1;32m    276\u001b[0m \u001b[38;5;28;01mif\u001b[39;00m metadatas:\n\u001b[1;32m    277\u001b[0m     \u001b[38;5;66;03m# fill metadatas with empty dicts if somebody\u001b[39;00m\n\u001b[1;32m    278\u001b[0m     \u001b[38;5;66;03m# did not specify metadata for all texts\u001b[39;00m\n\u001b[1;32m    279\u001b[0m     length_diff \u001b[38;5;241m=\u001b[39m \u001b[38;5;28mlen\u001b[39m(texts) \u001b[38;5;241m-\u001b[39m \u001b[38;5;28mlen\u001b[39m(metadatas)\n",
      "File \u001b[0;32m~/Documents/Classes/npr/npr-rag/.venv/lib/python3.10/site-packages/langchain_community/embeddings/huggingface.py:93\u001b[0m, in \u001b[0;36mHuggingFaceEmbeddings.embed_documents\u001b[0;34m(self, texts)\u001b[0m\n\u001b[1;32m     91\u001b[0m     sentence_transformers\u001b[38;5;241m.\u001b[39mSentenceTransformer\u001b[38;5;241m.\u001b[39mstop_multi_process_pool(pool)\n\u001b[1;32m     92\u001b[0m \u001b[38;5;28;01melse\u001b[39;00m:\n\u001b[0;32m---> 93\u001b[0m     embeddings \u001b[38;5;241m=\u001b[39m \u001b[38;5;28;43mself\u001b[39;49m\u001b[38;5;241;43m.\u001b[39;49m\u001b[43mclient\u001b[49m\u001b[38;5;241;43m.\u001b[39;49m\u001b[43mencode\u001b[49m\u001b[43m(\u001b[49m\n\u001b[1;32m     94\u001b[0m \u001b[43m        \u001b[49m\u001b[43mtexts\u001b[49m\u001b[43m,\u001b[49m\u001b[43m \u001b[49m\u001b[43mshow_progress_bar\u001b[49m\u001b[38;5;241;43m=\u001b[39;49m\u001b[38;5;28;43mself\u001b[39;49m\u001b[38;5;241;43m.\u001b[39;49m\u001b[43mshow_progress\u001b[49m\u001b[43m,\u001b[49m\u001b[43m \u001b[49m\u001b[38;5;241;43m*\u001b[39;49m\u001b[38;5;241;43m*\u001b[39;49m\u001b[38;5;28;43mself\u001b[39;49m\u001b[38;5;241;43m.\u001b[39;49m\u001b[43mencode_kwargs\u001b[49m\n\u001b[1;32m     95\u001b[0m \u001b[43m    \u001b[49m\u001b[43m)\u001b[49m\n\u001b[1;32m     97\u001b[0m \u001b[38;5;28;01mreturn\u001b[39;00m embeddings\u001b[38;5;241m.\u001b[39mtolist()\n",
      "File \u001b[0;32m~/Documents/Classes/npr/npr-rag/.venv/lib/python3.10/site-packages/sentence_transformers/SentenceTransformer.py:350\u001b[0m, in \u001b[0;36mSentenceTransformer.encode\u001b[0;34m(self, sentences, prompt_name, prompt, batch_size, show_progress_bar, output_value, convert_to_numpy, convert_to_tensor, device, normalize_embeddings)\u001b[0m\n\u001b[1;32m    347\u001b[0m features\u001b[38;5;241m.\u001b[39mupdate(extra_features)\n\u001b[1;32m    349\u001b[0m \u001b[38;5;28;01mwith\u001b[39;00m torch\u001b[38;5;241m.\u001b[39mno_grad():\n\u001b[0;32m--> 350\u001b[0m     out_features \u001b[38;5;241m=\u001b[39m \u001b[38;5;28;43mself\u001b[39;49m\u001b[38;5;241;43m.\u001b[39;49m\u001b[43mforward\u001b[49m\u001b[43m(\u001b[49m\u001b[43mfeatures\u001b[49m\u001b[43m)\u001b[49m\n\u001b[1;32m    352\u001b[0m     \u001b[38;5;28;01mif\u001b[39;00m output_value \u001b[38;5;241m==\u001b[39m \u001b[38;5;124m\"\u001b[39m\u001b[38;5;124mtoken_embeddings\u001b[39m\u001b[38;5;124m\"\u001b[39m:\n\u001b[1;32m    353\u001b[0m         embeddings \u001b[38;5;241m=\u001b[39m []\n",
      "File \u001b[0;32m~/Documents/Classes/npr/npr-rag/.venv/lib/python3.10/site-packages/torch/nn/modules/container.py:217\u001b[0m, in \u001b[0;36mSequential.forward\u001b[0;34m(self, input)\u001b[0m\n\u001b[1;32m    215\u001b[0m \u001b[38;5;28;01mdef\u001b[39;00m \u001b[38;5;21mforward\u001b[39m(\u001b[38;5;28mself\u001b[39m, \u001b[38;5;28minput\u001b[39m):\n\u001b[1;32m    216\u001b[0m     \u001b[38;5;28;01mfor\u001b[39;00m module \u001b[38;5;129;01min\u001b[39;00m \u001b[38;5;28mself\u001b[39m:\n\u001b[0;32m--> 217\u001b[0m         \u001b[38;5;28minput\u001b[39m \u001b[38;5;241m=\u001b[39m \u001b[43mmodule\u001b[49m\u001b[43m(\u001b[49m\u001b[38;5;28;43minput\u001b[39;49m\u001b[43m)\u001b[49m\n\u001b[1;32m    218\u001b[0m     \u001b[38;5;28;01mreturn\u001b[39;00m \u001b[38;5;28minput\u001b[39m\n",
      "File \u001b[0;32m~/Documents/Classes/npr/npr-rag/.venv/lib/python3.10/site-packages/torch/nn/modules/module.py:1511\u001b[0m, in \u001b[0;36mModule._wrapped_call_impl\u001b[0;34m(self, *args, **kwargs)\u001b[0m\n\u001b[1;32m   1509\u001b[0m     \u001b[38;5;28;01mreturn\u001b[39;00m \u001b[38;5;28mself\u001b[39m\u001b[38;5;241m.\u001b[39m_compiled_call_impl(\u001b[38;5;241m*\u001b[39margs, \u001b[38;5;241m*\u001b[39m\u001b[38;5;241m*\u001b[39mkwargs)  \u001b[38;5;66;03m# type: ignore[misc]\u001b[39;00m\n\u001b[1;32m   1510\u001b[0m \u001b[38;5;28;01melse\u001b[39;00m:\n\u001b[0;32m-> 1511\u001b[0m     \u001b[38;5;28;01mreturn\u001b[39;00m \u001b[38;5;28;43mself\u001b[39;49m\u001b[38;5;241;43m.\u001b[39;49m\u001b[43m_call_impl\u001b[49m\u001b[43m(\u001b[49m\u001b[38;5;241;43m*\u001b[39;49m\u001b[43margs\u001b[49m\u001b[43m,\u001b[49m\u001b[43m \u001b[49m\u001b[38;5;241;43m*\u001b[39;49m\u001b[38;5;241;43m*\u001b[39;49m\u001b[43mkwargs\u001b[49m\u001b[43m)\u001b[49m\n",
      "File \u001b[0;32m~/Documents/Classes/npr/npr-rag/.venv/lib/python3.10/site-packages/torch/nn/modules/module.py:1520\u001b[0m, in \u001b[0;36mModule._call_impl\u001b[0;34m(self, *args, **kwargs)\u001b[0m\n\u001b[1;32m   1515\u001b[0m \u001b[38;5;66;03m# If we don't have any hooks, we want to skip the rest of the logic in\u001b[39;00m\n\u001b[1;32m   1516\u001b[0m \u001b[38;5;66;03m# this function, and just call forward.\u001b[39;00m\n\u001b[1;32m   1517\u001b[0m \u001b[38;5;28;01mif\u001b[39;00m \u001b[38;5;129;01mnot\u001b[39;00m (\u001b[38;5;28mself\u001b[39m\u001b[38;5;241m.\u001b[39m_backward_hooks \u001b[38;5;129;01mor\u001b[39;00m \u001b[38;5;28mself\u001b[39m\u001b[38;5;241m.\u001b[39m_backward_pre_hooks \u001b[38;5;129;01mor\u001b[39;00m \u001b[38;5;28mself\u001b[39m\u001b[38;5;241m.\u001b[39m_forward_hooks \u001b[38;5;129;01mor\u001b[39;00m \u001b[38;5;28mself\u001b[39m\u001b[38;5;241m.\u001b[39m_forward_pre_hooks\n\u001b[1;32m   1518\u001b[0m         \u001b[38;5;129;01mor\u001b[39;00m _global_backward_pre_hooks \u001b[38;5;129;01mor\u001b[39;00m _global_backward_hooks\n\u001b[1;32m   1519\u001b[0m         \u001b[38;5;129;01mor\u001b[39;00m _global_forward_hooks \u001b[38;5;129;01mor\u001b[39;00m _global_forward_pre_hooks):\n\u001b[0;32m-> 1520\u001b[0m     \u001b[38;5;28;01mreturn\u001b[39;00m \u001b[43mforward_call\u001b[49m\u001b[43m(\u001b[49m\u001b[38;5;241;43m*\u001b[39;49m\u001b[43margs\u001b[49m\u001b[43m,\u001b[49m\u001b[43m \u001b[49m\u001b[38;5;241;43m*\u001b[39;49m\u001b[38;5;241;43m*\u001b[39;49m\u001b[43mkwargs\u001b[49m\u001b[43m)\u001b[49m\n\u001b[1;32m   1522\u001b[0m \u001b[38;5;28;01mtry\u001b[39;00m:\n\u001b[1;32m   1523\u001b[0m     result \u001b[38;5;241m=\u001b[39m \u001b[38;5;28;01mNone\u001b[39;00m\n",
      "File \u001b[0;32m~/Documents/Classes/npr/npr-rag/.venv/lib/python3.10/site-packages/sentence_transformers/models/Pooling.py:137\u001b[0m, in \u001b[0;36mPooling.forward\u001b[0;34m(self, features)\u001b[0m\n\u001b[1;32m    134\u001b[0m sum_mask \u001b[38;5;241m=\u001b[39m torch\u001b[38;5;241m.\u001b[39mclamp(sum_mask, \u001b[38;5;28mmin\u001b[39m\u001b[38;5;241m=\u001b[39m\u001b[38;5;241m1e-9\u001b[39m)\n\u001b[1;32m    136\u001b[0m \u001b[38;5;28;01mif\u001b[39;00m \u001b[38;5;28mself\u001b[39m\u001b[38;5;241m.\u001b[39mpooling_mode_mean_tokens:\n\u001b[0;32m--> 137\u001b[0m     \u001b[43moutput_vectors\u001b[49m\u001b[38;5;241;43m.\u001b[39;49m\u001b[43mappend\u001b[49m\u001b[43m(\u001b[49m\u001b[43msum_embeddings\u001b[49m\u001b[43m \u001b[49m\u001b[38;5;241;43m/\u001b[39;49m\u001b[43m \u001b[49m\u001b[43msum_mask\u001b[49m\u001b[43m)\u001b[49m\n\u001b[1;32m    138\u001b[0m \u001b[38;5;28;01mif\u001b[39;00m \u001b[38;5;28mself\u001b[39m\u001b[38;5;241m.\u001b[39mpooling_mode_mean_sqrt_len_tokens:\n\u001b[1;32m    139\u001b[0m     output_vectors\u001b[38;5;241m.\u001b[39mappend(sum_embeddings \u001b[38;5;241m/\u001b[39m torch\u001b[38;5;241m.\u001b[39msqrt(sum_mask))\n",
      "\u001b[0;31mKeyboardInterrupt\u001b[0m: "
     ]
    }
   ],
   "source": [
    "from langchain_community.embeddings import FakeEmbeddings\n",
    "from langchain_openai import OpenAIEmbeddings\n",
    "from langchain_community.embeddings import HuggingFaceEmbeddings\n",
    "\n",
    "embeddings = HuggingFaceEmbeddings()\n",
    "\n",
    "chroma_client = chromadb.HttpClient(host='localhost', port=8000)\n",
    "chroma_client.reset()\n",
    "\n",
    "langchain_chroma = Chroma(\n",
    "    client=chroma_client,\n",
    "    collection_name=\"my_langchain_collection\",\n",
    "    embedding_function=embeddings,\n",
    ")\n",
    "\n",
    "langchain_chroma.add_documents(documents=documents)"
   ]
  },
  {
   "cell_type": "markdown",
   "id": "77921a2093b82f8c",
   "metadata": {},
   "source": [
    "## Similarity Search\n",
    "Query against the collection"
   ]
  },
  {
   "cell_type": "code",
   "execution_count": null,
   "id": "33982f5f51eacc7d",
   "metadata": {},
   "outputs": [
    {
     "name": "stdout",
     "output_type": "stream",
     "text": [
      "What is the innovation behind Leclanché's new method to produce lithium-ion batteries?\n",
      ": 6780\n",
      "content: ['Energy storage company Leclanché ( SW.LECN) has designed a new battery cell that uses less cobalt and boosts energy density by 20%. The company says it is also produced in an environmentally friendly way, making it more recyclable or easy to dispose of at end-of-life.', 'Leclanché said it has developed an environmentally friendly way to produce lithium-ion ( Li-ion) batteries. It has replaced highly toxic organic solvents, commonly used in the production process, with a water-based process to make nickel-manganese-cobalt-aluminium cathodes ( NMCA).', 'Organic solvents, such as N-methyl pyrrolidone ( NMP), are highly toxic and harmful to the environment. The use of NMP has been restricted by the European Commission, having been added to the list of Substances of Very High Concern, which can have serious irreversible effects on human health and the environment.', 'Besides being technically simpler, eliminating the use of organic solvents also eliminates the risk of explosion, making the production process safer for employees. Leclanché claims to be a global pioneer in the field, having used aqueous binders in its for over a decade.', 'A further benefit of the water-based process is a lower carbon footprint, as it uses 30% less energy, which would otherwise be needed to dry, or evaporate, and recycle the solvents.', '“ With the water-based production of the high-capacity NMCA cathodes, we have reached a decisive milestone in lithium-ion technology, ” said Dr Hilmi Buqa, vice president R & D at Leclanché. “ Until now, producing them using environmentally friendly processes was considered impossible. But, now we have mastered the process. ”', 'In developing its new G/NMCA battery, Leclanché has increased the nickel content of the cathode to around 90%, which has the effect of increasing the energy density. The ‘ G’ refers to the graphite anode. Increasing the nickel content allows for the cobalt content to be reduced from 20% to 5%.', 'Compared to conventional G/NMC cells, these high-capacity NMCA cathodes also enable a 20% increase in the energy density of a typical Li-ion battery. It also enables a longer service life, high cycle stability and good chargeability.', 'The new cells are best suited for electric vehicles and heavy-duty transport applications, such as ships, buses and trucks, due to their high-volume energy density and high cycle stability.', 'In December 2022, US-based startup Group14 attracted $ 614 million in one of the largest climate tech fundraises in 2022. Its promise to address supply chain risks and battery performance issues is becoming particularly compelling in the sector.', 'Group14 has replaced graphite with silicon in a Li-ion battery, which it claims can improve battery performance. A graphite anode in a typical Li-ion battery takes up 60% of the space in a battery cell, while the company’ s silicon-based design only takes up 25% of the space. This leaves 75% of battery cell space for the lithium cathode, which is where the charge density resides.']\n",
      "{'author': '', 'date': '2023-01-20', 'domain': 'energyvoice', 'row': 1106, 'source': './data/Cleantech Media Dataset/cleantech_media_dataset_v2_2024-02-23.csv', 'title': 'Leclanché’ s new disruptive battery boosts energy density', 'url': 'https://sgvoice.energyvoice.com/strategy/technology/23971/leclanches-new-disruptive-battery-boosts-energy-density/'}\n"
     ]
    }
   ],
   "source": [
    "# based on the rag evaluation set\n",
    "print(evaluation_set.iloc[0].question)\n",
    "docs = langchain_chroma.similarity_search(evaluation_set.iloc[0].question)\n",
    "print(docs[0].page_content)\n",
    "print(docs[0].metadata)"
   ]
  },
  {
   "cell_type": "code",
   "execution_count": null,
   "id": "76fdba57757d9ec6",
   "metadata": {},
   "outputs": [
    {
     "data": {
      "text/plain": [
       "'Leclanché said it has developed an environmentally friendly way to produce lithium-ion (Li-ion) batteries. It has replaced highly toxic organic solvents, commonly used in the production process, with a water-based process to make nickel-manganese-cobalt-aluminium cathodes (NMCA).'"
      ]
     },
     "execution_count": 13,
     "metadata": {},
     "output_type": "execute_result"
    }
   ],
   "source": [
    "# comparison with the intended RAG context \n",
    "\n",
    "evaluation_set.iloc[0].relevant_chunk"
   ]
  },
  {
   "cell_type": "markdown",
   "id": "b008e32acdc26cae",
   "metadata": {},
   "source": [
    "## similarity_search_with_score"
   ]
  },
  {
   "cell_type": "code",
   "execution_count": null,
   "id": "346b89451466a482",
   "metadata": {},
   "outputs": [
    {
     "name": "stdout",
     "output_type": "stream",
     "text": [
      ": 6780\n",
      "content: ['Energy storage company Leclanché ( SW.LECN) has designed a new battery cell that uses less cobalt and boosts energy density by 20%. The company says it is also produced in an environmentally friendly way, making it more recyclable or easy to dispose of at end-of-life.', 'Leclanché said it has developed an environmentally friendly way to produce lithium-ion ( Li-ion) batteries. It has replaced highly toxic organic solvents, commonly used in the production process, with a water-based process to make nickel-manganese-cobalt-aluminium cathodes ( NMCA).', 'Organic solvents, such as N-methyl pyrrolidone ( NMP), are highly toxic and harmful to the environment. The use of NMP has been restricted by the European Commission, having been added to the list of Substances of Very High Concern, which can have serious irreversible effects on human health and the environment.', 'Besides being technically simpler, eliminating the use of organic solvents also eliminates the risk of explosion, making the production process safer for employees. Leclanché claims to be a global pioneer in the field, having used aqueous binders in its for over a decade.', 'A further benefit of the water-based process is a lower carbon footprint, as it uses 30% less energy, which would otherwise be needed to dry, or evaporate, and recycle the solvents.', '“ With the water-based production of the high-capacity NMCA cathodes, we have reached a decisive milestone in lithium-ion technology, ” said Dr Hilmi Buqa, vice president R & D at Leclanché. “ Until now, producing them using environmentally friendly processes was considered impossible. But, now we have mastered the process. ”', 'In developing its new G/NMCA battery, Leclanché has increased the nickel content of the cathode to around 90%, which has the effect of increasing the energy density. The ‘ G’ refers to the graphite anode. Increasing the nickel content allows for the cobalt content to be reduced from 20% to 5%.', 'Compared to conventional G/NMC cells, these high-capacity NMCA cathodes also enable a 20% increase in the energy density of a typical Li-ion battery. It also enables a longer service life, high cycle stability and good chargeability.', 'The new cells are best suited for electric vehicles and heavy-duty transport applications, such as ships, buses and trucks, due to their high-volume energy density and high cycle stability.', 'In December 2022, US-based startup Group14 attracted $ 614 million in one of the largest climate tech fundraises in 2022. Its promise to address supply chain risks and battery performance issues is becoming particularly compelling in the sector.', 'Group14 has replaced graphite with silicon in a Li-ion battery, which it claims can improve battery performance. A graphite anode in a typical Li-ion battery takes up 60% of the space in a battery cell, while the company’ s silicon-based design only takes up 25% of the space. This leaves 75% of battery cell space for the lithium cathode, which is where the charge density resides.']\n",
      "{'author': '', 'date': '2023-01-20', 'domain': 'energyvoice', 'row': 1106, 'source': './data/Cleantech Media Dataset/cleantech_media_dataset_v2_2024-02-23.csv', 'title': 'Leclanché’ s new disruptive battery boosts energy density', 'url': 'https://sgvoice.energyvoice.com/strategy/technology/23971/leclanches-new-disruptive-battery-boosts-energy-density/'}\n",
      "Score:  0.6057859063148499\n"
     ]
    }
   ],
   "source": [
    "docs_score = langchain_chroma.similarity_search_with_score(evaluation_set.iloc[0].question)\n",
    "print(docs_score[0][0].page_content)\n",
    "print(docs_score[0][0].metadata)\n",
    "print(\"Score: \", docs_score[0][1])\n"
   ]
  },
  {
   "cell_type": "code",
   "execution_count": null,
   "id": "6d963ff8f07d821",
   "metadata": {},
   "outputs": [
    {
     "data": {
      "text/plain": [
       "'Leclanché said it has developed an environmentally friendly way to produce lithium-ion (Li-ion) batteries. It has replaced highly toxic organic solvents, commonly used in the production process, with a water-based process to make nickel-manganese-cobalt-aluminium cathodes (NMCA).'"
      ]
     },
     "execution_count": 15,
     "metadata": {},
     "output_type": "execute_result"
    }
   ],
   "source": [
    "evaluation_set.iloc[0].relevant_chunk"
   ]
  },
  {
   "cell_type": "markdown",
   "id": "4abe75af9f92b037",
   "metadata": {},
   "source": [
    "## Collection Query"
   ]
  },
  {
   "cell_type": "code",
   "execution_count": null,
   "id": "ca76953cb521268c",
   "metadata": {},
   "outputs": [
    {
     "data": {
      "text/plain": [
       "{'ids': [['031cc4e4-d64d-11ee-b185-92b1fc8ab9ab']],\n",
       " 'distances': [[150699328.0]],\n",
       " 'embeddings': None,\n",
       " 'metadatas': [[{'author': '',\n",
       "    'date': '2022-10-06',\n",
       "    'domain': 'pv-magazine',\n",
       "    'row': 7416,\n",
       "    'source': './data/Cleantech Media Dataset/cleantech_media_dataset_v2_2024-02-23.csv',\n",
       "    'title': 'World’ s largest compressed air energy storage project goes online in China – pv magazine International',\n",
       "    'url': 'https://www.pv-magazine.com/2022/10/06/worlds-largest-compressed-air-energy-storage-project-goes-online-in-china/'}]],\n",
       " 'documents': [[': 79492\\ncontent: [\\'The Chinese Academy of Sciences has switched on a 100 MW compressed air energy storage system in China’ s Hebei province. The facility can store more than 132 million kWh of electricity per year.\\', \\'A 100 MW compressed air energy storage system in Zhangjiakou, China.\\', \"The Institute of Engineering Thermophysics of the Chinese Academy of Sciences has switched on a 100 MW compressed air energy storage ( CAES) plant in Zhangjiakou, in China\\'s Hebei province.\", \\'“ The project, technically developed by the Institute of Engineering Thermophysics of the Chinese Academy of Sciences. The power plant can generate more than 132 million kWh of electricity annually, providing electricity for 40,000 to 60,000 households during peak electricity consumption, ” the research institute said. “ CAES has the advantages of large storage capacity, low capital cost, long lifetime, safety, and environmental friendliness. It is recognized as one of the most promising technologies for large-scale energy storage. ”\\', \\'The facility is based on a multistage high-load compressor and an expander, as well as high-efficiency supercritical heat storage and heat exchange, said the Chinese Academy of Sciences, without providing additional technical details. It launched the demonstration project in 2018, after developing two compressed air energy storage systems with capacities of 1.5 MW and 10 MW in 2013 and 2016, respectively.\\', \"The world\\'s largest operational CAES system is currently a 60 MW plant built by Chinese state-owned energy group Huaneng, Tsinghua University, and China National Salt Industry Group in Changzhou, Jiangsu province. The facility features a salt cavern, situated 1,000 meters underground and owned by China National Salt Industry Group. The system has an efficiency of more than 60% and is expected to reach a power generating capacity of 1 GW.\", \\'This content is protected by copyright and may not be reused. If you want to cooperate with us and would like to reuse some of our content, please contact: editors @ pv-magazine.com.\\', \\'It would have been interesting to know the storage capacity.\\', \\'Agree it would be nice if they specified a storage capacity. 132 GWh/year is 360 MWh/day. Assuming one cycle per day, that would be the capacity – 360MWh. At least that’ s my guess.\\', \\'This looks very promising. It’ s the third after 2 pilot plants, which means by now the bugs and changes should give a pretty reliable and capable storage plant. The world, and a China especially need a huge quantity more of these compressed air storage plants. They will help renewables replace all the coal plants that China and other countries have. There are many salt caverns in countries that should be able to store huge amounts of compressed air, and if they can build the CAES plants, t hey will give long-term energy storage.\\', \\'Please be mindful of our community standards.\\', \\'Your email address will not be published. Required fields are marked *\\', \\'Save my name, email, and website in this browser for the next time I comment.\\', \\'By submitting this form you agree to pv magazine using your data for the purposes of publishing your comment.\\', \\'Your personal data will only be disclosed or otherwise transmitted to third parties for the purposes of spam filtering or if this is necessary for technical maintenance of the website. Any other transfer to third parties will not take place unless this is justified on the basis of applicable data protection regulations or if pv magazine is legally obliged to do so.\\', \\'You may revoke this consent at any time with effect for the future, in which case your personal data will be deleted immediately. Otherwise, your data will be deleted if pv magazine has processed your request or the purpose of data storage is fulfilled.\\', \\'Further information on data privacy can be found in our Data Protection Policy.\\', \\'This website uses cookies to anonymously count visitor numbers. View our privacy policy. ×\\', \"The cookie settings on this website are set to `` allow cookies \\'\\' to give you the best browsing experience possible. If you continue to use this website without changing your cookie settings or you click `` Accept \\'\\' below then you are consenting to this.\"]']],\n",
       " 'uris': None,\n",
       " 'data': None}"
      ]
     },
     "execution_count": 16,
     "metadata": {},
     "output_type": "execute_result"
    }
   ],
   "source": [
    "langchain_collection = chroma_client.get_collection(\"my_langchain_collection\")\n",
    "\n",
    "langchain_collection.query(\n",
    "    query_embeddings=[i for i in range(768)],\n",
    "    n_results=1,\n",
    ")"
   ]
  },
  {
   "cell_type": "markdown",
   "id": "d88e713739862062",
   "metadata": {},
   "source": [
    "## SelfQueryRetriever"
   ]
  },
  {
   "cell_type": "code",
   "execution_count": null,
   "id": "71b3608d24e92081",
   "metadata": {},
   "outputs": [
    {
     "ename": "ImportError",
     "evalue": "Cannot import lark, please install it with 'pip install lark'.",
     "output_type": "error",
     "traceback": [
      "\u001b[0;31m---------------------------------------------------------------------------\u001b[0m",
      "\u001b[0;31mImportError\u001b[0m                               Traceback (most recent call last)",
      "Cell \u001b[0;32mIn[18], line 37\u001b[0m\n\u001b[1;32m     35\u001b[0m \u001b[38;5;66;03m# Configure retriver\u001b[39;00m\n\u001b[1;32m     36\u001b[0m llm \u001b[38;5;241m=\u001b[39m OpenAI(temperature\u001b[38;5;241m=\u001b[39m\u001b[38;5;241m0\u001b[39m)\n\u001b[0;32m---> 37\u001b[0m retriever \u001b[38;5;241m=\u001b[39m \u001b[43mSelfQueryRetriever\u001b[49m\u001b[38;5;241;43m.\u001b[39;49m\u001b[43mfrom_llm\u001b[49m\u001b[43m(\u001b[49m\n\u001b[1;32m     38\u001b[0m \u001b[43m    \u001b[49m\u001b[43mllm\u001b[49m\u001b[43m,\u001b[49m\u001b[43m \u001b[49m\u001b[43mlangchain_chroma\u001b[49m\u001b[43m,\u001b[49m\u001b[43m \u001b[49m\u001b[43mdocument_content_description\u001b[49m\u001b[43m,\u001b[49m\u001b[43m \u001b[49m\u001b[43mmetadata_field_info\u001b[49m\u001b[43m,\u001b[49m\u001b[43m \u001b[49m\u001b[43mverbose\u001b[49m\u001b[38;5;241;43m=\u001b[39;49m\u001b[38;5;28;43;01mTrue\u001b[39;49;00m\n\u001b[1;32m     39\u001b[0m \u001b[43m)\u001b[49m\n\u001b[1;32m     41\u001b[0m \u001b[38;5;66;03m# Based on rag evaluation set \u001b[39;00m\n\u001b[1;32m     42\u001b[0m result \u001b[38;5;241m=\u001b[39m retriever\u001b[38;5;241m.\u001b[39mget_relevant_documents(evaluation_set\u001b[38;5;241m.\u001b[39miloc[\u001b[38;5;241m0\u001b[39m]\u001b[38;5;241m.\u001b[39mquestion)\n",
      "File \u001b[0;32m~/Documents/Classes/npr/npr-rag/.venv/lib/python3.10/site-packages/langchain/retrievers/self_query/base.py:240\u001b[0m, in \u001b[0;36mSelfQueryRetriever.from_llm\u001b[0;34m(cls, llm, vectorstore, document_contents, metadata_field_info, structured_query_translator, chain_kwargs, enable_limit, use_original_query, **kwargs)\u001b[0m\n\u001b[1;32m    233\u001b[0m \u001b[38;5;28;01mif\u001b[39;00m (\n\u001b[1;32m    234\u001b[0m     \u001b[38;5;124m\"\u001b[39m\u001b[38;5;124mallowed_operators\u001b[39m\u001b[38;5;124m\"\u001b[39m \u001b[38;5;129;01mnot\u001b[39;00m \u001b[38;5;129;01min\u001b[39;00m chain_kwargs\n\u001b[1;32m    235\u001b[0m     \u001b[38;5;129;01mand\u001b[39;00m structured_query_translator\u001b[38;5;241m.\u001b[39mallowed_operators \u001b[38;5;129;01mis\u001b[39;00m \u001b[38;5;129;01mnot\u001b[39;00m \u001b[38;5;28;01mNone\u001b[39;00m\n\u001b[1;32m    236\u001b[0m ):\n\u001b[1;32m    237\u001b[0m     chain_kwargs[\n\u001b[1;32m    238\u001b[0m         \u001b[38;5;124m\"\u001b[39m\u001b[38;5;124mallowed_operators\u001b[39m\u001b[38;5;124m\"\u001b[39m\n\u001b[1;32m    239\u001b[0m     ] \u001b[38;5;241m=\u001b[39m structured_query_translator\u001b[38;5;241m.\u001b[39mallowed_operators\n\u001b[0;32m--> 240\u001b[0m query_constructor \u001b[38;5;241m=\u001b[39m \u001b[43mload_query_constructor_runnable\u001b[49m\u001b[43m(\u001b[49m\n\u001b[1;32m    241\u001b[0m \u001b[43m    \u001b[49m\u001b[43mllm\u001b[49m\u001b[43m,\u001b[49m\n\u001b[1;32m    242\u001b[0m \u001b[43m    \u001b[49m\u001b[43mdocument_contents\u001b[49m\u001b[43m,\u001b[49m\n\u001b[1;32m    243\u001b[0m \u001b[43m    \u001b[49m\u001b[43mmetadata_field_info\u001b[49m\u001b[43m,\u001b[49m\n\u001b[1;32m    244\u001b[0m \u001b[43m    \u001b[49m\u001b[43menable_limit\u001b[49m\u001b[38;5;241;43m=\u001b[39;49m\u001b[43menable_limit\u001b[49m\u001b[43m,\u001b[49m\n\u001b[1;32m    245\u001b[0m \u001b[43m    \u001b[49m\u001b[38;5;241;43m*\u001b[39;49m\u001b[38;5;241;43m*\u001b[39;49m\u001b[43mchain_kwargs\u001b[49m\u001b[43m,\u001b[49m\n\u001b[1;32m    246\u001b[0m \u001b[43m\u001b[49m\u001b[43m)\u001b[49m\n\u001b[1;32m    247\u001b[0m \u001b[38;5;28;01mreturn\u001b[39;00m \u001b[38;5;28mcls\u001b[39m(\n\u001b[1;32m    248\u001b[0m     query_constructor\u001b[38;5;241m=\u001b[39mquery_constructor,\n\u001b[1;32m    249\u001b[0m     vectorstore\u001b[38;5;241m=\u001b[39mvectorstore,\n\u001b[0;32m   (...)\u001b[0m\n\u001b[1;32m    252\u001b[0m     \u001b[38;5;241m*\u001b[39m\u001b[38;5;241m*\u001b[39mkwargs,\n\u001b[1;32m    253\u001b[0m )\n",
      "File \u001b[0;32m~/Documents/Classes/npr/npr-rag/.venv/lib/python3.10/site-packages/langchain/chains/query_constructor/base.py:358\u001b[0m, in \u001b[0;36mload_query_constructor_runnable\u001b[0;34m(llm, document_contents, attribute_info, examples, allowed_comparators, allowed_operators, enable_limit, schema_prompt, fix_invalid, **kwargs)\u001b[0m\n\u001b[1;32m    354\u001b[0m \u001b[38;5;28;01mfor\u001b[39;00m ainfo \u001b[38;5;129;01min\u001b[39;00m attribute_info:\n\u001b[1;32m    355\u001b[0m     allowed_attributes\u001b[38;5;241m.\u001b[39mappend(\n\u001b[1;32m    356\u001b[0m         ainfo\u001b[38;5;241m.\u001b[39mname \u001b[38;5;28;01mif\u001b[39;00m \u001b[38;5;28misinstance\u001b[39m(ainfo, AttributeInfo) \u001b[38;5;28;01melse\u001b[39;00m ainfo[\u001b[38;5;124m\"\u001b[39m\u001b[38;5;124mname\u001b[39m\u001b[38;5;124m\"\u001b[39m]\n\u001b[1;32m    357\u001b[0m     )\n\u001b[0;32m--> 358\u001b[0m output_parser \u001b[38;5;241m=\u001b[39m \u001b[43mStructuredQueryOutputParser\u001b[49m\u001b[38;5;241;43m.\u001b[39;49m\u001b[43mfrom_components\u001b[49m\u001b[43m(\u001b[49m\n\u001b[1;32m    359\u001b[0m \u001b[43m    \u001b[49m\u001b[43mallowed_comparators\u001b[49m\u001b[38;5;241;43m=\u001b[39;49m\u001b[43mallowed_comparators\u001b[49m\u001b[43m,\u001b[49m\n\u001b[1;32m    360\u001b[0m \u001b[43m    \u001b[49m\u001b[43mallowed_operators\u001b[49m\u001b[38;5;241;43m=\u001b[39;49m\u001b[43mallowed_operators\u001b[49m\u001b[43m,\u001b[49m\n\u001b[1;32m    361\u001b[0m \u001b[43m    \u001b[49m\u001b[43mallowed_attributes\u001b[49m\u001b[38;5;241;43m=\u001b[39;49m\u001b[43mallowed_attributes\u001b[49m\u001b[43m,\u001b[49m\n\u001b[1;32m    362\u001b[0m \u001b[43m    \u001b[49m\u001b[43mfix_invalid\u001b[49m\u001b[38;5;241;43m=\u001b[39;49m\u001b[43mfix_invalid\u001b[49m\u001b[43m,\u001b[49m\n\u001b[1;32m    363\u001b[0m \u001b[43m\u001b[49m\u001b[43m)\u001b[49m\n\u001b[1;32m    364\u001b[0m \u001b[38;5;28;01mreturn\u001b[39;00m prompt \u001b[38;5;241m|\u001b[39m llm \u001b[38;5;241m|\u001b[39m output_parser\n",
      "File \u001b[0;32m~/Documents/Classes/npr/npr-rag/.venv/lib/python3.10/site-packages/langchain/chains/query_constructor/base.py:99\u001b[0m, in \u001b[0;36mStructuredQueryOutputParser.from_components\u001b[0;34m(cls, allowed_comparators, allowed_operators, allowed_attributes, fix_invalid)\u001b[0m\n\u001b[1;32m     96\u001b[0m         \u001b[38;5;28;01mreturn\u001b[39;00m fixed\n\u001b[1;32m     98\u001b[0m \u001b[38;5;28;01melse\u001b[39;00m:\n\u001b[0;32m---> 99\u001b[0m     ast_parse \u001b[38;5;241m=\u001b[39m \u001b[43mget_parser\u001b[49m\u001b[43m(\u001b[49m\n\u001b[1;32m    100\u001b[0m \u001b[43m        \u001b[49m\u001b[43mallowed_comparators\u001b[49m\u001b[38;5;241;43m=\u001b[39;49m\u001b[43mallowed_comparators\u001b[49m\u001b[43m,\u001b[49m\n\u001b[1;32m    101\u001b[0m \u001b[43m        \u001b[49m\u001b[43mallowed_operators\u001b[49m\u001b[38;5;241;43m=\u001b[39;49m\u001b[43mallowed_operators\u001b[49m\u001b[43m,\u001b[49m\n\u001b[1;32m    102\u001b[0m \u001b[43m        \u001b[49m\u001b[43mallowed_attributes\u001b[49m\u001b[38;5;241;43m=\u001b[39;49m\u001b[43mallowed_attributes\u001b[49m\u001b[43m,\u001b[49m\n\u001b[1;32m    103\u001b[0m \u001b[43m    \u001b[49m\u001b[43m)\u001b[49m\u001b[38;5;241m.\u001b[39mparse\n\u001b[1;32m    104\u001b[0m \u001b[38;5;28;01mreturn\u001b[39;00m \u001b[38;5;28mcls\u001b[39m(ast_parse\u001b[38;5;241m=\u001b[39mast_parse)\n",
      "File \u001b[0;32m~/Documents/Classes/npr/npr-rag/.venv/lib/python3.10/site-packages/langchain/chains/query_constructor/parser.py:174\u001b[0m, in \u001b[0;36mget_parser\u001b[0;34m(allowed_comparators, allowed_operators, allowed_attributes)\u001b[0m\n\u001b[1;32m    172\u001b[0m \u001b[38;5;66;03m# QueryTransformer is None when Lark cannot be imported.\u001b[39;00m\n\u001b[1;32m    173\u001b[0m \u001b[38;5;28;01mif\u001b[39;00m QueryTransformer \u001b[38;5;129;01mis\u001b[39;00m \u001b[38;5;28;01mNone\u001b[39;00m:\n\u001b[0;32m--> 174\u001b[0m     \u001b[38;5;28;01mraise\u001b[39;00m \u001b[38;5;167;01mImportError\u001b[39;00m(\n\u001b[1;32m    175\u001b[0m         \u001b[38;5;124m\"\u001b[39m\u001b[38;5;124mCannot import lark, please install it with \u001b[39m\u001b[38;5;124m'\u001b[39m\u001b[38;5;124mpip install lark\u001b[39m\u001b[38;5;124m'\u001b[39m\u001b[38;5;124m.\u001b[39m\u001b[38;5;124m\"\u001b[39m\n\u001b[1;32m    176\u001b[0m     )\n\u001b[1;32m    177\u001b[0m transformer \u001b[38;5;241m=\u001b[39m QueryTransformer(\n\u001b[1;32m    178\u001b[0m     allowed_comparators\u001b[38;5;241m=\u001b[39mallowed_comparators,\n\u001b[1;32m    179\u001b[0m     allowed_operators\u001b[38;5;241m=\u001b[39mallowed_operators,\n\u001b[1;32m    180\u001b[0m     allowed_attributes\u001b[38;5;241m=\u001b[39mallowed_attributes,\n\u001b[1;32m    181\u001b[0m )\n\u001b[1;32m    182\u001b[0m \u001b[38;5;28;01mreturn\u001b[39;00m Lark(GRAMMAR, parser\u001b[38;5;241m=\u001b[39m\u001b[38;5;124m\"\u001b[39m\u001b[38;5;124mlalr\u001b[39m\u001b[38;5;124m\"\u001b[39m, transformer\u001b[38;5;241m=\u001b[39mtransformer, start\u001b[38;5;241m=\u001b[39m\u001b[38;5;124m\"\u001b[39m\u001b[38;5;124mprogram\u001b[39m\u001b[38;5;124m\"\u001b[39m)\n",
      "\u001b[0;31mImportError\u001b[0m: Cannot import lark, please install it with 'pip install lark'."
     ]
    }
   ],
   "source": [
    "from langchain_openai import OpenAI\n",
    "from langchain.retrievers.self_query.base import SelfQueryRetriever\n",
    "from langchain.chains.query_constructor.base import AttributeInfo\n",
    "\n",
    "# Metadata schema based on the values on the CSV\n",
    "metadata_field_info = [\n",
    "    AttributeInfo(\n",
    "        name=\"url\",\n",
    "        description=\"Url of the document\",\n",
    "        type=\"string\",\n",
    "    ),\n",
    "    AttributeInfo(\n",
    "        name=\"title\",\n",
    "        description=\"Title of the document\",\n",
    "        type=\"string\",\n",
    "    ),\n",
    "    AttributeInfo(\n",
    "        name=\"date\",\n",
    "        description=\"Date of the document\",\n",
    "        type=\"string\",\n",
    "    ),\n",
    "    AttributeInfo(\n",
    "        name=\"author\",\n",
    "        description=\"Author of the document\",\n",
    "        type=\"string\",\n",
    "    ),\n",
    "    AttributeInfo(\n",
    "        name=\"domain\",\n",
    "        description=\"Domain of the document, closely related to the source of the document\",\n",
    "        type=\"string\",\n",
    "    ),\n",
    "]\n",
    "document_content_description = \"Article listing\"\n",
    "\n",
    "# Configure retriver\n",
    "llm = OpenAI(temperature=0)\n",
    "retriever = SelfQueryRetriever.from_llm(\n",
    "    llm, langchain_chroma, document_content_description, metadata_field_info, verbose=True\n",
    ")\n",
    "\n",
    "# Based on rag evaluation set \n",
    "result = retriever.get_relevant_documents(evaluation_set.iloc[0].question)\n",
    "print(result[0].page_content)\n",
    "print(result[0].metadata)"
   ]
  },
  {
   "cell_type": "code",
   "execution_count": null,
   "id": "b3fd901cc404608b",
   "metadata": {},
   "outputs": [],
   "source": []
  }
 ],
 "metadata": {
  "kernelspec": {
   "display_name": "Python 3",
   "language": "python",
   "name": "python3"
  },
  "language_info": {
   "codemirror_mode": {
    "name": "ipython",
    "version": 2
   },
   "file_extension": ".py",
   "mimetype": "text/x-python",
   "name": "python",
   "nbconvert_exporter": "python",
   "pygments_lexer": "ipython2",
   "version": "2.7.6"
  }
 },
 "nbformat": 4,
 "nbformat_minor": 5
}
