{
 "cells": [
  {
   "cell_type": "code",
   "execution_count": null,
   "id": "initial_id",
   "metadata": {
    "collapsed": true
   },
   "outputs": [],
   "source": [
    "from langchain_community.vectorstores import Chroma\n",
    "import chromadb\n",
    "import pandas as pd\n",
    "\n",
    "from dotenv import load_dotenv\n",
    "load_dotenv()"
   ]
  },
  {
   "cell_type": "code",
   "outputs": [],
   "source": [
    "# read in evaluation\n",
    "evaluation_set = pd.read_csv('./data/Cleantech Media Dataset/cleantech_rag_evaluation_data_2024-02-23.csv')\n"
   ],
   "metadata": {
    "collapsed": false
   },
   "id": "a7c643c25e8fc9b5",
   "execution_count": null
  },
  {
   "cell_type": "markdown",
   "source": [
    "## CSV - Embedding - Chroma"
   ],
   "metadata": {
    "collapsed": false
   },
   "id": "27db7c8bb4c7128f"
  },
  {
   "cell_type": "code",
   "outputs": [],
   "source": [
    "from langchain_community.document_loaders.csv_loader import CSVLoader\n",
    "# this is useless\n",
    "from langchain.text_splitter import CharacterTextSplitter\n",
    "\n",
    "\n",
    "loader = CSVLoader(file_path='./data/Cleantech Media Dataset/cleantech_media_dataset_v2_2024-02-23.csv',\n",
    "                   metadata_columns=['title', 'url', 'date', 'author', 'domain'],)\n",
    "\n",
    "documents = loader.load()"
   ],
   "metadata": {
    "collapsed": false
   },
   "id": "e265f3a9a34011f9",
   "execution_count": null
  },
  {
   "cell_type": "code",
   "outputs": [],
   "source": [
    "from langchain_community.embeddings import FakeEmbeddings\n",
    "from langchain_openai import OpenAIEmbeddings\n",
    "from langchain_community.embeddings import HuggingFaceEmbeddings\n",
    "\n",
    "embeddings = HuggingFaceEmbeddings()\n",
    "\n",
    "chroma_client = chromadb.HttpClient(host='localhost', port=8000)\n",
    "# chroma_client.reset()\n",
    "\n",
    "langchain_chroma = Chroma(\n",
    "    client=chroma_client,\n",
    "    collection_name=\"my_langchain_collection\",\n",
    "    embedding_function=embeddings,\n",
    ")\n",
    "\n",
    "langchain_chroma.add_documents(documents=documents)"
   ],
   "metadata": {
    "collapsed": false
   },
   "id": "c97846c14d184275",
   "execution_count": null
  },
  {
   "cell_type": "markdown",
   "source": [
    "## Similarity Search\n",
    "Query against the collection"
   ],
   "metadata": {
    "collapsed": false
   },
   "id": "77921a2093b82f8c"
  },
  {
   "cell_type": "code",
   "outputs": [],
   "source": [
    "# based on the rag evaluation set\n",
    "print(evaluation_set.iloc[0].question)\n",
    "docs = langchain_chroma.similarity_search(evaluation_set.iloc[0].question)\n",
    "print(docs[0].page_content)\n",
    "print(docs[0].metadata)"
   ],
   "metadata": {
    "collapsed": false
   },
   "id": "33982f5f51eacc7d",
   "execution_count": null
  },
  {
   "cell_type": "code",
   "outputs": [],
   "source": [
    "# comparison with the intended RAG context \n",
    "\n",
    "evaluation_set.iloc[0].relevant_chunk"
   ],
   "metadata": {
    "collapsed": false
   },
   "id": "76fdba57757d9ec6",
   "execution_count": null
  },
  {
   "cell_type": "markdown",
   "source": [
    "## similarity_search_with_score"
   ],
   "metadata": {
    "collapsed": false
   },
   "id": "b008e32acdc26cae"
  },
  {
   "cell_type": "code",
   "outputs": [
    {
     "name": "stdout",
     "output_type": "stream",
     "text": [
      ": 6780\n",
      "content: ['Energy storage company Leclanché ( SW.LECN) has designed a new battery cell that uses less cobalt and boosts energy density by 20%. The company says it is also produced in an environmentally friendly way, making it more recyclable or easy to dispose of at end-of-life.', 'Leclanché said it has developed an environmentally friendly way to produce lithium-ion ( Li-ion) batteries. It has replaced highly toxic organic solvents, commonly used in the production process, with a water-based process to make nickel-manganese-cobalt-aluminium cathodes ( NMCA).', 'Organic solvents, such as N-methyl pyrrolidone ( NMP), are highly toxic and harmful to the environment. The use of NMP has been restricted by the European Commission, having been added to the list of Substances of Very High Concern, which can have serious irreversible effects on human health and the environment.', 'Besides being technically simpler, eliminating the use of organic solvents also eliminates the risk of explosion, making the production process safer for employees. Leclanché claims to be a global pioneer in the field, having used aqueous binders in its for over a decade.', 'A further benefit of the water-based process is a lower carbon footprint, as it uses 30% less energy, which would otherwise be needed to dry, or evaporate, and recycle the solvents.', '“ With the water-based production of the high-capacity NMCA cathodes, we have reached a decisive milestone in lithium-ion technology, ” said Dr Hilmi Buqa, vice president R & D at Leclanché. “ Until now, producing them using environmentally friendly processes was considered impossible. But, now we have mastered the process. ”', 'In developing its new G/NMCA battery, Leclanché has increased the nickel content of the cathode to around 90%, which has the effect of increasing the energy density. The ‘ G’ refers to the graphite anode. Increasing the nickel content allows for the cobalt content to be reduced from 20% to 5%.', 'Compared to conventional G/NMC cells, these high-capacity NMCA cathodes also enable a 20% increase in the energy density of a typical Li-ion battery. It also enables a longer service life, high cycle stability and good chargeability.', 'The new cells are best suited for electric vehicles and heavy-duty transport applications, such as ships, buses and trucks, due to their high-volume energy density and high cycle stability.', 'In December 2022, US-based startup Group14 attracted $ 614 million in one of the largest climate tech fundraises in 2022. Its promise to address supply chain risks and battery performance issues is becoming particularly compelling in the sector.', 'Group14 has replaced graphite with silicon in a Li-ion battery, which it claims can improve battery performance. A graphite anode in a typical Li-ion battery takes up 60% of the space in a battery cell, while the company’ s silicon-based design only takes up 25% of the space. This leaves 75% of battery cell space for the lithium cathode, which is where the charge density resides.']\n",
      "{'author': '', 'date': '2023-01-20', 'domain': 'energyvoice', 'row': 1106, 'source': './data/Cleantech Media Dataset/cleantech_media_dataset_v2_2024-02-23.csv', 'title': 'Leclanché’ s new disruptive battery boosts energy density', 'url': 'https://sgvoice.energyvoice.com/strategy/technology/23971/leclanches-new-disruptive-battery-boosts-energy-density/'}\n",
      "Score:  0.6057859063148499\n"
     ]
    }
   ],
   "source": [
    "docs_score = langchain_chroma.similarity_search_with_score(evaluation_set.iloc[0].question)\n",
    "print(docs_score[0][0].page_content)\n",
    "print(docs_score[0][0].metadata)\n",
    "print(\"Score: \", docs_score[0][1])\n"
   ],
   "metadata": {
    "collapsed": false,
    "ExecuteTime": {
     "end_time": "2024-02-27T16:35:10.679621Z",
     "start_time": "2024-02-27T16:35:09.657916Z"
    }
   },
   "id": "346b89451466a482",
   "execution_count": 27
  },
  {
   "cell_type": "code",
   "outputs": [],
   "source": [
    "evaluation_set.iloc[0].relevant_chunk"
   ],
   "metadata": {
    "collapsed": false
   },
   "id": "6d963ff8f07d821"
  },
  {
   "cell_type": "markdown",
   "source": [
    "## Collection Query"
   ],
   "metadata": {
    "collapsed": false
   },
   "id": "4abe75af9f92b037"
  },
  {
   "cell_type": "code",
   "outputs": [],
   "source": [
    "langchain_collection = chroma_client.get_collection(\"my_langchain_collection\")\n",
    "\n",
    "langchain_collection.query(\n",
    "    query_embeddings=[i for i in range(768)],\n",
    "    n_results=1,\n",
    ")"
   ],
   "metadata": {
    "collapsed": false
   },
   "id": "ca76953cb521268c",
   "execution_count": null
  },
  {
   "cell_type": "markdown",
   "source": [
    "## SelfQueryRetriever\n",
    "\n",
    "DOESN'T WORK WITH CHROMA but it should:\n",
    "\n",
    "https://arc.net/l/quote/yerdxjxz"
   ],
   "metadata": {
    "collapsed": false
   },
   "id": "d88e713739862062"
  },
  {
   "cell_type": "code",
   "outputs": [],
   "source": [
    "from langchain.llms import OpenAI\n",
    "from langchain.retrievers.self_query.base import SelfQueryRetriever\n",
    "from langchain.chains.query_constructor.base import AttributeInfo\n",
    "\n",
    "# Metadata schema based on the values on the CSV\n",
    "metadata_field_info = [\n",
    "    AttributeInfo(\n",
    "        name=\"url\",\n",
    "        description=\"Url of the document\",\n",
    "        type=\"string\",\n",
    "    ),\n",
    "    AttributeInfo(\n",
    "        name=\"title\",\n",
    "        description=\"Title of the document\",\n",
    "        type=\"string\",\n",
    "    ),\n",
    "    AttributeInfo(\n",
    "        name=\"date\",\n",
    "        description=\"Date of the document\",\n",
    "        type=\"string\",\n",
    "    ),\n",
    "    AttributeInfo(\n",
    "        name=\"author\",\n",
    "        description=\"Author of the document\",\n",
    "        type=\"string\",\n",
    "    ),\n",
    "    AttributeInfo(\n",
    "        name=\"domain\",\n",
    "        description=\"Domain of the document, closely related to the source of the document\",\n",
    "        type=\"string\",\n",
    "    ),\n",
    "]\n",
    "document_content_description = \"Product listing\"\n",
    "\n",
    "# Configure retriver\n",
    "llm = OpenAI(temperature=0)\n",
    "retriever = SelfQueryRetriever.from_llm(\n",
    "    llm, chroma_client, document_content_description, metadata_field_info, verbose=True\n",
    ")\n",
    "\n",
    "# Based on rag evaluation set \n",
    "retriever.get_relevant_documents(evaluation_set.iloc[0].question)"
   ],
   "metadata": {
    "collapsed": false
   },
   "id": "71b3608d24e92081",
   "execution_count": null
  },
  {
   "cell_type": "code",
   "outputs": [],
   "source": [],
   "metadata": {
    "collapsed": false
   },
   "id": "82fe224103d8b10b"
  }
 ],
 "metadata": {
  "kernelspec": {
   "display_name": "Python 3",
   "language": "python",
   "name": "python3"
  },
  "language_info": {
   "codemirror_mode": {
    "name": "ipython",
    "version": 2
   },
   "file_extension": ".py",
   "mimetype": "text/x-python",
   "name": "python",
   "nbconvert_exporter": "python",
   "pygments_lexer": "ipython2",
   "version": "2.7.6"
  }
 },
 "nbformat": 4,
 "nbformat_minor": 5
}
