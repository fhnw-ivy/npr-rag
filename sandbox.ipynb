{
 "cells": [
  {
   "cell_type": "code",
   "execution_count": 1,
   "id": "initial_id",
   "metadata": {
    "collapsed": true,
    "ExecuteTime": {
     "end_time": "2024-02-27T13:50:51.593501Z",
     "start_time": "2024-02-27T13:50:50.106996Z"
    }
   },
   "outputs": [
    {
     "data": {
      "text/plain": "      Unnamed: 0                                              title  \\\n0           1280  Qatar to Slash Emissions as LNG Expansion Adva...   \n1           1281               India Launches Its First 700 MW PHWR   \n2           1283              New Chapter for US-China Energy Trade   \n3           1284  Japan: Slow Restarts Cast Doubt on 2030 Energy...   \n4           1285     NYC Pension Funds to Divest Fossil Fuel Shares   \n...          ...                                                ...   \n9588       81812  Strata Clean Energy Nets $ 300 Million in Fund...   \n9589       81813  Orsted Deploying SparkCognition Renewable Suit...   \n9590       81814     Veolia Has Plans for 5 MW of Solar in Arkansas   \n9591       81815                      SunEdison: Too Big, Too Fast?   \n9592       81816  Vikings Solar-Plus-Storage Development Nets Fi...   \n\n            date author                                            content  \\\n0     2021-01-13    NaN  [\"Qatar Petroleum ( QP) is targeting aggressiv...   \n1     2021-01-15    NaN  [\"• Nuclear Power Corp. of India Ltd. ( NPCIL)...   \n2     2021-01-20    NaN  [\"New US President Joe Biden took office this ...   \n3     2021-01-22    NaN  [\"The slow pace of Japanese reactor restarts c...   \n4     2021-01-25    NaN  [\"Two of New York City's largest pension funds...   \n...          ...    ...                                                ...   \n9588  2023-11-06    NaN  ['Strata Clean Energy has closed a $ 300 milli...   \n9589  2023-11-07    NaN  ['Global renewable energy developer Ørsted is ...   \n9590  2023-11-07    NaN  ['Veolia North America, a provider of environm...   \n9591  2023-11-08    NaN  ['Once the self-proclaimed “ leading renewable...   \n9592  2023-11-08    NaN  ['Arevon Energy Inc. has closed financing on t...   \n\n                domain                                                url  \n0          energyintel  https://www.energyintel.com/0000017b-a7dc-de4c...  \n1          energyintel  https://www.energyintel.com/0000017b-a7dc-de4c...  \n2          energyintel  https://www.energyintel.com/0000017b-a7dc-de4c...  \n3          energyintel  https://www.energyintel.com/0000017b-a7dc-de4c...  \n4          energyintel  https://www.energyintel.com/0000017b-a7dc-de4c...  \n...                ...                                                ...  \n9588  solarindustrymag  https://solarindustrymag.com/strata-clean-ener...  \n9589  solarindustrymag  https://solarindustrymag.com/orsted-deploying-...  \n9590  solarindustrymag  https://solarindustrymag.com/veolia-has-plans-...  \n9591  solarindustrymag  http://www.solarindustrymag.com/online/issues/...  \n9592  solarindustrymag  https://solarindustrymag.com/vikings-solar-plu...  \n\n[9593 rows x 7 columns]",
      "text/html": "<div>\n<style scoped>\n    .dataframe tbody tr th:only-of-type {\n        vertical-align: middle;\n    }\n\n    .dataframe tbody tr th {\n        vertical-align: top;\n    }\n\n    .dataframe thead th {\n        text-align: right;\n    }\n</style>\n<table border=\"1\" class=\"dataframe\">\n  <thead>\n    <tr style=\"text-align: right;\">\n      <th></th>\n      <th>Unnamed: 0</th>\n      <th>title</th>\n      <th>date</th>\n      <th>author</th>\n      <th>content</th>\n      <th>domain</th>\n      <th>url</th>\n    </tr>\n  </thead>\n  <tbody>\n    <tr>\n      <th>0</th>\n      <td>1280</td>\n      <td>Qatar to Slash Emissions as LNG Expansion Adva...</td>\n      <td>2021-01-13</td>\n      <td>NaN</td>\n      <td>[\"Qatar Petroleum ( QP) is targeting aggressiv...</td>\n      <td>energyintel</td>\n      <td>https://www.energyintel.com/0000017b-a7dc-de4c...</td>\n    </tr>\n    <tr>\n      <th>1</th>\n      <td>1281</td>\n      <td>India Launches Its First 700 MW PHWR</td>\n      <td>2021-01-15</td>\n      <td>NaN</td>\n      <td>[\"• Nuclear Power Corp. of India Ltd. ( NPCIL)...</td>\n      <td>energyintel</td>\n      <td>https://www.energyintel.com/0000017b-a7dc-de4c...</td>\n    </tr>\n    <tr>\n      <th>2</th>\n      <td>1283</td>\n      <td>New Chapter for US-China Energy Trade</td>\n      <td>2021-01-20</td>\n      <td>NaN</td>\n      <td>[\"New US President Joe Biden took office this ...</td>\n      <td>energyintel</td>\n      <td>https://www.energyintel.com/0000017b-a7dc-de4c...</td>\n    </tr>\n    <tr>\n      <th>3</th>\n      <td>1284</td>\n      <td>Japan: Slow Restarts Cast Doubt on 2030 Energy...</td>\n      <td>2021-01-22</td>\n      <td>NaN</td>\n      <td>[\"The slow pace of Japanese reactor restarts c...</td>\n      <td>energyintel</td>\n      <td>https://www.energyintel.com/0000017b-a7dc-de4c...</td>\n    </tr>\n    <tr>\n      <th>4</th>\n      <td>1285</td>\n      <td>NYC Pension Funds to Divest Fossil Fuel Shares</td>\n      <td>2021-01-25</td>\n      <td>NaN</td>\n      <td>[\"Two of New York City's largest pension funds...</td>\n      <td>energyintel</td>\n      <td>https://www.energyintel.com/0000017b-a7dc-de4c...</td>\n    </tr>\n    <tr>\n      <th>...</th>\n      <td>...</td>\n      <td>...</td>\n      <td>...</td>\n      <td>...</td>\n      <td>...</td>\n      <td>...</td>\n      <td>...</td>\n    </tr>\n    <tr>\n      <th>9588</th>\n      <td>81812</td>\n      <td>Strata Clean Energy Nets $ 300 Million in Fund...</td>\n      <td>2023-11-06</td>\n      <td>NaN</td>\n      <td>['Strata Clean Energy has closed a $ 300 milli...</td>\n      <td>solarindustrymag</td>\n      <td>https://solarindustrymag.com/strata-clean-ener...</td>\n    </tr>\n    <tr>\n      <th>9589</th>\n      <td>81813</td>\n      <td>Orsted Deploying SparkCognition Renewable Suit...</td>\n      <td>2023-11-07</td>\n      <td>NaN</td>\n      <td>['Global renewable energy developer Ørsted is ...</td>\n      <td>solarindustrymag</td>\n      <td>https://solarindustrymag.com/orsted-deploying-...</td>\n    </tr>\n    <tr>\n      <th>9590</th>\n      <td>81814</td>\n      <td>Veolia Has Plans for 5 MW of Solar in Arkansas</td>\n      <td>2023-11-07</td>\n      <td>NaN</td>\n      <td>['Veolia North America, a provider of environm...</td>\n      <td>solarindustrymag</td>\n      <td>https://solarindustrymag.com/veolia-has-plans-...</td>\n    </tr>\n    <tr>\n      <th>9591</th>\n      <td>81815</td>\n      <td>SunEdison: Too Big, Too Fast?</td>\n      <td>2023-11-08</td>\n      <td>NaN</td>\n      <td>['Once the self-proclaimed “ leading renewable...</td>\n      <td>solarindustrymag</td>\n      <td>http://www.solarindustrymag.com/online/issues/...</td>\n    </tr>\n    <tr>\n      <th>9592</th>\n      <td>81816</td>\n      <td>Vikings Solar-Plus-Storage Development Nets Fi...</td>\n      <td>2023-11-08</td>\n      <td>NaN</td>\n      <td>['Arevon Energy Inc. has closed financing on t...</td>\n      <td>solarindustrymag</td>\n      <td>https://solarindustrymag.com/vikings-solar-plu...</td>\n    </tr>\n  </tbody>\n</table>\n<p>9593 rows × 7 columns</p>\n</div>"
     },
     "execution_count": 1,
     "metadata": {},
     "output_type": "execute_result"
    }
   ],
   "source": [
    "from langchain_openai import ChatOpenAI, OpenAIEmbeddings\n",
    "from langchain_community.vectorstores import Chroma\n",
    "import chromadb\n",
    "import pandas as pd\n",
    "\n",
    "from dotenv import load_dotenv\n",
    "load_dotenv()\n",
    "\n",
    "df = pd.read_csv('./data/Cleantech Media Dataset/cleantech_media_dataset_v2_2024-02-23.csv')\n",
    "df"
   ]
  },
  {
   "cell_type": "code",
   "outputs": [
    {
     "name": "stdout",
     "output_type": "stream",
     "text": [
      "page_content=': 1280\\ntitle: Qatar to Slash Emissions as LNG Expansion Advances\\ndate: 2021-01-13\\nauthor: \\ncontent: [\"Qatar Petroleum ( QP) is targeting aggressive cuts in its greenhouse gas emissions as it prepares to launch Phase 2 of its planned 48 million ton per year LNG expansion. In its latest Sustainability Report published on Wednesday, QP said its goals include `` reducing the emissions intensity of Qatar\\'s LNG facilities by 25% and of its upstream facilities by at least 15%. \\'\\' The company is also aiming to reduce gas flaring intensity across its upstream facilities by more than 75% and has raised its carbon capture and storage ambitions from 5 million tons/yr to 7 million tons/yr by 2027. About 2.2 million tons/yr of the carbon capture goal will come from the 32 million ton/yr Phase 1 of the LNG expansion, also known as the North Field East project. A further 1.1 million tons/yr will come from Phase 2, known as the North Field South project, which will raise Qatar\\'s LNG capacity by a further 16 million tons/yr. Qatar currently has an LNG production capacity of around 78 million tons/yr and is eyeing a phased expansion to 126 million tons/yr. QP says it should be able to eliminate routine gas flaring by 2030, with methane emissions limited `` by setting a methane intensity target of 0.2% across all facilities by 2025. \\'\\' The company also plans to build some 1.6 gigawatts of solar energy capacity by 2025, half of which should come from the Siraj solar power project next year ( EIF Jan.22\\'20). Until this month, there had been little news about Phase 2 of Qatar\\'s massive LNG expansion. But McDermott International said last week that it had been awarded the front-end engineering and design contract for five offshore wellhead platforms ( LNGI Jan.12\\'21). Bids for construction of all four trains for Phase 1 of the LNG expansion were submitted in September ( LNGI Sep.15\\'20). But QP judged them to be too expensive and none met its targeted 50-week construction schedule. Shortlisted contractors were asked to look for cost savings and submit new bids. The contract, which consultancy Rystad estimates to be worth around $ 35 billion, is expected to be awarded by Mar. 31. Shortly after the construction contract is awarded, QP is expected to select foreign investments partners to take stakes of up to 30% in the Phase 1 trains. Exxon Mobil, Royal Dutch Shell, Total, Chevron, ConocoPhillips and Eni have been shortlisted. QP has repeatedly said that it is prepared to proceed without international investment partners if it determines that the offers it receives are not sufficiently attractive. But the shortlisted companies are expected to bid aggressively for what is expected to be the world\\'s lowest-cost and most environmentally friendly LNG ( LNGI Nov.9\\'20). Rafiq Latta, Nicosia\"]\\ndomain: energyintel\\nurl: https://www.energyintel.com/0000017b-a7dc-de4c-a17b-e7de685b0000' metadata={'source': './data/Cleantech Media Dataset/cleantech_media_dataset_v2_2024-02-23.csv', 'row': 0}\n",
      "----------------------\n",
      "page_content=': 1280\\ntitle: Qatar to Slash Emissions as LNG Expansion Advances\\ndate: 2021-01-13\\nauthor: \\ncontent: [\"Qatar Petroleum ( QP) is targeting aggressive cuts in its greenhouse gas emissions as it prepares to launch Phase 2 of its planned 48 million ton per year LNG expansion. In its latest Sustainability Report published on Wednesday, QP said its goals include `` reducing the emissions intensity of Qatar\\'s LNG facilities by 25% and of its upstream facilities by at least 15%. \\'\\' The company is also aiming to reduce gas flaring intensity across its upstream facilities by more than 75% and has raised its carbon capture and storage ambitions from 5 million tons/yr to 7 million tons/yr by 2027. About 2.2 million tons/yr of the carbon capture goal will come from the 32 million ton/yr Phase 1 of the LNG expansion, also known as the North Field East project. A further 1.1 million tons/yr will come from Phase 2, known as the North Field South project, which will raise Qatar\\'s LNG capacity by a further 16 million tons/yr. Qatar currently has an LNG production capacity of around 78 million tons/yr and is eyeing a phased expansion to 126 million tons/yr. QP says it should be able to eliminate routine gas flaring by 2030, with methane emissions limited `` by setting a methane intensity target of 0.2% across all facilities by 2025. \\'\\' The company also plans to build some 1.6 gigawatts of solar energy capacity by 2025, half of which should come from the Siraj solar power project next year ( EIF Jan.22\\'20). Until this month, there had been little news about Phase 2 of Qatar\\'s massive LNG expansion. But McDermott International said last week that it had been awarded the front-end engineering and design contract for five offshore wellhead platforms ( LNGI Jan.12\\'21). Bids for construction of all four trains for Phase 1 of the LNG expansion were submitted in September ( LNGI Sep.15\\'20). But QP judged them to be too expensive and none met its targeted 50-week construction schedule. Shortlisted contractors were asked to look for cost savings and submit new bids. The contract, which consultancy Rystad estimates to be worth around $ 35 billion, is expected to be awarded by Mar. 31. Shortly after the construction contract is awarded, QP is expected to select foreign investments partners to take stakes of up to 30% in the Phase 1 trains. Exxon Mobil, Royal Dutch Shell, Total, Chevron, ConocoPhillips and Eni have been shortlisted. QP has repeatedly said that it is prepared to proceed without international investment partners if it determines that the offers it receives are not sufficiently attractive. But the shortlisted companies are expected to bid aggressively for what is expected to be the world\\'s lowest-cost and most environmentally friendly LNG ( LNGI Nov.9\\'20). Rafiq Latta, Nicosia\"]\\ndomain: energyintel\\nurl: https://www.energyintel.com/0000017b-a7dc-de4c-a17b-e7de685b0000' metadata={'source': './data/Cleantech Media Dataset/cleantech_media_dataset_v2_2024-02-23.csv', 'row': 0}\n"
     ]
    }
   ],
   "source": [
    "from langchain_community.document_loaders.csv_loader import CSVLoader\n",
    "from langchain.text_splitter import CharacterTextSplitter\n",
    "\n",
    "\n",
    "loader = CSVLoader(file_path='./data/Cleantech Media Dataset/cleantech_media_dataset_v2_2024-02-23.csv', csv_args={\n",
    "    'delimiter': ',',\n",
    "    #'fieldnames': ['content', 'url', 'title', 'date', 'author', 'domain']\n",
    "})\n",
    "\n",
    "raw_documents = loader.load()\n",
    "\n",
    "\n",
    "text_splitter = CharacterTextSplitter(chunk_size=100, chunk_overlap=0)\n",
    "documents = text_splitter.split_documents(raw_documents)\n",
    "\n",
    "print(raw_documents[0])\n",
    " \n",
    "print(\"----------------------\")\n",
    " \n",
    "print(documents[0])"
   ],
   "metadata": {
    "collapsed": false,
    "ExecuteTime": {
     "end_time": "2024-02-27T14:10:01.601328Z",
     "start_time": "2024-02-27T14:10:00.672823Z"
    }
   },
   "id": "e265f3a9a34011f9",
   "execution_count": 25
  },
  {
   "cell_type": "code",
   "outputs": [],
   "source": [
    "from langchain.text_splitter import CharacterTextSplitter\n",
    "\n",
    "text_splitter = CharacterTextSplitter(chunk_size=1000, chunk_overlap=0)\n",
    "documents = text_splitter.split_documents(df[\"content\"][:10])"
   ],
   "metadata": {
    "collapsed": false
   },
   "id": "5394e1abcc502fe1"
  },
  {
   "cell_type": "code",
   "outputs": [],
   "source": [
    "embeddings = OpenAIEmbeddings()\n",
    "\n",
    "chroma_client = chromadb.HttpClient(host='localhost', port=8000)\n",
    "chroma_client.reset()\n",
    "\n",
    "langchain_chroma = Chroma(\n",
    "    client=chroma_client,\n",
    "    collection_name=\"my_langchain_collection\",\n",
    "    embedding_function=embeddings,\n",
    ")\n",
    "\n",
    "chroma_retriever = langchain_chroma.as_retriever()\n",
    "\n",
    "langchain_chroma.add_documents(documents=documents)\n",
    "\n",
    "docs = langchain_chroma.similarity_search(\"third test\")\n",
    "print(docs[0])\n"
   ],
   "metadata": {
    "collapsed": false
   },
   "id": "c97846c14d184275"
  }
 ],
 "metadata": {
  "kernelspec": {
   "display_name": "Python 3",
   "language": "python",
   "name": "python3"
  },
  "language_info": {
   "codemirror_mode": {
    "name": "ipython",
    "version": 2
   },
   "file_extension": ".py",
   "mimetype": "text/x-python",
   "name": "python",
   "nbconvert_exporter": "python",
   "pygments_lexer": "ipython2",
   "version": "2.7.6"
  }
 },
 "nbformat": 4,
 "nbformat_minor": 5
}
